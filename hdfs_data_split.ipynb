{
 "cells": [
  {
   "cell_type": "code",
   "execution_count": 1,
   "metadata": {},
   "outputs": [],
   "source": [
    " %matplotlib inline\n",
    "import pandas as pd\n",
    "import numpy as np\n",
    "import nltk\n",
    "from nltk.corpus import stopwords\n",
    "import gensim\n",
    "from gensim.models import LdaModel\n",
    "from gensim import models, corpora, similarities\n",
    "import re\n",
    "import time\n",
    "from nltk import FreqDist\n",
    "from scipy.stats import entropy\n",
    "import matplotlib.pyplot as plt\n",
    "import seaborn as sns\n",
    "sns.set_style(\"darkgrid\")\n",
    "from pymongo import MongoClient\n",
    "from nltk.tokenize import word_tokenize\n",
    "import pickle\n",
    "import string\n",
    "from string import punctuation"
   ]
  },
  {
   "cell_type": "code",
   "execution_count": 2,
   "metadata": {},
   "outputs": [],
   "source": [
    " #Details for getting data from projectfinder\n",
    "db_loc = {\n",
    "    'ip' :'10.10.250.0',\n",
    "    'port' : 27017,\n",
    "    'database' : 'projectfinder',\n",
    "    'collection' : 'hdfs_2'\n",
    "}"
   ]
  },
  {
   "cell_type": "code",
   "execution_count": 3,
   "metadata": {},
   "outputs": [],
   "source": [
    "def load_dataset_from_momgodb(db_obj):\n",
    "    \n",
    "    \"\"\"\n",
    "    This method loads a dataset as a pandas dataframe from MongoDB \n",
    "    \n",
    "    Parameters:\n",
    "    @db_obj (dict): Storing the ip address, port number, database name and collection name for dataset to be loaded\n",
    "    \n",
    "    Returns:\n",
    "    panadas dataframe: Containing the loaded dataset\n",
    "    \"\"\"\n",
    "    \n",
    "    #Extracting the items from the inputted dictionary\n",
    "    dbname = db_obj['database']\n",
    "    ip = db_obj['ip']\n",
    "    port = db_obj['port']\n",
    "    collection = db_obj['collection']\n",
    "    \n",
    "    #Creating a connection to the database using MongoClient\n",
    "    connection = MongoClient(ip, port)\n",
    "    db = connection[dbname]\n",
    "    \n",
    "    #Excluding the fileds which are not needed in the dataframe \n",
    "    #Currenlty excluding the id associated with each document of the collection\n",
    "    \n",
    "    exclude_field = {'_id': False}\n",
    "    raw_dataset = list(db[collection].find({}, projection=exclude_field))\n",
    "    \n",
    "    dataset = pd.DataFrame(raw_dataset)\n",
    "    print(f'Data loaded from mongodb {collection} collection succesfully')\n",
    "    return dataset"
   ]
  },
  {
   "cell_type": "code",
   "execution_count": 7,
   "metadata": {},
   "outputs": [
    {
     "name": "stdout",
     "output_type": "stream",
     "text": [
      "Data loaded from mongodb hdfs_2 collection succesfully\n"
     ]
    },
    {
     "data": {
      "text/plain": [
       "(253221, 1)"
      ]
     },
     "execution_count": 7,
     "metadata": {},
     "output_type": "execute_result"
    }
   ],
   "source": [
    "df = load_dataset_from_momgodb(db_loc)\n",
    "df.shape"
   ]
  },
  {
   "cell_type": "code",
   "execution_count": 6,
   "metadata": {},
   "outputs": [],
   "source": [
    "#df.drop('description', axis=1, inplace=True)"
   ]
  },
  {
   "cell_type": "code",
   "execution_count": 23,
   "metadata": {},
   "outputs": [],
   "source": [
    "#df = df[df['ready'] != '']"
   ]
  },
  {
   "cell_type": "code",
   "execution_count": 24,
   "metadata": {},
   "outputs": [],
   "source": [
    "#df = df.drop_duplicates()"
   ]
  },
  {
   "cell_type": "code",
   "execution_count": 25,
   "metadata": {},
   "outputs": [
    {
     "data": {
      "text/plain": [
       "(253221, 1)"
      ]
     },
     "execution_count": 25,
     "metadata": {},
     "output_type": "execute_result"
    }
   ],
   "source": [
    "#df.shape"
   ]
  },
  {
   "cell_type": "code",
   "execution_count": 4,
   "metadata": {},
   "outputs": [],
   "source": [
    "db_data = {\n",
    "    'ip' :'10.10.250.0',\n",
    "    'port' : 27017,\n",
    "    'db' : 'projectfinder',\n",
    "    'coll' : 'hdfs_2'\n",
    "}"
   ]
  },
  {
   "cell_type": "code",
   "execution_count": 5,
   "metadata": {},
   "outputs": [],
   "source": [
    "def save_to_momgodb(df,db_):\n",
    "    data = df.to_dict(orient='records')\n",
    "    dbname = db_['db']\n",
    "    ip = db_['ip']\n",
    "    port = db_['port']\n",
    "    coll = db_['coll']\n",
    "    connection = MongoClient(ip,port)\n",
    "    db = connection[dbname]\n",
    "    col = db[coll].insert_many(data)\n",
    "    print(f'data saved as {coll}')"
   ]
  },
  {
   "cell_type": "code",
   "execution_count": 30,
   "metadata": {},
   "outputs": [
    {
     "name": "stdout",
     "output_type": "stream",
     "text": [
      "data saved as hdfs_2\n"
     ]
    }
   ],
   "source": [
    "save_to_momgodb(df, db_data)"
   ]
  },
  {
   "cell_type": "code",
   "execution_count": 7,
   "metadata": {},
   "outputs": [
    {
     "data": {
      "text/plain": [
       "(253221, 1)"
      ]
     },
     "execution_count": 7,
     "metadata": {},
     "output_type": "execute_result"
    }
   ],
   "source": [
    "df.shape"
   ]
  },
  {
   "cell_type": "code",
   "execution_count": 9,
   "metadata": {},
   "outputs": [
    {
     "data": {
      "text/html": [
       "<div>\n",
       "<style scoped>\n",
       "    .dataframe tbody tr th:only-of-type {\n",
       "        vertical-align: middle;\n",
       "    }\n",
       "\n",
       "    .dataframe tbody tr th {\n",
       "        vertical-align: top;\n",
       "    }\n",
       "\n",
       "    .dataframe thead th {\n",
       "        text-align: right;\n",
       "    }\n",
       "</style>\n",
       "<table border=\"1\" class=\"dataframe\">\n",
       "  <thead>\n",
       "    <tr style=\"text-align: right;\">\n",
       "      <th></th>\n",
       "      <th>ready</th>\n",
       "    </tr>\n",
       "  </thead>\n",
       "  <tbody>\n",
       "    <tr>\n",
       "      <th>0</th>\n",
       "      <td>Projekt in Köln: Cloud Architekt (m/w) gesucht...</td>\n",
       "    </tr>\n",
       "    <tr>\n",
       "      <th>1</th>\n",
       "      <td>Für unseren Kunden suchen wir asap einen Senio...</td>\n",
       "    </tr>\n",
       "    <tr>\n",
       "      <th>2</th>\n",
       "      <td>Für ein Teilzeitprojekt in Hamburg sucht unser...</td>\n",
       "    </tr>\n",
       "    <tr>\n",
       "      <th>3</th>\n",
       "      <td>Projektbeschreibung \\n\\n                      ...</td>\n",
       "    </tr>\n",
       "    <tr>\n",
       "      <th>4</th>\n",
       "      <td>Future Consulting GmbH \\r\\nentscheiden Sie sic...</td>\n",
       "    </tr>\n",
       "  </tbody>\n",
       "</table>\n",
       "</div>"
      ],
      "text/plain": [
       "                                               ready\n",
       "0  Projekt in Köln: Cloud Architekt (m/w) gesucht...\n",
       "1  Für unseren Kunden suchen wir asap einen Senio...\n",
       "2  Für ein Teilzeitprojekt in Hamburg sucht unser...\n",
       "3  Projektbeschreibung \\n\\n                      ...\n",
       "4  Future Consulting GmbH \\r\\nentscheiden Sie sic..."
      ]
     },
     "execution_count": 9,
     "metadata": {},
     "output_type": "execute_result"
    }
   ],
   "source": [
    "df.head()"
   ]
  },
  {
   "cell_type": "code",
   "execution_count": 10,
   "metadata": {},
   "outputs": [],
   "source": [
    "pickle_in = open('constants/stopwords.pickle',\"rb\")\n",
    "stopwords_all = pickle.load(pickle_in)"
   ]
  },
  {
   "cell_type": "code",
   "execution_count": 11,
   "metadata": {},
   "outputs": [
    {
     "data": {
      "text/plain": [
       "13242"
      ]
     },
     "execution_count": 11,
     "metadata": {},
     "output_type": "execute_result"
    }
   ],
   "source": [
    "len(stopwords_all)"
   ]
  },
  {
   "cell_type": "code",
   "execution_count": 12,
   "metadata": {},
   "outputs": [],
   "source": [
    "pickle_in = open('constants/stemmer_own.pickle',\"rb\")\n",
    "stemmer_own = pickle.load(pickle_in)"
   ]
  },
  {
   "cell_type": "code",
   "execution_count": 13,
   "metadata": {},
   "outputs": [
    {
     "data": {
      "text/plain": [
       "14"
      ]
     },
     "execution_count": 13,
     "metadata": {},
     "output_type": "execute_result"
    }
   ],
   "source": [
    "len(stemmer_own)"
   ]
  },
  {
   "cell_type": "code",
   "execution_count": 14,
   "metadata": {},
   "outputs": [
    {
     "data": {
      "text/plain": [
       "{'admin': 'admin',\n",
       " 'verwaltung': 'administration',\n",
       " 'architektur': 'architektur',\n",
       " 'agil': 'agile',\n",
       " 'app': 'application',\n",
       " 'anwend': 'application',\n",
       " 'automat': 'automate',\n",
       " 'consultant': 'berater',\n",
       " 'berat': 'berater',\n",
       " 'cisco': 'cisco',\n",
       " 'contin': 'continuous',\n",
       " 'schnittstell': 'interface',\n",
       " 'überwach': 'monitoring',\n",
       " 'mobil': 'mobil'}"
      ]
     },
     "execution_count": 14,
     "metadata": {},
     "output_type": "execute_result"
    }
   ],
   "source": [
    "stemmer_own"
   ]
  },
  {
   "cell_type": "code",
   "execution_count": 15,
   "metadata": {},
   "outputs": [],
   "source": [
    "#german cities\n",
    "from scripts_mod.bundeslander import Baden_Württemberg, Bayern, Berlin, Brandenburg, Bremen, Hamburg, Hessen, Mecklenburg_Vorpommern, Niedersachsen, Nordrhein_Westfalen, Rheinland_Pfalz, Saarland, Sachsen, Sachsen_Anhalt, Schleswig_Holstein, Thüringen, Ausland\n",
    "\n",
    "All = Baden_Württemberg + Bayern + Berlin + Brandenburg + Bremen +Hamburg + Hessen + Mecklenburg_Vorpommern + Niedersachsen + Nordrhein_Westfalen + Rheinland_Pfalz + Saarland + Sachsen + Sachsen_Anhalt + Schleswig_Holstein + Thüringen + Ausland\n",
    "cities = list(set([city.lower() for city in All]))"
   ]
  },
  {
   "cell_type": "code",
   "execution_count": 16,
   "metadata": {},
   "outputs": [
    {
     "name": "stdout",
     "output_type": "stream",
     "text": [
      "['januar', 'january', 'februar', 'february', 'märz', 'march', 'april', 'mai', 'may', 'juni', 'june', 'juli', 'july', 'august', 'september', 'oktober', 'october', 'november', 'dezember', 'december']\n"
     ]
    }
   ],
   "source": [
    "months = ['Januar', 'January','Februar', 'February', 'März', 'March', 'April', 'Mai', 'May', 'Juni', 'June', 'Juli', \n",
    "          'July', 'August', 'September', 'Oktober', 'October', 'November', 'Dezember', 'December']\n",
    "months = [month.lower() for month in months]\n",
    "print(months)"
   ]
  },
  {
   "cell_type": "code",
   "execution_count": 17,
   "metadata": {},
   "outputs": [
    {
     "data": {
      "text/plain": [
       "13242"
      ]
     },
     "execution_count": 17,
     "metadata": {},
     "output_type": "execute_result"
    }
   ],
   "source": [
    "stopwords_all = list(set(stopwords_all + cities + months))\n",
    "len(stopwords_all)"
   ]
  },
  {
   "cell_type": "code",
   "execution_count": 15,
   "metadata": {},
   "outputs": [],
   "source": [
    "a = df.values # Assuming you have two columns A and B\n",
    "#df['C'] = np.where(a[:,1]>5,a[:,0],0.1*a[:,0]*a[:,1])"
   ]
  },
  {
   "cell_type": "code",
   "execution_count": 17,
   "metadata": {},
   "outputs": [
    {
     "data": {
      "text/plain": [
       "array(['Projekt in Köln: Cloud Architekt (m/w) gesucht! \\r\\nMit meinem Kunden im öffentlichen Bereich suchen wir nach einem Cloud Architekten (m/w). \\r\\nIhre Kompetenzen: \\r\\n * ARIS und möglichst SPARX \\r\\n * Clou ...',\n",
       "       'Für unseren Kunden suchen wir asap einen Senior-Berater Einführung EWM (Fokus: Retail) (w/m) in Bornheim in der Pfalz. \\r\\nUnsere Projektnummer: 1-4691 \\r\\nProjektbeschreibung: \\r\\nFür unser agiles Proje ...',\n",
       "       'Für ein Teilzeitprojekt in Hamburg sucht unser Kunde Unterstützung von einem IT Manager (m/w) für die Handhabung von IDV gleichwertig zu IT-Applikationen, IT-Governance nach COBIT5, IT-Betrieb (Anpassungen an IT-Betriebsprozessen aufgrund BAIT, z.B. in Informationssicherheitsmanagement, Testmanagement, Benutzerberechtigungsmanagement), IT-Risikomanagement und Informationssicherheitsmanagement als auch Compliance. \\nRahmendaten \\n * Start: September 2017 \\n * Laufzeit: 31.05.2018 \\n * Einsatzort: Hamburg \\n * Auslastung: Teilzeit vor Ort \\n * Projektsprache: Deutsch auf Muttersprachenniveau \\nHabe ich Ihr Interesse als IT Manager (m/w) mit Knowhow in Compliance (m/w) geweckt? Dann schicken Sie mir bitte Ihr aktuelles Profil, Stundensatzvorstellung und Verfügbarkeit. \\nIch freue mich auf Ihre Rückmeldung!',\n",
       "       ...,\n",
       "       'Aktuell bieten wir in Zusammenarbeit mit unserem Auftraggeber (Ihr direkter Vertragspartner) eine Projektmöglichkeit im Großraum Stuttgart im Bereich der unabhängigen ERP Beratung. \\r \\r Die Aufgabe umfasst u. a. folgende Punkte:\\r - Verbesserungspotential in den IT-gestützten Geschäftsprozessen erkennen\\r - Softwareauswahl, Durchführung und Unterstützung des Kunden im Projektmanagement der Software-Einführung\\r - Soll-Prozesse beschreiben und ggf. modellieren\\r - Erstellung von Projekt-Ausschreibungen\\r - Unterstützung bei Qualitätssicherung, Projektorganisation und -controlling des Kunden\\r \\r Unser Auftraggeber, ein ERP-Beratungshaus aus Baden-Württemberg, betreut verschiedene Projekte bei Kunden aus der mittelständischen Fertigung, Gerätebau, Maschinenbau, technischer Großhandel und Prozessfertigung. Sie sollten daher über sehr gute Kenntnisse der Geschäftsprozesse in Fertigungs- und Handelsunternehmen und deren Unterstützung durch unternehmensweite ERP Business-Software verfügen.\\r \\r Hintergründe zum Projekt und Informationen zu Stundensatz, Auslastung, remote-Anteil, sowie eine schnelle und komfortable Bewerbungsmöglichkeit inkl. Datei-Upload finden Sie unter folgendem Link:\\r \\r https://fair-recruitment.de/projekte/grossraum-stuttgart-erp-beratung-2/\\r \\r OPENBOOK:\\r Unser separater Aufschlag für die Vermittlung liegt zwischen 5 € und 9 € der geleisteten Stunde, den wir separat mit unserem Auftraggeber abrechnen.\\r \\r #erp #beratung #softwareauswahl #implementierung #projektmanagement #geschäftsprozess #optimierung #sap #sme #msdynamics #nav #ax #sage #infor #proalpha #abas #business #software #crm #bi\\r \\r Wir sind gespannt auf Ihr Interesse!\\r \\r Viele Grüße \\r i. A. Sarah Ludwig\\r _____________________________________\\r Fair Recruitment GmbH\\r \\r \\r \\r \\r http://www.fair-recruitment.de\\r \\r Untere Hauptstr. 1\\r 85354 Freising\\r Registergericht München\\r Handelsregisternummer: HRB 200542\\r Geschäftsführer: Alexander Grossmann',\n",
       "       'Wir sind ein kleines Team mit diversen erfolgreichen Projekten. Wir wachsen sehr schnell und su-chen deswegen ab sofort am Standort Nürnberg für einen renommierten Kunden mehrere teamfä-hige, zuverlässige freiberufliche Tester für Protractor .\\r \\r Start: ab sofort\\r Dauer: bis zum Jahresende (mit Option auf Verlängerung) \\r Einsatzort: Nürnberg\\r Auslastung: Vollzeit \\r \\r Erforderliche Skills:\\r - Erfahrung mit JavaScript/TypeScript, Angular (2+), Node.js\\r - Sehr gute Kenntnisse in HTML5, CSS3\\r - Erfahrung mit Angular\\r - Protractor\\r - Karma\\r - Kenntnisse in Jasmine ist wünschenswert\\r - Gute Erfahrung in der Versionsverwaltung (Git, SVN)\\r - Gute Erfahrung mit Build- und Deploymentsystemen (Maven, Gradle und Jenkins) und CI/CD\\r \\r \\r Allgemein: \\r - Erfahrung mit agilen Methoden Scrum und Kanban\\r - Teamfähigkeit\\r - Qualitätsbewusst\\r \\r Sind Sie derzeit auf der Suche nach einem spannenden und anspruchsvollen Projekt? Dann freuen wir uns auf die Zusendung Ihres aktuellen Profils an',\n",
       "       'Tätigkeitenbeschreibung Wir suchen für unseren Kunden in Kerpen einen erfahrenen Network Engineer (m/w) für die Einsatzdauer von 6 Monaten.  Aufgaben: - Behebung von Bugs auf Grundlage von Tickets  - Erkennun und beseitigen von RSTP und DNS Problemen - Sicherstellung des bestehenden Netzwerks und deren Performance - Durchführen von Changes Anforderungen: MUST - Erfahrung in der Administration von großen Netzwerken und deren LAN-Protokolle  - Deutsch & Englisch NICE - JNCIP Zertifizierungen - Erfahrung mit DOCSIS - Erfahrung mit Optical Network - Erfahrung mit den Juniper-Serien EX, MX und ggf. PTX'],\n",
       "      dtype=object)"
      ]
     },
     "execution_count": 17,
     "metadata": {},
     "output_type": "execute_result"
    }
   ],
   "source": [
    "a[:,0]"
   ]
  },
  {
   "cell_type": "code",
   "execution_count": 18,
   "metadata": {},
   "outputs": [],
   "source": [
    "def text_processing(text):\n",
    "    \"\"\"Normalize, tokenize, stem the original text string\n",
    "    \n",
    "    Args:\n",
    "    text: string. String containing message for processing\n",
    "       \n",
    "    Returns:\n",
    "    cleaned: list of strings. List containing normalized and stemmed word tokens with bigrams\n",
    "    \"\"\"\n",
    "\n",
    "    try:\n",
    "        text = re.sub(r'(\\d)',' ',text.lower())\n",
    "        text = re.sub('[%s]' % re.escape(string.punctuation), ' ', text)\n",
    "        tokens = word_tokenize(text)\n",
    "        tokens_cleaned = [word for word in tokens if word not in stopwords_all and len(word) > 1]\n",
    "        \n",
    "        stemmed_tokens = []\n",
    "        stemmer_keys = list(stemmer_own.keys())\n",
    "        for word in tokens_cleaned:\n",
    "            for stemmer_key in stemmer_keys:\n",
    "                if stemmer_key in word:\n",
    "                    stemmed_word = stemmer_own[stemmer_key]\n",
    "                    stemmed_tokens.append(stemmed_word)\n",
    "                    break\n",
    "            else:\n",
    "                stemmed_tokens.append(word)\n",
    "  \n",
    "                \n",
    "\n",
    "    except IndexError:\n",
    "        pass\n",
    "\n",
    "    return stemmed_tokens"
   ]
  },
  {
   "cell_type": "code",
   "execution_count": 14,
   "metadata": {},
   "outputs": [
    {
     "name": "stdout",
     "output_type": "stream",
     "text": [
      "0.25.0\n"
     ]
    }
   ],
   "source": [
    "print(pd.__version__)"
   ]
  },
  {
   "cell_type": "code",
   "execution_count": 15,
   "metadata": {},
   "outputs": [
    {
     "data": {
      "text/plain": [
       "(253221, 1)"
      ]
     },
     "execution_count": 15,
     "metadata": {},
     "output_type": "execute_result"
    }
   ],
   "source": [
    "df.shape"
   ]
  },
  {
   "cell_type": "code",
   "execution_count": 48,
   "metadata": {},
   "outputs": [
    {
     "data": {
      "text/plain": [
       "(253221, 1)"
      ]
     },
     "execution_count": 48,
     "metadata": {},
     "output_type": "execute_result"
    }
   ],
   "source": [
    "df.shape"
   ]
  },
  {
   "cell_type": "code",
   "execution_count": 54,
   "metadata": {},
   "outputs": [
    {
     "data": {
      "text/plain": [
       "'P,r,o,j,e,k,t,b,e,s,c,h,r,e,i,b,u,n,g, ,\\n,\\n, , , , , , , , , , , , , , , , , , , , , , , , , , , , , ,\\n, , , , , , , , , , , , , , ,M,e,l,d,e,n, ,S,i,e, ,s,i,c,h, ,j,e,t,z,t, ,a,n, ,u,n,d, ,b,e,w,e,r,b,e,n, ,S,i,e, ,s,i,c,h, ,d,i,r,e,k,t,!, ,\\n, , , , , , , , , , , , , , ,J,e,t,z,t, ,b,e,w,e,r,b,e,n, ,\\n, , , , , , , , , ,\\n, , , , ,\\n,\\n, , , , , , , , , , , , , , , , , , , , , , , , , , , , , , , , ,F,ü,r, ,e,i,n,e,n, ,u,n,s,e,r,e,r, ,G,r,o,ß,k,u,n,d,e,n, ,s,u,c,h,e,n, ,w,i,r, ,d,e,r,z,e,i,t, ,e,i,n,e,n, ,f,r,e,i,b,e,r,u,f,l,i,c,h,e,n, ,M,i,t,a,r,b,e,i,t,e,r, ,o,d,e,r, ,e,i,n,e,n, ,M,i,t,a,r,b,e,i,t,e,r, ,z,u,r, ,F,e,s,t,a,n,s,t,e,l,l,u,n,g,,, ,d,e,r, ,d,i,e, ,n,a,c,h,f,o,l,g,e,n,d,e,n, ,A,n,f,o,r,d,e,r,u,n,g,e,n, ,e,r,f,ü,l,l,t,:, ,I,h,r,e, ,A,u,f,g,a,b,e,n,:, , ,S,t,ö,r,u,n,g,s,a,n,a,l,y,s,e, ,u,n,d, ,L,ö,s,u,n,g,s,e,n,t,w,i,c,k,l,u,n,g, ,i,n, ,e,i,n,e,m, ,k,o,m,p,l,e,x,e,n, ,I,T,-,U,m,f,e,l,d, ,V,e,r,g,a,b,e, ,v,o,n, ,B,e,r,e,c,h,t,i,g,u,n,g,e,n, ,i,n, ,A,c,t,i,v,e, ,D,i,r,e,c,t,o,r,y, ,S,o,f,t,w,a,r,e,z,u,w,e,i,s,u,n,g, ,v,i,a, ,S,C,C,M, ,G,e,w,ä,h,r,l,e,i,s,t,u,n,g, ,d,e,s, ,S,u,p,p,o,r,t,s, ,m,i,t, ,B,e,a,c,h,t,u,n,g, ,d,e,r, ,S,L,A,´,s, ,M,i,t,w,i,r,k,u,n,g, ,u,n,d, ,D,o,k,u,m,e,n,t,a,t,i,o,n, ,a,n, ,d,e,r, ,t,e,c,h,n,i,s,c,h,e,n, ,W,i,s,s,e,n,s,d,a,t,e,n,b,a,n,k, ,I,h,r, ,P,r,o,f,i,l,:, ,A,b,g,e,s,c,h,l,o,s,s,e,n,e, ,B,e,r,u,f,s,a,u,s,b,i,l,d,u,n,g, ,z,u,m, ,F,a,c,h,i,n,f,o,r,m,a,t,i,k,e,r, ,S,y,s,t,e,m,i,n,t,e,g,r,a,t,i,o,n, ,o,d,e,r, ,v,e,r,g,l,e,i,c,h,b,a,r,e, ,Q,u,a,l,i,f,i,k,a,t,i,o,n,e,n, ,G,u,t,e, ,K,e,n,n,t,n,i,s,s,e, ,i,m, ,W,i,n,d,o,w,s, ,7,/,1,0, ,u,n,d, ,B,a,c,k,O,f,f,i,c,e, ,B,e,r,e,i,c,h, ,(,A,c,t,i,v,e, ,D,i,r,e,c,t,o,r,y,), ,T,i,e,f,g,e,h,e,n,d,e, ,K,e,n,n,t,n,i,s,s,e, ,i,m, ,B,e,r,e,i,c,h, ,S,C,C,M, ,F,u,n,d,i,e,r,t,e, ,K,e,n,n,t,n,i,s,s,e, ,i,m, ,i,O,S, ,U,m,f,e,l,d, ,(,i,P,h,o,n,e, ,u,n,d, ,i,P,a,d, ,S,u,p,p,o,r,t,), ,F,ü,h,r,e,r,s,c,h,e,i,n, ,d,e,r, ,K,l,a,s,s,e, ,B, ,e,r,f,o,r,d,e,r,l,i,c,h, ,R,a,h,m,e,n,p,a,r,a,m,e,t,e,r,:, ,S,t,a,n,d,o,r,t,:, ,H,a,m,b,u,r,g, , ,L,a,u,f,z,e,i,t,:, ,a,s,a,p, ,-, ,u,n,b,e,f,r,i,s,t,e,t, ,W,i,c,h,t,i,g, ,f,ü,r, ,I,h,r,e, ,B,e,w,e,r,b,u,n,g,:, ,N,e,b,e,n, ,I,h,r,e,r, ,P,r,o,j,e,k,t,h,i,s,t,o,r,i,e,,, ,a,u,s, ,d,e,r, ,d,i,e, ,a,n,g,e,f,o,r,d,e,r,t,e,n, ,K,e,n,n,t,n,i,s,s,e, ,e,i,n,w,a,n,d,f,r,e,i, ,e,r,k,e,n,n,b,a,r, ,s,i,n,d,,, ,b,e,n,ö,t,i,g,e,n, ,w,i,r, ,e,i,n,e, ,a,u,s,s,a,g,e,k,r,ä,f,t,i,g,e, ,S,e,l,b,s,t,e,i,n,s,c,h,ä,t,z,u,n,g,,, ,a,u,s, ,d,e,r, ,s,c,h,n,e,l,l, ,e,r,s,i,c,h,t,l,i,c,h, ,w,i,r,d,,, ,d,a,s,s, ,S,i,e, ,d,e,r,/,d,i,e, ,g,e,e,i,g,n,e,t,e, ,K,a,n,d,i,d,a,t,(,i,n,), ,f,ü,r, ,d,i,e,s,e, ,P,o,s,i,t,i,o,n, ,s,i,n,d,., ,I,m, ,Z,u,g,e, ,u,n,s,e,r,e,r, ,i,n,t,e,n,s,i,v,e,n, ,Z,u,s,a,m,m,e,n,a,r,b,e,i,t, ,m,i,t, ,d,e,m, ,K,u,n,d,e,n, ,w,i,r,d, ,d,i,e,s,e, ,e,i,n,e,n, ,w,e,s,e,n,t,l,i,c,h,e,n, ,T,e,i,l, ,z,u,r, ,e,r,f,o,l,g,r,e,i,c,h,e,n, ,B,e,s,e,t,z,u,n,g, ,b,e,i,t,r,a,g,e,n,., , ,I,h,r,e, ,G,E,C,O,-,A,n,s,p,r,e,c,h,p,a,r,t,n,e,r,i,n, ,f,r,e,u,t, ,s,i,c,h, ,a,u,f, ,I,h,r,e, ,K,o,n,t,a,k,t,a,u,f,n,a,h,m,e, ,u,n,d, ,ü,b,e,r, ,d,i,e, ,Z,u,s,e,n,d,u,n,g, ,I,h,r,e,s, ,a,k,t,u,e,l,l,e,n, ,C,V,s, ,(,W,o,r,d,-,D,o,k,u,m,e,n,t,), ,i,n,k,l,., ,A,n,g,a,b,e, ,z,u,r, ,V,e,r,f,ü,g,b,a,r,k,e,i,t, ,s,o,w,i,e, ,I,h,r,e,s, ,S,t,u,n,d,e,n,s,a,t,z,e,s,:, ,K,e,r,s,t,i,n, ,H,a,m,e,s,t,e,r, ,W,e,i,t,e,r,e, ,s,p,a,n,n,e,n,d,e, ,P,o,s,i,t,i,o,n,e,n, ,f,i,n,d,e,n, ,S,i,e, ,u,n,t,e,r,:, ,h,t,t,p,s,:,/,/,w,w,w,.,g,e,c,o,-,g,r,o,u,p,.,c,o,m,/,i,t,-,s,p,e,c,i,a,l,i,s,t,s,/,j,o,b,s, ,S,t,a,r,t,:, ,a,s,a,p, ,D,a,u,e,r,:, ,l,a,n,g,f,r,i,s,t,i,g, ,A,r,t,:, ,C,o,n,t,r,a,c,t, ,\\n,\\n, , , , , , , , , , , , , , , , ,\\n, , , , , , , , , , , , , , , , , ,\\n, , , , , , , , , , , , , , , , , , , , , , , , , , , , , , , , , ,\\n, , , , , , , , , , , , , , ,M,e,l,d,e,n, ,S,i,e, ,s,i,c,h, ,j,e,t,z,t, ,a,n, ,u,n,d, ,b,e,w,e,r,b,e,n, ,S,i,e, ,s,i,c,h, ,d,i,r,e,k,t,!, ,\\n, , , , , , , , , , , , , , ,J,e,t,z,t, ,b,e,w,e,r,b,e,n'"
      ]
     },
     "execution_count": 54,
     "metadata": {},
     "output_type": "execute_result"
    }
   ],
   "source": [
    "df.ready[63301]"
   ]
  },
  {
   "cell_type": "code",
   "execution_count": 55,
   "metadata": {},
   "outputs": [
    {
     "data": {
      "text/plain": [
       "[                                                   ready\n",
       " 0      Projekt in Köln: Cloud Architekt (m/w) gesucht...\n",
       " 1      Für unseren Kunden suchen wir asap einen Senio...\n",
       " 2      Für ein Teilzeitprojekt in Hamburg sucht unser...\n",
       " 3      Projektbeschreibung \\n\\n                      ...\n",
       " 4      Future Consulting GmbH \\r\\nentscheiden Sie sic...\n",
       " ...                                                  ...\n",
       " 25318  Projektbeschreibung \\n\\n                      ...\n",
       " 25319  Für unseren Kunden aus dem Öffentlich-Rechtlic...\n",
       " 25320  Projektbeschreibung \\n\\n                      ...\n",
       " 25321  Eine der führenden deutschen Banken sucht für ...\n",
       " 25322  Projektbeschreibung \\n\\n                      ...\n",
       " \n",
       " [25323 rows x 1 columns],\n",
       "                                                    ready\n",
       " 25323  Für unseren Kunden, ein Unternehmen der Mobili...\n",
       " 25324  Projektbeschreibung \\n\\n                      ...\n",
       " 25325  Projektbeschreibung \\n\\n                      ...\n",
       " 25326  Für folgende Aufgabe suchen wir einen freiberu...\n",
       " 25327  Projektbeschreibung \\n\\n                      ...\n",
       " ...                                                  ...\n",
       " 50640  A,u,f,g,a,b,e,:, ,\\n,*, ,A,n,a,l,y,s,e, ,d,e,s...\n",
       " 50641  P,r,o,j,e,k,t,b,e,s,c,h,r,e,i,b,u,n,g, ,\\n,\\n,...\n",
       " 50642  A,u,f,g,a,b,e,:, ,\\n,*, ,E,n,t,w,i,c,k,e,l,n, ...\n",
       " 50643  A,u,f,g,a,b,e,:, ,\\n,*, ,F,E,M,-,B,e,r,e,c,h,n...\n",
       " 50644  P,r,o,j,e,k,t,b,e,s,c,h,r,e,i,b,u,n,g, ,\\n,\\n,...\n",
       " \n",
       " [25322 rows x 1 columns],\n",
       "                                                    ready\n",
       " 50645  A,u,f,g,a,b,e,:, ,\\n,*, ,K,o,n,s,t,r,u,k,t,i,o...\n",
       " 50646  A,u,f,g,a,b,e,:, ,\\n,*, ,S,t,r,o,m,l,a,u,f,p,l...\n",
       " 50647  P,r,o,j,e,k,t,b,e,s,c,h,r,e,i,b,u,n,g, ,\\n,\\n,...\n",
       " 50648  A,u,f,g,a,b,e,:, ,\\n,*, ,K,o,n,z,e,p,t,i,o,n, ...\n",
       " 50649  P,r,o,j,e,k,t,b,e,s,c,h,r,e,i,b,u,n,g, ,\\n,\\n,...\n",
       " ...                                                  ...\n",
       " 75962  F,r,e,i,b,e,r,u,f,l,i,c,h,e,r, ,T,e,s,t,e,r, ,...\n",
       " 75963  P,r,o,j,e,k,t,b,e,s,c,h,r,e,i,b,u,n,g, ,\\n,\\n,...\n",
       " 75964  F,ü,r, ,u,n,s,e,r,e,n, ,K,u,n,d,e,n, ,s,u,c,h,...\n",
       " 75965  P,r,o,j,e,k,t,b,e,s,c,h,r,e,i,b,u,n,g, ,\\n,\\n,...\n",
       " 75966  P,r,o,j,e,k,t,b,e,s,c,h,r,e,i,b,u,n,g, ,\\n,\\n,...\n",
       " \n",
       " [25322 rows x 1 columns],\n",
       "                                                     ready\n",
       " 75967   S,e,h,r, ,g,e,e,h,r,t,e, ,D,a,m,e,n, ,u,n,d, ,...\n",
       " 75968   P,r,o,j,e,k,t,b,e,s,c,h,r,e,i,b,u,n,g, ,\\n,\\n,...\n",
       " 75969   W,i,r, ,s,u,c,h,e,n, ,a,k,t,u,e,l,l, ,p,r,o,j,...\n",
       " 75970   P,r,o,j,e,k,t,b,e,s,c,h,r,e,i,b,u,n,g, ,\\n,\\n,...\n",
       " 75971   P,r,o,j,e,k,t,b,e,s,c,h,r,e,i,b,u,n,g, ,\\n,\\n,...\n",
       " ...                                                   ...\n",
       " 101284  P,r,o,j,e,k,t,b,e,s,c,h,r,e,i,b,u,n,g, ,\\n,\\n,...\n",
       " 101285  P,r,o,j,e,k,t,b,e,s,c,h,r,e,i,b,u,n,g, ,\\n,\\n,...\n",
       " 101286  P,r,o,j,e,k,t,b,e,s,c,h,r,e,i,b,u,n,g, ,\\n,\\n,...\n",
       " 101287  P,r,o,j,e,k,t,b,e,s,c,h,r,e,i,b,u,n,g, ,\\n,\\n,...\n",
       " 101288  P,r,o,j,e,k,t,b,e,s,c,h,r,e,i,b,u,n,g, ,\\n,\\n,...\n",
       " \n",
       " [25322 rows x 1 columns],\n",
       "                                                     ready\n",
       " 101289  P,r,o,j,e,k,t,b,e,s,c,h,r,e,i,b,u,n,g, ,\\n,\\n,...\n",
       " 101290  P,r,o,j,e,k,t,b,e,s,c,h,r,e,i,b,u,n,g, ,\\n,\\n,...\n",
       " 101291  P,r,o,j,e,k,t,b,e,s,c,h,r,e,i,b,u,n,g, ,\\n,\\n,...\n",
       " 101292  P,r,o,j,e,k,t,b,e,s,c,h,r,e,i,b,u,n,g, ,\\n,\\n,...\n",
       " 101293  P,r,o,j,e,k,t,b,e,s,c,h,r,e,i,b,u,n,g, ,\\n,\\n,...\n",
       " ...                                                   ...\n",
       " 126606  P,r,o,j,e,k,t,b,e,s,c,h,r,e,i,b,u,n,g, ,\\n,\\n,...\n",
       " 126607  P,r,o,j,e,k,t,b,e,s,c,h,r,e,i,b,u,n,g, ,\\n,\\n,...\n",
       " 126608  P,r,o,j,e,k,t,b,e,s,c,h,r,e,i,b,u,n,g, ,\\n,\\n,...\n",
       " 126609  P,r,o,j,e,k,t,b,e,s,c,h,r,e,i,b,u,n,g, ,\\n,\\n,...\n",
       " 126610  P,r,o,j,e,k,t,b,e,s,c,h,r,e,i,b,u,n,g, ,\\n,\\n,...\n",
       " \n",
       " [25322 rows x 1 columns],\n",
       "                                                     ready\n",
       " 126611  P,r,o,j,e,k,t,b,e,s,c,h,r,e,i,b,u,n,g, ,\\n,\\n,...\n",
       " 126612  P,r,o,j,e,k,t,b,e,s,c,h,r,e,i,b,u,n,g, ,\\n,\\n,...\n",
       " 126613  P,r,o,j,e,k,t,b,e,s,c,h,r,e,i,b,u,n,g, ,\\n,\\n,...\n",
       " 126614  P,r,o,j,e,k,t,b,e,s,c,h,r,e,i,b,u,n,g, ,\\n,\\n,...\n",
       " 126615  P,r,o,j,e,k,t,b,e,s,c,h,r,e,i,b,u,n,g, ,\\n,\\n,...\n",
       " ...                                                   ...\n",
       " 151928  I,h,r,e, ,A,u,f,g,a,b,e,n,:, ,\\n,R,e,s,p,o,n,s...\n",
       " 151929  P,r,o,j,e,k,t,b,e,s,c,h,r,e,i,b,u,n,g, ,\\n,\\n,...\n",
       " 151930  A,k,t,u,e,l,l, ,s,i,n,d, ,w,i,r, ,a,u,f, ,d,e,...\n",
       " 151931  P,r,o,j,e,k,t,b,e,s,c,h,r,e,i,b,u,n,g, ,\\n,\\n,...\n",
       " 151932  I,h,r,e, ,A,u,f,g,a,b,e,n,:, ,\\n,U,n,t,e,r,s,t...\n",
       " \n",
       " [25322 rows x 1 columns],\n",
       "                                                     ready\n",
       " 151933  I,h,r,e, ,A,u,f,g,a,b,e,n,:, ,\\n,S,A,P, ,H,A,N...\n",
       " 151934  P,r,o,j,e,k,t,b,e,s,c,h,r,e,i,b,u,n,g, ,\\n,\\n,...\n",
       " 151935  W,i,r, ,s,i,n,d, ,a,k,t,u,e,l,l, ,a,u,f, ,d,e,...\n",
       " 151936  P,r,o,j,e,k,t,b,e,s,c,h,r,e,i,b,u,n,g, ,\\n,\\n,...\n",
       " 151937  F,ü,r, ,u,n,s,e,r,e,n, ,K,u,n,d,e,n, ,i,m, ,G,...\n",
       " ...                                                   ...\n",
       " 177250  P,r,o,j,e,k,t,b,e,s,c,h,r,e,i,b,u,n,g, ,\\n,\\n,...\n",
       " 177251  P,r,o,j,e,k,t,b,e,s,c,h,r,e,i,b,u,n,g, ,\\n,\\n,...\n",
       " 177252  P,r,o,j,e,k,t,b,e,s,c,h,r,e,i,b,u,n,g, ,\\n,\\n,...\n",
       " 177253  P,r,o,j,e,k,t,b,e,s,c,h,r,e,i,b,u,n,g, ,\\n,\\n,...\n",
       " 177254  P,r,o,j,e,k,t,b,e,s,c,h,r,e,i,b,u,n,g, ,\\n,\\n,...\n",
       " \n",
       " [25322 rows x 1 columns],\n",
       "                                                     ready\n",
       " 177255  P,r,o,j,e,k,t,b,e,s,c,h,r,e,i,b,u,n,g, ,\\n,\\n,...\n",
       " 177256  P,r,o,j,e,k,t,b,e,s,c,h,r,e,i,b,u,n,g, ,\\n,\\n,...\n",
       " 177257  P,r,o,j,e,k,t,b,e,s,c,h,r,e,i,b,u,n,g, ,\\n,\\n,...\n",
       " 177258  P,r,o,j,e,k,t,b,e,s,c,h,r,e,i,b,u,n,g, ,\\n,\\n,...\n",
       " 177259  P,r,o,j,e,k,t,b,e,s,c,h,r,e,i,b,u,n,g, ,\\n,\\n,...\n",
       " ...                                                   ...\n",
       " 202572  Projektbeschreibung \\n\\n                      ...\n",
       " 202573  Thema: SAP C4C Consultant (kein Entwickler)  \\...\n",
       " 202574  Projektbeschreibung \\n\\n                      ...\n",
       " 202575  Wir suchen für einen laufenden Betrieb langfri...\n",
       " 202576  Projektbeschreibung \\n\\n                      ...\n",
       " \n",
       " [25322 rows x 1 columns],\n",
       "                                                     ready\n",
       " 202577  Projektbeschreibung \\n\\n                    \\n...\n",
       " 202578  Projektbeschreibung \\n\\n                      ...\n",
       " 202579  Projektbeschreibung \\n\\n                      ...\n",
       " 202580  Embedded Entwickler (m/w/d) \\n \\nIhre Aufgaben...\n",
       " 202581  Projektbeschreibung \\n\\n                      ...\n",
       " ...                                                   ...\n",
       " 227894  Projektbeschreibung \\n\\n                    \\n...\n",
       " 227895  Projektbeschreibung \\n\\n                    \\n...\n",
       " 227896  Projektbeschreibung \\n\\n                    \\n...\n",
       " 227897  Projektbeschreibung \\n\\n                    \\n...\n",
       " 227898  Projektbeschreibung \\n\\n                    \\n...\n",
       " \n",
       " [25322 rows x 1 columns],\n",
       "                                                     ready\n",
       " 227899  Projektbeschreibung \\n\\n                    \\n...\n",
       " 227900  Projektbeschreibung \\n\\n                    \\n...\n",
       " 227901  Projektbeschreibung \\n\\n                    \\n...\n",
       " 227902  Projektbeschreibung \\n\\n                    \\n...\n",
       " 227903  Projektbeschreibung \\n\\n                    \\n...\n",
       " ...                                                   ...\n",
       " 253216  For a contracting project in Berlin, our clien...\n",
       " 253217  Für unseren Kunden suchen wir einen 1st Level ...\n",
       " 253218  Aktuell bieten wir in Zusammenarbeit mit unser...\n",
       " 253219  Wir sind ein kleines Team mit diversen erfolgr...\n",
       " 253220  Tätigkeitenbeschreibung Wir suchen für unseren...\n",
       " \n",
       " [25322 rows x 1 columns]]"
      ]
     },
     "execution_count": 55,
     "metadata": {},
     "output_type": "execute_result"
    }
   ],
   "source": [
    "np.array_split(df, 10)"
   ]
  },
  {
   "cell_type": "code",
   "execution_count": 56,
   "metadata": {},
   "outputs": [
    {
     "data": {
      "text/plain": [
       "(126620,)"
      ]
     },
     "execution_count": 56,
     "metadata": {},
     "output_type": "execute_result"
    }
   ],
   "source": [
    "\n",
    "df2 = df.ready[50640 : 177260]\n",
    "df2.shape"
   ]
  },
  {
   "cell_type": "code",
   "execution_count": 57,
   "metadata": {},
   "outputs": [
    {
     "data": {
      "text/plain": [
       "50640    A,u,f,g,a,b,e,:, ,\\n,*, ,A,n,a,l,y,s,e, ,d,e,s...\n",
       "50641    P,r,o,j,e,k,t,b,e,s,c,h,r,e,i,b,u,n,g, ,\\n,\\n,...\n",
       "50642    A,u,f,g,a,b,e,:, ,\\n,*, ,E,n,t,w,i,c,k,e,l,n, ...\n",
       "50643    A,u,f,g,a,b,e,:, ,\\n,*, ,F,E,M,-,B,e,r,e,c,h,n...\n",
       "50644    P,r,o,j,e,k,t,b,e,s,c,h,r,e,i,b,u,n,g, ,\\n,\\n,...\n",
       "Name: ready, dtype: object"
      ]
     },
     "execution_count": 57,
     "metadata": {},
     "output_type": "execute_result"
    }
   ],
   "source": [
    "df2.head()"
   ]
  },
  {
   "cell_type": "code",
   "execution_count": 19,
   "metadata": {},
   "outputs": [
    {
     "data": {
      "text/plain": [
       "(126601, 1)"
      ]
     },
     "execution_count": 19,
     "metadata": {},
     "output_type": "execute_result"
    }
   ],
   "source": [
    "indexes_to_drop = range(50640,177260)\n",
    "indexes_to_keep = set(range(df.shape[0])) - set(indexes_to_drop)\n",
    "df_sliced = df.take(list(indexes_to_keep))\n",
    "df_sliced.shape"
   ]
  },
  {
   "cell_type": "code",
   "execution_count": 20,
   "metadata": {},
   "outputs": [
    {
     "data": {
      "text/html": [
       "<div>\n",
       "<style scoped>\n",
       "    .dataframe tbody tr th:only-of-type {\n",
       "        vertical-align: middle;\n",
       "    }\n",
       "\n",
       "    .dataframe tbody tr th {\n",
       "        vertical-align: top;\n",
       "    }\n",
       "\n",
       "    .dataframe thead th {\n",
       "        text-align: right;\n",
       "    }\n",
       "</style>\n",
       "<table border=\"1\" class=\"dataframe\">\n",
       "  <thead>\n",
       "    <tr style=\"text-align: right;\">\n",
       "      <th></th>\n",
       "      <th>ready</th>\n",
       "    </tr>\n",
       "  </thead>\n",
       "  <tbody>\n",
       "    <tr>\n",
       "      <th>0</th>\n",
       "      <td>Projekt in Köln: Cloud Architekt (m/w) gesucht...</td>\n",
       "    </tr>\n",
       "    <tr>\n",
       "      <th>1</th>\n",
       "      <td>Für unseren Kunden suchen wir asap einen Senio...</td>\n",
       "    </tr>\n",
       "    <tr>\n",
       "      <th>2</th>\n",
       "      <td>Für ein Teilzeitprojekt in Hamburg sucht unser...</td>\n",
       "    </tr>\n",
       "    <tr>\n",
       "      <th>3</th>\n",
       "      <td>Projektbeschreibung \\n\\n                      ...</td>\n",
       "    </tr>\n",
       "    <tr>\n",
       "      <th>4</th>\n",
       "      <td>Future Consulting GmbH \\r\\nentscheiden Sie sic...</td>\n",
       "    </tr>\n",
       "  </tbody>\n",
       "</table>\n",
       "</div>"
      ],
      "text/plain": [
       "                                               ready\n",
       "0  Projekt in Köln: Cloud Architekt (m/w) gesucht...\n",
       "1  Für unseren Kunden suchen wir asap einen Senio...\n",
       "2  Für ein Teilzeitprojekt in Hamburg sucht unser...\n",
       "3  Projektbeschreibung \\n\\n                      ...\n",
       "4  Future Consulting GmbH \\r\\nentscheiden Sie sic..."
      ]
     },
     "execution_count": 20,
     "metadata": {},
     "output_type": "execute_result"
    }
   ],
   "source": [
    "df_sliced.head()"
   ]
  },
  {
   "cell_type": "code",
   "execution_count": 24,
   "metadata": {},
   "outputs": [
    {
     "data": {
      "text/plain": [
       "10"
      ]
     },
     "execution_count": 24,
     "metadata": {},
     "output_type": "execute_result"
    }
   ],
   "source": []
  },
  {
   "cell_type": "code",
   "execution_count": 21,
   "metadata": {},
   "outputs": [],
   "source": [
    "def split_data(df, n):\n",
    "    data = np.array_split(df, n)\n",
    "    return data\n",
    "        "
   ]
  },
  {
   "cell_type": "code",
   "execution_count": 22,
   "metadata": {},
   "outputs": [],
   "source": [
    "data = split_data(df_sliced, 5)"
   ]
  },
  {
   "cell_type": "code",
   "execution_count": 23,
   "metadata": {},
   "outputs": [
    {
     "data": {
      "text/plain": [
       "5"
      ]
     },
     "execution_count": 23,
     "metadata": {},
     "output_type": "execute_result"
    }
   ],
   "source": [
    "len(data)"
   ]
  },
  {
   "cell_type": "code",
   "execution_count": 24,
   "metadata": {},
   "outputs": [],
   "source": [
    "#df1 = data[0]\n",
    "#df2 = data[1]\n",
    "#df3 = data[2] bad data\n",
    "df4 = data[3]\n",
    "df5 = data[4]"
   ]
  },
  {
   "cell_type": "code",
   "execution_count": 25,
   "metadata": {},
   "outputs": [
    {
     "data": {
      "text/plain": [
       "(25320, 1)"
      ]
     },
     "execution_count": 25,
     "metadata": {},
     "output_type": "execute_result"
    }
   ],
   "source": [
    "#all_df = df1 + df2 + df3 + df4 + df5\n",
    "df3.shape"
   ]
  },
  {
   "cell_type": "code",
   "execution_count": 37,
   "metadata": {},
   "outputs": [
    {
     "data": {
      "text/html": [
       "<div>\n",
       "<style scoped>\n",
       "    .dataframe tbody tr th:only-of-type {\n",
       "        vertical-align: middle;\n",
       "    }\n",
       "\n",
       "    .dataframe tbody tr th {\n",
       "        vertical-align: top;\n",
       "    }\n",
       "\n",
       "    .dataframe thead th {\n",
       "        text-align: right;\n",
       "    }\n",
       "</style>\n",
       "<table border=\"1\" class=\"dataframe\">\n",
       "  <thead>\n",
       "    <tr style=\"text-align: right;\">\n",
       "      <th></th>\n",
       "      <th>ready</th>\n",
       "    </tr>\n",
       "  </thead>\n",
       "  <tbody>\n",
       "    <tr>\n",
       "      <th>227901</th>\n",
       "      <td>Projektbeschreibung \\n\\n                    \\n...</td>\n",
       "    </tr>\n",
       "    <tr>\n",
       "      <th>227902</th>\n",
       "      <td>Projektbeschreibung \\n\\n                    \\n...</td>\n",
       "    </tr>\n",
       "    <tr>\n",
       "      <th>227903</th>\n",
       "      <td>Projektbeschreibung \\n\\n                    \\n...</td>\n",
       "    </tr>\n",
       "    <tr>\n",
       "      <th>227904</th>\n",
       "      <td>Projektbeschreibung \\n\\n                    \\n...</td>\n",
       "    </tr>\n",
       "    <tr>\n",
       "      <th>227905</th>\n",
       "      <td>Projektbeschreibung \\n\\n                    \\n...</td>\n",
       "    </tr>\n",
       "    <tr>\n",
       "      <th>227906</th>\n",
       "      <td>Projektbeschreibung \\n\\n                    \\n...</td>\n",
       "    </tr>\n",
       "    <tr>\n",
       "      <th>227907</th>\n",
       "      <td>Projektbeschreibung \\n\\n                    \\n...</td>\n",
       "    </tr>\n",
       "    <tr>\n",
       "      <th>227908</th>\n",
       "      <td>Projektbeschreibung \\n\\n                    \\n...</td>\n",
       "    </tr>\n",
       "    <tr>\n",
       "      <th>227909</th>\n",
       "      <td>Projektbeschreibung \\n\\n                    \\n...</td>\n",
       "    </tr>\n",
       "    <tr>\n",
       "      <th>227910</th>\n",
       "      <td>Projektbeschreibung \\n\\n                    \\n...</td>\n",
       "    </tr>\n",
       "    <tr>\n",
       "      <th>227911</th>\n",
       "      <td>Projektbeschreibung \\n\\n                    \\n...</td>\n",
       "    </tr>\n",
       "    <tr>\n",
       "      <th>227912</th>\n",
       "      <td>Projektbeschreibung \\n\\n                    \\n...</td>\n",
       "    </tr>\n",
       "    <tr>\n",
       "      <th>227913</th>\n",
       "      <td>Projektbeschreibung \\n\\n                    \\n...</td>\n",
       "    </tr>\n",
       "    <tr>\n",
       "      <th>227914</th>\n",
       "      <td>Projektbeschreibung \\n\\n                    \\n...</td>\n",
       "    </tr>\n",
       "    <tr>\n",
       "      <th>227915</th>\n",
       "      <td>Projektbeschreibung \\n\\n                    \\n...</td>\n",
       "    </tr>\n",
       "    <tr>\n",
       "      <th>227916</th>\n",
       "      <td>Projektbeschreibung \\n\\n                    \\n...</td>\n",
       "    </tr>\n",
       "    <tr>\n",
       "      <th>227917</th>\n",
       "      <td>Projektbeschreibung \\n\\n                    \\n...</td>\n",
       "    </tr>\n",
       "    <tr>\n",
       "      <th>227918</th>\n",
       "      <td>Projektbeschreibung \\n\\n                    \\n...</td>\n",
       "    </tr>\n",
       "    <tr>\n",
       "      <th>227919</th>\n",
       "      <td>Projektbeschreibung \\n\\n                    \\n...</td>\n",
       "    </tr>\n",
       "    <tr>\n",
       "      <th>227920</th>\n",
       "      <td>Projektbeschreibung \\n\\n                    \\n...</td>\n",
       "    </tr>\n",
       "    <tr>\n",
       "      <th>227921</th>\n",
       "      <td>Projektbeschreibung \\n\\n                    \\n...</td>\n",
       "    </tr>\n",
       "    <tr>\n",
       "      <th>227922</th>\n",
       "      <td>Projektbeschreibung \\n\\n                    \\n...</td>\n",
       "    </tr>\n",
       "    <tr>\n",
       "      <th>227923</th>\n",
       "      <td>Projektbeschreibung \\n\\n                    \\n...</td>\n",
       "    </tr>\n",
       "    <tr>\n",
       "      <th>227924</th>\n",
       "      <td>Projektbeschreibung \\n\\n                    \\n...</td>\n",
       "    </tr>\n",
       "    <tr>\n",
       "      <th>227925</th>\n",
       "      <td>Projektbeschreibung \\n\\n                    \\n...</td>\n",
       "    </tr>\n",
       "    <tr>\n",
       "      <th>227926</th>\n",
       "      <td>Projektbeschreibung \\n\\n                    \\n...</td>\n",
       "    </tr>\n",
       "    <tr>\n",
       "      <th>227927</th>\n",
       "      <td>Projektbeschreibung \\n\\n                    \\n...</td>\n",
       "    </tr>\n",
       "    <tr>\n",
       "      <th>227928</th>\n",
       "      <td>Projektbeschreibung \\n\\n                    \\n...</td>\n",
       "    </tr>\n",
       "    <tr>\n",
       "      <th>227929</th>\n",
       "      <td>Projektbeschreibung \\n\\n                    \\n...</td>\n",
       "    </tr>\n",
       "    <tr>\n",
       "      <th>227930</th>\n",
       "      <td>Projektbeschreibung \\n\\n                    \\n...</td>\n",
       "    </tr>\n",
       "    <tr>\n",
       "      <th>...</th>\n",
       "      <td>...</td>\n",
       "    </tr>\n",
       "    <tr>\n",
       "      <th>227971</th>\n",
       "      <td>Projektbeschreibung \\n\\n                    \\n...</td>\n",
       "    </tr>\n",
       "    <tr>\n",
       "      <th>227972</th>\n",
       "      <td>Projektbeschreibung \\n\\n                    \\n...</td>\n",
       "    </tr>\n",
       "    <tr>\n",
       "      <th>227973</th>\n",
       "      <td>Projektbeschreibung \\n\\n                    \\n...</td>\n",
       "    </tr>\n",
       "    <tr>\n",
       "      <th>227974</th>\n",
       "      <td>Projektbeschreibung \\n\\n                    \\n...</td>\n",
       "    </tr>\n",
       "    <tr>\n",
       "      <th>227975</th>\n",
       "      <td>Projektbeschreibung \\n\\n                    \\n...</td>\n",
       "    </tr>\n",
       "    <tr>\n",
       "      <th>227976</th>\n",
       "      <td>Projektbeschreibung \\n\\n                    \\n...</td>\n",
       "    </tr>\n",
       "    <tr>\n",
       "      <th>227977</th>\n",
       "      <td>Projektbeschreibung \\n\\n                    \\n...</td>\n",
       "    </tr>\n",
       "    <tr>\n",
       "      <th>227978</th>\n",
       "      <td>Projektbeschreibung \\n\\n                    \\n...</td>\n",
       "    </tr>\n",
       "    <tr>\n",
       "      <th>227979</th>\n",
       "      <td>Projektbeschreibung \\n\\n                    \\n...</td>\n",
       "    </tr>\n",
       "    <tr>\n",
       "      <th>227980</th>\n",
       "      <td>Projektbeschreibung \\n\\n                    \\n...</td>\n",
       "    </tr>\n",
       "    <tr>\n",
       "      <th>227981</th>\n",
       "      <td>Projektbeschreibung \\n\\n                    \\n...</td>\n",
       "    </tr>\n",
       "    <tr>\n",
       "      <th>227982</th>\n",
       "      <td>Projektbeschreibung \\n\\n                    \\n...</td>\n",
       "    </tr>\n",
       "    <tr>\n",
       "      <th>227983</th>\n",
       "      <td>Projektbeschreibung \\n\\n                    \\n...</td>\n",
       "    </tr>\n",
       "    <tr>\n",
       "      <th>227984</th>\n",
       "      <td>Projektbeschreibung \\n\\n                    \\n...</td>\n",
       "    </tr>\n",
       "    <tr>\n",
       "      <th>227985</th>\n",
       "      <td>Projektbeschreibung \\n\\n                    \\n...</td>\n",
       "    </tr>\n",
       "    <tr>\n",
       "      <th>227986</th>\n",
       "      <td>Projektbeschreibung \\n\\n                    \\n...</td>\n",
       "    </tr>\n",
       "    <tr>\n",
       "      <th>227987</th>\n",
       "      <td>Projektbeschreibung \\n\\n                    \\n...</td>\n",
       "    </tr>\n",
       "    <tr>\n",
       "      <th>227988</th>\n",
       "      <td>Projektbeschreibung \\n\\n                    \\n...</td>\n",
       "    </tr>\n",
       "    <tr>\n",
       "      <th>227989</th>\n",
       "      <td>Projektbeschreibung \\n\\n                    \\n...</td>\n",
       "    </tr>\n",
       "    <tr>\n",
       "      <th>227990</th>\n",
       "      <td>Projektbeschreibung \\n\\n                    \\n...</td>\n",
       "    </tr>\n",
       "    <tr>\n",
       "      <th>227991</th>\n",
       "      <td>Projektbeschreibung \\n\\n                    \\n...</td>\n",
       "    </tr>\n",
       "    <tr>\n",
       "      <th>227992</th>\n",
       "      <td>Projektbeschreibung \\n\\n                    \\n...</td>\n",
       "    </tr>\n",
       "    <tr>\n",
       "      <th>227993</th>\n",
       "      <td>Projektbeschreibung \\n\\n                    \\n...</td>\n",
       "    </tr>\n",
       "    <tr>\n",
       "      <th>227994</th>\n",
       "      <td>Projektbeschreibung \\n\\n                    \\n...</td>\n",
       "    </tr>\n",
       "    <tr>\n",
       "      <th>227995</th>\n",
       "      <td>Projektbeschreibung \\n\\n                    \\n...</td>\n",
       "    </tr>\n",
       "    <tr>\n",
       "      <th>227996</th>\n",
       "      <td>Projektbeschreibung \\n\\n                    \\n...</td>\n",
       "    </tr>\n",
       "    <tr>\n",
       "      <th>227997</th>\n",
       "      <td>Projektbeschreibung \\n\\n                    \\n...</td>\n",
       "    </tr>\n",
       "    <tr>\n",
       "      <th>227998</th>\n",
       "      <td>Projektbeschreibung \\n\\n                    \\n...</td>\n",
       "    </tr>\n",
       "    <tr>\n",
       "      <th>227999</th>\n",
       "      <td>Projektbeschreibung \\n\\n                    \\n...</td>\n",
       "    </tr>\n",
       "    <tr>\n",
       "      <th>228000</th>\n",
       "      <td>Projektbeschreibung \\n\\n                    \\n...</td>\n",
       "    </tr>\n",
       "  </tbody>\n",
       "</table>\n",
       "<p>100 rows × 1 columns</p>\n",
       "</div>"
      ],
      "text/plain": [
       "                                                    ready\n",
       "227901  Projektbeschreibung \\n\\n                    \\n...\n",
       "227902  Projektbeschreibung \\n\\n                    \\n...\n",
       "227903  Projektbeschreibung \\n\\n                    \\n...\n",
       "227904  Projektbeschreibung \\n\\n                    \\n...\n",
       "227905  Projektbeschreibung \\n\\n                    \\n...\n",
       "...                                                   ...\n",
       "227996  Projektbeschreibung \\n\\n                    \\n...\n",
       "227997  Projektbeschreibung \\n\\n                    \\n...\n",
       "227998  Projektbeschreibung \\n\\n                    \\n...\n",
       "227999  Projektbeschreibung \\n\\n                    \\n...\n",
       "228000  Projektbeschreibung \\n\\n                    \\n...\n",
       "\n",
       "[100 rows x 1 columns]"
      ]
     },
     "execution_count": 37,
     "metadata": {},
     "output_type": "execute_result"
    }
   ],
   "source": [
    "df5.head(100)"
   ]
  },
  {
   "cell_type": "code",
   "execution_count": 38,
   "metadata": {},
   "outputs": [],
   "source": [
    "# Clean text and title and create new column \"tokenized\"\n",
    "t1 = time.time()\n",
    "df5['token_stem_spRm'] = df5['ready'].apply(text_processing)\n",
    "t2 = time.time()"
   ]
  },
  {
   "cell_type": "code",
   "execution_count": 39,
   "metadata": {},
   "outputs": [
    {
     "name": "stdout",
     "output_type": "stream",
     "text": [
      "Time taken to prepare 25320 projects documents: 16.882160449028014 min\n"
     ]
    }
   ],
   "source": [
    "print(\"Time taken to prepare\", len(df5), \"projects documents:\", (t2-t1)/60, \"min\")"
   ]
  },
  {
   "cell_type": "code",
   "execution_count": 35,
   "metadata": {},
   "outputs": [
    {
     "data": {
      "text/html": [
       "<div>\n",
       "<style scoped>\n",
       "    .dataframe tbody tr th:only-of-type {\n",
       "        vertical-align: middle;\n",
       "    }\n",
       "\n",
       "    .dataframe tbody tr th {\n",
       "        vertical-align: top;\n",
       "    }\n",
       "\n",
       "    .dataframe thead th {\n",
       "        text-align: right;\n",
       "    }\n",
       "</style>\n",
       "<table border=\"1\" class=\"dataframe\">\n",
       "  <thead>\n",
       "    <tr style=\"text-align: right;\">\n",
       "      <th></th>\n",
       "      <th>ready</th>\n",
       "      <th>token_stem_spRm</th>\n",
       "    </tr>\n",
       "  </thead>\n",
       "  <tbody>\n",
       "    <tr>\n",
       "      <th>202581</th>\n",
       "      <td>Projektbeschreibung \\n\\n                      ...</td>\n",
       "      <td>[base, sas, advanced, sas, sas, macros, autoca...</td>\n",
       "    </tr>\n",
       "    <tr>\n",
       "      <th>202582</th>\n",
       "      <td>Dear Network, \\n \\nI'm currently looking for a...</td>\n",
       "      <td>[dear, network, test, engineer, project, semic...</td>\n",
       "    </tr>\n",
       "    <tr>\n",
       "      <th>202583</th>\n",
       "      <td>Projektbeschreibung \\n\\n                      ...</td>\n",
       "      <td>[business, innovativer, google, reseller, dien...</td>\n",
       "    </tr>\n",
       "    <tr>\n",
       "      <th>202584</th>\n",
       "      <td>Für unseren Kunden, ein führendes Unternehmen ...</td>\n",
       "      <td>[führendes, finanzdienstleistungssektor, softw...</td>\n",
       "    </tr>\n",
       "    <tr>\n",
       "      <th>202585</th>\n",
       "      <td>Projektbeschreibung \\n\\n                    \\n...</td>\n",
       "      <td>[projekt, offsite, sprachanforderung, developm...</td>\n",
       "    </tr>\n",
       "  </tbody>\n",
       "</table>\n",
       "</div>"
      ],
      "text/plain": [
       "                                                    ready  \\\n",
       "202581  Projektbeschreibung \\n\\n                      ...   \n",
       "202582  Dear Network, \\n \\nI'm currently looking for a...   \n",
       "202583  Projektbeschreibung \\n\\n                      ...   \n",
       "202584  Für unseren Kunden, ein führendes Unternehmen ...   \n",
       "202585  Projektbeschreibung \\n\\n                    \\n...   \n",
       "\n",
       "                                          token_stem_spRm  \n",
       "202581  [base, sas, advanced, sas, sas, macros, autoca...  \n",
       "202582  [dear, network, test, engineer, project, semic...  \n",
       "202583  [business, innovativer, google, reseller, dien...  \n",
       "202584  [führendes, finanzdienstleistungssektor, softw...  \n",
       "202585  [projekt, offsite, sprachanforderung, developm...  "
      ]
     },
     "execution_count": 35,
     "metadata": {},
     "output_type": "execute_result"
    }
   ],
   "source": [
    "df4.head()"
   ]
  },
  {
   "cell_type": "code",
   "execution_count": 41,
   "metadata": {},
   "outputs": [],
   "source": [
    "with open('df/df1.pickle', 'wb') as output:\n",
    "    pickle.dump(df1, output)\n",
    "with open('df/df2.pickle', 'wb') as output:\n",
    "    pickle.dump(df2, output)"
   ]
  },
  {
   "cell_type": "code",
   "execution_count": 36,
   "metadata": {},
   "outputs": [],
   "source": [
    "with open('df/df4.pickle', 'wb') as output:\n",
    "    pickle.dump(df4, output)"
   ]
  },
  {
   "cell_type": "code",
   "execution_count": 15,
   "metadata": {},
   "outputs": [],
   "source": [
    "# load nltk's German and english stopwords'\n",
    "with open('constants/german_stopwords_full.txt', 'r') as f:\n",
    "    stopwords_germ = f.read().splitlines()\n",
    "with open('constants/stopwords_manual.txt', 'r') as f:\n",
    "    stopwords_manual = f.read().splitlines()\n",
    "stopwords_eng = nltk.corpus.stopwords.words('english')"
   ]
  },
  {
   "cell_type": "code",
   "execution_count": null,
   "metadata": {},
   "outputs": [],
   "source": [
    "pickle_in = open('df/stopwords.pickle',\"rb\")\n",
    "stopwords_all = pickle.load(pickle_in)"
   ]
  }
 ],
 "metadata": {
  "kernelspec": {
   "display_name": "Python [conda env:.conda-pf-env]",
   "language": "python",
   "name": "conda-env-.conda-pf-env-py"
  },
  "language_info": {
   "codemirror_mode": {
    "name": "ipython",
    "version": 3
   },
   "file_extension": ".py",
   "mimetype": "text/x-python",
   "name": "python",
   "nbconvert_exporter": "python",
   "pygments_lexer": "ipython3",
   "version": "3.7.3"
  }
 },
 "nbformat": 4,
 "nbformat_minor": 2
}
