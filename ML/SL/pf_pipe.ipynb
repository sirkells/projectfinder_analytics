{
 "cells": [
  {
   "cell_type": "code",
   "execution_count": 1,
   "metadata": {
    "pycharm": {
     "is_executing": false,
     "name": "#%%\n"
    }
   },
   "outputs": [],
   "source": [
    "\n",
    "import json, nltk, re, os, codecs\n",
    "\n",
    "import pandas as pd\n",
    "from pandas.io.json import json_normalize\n",
    "#import pandas_profiling\n",
    "import numpy as np\n",
    "\n",
    "from matplotlib import pyplot as plt\n",
    "%matplotlib inline\n",
    "\n",
    "import seaborn as sns\n",
    "sns.set_style(\"whitegrid\")\n",
    "#import altair as alt\n",
    "#alt.renderers.enable(\"notebook\")\n",
    "\n",
    "# Code for hiding seaborn warnings\n",
    "import warnings\n",
    "warnings.filterwarnings(\"ignore\")\n",
    "\n",
    "from sklearn import feature_extraction\n",
    "\n",
    "from pymongo import MongoClient\n",
    "from nltk.tokenize import word_tokenize"
   ]
  },
  {
   "cell_type": "code",
   "execution_count": 2,
   "metadata": {},
   "outputs": [
    {
     "name": "stderr",
     "output_type": "stream",
     "text": [
      "[nltk_data] Downloading package punkt to /home/kells/nltk_data...\n",
      "[nltk_data]   Package punkt is already up-to-date!\n",
      "[nltk_data] Downloading package stopwords to /home/kells/nltk_data...\n",
      "[nltk_data]   Package stopwords is already up-to-date!\n"
     ]
    }
   ],
   "source": [
    "import pandas as pd\n",
    "import numpy as np\n",
    "import re\n",
    "import pickle\n",
    "import nltk\n",
    "\n",
    "nltk.download('punkt')\n",
    "nltk.download('stopwords')\n",
    "\n",
    "from nltk.corpus import stopwords\n",
    "from nltk.tokenize import word_tokenize\n",
    "from nltk.stem.porter import PorterStemmer\n",
    "from nltk.stem.snowball import SnowballStemmer\n",
    "\n",
    "\n",
    "from sklearn.pipeline import Pipeline\n",
    "from sklearn.feature_extraction.text import CountVectorizer, TfidfTransformer\n",
    "from sklearn.model_selection import train_test_split, GridSearchCV\n",
    "from sklearn.ensemble import RandomForestClassifier\n",
    "from sklearn.multioutput import MultiOutputClassifier\n",
    "from sklearn.metrics import accuracy_score, precision_score, recall_score, f1_score, make_scorer\n",
    "from sklearn.model_selection import GridSearchCV\n",
    "from sklearn.svm import SVC\n",
    "from nltk.tokenize import word_tokenize\n",
    "import warnings\n",
    "\n",
    "warnings.simplefilter('ignore')\n",
    "\n",
    "import pickle\n",
    "from sklearn.externals import joblib"
   ]
  },
  {
   "cell_type": "code",
   "execution_count": 3,
   "metadata": {},
   "outputs": [],
   "source": [
    "def connect():\n",
    "    connection = MongoClient('10.10.250.0', 27017)\n",
    "    handle = connection[\"projectfinder\"]\n",
    "    return handle\n",
    "db = connect()\n"
   ]
  },
  {
   "cell_type": "code",
   "execution_count": 4,
   "metadata": {},
   "outputs": [],
   "source": [
    "db_loc = {\n",
    "    'ip' :'10.10.250.0',\n",
    "    'port' : 27017,\n",
    "    'db' : 'projectfinder',\n",
    "    'coll' : 'itproject_clean'\n",
    "}"
   ]
  },
  {
   "cell_type": "code",
   "execution_count": 5,
   "metadata": {},
   "outputs": [],
   "source": [
    "db_data = {\n",
    "    'ip' :'10.10.250.0',\n",
    "    'port' : 27017,\n",
    "    'db' : 'projectfinder',\n",
    "    'coll' : 'mldata1'\n",
    "}"
   ]
  },
  {
   "cell_type": "code",
   "execution_count": 6,
   "metadata": {},
   "outputs": [],
   "source": [
    "def load_data_from_momgodb(db_obj):\n",
    "    dbname = db_obj['db']\n",
    "    ip = db_obj['ip']\n",
    "    port = db_obj['port']\n",
    "    coll = db_obj['coll']\n",
    "    connection = MongoClient(ip,port)\n",
    "    db = connection[dbname]\n",
    "    exclude_data = {'_id': False}\n",
    "    raw_data = list(db[coll].find({}, projection=exclude_data))\n",
    "    dataset = pd.DataFrame(raw_data)\n",
    "    print(f'Data loaded from mongodb {coll} collection succesfully')\n",
    "    return dataset"
   ]
  },
  {
   "cell_type": "code",
   "execution_count": 7,
   "metadata": {},
   "outputs": [],
   "source": [
    "def save_to_momgodb(df,db_):\n",
    "    data = df.to_dict(orient='records')\n",
    "    dbname = db_['db']\n",
    "    ip = db_['ip']\n",
    "    port = db_['port']\n",
    "    coll = db_['coll']\n",
    "    connection = MongoClient(ip,port)\n",
    "    db = connection[dbname]\n",
    "    col = db[coll].insert_many(data)\n",
    "    print(f'data saved as {coll}')"
   ]
  },
  {
   "cell_type": "code",
   "execution_count": 8,
   "metadata": {},
   "outputs": [],
   "source": [
    "def load_data_from_json(data):\n",
    "    with open(data) as f:\n",
    "            d = json.load(f)\n",
    "        #normalize json\n",
    "    dataset= json_normalize(d)\n",
    "    return dataset"
   ]
  },
  {
   "cell_type": "code",
   "execution_count": 9,
   "metadata": {},
   "outputs": [],
   "source": [
    "def clean_dataset(data):\n",
    "    #select colunms\n",
    "    df = data[['description', 'bereich']]\n",
    "    df = df[df['description'] != '']\n",
    "    df['project'] = df['description']\n",
    "    df['label'] = df['bereich']\n",
    "    df.drop(['description', 'bereich'], axis=1, inplace=True)\n",
    "    df = df[df['label'] != 'IT/Bauingenieur']\n",
    "    df = df.drop_duplicates()\n",
    "    return df"
   ]
  },
  {
   "cell_type": "code",
   "execution_count": 37,
   "metadata": {},
   "outputs": [
    {
     "name": "stdout",
     "output_type": "stream",
     "text": [
      "Data loaded from mongodb itproject_clean collection succesfully\n"
     ]
    }
   ],
   "source": [
    "data = load_data_from_momgodb(db_loc)"
   ]
  },
  {
   "cell_type": "code",
   "execution_count": 38,
   "metadata": {
    "pycharm": {
     "is_executing": false,
     "name": "#%%\n"
    }
   },
   "outputs": [
    {
     "data": {
      "text/html": [
       "<div>\n",
       "<style scoped>\n",
       "    .dataframe tbody tr th:only-of-type {\n",
       "        vertical-align: middle;\n",
       "    }\n",
       "\n",
       "    .dataframe tbody tr th {\n",
       "        vertical-align: top;\n",
       "    }\n",
       "\n",
       "    .dataframe thead th {\n",
       "        text-align: right;\n",
       "    }\n",
       "</style>\n",
       "<table border=\"1\" class=\"dataframe\">\n",
       "  <thead>\n",
       "    <tr style=\"text-align: right;\">\n",
       "      <th></th>\n",
       "      <th>project</th>\n",
       "      <th>label</th>\n",
       "    </tr>\n",
       "  </thead>\n",
       "  <tbody>\n",
       "    <tr>\n",
       "      <th>0</th>\n",
       "      <td>Für einen unserer Kunden aus dem Finanzdienstl...</td>\n",
       "      <td>Infr-Admin-Microsoft</td>\n",
       "    </tr>\n",
       "    <tr>\n",
       "      <th>1</th>\n",
       "      <td>Kann Profil leider nicht löschen.</td>\n",
       "      <td>IT/Consulting</td>\n",
       "    </tr>\n",
       "    <tr>\n",
       "      <th>2</th>\n",
       "      <td>Business Intelligence Analyst (m/w) - Tableau ...</td>\n",
       "      <td>Data-Sci-BI</td>\n",
       "    </tr>\n",
       "    <tr>\n",
       "      <th>3</th>\n",
       "      <td>Konzeption, Customizing sowie Softwareanpassun...</td>\n",
       "      <td>Infr-Admin-Linux</td>\n",
       "    </tr>\n",
       "    <tr>\n",
       "      <th>4</th>\n",
       "      <td>Es sollen mehrere Automatisierungen mit ubot S...</td>\n",
       "      <td>IT/IT</td>\n",
       "    </tr>\n",
       "  </tbody>\n",
       "</table>\n",
       "</div>"
      ],
      "text/plain": [
       "                                             project                 label\n",
       "0  Für einen unserer Kunden aus dem Finanzdienstl...  Infr-Admin-Microsoft\n",
       "1                  Kann Profil leider nicht löschen.         IT/Consulting\n",
       "2  Business Intelligence Analyst (m/w) - Tableau ...           Data-Sci-BI\n",
       "3  Konzeption, Customizing sowie Softwareanpassun...      Infr-Admin-Linux\n",
       "4  Es sollen mehrere Automatisierungen mit ubot S...                 IT/IT"
      ]
     },
     "execution_count": 38,
     "metadata": {},
     "output_type": "execute_result"
    }
   ],
   "source": [
    "df = clean_dataset(data)\n",
    "df.head()\n"
   ]
  },
  {
   "cell_type": "code",
   "execution_count": 34,
   "metadata": {
    "pycharm": {
     "is_executing": false,
     "name": "#%%\n"
    }
   },
   "outputs": [
    {
     "data": {
      "text/plain": [
       "(12168, 2)"
      ]
     },
     "execution_count": 34,
     "metadata": {},
     "output_type": "execute_result"
    }
   ],
   "source": [
    "df.shape"
   ]
  },
  {
   "cell_type": "code",
   "execution_count": 333,
   "metadata": {
    "pycharm": {
     "is_executing": false,
     "name": "#%%\n"
    }
   },
   "outputs": [],
   "source": [
    "# df['label'].replace(['IT/Admin-Oracle', IT-Technical-Dev], 'INF-Admin-Database', inplace=True)\n",
    "df['label'].replace(['IT-HW-Technisches', 'IT-Technical-Dev'], 'IT-Tech', inplace=True)\n",
    "df['label'].replace(['DS-ML','DS-BI', 'IT/Business Int'], 'Data-DS-Analysis', inplace=True)\n",
    "df['label'].replace(['IT-Admin-Linux'], 'INF-Admin-Linux', inplace=True)\n",
    "df['label'].replace(['IT/Management (','IT/Projektleitu','IT/Fertigungste', 'IT/Consulting', 'IT/Project Mgmt'], 'INF-Consulting-PM', inplace=True)\n",
    "df['label'].replace(['SW/Tester','IT/Softwareentw','IT/Qualitätsman','IT/Weitere IT-Q'], 'Dev-Web-Fullstack', inplace=True)\n",
    "df['label'].replace(['IT/Automatisier','IT/Software Arc'], 'SW-Dev-Devops', inplace=True)\n",
    "df['label'].replace(['IT/Admin-CITRIX','IT/Admin-ITIL', 'IT/Admin-Netwerk-Cisco'], 'INF-Admin-Others', inplace=True)\n",
    "df['label'].replace(['IT/Maschinen- /','IT/Konstruktion', 'IT/Mess- / Rege', 'IT/Fahrzeugbau', 'IT/Hardware-Ent', 'IT/Engineering', 'IT/Elektrotechn', 'IT/Technisches '], 'IT-HW-Technisches', inplace=True)"
   ]
  },
  {
   "cell_type": "code",
   "execution_count": 336,
   "metadata": {},
   "outputs": [],
   "source": [
    "df = df.apply(lambda x: x.mask(x.map(x.value_counts())<100, 'other') if x.name!='project' else x)"
   ]
  },
  {
   "cell_type": "code",
   "execution_count": 39,
   "metadata": {},
   "outputs": [],
   "source": [
    "df['label'].replace(['IT-Admin-Net'], 'Infr-Admin-Net', inplace=True)\n",
    "#df['label'].replace(['Data-Sci-ML'], 'Data-Sci-BI ', inplace=True)"
   ]
  },
  {
   "cell_type": "code",
   "execution_count": 30,
   "metadata": {},
   "outputs": [
    {
     "data": {
      "text/html": [
       "<div>\n",
       "<style scoped>\n",
       "    .dataframe tbody tr th:only-of-type {\n",
       "        vertical-align: middle;\n",
       "    }\n",
       "\n",
       "    .dataframe tbody tr th {\n",
       "        vertical-align: top;\n",
       "    }\n",
       "\n",
       "    .dataframe thead th {\n",
       "        text-align: right;\n",
       "    }\n",
       "</style>\n",
       "<table border=\"1\" class=\"dataframe\">\n",
       "  <thead>\n",
       "    <tr style=\"text-align: right;\">\n",
       "      <th></th>\n",
       "      <th>project</th>\n",
       "      <th>label</th>\n",
       "    </tr>\n",
       "  </thead>\n",
       "  <tbody>\n",
       "    <tr>\n",
       "      <th>0</th>\n",
       "      <td>Für einen unserer Kunden aus dem Finanzdienstl...</td>\n",
       "      <td>Infr-Admin-Microsoft</td>\n",
       "    </tr>\n",
       "    <tr>\n",
       "      <th>1</th>\n",
       "      <td>Kann Profil leider nicht löschen.</td>\n",
       "      <td>IT/Consulting</td>\n",
       "    </tr>\n",
       "    <tr>\n",
       "      <th>2</th>\n",
       "      <td>Business Intelligence Analyst (m/w) - Tableau ...</td>\n",
       "      <td>Data-Sci-BI</td>\n",
       "    </tr>\n",
       "    <tr>\n",
       "      <th>3</th>\n",
       "      <td>Konzeption, Customizing sowie Softwareanpassun...</td>\n",
       "      <td>Infr-Admin-Linux</td>\n",
       "    </tr>\n",
       "    <tr>\n",
       "      <th>4</th>\n",
       "      <td>Es sollen mehrere Automatisierungen mit ubot S...</td>\n",
       "      <td>IT/IT</td>\n",
       "    </tr>\n",
       "    <tr>\n",
       "      <th>5</th>\n",
       "      <td>Unser Projekt beinhaltet Spieleentwicklung für...</td>\n",
       "      <td>IT/IT</td>\n",
       "    </tr>\n",
       "    <tr>\n",
       "      <th>6</th>\n",
       "      <td>Future Consulting GmbH \\r\\nentscheiden Sie sic...</td>\n",
       "      <td>IT-Mgmt-Consulting</td>\n",
       "    </tr>\n",
       "    <tr>\n",
       "      <th>7</th>\n",
       "      <td>Als Mitglied eines kleinen, dynamischen Teams ...</td>\n",
       "      <td>Infr-Admin-Microsoft</td>\n",
       "    </tr>\n",
       "    <tr>\n",
       "      <th>8</th>\n",
       "      <td>Über unseren Kunden: \\n   \\n Unser Kunde ist e...</td>\n",
       "      <td>Infr-Admin-Microsoft</td>\n",
       "    </tr>\n",
       "    <tr>\n",
       "      <th>9</th>\n",
       "      <td>Über unseren Kunden: \\n   \\n Unser Kunde ist e...</td>\n",
       "      <td>Dev-Web-Backend</td>\n",
       "    </tr>\n",
       "  </tbody>\n",
       "</table>\n",
       "</div>"
      ],
      "text/plain": [
       "                                             project                 label\n",
       "0  Für einen unserer Kunden aus dem Finanzdienstl...  Infr-Admin-Microsoft\n",
       "1                  Kann Profil leider nicht löschen.         IT/Consulting\n",
       "2  Business Intelligence Analyst (m/w) - Tableau ...           Data-Sci-BI\n",
       "3  Konzeption, Customizing sowie Softwareanpassun...      Infr-Admin-Linux\n",
       "4  Es sollen mehrere Automatisierungen mit ubot S...                 IT/IT\n",
       "5  Unser Projekt beinhaltet Spieleentwicklung für...                 IT/IT\n",
       "6  Future Consulting GmbH \\r\\nentscheiden Sie sic...    IT-Mgmt-Consulting\n",
       "7  Als Mitglied eines kleinen, dynamischen Teams ...  Infr-Admin-Microsoft\n",
       "8  Über unseren Kunden: \\n   \\n Unser Kunde ist e...  Infr-Admin-Microsoft\n",
       "9  Über unseren Kunden: \\n   \\n Unser Kunde ist e...       Dev-Web-Backend"
      ]
     },
     "execution_count": 30,
     "metadata": {},
     "output_type": "execute_result"
    }
   ],
   "source": [
    "df.head(10)"
   ]
  },
  {
   "cell_type": "code",
   "execution_count": 15,
   "metadata": {
    "pycharm": {
     "is_executing": false,
     "name": "#%%\n"
    }
   },
   "outputs": [
    {
     "data": {
      "text/plain": [
       "(12168, 2)"
      ]
     },
     "execution_count": 15,
     "metadata": {},
     "output_type": "execute_result"
    }
   ],
   "source": [
    "df = df[df['label'] != 'other']\n",
    "df.shape"
   ]
  },
  {
   "cell_type": "code",
   "execution_count": 16,
   "metadata": {},
   "outputs": [
    {
     "data": {
      "text/plain": [
       "(12168, 2)"
      ]
     },
     "execution_count": 16,
     "metadata": {},
     "output_type": "execute_result"
    }
   ],
   "source": [
    "df.dropna()\n",
    "df.shape"
   ]
  },
  {
   "cell_type": "code",
   "execution_count": 15,
   "metadata": {},
   "outputs": [
    {
     "data": {
      "text/html": [
       "<div>\n",
       "<style scoped>\n",
       "    .dataframe tbody tr th:only-of-type {\n",
       "        vertical-align: middle;\n",
       "    }\n",
       "\n",
       "    .dataframe tbody tr th {\n",
       "        vertical-align: top;\n",
       "    }\n",
       "\n",
       "    .dataframe thead th {\n",
       "        text-align: right;\n",
       "    }\n",
       "</style>\n",
       "<table border=\"1\" class=\"dataframe\">\n",
       "  <thead>\n",
       "    <tr style=\"text-align: right;\">\n",
       "      <th></th>\n",
       "      <th>0</th>\n",
       "      <th>1</th>\n",
       "      <th>2</th>\n",
       "    </tr>\n",
       "  </thead>\n",
       "  <tbody>\n",
       "    <tr>\n",
       "      <th>0</th>\n",
       "      <td>Infr</td>\n",
       "      <td>Admin</td>\n",
       "      <td>Microsoft</td>\n",
       "    </tr>\n",
       "    <tr>\n",
       "      <th>2</th>\n",
       "      <td>Data</td>\n",
       "      <td>Sci</td>\n",
       "      <td>BI</td>\n",
       "    </tr>\n",
       "    <tr>\n",
       "      <th>3</th>\n",
       "      <td>Dev</td>\n",
       "      <td>Web</td>\n",
       "      <td>Backend</td>\n",
       "    </tr>\n",
       "    <tr>\n",
       "      <th>6</th>\n",
       "      <td>IT</td>\n",
       "      <td>Mgmt</td>\n",
       "      <td>Consulting</td>\n",
       "    </tr>\n",
       "    <tr>\n",
       "      <th>7</th>\n",
       "      <td>Infr</td>\n",
       "      <td>Admin</td>\n",
       "      <td>Microsoft</td>\n",
       "    </tr>\n",
       "  </tbody>\n",
       "</table>\n",
       "</div>"
      ],
      "text/plain": [
       "      0      1           2\n",
       "0  Infr  Admin   Microsoft\n",
       "2  Data    Sci          BI\n",
       "3   Dev    Web     Backend\n",
       "6    IT   Mgmt  Consulting\n",
       "7  Infr  Admin   Microsoft"
      ]
     },
     "execution_count": 15,
     "metadata": {},
     "output_type": "execute_result"
    }
   ],
   "source": [
    "categories = df.label.str.split(pat='-',expand=True)\n",
    "categories.head()"
   ]
  },
  {
   "cell_type": "code",
   "execution_count": 335,
   "metadata": {},
   "outputs": [
    {
     "data": {
      "text/plain": [
       "963"
      ]
     },
     "execution_count": 335,
     "metadata": {},
     "output_type": "execute_result"
    }
   ],
   "source": [
    "sap = df.index[df['label'] == 'ERP-SAP']\n",
    "len(sap)"
   ]
  },
  {
   "cell_type": "code",
   "execution_count": 336,
   "metadata": {},
   "outputs": [],
   "source": [
    "df.drop(sap[:int(len(sap) * 0.3)], inplace=True)   #to create a new DataFrame, if you want to modify the original one, put inplace=True"
   ]
  },
  {
   "cell_type": "code",
   "execution_count": 337,
   "metadata": {},
   "outputs": [
    {
     "data": {
      "text/plain": [
       "910"
      ]
     },
     "execution_count": 337,
     "metadata": {},
     "output_type": "execute_result"
    }
   ],
   "source": [
    "back = df.index[df['label'] == 'Dev-Web-Backend']\n",
    "len(back)"
   ]
  },
  {
   "cell_type": "code",
   "execution_count": 338,
   "metadata": {},
   "outputs": [],
   "source": [
    "df.drop(back[:int(len(back) * 0.3)], inplace=True)   #to create a new DataFrame, if you want to modify the original one, put inplace=True"
   ]
  },
  {
   "cell_type": "code",
   "execution_count": 340,
   "metadata": {},
   "outputs": [
    {
     "data": {
      "text/plain": [
       "939"
      ]
     },
     "execution_count": 340,
     "metadata": {},
     "output_type": "execute_result"
    }
   ],
   "source": [
    "full = df.index[df['label'] == 'Dev-Web-Fullstack']\n",
    "len(full)"
   ]
  },
  {
   "cell_type": "code",
   "execution_count": 341,
   "metadata": {},
   "outputs": [
    {
     "data": {
      "text/plain": [
       "849"
      ]
     },
     "execution_count": 341,
     "metadata": {},
     "output_type": "execute_result"
    }
   ],
   "source": [
    "mic = df.index[df['label'] == 'Infr-Admin-Microsoft']\n",
    "len(mic)"
   ]
  },
  {
   "cell_type": "code",
   "execution_count": 342,
   "metadata": {},
   "outputs": [
    {
     "data": {
      "text/plain": [
       "814"
      ]
     },
     "execution_count": 342,
     "metadata": {},
     "output_type": "execute_result"
    }
   ],
   "source": [
    "other = df.index[df['label'] == 'SW-Dev-Others']\n",
    "len(other)"
   ]
  },
  {
   "cell_type": "code",
   "execution_count": 343,
   "metadata": {},
   "outputs": [
    {
     "data": {
      "text/plain": [
       "812"
      ]
     },
     "execution_count": 343,
     "metadata": {},
     "output_type": "execute_result"
    }
   ],
   "source": [
    "con = df.index[df['label'] == 'IT-Mgmt-Consulting']\n",
    "len(con)"
   ]
  },
  {
   "cell_type": "code",
   "execution_count": 344,
   "metadata": {},
   "outputs": [
    {
     "data": {
      "text/plain": [
       "723"
      ]
     },
     "execution_count": 344,
     "metadata": {},
     "output_type": "execute_result"
    }
   ],
   "source": [
    "proj = df.index[df['label'] == 'IT-Mgmt-Projectleiter']\n",
    "len(proj)"
   ]
  },
  {
   "cell_type": "code",
   "execution_count": 349,
   "metadata": {},
   "outputs": [],
   "source": [
    "df.drop(proj[:int(len(proj) * 0.3)], inplace=True)   #to create a new DataFrame, if you want to modify the original one, put inplace=True"
   ]
  },
  {
   "cell_type": "code",
   "execution_count": 41,
   "metadata": {
    "pycharm": {
     "is_executing": false,
     "name": "#%%\n"
    }
   },
   "outputs": [
    {
     "data": {
      "text/plain": [
       "ERP-SAP                  1710\n",
       "Dev-Web-Backend          1439\n",
       "IT-Mgmt-Projectleiter     980\n",
       "Dev-Web-Fullstack         881\n",
       "Infr-Admin-Microsoft      767\n",
       "SW-Dev-Others             697\n",
       "IT-Mgmt-Consulting        628\n",
       "Dev-Web-Frontend          597\n",
       "Data-Engr-Big Data        572\n",
       "Data-Sci-BI               532\n",
       "Infr-Database-Admin       478\n",
       "SW-Dev-Mobile             320\n",
       "Infr-Admin-Linux          283\n",
       "Infr-Admin-Database       272\n",
       "IT-Security               248\n",
       "Infr-Admin-Net            231\n",
       "IT-Technical-Dev          201\n",
       "Dev-Devops                165\n",
       "IT-Admin-Others           160\n",
       "IT/Elektrotechn           113\n",
       "IT/Automatisier            96\n",
       "IT/Installation            44\n",
       "IT/Weitere IT-Q            41\n",
       "IT/Fahrzeugbau             39\n",
       "IT/Mess- / Rege            37\n",
       "IT/Konstruktion            34\n",
       "IT/Plattformen             32\n",
       "IT/Rechnungswes            31\n",
       "IT/Softwareentw            28\n",
       "IT/Fertigungste            26\n",
       "                         ... \n",
       "IT/Front-end, O             1\n",
       "IT/Einkauf Proj             1\n",
       "IT/Applikation              1\n",
       "IT/Design Hande             1\n",
       "IT/Einkauf Elek             1\n",
       "IT/Office                   1\n",
       "IT/Handwerk Kon             1\n",
       "IT/Full Stack,              1\n",
       "IT/Design Kunst             1\n",
       "IT/Einkauf Lief             1\n",
       "IT/ERP, Mobile              1\n",
       "IT/Mechatronik              1\n",
       "IT/Strategie                1\n",
       "IT/Web Architek             1\n",
       "IT/Marketing Ve             1\n",
       "IT/Transport /              1\n",
       "IT/Design Web               1\n",
       "IT/Medien Redak             1\n",
       "IT/Design Elekt             1\n",
       "IT/Management Q             1\n",
       "IT/Handwerk Ins             1\n",
       "IT/Kunst Redakt             1\n",
       "IT/Handwerk Mas             1\n",
       "IT/Marketing Fi             1\n",
       "IT/Design Manag             1\n",
       "IT/Medien Marke             1\n",
       "IT/ERP, Projekt             1\n",
       "IT/Bildung Mana             1\n",
       "IT/Digital, Bac             1\n",
       "IT/Digitalisier             1\n",
       "Name: label, Length: 131, dtype: int64"
      ]
     },
     "execution_count": 41,
     "metadata": {},
     "output_type": "execute_result"
    }
   ],
   "source": [
    "df['label'].value_counts()"
   ]
  },
  {
   "cell_type": "code",
   "execution_count": 341,
   "metadata": {},
   "outputs": [
    {
     "data": {
      "text/plain": [
       "(11255, 2)"
      ]
     },
     "execution_count": 341,
     "metadata": {},
     "output_type": "execute_result"
    }
   ],
   "source": [
    "df.shape"
   ]
  },
  {
   "cell_type": "code",
   "execution_count": 352,
   "metadata": {},
   "outputs": [],
   "source": [
    "sap = df.index[df['label'] == 'ERP-SAP']\n",
    "backend = df.index[df['label'] == 'Dev-Web-Backend ']\n",
    "fullstack = df.index[df['label'] == 'Dev-Web-Fullstack']\n",
    "ms = df.index[df['label'] == 'Infr-Admin-Microsoft']\n",
    "sw_others = df.index[df['label'] == 'SW-Dev-Others']\n",
    "consulting = df.index[df['label'] == 'IT-Mgmt-Consulting']\n",
    "projectleiter = df.index[df['label'] == 'IT-Mgmt-Projectleiter']\n",
    "database = df.index[df['label'] == 'Infr-Admin-Database']\n",
    "dataengr = df.index[df['label'] == 'Data-Engr-Big Data']\n",
    "frontend = df.index[df['label'] == 'Dev-Web-Frontend']\n",
    "tech = df.index[df['label'] == 'IT-Tech']\n",
    "bi = df.index[df['label'] == 'Data-Sci-BI']\n",
    "adminnet = df.index[df['label'] == 'Infr-Admin-Net']\n",
    "admothers = df.index[df['label'] == 'IT-Admin-Others']\n",
    "mobile = df.index[df['label'] == 'SW-Dev-Mobile']\n",
    "linux = df.index[df['label'] == 'Infr-Admin-Linux']\n",
    "devops = df.index[df['label'] == 'Dev-Devops']"
   ]
  },
  {
   "cell_type": "code",
   "execution_count": 353,
   "metadata": {},
   "outputs": [
    {
     "data": {
      "text/plain": [
       "1925"
      ]
     },
     "execution_count": 353,
     "metadata": {},
     "output_type": "execute_result"
    }
   ],
   "source": [
    "len(sap)"
   ]
  },
  {
   "cell_type": "code",
   "execution_count": 353,
   "metadata": {
    "pycharm": {
     "is_executing": false,
     "name": "#%%\n"
    }
   },
   "outputs": [
    {
     "data": {
      "text/plain": [
       "<matplotlib.axes._subplots.AxesSubplot at 0x7f4ba94dfda0>"
      ]
     },
     "execution_count": 353,
     "metadata": {},
     "output_type": "execute_result"
    },
    {
     "data": {
      "image/png": "[encoded data removed]",
      "text/plain": [
       "<Figure size 432x288 with 1 Axes>"
      ]
     },
     "metadata": {
      "needs_background": "light"
     },
     "output_type": "display_data"
    }
   ],
   "source": [
    "df.groupby('label').size().plot(kind='bar')"
   ]
  },
  {
   "cell_type": "code",
   "execution_count": 354,
   "metadata": {},
   "outputs": [
    {
     "data": {
      "application/javascript": [
       "var spec = {\"config\": {\"view\": {\"width\": 400, \"height\": 300}, \"mark\": {\"tooltip\": null}}, \"layer\": [{\"mark\": {\"type\": \"bar\", \"size\": 50}, \"encoding\": {\"color\": {\"type\": \"nominal\", \"field\": \"label\"}, \"x\": {\"type\": \"nominal\", \"field\": \"label\"}, \"y\": {\"type\": \"quantitative\", \"axis\": {\"format\": \".0%\", \"title\": \"% of Articles\"}, \"field\": \"PercentOfTotal\"}}, \"selection\": {\"selector002\": {\"type\": \"interval\", \"bind\": \"scales\", \"encodings\": [\"x\", \"y\"]}}, \"transform\": [{\"window\": [{\"op\": \"sum\", \"field\": \"id\", \"as\": \"TotalArticles\"}], \"frame\": [null, null]}, {\"calculate\": \"datum.id / datum.TotalArticles\", \"as\": \"PercentOfTotal\"}]}, {\"mark\": {\"type\": \"text\", \"align\": \"center\", \"baseline\": \"bottom\"}, \"encoding\": {\"color\": {\"type\": \"nominal\", \"field\": \"label\"}, \"text\": {\"type\": \"quantitative\", \"field\": \"PercentOfTotal\", \"format\": \".1%\"}, \"x\": {\"type\": \"nominal\", \"field\": \"label\"}, \"y\": {\"type\": \"quantitative\", \"axis\": {\"format\": \".0%\", \"title\": \"% of Articles\"}, \"field\": \"PercentOfTotal\"}}, \"transform\": [{\"window\": [{\"op\": \"sum\", \"field\": \"id\", \"as\": \"TotalArticles\"}], \"frame\": [null, null]}, {\"calculate\": \"datum.id / datum.TotalArticles\", \"as\": \"PercentOfTotal\"}]}], \"data\": {\"name\": \"data-1f610deff0dbea7f1aee4f0d5007bd3d\"}, \"height\": 300, \"title\": \"% of articles in each category\", \"width\": 700, \"$schema\": \"https://vega.github.io/schema/vega-lite/v3.3.0.json\", \"datasets\": {\"data-1f610deff0dbea7f1aee4f0d5007bd3d\": [{\"label\": \"Data-Engr-Big Data\", \"id\": 585}, {\"label\": \"Data-Sci-BI\", \"id\": 355}, {\"label\": \"Dev-Devops\", \"id\": 123}, {\"label\": \"Dev-Web-Backend\", \"id\": 637}, {\"label\": \"Dev-Web-Frontend\", \"id\": 569}, {\"label\": \"Dev-Web-Fullstack\", \"id\": 658}, {\"label\": \"ERP-SAP\", \"id\": 675}, {\"label\": \"IT-Admin-Others\", \"id\": 228}, {\"label\": \"IT-Mgmt-Consulting\", \"id\": 569}, {\"label\": \"IT-Mgmt-Projectleiter\", \"id\": 507}, {\"label\": \"IT-Technical-Dev\", \"id\": 209}, {\"label\": \"IT/Elektrotechn\", \"id\": 128}, {\"label\": \"Infr-Admin-Database\", \"id\": 153}, {\"label\": \"Infr-Admin-Linux\", \"id\": 166}, {\"label\": \"Infr-Admin-Microsoft\", \"id\": 595}, {\"label\": \"Infr-Admin-Net\", \"id\": 250}, {\"label\": \"Infr-Database-Admin\", \"id\": 568}, {\"label\": \"SW-Dev-Mobile\", \"id\": 194}, {\"label\": \"SW-Dev-Others\", \"id\": 570}]}};\n",
       "var opt = {};\n",
       "var type = \"vega-lite\";\n",
       "var id = \"254ffd86-d140-4670-9307-a2d2c5755565\";\n",
       "\n",
       "var output_area = this;\n",
       "\n",
       "require([\"nbextensions/jupyter-vega/index\"], function(vega) {\n",
       "  var target = document.createElement(\"div\");\n",
       "  target.id = id;\n",
       "  target.className = \"vega-embed\";\n",
       "\n",
       "  var style = document.createElement(\"style\");\n",
       "  style.textContent = [\n",
       "    \".vega-embed .error p {\",\n",
       "    \"  color: firebrick;\",\n",
       "    \"  font-size: 14px;\",\n",
       "    \"}\",\n",
       "  ].join(\"\\\\n\");\n",
       "\n",
       "  // element is a jQuery wrapped DOM element inside the output area\n",
       "  // see http://ipython.readthedocs.io/en/stable/api/generated/\\\n",
       "  // IPython.display.html#IPython.display.Javascript.__init__\n",
       "  element[0].appendChild(target);\n",
       "  element[0].appendChild(style);\n",
       "\n",
       "  vega.render(\"#\" + id, spec, type, opt, output_area);\n",
       "}, function (err) {\n",
       "  if (err.requireType !== \"scripterror\") {\n",
       "    throw(err);\n",
       "  }\n",
       "});\n"
      ],
      "text/plain": [
       "<vega.vegalite.VegaLite at 0x7f4baaaad978>"
      ]
     },
     "metadata": {
      "jupyter-vega": "#254ffd86-d140-4670-9307-a2d2c5755565"
     },
     "output_type": "display_data"
    },
    {
     "data": {
      "text/plain": []
     },
     "execution_count": 354,
     "metadata": {},
     "output_type": "execute_result"
    },
    {
     "data": {
      "image/png": "[encoded data removed]"
     },
     "metadata": {
      "jupyter-vega": "#254ffd86-d140-4670-9307-a2d2c5755565"
     },
     "output_type": "display_data"
    },
    {
     "data": {
      "image/png": "[encoded data removed]"
     },
     "metadata": {
      "jupyter-vega": "#254ffd86-d140-4670-9307-a2d2c5755565"
     },
     "output_type": "display_data"
    }
   ],
   "source": [
    "df['id'] = 1\n",
    "df2 = pd.DataFrame(df.groupby('label').count()['id']).reset_index()\n",
    "alt.data_transformers.disable_max_rows()\n",
    "bars = alt.Chart(df2).mark_bar(size=50).encode(\n",
    "    x=alt.X('label'),\n",
    "    y=alt.Y('PercentOfTotal:Q', axis=alt.Axis(format='.0%', title='% of Articles')),\n",
    "    color='label'\n",
    ").transform_window(\n",
    "    TotalArticles='sum(id)',\n",
    "    frame=[None, None]\n",
    ").transform_calculate(\n",
    "    PercentOfTotal=\"datum.id / datum.TotalArticles\"\n",
    ")\n",
    "\n",
    "text = bars.mark_text(\n",
    "    align='center',\n",
    "    baseline='bottom',\n",
    "    #dx=5  # Nudges text to right so it doesn't appear on top of the bar\n",
    ").encode(\n",
    "    text=alt.Text('PercentOfTotal:Q', format='.1%')\n",
    ")\n",
    "\n",
    "(bars + text).interactive().properties(\n",
    "    height=300, \n",
    "    width=700,\n",
    "    title = \"% of articles in each category\",\n",
    ")"
   ]
  },
  {
   "cell_type": "code",
   "execution_count": 356,
   "metadata": {
    "pycharm": {
     "name": "#%%\n"
    }
   },
   "outputs": [
    {
     "data": {
      "text/html": [
       "<div>\n",
       "<style scoped>\n",
       "    .dataframe tbody tr th:only-of-type {\n",
       "        vertical-align: middle;\n",
       "    }\n",
       "\n",
       "    .dataframe tbody tr th {\n",
       "        vertical-align: top;\n",
       "    }\n",
       "\n",
       "    .dataframe thead th {\n",
       "        text-align: right;\n",
       "    }\n",
       "</style>\n",
       "<table border=\"1\" class=\"dataframe\">\n",
       "  <thead>\n",
       "    <tr style=\"text-align: right;\">\n",
       "      <th></th>\n",
       "      <th>project</th>\n",
       "      <th>label</th>\n",
       "      <th>id</th>\n",
       "      <th>Data-Engr-Big Data</th>\n",
       "      <th>Data-Sci-BI</th>\n",
       "      <th>Dev-Devops</th>\n",
       "      <th>Dev-Web-Backend</th>\n",
       "      <th>Dev-Web-Frontend</th>\n",
       "      <th>Dev-Web-Fullstack</th>\n",
       "      <th>ERP-SAP</th>\n",
       "      <th>...</th>\n",
       "      <th>IT-Mgmt-Projectleiter</th>\n",
       "      <th>IT-Technical-Dev</th>\n",
       "      <th>IT/Elektrotechn</th>\n",
       "      <th>Infr-Admin-Database</th>\n",
       "      <th>Infr-Admin-Linux</th>\n",
       "      <th>Infr-Admin-Microsoft</th>\n",
       "      <th>Infr-Admin-Net</th>\n",
       "      <th>Infr-Database-Admin</th>\n",
       "      <th>SW-Dev-Mobile</th>\n",
       "      <th>SW-Dev-Others</th>\n",
       "    </tr>\n",
       "  </thead>\n",
       "  <tbody>\n",
       "    <tr>\n",
       "      <th>2</th>\n",
       "      <td>Business Intelligence Analyst (m/w) - Tableau ...</td>\n",
       "      <td>Data-Sci-BI</td>\n",
       "      <td>1</td>\n",
       "      <td>0</td>\n",
       "      <td>1</td>\n",
       "      <td>0</td>\n",
       "      <td>0</td>\n",
       "      <td>0</td>\n",
       "      <td>0</td>\n",
       "      <td>0</td>\n",
       "      <td>...</td>\n",
       "      <td>0</td>\n",
       "      <td>0</td>\n",
       "      <td>0</td>\n",
       "      <td>0</td>\n",
       "      <td>0</td>\n",
       "      <td>0</td>\n",
       "      <td>0</td>\n",
       "      <td>0</td>\n",
       "      <td>0</td>\n",
       "      <td>0</td>\n",
       "    </tr>\n",
       "    <tr>\n",
       "      <th>10</th>\n",
       "      <td>Über unseren Kunden: \\n   \\n Unser Kunde ist T...</td>\n",
       "      <td>Dev-Web-Frontend</td>\n",
       "      <td>1</td>\n",
       "      <td>0</td>\n",
       "      <td>0</td>\n",
       "      <td>0</td>\n",
       "      <td>0</td>\n",
       "      <td>1</td>\n",
       "      <td>0</td>\n",
       "      <td>0</td>\n",
       "      <td>...</td>\n",
       "      <td>0</td>\n",
       "      <td>0</td>\n",
       "      <td>0</td>\n",
       "      <td>0</td>\n",
       "      <td>0</td>\n",
       "      <td>0</td>\n",
       "      <td>0</td>\n",
       "      <td>0</td>\n",
       "      <td>0</td>\n",
       "      <td>0</td>\n",
       "    </tr>\n",
       "    <tr>\n",
       "      <th>14</th>\n",
       "      <td>suche für Gestaltung von Produkten und Webseit...</td>\n",
       "      <td>Dev-Web-Frontend</td>\n",
       "      <td>1</td>\n",
       "      <td>0</td>\n",
       "      <td>0</td>\n",
       "      <td>0</td>\n",
       "      <td>0</td>\n",
       "      <td>1</td>\n",
       "      <td>0</td>\n",
       "      <td>0</td>\n",
       "      <td>...</td>\n",
       "      <td>0</td>\n",
       "      <td>0</td>\n",
       "      <td>0</td>\n",
       "      <td>0</td>\n",
       "      <td>0</td>\n",
       "      <td>0</td>\n",
       "      <td>0</td>\n",
       "      <td>0</td>\n",
       "      <td>0</td>\n",
       "      <td>0</td>\n",
       "    </tr>\n",
       "    <tr>\n",
       "      <th>15</th>\n",
       "      <td>Über unseren Kunden: \\n   \\n Unser Kunde ist e...</td>\n",
       "      <td>Dev-Web-Frontend</td>\n",
       "      <td>1</td>\n",
       "      <td>0</td>\n",
       "      <td>0</td>\n",
       "      <td>0</td>\n",
       "      <td>0</td>\n",
       "      <td>1</td>\n",
       "      <td>0</td>\n",
       "      <td>0</td>\n",
       "      <td>...</td>\n",
       "      <td>0</td>\n",
       "      <td>0</td>\n",
       "      <td>0</td>\n",
       "      <td>0</td>\n",
       "      <td>0</td>\n",
       "      <td>0</td>\n",
       "      <td>0</td>\n",
       "      <td>0</td>\n",
       "      <td>0</td>\n",
       "      <td>0</td>\n",
       "    </tr>\n",
       "    <tr>\n",
       "      <th>17</th>\n",
       "      <td>Ihre Aufgaben: \\n \\n     Mitarbeit in einem IT...</td>\n",
       "      <td>Infr-Admin-Linux</td>\n",
       "      <td>1</td>\n",
       "      <td>0</td>\n",
       "      <td>0</td>\n",
       "      <td>0</td>\n",
       "      <td>0</td>\n",
       "      <td>0</td>\n",
       "      <td>0</td>\n",
       "      <td>0</td>\n",
       "      <td>...</td>\n",
       "      <td>0</td>\n",
       "      <td>0</td>\n",
       "      <td>0</td>\n",
       "      <td>0</td>\n",
       "      <td>1</td>\n",
       "      <td>0</td>\n",
       "      <td>0</td>\n",
       "      <td>0</td>\n",
       "      <td>0</td>\n",
       "      <td>0</td>\n",
       "    </tr>\n",
       "  </tbody>\n",
       "</table>\n",
       "<p>5 rows × 22 columns</p>\n",
       "</div>"
      ],
      "text/plain": [
       "                                              project             label  id  \\\n",
       "2   Business Intelligence Analyst (m/w) - Tableau ...       Data-Sci-BI   1   \n",
       "10  Über unseren Kunden: \\n   \\n Unser Kunde ist T...  Dev-Web-Frontend   1   \n",
       "14  suche für Gestaltung von Produkten und Webseit...  Dev-Web-Frontend   1   \n",
       "15  Über unseren Kunden: \\n   \\n Unser Kunde ist e...  Dev-Web-Frontend   1   \n",
       "17  Ihre Aufgaben: \\n \\n     Mitarbeit in einem IT...  Infr-Admin-Linux   1   \n",
       "\n",
       "    Data-Engr-Big Data  Data-Sci-BI  Dev-Devops  Dev-Web-Backend  \\\n",
       "2                    0            1           0                0   \n",
       "10                   0            0           0                0   \n",
       "14                   0            0           0                0   \n",
       "15                   0            0           0                0   \n",
       "17                   0            0           0                0   \n",
       "\n",
       "    Dev-Web-Frontend  Dev-Web-Fullstack  ERP-SAP  ...  IT-Mgmt-Projectleiter  \\\n",
       "2                  0                  0        0  ...                      0   \n",
       "10                 1                  0        0  ...                      0   \n",
       "14                 1                  0        0  ...                      0   \n",
       "15                 1                  0        0  ...                      0   \n",
       "17                 0                  0        0  ...                      0   \n",
       "\n",
       "    IT-Technical-Dev  IT/Elektrotechn  Infr-Admin-Database  Infr-Admin-Linux  \\\n",
       "2                  0                0                    0                 0   \n",
       "10                 0                0                    0                 0   \n",
       "14                 0                0                    0                 0   \n",
       "15                 0                0                    0                 0   \n",
       "17                 0                0                    0                 1   \n",
       "\n",
       "    Infr-Admin-Microsoft  Infr-Admin-Net  Infr-Database-Admin  SW-Dev-Mobile  \\\n",
       "2                      0               0                    0              0   \n",
       "10                     0               0                    0              0   \n",
       "14                     0               0                    0              0   \n",
       "15                     0               0                    0              0   \n",
       "17                     0               0                    0              0   \n",
       "\n",
       "    SW-Dev-Others  \n",
       "2               0  \n",
       "10              0  \n",
       "14              0  \n",
       "15              0  \n",
       "17              0  \n",
       "\n",
       "[5 rows x 22 columns]"
      ]
     },
     "execution_count": 356,
     "metadata": {},
     "output_type": "execute_result"
    }
   ],
   "source": [
    "categories = pd.get_dummies(df['label'])\n",
    "df_new = pd.concat([df, categories], axis=1)\n",
    "df_new.head()\n"
   ]
  },
  {
   "cell_type": "code",
   "execution_count": 360,
   "metadata": {
    "scrolled": true
   },
   "outputs": [
    {
     "data": {
      "text/html": [
       "<div>\n",
       "<style scoped>\n",
       "    .dataframe tbody tr th:only-of-type {\n",
       "        vertical-align: middle;\n",
       "    }\n",
       "\n",
       "    .dataframe tbody tr th {\n",
       "        vertical-align: top;\n",
       "    }\n",
       "\n",
       "    .dataframe thead th {\n",
       "        text-align: right;\n",
       "    }\n",
       "</style>\n",
       "<table border=\"1\" class=\"dataframe\">\n",
       "  <thead>\n",
       "    <tr style=\"text-align: right;\">\n",
       "      <th></th>\n",
       "      <th>project</th>\n",
       "      <th>Data-Engr-Big Data</th>\n",
       "      <th>Data-Sci-BI</th>\n",
       "      <th>Dev-Devops</th>\n",
       "      <th>Dev-Web-Backend</th>\n",
       "      <th>Dev-Web-Frontend</th>\n",
       "      <th>Dev-Web-Fullstack</th>\n",
       "      <th>ERP-SAP</th>\n",
       "      <th>IT-Admin-Others</th>\n",
       "      <th>IT-Mgmt-Consulting</th>\n",
       "      <th>IT-Mgmt-Projectleiter</th>\n",
       "      <th>IT-Technical-Dev</th>\n",
       "      <th>IT/Elektrotechn</th>\n",
       "      <th>Infr-Admin-Database</th>\n",
       "      <th>Infr-Admin-Linux</th>\n",
       "      <th>Infr-Admin-Microsoft</th>\n",
       "      <th>Infr-Admin-Net</th>\n",
       "      <th>Infr-Database-Admin</th>\n",
       "      <th>SW-Dev-Mobile</th>\n",
       "      <th>SW-Dev-Others</th>\n",
       "    </tr>\n",
       "  </thead>\n",
       "  <tbody>\n",
       "    <tr>\n",
       "      <th>2</th>\n",
       "      <td>Business Intelligence Analyst (m/w) - Tableau ...</td>\n",
       "      <td>0</td>\n",
       "      <td>1</td>\n",
       "      <td>0</td>\n",
       "      <td>0</td>\n",
       "      <td>0</td>\n",
       "      <td>0</td>\n",
       "      <td>0</td>\n",
       "      <td>0</td>\n",
       "      <td>0</td>\n",
       "      <td>0</td>\n",
       "      <td>0</td>\n",
       "      <td>0</td>\n",
       "      <td>0</td>\n",
       "      <td>0</td>\n",
       "      <td>0</td>\n",
       "      <td>0</td>\n",
       "      <td>0</td>\n",
       "      <td>0</td>\n",
       "      <td>0</td>\n",
       "    </tr>\n",
       "    <tr>\n",
       "      <th>10</th>\n",
       "      <td>Über unseren Kunden: \\n   \\n Unser Kunde ist T...</td>\n",
       "      <td>0</td>\n",
       "      <td>0</td>\n",
       "      <td>0</td>\n",
       "      <td>0</td>\n",
       "      <td>1</td>\n",
       "      <td>0</td>\n",
       "      <td>0</td>\n",
       "      <td>0</td>\n",
       "      <td>0</td>\n",
       "      <td>0</td>\n",
       "      <td>0</td>\n",
       "      <td>0</td>\n",
       "      <td>0</td>\n",
       "      <td>0</td>\n",
       "      <td>0</td>\n",
       "      <td>0</td>\n",
       "      <td>0</td>\n",
       "      <td>0</td>\n",
       "      <td>0</td>\n",
       "    </tr>\n",
       "    <tr>\n",
       "      <th>14</th>\n",
       "      <td>suche für Gestaltung von Produkten und Webseit...</td>\n",
       "      <td>0</td>\n",
       "      <td>0</td>\n",
       "      <td>0</td>\n",
       "      <td>0</td>\n",
       "      <td>1</td>\n",
       "      <td>0</td>\n",
       "      <td>0</td>\n",
       "      <td>0</td>\n",
       "      <td>0</td>\n",
       "      <td>0</td>\n",
       "      <td>0</td>\n",
       "      <td>0</td>\n",
       "      <td>0</td>\n",
       "      <td>0</td>\n",
       "      <td>0</td>\n",
       "      <td>0</td>\n",
       "      <td>0</td>\n",
       "      <td>0</td>\n",
       "      <td>0</td>\n",
       "    </tr>\n",
       "    <tr>\n",
       "      <th>15</th>\n",
       "      <td>Über unseren Kunden: \\n   \\n Unser Kunde ist e...</td>\n",
       "      <td>0</td>\n",
       "      <td>0</td>\n",
       "      <td>0</td>\n",
       "      <td>0</td>\n",
       "      <td>1</td>\n",
       "      <td>0</td>\n",
       "      <td>0</td>\n",
       "      <td>0</td>\n",
       "      <td>0</td>\n",
       "      <td>0</td>\n",
       "      <td>0</td>\n",
       "      <td>0</td>\n",
       "      <td>0</td>\n",
       "      <td>0</td>\n",
       "      <td>0</td>\n",
       "      <td>0</td>\n",
       "      <td>0</td>\n",
       "      <td>0</td>\n",
       "      <td>0</td>\n",
       "    </tr>\n",
       "    <tr>\n",
       "      <th>17</th>\n",
       "      <td>Ihre Aufgaben: \\n \\n     Mitarbeit in einem IT...</td>\n",
       "      <td>0</td>\n",
       "      <td>0</td>\n",
       "      <td>0</td>\n",
       "      <td>0</td>\n",
       "      <td>0</td>\n",
       "      <td>0</td>\n",
       "      <td>0</td>\n",
       "      <td>0</td>\n",
       "      <td>0</td>\n",
       "      <td>0</td>\n",
       "      <td>0</td>\n",
       "      <td>0</td>\n",
       "      <td>0</td>\n",
       "      <td>1</td>\n",
       "      <td>0</td>\n",
       "      <td>0</td>\n",
       "      <td>0</td>\n",
       "      <td>0</td>\n",
       "      <td>0</td>\n",
       "    </tr>\n",
       "  </tbody>\n",
       "</table>\n",
       "</div>"
      ],
      "text/plain": [
       "                                              project  Data-Engr-Big Data  \\\n",
       "2   Business Intelligence Analyst (m/w) - Tableau ...                   0   \n",
       "10  Über unseren Kunden: \\n   \\n Unser Kunde ist T...                   0   \n",
       "14  suche für Gestaltung von Produkten und Webseit...                   0   \n",
       "15  Über unseren Kunden: \\n   \\n Unser Kunde ist e...                   0   \n",
       "17  Ihre Aufgaben: \\n \\n     Mitarbeit in einem IT...                   0   \n",
       "\n",
       "    Data-Sci-BI  Dev-Devops  Dev-Web-Backend  Dev-Web-Frontend  \\\n",
       "2             1           0                0                 0   \n",
       "10            0           0                0                 1   \n",
       "14            0           0                0                 1   \n",
       "15            0           0                0                 1   \n",
       "17            0           0                0                 0   \n",
       "\n",
       "    Dev-Web-Fullstack  ERP-SAP  IT-Admin-Others  IT-Mgmt-Consulting  \\\n",
       "2                   0        0                0                   0   \n",
       "10                  0        0                0                   0   \n",
       "14                  0        0                0                   0   \n",
       "15                  0        0                0                   0   \n",
       "17                  0        0                0                   0   \n",
       "\n",
       "    IT-Mgmt-Projectleiter  IT-Technical-Dev  IT/Elektrotechn  \\\n",
       "2                       0                 0                0   \n",
       "10                      0                 0                0   \n",
       "14                      0                 0                0   \n",
       "15                      0                 0                0   \n",
       "17                      0                 0                0   \n",
       "\n",
       "    Infr-Admin-Database  Infr-Admin-Linux  Infr-Admin-Microsoft  \\\n",
       "2                     0                 0                     0   \n",
       "10                    0                 0                     0   \n",
       "14                    0                 0                     0   \n",
       "15                    0                 0                     0   \n",
       "17                    0                 1                     0   \n",
       "\n",
       "    Infr-Admin-Net  Infr-Database-Admin  SW-Dev-Mobile  SW-Dev-Others  \n",
       "2                0                    0              0              0  \n",
       "10               0                    0              0              0  \n",
       "14               0                    0              0              0  \n",
       "15               0                    0              0              0  \n",
       "17               0                    0              0              0  "
      ]
     },
     "execution_count": 360,
     "metadata": {},
     "output_type": "execute_result"
    }
   ],
   "source": [
    "# drop the original categories column from `df`\n",
    "df_new = df_new.drop([ 'id'],axis=1)\n",
    "df_new.head()"
   ]
  },
  {
   "cell_type": "code",
   "execution_count": 27,
   "metadata": {},
   "outputs": [],
   "source": [
    "df_new.to_csv('pf_ready.csv', index=False)"
   ]
  },
  {
   "cell_type": "code",
   "execution_count": 28,
   "metadata": {},
   "outputs": [
    {
     "data": {
      "text/plain": [
       "(11106, 20)"
      ]
     },
     "execution_count": 28,
     "metadata": {},
     "output_type": "execute_result"
    }
   ],
   "source": [
    "data = pd.read_csv('pf_ready.csv')\n",
    "data.head()\n",
    "data.shape"
   ]
  },
  {
   "cell_type": "code",
   "execution_count": 29,
   "metadata": {},
   "outputs": [
    {
     "name": "stdout",
     "output_type": "stream",
     "text": [
      "data saved as mldata1\n"
     ]
    }
   ],
   "source": [
    "save_to_momgodb(data, db_data)"
   ]
  },
  {
   "cell_type": "code",
   "execution_count": 31,
   "metadata": {},
   "outputs": [
    {
     "name": "stdout",
     "output_type": "stream",
     "text": [
      "Data loaded from mongodb mldata1 collection succesfully\n"
     ]
    },
    {
     "data": {
      "text/html": [
       "<div>\n",
       "<style scoped>\n",
       "    .dataframe tbody tr th:only-of-type {\n",
       "        vertical-align: middle;\n",
       "    }\n",
       "\n",
       "    .dataframe tbody tr th {\n",
       "        vertical-align: top;\n",
       "    }\n",
       "\n",
       "    .dataframe thead th {\n",
       "        text-align: right;\n",
       "    }\n",
       "</style>\n",
       "<table border=\"1\" class=\"dataframe\">\n",
       "  <thead>\n",
       "    <tr style=\"text-align: right;\">\n",
       "      <th></th>\n",
       "      <th>Data-Engr-Big Data</th>\n",
       "      <th>Data-Sci-BI</th>\n",
       "      <th>Dev-Devops</th>\n",
       "      <th>Dev-Web-Backend</th>\n",
       "      <th>Dev-Web-Frontend</th>\n",
       "      <th>Dev-Web-Fullstack</th>\n",
       "      <th>ERP-SAP</th>\n",
       "      <th>IT-Admin-Others</th>\n",
       "      <th>IT-Mgmt-Consulting</th>\n",
       "      <th>IT-Mgmt-Projectleiter</th>\n",
       "      <th>IT-Technical-Dev</th>\n",
       "      <th>IT/Elektrotechn</th>\n",
       "      <th>Infr-Admin-Database</th>\n",
       "      <th>Infr-Admin-Linux</th>\n",
       "      <th>Infr-Admin-Microsoft</th>\n",
       "      <th>Infr-Admin-Net</th>\n",
       "      <th>Infr-Database-Admin</th>\n",
       "      <th>SW-Dev-Mobile</th>\n",
       "      <th>SW-Dev-Others</th>\n",
       "      <th>project</th>\n",
       "    </tr>\n",
       "  </thead>\n",
       "  <tbody>\n",
       "    <tr>\n",
       "      <th>0</th>\n",
       "      <td>0</td>\n",
       "      <td>0</td>\n",
       "      <td>0</td>\n",
       "      <td>0</td>\n",
       "      <td>0</td>\n",
       "      <td>0</td>\n",
       "      <td>0</td>\n",
       "      <td>0</td>\n",
       "      <td>0</td>\n",
       "      <td>0</td>\n",
       "      <td>0</td>\n",
       "      <td>0</td>\n",
       "      <td>0</td>\n",
       "      <td>0</td>\n",
       "      <td>1</td>\n",
       "      <td>0</td>\n",
       "      <td>0</td>\n",
       "      <td>0</td>\n",
       "      <td>0</td>\n",
       "      <td>Für einen unserer Kunden aus dem Finanzdienstl...</td>\n",
       "    </tr>\n",
       "    <tr>\n",
       "      <th>1</th>\n",
       "      <td>0</td>\n",
       "      <td>1</td>\n",
       "      <td>0</td>\n",
       "      <td>0</td>\n",
       "      <td>0</td>\n",
       "      <td>0</td>\n",
       "      <td>0</td>\n",
       "      <td>0</td>\n",
       "      <td>0</td>\n",
       "      <td>0</td>\n",
       "      <td>0</td>\n",
       "      <td>0</td>\n",
       "      <td>0</td>\n",
       "      <td>0</td>\n",
       "      <td>0</td>\n",
       "      <td>0</td>\n",
       "      <td>0</td>\n",
       "      <td>0</td>\n",
       "      <td>0</td>\n",
       "      <td>Business Intelligence Analyst (m/w) - Tableau ...</td>\n",
       "    </tr>\n",
       "    <tr>\n",
       "      <th>2</th>\n",
       "      <td>0</td>\n",
       "      <td>0</td>\n",
       "      <td>0</td>\n",
       "      <td>1</td>\n",
       "      <td>0</td>\n",
       "      <td>0</td>\n",
       "      <td>0</td>\n",
       "      <td>0</td>\n",
       "      <td>0</td>\n",
       "      <td>0</td>\n",
       "      <td>0</td>\n",
       "      <td>0</td>\n",
       "      <td>0</td>\n",
       "      <td>0</td>\n",
       "      <td>0</td>\n",
       "      <td>0</td>\n",
       "      <td>0</td>\n",
       "      <td>0</td>\n",
       "      <td>0</td>\n",
       "      <td>Konzeption, Customizing sowie Softwareanpassun...</td>\n",
       "    </tr>\n",
       "    <tr>\n",
       "      <th>3</th>\n",
       "      <td>0</td>\n",
       "      <td>0</td>\n",
       "      <td>0</td>\n",
       "      <td>0</td>\n",
       "      <td>0</td>\n",
       "      <td>0</td>\n",
       "      <td>0</td>\n",
       "      <td>0</td>\n",
       "      <td>1</td>\n",
       "      <td>0</td>\n",
       "      <td>0</td>\n",
       "      <td>0</td>\n",
       "      <td>0</td>\n",
       "      <td>0</td>\n",
       "      <td>0</td>\n",
       "      <td>0</td>\n",
       "      <td>0</td>\n",
       "      <td>0</td>\n",
       "      <td>0</td>\n",
       "      <td>Future Consulting GmbH \\r\\nentscheiden Sie sic...</td>\n",
       "    </tr>\n",
       "    <tr>\n",
       "      <th>4</th>\n",
       "      <td>0</td>\n",
       "      <td>0</td>\n",
       "      <td>0</td>\n",
       "      <td>0</td>\n",
       "      <td>0</td>\n",
       "      <td>0</td>\n",
       "      <td>0</td>\n",
       "      <td>0</td>\n",
       "      <td>0</td>\n",
       "      <td>0</td>\n",
       "      <td>0</td>\n",
       "      <td>0</td>\n",
       "      <td>0</td>\n",
       "      <td>0</td>\n",
       "      <td>1</td>\n",
       "      <td>0</td>\n",
       "      <td>0</td>\n",
       "      <td>0</td>\n",
       "      <td>0</td>\n",
       "      <td>Als Mitglied eines kleinen, dynamischen Teams ...</td>\n",
       "    </tr>\n",
       "  </tbody>\n",
       "</table>\n",
       "</div>"
      ],
      "text/plain": [
       "   Data-Engr-Big Data  Data-Sci-BI  Dev-Devops  Dev-Web-Backend  \\\n",
       "0                   0            0           0                0   \n",
       "1                   0            1           0                0   \n",
       "2                   0            0           0                1   \n",
       "3                   0            0           0                0   \n",
       "4                   0            0           0                0   \n",
       "\n",
       "   Dev-Web-Frontend  Dev-Web-Fullstack  ERP-SAP  IT-Admin-Others  \\\n",
       "0                 0                  0        0                0   \n",
       "1                 0                  0        0                0   \n",
       "2                 0                  0        0                0   \n",
       "3                 0                  0        0                0   \n",
       "4                 0                  0        0                0   \n",
       "\n",
       "   IT-Mgmt-Consulting  IT-Mgmt-Projectleiter  IT-Technical-Dev  \\\n",
       "0                   0                      0                 0   \n",
       "1                   0                      0                 0   \n",
       "2                   0                      0                 0   \n",
       "3                   1                      0                 0   \n",
       "4                   0                      0                 0   \n",
       "\n",
       "   IT/Elektrotechn  Infr-Admin-Database  Infr-Admin-Linux  \\\n",
       "0                0                    0                 0   \n",
       "1                0                    0                 0   \n",
       "2                0                    0                 0   \n",
       "3                0                    0                 0   \n",
       "4                0                    0                 0   \n",
       "\n",
       "   Infr-Admin-Microsoft  Infr-Admin-Net  Infr-Database-Admin  SW-Dev-Mobile  \\\n",
       "0                     1               0                    0              0   \n",
       "1                     0               0                    0              0   \n",
       "2                     0               0                    0              0   \n",
       "3                     0               0                    0              0   \n",
       "4                     1               0                    0              0   \n",
       "\n",
       "   SW-Dev-Others                                            project  \n",
       "0              0  Für einen unserer Kunden aus dem Finanzdienstl...  \n",
       "1              0  Business Intelligence Analyst (m/w) - Tableau ...  \n",
       "2              0  Konzeption, Customizing sowie Softwareanpassun...  \n",
       "3              0  Future Consulting GmbH \\r\\nentscheiden Sie sic...  \n",
       "4              0  Als Mitglied eines kleinen, dynamischen Teams ...  "
      ]
     },
     "execution_count": 31,
     "metadata": {},
     "output_type": "execute_result"
    }
   ],
   "source": [
    "ready_data = load_data_from_momgodb(db_data)\n",
    "ready_data.head()"
   ]
  },
  {
   "cell_type": "code",
   "execution_count": 312,
   "metadata": {},
   "outputs": [],
   "source": [
    "feature = ready_data['project']\n",
    "target = ready_data.drop('project', axis=1)\n",
    "target_name = list(target.columns.values)"
   ]
  },
  {
   "cell_type": "code",
   "execution_count": 33,
   "metadata": {},
   "outputs": [],
   "source": [
    "from nltk.stem import WordNetLemmatizer \n",
    "  \n",
    "lemmatizer = WordNetLemmatizer() "
   ]
  },
  {
   "cell_type": "code",
   "execution_count": 34,
   "metadata": {},
   "outputs": [
    {
     "name": "stdout",
     "output_type": "stream",
     "text": [
      "rocks : running\n",
      "corpora : corpus\n",
      "better : run\n"
     ]
    }
   ],
   "source": [
    "print(\"rocks :\", lemmatizer.lemmatize(\"running\")) \n",
    "print(\"corpora :\", lemmatizer.lemmatize(\"corpora\"))\n",
    "print(\"better :\", lemmatizer.lemmatize(\"running\", pos =\"v\"))"
   ]
  },
  {
   "cell_type": "code",
   "execution_count": 35,
   "metadata": {},
   "outputs": [],
   "source": [
    "#german cities\n",
    "from bundeslander import Baden_Württemberg, Bayern, Berlin, Brandenburg, Bremen, Hamburg, Hessen, Mecklenburg_Vorpommern, Niedersachsen, Nordrhein_Westfalen, Rheinland_Pfalz, Saarland, Sachsen, Sachsen_Anhalt, Schleswig_Holstein, Thüringen, Ausland\n",
    "All = Baden_Württemberg + Bayern + Berlin + Brandenburg + Bremen +Hamburg + Hessen + Mecklenburg_Vorpommern + Niedersachsen + Nordrhein_Westfalen + Rheinland_Pfalz + Saarland + Sachsen + Sachsen_Anhalt + Schleswig_Holstein + Thüringen + Ausland\n",
    "cities = list(set([city.lower() for city in All]))"
   ]
  },
  {
   "cell_type": "code",
   "execution_count": 36,
   "metadata": {},
   "outputs": [],
   "source": [
    "#load saved model\n",
    "import pickle\n",
    "from sklearn.externals import joblib\n",
    "#filename = '../stopwords.sav'\n",
    "#stopwords = joblib.load(filename)"
   ]
  },
  {
   "cell_type": "code",
   "execution_count": 37,
   "metadata": {},
   "outputs": [],
   "source": [
    "from nltk.stem.porter import PorterStemmer\n",
    "from nltk.stem.snowball import SnowballStemmer"
   ]
  },
  {
   "cell_type": "code",
   "execution_count": 46,
   "metadata": {},
   "outputs": [
    {
     "data": {
      "text/plain": [
       "['he', 'be', 'walk', 'to', 'school']"
      ]
     },
     "execution_count": 46,
     "metadata": {},
     "output_type": "execute_result"
    }
   ],
   "source": [
    "from nltk import pos_tag\n",
    "from nltk.stem import WordNetLemmatizer\n",
    "\n",
    "wnl = WordNetLemmatizer()\n",
    "\n",
    "def penn2morphy(penntag):\n",
    "    \"\"\" Converts Penn Treebank tags to WordNet. \"\"\"\n",
    "    morphy_tag = {'NN':'n', 'JJ':'a',\n",
    "                  'VB':'v', 'RB':'r'}\n",
    "    try:\n",
    "        return morphy_tag[penntag[:2]]\n",
    "    except:\n",
    "        return 'n' \n",
    "    \n",
    "def lemmatize_sent(text): \n",
    "    # Text input is string, returns lowercased strings.\n",
    "    return [wnl.lemmatize(word.lower(), pos=penn2morphy(tag)) \n",
    "            for word, tag in pos_tag(word_tokenize(text))]\n",
    "\n",
    "lemmatize_sent('He is walking to school')"
   ]
  },
  {
   "cell_type": "code",
   "execution_count": 39,
   "metadata": {},
   "outputs": [],
   "source": [
    "import enchant\n",
    "d = enchant.Dict(\"en_US\")\n",
    "d.check('hello')"
   ]
  },
  {
   "cell_type": "code",
   "execution_count": 320,
   "metadata": {},
   "outputs": [],
   "source": [
    "new_stop = ['know','com','schnittstellen', 'lösungen','solutions', 'user','position','bestehenden']\n",
    "new_stop1 = ['rückmeldung', 'contractor', 'berufserfahrung', 'dienstleister',  'absprache', 'umfangreiche']\n",
    "new_stop2 = ['tag', 'kollegen', 'fachliche', 'verständnis', 'hr', 'tätigkeiten', 'gl', 'umgebung', '§§', 'gr']\n",
    "new_stop3 = ['hands', 'aufgabenbeschreibung', 'anpassung', 'gemäß', 'durchführen','hören', 'ausgeprägte']\n",
    "new_stop4 = ['interessant', 'kontaktaufnahme', 'deutschland', 'via', 'sprachen', 'mitbringen', 'lebenslauf']\n",
    "new_stop5 = ['st', 'bewertung', 'langjährige', 'grundkenntnisse', 'erforderlich', 'abgeschlossenes', 'externe']\n",
    "new_stop6 = ['bereitstellung', 'festanstellung', 'reviews', 'projektsprache', 'fähigkeit', 'beschreibung']"
   ]
  },
  {
   "cell_type": "code",
   "execution_count": 321,
   "metadata": {},
   "outputs": [],
   "source": [
    "import nltk\n",
    "with open('german_stopwords_full.txt', 'r') as f:\n",
    "    stopwords_germ = f.read().splitlines()\n",
    "\n",
    "stopwords_eng = nltk.corpus.stopwords.words('english')\n",
    "stopwords = stopwords_eng + stopwords_germ + cities + new_stop + new_stop1 + new_stop2 + new_stop3 + new_stop4 + new_stop5 + new_stop6"
   ]
  },
  {
   "cell_type": "code",
   "execution_count": 283,
   "metadata": {},
   "outputs": [],
   "source": [
    "pickle.dump(stopwords, open('stopwords_sl', 'wb'))"
   ]
  },
  {
   "cell_type": "code",
   "execution_count": 324,
   "metadata": {},
   "outputs": [],
   "source": [
    "av = {\n",
    "    'entwick': 'entwicklung',\n",
    "    'automat': 'automate',\n",
    "    'scrum': 'scrum',\n",
    "    'container': 'containerization',\n",
    "    'admin': 'administration',\n",
    "    'analys': 'analyst',\n",
    "    'app': 'application',\n",
    "    'developer': 'entwicklung',\n",
    "    'programming': 'entwicklung',\n",
    "    'mobil': 'mobil',\n",
    "    'berater': 'run'\n",
    "}"
   ]
  },
  {
   "cell_type": "code",
   "execution_count": 325,
   "metadata": {},
   "outputs": [],
   "source": [
    "import string\n",
    "from string import punctuation"
   ]
  },
  {
   "cell_type": "code",
   "execution_count": 326,
   "metadata": {},
   "outputs": [],
   "source": [
    "def tokenize(text):\n",
    "    \"\"\"Normalize, tokenize and stem text string\n",
    "    \n",
    "    Args:\n",
    "    text: string. String containing message for processing\n",
    "       \n",
    "    Returns:\n",
    "    stemmed: list of strings. List containing normalized and stemmed word tokens\n",
    "    \"\"\"\n",
    "    # Stem word tokens and remove stop words\n",
    "    #stemmer_eng = SnowballStemmer(\"english\", ignore_stopwords=True)\n",
    "    #stemmer_germ = SnowballStemmer(\"german\", ignore_stopwords=True) \n",
    "    try:\n",
    "        # Convert text to lowercase and remove punctuation\n",
    "        text = re.sub(r'(\\d)',' ',text.lower())\n",
    "        text = re.sub('[%s]' % re.escape(string.punctuation), ' ', text) #remove non alphbetic text\n",
    "\n",
    "        # Tokenize words\n",
    "        #tokens = word_tokenize(text)\n",
    "        #print(tokens)\n",
    "        \n",
    "        tokens = word_tokenize(text)\n",
    "        stemmed = [word for word in tokens if word not in stopwords and len(word) > 1]\n",
    "        #stemmed = [stemmer_eng.stem(word) for word in stemmed if len(word) > 1]\n",
    "        #stemmed = [word for word in tokens if word not in stopwords and len(word) > 1]\n",
    "        for index, word in enumerate(stemmed):\n",
    "            for key, value in av.items():\n",
    "                if key in word:\n",
    "                    stemmed[index] = value\n",
    "        \n",
    "        #stemmed = [word for word in stemmed if word not in stopwords and len(word) > 2]\n",
    "    except IndexError:\n",
    "        pass\n",
    "\n",
    "    return stemmed"
   ]
  },
  {
   "cell_type": "code",
   "execution_count": 327,
   "metadata": {},
   "outputs": [
    {
     "data": {
      "text/plain": [
       "['entwicklung',\n",
       " 'love',\n",
       " 'running',\n",
       " 'jumped',\n",
       " 'runner',\n",
       " 'entwicklung',\n",
       " 'entwicklung']"
      ]
     },
     "execution_count": 327,
     "metadata": {},
     "output_type": "execute_result"
    }
   ],
   "source": [
    "tokenize(' beschreibung  entwicklung bin ich i love running  i am a jumped runner entwickler softwareentwickler')"
   ]
  },
  {
   "cell_type": "code",
   "execution_count": null,
   "metadata": {},
   "outputs": [],
   "source": [
    "feature_train = fea"
   ]
  },
  {
   "cell_type": "code",
   "execution_count": 284,
   "metadata": {},
   "outputs": [],
   "source": [
    "text_new = \"\"\"\n",
    "Sie suchen ein neues Projekt?\n",
    "Für ein Kundenprojekt sucht Experis Sie als SAP Basis Administrator (m/w/d) am Standort Hannover.\n",
    "\n",
    "\n",
    "Aufgaben:\n",
    "Durchführen von Transitions- und/oder Migrationsprojekte bei Neu- und Bestandskunden mit diversen Plattformen (häufig Einbindung von Fremdlandschaften in IT-Systemlandschaft)\n",
    "\n",
    "\n",
    "Sprachkenntnisse: Deutsch\n",
    "\n",
    "Einsatzort: Hannover\n",
    "\n",
    "Laufzeit: \n",
    "\n",
    "Skills:\n",
    "Project Execution & Control\n",
    "System Administration\n",
    "Project Management Experience - Transition Projects\n",
    "SAP Basis\n",
    "SAP Migration\n",
    "SAP Transport Management System (STMS)\n",
    "Das richtige Projekt?\n",
    "Bei Interesse senden Sie uns bitte Ihr Profil unter Angabe des Projektnamens sowie des jeweiligen Ansprechpartners. Über eine Info zu Ihrer Verfügbarkeit (räumlich und zeitlich) sowie der Angabe Ihres Stundensatzes sind wir dankbar.\n",
    "\n",
    "Wir leben Vielfalt und Chancengleichheit und freuen uns deshalb natürlich über Bewerbungen von Menschen mit Behinderung. Alle personenbezogenen Formulierungen in dieser Stellenanzeige sind geschlechtsneutral zu betrachten.\n",
    "\"\"\""
   ]
  },
  {
   "cell_type": "code",
   "execution_count": 125,
   "metadata": {},
   "outputs": [],
   "source": [
    "from sklearn.pipeline import Pipeline\n",
    "from sklearn.feature_extraction.text import CountVectorizer, TfidfTransformer\n",
    "from sklearn.model_selection import train_test_split\n",
    "from sklearn.ensemble import RandomForestClassifier\n",
    "from sklearn.multioutput import MultiOutputClassifier\n",
    "from sklearn.metrics import accuracy_score, precision_score, recall_score, f1_score, make_scorer\n",
    "from sklearn.model_selection import GridSearchCV\n",
    "from sklearn.model_selection import train_test_split\n",
    "import warnings\n",
    "\n",
    "warnings.simplefilter('ignore')"
   ]
  },
  {
   "cell_type": "code",
   "execution_count": 126,
   "metadata": {},
   "outputs": [],
   "source": [
    "np.random.seed(17)\n",
    "X_train, X_test, Y_train, Y_test = train_test_split(feature, target, random_state = 42)"
   ]
  },
  {
   "cell_type": "code",
   "execution_count": null,
   "metadata": {},
   "outputs": [],
   "source": [
    "{'clf__estimator__min_samples_split': 2,\n",
    " 'clf__estimator__n_estimators': 25,\n",
    " 'tfidf__use_idf': False,\n",
    " 'vect__min_df': 1}"
   ]
  },
  {
   "cell_type": "code",
   "execution_count": 131,
   "metadata": {},
   "outputs": [],
   "source": [
    "pipeline = Pipeline([\n",
    "        ('vect', CountVectorizer(tokenizer = tokenize, min_df = 1, ngram_range=(1,2))),\n",
    "        ('tfidf', TfidfTransformer(use_idf = False)),\n",
    "        ('clf', MultiOutputClassifier(RandomForestClassifier(n_estimators = 25,\n",
    "                                                             min_samples_split = 2)))\n",
    "    ])"
   ]
  },
  {
   "cell_type": "code",
   "execution_count": 132,
   "metadata": {},
   "outputs": [
    {
     "data": {
      "text/plain": [
       "Pipeline(memory=None,\n",
       "         steps=[('vect',\n",
       "                 CountVectorizer(analyzer='word', binary=False,\n",
       "                                 decode_error='strict',\n",
       "                                 dtype=<class 'numpy.int64'>, encoding='utf-8',\n",
       "                                 input='content', lowercase=True, max_df=1.0,\n",
       "                                 max_features=None, min_df=1,\n",
       "                                 ngram_range=(1, 2), preprocessor=None,\n",
       "                                 stop_words=None, strip_accents=None,\n",
       "                                 token_pattern='(?u)\\\\b\\\\w\\\\w+\\\\b',\n",
       "                                 tokenizer=<function tokenize at...\n",
       "                 MultiOutputClassifier(estimator=RandomForestClassifier(bootstrap=True,\n",
       "                                                                        class_weight=None,\n",
       "                                                                        criterion='gini',\n",
       "                                                                        max_depth=None,\n",
       "                                                                        max_features='auto',\n",
       "                                                                        max_leaf_nodes=None,\n",
       "                                                                        min_impurity_decrease=0.0,\n",
       "                                                                        min_impurity_split=None,\n",
       "                                                                        min_samples_leaf=1,\n",
       "                                                                        min_samples_split=2,\n",
       "                                                                        min_weight_fraction_leaf=0.0,\n",
       "                                                                        n_estimators=25,\n",
       "                                                                        n_jobs=None,\n",
       "                                                                        oob_score=False,\n",
       "                                                                        random_state=None,\n",
       "                                                                        verbose=0,\n",
       "                                                                        warm_start=False),\n",
       "                                       n_jobs=None))],\n",
       "         verbose=False)"
      ]
     },
     "execution_count": 132,
     "metadata": {},
     "output_type": "execute_result"
    }
   ],
   "source": [
    "pipeline.fit(X_train, Y_train)"
   ]
  },
  {
   "cell_type": "code",
   "execution_count": 282,
   "metadata": {},
   "outputs": [],
   "source": [
    "pickle.dump(pipeline, open('models/new_model', 'wb'))"
   ]
  },
  {
   "cell_type": "code",
   "execution_count": 139,
   "metadata": {},
   "outputs": [],
   "source": [
    "new_pred_test = pipeline.predict(X_test)"
   ]
  },
  {
   "cell_type": "code",
   "execution_count": 140,
   "metadata": {},
   "outputs": [
    {
     "name": "stdout",
     "output_type": "stream",
     "text": [
      "                       Accuracy  Precision    Recall        F1\n",
      "Data-Engr-Big Data     0.988835   0.977064  0.788889  0.872951\n",
      "Data-Sci-BI            0.993517   0.985507  0.800000  0.883117\n",
      "Dev-Devops             0.998379   1.000000  0.847458  0.917431\n",
      "Dev-Web-Backend        0.971727   0.953560  0.829071  0.886969\n",
      "Dev-Web-Frontend       0.984693   0.944186  0.735507  0.826884\n",
      "Dev-Web-Fullstack      0.975509   0.927649  0.768737  0.840749\n",
      "ERP-SAP                0.988475   0.977505  0.957916  0.967611\n",
      "IT-Admin-Others        0.994598   0.960396  0.788618  0.866071\n",
      "IT-Mgmt-Consulting     0.983252   0.970930  0.800959  0.877792\n",
      "IT-Mgmt-Projectleiter  0.981632   0.979310  0.747368  0.847761\n",
      "IT-Technical-Dev       0.993877   0.946667  0.702970  0.806818\n",
      "IT/Elektrotechn        0.997119   0.950000  0.730769  0.826087\n",
      "Infr-Admin-Database    0.995318   0.968750  0.720930  0.826667\n",
      "Infr-Admin-Linux       0.997659   1.000000  0.831169  0.907801\n",
      "Infr-Admin-Microsoft   0.983612   0.972452  0.813364  0.885822\n",
      "Infr-Admin-Net         0.998019   1.000000  0.907563  0.951542\n",
      "Infr-Database-Admin    0.988835   0.956140  0.807407  0.875502\n",
      "SW-Dev-Mobile          0.995678   0.948718  0.787234  0.860465\n",
      "SW-Dev-Others          0.982532   0.951977  0.808153  0.874189\n"
     ]
    }
   ],
   "source": [
    "eval_metrics = get_eval_metrics(np.array(Y_test), new_pred_test, col_names)\n",
    "\n",
    "print(eval_metrics)"
   ]
  },
  {
   "cell_type": "code",
   "execution_count": 228,
   "metadata": {},
   "outputs": [
    {
     "data": {
      "text/plain": [
       "'Business Intelligence Analyst (m/w) - Tableau Desktop \\r\\n \\r\\n \\r\\nFür ein Kundenprojekt suchen wir Sie als \\r\\n \\r\\n Business Intelligence Analyst (m/w) - Tableau Desktop. \\r\\n \\r\\nDer Kunde hat ein sehr hohes, kontinui ...'"
      ]
     },
     "execution_count": 228,
     "metadata": {},
     "output_type": "execute_result"
    }
   ],
   "source": [
    "feature[1]"
   ]
  },
  {
   "cell_type": "code",
   "execution_count": 237,
   "metadata": {},
   "outputs": [
    {
     "data": {
      "text/plain": [
       "['Data-Engr-Big Data',\n",
       " 'Data-Sci-BI',\n",
       " 'Dev-Devops',\n",
       " 'Dev-Web-Backend',\n",
       " 'Dev-Web-Frontend',\n",
       " 'Dev-Web-Fullstack',\n",
       " 'ERP-SAP',\n",
       " 'IT-Admin-Others',\n",
       " 'IT-Mgmt-Consulting',\n",
       " 'IT-Mgmt-Projectleiter',\n",
       " 'IT-Technical-Dev',\n",
       " 'IT/Elektrotechn',\n",
       " 'Infr-Admin-Database',\n",
       " 'Infr-Admin-Linux',\n",
       " 'Infr-Admin-Microsoft',\n",
       " 'Infr-Admin-Net',\n",
       " 'Infr-Database-Admin',\n",
       " 'SW-Dev-Mobile',\n",
       " 'SW-Dev-Others']"
      ]
     },
     "execution_count": 237,
     "metadata": {},
     "output_type": "execute_result"
    }
   ],
   "source": [
    "col_names"
   ]
  },
  {
   "cell_type": "code",
   "execution_count": 175,
   "metadata": {},
   "outputs": [],
   "source": [
    "test_data = []\n",
    "for data in X_test:\n",
    "    test_data.append(data)"
   ]
  },
  {
   "cell_type": "code",
   "execution_count": 177,
   "metadata": {},
   "outputs": [
    {
     "data": {
      "text/plain": [
       "'Für unseren langjährigen Kunden suchen wir ab Januar 2019 einen SAP CS Berater. \\r\\nIhre Hauptaufgabe besteht in der Sicherstellung des laufenden Systemsbetriebs und der Unterstützung bei den Serviceaufträgen.  \\r\\n \\r\\nAufgaben: \\r\\n• SAP CS Support \\r\\n• Support bei dem Tagesgeschäft \\r\\n• Debuggen und Durchführung kleinerer Bugfixes \\r\\n \\r\\n \\r\\nBenötigte Erfahrung: \\r\\n• Gute Kenntnisse im SAP CS \\r\\n• Kenntnisse im Bereich Serviceaufträge \\r\\n• ABAP Kenntnisse (Lesen und Debugging) \\r\\n \\r\\n \\r\\nProjektdetails: \\r\\n• Start: Januar 2019 \\r\\n• Laufzeit: 6 Monate (+ Verlängerungsoption) \\r\\n• Auslastung: 2-3 Tage/Woche \\r\\n• Ort: 100% Remote \\r\\n• Sprachen: Deutsch \\r\\n \\r\\nTelefonische Interviews mit unserem Kunden können kurzfristig vereinbart werden, mit schneller Entscheidung im Anschluss. \\r\\nBei Interesse an diesem Projekt, oder wenn Sie hierfür jemanden empfehlen können, kommen Sie gerne auf mich zu.'"
      ]
     },
     "execution_count": 177,
     "metadata": {},
     "output_type": "execute_result"
    }
   ],
   "source": [
    "test_data[11]"
   ]
  },
  {
   "cell_type": "code",
   "execution_count": 280,
   "metadata": {},
   "outputs": [
    {
     "data": {
      "text/plain": [
       "('SW-Dev-Mobile', 0.4)"
      ]
     },
     "execution_count": 280,
     "metadata": {},
     "output_type": "execute_result"
    }
   ],
   "source": [
    "get_category_prob(text_new, pipeline, col_names)"
   ]
  },
  {
   "cell_type": "code",
   "execution_count": 261,
   "metadata": {},
   "outputs": [],
   "source": [
    "def get_category_prob(text, model, labels):\n",
    "    predicted_prob_distr = model.predict_proba([text])\n",
    "    results = [val[0][1] for val in predicted_prob_distr]\n",
    "    predicted_index = np.argmax(results)\n",
    "    prediction_percentage = max(results)\n",
    "    return labels[predicted_index], prediction_percentage\n",
    "    "
   ]
  },
  {
   "cell_type": "code",
   "execution_count": 243,
   "metadata": {},
   "outputs": [],
   "source": [
    "def get_category(text, model, labels):\n",
    "    class_labels = model.predict([text])\n",
    "    prob = model.predict_proba\n",
    "    #classification_results = dict(zip(labels.columns, class_labels))\n",
    "    return class_labels\n",
    "    "
   ]
  },
  {
   "cell_type": "code",
   "execution_count": 133,
   "metadata": {},
   "outputs": [],
   "source": [
    "# Define performance metric for use in grid search scoring object\n",
    "def performance_metric(y_true, y_pred):\n",
    "    \"\"\"Calculate median F1 score for all of the output classifiers\n",
    "        Args:\n",
    "        y_true: array. Array containing actual labels.\n",
    "        y_pred: array. Array containing predicted labels.\n",
    "        Returns:\n",
    "        score: float. Median F1 score for all of the output classifiers\n",
    "        \"\"\"\n",
    "    f1_list = []\n",
    "    for i in range(np.shape(y_pred)[1]):\n",
    "        f1 = f1_score(np.array(y_true)[:, i], y_pred[:, i])\n",
    "        f1_list.append(f1)\n",
    "        \n",
    "    score = np.median(f1_list)\n",
    "    return score"
   ]
  },
  {
   "cell_type": "code",
   "execution_count": 134,
   "metadata": {},
   "outputs": [],
   "source": [
    "def build_model():\n",
    "    \"\"\"Build a machine learning pipeline\n",
    "    \n",
    "    Args:\n",
    "    None\n",
    "       \n",
    "    Returns:\n",
    "    cv: gridsearchcv object. Gridsearchcv object that transforms the data, creates the \n",
    "    model object and finds the optimal model parameters.\n",
    "    \"\"\"\n",
    "    # Create pipeline\n",
    "    pipeline = Pipeline([\n",
    "        ('vect', CountVectorizer(tokenizer = tokenize, min_df = 5, ngram_range=(1,2))),\n",
    "        ('tfidf', TfidfTransformer(use_idf = True)),\n",
    "        ('clf', MultiOutputClassifier(RandomForestClassifier(n_estimators = 10,\n",
    "                                                             min_samples_split = 10)))\n",
    "    ])\n",
    "    \n",
    "    # Create parameters dictionary\n",
    "    parameters = {'vect__min_df': [1, 5],\n",
    "                  'tfidf__use_idf':[True, False],\n",
    "                  'clf__estimator__n_estimators':[10, 25], \n",
    "                  'clf__estimator__min_samples_split':[2, 5, 10]}\n",
    "    \n",
    "    # Create scorer\n",
    "    scorer = make_scorer(performance_metric)\n",
    "    \n",
    "    # Create grid search object\n",
    "    cv = GridSearchCV(pipeline, param_grid = parameters, scoring = scorer, verbose = 10)\n",
    "    return cv"
   ]
  },
  {
   "cell_type": "code",
   "execution_count": 135,
   "metadata": {},
   "outputs": [],
   "source": [
    "def evaluate_model(model, X_test, Y_test, category_names):\n",
    "    \"\"\"Returns test accuracy, precision, recall and F1 score for fitted model\n",
    "    \n",
    "    Args:\n",
    "    model: model object. Fitted model object.\n",
    "    X_test: dataframe. Dataframe containing test features dataset.\n",
    "    Y_test: dataframe. Dataframe containing test labels dataset.\n",
    "    category_names: list of strings. List containing category names.\n",
    "    \n",
    "    Returns:\n",
    "    None\n",
    "    \"\"\"\n",
    "    # Predict labels for test dataset\n",
    "    Y_pred = model.predict(X_test)\n",
    "    \n",
    "    # Calculate and print evaluation metrics\n",
    "    eval_metrics = get_eval_metrics(np.array(Y_test), Y_pred, category_names)\n",
    "    print(eval_metrics)"
   ]
  },
  {
   "cell_type": "code",
   "execution_count": 136,
   "metadata": {},
   "outputs": [],
   "source": [
    "def save_model(model, model_filepath):\n",
    "    \"\"\"Pickle fitted model\n",
    "    \n",
    "    Args:\n",
    "    model: model object. Fitted model object.\n",
    "    model_filepath: string. Filepath for where fitted model should be saved\n",
    "    \n",
    "    Returns:\n",
    "    None\n",
    "    \"\"\"\n",
    "    pickle.dump(model.best_estimator_, open(model_filepath, 'wb'))"
   ]
  },
  {
   "cell_type": "code",
   "execution_count": 63,
   "metadata": {},
   "outputs": [],
   "source": [
    "def get_eval_metrics(actual, predicted, col_names):\n",
    "    \"\"\"Calculate evaluation metrics for ML model\n",
    "    \n",
    "    Args:\n",
    "    actual: array. Array containing actual labels.\n",
    "    predicted: array. Array containing predicted labels.\n",
    "    col_names: list of strings. List containing names for each of the predicted fields.\n",
    "       \n",
    "    Returns:\n",
    "    metrics_df: dataframe. Dataframe containing the accuracy, precision, recall \n",
    "    and f1 score for a given set of actual and predicted labels.\n",
    "    \"\"\"\n",
    "    metrics = []\n",
    "    \n",
    "    # Calculate evaluation metrics for each set of labels\n",
    "    for i in range(len(col_names)):\n",
    "        accuracy = accuracy_score(actual[:, i], predicted[:, i])\n",
    "        precision = precision_score(actual[:, i], predicted[:, i])\n",
    "        recall = recall_score(actual[:, i], predicted[:, i])\n",
    "        f1 = f1_score(actual[:, i], predicted[:, i])\n",
    "        \n",
    "        metrics.append([accuracy, precision, recall, f1])\n",
    "    \n",
    "    # Create dataframe containing metrics\n",
    "    metrics = np.array(metrics)\n",
    "    metrics_df = pd.DataFrame(data = metrics, index = col_names, columns = ['Accuracy', 'Precision', 'Recall', 'F1'])\n",
    "      \n",
    "    return metrics_df"
   ]
  },
  {
   "cell_type": "code",
   "execution_count": 54,
   "metadata": {},
   "outputs": [],
   "source": [
    "model = build_model()"
   ]
  },
  {
   "cell_type": "code",
   "execution_count": 55,
   "metadata": {
    "scrolled": false
   },
   "outputs": [
    {
     "name": "stdout",
     "output_type": "stream",
     "text": [
      "Fitting 3 folds for each of 24 candidates, totalling 72 fits\n",
      "[CV] clf__estimator__min_samples_split=2, clf__estimator__n_estimators=10, tfidf__use_idf=True, vect__min_df=1 \n"
     ]
    },
    {
     "name": "stderr",
     "output_type": "stream",
     "text": [
      "[Parallel(n_jobs=1)]: Using backend SequentialBackend with 1 concurrent workers.\n"
     ]
    },
    {
     "name": "stdout",
     "output_type": "stream",
     "text": [
      "[CV]  clf__estimator__min_samples_split=2, clf__estimator__n_estimators=10, tfidf__use_idf=True, vect__min_df=1, score=0.699, total= 8.7min\n",
      "[CV] clf__estimator__min_samples_split=2, clf__estimator__n_estimators=10, tfidf__use_idf=True, vect__min_df=1 \n"
     ]
    },
    {
     "name": "stderr",
     "output_type": "stream",
     "text": [
      "[Parallel(n_jobs=1)]: Done   1 out of   1 | elapsed:  8.7min remaining:    0.0s\n"
     ]
    },
    {
     "name": "stdout",
     "output_type": "stream",
     "text": [
      "[CV]  clf__estimator__min_samples_split=2, clf__estimator__n_estimators=10, tfidf__use_idf=True, vect__min_df=1, score=0.655, total= 8.3min\n",
      "[CV] clf__estimator__min_samples_split=2, clf__estimator__n_estimators=10, tfidf__use_idf=True, vect__min_df=1 \n"
     ]
    },
    {
     "name": "stderr",
     "output_type": "stream",
     "text": [
      "[Parallel(n_jobs=1)]: Done   2 out of   2 | elapsed: 16.9min remaining:    0.0s\n"
     ]
    },
    {
     "name": "stdout",
     "output_type": "stream",
     "text": [
      "[CV]  clf__estimator__min_samples_split=2, clf__estimator__n_estimators=10, tfidf__use_idf=True, vect__min_df=1, score=0.678, total= 8.6min\n",
      "[CV] clf__estimator__min_samples_split=2, clf__estimator__n_estimators=10, tfidf__use_idf=True, vect__min_df=5 \n"
     ]
    },
    {
     "name": "stderr",
     "output_type": "stream",
     "text": [
      "[Parallel(n_jobs=1)]: Done   3 out of   3 | elapsed: 25.5min remaining:    0.0s\n"
     ]
    },
    {
     "name": "stdout",
     "output_type": "stream",
     "text": [
      "[CV]  clf__estimator__min_samples_split=2, clf__estimator__n_estimators=10, tfidf__use_idf=True, vect__min_df=5, score=0.695, total= 8.3min\n",
      "[CV] clf__estimator__min_samples_split=2, clf__estimator__n_estimators=10, tfidf__use_idf=True, vect__min_df=5 \n"
     ]
    },
    {
     "name": "stderr",
     "output_type": "stream",
     "text": [
      "[Parallel(n_jobs=1)]: Done   4 out of   4 | elapsed: 33.8min remaining:    0.0s\n"
     ]
    },
    {
     "name": "stdout",
     "output_type": "stream",
     "text": [
      "[CV]  clf__estimator__min_samples_split=2, clf__estimator__n_estimators=10, tfidf__use_idf=True, vect__min_df=5, score=0.678, total= 8.4min\n",
      "[CV] clf__estimator__min_samples_split=2, clf__estimator__n_estimators=10, tfidf__use_idf=True, vect__min_df=5 \n"
     ]
    },
    {
     "name": "stderr",
     "output_type": "stream",
     "text": [
      "[Parallel(n_jobs=1)]: Done   5 out of   5 | elapsed: 42.3min remaining:    0.0s\n"
     ]
    },
    {
     "name": "stdout",
     "output_type": "stream",
     "text": [
      "[CV]  clf__estimator__min_samples_split=2, clf__estimator__n_estimators=10, tfidf__use_idf=True, vect__min_df=5, score=0.688, total= 8.4min\n",
      "[CV] clf__estimator__min_samples_split=2, clf__estimator__n_estimators=10, tfidf__use_idf=False, vect__min_df=1 \n"
     ]
    },
    {
     "name": "stderr",
     "output_type": "stream",
     "text": [
      "[Parallel(n_jobs=1)]: Done   6 out of   6 | elapsed: 50.7min remaining:    0.0s\n"
     ]
    },
    {
     "name": "stdout",
     "output_type": "stream",
     "text": [
      "[CV]  clf__estimator__min_samples_split=2, clf__estimator__n_estimators=10, tfidf__use_idf=False, vect__min_df=1, score=0.692, total= 8.9min\n",
      "[CV] clf__estimator__min_samples_split=2, clf__estimator__n_estimators=10, tfidf__use_idf=False, vect__min_df=1 \n"
     ]
    },
    {
     "name": "stderr",
     "output_type": "stream",
     "text": [
      "[Parallel(n_jobs=1)]: Done   7 out of   7 | elapsed: 59.6min remaining:    0.0s\n"
     ]
    },
    {
     "name": "stdout",
     "output_type": "stream",
     "text": [
      "[CV]  clf__estimator__min_samples_split=2, clf__estimator__n_estimators=10, tfidf__use_idf=False, vect__min_df=1, score=0.668, total= 8.8min\n",
      "[CV] clf__estimator__min_samples_split=2, clf__estimator__n_estimators=10, tfidf__use_idf=False, vect__min_df=1 \n"
     ]
    },
    {
     "name": "stderr",
     "output_type": "stream",
     "text": [
      "[Parallel(n_jobs=1)]: Done   8 out of   8 | elapsed: 68.4min remaining:    0.0s\n"
     ]
    },
    {
     "name": "stdout",
     "output_type": "stream",
     "text": [
      "[CV]  clf__estimator__min_samples_split=2, clf__estimator__n_estimators=10, tfidf__use_idf=False, vect__min_df=1, score=0.649, total= 8.9min\n",
      "[CV] clf__estimator__min_samples_split=2, clf__estimator__n_estimators=10, tfidf__use_idf=False, vect__min_df=5 \n"
     ]
    },
    {
     "name": "stderr",
     "output_type": "stream",
     "text": [
      "[Parallel(n_jobs=1)]: Done   9 out of   9 | elapsed: 77.3min remaining:    0.0s\n"
     ]
    },
    {
     "name": "stdout",
     "output_type": "stream",
     "text": [
      "[CV]  clf__estimator__min_samples_split=2, clf__estimator__n_estimators=10, tfidf__use_idf=False, vect__min_df=5, score=0.704, total= 8.7min\n",
      "[CV] clf__estimator__min_samples_split=2, clf__estimator__n_estimators=10, tfidf__use_idf=False, vect__min_df=5 \n",
      "[CV]  clf__estimator__min_samples_split=2, clf__estimator__n_estimators=10, tfidf__use_idf=False, vect__min_df=5, score=0.700, total= 8.6min\n",
      "[CV] clf__estimator__min_samples_split=2, clf__estimator__n_estimators=10, tfidf__use_idf=False, vect__min_df=5 \n",
      "[CV]  clf__estimator__min_samples_split=2, clf__estimator__n_estimators=10, tfidf__use_idf=False, vect__min_df=5, score=0.679, total= 8.6min\n",
      "[CV] clf__estimator__min_samples_split=2, clf__estimator__n_estimators=25, tfidf__use_idf=True, vect__min_df=1 \n",
      "[CV]  clf__estimator__min_samples_split=2, clf__estimator__n_estimators=25, tfidf__use_idf=True, vect__min_df=1, score=0.755, total= 9.9min\n",
      "[CV] clf__estimator__min_samples_split=2, clf__estimator__n_estimators=25, tfidf__use_idf=True, vect__min_df=1 \n",
      "[CV]  clf__estimator__min_samples_split=2, clf__estimator__n_estimators=25, tfidf__use_idf=True, vect__min_df=1, score=0.728, total=10.1min\n",
      "[CV] clf__estimator__min_samples_split=2, clf__estimator__n_estimators=25, tfidf__use_idf=True, vect__min_df=1 \n",
      "[CV]  clf__estimator__min_samples_split=2, clf__estimator__n_estimators=25, tfidf__use_idf=True, vect__min_df=1, score=0.724, total=10.1min\n",
      "[CV] clf__estimator__min_samples_split=2, clf__estimator__n_estimators=25, tfidf__use_idf=True, vect__min_df=5 \n",
      "[CV]  clf__estimator__min_samples_split=2, clf__estimator__n_estimators=25, tfidf__use_idf=True, vect__min_df=5, score=0.750, total= 9.3min\n",
      "[CV] clf__estimator__min_samples_split=2, clf__estimator__n_estimators=25, tfidf__use_idf=True, vect__min_df=5 \n",
      "[CV]  clf__estimator__min_samples_split=2, clf__estimator__n_estimators=25, tfidf__use_idf=True, vect__min_df=5, score=0.723, total= 9.0min\n",
      "[CV] clf__estimator__min_samples_split=2, clf__estimator__n_estimators=25, tfidf__use_idf=True, vect__min_df=5 \n",
      "[CV]  clf__estimator__min_samples_split=2, clf__estimator__n_estimators=25, tfidf__use_idf=True, vect__min_df=5, score=0.728, total= 9.1min\n",
      "[CV] clf__estimator__min_samples_split=2, clf__estimator__n_estimators=25, tfidf__use_idf=False, vect__min_df=1 \n",
      "[CV]  clf__estimator__min_samples_split=2, clf__estimator__n_estimators=25, tfidf__use_idf=False, vect__min_df=1, score=0.748, total= 9.9min\n",
      "[CV] clf__estimator__min_samples_split=2, clf__estimator__n_estimators=25, tfidf__use_idf=False, vect__min_df=1 \n",
      "[CV]  clf__estimator__min_samples_split=2, clf__estimator__n_estimators=25, tfidf__use_idf=False, vect__min_df=1, score=0.738, total=10.1min\n",
      "[CV] clf__estimator__min_samples_split=2, clf__estimator__n_estimators=25, tfidf__use_idf=False, vect__min_df=1 \n",
      "[CV]  clf__estimator__min_samples_split=2, clf__estimator__n_estimators=25, tfidf__use_idf=False, vect__min_df=1, score=0.737, total= 9.9min\n",
      "[CV] clf__estimator__min_samples_split=2, clf__estimator__n_estimators=25, tfidf__use_idf=False, vect__min_df=5 \n",
      "[CV]  clf__estimator__min_samples_split=2, clf__estimator__n_estimators=25, tfidf__use_idf=False, vect__min_df=5, score=0.748, total= 9.0min\n",
      "[CV] clf__estimator__min_samples_split=2, clf__estimator__n_estimators=25, tfidf__use_idf=False, vect__min_df=5 \n",
      "[CV]  clf__estimator__min_samples_split=2, clf__estimator__n_estimators=25, tfidf__use_idf=False, vect__min_df=5, score=0.738, total= 9.1min\n",
      "[CV] clf__estimator__min_samples_split=2, clf__estimator__n_estimators=25, tfidf__use_idf=False, vect__min_df=5 \n",
      "[CV]  clf__estimator__min_samples_split=2, clf__estimator__n_estimators=25, tfidf__use_idf=False, vect__min_df=5, score=0.736, total= 9.1min\n",
      "[CV] clf__estimator__min_samples_split=5, clf__estimator__n_estimators=10, tfidf__use_idf=True, vect__min_df=1 \n",
      "[CV]  clf__estimator__min_samples_split=5, clf__estimator__n_estimators=10, tfidf__use_idf=True, vect__min_df=1, score=0.677, total= 9.0min\n",
      "[CV] clf__estimator__min_samples_split=5, clf__estimator__n_estimators=10, tfidf__use_idf=True, vect__min_df=1 \n",
      "[CV]  clf__estimator__min_samples_split=5, clf__estimator__n_estimators=10, tfidf__use_idf=True, vect__min_df=1, score=0.675, total= 8.9min\n",
      "[CV] clf__estimator__min_samples_split=5, clf__estimator__n_estimators=10, tfidf__use_idf=True, vect__min_df=1 \n",
      "[CV]  clf__estimator__min_samples_split=5, clf__estimator__n_estimators=10, tfidf__use_idf=True, vect__min_df=1, score=0.637, total= 8.8min\n",
      "[CV] clf__estimator__min_samples_split=5, clf__estimator__n_estimators=10, tfidf__use_idf=True, vect__min_df=5 \n",
      "[CV]  clf__estimator__min_samples_split=5, clf__estimator__n_estimators=10, tfidf__use_idf=True, vect__min_df=5, score=0.669, total= 9.0min\n",
      "[CV] clf__estimator__min_samples_split=5, clf__estimator__n_estimators=10, tfidf__use_idf=True, vect__min_df=5 \n",
      "[CV]  clf__estimator__min_samples_split=5, clf__estimator__n_estimators=10, tfidf__use_idf=True, vect__min_df=5, score=0.654, total= 8.9min\n",
      "[CV] clf__estimator__min_samples_split=5, clf__estimator__n_estimators=10, tfidf__use_idf=True, vect__min_df=5 \n",
      "[CV]  clf__estimator__min_samples_split=5, clf__estimator__n_estimators=10, tfidf__use_idf=True, vect__min_df=5, score=0.641, total= 9.0min\n",
      "[CV] clf__estimator__min_samples_split=5, clf__estimator__n_estimators=10, tfidf__use_idf=False, vect__min_df=1 \n",
      "[CV]  clf__estimator__min_samples_split=5, clf__estimator__n_estimators=10, tfidf__use_idf=False, vect__min_df=1, score=0.679, total= 8.4min\n",
      "[CV] clf__estimator__min_samples_split=5, clf__estimator__n_estimators=10, tfidf__use_idf=False, vect__min_df=1 \n",
      "[CV]  clf__estimator__min_samples_split=5, clf__estimator__n_estimators=10, tfidf__use_idf=False, vect__min_df=1, score=0.675, total= 8.6min\n",
      "[CV] clf__estimator__min_samples_split=5, clf__estimator__n_estimators=10, tfidf__use_idf=False, vect__min_df=1 \n",
      "[CV]  clf__estimator__min_samples_split=5, clf__estimator__n_estimators=10, tfidf__use_idf=False, vect__min_df=1, score=0.658, total= 8.7min\n",
      "[CV] clf__estimator__min_samples_split=5, clf__estimator__n_estimators=10, tfidf__use_idf=False, vect__min_df=5 \n",
      "[CV]  clf__estimator__min_samples_split=5, clf__estimator__n_estimators=10, tfidf__use_idf=False, vect__min_df=5, score=0.658, total= 8.2min\n",
      "[CV] clf__estimator__min_samples_split=5, clf__estimator__n_estimators=10, tfidf__use_idf=False, vect__min_df=5 \n",
      "[CV]  clf__estimator__min_samples_split=5, clf__estimator__n_estimators=10, tfidf__use_idf=False, vect__min_df=5, score=0.660, total= 8.3min\n",
      "[CV] clf__estimator__min_samples_split=5, clf__estimator__n_estimators=10, tfidf__use_idf=False, vect__min_df=5 \n",
      "[CV]  clf__estimator__min_samples_split=5, clf__estimator__n_estimators=10, tfidf__use_idf=False, vect__min_df=5, score=0.627, total= 8.7min\n",
      "[CV] clf__estimator__min_samples_split=5, clf__estimator__n_estimators=25, tfidf__use_idf=True, vect__min_df=1 \n",
      "[CV]  clf__estimator__min_samples_split=5, clf__estimator__n_estimators=25, tfidf__use_idf=True, vect__min_df=1, score=0.727, total= 9.0min\n",
      "[CV] clf__estimator__min_samples_split=5, clf__estimator__n_estimators=25, tfidf__use_idf=True, vect__min_df=1 \n",
      "[CV]  clf__estimator__min_samples_split=5, clf__estimator__n_estimators=25, tfidf__use_idf=True, vect__min_df=1, score=0.706, total= 9.1min\n",
      "[CV] clf__estimator__min_samples_split=5, clf__estimator__n_estimators=25, tfidf__use_idf=True, vect__min_df=1 \n",
      "[CV]  clf__estimator__min_samples_split=5, clf__estimator__n_estimators=25, tfidf__use_idf=True, vect__min_df=1, score=0.711, total= 8.8min\n",
      "[CV] clf__estimator__min_samples_split=5, clf__estimator__n_estimators=25, tfidf__use_idf=True, vect__min_df=5 \n",
      "[CV]  clf__estimator__min_samples_split=5, clf__estimator__n_estimators=25, tfidf__use_idf=True, vect__min_df=5, score=0.675, total= 8.6min\n",
      "[CV] clf__estimator__min_samples_split=5, clf__estimator__n_estimators=25, tfidf__use_idf=True, vect__min_df=5 \n",
      "[CV]  clf__estimator__min_samples_split=5, clf__estimator__n_estimators=25, tfidf__use_idf=True, vect__min_df=5, score=0.678, total= 8.5min\n",
      "[CV] clf__estimator__min_samples_split=5, clf__estimator__n_estimators=25, tfidf__use_idf=True, vect__min_df=5 \n",
      "[CV]  clf__estimator__min_samples_split=5, clf__estimator__n_estimators=25, tfidf__use_idf=True, vect__min_df=5, score=0.693, total= 8.5min\n",
      "[CV] clf__estimator__min_samples_split=5, clf__estimator__n_estimators=25, tfidf__use_idf=False, vect__min_df=1 \n"
     ]
    },
    {
     "name": "stdout",
     "output_type": "stream",
     "text": [
      "[CV]  clf__estimator__min_samples_split=5, clf__estimator__n_estimators=25, tfidf__use_idf=False, vect__min_df=1, score=0.717, total= 8.5min\n",
      "[CV] clf__estimator__min_samples_split=5, clf__estimator__n_estimators=25, tfidf__use_idf=False, vect__min_df=1 \n",
      "[CV]  clf__estimator__min_samples_split=5, clf__estimator__n_estimators=25, tfidf__use_idf=False, vect__min_df=1, score=0.698, total= 8.5min\n",
      "[CV] clf__estimator__min_samples_split=5, clf__estimator__n_estimators=25, tfidf__use_idf=False, vect__min_df=1 \n",
      "[CV]  clf__estimator__min_samples_split=5, clf__estimator__n_estimators=25, tfidf__use_idf=False, vect__min_df=1, score=0.717, total= 8.5min\n",
      "[CV] clf__estimator__min_samples_split=5, clf__estimator__n_estimators=25, tfidf__use_idf=False, vect__min_df=5 \n",
      "[CV]  clf__estimator__min_samples_split=5, clf__estimator__n_estimators=25, tfidf__use_idf=False, vect__min_df=5, score=0.695, total= 8.3min\n",
      "[CV] clf__estimator__min_samples_split=5, clf__estimator__n_estimators=25, tfidf__use_idf=False, vect__min_df=5 \n",
      "[CV]  clf__estimator__min_samples_split=5, clf__estimator__n_estimators=25, tfidf__use_idf=False, vect__min_df=5, score=0.696, total= 8.3min\n",
      "[CV] clf__estimator__min_samples_split=5, clf__estimator__n_estimators=25, tfidf__use_idf=False, vect__min_df=5 \n",
      "[CV]  clf__estimator__min_samples_split=5, clf__estimator__n_estimators=25, tfidf__use_idf=False, vect__min_df=5, score=0.681, total= 8.3min\n",
      "[CV] clf__estimator__min_samples_split=10, clf__estimator__n_estimators=10, tfidf__use_idf=True, vect__min_df=1 \n",
      "[CV]  clf__estimator__min_samples_split=10, clf__estimator__n_estimators=10, tfidf__use_idf=True, vect__min_df=1, score=0.686, total= 8.2min\n",
      "[CV] clf__estimator__min_samples_split=10, clf__estimator__n_estimators=10, tfidf__use_idf=True, vect__min_df=1 \n",
      "[CV]  clf__estimator__min_samples_split=10, clf__estimator__n_estimators=10, tfidf__use_idf=True, vect__min_df=1, score=0.659, total= 8.2min\n",
      "[CV] clf__estimator__min_samples_split=10, clf__estimator__n_estimators=10, tfidf__use_idf=True, vect__min_df=1 \n",
      "[CV]  clf__estimator__min_samples_split=10, clf__estimator__n_estimators=10, tfidf__use_idf=True, vect__min_df=1, score=0.658, total= 8.2min\n",
      "[CV] clf__estimator__min_samples_split=10, clf__estimator__n_estimators=10, tfidf__use_idf=True, vect__min_df=5 \n",
      "[CV]  clf__estimator__min_samples_split=10, clf__estimator__n_estimators=10, tfidf__use_idf=True, vect__min_df=5, score=0.631, total= 8.2min\n",
      "[CV] clf__estimator__min_samples_split=10, clf__estimator__n_estimators=10, tfidf__use_idf=True, vect__min_df=5 \n",
      "[CV]  clf__estimator__min_samples_split=10, clf__estimator__n_estimators=10, tfidf__use_idf=True, vect__min_df=5, score=0.627, total= 8.2min\n",
      "[CV] clf__estimator__min_samples_split=10, clf__estimator__n_estimators=10, tfidf__use_idf=True, vect__min_df=5 \n",
      "[CV]  clf__estimator__min_samples_split=10, clf__estimator__n_estimators=10, tfidf__use_idf=True, vect__min_df=5, score=0.616, total= 8.2min\n",
      "[CV] clf__estimator__min_samples_split=10, clf__estimator__n_estimators=10, tfidf__use_idf=False, vect__min_df=1 \n",
      "[CV]  clf__estimator__min_samples_split=10, clf__estimator__n_estimators=10, tfidf__use_idf=False, vect__min_df=1, score=0.673, total= 8.2min\n",
      "[CV] clf__estimator__min_samples_split=10, clf__estimator__n_estimators=10, tfidf__use_idf=False, vect__min_df=1 \n",
      "[CV]  clf__estimator__min_samples_split=10, clf__estimator__n_estimators=10, tfidf__use_idf=False, vect__min_df=1, score=0.649, total= 8.2min\n",
      "[CV] clf__estimator__min_samples_split=10, clf__estimator__n_estimators=10, tfidf__use_idf=False, vect__min_df=1 \n",
      "[CV]  clf__estimator__min_samples_split=10, clf__estimator__n_estimators=10, tfidf__use_idf=False, vect__min_df=1, score=0.660, total= 8.2min\n",
      "[CV] clf__estimator__min_samples_split=10, clf__estimator__n_estimators=10, tfidf__use_idf=False, vect__min_df=5 \n",
      "[CV]  clf__estimator__min_samples_split=10, clf__estimator__n_estimators=10, tfidf__use_idf=False, vect__min_df=5, score=0.614, total= 8.2min\n",
      "[CV] clf__estimator__min_samples_split=10, clf__estimator__n_estimators=10, tfidf__use_idf=False, vect__min_df=5 \n",
      "[CV]  clf__estimator__min_samples_split=10, clf__estimator__n_estimators=10, tfidf__use_idf=False, vect__min_df=5, score=0.624, total= 8.2min\n",
      "[CV] clf__estimator__min_samples_split=10, clf__estimator__n_estimators=10, tfidf__use_idf=False, vect__min_df=5 \n",
      "[CV]  clf__estimator__min_samples_split=10, clf__estimator__n_estimators=10, tfidf__use_idf=False, vect__min_df=5, score=0.618, total= 8.2min\n",
      "[CV] clf__estimator__min_samples_split=10, clf__estimator__n_estimators=25, tfidf__use_idf=True, vect__min_df=1 \n",
      "[CV]  clf__estimator__min_samples_split=10, clf__estimator__n_estimators=25, tfidf__use_idf=True, vect__min_df=1, score=0.713, total= 8.4min\n",
      "[CV] clf__estimator__min_samples_split=10, clf__estimator__n_estimators=25, tfidf__use_idf=True, vect__min_df=1 \n",
      "[CV]  clf__estimator__min_samples_split=10, clf__estimator__n_estimators=25, tfidf__use_idf=True, vect__min_df=1, score=0.703, total= 8.4min\n",
      "[CV] clf__estimator__min_samples_split=10, clf__estimator__n_estimators=25, tfidf__use_idf=True, vect__min_df=1 \n",
      "[CV]  clf__estimator__min_samples_split=10, clf__estimator__n_estimators=25, tfidf__use_idf=True, vect__min_df=1, score=0.709, total= 8.4min\n",
      "[CV] clf__estimator__min_samples_split=10, clf__estimator__n_estimators=25, tfidf__use_idf=True, vect__min_df=5 \n",
      "[CV]  clf__estimator__min_samples_split=10, clf__estimator__n_estimators=25, tfidf__use_idf=True, vect__min_df=5, score=0.668, total= 8.3min\n",
      "[CV] clf__estimator__min_samples_split=10, clf__estimator__n_estimators=25, tfidf__use_idf=True, vect__min_df=5 \n",
      "[CV]  clf__estimator__min_samples_split=10, clf__estimator__n_estimators=25, tfidf__use_idf=True, vect__min_df=5, score=0.652, total= 8.3min\n",
      "[CV] clf__estimator__min_samples_split=10, clf__estimator__n_estimators=25, tfidf__use_idf=True, vect__min_df=5 \n",
      "[CV]  clf__estimator__min_samples_split=10, clf__estimator__n_estimators=25, tfidf__use_idf=True, vect__min_df=5, score=0.644, total= 8.3min\n",
      "[CV] clf__estimator__min_samples_split=10, clf__estimator__n_estimators=25, tfidf__use_idf=False, vect__min_df=1 \n",
      "[CV]  clf__estimator__min_samples_split=10, clf__estimator__n_estimators=25, tfidf__use_idf=False, vect__min_df=1, score=0.720, total= 8.4min\n",
      "[CV] clf__estimator__min_samples_split=10, clf__estimator__n_estimators=25, tfidf__use_idf=False, vect__min_df=1 \n",
      "[CV]  clf__estimator__min_samples_split=10, clf__estimator__n_estimators=25, tfidf__use_idf=False, vect__min_df=1, score=0.700, total= 8.4min\n",
      "[CV] clf__estimator__min_samples_split=10, clf__estimator__n_estimators=25, tfidf__use_idf=False, vect__min_df=1 \n",
      "[CV]  clf__estimator__min_samples_split=10, clf__estimator__n_estimators=25, tfidf__use_idf=False, vect__min_df=1, score=0.684, total= 8.4min\n",
      "[CV] clf__estimator__min_samples_split=10, clf__estimator__n_estimators=25, tfidf__use_idf=False, vect__min_df=5 \n",
      "[CV]  clf__estimator__min_samples_split=10, clf__estimator__n_estimators=25, tfidf__use_idf=False, vect__min_df=5, score=0.649, total= 8.3min\n",
      "[CV] clf__estimator__min_samples_split=10, clf__estimator__n_estimators=25, tfidf__use_idf=False, vect__min_df=5 \n",
      "[CV]  clf__estimator__min_samples_split=10, clf__estimator__n_estimators=25, tfidf__use_idf=False, vect__min_df=5, score=0.646, total= 8.3min\n",
      "[CV] clf__estimator__min_samples_split=10, clf__estimator__n_estimators=25, tfidf__use_idf=False, vect__min_df=5 \n",
      "[CV]  clf__estimator__min_samples_split=10, clf__estimator__n_estimators=25, tfidf__use_idf=False, vect__min_df=5, score=0.627, total= 8.3min\n"
     ]
    },
    {
     "name": "stderr",
     "output_type": "stream",
     "text": [
      "[Parallel(n_jobs=1)]: Done  72 out of  72 | elapsed: 624.5min finished\n"
     ]
    },
    {
     "data": {
      "text/plain": [
       "GridSearchCV(cv='warn', error_score='raise-deprecating',\n",
       "             estimator=Pipeline(memory=None,\n",
       "                                steps=[('vect',\n",
       "                                        CountVectorizer(analyzer='word',\n",
       "                                                        binary=False,\n",
       "                                                        decode_error='strict',\n",
       "                                                        dtype=<class 'numpy.int64'>,\n",
       "                                                        encoding='utf-8',\n",
       "                                                        input='content',\n",
       "                                                        lowercase=True,\n",
       "                                                        max_df=1.0,\n",
       "                                                        max_features=None,\n",
       "                                                        min_df=5,\n",
       "                                                        ngram_range=(1, 2),\n",
       "                                                        preprocessor=None,\n",
       "                                                        stop_words=None,\n",
       "                                                        strip_accents=Non...\n",
       "                                                                                               random_state=None,\n",
       "                                                                                               verbose=0,\n",
       "                                                                                               warm_start=False),\n",
       "                                                              n_jobs=None))],\n",
       "                                verbose=False),\n",
       "             iid='warn', n_jobs=None,\n",
       "             param_grid={'clf__estimator__min_samples_split': [2, 5, 10],\n",
       "                         'clf__estimator__n_estimators': [10, 25],\n",
       "                         'tfidf__use_idf': [True, False],\n",
       "                         'vect__min_df': [1, 5]},\n",
       "             pre_dispatch='2*n_jobs', refit=True, return_train_score=False,\n",
       "             scoring=make_scorer(performance_metric), verbose=10)"
      ]
     },
     "execution_count": 55,
     "metadata": {},
     "output_type": "execute_result"
    }
   ],
   "source": [
    "model.fit(X_train, Y_train)"
   ]
  },
  {
   "cell_type": "code",
   "execution_count": 56,
   "metadata": {},
   "outputs": [
    {
     "data": {
      "text/plain": [
       "{'mean_fit_time': array([349.61338496, 338.34174705, 363.41257437, 348.04963279,\n",
       "        422.04264943, 371.01684221, 422.57409469, 370.79635413,\n",
       "        361.35198959, 359.66415389, 348.7085259 , 338.79458276,\n",
       "        367.34842777, 347.41265996, 345.80796647, 337.99993594,\n",
       "        331.8420852 , 328.73444533, 330.60830895, 328.71515457,\n",
       "        342.89801105, 337.60923743, 342.26213765, 337.1519471 ]),\n",
       " 'std_fit_time': array([ 9.22986015,  2.0754652 ,  1.78053786,  0.622504  ,  4.71916366,\n",
       "         5.18966396,  2.46674276,  1.90401783,  2.50677918,  4.79495146,\n",
       "        10.07163357, 11.06697414,  4.03284433,  2.70974173,  1.0530348 ,\n",
       "         0.91147549,  1.16795625,  0.94550742,  1.06066474,  1.19873909,\n",
       "         0.51538531,  0.87881205,  1.00409334,  0.75777042]),\n",
       " 'mean_score_time': array([161.04185883, 165.02284416, 168.80032818, 169.56406792,\n",
       "        178.63876629, 176.0841527 , 175.33737206, 173.65355706,\n",
       "        174.42052921, 178.20443535, 166.84601482, 167.13924845,\n",
       "        169.91921536, 166.03136476, 163.65741428, 162.43364898,\n",
       "        162.09611225, 161.97669085, 162.13484271, 161.62411586,\n",
       "        163.00475065, 162.3657945 , 163.48418959, 162.52917171]),\n",
       " 'std_score_time': array([3.91371244, 1.75407954, 0.47728555, 1.51515982, 2.83985501,\n",
       "        0.55076161, 1.55348373, 1.48997218, 3.27397496, 2.02625614,\n",
       "        6.82032786, 2.36240753, 6.94797619, 0.81337534, 0.88770564,\n",
       "        0.85497711, 0.80703042, 0.7370513 , 0.5819432 , 0.46313651,\n",
       "        0.84636142, 1.02411751, 0.65361419, 0.78478009]),\n",
       " 'param_clf__estimator__min_samples_split': masked_array(data=[2, 2, 2, 2, 2, 2, 2, 2, 5, 5, 5, 5, 5, 5, 5, 5, 10, 10,\n",
       "                    10, 10, 10, 10, 10, 10],\n",
       "              mask=[False, False, False, False, False, False, False, False,\n",
       "                    False, False, False, False, False, False, False, False,\n",
       "                    False, False, False, False, False, False, False, False],\n",
       "        fill_value='?',\n",
       "             dtype=object),\n",
       " 'param_clf__estimator__n_estimators': masked_array(data=[10, 10, 10, 10, 25, 25, 25, 25, 10, 10, 10, 10, 25, 25,\n",
       "                    25, 25, 10, 10, 10, 10, 25, 25, 25, 25],\n",
       "              mask=[False, False, False, False, False, False, False, False,\n",
       "                    False, False, False, False, False, False, False, False,\n",
       "                    False, False, False, False, False, False, False, False],\n",
       "        fill_value='?',\n",
       "             dtype=object),\n",
       " 'param_tfidf__use_idf': masked_array(data=[True, True, False, False, True, True, False, False,\n",
       "                    True, True, False, False, True, True, False, False,\n",
       "                    True, True, False, False, True, True, False, False],\n",
       "              mask=[False, False, False, False, False, False, False, False,\n",
       "                    False, False, False, False, False, False, False, False,\n",
       "                    False, False, False, False, False, False, False, False],\n",
       "        fill_value='?',\n",
       "             dtype=object),\n",
       " 'param_vect__min_df': masked_array(data=[1, 5, 1, 5, 1, 5, 1, 5, 1, 5, 1, 5, 1, 5, 1, 5, 1, 5,\n",
       "                    1, 5, 1, 5, 1, 5],\n",
       "              mask=[False, False, False, False, False, False, False, False,\n",
       "                    False, False, False, False, False, False, False, False,\n",
       "                    False, False, False, False, False, False, False, False],\n",
       "        fill_value='?',\n",
       "             dtype=object),\n",
       " 'params': [{'clf__estimator__min_samples_split': 2,\n",
       "   'clf__estimator__n_estimators': 10,\n",
       "   'tfidf__use_idf': True,\n",
       "   'vect__min_df': 1},\n",
       "  {'clf__estimator__min_samples_split': 2,\n",
       "   'clf__estimator__n_estimators': 10,\n",
       "   'tfidf__use_idf': True,\n",
       "   'vect__min_df': 5},\n",
       "  {'clf__estimator__min_samples_split': 2,\n",
       "   'clf__estimator__n_estimators': 10,\n",
       "   'tfidf__use_idf': False,\n",
       "   'vect__min_df': 1},\n",
       "  {'clf__estimator__min_samples_split': 2,\n",
       "   'clf__estimator__n_estimators': 10,\n",
       "   'tfidf__use_idf': False,\n",
       "   'vect__min_df': 5},\n",
       "  {'clf__estimator__min_samples_split': 2,\n",
       "   'clf__estimator__n_estimators': 25,\n",
       "   'tfidf__use_idf': True,\n",
       "   'vect__min_df': 1},\n",
       "  {'clf__estimator__min_samples_split': 2,\n",
       "   'clf__estimator__n_estimators': 25,\n",
       "   'tfidf__use_idf': True,\n",
       "   'vect__min_df': 5},\n",
       "  {'clf__estimator__min_samples_split': 2,\n",
       "   'clf__estimator__n_estimators': 25,\n",
       "   'tfidf__use_idf': False,\n",
       "   'vect__min_df': 1},\n",
       "  {'clf__estimator__min_samples_split': 2,\n",
       "   'clf__estimator__n_estimators': 25,\n",
       "   'tfidf__use_idf': False,\n",
       "   'vect__min_df': 5},\n",
       "  {'clf__estimator__min_samples_split': 5,\n",
       "   'clf__estimator__n_estimators': 10,\n",
       "   'tfidf__use_idf': True,\n",
       "   'vect__min_df': 1},\n",
       "  {'clf__estimator__min_samples_split': 5,\n",
       "   'clf__estimator__n_estimators': 10,\n",
       "   'tfidf__use_idf': True,\n",
       "   'vect__min_df': 5},\n",
       "  {'clf__estimator__min_samples_split': 5,\n",
       "   'clf__estimator__n_estimators': 10,\n",
       "   'tfidf__use_idf': False,\n",
       "   'vect__min_df': 1},\n",
       "  {'clf__estimator__min_samples_split': 5,\n",
       "   'clf__estimator__n_estimators': 10,\n",
       "   'tfidf__use_idf': False,\n",
       "   'vect__min_df': 5},\n",
       "  {'clf__estimator__min_samples_split': 5,\n",
       "   'clf__estimator__n_estimators': 25,\n",
       "   'tfidf__use_idf': True,\n",
       "   'vect__min_df': 1},\n",
       "  {'clf__estimator__min_samples_split': 5,\n",
       "   'clf__estimator__n_estimators': 25,\n",
       "   'tfidf__use_idf': True,\n",
       "   'vect__min_df': 5},\n",
       "  {'clf__estimator__min_samples_split': 5,\n",
       "   'clf__estimator__n_estimators': 25,\n",
       "   'tfidf__use_idf': False,\n",
       "   'vect__min_df': 1},\n",
       "  {'clf__estimator__min_samples_split': 5,\n",
       "   'clf__estimator__n_estimators': 25,\n",
       "   'tfidf__use_idf': False,\n",
       "   'vect__min_df': 5},\n",
       "  {'clf__estimator__min_samples_split': 10,\n",
       "   'clf__estimator__n_estimators': 10,\n",
       "   'tfidf__use_idf': True,\n",
       "   'vect__min_df': 1},\n",
       "  {'clf__estimator__min_samples_split': 10,\n",
       "   'clf__estimator__n_estimators': 10,\n",
       "   'tfidf__use_idf': True,\n",
       "   'vect__min_df': 5},\n",
       "  {'clf__estimator__min_samples_split': 10,\n",
       "   'clf__estimator__n_estimators': 10,\n",
       "   'tfidf__use_idf': False,\n",
       "   'vect__min_df': 1},\n",
       "  {'clf__estimator__min_samples_split': 10,\n",
       "   'clf__estimator__n_estimators': 10,\n",
       "   'tfidf__use_idf': False,\n",
       "   'vect__min_df': 5},\n",
       "  {'clf__estimator__min_samples_split': 10,\n",
       "   'clf__estimator__n_estimators': 25,\n",
       "   'tfidf__use_idf': True,\n",
       "   'vect__min_df': 1},\n",
       "  {'clf__estimator__min_samples_split': 10,\n",
       "   'clf__estimator__n_estimators': 25,\n",
       "   'tfidf__use_idf': True,\n",
       "   'vect__min_df': 5},\n",
       "  {'clf__estimator__min_samples_split': 10,\n",
       "   'clf__estimator__n_estimators': 25,\n",
       "   'tfidf__use_idf': False,\n",
       "   'vect__min_df': 1},\n",
       "  {'clf__estimator__min_samples_split': 10,\n",
       "   'clf__estimator__n_estimators': 25,\n",
       "   'tfidf__use_idf': False,\n",
       "   'vect__min_df': 5}],\n",
       " 'split0_test_score': array([0.6989899 , 0.69536424, 0.69230769, 0.70431894, 0.75482912,\n",
       "        0.75      , 0.74848485, 0.74758621, 0.67661692, 0.66857143,\n",
       "        0.6789916 , 0.65796345, 0.72698413, 0.67505241, 0.71666667,\n",
       "        0.69455006, 0.68607069, 0.63126844, 0.67292645, 0.61403509,\n",
       "        0.71264368, 0.66806723, 0.72      , 0.64928292]),\n",
       " 'split1_test_score': array([0.65478842, 0.67847411, 0.66813187, 0.69978402, 0.72780204,\n",
       "        0.72268908, 0.73794549, 0.73814433, 0.67526882, 0.65359477,\n",
       "        0.6749226 , 0.65979381, 0.70588235, 0.6779661 , 0.69802731,\n",
       "        0.69618321, 0.65943601, 0.62653899, 0.64864865, 0.62415197,\n",
       "        0.70307167, 0.65198238, 0.7       , 0.64649243]),\n",
       " 'split2_test_score': array([0.67775468, 0.68787276, 0.64935065, 0.67878788, 0.72447013,\n",
       "        0.7283237 , 0.73664122, 0.73563218, 0.6371308 , 0.64102564,\n",
       "        0.65822785, 0.62660944, 0.71067961, 0.69306931, 0.71734893,\n",
       "        0.68106312, 0.65843621, 0.61643836, 0.65961945, 0.61824953,\n",
       "        0.70886076, 0.64392324, 0.6835443 , 0.62686567]),\n",
       " 'mean_test_score': array([0.67717767, 0.68723704, 0.66993007, 0.69429694, 0.73570043,\n",
       "        0.73367093, 0.74102385, 0.74045424, 0.66300551, 0.65439728,\n",
       "        0.67071402, 0.64812223, 0.71451536, 0.68202927, 0.71068097,\n",
       "        0.6905988 , 0.66798097, 0.62474859, 0.66039818, 0.6188122 ,\n",
       "        0.70819204, 0.65465762, 0.70118143, 0.64088034]),\n",
       " 'std_test_score': array([0.01804979, 0.00691   , 0.01758317, 0.01112174, 0.01359425,\n",
       "        0.01177331, 0.00530252, 0.00514629, 0.01830446, 0.01125983,\n",
       "        0.00898397, 0.01523018, 0.00903165, 0.00789659, 0.00895182,\n",
       "        0.00677562, 0.01279787, 0.0061853 , 0.00992665, 0.00414932,\n",
       "        0.00393626, 0.01003662, 0.0149064 , 0.00997513]),\n",
       " 'rank_test_score': array([13, 11, 15,  9,  3,  4,  1,  2, 17, 20, 14, 21,  5, 12,  6, 10, 16,\n",
       "        23, 18, 24,  7, 19,  8, 22], dtype=int32)}"
      ]
     },
     "execution_count": 56,
     "metadata": {},
     "output_type": "execute_result"
    }
   ],
   "source": [
    "# Get results of grid search\n",
    "model.cv_results_"
   ]
  },
  {
   "cell_type": "code",
   "execution_count": 57,
   "metadata": {},
   "outputs": [
    {
     "data": {
      "text/plain": [
       "0.7410238541737894"
      ]
     },
     "execution_count": 57,
     "metadata": {},
     "output_type": "execute_result"
    }
   ],
   "source": [
    "# Best mean test score\n",
    "np.max(model.cv_results_['mean_test_score'])"
   ]
  },
  {
   "cell_type": "code",
   "execution_count": 58,
   "metadata": {},
   "outputs": [
    {
     "data": {
      "text/plain": [
       "{'clf__estimator__min_samples_split': 2,\n",
       " 'clf__estimator__n_estimators': 25,\n",
       " 'tfidf__use_idf': False,\n",
       " 'vect__min_df': 1}"
      ]
     },
     "execution_count": 58,
     "metadata": {},
     "output_type": "execute_result"
    }
   ],
   "source": [
    "# Parameters for best mean test score\n",
    "model.best_params_"
   ]
  },
  {
   "cell_type": "code",
   "execution_count": 59,
   "metadata": {},
   "outputs": [],
   "source": [
    "# Calculate evaluation metrics for test set\n",
    "tuned_pred_test = model.predict(X_test)"
   ]
  },
  {
   "cell_type": "code",
   "execution_count": 62,
   "metadata": {},
   "outputs": [
    {
     "data": {
      "text/plain": [
       "['Data-Engr-Big Data',\n",
       " 'Data-Sci-BI',\n",
       " 'Dev-Devops',\n",
       " 'Dev-Web-Backend',\n",
       " 'Dev-Web-Frontend',\n",
       " 'Dev-Web-Fullstack',\n",
       " 'ERP-SAP',\n",
       " 'IT-Admin-Others',\n",
       " 'IT-Mgmt-Consulting',\n",
       " 'IT-Mgmt-Projectleiter',\n",
       " 'IT-Technical-Dev',\n",
       " 'IT/Elektrotechn',\n",
       " 'Infr-Admin-Database',\n",
       " 'Infr-Admin-Linux',\n",
       " 'Infr-Admin-Microsoft',\n",
       " 'Infr-Admin-Net',\n",
       " 'Infr-Database-Admin',\n",
       " 'SW-Dev-Mobile',\n",
       " 'SW-Dev-Others']"
      ]
     },
     "execution_count": 62,
     "metadata": {},
     "output_type": "execute_result"
    }
   ],
   "source": [
    "col_names = list(target.columns.values)\n",
    "col_names"
   ]
  },
  {
   "cell_type": "code",
   "execution_count": 64,
   "metadata": {},
   "outputs": [
    {
     "name": "stdout",
     "output_type": "stream",
     "text": [
      "                       Accuracy  Precision    Recall        F1\n",
      "Data-Engr-Big Data     0.982892   0.882096  0.748148  0.809619\n",
      "Data-Sci-BI            0.994057   0.972414  0.829412  0.895238\n",
      "Dev-Devops             0.998559   1.000000  0.864407  0.927273\n",
      "Dev-Web-Backend        0.971367   0.943769  0.835801  0.886510\n",
      "Dev-Web-Frontend       0.983432   0.922018  0.728261  0.813765\n",
      "Dev-Web-Fullstack      0.972267   0.890274  0.764454  0.822581\n",
      "ERP-SAP                0.986854   0.974359  0.951904  0.963001\n",
      "IT-Admin-Others        0.994778   0.919643  0.837398  0.876596\n",
      "IT-Mgmt-Consulting     0.981632   0.959184  0.788969  0.865789\n",
      "IT-Mgmt-Projectleiter  0.979831   0.943709  0.750000  0.835777\n",
      "IT-Technical-Dev       0.993337   0.921053  0.693069  0.790960\n",
      "IT/Elektrotechn        0.997299   0.930233  0.769231  0.842105\n",
      "Infr-Admin-Database    0.994417   0.950820  0.674419  0.789116\n",
      "Infr-Admin-Linux       0.997839   1.000000  0.844156  0.915493\n",
      "Infr-Admin-Microsoft   0.982892   0.961853  0.813364  0.881398\n",
      "Infr-Admin-Net         0.998019   1.000000  0.907563  0.951542\n",
      "Infr-Database-Admin    0.988475   0.951754  0.803704  0.871486\n",
      "SW-Dev-Mobile          0.995858   0.881720  0.872340  0.877005\n",
      "SW-Dev-Others          0.980551   0.916442  0.815348  0.862944\n"
     ]
    }
   ],
   "source": [
    "eval_metrics1 = get_eval_metrics(np.array(Y_test), tuned_pred_test, col_names)\n",
    "\n",
    "print(eval_metrics1)"
   ]
  },
  {
   "cell_type": "code",
   "execution_count": 65,
   "metadata": {},
   "outputs": [
    {
     "data": {
      "text/html": [
       "<div>\n",
       "<style scoped>\n",
       "    .dataframe tbody tr th:only-of-type {\n",
       "        vertical-align: middle;\n",
       "    }\n",
       "\n",
       "    .dataframe tbody tr th {\n",
       "        vertical-align: top;\n",
       "    }\n",
       "\n",
       "    .dataframe thead th {\n",
       "        text-align: right;\n",
       "    }\n",
       "</style>\n",
       "<table border=\"1\" class=\"dataframe\">\n",
       "  <thead>\n",
       "    <tr style=\"text-align: right;\">\n",
       "      <th></th>\n",
       "      <th>Accuracy</th>\n",
       "      <th>Precision</th>\n",
       "      <th>Recall</th>\n",
       "      <th>F1</th>\n",
       "    </tr>\n",
       "  </thead>\n",
       "  <tbody>\n",
       "    <tr>\n",
       "      <th>count</th>\n",
       "      <td>19.000000</td>\n",
       "      <td>19.000000</td>\n",
       "      <td>19.000000</td>\n",
       "      <td>19.000000</td>\n",
       "    </tr>\n",
       "    <tr>\n",
       "      <th>mean</th>\n",
       "      <td>0.988124</td>\n",
       "      <td>0.943228</td>\n",
       "      <td>0.804839</td>\n",
       "      <td>0.867274</td>\n",
       "    </tr>\n",
       "    <tr>\n",
       "      <th>std</th>\n",
       "      <td>0.008726</td>\n",
       "      <td>0.037216</td>\n",
       "      <td>0.070465</td>\n",
       "      <td>0.050279</td>\n",
       "    </tr>\n",
       "    <tr>\n",
       "      <th>min</th>\n",
       "      <td>0.971367</td>\n",
       "      <td>0.881720</td>\n",
       "      <td>0.674419</td>\n",
       "      <td>0.789116</td>\n",
       "    </tr>\n",
       "    <tr>\n",
       "      <th>25%</th>\n",
       "      <td>0.982262</td>\n",
       "      <td>0.920348</td>\n",
       "      <td>0.757227</td>\n",
       "      <td>0.829179</td>\n",
       "    </tr>\n",
       "    <tr>\n",
       "      <th>50%</th>\n",
       "      <td>0.988475</td>\n",
       "      <td>0.943769</td>\n",
       "      <td>0.813364</td>\n",
       "      <td>0.871486</td>\n",
       "    </tr>\n",
       "    <tr>\n",
       "      <th>75%</th>\n",
       "      <td>0.995318</td>\n",
       "      <td>0.967133</td>\n",
       "      <td>0.840777</td>\n",
       "      <td>0.890874</td>\n",
       "    </tr>\n",
       "    <tr>\n",
       "      <th>max</th>\n",
       "      <td>0.998559</td>\n",
       "      <td>1.000000</td>\n",
       "      <td>0.951904</td>\n",
       "      <td>0.963001</td>\n",
       "    </tr>\n",
       "  </tbody>\n",
       "</table>\n",
       "</div>"
      ],
      "text/plain": [
       "        Accuracy  Precision     Recall         F1\n",
       "count  19.000000  19.000000  19.000000  19.000000\n",
       "mean    0.988124   0.943228   0.804839   0.867274\n",
       "std     0.008726   0.037216   0.070465   0.050279\n",
       "min     0.971367   0.881720   0.674419   0.789116\n",
       "25%     0.982262   0.920348   0.757227   0.829179\n",
       "50%     0.988475   0.943769   0.813364   0.871486\n",
       "75%     0.995318   0.967133   0.840777   0.890874\n",
       "max     0.998559   1.000000   0.951904   0.963001"
      ]
     },
     "execution_count": 65,
     "metadata": {},
     "output_type": "execute_result"
    }
   ],
   "source": [
    "# Get summary stats for tuned model\n",
    "eval_metrics1.describe()"
   ]
  },
  {
   "cell_type": "code",
   "execution_count": 66,
   "metadata": {},
   "outputs": [],
   "source": [
    "save_model(model, 'models/new_model')"
   ]
  },
  {
   "cell_type": "code",
   "execution_count": null,
   "metadata": {},
   "outputs": [],
   "source": [
    "# Pickle best model\n",
    "pickle.dump(tuned_model, open('disaster_model.sav', 'wb'))"
   ]
  },
  {
   "cell_type": "code",
   "execution_count": 378,
   "metadata": {},
   "outputs": [
    {
     "data": {
      "text/plain": [
       "Pipeline(memory=None,\n",
       "         steps=[('vect',\n",
       "                 CountVectorizer(analyzer='word', binary=False,\n",
       "                                 decode_error='strict',\n",
       "                                 dtype=<class 'numpy.int64'>, encoding='utf-8',\n",
       "                                 input='content', lowercase=True, max_df=1.0,\n",
       "                                 max_features=None, min_df=1,\n",
       "                                 ngram_range=(1, 2), preprocessor=None,\n",
       "                                 stop_words=None, strip_accents=None,\n",
       "                                 token_pattern='(?u)\\\\b\\\\w\\\\w+\\\\b',\n",
       "                                 tokenizer=<function tokenize at...\n",
       "                 RandomForestClassifier(bootstrap=True, class_weight=None,\n",
       "                                        criterion='gini', max_depth=None,\n",
       "                                        max_features='auto',\n",
       "                                        max_leaf_nodes=None,\n",
       "                                        min_impurity_decrease=0.0,\n",
       "                                        min_impurity_split=None,\n",
       "                                        min_samples_leaf=1, min_samples_split=2,\n",
       "                                        min_weight_fraction_leaf=0.0,\n",
       "                                        n_estimators=25, n_jobs=None,\n",
       "                                        oob_score=False, random_state=None,\n",
       "                                        verbose=0, warm_start=False))],\n",
       "         verbose=False)"
      ]
     },
     "execution_count": 378,
     "metadata": {},
     "output_type": "execute_result"
    }
   ],
   "source": [
    "\n",
    "model2.fit(X_train, Y_train)"
   ]
  },
  {
   "cell_type": "code",
   "execution_count": 379,
   "metadata": {},
   "outputs": [],
   "source": [
    "# Calculate evaluation metrics for test set\n",
    "pred_train = model2.predict(X_train)"
   ]
  },
  {
   "cell_type": "code",
   "execution_count": 380,
   "metadata": {},
   "outputs": [
    {
     "name": "stdout",
     "output_type": "stream",
     "text": [
      "                       Accuracy  Precision    Recall        F1\n",
      "Data-Engr-Big Data     0.996210   0.986637  0.965142  0.975771\n",
      "Data-Sci-BI            0.998449   1.000000  0.963115  0.981211\n",
      "Dev-Devops             0.999483   1.000000  0.967742  0.983607\n",
      "Dev-Web-Backend        0.996554   0.986900  0.969957  0.978355\n",
      "Dev-Web-Frontend       0.997588   0.997500  0.968447  0.982759\n",
      "Dev-Web-Fullstack      0.996899   0.986111  0.978346  0.982213\n",
      "ERP-SAP                0.998794   0.998077  0.988571  0.993301\n",
      "IT-Admin-Others        0.998966   1.000000  0.966851  0.983146\n",
      "IT-Mgmt-Consulting     0.998277   1.000000  0.977376  0.988558\n",
      "IT-Mgmt-Projectleiter  0.997416   0.994366  0.964481  0.979196\n",
      "IT-Technical-Dev       0.998449   0.993711  0.951807  0.972308\n",
      "IT/Elektrotechn        0.999311   1.000000  0.958333  0.978723\n",
      "Infr-Admin-Database    0.998105   0.972222  0.929204  0.950226\n",
      "Infr-Admin-Linux       0.999828   1.000000  0.990991  0.995475\n",
      "Infr-Admin-Microsoft   0.998105   0.995434  0.979775  0.987542\n",
      "Infr-Admin-Net         0.999655   1.000000  0.989011  0.994475\n",
      "Infr-Database-Admin    0.996554   0.995157  0.958042  0.976247\n",
      "SW-Dev-Mobile          0.998794   1.000000  0.950000  0.974359\n",
      "SW-Dev-Others          0.997760   0.997590  0.971831  0.984542\n"
     ]
    }
   ],
   "source": [
    "col_names = list(target.columns.values)\n",
    "eval_metrics_train = get_eval_metrics(np.array(Y_train), pred_train, col_names)\n",
    "\n",
    "print(eval_metrics_train)"
   ]
  },
  {
   "cell_type": "code",
   "execution_count": 381,
   "metadata": {},
   "outputs": [
    {
     "data": {
      "text/html": [
       "<div>\n",
       "<style scoped>\n",
       "    .dataframe tbody tr th:only-of-type {\n",
       "        vertical-align: middle;\n",
       "    }\n",
       "\n",
       "    .dataframe tbody tr th {\n",
       "        vertical-align: top;\n",
       "    }\n",
       "\n",
       "    .dataframe thead th {\n",
       "        text-align: right;\n",
       "    }\n",
       "</style>\n",
       "<table border=\"1\" class=\"dataframe\">\n",
       "  <thead>\n",
       "    <tr style=\"text-align: right;\">\n",
       "      <th></th>\n",
       "      <th>Accuracy</th>\n",
       "      <th>Precision</th>\n",
       "      <th>Recall</th>\n",
       "      <th>F1</th>\n",
       "    </tr>\n",
       "  </thead>\n",
       "  <tbody>\n",
       "    <tr>\n",
       "      <th>count</th>\n",
       "      <td>19.000000</td>\n",
       "      <td>19.000000</td>\n",
       "      <td>19.000000</td>\n",
       "      <td>19.000000</td>\n",
       "    </tr>\n",
       "    <tr>\n",
       "      <th>mean</th>\n",
       "      <td>0.998168</td>\n",
       "      <td>0.994932</td>\n",
       "      <td>0.967843</td>\n",
       "      <td>0.981159</td>\n",
       "    </tr>\n",
       "    <tr>\n",
       "      <th>std</th>\n",
       "      <td>0.001088</td>\n",
       "      <td>0.007295</td>\n",
       "      <td>0.015046</td>\n",
       "      <td>0.010007</td>\n",
       "    </tr>\n",
       "    <tr>\n",
       "      <th>min</th>\n",
       "      <td>0.996210</td>\n",
       "      <td>0.972222</td>\n",
       "      <td>0.929204</td>\n",
       "      <td>0.950226</td>\n",
       "    </tr>\n",
       "    <tr>\n",
       "      <th>25%</th>\n",
       "      <td>0.997502</td>\n",
       "      <td>0.994038</td>\n",
       "      <td>0.960724</td>\n",
       "      <td>0.977301</td>\n",
       "    </tr>\n",
       "    <tr>\n",
       "      <th>50%</th>\n",
       "      <td>0.998277</td>\n",
       "      <td>0.997590</td>\n",
       "      <td>0.967742</td>\n",
       "      <td>0.982213</td>\n",
       "    </tr>\n",
       "    <tr>\n",
       "      <th>75%</th>\n",
       "      <td>0.998880</td>\n",
       "      <td>1.000000</td>\n",
       "      <td>0.977861</td>\n",
       "      <td>0.986042</td>\n",
       "    </tr>\n",
       "    <tr>\n",
       "      <th>max</th>\n",
       "      <td>0.999828</td>\n",
       "      <td>1.000000</td>\n",
       "      <td>0.990991</td>\n",
       "      <td>0.995475</td>\n",
       "    </tr>\n",
       "  </tbody>\n",
       "</table>\n",
       "</div>"
      ],
      "text/plain": [
       "        Accuracy  Precision     Recall         F1\n",
       "count  19.000000  19.000000  19.000000  19.000000\n",
       "mean    0.998168   0.994932   0.967843   0.981159\n",
       "std     0.001088   0.007295   0.015046   0.010007\n",
       "min     0.996210   0.972222   0.929204   0.950226\n",
       "25%     0.997502   0.994038   0.960724   0.977301\n",
       "50%     0.998277   0.997590   0.967742   0.982213\n",
       "75%     0.998880   1.000000   0.977861   0.986042\n",
       "max     0.999828   1.000000   0.990991   0.995475"
      ]
     },
     "execution_count": 381,
     "metadata": {},
     "output_type": "execute_result"
    }
   ],
   "source": [
    "# Get summary stats for train model\n",
    "eval_metrics_train.describe()"
   ]
  },
  {
   "cell_type": "code",
   "execution_count": 385,
   "metadata": {},
   "outputs": [],
   "source": [
    "# Calculate evaluation metrics for test set\n",
    "pred_test = model_rfc.predict(X_test)"
   ]
  },
  {
   "cell_type": "code",
   "execution_count": 386,
   "metadata": {},
   "outputs": [
    {
     "name": "stdout",
     "output_type": "stream",
     "text": [
      "                       Accuracy  Precision    Recall        F1\n",
      "Data-Engr-Big Data     0.995349   0.968000  0.960317  0.964143\n",
      "Data-Sci-BI            0.994832   0.990291  0.918919  0.953271\n",
      "Dev-Devops             0.998966   1.000000  0.933333  0.965517\n",
      "Dev-Web-Backend        0.989664   0.963190  0.918129  0.940120\n",
      "Dev-Web-Frontend       0.991731   0.979592  0.917197  0.947368\n",
      "Dev-Web-Fullstack      0.993282   0.972414  0.940000  0.955932\n",
      "ERP-SAP                0.999483   0.993377  1.000000  0.996678\n",
      "IT-Admin-Others        0.997933   0.938776  0.978723  0.958333\n",
      "IT-Mgmt-Consulting     0.994832   1.000000  0.921260  0.959016\n",
      "IT-Mgmt-Projectleiter  0.996382   1.000000  0.950355  0.974545\n",
      "IT-Technical-Dev       0.996899   0.951220  0.906977  0.928571\n",
      "IT/Elektrotechn        0.998966   1.000000  0.937500  0.967742\n",
      "Infr-Admin-Database    0.998966   1.000000  0.950000  0.974359\n",
      "Infr-Admin-Linux       0.998450   1.000000  0.945455  0.971963\n",
      "Infr-Admin-Microsoft   0.995349   0.986207  0.953333  0.969492\n",
      "Infr-Admin-Net         0.999483   1.000000  0.985294  0.992593\n",
      "Infr-Database-Admin    0.995866   0.985185  0.956835  0.970803\n",
      "SW-Dev-Mobile          0.997416   1.000000  0.907407  0.951456\n",
      "SW-Dev-Others          0.994832   0.992647  0.937500  0.964286\n"
     ]
    }
   ],
   "source": [
    "col_names = list(target.columns.values)\n",
    "eval_metrics_test = get_eval_metrics(np.array(Y_test), pred_test, col_names)\n",
    "\n",
    "print(eval_metrics_test)"
   ]
  },
  {
   "cell_type": "code",
   "execution_count": 387,
   "metadata": {},
   "outputs": [
    {
     "data": {
      "text/html": [
       "<div>\n",
       "<style scoped>\n",
       "    .dataframe tbody tr th:only-of-type {\n",
       "        vertical-align: middle;\n",
       "    }\n",
       "\n",
       "    .dataframe tbody tr th {\n",
       "        vertical-align: top;\n",
       "    }\n",
       "\n",
       "    .dataframe thead th {\n",
       "        text-align: right;\n",
       "    }\n",
       "</style>\n",
       "<table border=\"1\" class=\"dataframe\">\n",
       "  <thead>\n",
       "    <tr style=\"text-align: right;\">\n",
       "      <th></th>\n",
       "      <th>Accuracy</th>\n",
       "      <th>Precision</th>\n",
       "      <th>Recall</th>\n",
       "      <th>F1</th>\n",
       "    </tr>\n",
       "  </thead>\n",
       "  <tbody>\n",
       "    <tr>\n",
       "      <th>count</th>\n",
       "      <td>19.000000</td>\n",
       "      <td>19.000000</td>\n",
       "      <td>19.000000</td>\n",
       "      <td>19.000000</td>\n",
       "    </tr>\n",
       "    <tr>\n",
       "      <th>mean</th>\n",
       "      <td>0.996246</td>\n",
       "      <td>0.985310</td>\n",
       "      <td>0.943081</td>\n",
       "      <td>0.963484</td>\n",
       "    </tr>\n",
       "    <tr>\n",
       "      <th>std</th>\n",
       "      <td>0.002717</td>\n",
       "      <td>0.018539</td>\n",
       "      <td>0.025912</td>\n",
       "      <td>0.016247</td>\n",
       "    </tr>\n",
       "    <tr>\n",
       "      <th>min</th>\n",
       "      <td>0.989664</td>\n",
       "      <td>0.938776</td>\n",
       "      <td>0.906977</td>\n",
       "      <td>0.928571</td>\n",
       "    </tr>\n",
       "    <tr>\n",
       "      <th>25%</th>\n",
       "      <td>0.994832</td>\n",
       "      <td>0.976003</td>\n",
       "      <td>0.920089</td>\n",
       "      <td>0.954602</td>\n",
       "    </tr>\n",
       "    <tr>\n",
       "      <th>50%</th>\n",
       "      <td>0.996382</td>\n",
       "      <td>0.992647</td>\n",
       "      <td>0.940000</td>\n",
       "      <td>0.964286</td>\n",
       "    </tr>\n",
       "    <tr>\n",
       "      <th>75%</th>\n",
       "      <td>0.998708</td>\n",
       "      <td>1.000000</td>\n",
       "      <td>0.955084</td>\n",
       "      <td>0.971383</td>\n",
       "    </tr>\n",
       "    <tr>\n",
       "      <th>max</th>\n",
       "      <td>0.999483</td>\n",
       "      <td>1.000000</td>\n",
       "      <td>1.000000</td>\n",
       "      <td>0.996678</td>\n",
       "    </tr>\n",
       "  </tbody>\n",
       "</table>\n",
       "</div>"
      ],
      "text/plain": [
       "        Accuracy  Precision     Recall         F1\n",
       "count  19.000000  19.000000  19.000000  19.000000\n",
       "mean    0.996246   0.985310   0.943081   0.963484\n",
       "std     0.002717   0.018539   0.025912   0.016247\n",
       "min     0.989664   0.938776   0.906977   0.928571\n",
       "25%     0.994832   0.976003   0.920089   0.954602\n",
       "50%     0.996382   0.992647   0.940000   0.964286\n",
       "75%     0.998708   1.000000   0.955084   0.971383\n",
       "max     0.999483   1.000000   1.000000   0.996678"
      ]
     },
     "execution_count": 387,
     "metadata": {},
     "output_type": "execute_result"
    }
   ],
   "source": [
    "# Get summary stats for test model\n",
    "eval_metrics_test.describe()"
   ]
  },
  {
   "cell_type": "code",
   "execution_count": null,
   "metadata": {},
   "outputs": [],
   "source": [
    "def save_model(model, model_filepath):\n",
    "    \"\"\"Pickle fitted model\n",
    "    \n",
    "    Args:\n",
    "    model: model object. Fitted model object.\n",
    "    model_filepath: string. Filepath for where fitted model should be saved\n",
    "    \n",
    "    Returns:\n",
    "    None\n",
    "    \"\"\"\n",
    "    pickle.dump(model.best_estimator_, open(model_filepath, 'wb'))"
   ]
  },
  {
   "cell_type": "code",
   "execution_count": 195,
   "metadata": {},
   "outputs": [],
   "source": [
    "def vectorize_text(text):\n",
    "    text = [text]\n",
    "    v = vectorizer.fit_transform([feature[0]])\n",
    "    return v.toarray()"
   ]
  },
  {
   "cell_type": "code",
   "execution_count": 72,
   "metadata": {},
   "outputs": [],
   "source": [
    "loaded_model = joblib.load(\"models/new_model\")"
   ]
  },
  {
   "cell_type": "code",
   "execution_count": 123,
   "metadata": {},
   "outputs": [
    {
     "data": {
      "text/plain": [
       "'\\nHallo zusammen,\\n\\nfür einen meiner Kunden suche ich zum nächstmöglichen einen Java Developer.\\n\\nEckdaten:\\n\\nStart: ASAP\\nDauer: 6 Monate ++\\nOrt: Duisburg\\nRemote: 2Tage vor Ort 3 Tage Remote\\n\\n\\nAnforderungen:\\n\\n- Java\\n- Swing\\n- Rest\\n- SOAP\\n- Wildfly\\n- MySql\\n\\nBei Interesse bitte eine Email an mit Ihrem CV.\\n\\nViele Grüße\\n\\n\\n'"
      ]
     },
     "execution_count": 123,
     "metadata": {},
     "output_type": "execute_result"
    }
   ],
   "source": [
    "text_data =\"\"\"\n",
    "Hallo zusammen,\n",
    "\n",
    "für einen meiner Kunden suche ich zum nächstmöglichen einen Java Developer.\n",
    "\n",
    "Eckdaten:\n",
    "\n",
    "Start: ASAP\n",
    "Dauer: 6 Monate ++\n",
    "Ort: Duisburg\n",
    "Remote: 2Tage vor Ort 3 Tage Remote\n",
    "\n",
    "\n",
    "Anforderungen:\n",
    "\n",
    "- Java\n",
    "- Swing\n",
    "- Rest\n",
    "- SOAP\n",
    "- Wildfly\n",
    "- MySql\n",
    "\n",
    "Bei Interesse bitte eine Email an mit Ihrem CV.\n",
    "\n",
    "Viele Grüße\n",
    "\n",
    "\n",
    "\"\"\" #ready_data['project'][0]\n",
    "#text_data = tokenize(text_data)\n",
    "#text_data = ' '.join(text_data)\n",
    "text_data"
   ]
  },
  {
   "cell_type": "code",
   "execution_count": 73,
   "metadata": {},
   "outputs": [
    {
     "data": {
      "text/plain": [
       "{'Data-Engr-Big Data': 0,\n",
       " 'Data-Sci-BI': 0,\n",
       " 'Dev-Devops': 0,\n",
       " 'Dev-Web-Backend': 0,\n",
       " 'Dev-Web-Frontend': 0,\n",
       " 'Dev-Web-Fullstack': 0,\n",
       " 'ERP-SAP': 0,\n",
       " 'IT-Admin-Others': 0,\n",
       " 'IT-Mgmt-Consulting': 0,\n",
       " 'IT-Mgmt-Projectleiter': 0,\n",
       " 'IT-Technical-Dev': 0,\n",
       " 'IT/Elektrotechn': 0,\n",
       " 'Infr-Admin-Database': 0,\n",
       " 'Infr-Admin-Linux': 0,\n",
       " 'Infr-Admin-Microsoft': 0,\n",
       " 'Infr-Admin-Net': 0,\n",
       " 'Infr-Database-Admin': 0,\n",
       " 'SW-Dev-Mobile': 0,\n",
       " 'SW-Dev-Others': 0}"
      ]
     },
     "execution_count": 73,
     "metadata": {},
     "output_type": "execute_result"
    }
   ],
   "source": [
    "get_category(text_data, loaded_model, target)"
   ]
  },
  {
   "cell_type": "code",
   "execution_count": 393,
   "metadata": {},
   "outputs": [],
   "source": [
    "import pickle\n",
    "from sklearn.externals import joblib\n",
    "import gensim\n",
    "from gensim.models import LdaModel\n",
    "from gensim import models, corpora, similarities\n",
    "import re\n",
    "import time\n",
    "from nltk import FreqDist\n",
    "from scipy.stats import entropy\n",
    "import matplotlib.pyplot as plt"
   ]
  },
  {
   "cell_type": "code",
   "execution_count": 295,
   "metadata": {},
   "outputs": [
    {
     "data": {
      "text/plain": [
       "'chstm glich java eckdat java swing rest soap wildfli mysql gr'"
      ]
     },
     "execution_count": 295,
     "metadata": {},
     "output_type": "execute_result"
    }
   ],
   "source": [
    "#feature[1]\n",
    "text_data = tokenize(text_data)\n",
    "text_data = ' '.join(text_data)\n",
    "text_data"
   ]
  },
  {
   "cell_type": "code",
   "execution_count": 401,
   "metadata": {},
   "outputs": [
    {
     "data": {
      "text/plain": [
       "[(0,\n",
       "  '0.257*\"sap\" + 0.034*\"abap\" + 0.027*\"berat\" + 0.020*\"fi\" + 0.018*\"hana\" + 0.015*\"mm\" + 0.014*\"sd\" + 0.014*\"bw\" + 0.013*\"consultant\" + 0.012*\"pp\"'),\n",
       " (1,\n",
       "  '0.063*\"java\" + 0.043*\"entwickl\" + 0.028*\"javascript\" + 0.022*\"frontend\" + 0.019*\"spring\" + 0.019*\"html\" + 0.019*\"angular\" + 0.017*\"backend\" + 0.016*\"net\" + 0.015*\"css\"'),\n",
       " (2,\n",
       "  '0.018*\"untersttz\" + 0.015*\"scrum\" + 0.015*\"gren\" + 0.014*\"agil\" + 0.011*\"jira\" + 0.010*\"entwickl\" + 0.010*\"frontend\" + 0.009*\"april\" + 0.009*\"bercksicht\" + 0.009*\"java\"'),\n",
       " (3,\n",
       "  '0.063*\"java\" + 0.033*\"devops\" + 0.033*\"dock\" + 0.028*\"aws\" + 0.026*\"cloud\" + 0.020*\"spring\" + 0.018*\"jenkin\" + 0.018*\"kubernet\" + 0.017*\"data\" + 0.016*\"mav\"'),\n",
       " (4,\n",
       "  '0.119*\"windows\" + 0.063*\"serv\" + 0.048*\"support\" + 0.043*\"administration\" + 0.034*\"cisco\" + 0.024*\"konfiguration\" + 0.023*\"microsoft\" + 0.022*\"netzwerk\" + 0.021*\"linux\" + 0.020*\"citrix\"'),\n",
       " (5,\n",
       "  '0.037*\"oracl\" + 0.032*\"mobil\" + 0.031*\"support\" + 0.029*\"hcm\" + 0.021*\"installation\" + 0.019*\"tex\" + 0.017*\"ios\" + 0.016*\"android\" + 0.013*\"berat\" + 0.012*\"gewnscht\"'),\n",
       " (6,\n",
       "  '0.027*\"business\" + 0.026*\"data\" + 0.025*\"project\" + 0.023*\"development\" + 0.016*\"technical\" + 0.016*\"softwar\" + 0.016*\"support\" + 0.016*\"application\" + 0.014*\"requirement\" + 0.014*\"develop\"'),\n",
       " (7,\n",
       "  '0.027*\"technisch\" + 0.020*\"dokumentation\" + 0.016*\"architektur\" + 0.015*\"gren\" + 0.012*\"untersttz\" + 0.010*\"implementier\" + 0.010*\"applikation\" + 0.010*\"prsentation\" + 0.009*\"dienstleist\" + 0.008*\"analys\"'),\n",
       " (8,\n",
       "  '0.027*\"ms\" + 0.016*\"sharepoint\" + 0.016*\"projektleit\" + 0.015*\"crm\" + 0.013*\"powershell\" + 0.012*\"itil\" + 0.012*\"koordination\" + 0.011*\"serv\" + 0.011*\"softwareentwickl\" + 0.011*\"administrator\"'),\n",
       " (9,\n",
       "  '0.020*\"analys\" + 0.017*\"test\" + 0.016*\"business\" + 0.015*\"sql\" + 0.014*\"untersttz\" + 0.014*\"dokumentation\" + 0.013*\"dynamics\" + 0.012*\"technisch\" + 0.011*\"fhigkeit\" + 0.011*\"konzeption\"')]"
      ]
     },
     "execution_count": 401,
     "metadata": {},
     "output_type": "execute_result"
    }
   ],
   "source": [
    "tm = joblib.load('tm_model')\n",
    "tm.show_topics(num_words=10)"
   ]
  },
  {
   "cell_type": "code",
   "execution_count": 2,
   "metadata": {},
   "outputs": [
    {
     "ename": "NameError",
     "evalue": "name 'Pipeline' is not defined",
     "output_type": "error",
     "traceback": [
      "\u001b[0;31m---------------------------------------------------------------------------\u001b[0m",
      "\u001b[0;31mNameError\u001b[0m                                 Traceback (most recent call last)",
      "\u001b[0;32m<ipython-input-2-0a06ab7e5e80>\u001b[0m in \u001b[0;36m<module>\u001b[0;34m\u001b[0m\n\u001b[0;32m----> 1\u001b[0;31m \u001b[0mmodel_rfc\u001b[0m \u001b[0;34m=\u001b[0m \u001b[0mbuild_model\u001b[0m\u001b[0;34m(\u001b[0m\u001b[0;34m)\u001b[0m\u001b[0;34m\u001b[0m\u001b[0;34m\u001b[0m\u001b[0m\n\u001b[0m\u001b[1;32m      2\u001b[0m \u001b[0mmodel_rfc\u001b[0m\u001b[0;34m.\u001b[0m\u001b[0mfit\u001b[0m\u001b[0;34m(\u001b[0m\u001b[0mX_train\u001b[0m\u001b[0;34m,\u001b[0m \u001b[0mY_train\u001b[0m\u001b[0;34m)\u001b[0m\u001b[0;34m\u001b[0m\u001b[0;34m\u001b[0m\u001b[0m\n",
      "\u001b[0;32m<ipython-input-1-6101661e0c6d>\u001b[0m in \u001b[0;36mbuild_model\u001b[0;34m()\u001b[0m\n\u001b[1;32m     10\u001b[0m     \"\"\"\n\u001b[1;32m     11\u001b[0m     \u001b[0;31m# Create pipeline\u001b[0m\u001b[0;34m\u001b[0m\u001b[0;34m\u001b[0m\u001b[0;34m\u001b[0m\u001b[0m\n\u001b[0;32m---> 12\u001b[0;31m     pipeline = Pipeline([\n\u001b[0m\u001b[1;32m     13\u001b[0m         \u001b[0;34m(\u001b[0m\u001b[0;34m'vect'\u001b[0m\u001b[0;34m,\u001b[0m \u001b[0mCountVectorizer\u001b[0m\u001b[0;34m(\u001b[0m\u001b[0mtokenizer\u001b[0m \u001b[0;34m=\u001b[0m \u001b[0mtokenize\u001b[0m\u001b[0;34m,\u001b[0m \u001b[0mmin_df\u001b[0m \u001b[0;34m=\u001b[0m \u001b[0;36m5\u001b[0m\u001b[0;34m,\u001b[0m \u001b[0mngram_range\u001b[0m\u001b[0;34m=\u001b[0m\u001b[0;34m(\u001b[0m\u001b[0;36m1\u001b[0m\u001b[0;34m,\u001b[0m\u001b[0;36m2\u001b[0m\u001b[0;34m)\u001b[0m\u001b[0;34m)\u001b[0m\u001b[0;34m)\u001b[0m\u001b[0;34m,\u001b[0m\u001b[0;34m\u001b[0m\u001b[0;34m\u001b[0m\u001b[0m\n\u001b[1;32m     14\u001b[0m         \u001b[0;34m(\u001b[0m\u001b[0;34m'tfidf'\u001b[0m\u001b[0;34m,\u001b[0m \u001b[0mTfidfTransformer\u001b[0m\u001b[0;34m(\u001b[0m\u001b[0muse_idf\u001b[0m \u001b[0;34m=\u001b[0m \u001b[0;32mTrue\u001b[0m\u001b[0;34m)\u001b[0m\u001b[0;34m)\u001b[0m\u001b[0;34m,\u001b[0m\u001b[0;34m\u001b[0m\u001b[0;34m\u001b[0m\u001b[0m\n",
      "\u001b[0;31mNameError\u001b[0m: name 'Pipeline' is not defined"
     ]
    }
   ],
   "source": [
    "model_rfc = build_model()\n",
    "model_rfc.fit(X_train, Y_train)"
   ]
  },
  {
   "cell_type": "code",
   "execution_count": 112,
   "metadata": {},
   "outputs": [],
   "source": [
    "def output(data):\n",
    "    print('Loading data...')\n",
    "    feature = data['project']\n",
    "    target = data.drop('project', axis=1)\n",
    "    target_name = list(target.columns.values)\n",
    "    model_filepath = '../models/pfclassifier.pkl'\n",
    "\n",
    "    X_train, X_test, Y_train, Y_test = train_test_split(feature, target, test_size=0.2)\n",
    "\n",
    "    print('Building model...')\n",
    "    model = build_model()\n",
    "\n",
    "    print('Training model...')\n",
    "    model.fit(X_train, Y_train)\n",
    "\n",
    "    print('Evaluating model...')\n",
    "    evaluate_model(model, X_test, Y_test, category_names)\n",
    "\n",
    "    print('Saving model...\\n    MODEL: {}'.format(model_filepath))\n",
    "    save_model(model, model_filepath)\n",
    "\n",
    "    print('Trained model saved!')"
   ]
  },
  {
   "cell_type": "code",
   "execution_count": null,
   "metadata": {},
   "outputs": [
    {
     "name": "stdout",
     "output_type": "stream",
     "text": [
      "Loading data...\n",
      "Building model...\n",
      "Training model...\n",
      "Fitting 3 folds for each of 24 candidates, totalling 72 fits\n",
      "[CV] clf__estimator__min_samples_split=2, clf__estimator__n_estimators=10, tfidf__use_idf=True, vect__min_df=1 \n"
     ]
    },
    {
     "name": "stderr",
     "output_type": "stream",
     "text": [
      "[Parallel(n_jobs=1)]: Using backend SequentialBackend with 1 concurrent workers.\n"
     ]
    },
    {
     "name": "stdout",
     "output_type": "stream",
     "text": [
      "[CV]  clf__estimator__min_samples_split=2, clf__estimator__n_estimators=10, tfidf__use_idf=True, vect__min_df=1, score=0.9318181818181818, total=40.7min\n",
      "[CV] clf__estimator__min_samples_split=2, clf__estimator__n_estimators=10, tfidf__use_idf=True, vect__min_df=1 \n"
     ]
    },
    {
     "name": "stderr",
     "output_type": "stream",
     "text": [
      "[Parallel(n_jobs=1)]: Done   1 out of   1 | elapsed: 68.0min remaining:    0.0s\n"
     ]
    }
   ],
   "source": [
    "output(ready_data)"
   ]
  },
  {
   "cell_type": "code",
   "execution_count": 65,
   "metadata": {},
   "outputs": [],
   "source": []
  },
  {
   "cell_type": "code",
   "execution_count": 66,
   "metadata": {},
   "outputs": [],
   "source": []
  }
 ],
 "metadata": {
  "kernelspec": {
   "display_name": "Python 3",
   "language": "python",
   "name": "python3"
  },
  "language_info": {
   "codemirror_mode": {
    "name": "ipython",
    "version": 3
   },
   "file_extension": ".py",
   "mimetype": "text/x-python",
   "name": "python",
   "nbconvert_exporter": "python",
   "pygments_lexer": "ipython3",
   "version": "3.7.3"
  },
  "pycharm": {
   "stem_cell": {
    "cell_type": "raw",
    "metadata": {
     "collapsed": false
    },
    "source": []
   }
  }
 },
 "nbformat": 4,
 "nbformat_minor": 1
}
