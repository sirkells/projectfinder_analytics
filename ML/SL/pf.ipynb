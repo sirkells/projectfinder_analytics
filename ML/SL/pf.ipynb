{
 "cells": [
  {
   "cell_type": "code",
   "execution_count": 1,
   "metadata": {},
   "outputs": [],
   "source": [
    "import json, nltk, re, os, codecs\n",
    "\n",
    "import pandas as pd\n",
    "from pandas.io.json import json_normalize\n",
    "#import pandas_profiling\n",
    "import numpy as np\n",
    "\n",
    "from matplotlib import pyplot as plt\n",
    "%matplotlib inline\n",
    "\n",
    "import seaborn as sns\n",
    "sns.set_style(\"whitegrid\")\n",
    "import altair as alt\n",
    "alt.renderers.enable(\"notebook\")\n",
    "\n",
    "# Code for hiding seaborn warnings\n",
    "import warnings\n",
    "warnings.filterwarnings(\"ignore\")\n",
    "\n",
    "from sklearn import feature_extraction\n",
    "\n",
    "from pymongo import MongoClient"
   ]
  },
  {
   "cell_type": "code",
   "execution_count": 2,
   "metadata": {},
   "outputs": [
    {
     "name": "stderr",
     "output_type": "stream",
     "text": [
      "[nltk_data] Downloading package punkt to /home/kells/nltk_data...\n",
      "[nltk_data]   Package punkt is already up-to-date!\n",
      "[nltk_data] Downloading package stopwords to /home/kells/nltk_data...\n",
      "[nltk_data]   Package stopwords is already up-to-date!\n"
     ]
    }
   ],
   "source": [
    "\n",
    "# import libraries\n",
    "import pandas as pd\n",
    "import numpy as np\n",
    "from sqlalchemy import create_engine\n",
    "import re\n",
    "import pickle\n",
    "import nltk\n",
    "\n",
    "nltk.download('punkt')\n",
    "nltk.download('stopwords')\n",
    "\n",
    "from nltk.corpus import stopwords\n",
    "from nltk.tokenize import word_tokenize\n",
    "from nltk.stem.porter import PorterStemmer\n",
    "from nltk.stem.snowball import SnowballStemmer\n",
    "\n",
    "\n",
    "from sklearn.pipeline import Pipeline\n",
    "from sklearn.feature_extraction.text import CountVectorizer, TfidfTransformer\n",
    "from sklearn.model_selection import train_test_split, GridSearchCV\n",
    "from sklearn.ensemble import RandomForestClassifier\n",
    "from sklearn.multioutput import MultiOutputClassifier\n",
    "from sklearn.metrics import accuracy_score, precision_score, recall_score, f1_score, make_scorer\n",
    "from sklearn.model_selection import GridSearchCV\n",
    "from sklearn.svm import SVC\n",
    "from nltk.tokenize import word_tokenize\n",
    "import warnings\n",
    "\n",
    "warnings.simplefilter('ignore')\n",
    "\n",
    "import pickle\n",
    "from sklearn.externals import joblib"
   ]
  },
  {
   "cell_type": "code",
   "execution_count": 5,
   "metadata": {},
   "outputs": [],
   "source": [
    "def load_data_from_momgodb(db_obj):\n",
    "    dbname = db_obj['db']\n",
    "    ip = db_obj['ip']\n",
    "    port = db_obj['port']\n",
    "    coll = db_obj['coll']\n",
    "    connection = MongoClient(ip,port)\n",
    "    db = connection[dbname]\n",
    "    exclude_data = {'_id': False}\n",
    "    raw_data = list(db[coll].find({}, projection=exclude_data))\n",
    "    dataset = pd.DataFrame(raw_data)\n",
    "    print(f'Data loaded from mongodb {coll} collection succesfully')\n",
    "    return dataset"
   ]
  },
  {
   "cell_type": "code",
   "execution_count": 6,
   "metadata": {},
   "outputs": [],
   "source": [
    "db_data = {\n",
    "    'ip' :'10.10.250.0',\n",
    "    'port' : 27017,\n",
    "    'db' : 'projectfinder',\n",
    "    'coll' : 'mldata1'\n",
    "}"
   ]
  },
  {
   "cell_type": "code",
   "execution_count": 7,
   "metadata": {},
   "outputs": [
    {
     "name": "stdout",
     "output_type": "stream",
     "text": [
      "Data loaded from mongodb mldata1 collection succesfully\n"
     ]
    },
    {
     "data": {
      "text/html": [
       "<div>\n",
       "<style scoped>\n",
       "    .dataframe tbody tr th:only-of-type {\n",
       "        vertical-align: middle;\n",
       "    }\n",
       "\n",
       "    .dataframe tbody tr th {\n",
       "        vertical-align: top;\n",
       "    }\n",
       "\n",
       "    .dataframe thead th {\n",
       "        text-align: right;\n",
       "    }\n",
       "</style>\n",
       "<table border=\"1\" class=\"dataframe\">\n",
       "  <thead>\n",
       "    <tr style=\"text-align: right;\">\n",
       "      <th></th>\n",
       "      <th>Data-Engr-Big Data</th>\n",
       "      <th>Data-Sci-BI</th>\n",
       "      <th>Dev-Devops</th>\n",
       "      <th>Dev-Web-Backend</th>\n",
       "      <th>Dev-Web-Frontend</th>\n",
       "      <th>Dev-Web-Fullstack</th>\n",
       "      <th>ERP-SAP</th>\n",
       "      <th>IT-Admin-Others</th>\n",
       "      <th>IT-Mgmt-Consulting</th>\n",
       "      <th>IT-Mgmt-Projectleiter</th>\n",
       "      <th>IT-Technical-Dev</th>\n",
       "      <th>IT/Elektrotechn</th>\n",
       "      <th>Infr-Admin-Database</th>\n",
       "      <th>Infr-Admin-Linux</th>\n",
       "      <th>Infr-Admin-Microsoft</th>\n",
       "      <th>Infr-Admin-Net</th>\n",
       "      <th>Infr-Database-Admin</th>\n",
       "      <th>SW-Dev-Mobile</th>\n",
       "      <th>SW-Dev-Others</th>\n",
       "      <th>project</th>\n",
       "    </tr>\n",
       "  </thead>\n",
       "  <tbody>\n",
       "    <tr>\n",
       "      <th>0</th>\n",
       "      <td>0</td>\n",
       "      <td>0</td>\n",
       "      <td>0</td>\n",
       "      <td>0</td>\n",
       "      <td>0</td>\n",
       "      <td>0</td>\n",
       "      <td>0</td>\n",
       "      <td>0</td>\n",
       "      <td>0</td>\n",
       "      <td>0</td>\n",
       "      <td>0</td>\n",
       "      <td>0</td>\n",
       "      <td>0</td>\n",
       "      <td>0</td>\n",
       "      <td>1</td>\n",
       "      <td>0</td>\n",
       "      <td>0</td>\n",
       "      <td>0</td>\n",
       "      <td>0</td>\n",
       "      <td>Für einen unserer Kunden aus dem Finanzdienstl...</td>\n",
       "    </tr>\n",
       "    <tr>\n",
       "      <th>1</th>\n",
       "      <td>0</td>\n",
       "      <td>1</td>\n",
       "      <td>0</td>\n",
       "      <td>0</td>\n",
       "      <td>0</td>\n",
       "      <td>0</td>\n",
       "      <td>0</td>\n",
       "      <td>0</td>\n",
       "      <td>0</td>\n",
       "      <td>0</td>\n",
       "      <td>0</td>\n",
       "      <td>0</td>\n",
       "      <td>0</td>\n",
       "      <td>0</td>\n",
       "      <td>0</td>\n",
       "      <td>0</td>\n",
       "      <td>0</td>\n",
       "      <td>0</td>\n",
       "      <td>0</td>\n",
       "      <td>Business Intelligence Analyst (m/w) - Tableau ...</td>\n",
       "    </tr>\n",
       "    <tr>\n",
       "      <th>2</th>\n",
       "      <td>0</td>\n",
       "      <td>0</td>\n",
       "      <td>0</td>\n",
       "      <td>1</td>\n",
       "      <td>0</td>\n",
       "      <td>0</td>\n",
       "      <td>0</td>\n",
       "      <td>0</td>\n",
       "      <td>0</td>\n",
       "      <td>0</td>\n",
       "      <td>0</td>\n",
       "      <td>0</td>\n",
       "      <td>0</td>\n",
       "      <td>0</td>\n",
       "      <td>0</td>\n",
       "      <td>0</td>\n",
       "      <td>0</td>\n",
       "      <td>0</td>\n",
       "      <td>0</td>\n",
       "      <td>Konzeption, Customizing sowie Softwareanpassun...</td>\n",
       "    </tr>\n",
       "    <tr>\n",
       "      <th>3</th>\n",
       "      <td>0</td>\n",
       "      <td>0</td>\n",
       "      <td>0</td>\n",
       "      <td>0</td>\n",
       "      <td>0</td>\n",
       "      <td>0</td>\n",
       "      <td>0</td>\n",
       "      <td>0</td>\n",
       "      <td>1</td>\n",
       "      <td>0</td>\n",
       "      <td>0</td>\n",
       "      <td>0</td>\n",
       "      <td>0</td>\n",
       "      <td>0</td>\n",
       "      <td>0</td>\n",
       "      <td>0</td>\n",
       "      <td>0</td>\n",
       "      <td>0</td>\n",
       "      <td>0</td>\n",
       "      <td>Future Consulting GmbH \\r\\nentscheiden Sie sic...</td>\n",
       "    </tr>\n",
       "    <tr>\n",
       "      <th>4</th>\n",
       "      <td>0</td>\n",
       "      <td>0</td>\n",
       "      <td>0</td>\n",
       "      <td>0</td>\n",
       "      <td>0</td>\n",
       "      <td>0</td>\n",
       "      <td>0</td>\n",
       "      <td>0</td>\n",
       "      <td>0</td>\n",
       "      <td>0</td>\n",
       "      <td>0</td>\n",
       "      <td>0</td>\n",
       "      <td>0</td>\n",
       "      <td>0</td>\n",
       "      <td>1</td>\n",
       "      <td>0</td>\n",
       "      <td>0</td>\n",
       "      <td>0</td>\n",
       "      <td>0</td>\n",
       "      <td>Als Mitglied eines kleinen, dynamischen Teams ...</td>\n",
       "    </tr>\n",
       "  </tbody>\n",
       "</table>\n",
       "</div>"
      ],
      "text/plain": [
       "   Data-Engr-Big Data  Data-Sci-BI  Dev-Devops  Dev-Web-Backend  \\\n",
       "0                   0            0           0                0   \n",
       "1                   0            1           0                0   \n",
       "2                   0            0           0                1   \n",
       "3                   0            0           0                0   \n",
       "4                   0            0           0                0   \n",
       "\n",
       "   Dev-Web-Frontend  Dev-Web-Fullstack  ERP-SAP  IT-Admin-Others  \\\n",
       "0                 0                  0        0                0   \n",
       "1                 0                  0        0                0   \n",
       "2                 0                  0        0                0   \n",
       "3                 0                  0        0                0   \n",
       "4                 0                  0        0                0   \n",
       "\n",
       "   IT-Mgmt-Consulting  IT-Mgmt-Projectleiter  IT-Technical-Dev  \\\n",
       "0                   0                      0                 0   \n",
       "1                   0                      0                 0   \n",
       "2                   0                      0                 0   \n",
       "3                   1                      0                 0   \n",
       "4                   0                      0                 0   \n",
       "\n",
       "   IT/Elektrotechn  Infr-Admin-Database  Infr-Admin-Linux  \\\n",
       "0                0                    0                 0   \n",
       "1                0                    0                 0   \n",
       "2                0                    0                 0   \n",
       "3                0                    0                 0   \n",
       "4                0                    0                 0   \n",
       "\n",
       "   Infr-Admin-Microsoft  Infr-Admin-Net  Infr-Database-Admin  SW-Dev-Mobile  \\\n",
       "0                     1               0                    0              0   \n",
       "1                     0               0                    0              0   \n",
       "2                     0               0                    0              0   \n",
       "3                     0               0                    0              0   \n",
       "4                     1               0                    0              0   \n",
       "\n",
       "   SW-Dev-Others                                            project  \n",
       "0              0  Für einen unserer Kunden aus dem Finanzdienstl...  \n",
       "1              0  Business Intelligence Analyst (m/w) - Tableau ...  \n",
       "2              0  Konzeption, Customizing sowie Softwareanpassun...  \n",
       "3              0  Future Consulting GmbH \\r\\nentscheiden Sie sic...  \n",
       "4              0  Als Mitglied eines kleinen, dynamischen Teams ...  "
      ]
     },
     "execution_count": 7,
     "metadata": {},
     "output_type": "execute_result"
    }
   ],
   "source": [
    "ready_data = load_data_from_momgodb(db_data)\n",
    "ready_data.head()"
   ]
  },
  {
   "cell_type": "code",
   "execution_count": 12,
   "metadata": {},
   "outputs": [],
   "source": [
    "#load saved model\n",
    "import pickle\n",
    "from sklearn.externals import joblib\n",
    "filename = '../stopwords.sav'\n",
    "stopwords = joblib.load(filename)"
   ]
  },
  {
   "cell_type": "code",
   "execution_count": 9,
   "metadata": {},
   "outputs": [],
   "source": [
    "def tokenize(text):\n",
    "    \"\"\"Normalize, tokenize and stem text string\n",
    "    \n",
    "    Args:\n",
    "    text: string. String containing message for processing\n",
    "       \n",
    "    Returns:\n",
    "    stemmed: list of strings. List containing normalized and stemmed word tokens\n",
    "    \"\"\"\n",
    "    # Stem word tokens and remove stop words\n",
    "    stemmer_eng = SnowballStemmer(\"english\", ignore_stopwords=True)\n",
    "    stemmer_germ = SnowballStemmer(\"german\", ignore_stopwords=True) \n",
    "    try:\n",
    "        # Convert text to lowercase and remove punctuation\n",
    "        text = re.sub(\"[^a-zA-Z ]\", \" \", text.lower()) #remove non alphbetic text\n",
    "\n",
    "        # Tokenize words\n",
    "        tokens = word_tokenize(text)\n",
    "        stemmed = [stemmer_germ.stem(word) for word in tokens if word not in stopwords]\n",
    "        stemmed = [stemmer_eng.stem(word) for word in stemmed if len(word) > 1]\n",
    "        stemmed = [word for word in stemmed if word not in stopwords]\n",
    "    except IndexError:\n",
    "        pass\n",
    "\n",
    "    return stemmed"
   ]
  },
  {
   "cell_type": "code",
   "execution_count": 14,
   "metadata": {},
   "outputs": [],
   "source": [
    "pipeline = Pipeline([\n",
    "    ('vect', CountVectorizer(tokenizer = tokenize)),\n",
    "    ('tfidf', TfidfTransformer()),\n",
    "    ('clf', MultiOutputClassifier(RandomForestClassifier()))\n",
    "])"
   ]
  },
  {
   "cell_type": "code",
   "execution_count": 15,
   "metadata": {},
   "outputs": [
    {
     "data": {
      "text/plain": [
       "['entwickl', 'run', 'jump']"
      ]
     },
     "execution_count": 15,
     "metadata": {},
     "output_type": "execute_result"
    }
   ],
   "source": [
    "tokenize('entwickler entwicklung bin ich i love running i am a jumped')"
   ]
  },
  {
   "cell_type": "code",
   "execution_count": 16,
   "metadata": {},
   "outputs": [],
   "source": [
    "feature = ready_data['project']\n",
    "target = ready_data.drop('project', axis=1)\n",
    "target_name = list(target.columns.values)"
   ]
  },
  {
   "cell_type": "code",
   "execution_count": 18,
   "metadata": {},
   "outputs": [
    {
     "data": {
      "text/plain": [
       "['../models/target.sav']"
      ]
     },
     "execution_count": 18,
     "metadata": {},
     "output_type": "execute_result"
    }
   ],
   "source": [
    "#filename = 'models/feature.sav'\n",
    "joblib.dump(feature, '../models/feature.sav')\n",
    "joblib.dump(target, '../models/target.sav')"
   ]
  },
  {
   "cell_type": "code",
   "execution_count": 12,
   "metadata": {},
   "outputs": [
    {
     "data": {
      "text/plain": [
       "Pipeline(memory=None,\n",
       "     steps=[('vect', CountVectorizer(analyzer='word', binary=False, decode_error='strict',\n",
       "        dtype=<class 'numpy.int64'>, encoding='utf-8', input='content',\n",
       "        lowercase=True, max_df=1.0, max_features=None, min_df=1,\n",
       "        ngram_range=(1, 1), preprocessor=None, stop_words=None,\n",
       "        strip..._score=False, random_state=None, verbose=0,\n",
       "            warm_start=False),\n",
       "           n_jobs=None))])"
      ]
     },
     "execution_count": 12,
     "metadata": {},
     "output_type": "execute_result"
    }
   ],
   "source": [
    "X_train, X_test, Y_train, Y_test = train_test_split(feature, target, random_state = 1)\n",
    "\n",
    "np.random.seed(17)\n",
    "pipeline.fit(X_train, Y_train)"
   ]
  },
  {
   "cell_type": "code",
   "execution_count": 18,
   "metadata": {},
   "outputs": [
    {
     "data": {
      "text/plain": [
       "['model.pkl']"
      ]
     },
     "execution_count": 18,
     "metadata": {},
     "output_type": "execute_result"
    }
   ],
   "source": [
    "#save model\n",
    "\n",
    "filename = 'model.pkl'\n",
    "joblib.dump(pipeline, filename)"
   ]
  },
  {
   "cell_type": "code",
   "execution_count": null,
   "metadata": {},
   "outputs": [],
   "source": []
  },
  {
   "cell_type": "code",
   "execution_count": 13,
   "metadata": {},
   "outputs": [],
   "source": [
    "def get_eval_metrics(actual, predicted, col_names):\n",
    "    \"\"\"Calculate evaluation metrics for ML model\n",
    "    \n",
    "    Args:\n",
    "    actual: array. Array containing actual labels.\n",
    "    predicted: array. Array containing predicted labels.\n",
    "    col_names: list of strings. List containing names for each of the predicted fields.\n",
    "       \n",
    "    Returns:\n",
    "    metrics_df: dataframe. Dataframe containing the accuracy, precision, recall \n",
    "    and f1 score for a given set of actual and predicted labels.\n",
    "    \"\"\"\n",
    "    metrics = []\n",
    "    \n",
    "    # Calculate evaluation metrics for each set of labels\n",
    "    for i in range(len(col_names)):\n",
    "        accuracy = accuracy_score(actual[:, i], predicted[:, i])\n",
    "        precision = precision_score(actual[:, i], predicted[:, i])\n",
    "        recall = recall_score(actual[:, i], predicted[:, i])\n",
    "        f1 = f1_score(actual[:, i], predicted[:, i])\n",
    "        \n",
    "        metrics.append([accuracy, precision, recall, f1])\n",
    "    \n",
    "    # Create dataframe containing metrics\n",
    "    metrics = np.array(metrics)\n",
    "    metrics_df = pd.DataFrame(data = metrics, index = col_names, columns = ['Accuracy', 'Precision', 'Recall', 'F1'])\n",
    "      \n",
    "    return metrics_df"
   ]
  },
  {
   "cell_type": "code",
   "execution_count": 14,
   "metadata": {},
   "outputs": [
    {
     "ename": "AttributeError",
     "evalue": "'Series' object has no attribute 'columns'",
     "output_type": "error",
     "traceback": [
      "\u001b[0;31m---------------------------------------------------------------------------\u001b[0m",
      "\u001b[0;31mAttributeError\u001b[0m                            Traceback (most recent call last)",
      "\u001b[0;32m<ipython-input-14-1a3c4dc5e87a>\u001b[0m in \u001b[0;36m<module>\u001b[0;34m\u001b[0m\n\u001b[1;32m      1\u001b[0m \u001b[0;31m# Calculate evaluation metrics for training set\u001b[0m\u001b[0;34m\u001b[0m\u001b[0;34m\u001b[0m\u001b[0;34m\u001b[0m\u001b[0m\n\u001b[1;32m      2\u001b[0m \u001b[0mY_train_pred\u001b[0m \u001b[0;34m=\u001b[0m \u001b[0mpipeline\u001b[0m\u001b[0;34m.\u001b[0m\u001b[0mpredict\u001b[0m\u001b[0;34m(\u001b[0m\u001b[0mX_train\u001b[0m\u001b[0;34m)\u001b[0m\u001b[0;34m\u001b[0m\u001b[0;34m\u001b[0m\u001b[0m\n\u001b[0;32m----> 3\u001b[0;31m \u001b[0mcol_names\u001b[0m \u001b[0;34m=\u001b[0m \u001b[0mlist\u001b[0m\u001b[0;34m(\u001b[0m\u001b[0mfeature\u001b[0m\u001b[0;34m.\u001b[0m\u001b[0mcolumns\u001b[0m\u001b[0;34m.\u001b[0m\u001b[0mvalues\u001b[0m\u001b[0;34m)\u001b[0m\u001b[0;34m\u001b[0m\u001b[0;34m\u001b[0m\u001b[0m\n\u001b[0m\u001b[1;32m      4\u001b[0m \u001b[0;34m\u001b[0m\u001b[0m\n\u001b[1;32m      5\u001b[0m \u001b[0mprint\u001b[0m\u001b[0;34m(\u001b[0m\u001b[0mget_eval_metrics\u001b[0m\u001b[0;34m(\u001b[0m\u001b[0mnp\u001b[0m\u001b[0;34m.\u001b[0m\u001b[0marray\u001b[0m\u001b[0;34m(\u001b[0m\u001b[0mY_train\u001b[0m\u001b[0;34m)\u001b[0m\u001b[0;34m,\u001b[0m \u001b[0mY_train_pred\u001b[0m\u001b[0;34m,\u001b[0m \u001b[0mcol_names\u001b[0m\u001b[0;34m)\u001b[0m\u001b[0;34m)\u001b[0m\u001b[0;34m\u001b[0m\u001b[0;34m\u001b[0m\u001b[0m\n",
      "\u001b[0;32m~/anaconda3/lib/python3.7/site-packages/pandas/core/generic.py\u001b[0m in \u001b[0;36m__getattr__\u001b[0;34m(self, name)\u001b[0m\n\u001b[1;32m   5061\u001b[0m         if (name in self._internal_names_set or name in self._metadata or\n\u001b[1;32m   5062\u001b[0m                 name in self._accessors):\n\u001b[0;32m-> 5063\u001b[0;31m             \u001b[0;32mreturn\u001b[0m \u001b[0mobject\u001b[0m\u001b[0;34m.\u001b[0m\u001b[0m__getattribute__\u001b[0m\u001b[0;34m(\u001b[0m\u001b[0mself\u001b[0m\u001b[0;34m,\u001b[0m \u001b[0mname\u001b[0m\u001b[0;34m)\u001b[0m\u001b[0;34m\u001b[0m\u001b[0;34m\u001b[0m\u001b[0m\n\u001b[0m\u001b[1;32m   5064\u001b[0m         \u001b[0;32melse\u001b[0m\u001b[0;34m:\u001b[0m\u001b[0;34m\u001b[0m\u001b[0;34m\u001b[0m\u001b[0m\n\u001b[1;32m   5065\u001b[0m             \u001b[0;32mif\u001b[0m \u001b[0mself\u001b[0m\u001b[0;34m.\u001b[0m\u001b[0m_info_axis\u001b[0m\u001b[0;34m.\u001b[0m\u001b[0m_can_hold_identifiers_and_holds_name\u001b[0m\u001b[0;34m(\u001b[0m\u001b[0mname\u001b[0m\u001b[0;34m)\u001b[0m\u001b[0;34m:\u001b[0m\u001b[0;34m\u001b[0m\u001b[0;34m\u001b[0m\u001b[0m\n",
      "\u001b[0;31mAttributeError\u001b[0m: 'Series' object has no attribute 'columns'"
     ]
    }
   ],
   "source": [
    "# Calculate evaluation metrics for training set\n",
    "Y_train_pred = pipeline.predict(X_train)"
   ]
  },
  {
   "cell_type": "code",
   "execution_count": 16,
   "metadata": {},
   "outputs": [
    {
     "name": "stdout",
     "output_type": "stream",
     "text": [
      "                      Accuracy  Precision    Recall        F1\n",
      "Big Data-Data Engr    0.998280   0.985989  0.985989  0.985989\n",
      "D_Science/Analysis    0.999812   1.000000  0.988411  0.994172\n",
      "ERP-SAP               0.999247   0.996542  0.997002  0.996772\n",
      "IT/Admin-Database     0.999167   0.995458  0.981343  0.988350\n",
      "IT/Admin-Linux        0.999355   0.991332  0.989772  0.990551\n",
      "IT/Admin-Microsoft    0.997446   0.987216  0.988479  0.987847\n",
      "IT/Admin-Others       0.999382   0.997366  0.982699  0.989978\n",
      "IT/Consulting-PM      0.997070   0.992850  0.992979  0.992914\n",
      "IT/Technisches        0.999839   0.998542  0.992754  0.995640\n",
      "SW/Dev-Devops         0.999731   0.993781  0.993781  0.993781\n",
      "SW/Dev-Mobile         0.999839   1.000000  0.991429  0.995696\n",
      "SW/Dev-Web            0.995968   0.983607  0.984848  0.984227\n",
      "SW/Dev-Web-Backend    0.998333   0.968142  0.976786  0.972444\n",
      "SW/Dev-Web-Fullstack  0.995403   0.978866  0.980043  0.979455\n",
      "other                 0.999301   0.997472  0.991621  0.994538\n"
     ]
    }
   ],
   "source": [
    "col_names = list(target.columns.values)\n",
    "\n",
    "print(get_eval_metrics(np.array(Y_train), Y_train_pred, col_names))"
   ]
  },
  {
   "cell_type": "code",
   "execution_count": 19,
   "metadata": {},
   "outputs": [
    {
     "name": "stdout",
     "output_type": "stream",
     "text": [
      "                      Accuracy  Precision    Recall        F1\n",
      "Big Data-Data Engr    0.995806   0.972067  0.956044  0.963989\n",
      "D_Science/Analysis    0.999597   1.000000  0.974490  0.987080\n",
      "ERP-SAP               0.997742   0.985396  0.995084  0.990217\n",
      "IT/Admin-Database     0.997016   0.995927  0.933206  0.963547\n",
      "IT/Admin-Linux        0.997419   0.997680  0.932755  0.964126\n",
      "IT/Admin-Microsoft    0.993468   0.972778  0.962758  0.967742\n",
      "IT/Admin-Others       0.998306   0.986150  0.956989  0.971351\n",
      "IT/Consulting-PM      0.991694   0.983600  0.975407  0.979486\n",
      "IT/Technisches        0.998871   0.987603  0.956000  0.971545\n",
      "SW/Dev-Devops         0.999194   0.989583  0.976027  0.982759\n",
      "SW/Dev-Mobile         0.999194   1.000000  0.951923  0.975369\n",
      "SW/Dev-Web            0.993710   0.973042  0.976804  0.974920\n",
      "SW/Dev-Web-Backend    0.995323   0.942197  0.895604  0.918310\n",
      "SW/Dev-Web-Fullstack  0.988629   0.970845  0.929518  0.949733\n",
      "other                 0.995968   0.997392  0.940959  0.968354\n"
     ]
    }
   ],
   "source": [
    "# Calculate evaluation metrics for test set\n",
    "Y_test_pred = pipeline.predict(X_test)\n",
    "\n",
    "eval_metrics0 = get_eval_metrics(np.array(Y_test), Y_test_pred, col_names)\n",
    "print(eval_metrics0)"
   ]
  },
  {
   "cell_type": "code",
   "execution_count": 7,
   "metadata": {},
   "outputs": [],
   "source": [
    "#load saved model\n",
    "loaded_pipeline = joblib.load('../models/model.pkl')"
   ]
  },
  {
   "cell_type": "code",
   "execution_count": 19,
   "metadata": {},
   "outputs": [],
   "source": [
    "#load feature and target data\n",
    "loaded_feature = joblib.load('../models/feature.sav')\n",
    "loaded_target = joblib.load('../models/target.sav')"
   ]
  },
  {
   "cell_type": "code",
   "execution_count": null,
   "metadata": {},
   "outputs": [],
   "source": [
    "#Y_pred = loaded_pipeline.predict(X_train)"
   ]
  },
  {
   "cell_type": "code",
   "execution_count": 20,
   "metadata": {},
   "outputs": [],
   "source": [
    "def get_category(text, model, labels):\n",
    "    class_labels = model.predict([text])[0]\n",
    "    classification_results = dict(zip(labels.columns, class_labels))\n",
    "    return classification_results\n",
    "    "
   ]
  },
  {
   "cell_type": "code",
   "execution_count": 21,
   "metadata": {},
   "outputs": [
    {
     "data": {
      "text/plain": [
       "'Für unseren Kunden in Nordrhein-Westfalen suchen wir ab sofort eine/n Senior Berater SAP TM (m/w/d).\\n\\n\\n \\n\\n\\nIhre Aufgaben:\\n\\n\\n- Erarbeitung und Umsetzung von neuen Konzepten im Rahmen unseres internationalen Rolloutprojektes\\n\\n\\n- Customizing/Konfiguration in den Bereichen SAP TM\\n\\n\\n- Erstellung von Spezifikationen für Entwicklungen und Schnittstellen\\n\\n\\n- Vorbereitung und Durchführung von Tests und User Trainings, sowie Unterstützung im Rahmen der Hypercare\\n\\n\\n \\n\\n\\nIhre Qualifikation:\\n\\n\\n- Sehr gute Kenntnisse von SAP TM und der Integration in die angrenzende Module (SD, MM, FI/CO)\\n\\n\\n- Erfahrung in der Implementierung von SAP TM für Verlader mit LKW-, Schiffscontainer-, Luftfracht- und Bahn-Transporten (Outbound & Inbound)\\n\\n\\n- Vorzugsweise Erfahrungen im Rahmen der Gefahrguttransporte\\n\\n\\n- Expertise in komplexen Frachtkostenabwicklungen\\n\\n\\n- Schnittstelle / Kommunikation über EDI\\n\\n\\n- Erfahrungen in der Integration zu SAP GTS und LBN\\n\\n\\n'"
      ]
     },
     "execution_count": 21,
     "metadata": {},
     "output_type": "execute_result"
    }
   ],
   "source": [
    "text_data =\"\"\"Für unseren Kunden in Nordrhein-Westfalen suchen wir ab sofort eine/n Senior Berater SAP TM (m/w/d).\n",
    "\n",
    "\n",
    " \n",
    "\n",
    "\n",
    "Ihre Aufgaben:\n",
    "\n",
    "\n",
    "- Erarbeitung und Umsetzung von neuen Konzepten im Rahmen unseres internationalen Rolloutprojektes\n",
    "\n",
    "\n",
    "- Customizing/Konfiguration in den Bereichen SAP TM\n",
    "\n",
    "\n",
    "- Erstellung von Spezifikationen für Entwicklungen und Schnittstellen\n",
    "\n",
    "\n",
    "- Vorbereitung und Durchführung von Tests und User Trainings, sowie Unterstützung im Rahmen der Hypercare\n",
    "\n",
    "\n",
    " \n",
    "\n",
    "\n",
    "Ihre Qualifikation:\n",
    "\n",
    "\n",
    "- Sehr gute Kenntnisse von SAP TM und der Integration in die angrenzende Module (SD, MM, FI/CO)\n",
    "\n",
    "\n",
    "- Erfahrung in der Implementierung von SAP TM für Verlader mit LKW-, Schiffscontainer-, Luftfracht- und Bahn-Transporten (Outbound & Inbound)\n",
    "\n",
    "\n",
    "- Vorzugsweise Erfahrungen im Rahmen der Gefahrguttransporte\n",
    "\n",
    "\n",
    "- Expertise in komplexen Frachtkostenabwicklungen\n",
    "\n",
    "\n",
    "- Schnittstelle / Kommunikation über EDI\n",
    "\n",
    "\n",
    "- Erfahrungen in der Integration zu SAP GTS und LBN\n",
    "\n",
    "\n",
    "\"\"\" #ready_data['project'][0]\n",
    "#text_data = tokenize(text_data)\n",
    "#text_data = ' '.join(text_data)\n",
    "text_data"
   ]
  },
  {
   "cell_type": "code",
   "execution_count": 22,
   "metadata": {},
   "outputs": [
    {
     "data": {
      "text/plain": [
       "{'Big Data-Data Engr': 0,\n",
       " 'D_Science/Analysis': 0,\n",
       " 'ERP-SAP': 1,\n",
       " 'IT/Admin-Database': 0,\n",
       " 'IT/Admin-Linux': 0,\n",
       " 'IT/Admin-Microsoft': 0,\n",
       " 'IT/Admin-Others': 0,\n",
       " 'IT/Consulting-PM': 0,\n",
       " 'IT/Technisches': 0,\n",
       " 'SW/Dev-Devops': 0,\n",
       " 'SW/Dev-Mobile': 0,\n",
       " 'SW/Dev-Web': 0,\n",
       " 'SW/Dev-Web-Backend': 0,\n",
       " 'SW/Dev-Web-Fullstack': 0,\n",
       " 'other': 0}"
      ]
     },
     "execution_count": 22,
     "metadata": {},
     "output_type": "execute_result"
    }
   ],
   "source": [
    "get_category(text_data, loaded_pipeline, loaded_target)"
   ]
  },
  {
   "cell_type": "code",
   "execution_count": 49,
   "metadata": {},
   "outputs": [],
   "source": [
    "class_labels = pipeline.predict([text_data])[0]"
   ]
  },
  {
   "cell_type": "code",
   "execution_count": 50,
   "metadata": {},
   "outputs": [],
   "source": [
    "classification_results = dict(zip(target.columns, class_labels))"
   ]
  },
  {
   "cell_type": "code",
   "execution_count": 51,
   "metadata": {},
   "outputs": [
    {
     "data": {
      "text/plain": [
       "{'Big Data-Data Engr': 0,\n",
       " 'D_Science/Analysis': 0,\n",
       " 'ERP-SAP': 0,\n",
       " 'IT/Admin-Database': 0,\n",
       " 'IT/Admin-Linux': 0,\n",
       " 'IT/Admin-Microsoft': 0,\n",
       " 'IT/Admin-Others': 0,\n",
       " 'IT/Consulting-PM': 0,\n",
       " 'IT/Technisches': 0,\n",
       " 'SW/Dev-Devops': 0,\n",
       " 'SW/Dev-Mobile': 0,\n",
       " 'SW/Dev-Web': 0,\n",
       " 'SW/Dev-Web-Backend': 0,\n",
       " 'SW/Dev-Web-Fullstack': 0,\n",
       " 'other': 0}"
      ]
     },
     "execution_count": 51,
     "metadata": {},
     "output_type": "execute_result"
    }
   ],
   "source": [
    "classification_results"
   ]
  },
  {
   "cell_type": "code",
   "execution_count": 52,
   "metadata": {},
   "outputs": [
    {
     "data": {
      "text/plain": [
       "array([0, 0, 0, 0, 0, 0, 0, 0, 0, 0, 0, 0, 0, 0, 0])"
      ]
     },
     "execution_count": 52,
     "metadata": {},
     "output_type": "execute_result"
    }
   ],
   "source": [
    "class_labels"
   ]
  },
  {
   "cell_type": "code",
   "execution_count": null,
   "metadata": {},
   "outputs": [],
   "source": []
  }
 ],
 "metadata": {
  "kernelspec": {
   "display_name": "Python 3",
   "language": "python",
   "name": "python3"
  },
  "language_info": {
   "codemirror_mode": {
    "name": "ipython",
    "version": 3
   },
   "file_extension": ".py",
   "mimetype": "text/x-python",
   "name": "python",
   "nbconvert_exporter": "python",
   "pygments_lexer": "ipython3",
   "version": "3.7.3"
  }
 },
 "nbformat": 4,
 "nbformat_minor": 2
}
