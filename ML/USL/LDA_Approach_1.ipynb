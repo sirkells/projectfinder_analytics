{
 "cells": [
  {
   "cell_type": "markdown",
   "metadata": {},
   "source": [
    "# DOCUMENTATION"
   ]
  },
  {
   "cell_type": "markdown",
   "metadata": {},
   "source": [
    "1. Import relevant libraries and download relevant resources\n",
    "2. Obtain the details for retrieving and stroing the data\n",
    "3. Get the dataset from mongoDB database and store it as a pandas dataframe. <br/>\n",
    "4. Reduce the orginial dataframe by removing the columns which are not needed for Topic Modelling. Cureently we are considering only the area and the description of the project as the columns in our dataframe. \n",
    "5. Identifying stopwords:\n",
    "    5.1. Load NLTK's English and German stopwords\n",
    "    5.2. Add cities and mothns to it \n",
    "    5.3. Manually added stopwords (irrelevant words for our analysis)\n",
    "6. Creation of Stemmer: Creating our own stemmer as a dictionary where we specify how to combine same words\n",
    "7. Tokenzing and Stemming the description data present in the dataframe.\n",
    "8. Get frequency distribution of all words present in the dataframe.\n",
    "9. Choose a threshold frequency for top words(currently 100)\n",
    "10. Reduce the words in tokenized column to these top words for each row\n",
    "11. Remove the rows which have less than 10 tokens\n",
    "12. Create training and test dataset\n",
    "13. Train LDA model\n",
    "14. Save the model as 'LDA_Approach_1.model'"
   ]
  },
  {
   "cell_type": "markdown",
   "metadata": {},
   "source": [
    "### Importing all the relevant libraries "
   ]
  },
  {
   "cell_type": "code",
   "execution_count": 1,
   "metadata": {},
   "outputs": [],
   "source": [
    "import pandas as pd\n",
    "import numpy as np\n",
    "import nltk\n",
    "from nltk.corpus import stopwords\n",
    "import gensim\n",
    "from gensim.models import LdaModel\n",
    "from gensim import models, corpora, similarities\n",
    "import re\n",
    "import time\n",
    "from nltk import FreqDist\n",
    "from scipy.stats import entropy\n",
    "import matplotlib.pyplot as plt\n",
    "import seaborn as sns\n",
    "from pymongo import MongoClient\n",
    "from nltk.tokenize import word_tokenize\n",
    "import pickle\n",
    "import string\n",
    "from string import punctuation\n",
    "import os\n",
    "%matplotlib inline\n",
    "sns.set_style(\"darkgrid\")"
   ]
  },
  {
   "cell_type": "markdown",
   "metadata": {},
   "source": [
    "### Set the current directory where this notebook is present as working Directory"
   ]
  },
  {
   "cell_type": "code",
   "execution_count": 2,
   "metadata": {},
   "outputs": [
    {
     "name": "stdout",
     "output_type": "stream",
     "text": [
      "Current directory is: /opt/jupyter/Icxa/projectfinder_analytics/ML/USL\n"
     ]
    }
   ],
   "source": [
    "currDir = os.getcwd()\n",
    "if \"USL\" not in currDir:\n",
    "    os.chdir(os.path.join(currDir,  \"ML\", \"USL\"))\n",
    "print(\"Current directory is: \" + currDir)"
   ]
  },
  {
   "cell_type": "markdown",
   "metadata": {},
   "source": [
    "### Database details for retrieving dataset and storing the dataset"
   ]
  },
  {
   "cell_type": "code",
   "execution_count": 3,
   "metadata": {},
   "outputs": [],
   "source": [
    "#Details for retrieving  data from projectfinder\n",
    "db_loc = {\n",
    "    'ip' :'10.10.250.0',\n",
    "    'port' : 27017,\n",
    "    'database' : 'projectfinder',\n",
    "    'collection' : 'itproject_clean'\n",
    "}"
   ]
  },
  {
   "cell_type": "code",
   "execution_count": 4,
   "metadata": {
    "lines_to_next_cell": 0
   },
   "outputs": [],
   "source": [
    "#Details for storing data related to projectfinder\n",
    "db_data = {\n",
    "    'ip' :'10.10.250.0',\n",
    "    'port' : 27017,\n",
    "    'database' : 'projectfinder',\n",
    "    'collection' : 'mldata1'\n",
    "}"
   ]
  },
  {
   "cell_type": "code",
   "execution_count": 5,
   "metadata": {},
   "outputs": [],
   "source": [
    "from script_files import load_save_dataset as load_save_DS"
   ]
  },
  {
   "cell_type": "code",
   "execution_count": 6,
   "metadata": {},
   "outputs": [
    {
     "name": "stdout",
     "output_type": "stream",
     "text": [
      "Data loaded from mongodb itproject_clean collection succesfully\n"
     ]
    },
    {
     "data": {
      "text/plain": [
       "(14059, 25)"
      ]
     },
     "execution_count": 6,
     "metadata": {},
     "output_type": "execute_result"
    }
   ],
   "source": [
    "df_rawData = load_save_DS.load_dataset_from_mongodb(db_loc)\n",
    "df_rawData.shape"
   ]
  },
  {
   "cell_type": "code",
   "execution_count": 7,
   "metadata": {
    "lines_to_next_cell": 1
   },
   "outputs": [],
   "source": [
    "def get_required_dataset(original_dataset):\n",
    "    \n",
    "    #Select required colunms\n",
    "    df = original_dataset[['description', 'bereich']]\n",
    "    df = df[df['description'] != '']\n",
    "    #df.rename(columns = {'description' : 'project', 'bereich' : 'class'})\n",
    "    df['project'] = df['description']\n",
    "    df['label'] = df['bereich']\n",
    "    df.drop(['description', 'bereich'], axis=1, inplace=True)\n",
    "    df = df[df['label'] != 'IT/Bauingenieur']\n",
    "    df = df.drop_duplicates()\n",
    "    return df"
   ]
  },
  {
   "cell_type": "code",
   "execution_count": 8,
   "metadata": {},
   "outputs": [
    {
     "data": {
      "text/html": [
       "<div>\n",
       "<style scoped>\n",
       "    .dataframe tbody tr th:only-of-type {\n",
       "        vertical-align: middle;\n",
       "    }\n",
       "\n",
       "    .dataframe tbody tr th {\n",
       "        vertical-align: top;\n",
       "    }\n",
       "\n",
       "    .dataframe thead th {\n",
       "        text-align: right;\n",
       "    }\n",
       "</style>\n",
       "<table border=\"1\" class=\"dataframe\">\n",
       "  <thead>\n",
       "    <tr style=\"text-align: right;\">\n",
       "      <th></th>\n",
       "      <th>project</th>\n",
       "      <th>label</th>\n",
       "    </tr>\n",
       "  </thead>\n",
       "  <tbody>\n",
       "    <tr>\n",
       "      <th>0</th>\n",
       "      <td>Für einen unserer Kunden aus dem Finanzdienstl...</td>\n",
       "      <td>Infr-Admin-Microsoft</td>\n",
       "    </tr>\n",
       "    <tr>\n",
       "      <th>1</th>\n",
       "      <td>Kann Profil leider nicht löschen.</td>\n",
       "      <td>IT/Consulting</td>\n",
       "    </tr>\n",
       "    <tr>\n",
       "      <th>2</th>\n",
       "      <td>Business Intelligence Analyst (m/w) - Tableau ...</td>\n",
       "      <td>Data-Sci-BI</td>\n",
       "    </tr>\n",
       "    <tr>\n",
       "      <th>3</th>\n",
       "      <td>Konzeption, Customizing sowie Softwareanpassun...</td>\n",
       "      <td>Infr-Admin-Linux</td>\n",
       "    </tr>\n",
       "    <tr>\n",
       "      <th>4</th>\n",
       "      <td>Es sollen mehrere Automatisierungen mit ubot S...</td>\n",
       "      <td>IT/IT</td>\n",
       "    </tr>\n",
       "  </tbody>\n",
       "</table>\n",
       "</div>"
      ],
      "text/plain": [
       "                                             project                 label\n",
       "0  Für einen unserer Kunden aus dem Finanzdienstl...  Infr-Admin-Microsoft\n",
       "1                  Kann Profil leider nicht löschen.         IT/Consulting\n",
       "2  Business Intelligence Analyst (m/w) - Tableau ...           Data-Sci-BI\n",
       "3  Konzeption, Customizing sowie Softwareanpassun...      Infr-Admin-Linux\n",
       "4  Es sollen mehrere Automatisierungen mit ubot S...                 IT/IT"
      ]
     },
     "execution_count": 8,
     "metadata": {},
     "output_type": "execute_result"
    }
   ],
   "source": [
    "df_preprocessedDataset = get_required_dataset(df_rawData)\n",
    "df_preprocessedDataset.shape\n",
    "df_preprocessedDataset.head()"
   ]
  },
  {
   "cell_type": "code",
   "execution_count": 9,
   "metadata": {},
   "outputs": [
    {
     "data": {
      "text/html": [
       "<div>\n",
       "<style scoped>\n",
       "    .dataframe tbody tr th:only-of-type {\n",
       "        vertical-align: middle;\n",
       "    }\n",
       "\n",
       "    .dataframe tbody tr th {\n",
       "        vertical-align: top;\n",
       "    }\n",
       "\n",
       "    .dataframe thead th {\n",
       "        text-align: right;\n",
       "    }\n",
       "</style>\n",
       "<table border=\"1\" class=\"dataframe\">\n",
       "  <thead>\n",
       "    <tr style=\"text-align: right;\">\n",
       "      <th></th>\n",
       "      <th>project</th>\n",
       "      <th>label</th>\n",
       "    </tr>\n",
       "  </thead>\n",
       "  <tbody>\n",
       "    <tr>\n",
       "      <th>0</th>\n",
       "      <td>Für unseren Kunden in Hamburg suchen wir einen...</td>\n",
       "      <td>Infr-Admin-Microsoft</td>\n",
       "    </tr>\n",
       "    <tr>\n",
       "      <th>1</th>\n",
       "      <td>Für unseren Kunden in Leipzig, Sachsen suchen ...</td>\n",
       "      <td>IT/Konstruktion</td>\n",
       "    </tr>\n",
       "    <tr>\n",
       "      <th>2</th>\n",
       "      <td>Projektbeschreibung \\n\\n                      ...</td>\n",
       "      <td>ERP-SAP</td>\n",
       "    </tr>\n",
       "    <tr>\n",
       "      <th>3</th>\n",
       "      <td>Design, Konzeption und Umsetzung von SAP Busin...</td>\n",
       "      <td>Data-Sci-BI</td>\n",
       "    </tr>\n",
       "    <tr>\n",
       "      <th>4</th>\n",
       "      <td>Projektbeschreibung \\n\\n                      ...</td>\n",
       "      <td>Infr-Admin-Microsoft</td>\n",
       "    </tr>\n",
       "  </tbody>\n",
       "</table>\n",
       "</div>"
      ],
      "text/plain": [
       "                                             project                 label\n",
       "0  Für unseren Kunden in Hamburg suchen wir einen...  Infr-Admin-Microsoft\n",
       "1  Für unseren Kunden in Leipzig, Sachsen suchen ...       IT/Konstruktion\n",
       "2  Projektbeschreibung \\n\\n                      ...               ERP-SAP\n",
       "3  Design, Konzeption und Umsetzung von SAP Busin...           Data-Sci-BI\n",
       "4  Projektbeschreibung \\n\\n                      ...  Infr-Admin-Microsoft"
      ]
     },
     "execution_count": 9,
     "metadata": {},
     "output_type": "execute_result"
    }
   ],
   "source": [
    "# shuffle the data\n",
    "df_preprocessedDataset = df_preprocessedDataset.sample(frac=1.0)\n",
    "df_preprocessedDataset.reset_index(drop=True,inplace=True)\n",
    "df_preprocessedDataset.head()"
   ]
  },
  {
   "cell_type": "code",
   "execution_count": 10,
   "metadata": {
    "lines_to_next_cell": 2
   },
   "outputs": [
    {
     "data": {
      "text/plain": [
       "'Für unseren Kunden in Hamburg suchen wir einen IT-Admin (m/w). \\n \\n \\nKundendetails \\n \\n* Start: zeitnah \\n * Dauer: 6 Monate \\n * Auslastung: 4-5 Tage/Woche \\n \\n \\nStellenbeschreibung \\n \\n* Betreuung/Beratung der Mitarbeiter im IT-Umfeld \\n * Verantwortung für das Software Deployment und das Imaging unserer Clients \\n * Planung und Durchführung von IMAC-Prozessen \\n * Assetmanagement \\n * Dokumentation im Ticketsystem \\n \\n \\nProfil \\n \\n* Mehrjährige Berufserfahrung im Bereich IT-Support sowie -Infrastruktur \\n * Erfahrung im Support von Microsoft-Produkten (Windows, Office, etc.), Skripterstellung und mit IT-Ticketsystemen \\n * Kenntnisse in der Administration von Microsoft-Systemen (Fileserver, Active Directory, Exchange) \\n * Serviceorientierte Denk- und Arbeitsweise \\n * Erfahrung im Projektmanagement kleiner bis mittlerer IT-Projekte \\n \\n \\nDas Angebot \\n \\nIch freue mich auf Ihre Rückmeldung.'"
      ]
     },
     "execution_count": 10,
     "metadata": {},
     "output_type": "execute_result"
    }
   ],
   "source": [
    "df_preprocessedDataset.iloc[0,0]"
   ]
  },
  {
   "cell_type": "markdown",
   "metadata": {},
   "source": [
    "### Loadng stopwords and stemmer "
   ]
  },
  {
   "cell_type": "code",
   "execution_count": 11,
   "metadata": {},
   "outputs": [],
   "source": [
    "dataDir = os.path.join(currDir,  \"constants\")\n",
    "stopwordsLocation = os.path.join(dataDir, \"stopwords.pickle\")\n",
    "pickle_in = open(stopwordsLocation,\"rb\")\n",
    "stopwords_all = pickle.load(pickle_in)"
   ]
  },
  {
   "cell_type": "code",
   "execution_count": 12,
   "metadata": {},
   "outputs": [],
   "source": [
    "stemmerLocation = os.path.join(dataDir, \"stemmer_own.pickle\")\n",
    "pickle_in = open(stemmerLocation,\"rb\")\n",
    "stemmer_own = pickle.load(pickle_in)"
   ]
  },
  {
   "cell_type": "markdown",
   "metadata": {},
   "source": [
    "### Perform tokenization, stemming on the text"
   ]
  },
  {
   "cell_type": "code",
   "execution_count": 13,
   "metadata": {},
   "outputs": [],
   "source": [
    "def tokenize(text):\n",
    "    \"\"\"Normalize, tokenize and stem text string\n",
    "    \n",
    "    Args:\n",
    "    text: string. String containing message for processing\n",
    "       \n",
    "    Returns:\n",
    "    cleaned: list of strings. List containing normalized and stemmed word tokens\n",
    "    \"\"\"\n",
    "\n",
    "    try:\n",
    "        text = re.sub(r'(\\d)',' ',text.lower())\n",
    "        text = re.sub('[%s]' % re.escape(string.punctuation), ' ', text)\n",
    "        tokens = word_tokenize(text)\n",
    "        tokens_cleaned = [word for word in tokens if word not in stopwords_all and len(word) > 1]\n",
    "        cleaned = []\n",
    "        stemmer_keys = list(stemmer_own.keys())\n",
    "        for word in tokens_cleaned:\n",
    "            for stemmer_key in stemmer_keys:\n",
    "                if stemmer_key in word:\n",
    "                    stemmed_word = stemmer_own[stemmer_key]\n",
    "                    cleaned.append(stemmed_word)\n",
    "                    break\n",
    "            else:\n",
    "                cleaned.append(word)\n",
    "  \n",
    "                \n",
    "\n",
    "    except IndexError:\n",
    "        pass\n",
    "\n",
    "    return cleaned"
   ]
  },
  {
   "cell_type": "code",
   "execution_count": 14,
   "metadata": {},
   "outputs": [],
   "source": [
    "# Clean text and title and create new column \"tokenized\"\n",
    "t1 = time.time()\n",
    "df_preprocessedDataset['tokenized'] = df_preprocessedDataset['project'].apply(tokenize)\n",
    "t2 = time.time()"
   ]
  },
  {
   "cell_type": "code",
   "execution_count": 15,
   "metadata": {},
   "outputs": [
    {
     "name": "stdout",
     "output_type": "stream",
     "text": [
      "Time taken to prepare 12168 projects documents: 7.716735045115153 min\n"
     ]
    }
   ],
   "source": [
    "print(\"Time taken to prepare\", len(df_preprocessedDataset), \"projects documents:\", (t2-t1)/60, \"min\")"
   ]
  },
  {
   "cell_type": "code",
   "execution_count": 16,
   "metadata": {},
   "outputs": [
    {
     "data": {
      "text/html": [
       "<div>\n",
       "<style scoped>\n",
       "    .dataframe tbody tr th:only-of-type {\n",
       "        vertical-align: middle;\n",
       "    }\n",
       "\n",
       "    .dataframe tbody tr th {\n",
       "        vertical-align: top;\n",
       "    }\n",
       "\n",
       "    .dataframe thead th {\n",
       "        text-align: right;\n",
       "    }\n",
       "</style>\n",
       "<table border=\"1\" class=\"dataframe\">\n",
       "  <thead>\n",
       "    <tr style=\"text-align: right;\">\n",
       "      <th></th>\n",
       "      <th>project</th>\n",
       "      <th>label</th>\n",
       "      <th>tokenized</th>\n",
       "    </tr>\n",
       "  </thead>\n",
       "  <tbody>\n",
       "    <tr>\n",
       "      <th>0</th>\n",
       "      <td>Für unseren Kunden in Hamburg suchen wir einen...</td>\n",
       "      <td>Infr-Admin-Microsoft</td>\n",
       "      <td>[administration, kundendetails, berater, veran...</td>\n",
       "    </tr>\n",
       "    <tr>\n",
       "      <th>1</th>\n",
       "      <td>Für unseren Kunden in Leipzig, Sachsen suchen ...</td>\n",
       "      <td>IT/Konstruktion</td>\n",
       "      <td>[erfahrene, engineer, rohrleitungskonstruktion...</td>\n",
       "    </tr>\n",
       "    <tr>\n",
       "      <th>2</th>\n",
       "      <td>Projektbeschreibung \\n\\n                      ...</td>\n",
       "      <td>ERP-SAP</td>\n",
       "      <td>[berater, cio, analyst, lösungsalternativen, f...</td>\n",
       "    </tr>\n",
       "    <tr>\n",
       "      <th>3</th>\n",
       "      <td>Design, Konzeption und Umsetzung von SAP Busin...</td>\n",
       "      <td>Data-Sci-BI</td>\n",
       "      <td>[design, sap, business, intelligence, berater,...</td>\n",
       "    </tr>\n",
       "    <tr>\n",
       "      <th>4</th>\n",
       "      <td>Projektbeschreibung \\n\\n                      ...</td>\n",
       "      <td>Infr-Admin-Microsoft</td>\n",
       "      <td>[längerem, beidseitiger, zufriedenheit, active...</td>\n",
       "    </tr>\n",
       "  </tbody>\n",
       "</table>\n",
       "</div>"
      ],
      "text/plain": [
       "                                             project                 label  \\\n",
       "0  Für unseren Kunden in Hamburg suchen wir einen...  Infr-Admin-Microsoft   \n",
       "1  Für unseren Kunden in Leipzig, Sachsen suchen ...       IT/Konstruktion   \n",
       "2  Projektbeschreibung \\n\\n                      ...               ERP-SAP   \n",
       "3  Design, Konzeption und Umsetzung von SAP Busin...           Data-Sci-BI   \n",
       "4  Projektbeschreibung \\n\\n                      ...  Infr-Admin-Microsoft   \n",
       "\n",
       "                                           tokenized  \n",
       "0  [administration, kundendetails, berater, veran...  \n",
       "1  [erfahrene, engineer, rohrleitungskonstruktion...  \n",
       "2  [berater, cio, analyst, lösungsalternativen, f...  \n",
       "3  [design, sap, business, intelligence, berater,...  \n",
       "4  [längerem, beidseitiger, zufriedenheit, active...  "
      ]
     },
     "execution_count": 16,
     "metadata": {},
     "output_type": "execute_result"
    }
   ],
   "source": [
    "df_preprocessedDataset.head()"
   ]
  },
  {
   "cell_type": "markdown",
   "metadata": {},
   "source": [
    "### Identify most frequently occuring words"
   ]
  },
  {
   "cell_type": "code",
   "execution_count": 17,
   "metadata": {},
   "outputs": [
    {
     "name": "stdout",
     "output_type": "stream",
     "text": [
      "40266\n",
      "<class 'nltk.probability.FreqDist'>\n"
     ]
    }
   ],
   "source": [
    "# Create a list containing all the words in a dataframe\n",
    "all_words_df = [word for item in list(df_preprocessedDataset['tokenized']) for word in item]\n",
    "\n",
    "# Use nltk fdist to get a frequency distribution of all words\n",
    "fdist_words = FreqDist(all_words_df)\n",
    "print(len(fdist_words)) # number of unique words\n",
    "print(type(fdist_words))\n",
    "\n",
    "#print(fdist_words.items())"
   ]
  },
  {
   "cell_type": "code",
   "execution_count": 18,
   "metadata": {},
   "outputs": [
    {
     "name": "stdout",
     "output_type": "stream",
     "text": [
      "22376\n",
      "16.67309889236577\n"
     ]
    }
   ],
   "source": [
    "total_unique_words = len(fdist_words)\n",
    "sorted_freqDist_words = fdist_words.most_common()\n",
    "maxFreq = sorted_freqDist_words[0][1]\n",
    "print(maxFreq)\n",
    "freq_values = [sorted_freqDist_words[i][1] for i in range(total_unique_words)]\n",
    "avgFreq = np.mean(freq_values)\n",
    "print(avgFreq)"
   ]
  },
  {
   "cell_type": "code",
   "execution_count": 19,
   "metadata": {},
   "outputs": [
    {
     "name": "stdout",
     "output_type": "stream",
     "text": [
      "878\n"
     ]
    }
   ],
   "source": [
    "#Considering words with frequency of 100 or more\n",
    "top_words = [sorted_freqDist_words[i][0] for i in range(total_unique_words) if sorted_freqDist_words[i][1] >= 100]\n",
    "print(len(top_words))\n",
    "#print(top_words)"
   ]
  },
  {
   "cell_type": "code",
   "execution_count": 20,
   "metadata": {
    "lines_to_next_cell": 1
   },
   "outputs": [],
   "source": [
    "def most_appeared(text):\n",
    "    return [word for word in text if word in top_words]"
   ]
  },
  {
   "cell_type": "code",
   "execution_count": 21,
   "metadata": {},
   "outputs": [],
   "source": [
    "#Reduce the words in tokenized column to the words with frequency more than 100. \n",
    "df_preprocessedDataset['tokenized'] = df_preprocessedDataset['tokenized'].apply(most_appeared)"
   ]
  },
  {
   "cell_type": "code",
   "execution_count": 22,
   "metadata": {},
   "outputs": [
    {
     "data": {
      "text/html": [
       "<div>\n",
       "<style scoped>\n",
       "    .dataframe tbody tr th:only-of-type {\n",
       "        vertical-align: middle;\n",
       "    }\n",
       "\n",
       "    .dataframe tbody tr th {\n",
       "        vertical-align: top;\n",
       "    }\n",
       "\n",
       "    .dataframe thead th {\n",
       "        text-align: right;\n",
       "    }\n",
       "</style>\n",
       "<table border=\"1\" class=\"dataframe\">\n",
       "  <thead>\n",
       "    <tr style=\"text-align: right;\">\n",
       "      <th></th>\n",
       "      <th>project</th>\n",
       "      <th>label</th>\n",
       "      <th>tokenized</th>\n",
       "    </tr>\n",
       "  </thead>\n",
       "  <tbody>\n",
       "    <tr>\n",
       "      <th>0</th>\n",
       "      <td>Für unseren Kunden in Hamburg suchen wir einen...</td>\n",
       "      <td>Infr-Admin-Microsoft</td>\n",
       "      <td>[administration, kundendetails, berater, veran...</td>\n",
       "    </tr>\n",
       "    <tr>\n",
       "      <th>1</th>\n",
       "      <td>Für unseren Kunden in Leipzig, Sachsen suchen ...</td>\n",
       "      <td>IT/Konstruktion</td>\n",
       "      <td>[erfahrene, engineer, interface, daten, intern...</td>\n",
       "    </tr>\n",
       "    <tr>\n",
       "      <th>2</th>\n",
       "      <td>Projektbeschreibung \\n\\n                      ...</td>\n",
       "      <td>ERP-SAP</td>\n",
       "      <td>[berater, analyst, process, berater, planung, ...</td>\n",
       "    </tr>\n",
       "    <tr>\n",
       "      <th>3</th>\n",
       "      <td>Design, Konzeption und Umsetzung von SAP Busin...</td>\n",
       "      <td>Data-Sci-BI</td>\n",
       "      <td>[design, sap, business, intelligence, berater,...</td>\n",
       "    </tr>\n",
       "    <tr>\n",
       "      <th>4</th>\n",
       "      <td>Projektbeschreibung \\n\\n                      ...</td>\n",
       "      <td>Infr-Admin-Microsoft</td>\n",
       "      <td>[active, dns, mm, active, analyst, process, ad...</td>\n",
       "    </tr>\n",
       "    <tr>\n",
       "      <th>5</th>\n",
       "      <td>Projektbeschreibung \\n\\n                      ...</td>\n",
       "      <td>IT-Security</td>\n",
       "      <td>[security, netzwerk, planung, implementation, ...</td>\n",
       "    </tr>\n",
       "    <tr>\n",
       "      <th>6</th>\n",
       "      <td>Ihre Aufgaben: \\nAnalyse und Ableitung von Tes...</td>\n",
       "      <td>Dev-Web-Fullstack</td>\n",
       "      <td>[analyst, specification, normen, kundenanforde...</td>\n",
       "    </tr>\n",
       "    <tr>\n",
       "      <th>7</th>\n",
       "      <td>Projektbeschreibung \\n\\n                      ...</td>\n",
       "      <td>Dev-Web-Fullstack</td>\n",
       "      <td>[senior, java, entwicklung, entwicklung, innov...</td>\n",
       "    </tr>\n",
       "    <tr>\n",
       "      <th>8</th>\n",
       "      <td>Für unseren Kunden suchen wir einen SAP Projek...</td>\n",
       "      <td>IT-Mgmt-Projectleiter</td>\n",
       "      <td>[sap, management, kundendetails, management, p...</td>\n",
       "    </tr>\n",
       "    <tr>\n",
       "      <th>9</th>\n",
       "      <td>Projektbeschreibung \\n\\n                      ...</td>\n",
       "      <td>ERP-SAP</td>\n",
       "      <td>[key, sap, crm, berater, sap, crm, interaction...</td>\n",
       "    </tr>\n",
       "    <tr>\n",
       "      <th>10</th>\n",
       "      <td>Projektbeschreibung \\n\\n                      ...</td>\n",
       "      <td>Data-Sci-BI</td>\n",
       "      <td>[arbeitsumfeld, offen, geco, schaffen, busines...</td>\n",
       "    </tr>\n",
       "    <tr>\n",
       "      <th>11</th>\n",
       "      <td>Projektbeschreibung: Administration/Betriebsun...</td>\n",
       "      <td>Infr-Admin-Net</td>\n",
       "      <td>[administration, operation, cisco, active, exc...</td>\n",
       "    </tr>\n",
       "    <tr>\n",
       "      <th>12</th>\n",
       "      <td>Als freiberufliche Spezialist  \\r\\n- trete nac...</td>\n",
       "      <td>IT/Vertrieb</td>\n",
       "      <td>[freiberufliche, spezialist, marketing]</td>\n",
       "    </tr>\n",
       "    <tr>\n",
       "      <th>13</th>\n",
       "      <td>Teilfachbauleiter Korrosionsschutz / Isolierun...</td>\n",
       "      <td>IT-Mgmt-Projectleiter</td>\n",
       "      <td>[engineer, tech, internal, sichere, internal, ...</td>\n",
       "    </tr>\n",
       "    <tr>\n",
       "      <th>14</th>\n",
       "      <td>Hauptaufgaben \\r\\n-Zu Ihren Haupttätigkeiten g...</td>\n",
       "      <td>IT-Technical-Dev</td>\n",
       "      <td>[learning, verantwortlich, entwicklung, anford...</td>\n",
       "    </tr>\n",
       "    <tr>\n",
       "      <th>15</th>\n",
       "      <td>Projektbeschreibung \\n\\n                      ...</td>\n",
       "      <td>Dev-Web-Fullstack</td>\n",
       "      <td>[full, stack, entwicklung, php, kanban, archit...</td>\n",
       "    </tr>\n",
       "    <tr>\n",
       "      <th>16</th>\n",
       "      <td>Aufgabe: \\n*Entwicklung und Konstruktion von W...</td>\n",
       "      <td>IT/Konstruktion</td>\n",
       "      <td>[entwicklung, konstruktion, administration, do...</td>\n",
       "    </tr>\n",
       "    <tr>\n",
       "      <th>17</th>\n",
       "      <td>Ihre Aufgaben: \\nVerantwortlich für das Subsys...</td>\n",
       "      <td>IT/Weitere IT-Q</td>\n",
       "      <td>[verantwortlich, system, concept, design, tech...</td>\n",
       "    </tr>\n",
       "    <tr>\n",
       "      <th>18</th>\n",
       "      <td>Start: 01.01.2019 \\nEnde: 30.06.2019 \\nEinsatz...</td>\n",
       "      <td>IT/Systemadmini</td>\n",
       "      <td>[support, optimierung, platform, planung, plan...</td>\n",
       "    </tr>\n",
       "    <tr>\n",
       "      <th>19</th>\n",
       "      <td>Projektbeschreibung \\n\\n                      ...</td>\n",
       "      <td>IT-Mgmt-Projectleiter</td>\n",
       "      <td>[management, finance, mm, steuerung, external,...</td>\n",
       "    </tr>\n",
       "  </tbody>\n",
       "</table>\n",
       "</div>"
      ],
      "text/plain": [
       "                                              project                  label  \\\n",
       "0   Für unseren Kunden in Hamburg suchen wir einen...   Infr-Admin-Microsoft   \n",
       "1   Für unseren Kunden in Leipzig, Sachsen suchen ...        IT/Konstruktion   \n",
       "2   Projektbeschreibung \\n\\n                      ...                ERP-SAP   \n",
       "3   Design, Konzeption und Umsetzung von SAP Busin...            Data-Sci-BI   \n",
       "4   Projektbeschreibung \\n\\n                      ...   Infr-Admin-Microsoft   \n",
       "5   Projektbeschreibung \\n\\n                      ...            IT-Security   \n",
       "6   Ihre Aufgaben: \\nAnalyse und Ableitung von Tes...      Dev-Web-Fullstack   \n",
       "7   Projektbeschreibung \\n\\n                      ...      Dev-Web-Fullstack   \n",
       "8   Für unseren Kunden suchen wir einen SAP Projek...  IT-Mgmt-Projectleiter   \n",
       "9   Projektbeschreibung \\n\\n                      ...                ERP-SAP   \n",
       "10  Projektbeschreibung \\n\\n                      ...            Data-Sci-BI   \n",
       "11  Projektbeschreibung: Administration/Betriebsun...         Infr-Admin-Net   \n",
       "12  Als freiberufliche Spezialist  \\r\\n- trete nac...            IT/Vertrieb   \n",
       "13  Teilfachbauleiter Korrosionsschutz / Isolierun...  IT-Mgmt-Projectleiter   \n",
       "14  Hauptaufgaben \\r\\n-Zu Ihren Haupttätigkeiten g...       IT-Technical-Dev   \n",
       "15  Projektbeschreibung \\n\\n                      ...      Dev-Web-Fullstack   \n",
       "16  Aufgabe: \\n*Entwicklung und Konstruktion von W...        IT/Konstruktion   \n",
       "17  Ihre Aufgaben: \\nVerantwortlich für das Subsys...        IT/Weitere IT-Q   \n",
       "18  Start: 01.01.2019 \\nEnde: 30.06.2019 \\nEinsatz...        IT/Systemadmini   \n",
       "19  Projektbeschreibung \\n\\n                      ...  IT-Mgmt-Projectleiter   \n",
       "\n",
       "                                            tokenized  \n",
       "0   [administration, kundendetails, berater, veran...  \n",
       "1   [erfahrene, engineer, interface, daten, intern...  \n",
       "2   [berater, analyst, process, berater, planung, ...  \n",
       "3   [design, sap, business, intelligence, berater,...  \n",
       "4   [active, dns, mm, active, analyst, process, ad...  \n",
       "5   [security, netzwerk, planung, implementation, ...  \n",
       "6   [analyst, specification, normen, kundenanforde...  \n",
       "7   [senior, java, entwicklung, entwicklung, innov...  \n",
       "8   [sap, management, kundendetails, management, p...  \n",
       "9   [key, sap, crm, berater, sap, crm, interaction...  \n",
       "10  [arbeitsumfeld, offen, geco, schaffen, busines...  \n",
       "11  [administration, operation, cisco, active, exc...  \n",
       "12            [freiberufliche, spezialist, marketing]  \n",
       "13  [engineer, tech, internal, sichere, internal, ...  \n",
       "14  [learning, verantwortlich, entwicklung, anford...  \n",
       "15  [full, stack, entwicklung, php, kanban, archit...  \n",
       "16  [entwicklung, konstruktion, administration, do...  \n",
       "17  [verantwortlich, system, concept, design, tech...  \n",
       "18  [support, optimierung, platform, planung, plan...  \n",
       "19  [management, finance, mm, steuerung, external,...  "
      ]
     },
     "execution_count": 22,
     "metadata": {},
     "output_type": "execute_result"
    }
   ],
   "source": [
    "df_preprocessedDataset.head(20)"
   ]
  },
  {
   "cell_type": "code",
   "execution_count": 23,
   "metadata": {},
   "outputs": [],
   "source": [
    "# only keep articles with more than 10 tokens, otherwise too short\n",
    "df_preprocessedDataset = df_preprocessedDataset[df_preprocessedDataset['tokenized'].map(len) >= 10]\n",
    "# make sure all tokenized items are lists\n",
    "df_preprocessedDataset = df_preprocessedDataset[df_preprocessedDataset['tokenized'].map(type) == list]\n",
    "df_preprocessedDataset.reset_index(drop=True,inplace=True)"
   ]
  },
  {
   "cell_type": "code",
   "execution_count": 24,
   "metadata": {},
   "outputs": [
    {
     "name": "stdout",
     "output_type": "stream",
     "text": [
      "After cleaning and excluding short aticles, the dataframe now has: 11024 articles\n"
     ]
    }
   ],
   "source": [
    "print(\"After cleaning and excluding short aticles, the dataframe now has:\", len(df_preprocessedDataset), \"articles\")"
   ]
  },
  {
   "cell_type": "markdown",
   "metadata": {},
   "source": [
    "### Split data to training and testing "
   ]
  },
  {
   "cell_type": "code",
   "execution_count": 25,
   "metadata": {},
   "outputs": [
    {
     "data": {
      "text/plain": [
       "array([ True,  True,  True, ...,  True,  True,  True])"
      ]
     },
     "execution_count": 25,
     "metadata": {},
     "output_type": "execute_result"
    }
   ],
   "source": [
    "# create a mask of binary values to split into train and test\n",
    "msk = np.random.rand(len(df_preprocessedDataset)) < 0.9960\n",
    "msk"
   ]
  },
  {
   "cell_type": "code",
   "execution_count": 26,
   "metadata": {},
   "outputs": [],
   "source": [
    "train_df = df_preprocessedDataset[msk]\n",
    "train_df.reset_index(drop=True,inplace=True)\n",
    "\n",
    "test_df = df_preprocessedDataset[~msk]\n",
    "test_df.reset_index(drop=True,inplace=True)"
   ]
  },
  {
   "cell_type": "code",
   "execution_count": 27,
   "metadata": {
    "lines_to_next_cell": 1
   },
   "outputs": [
    {
     "data": {
      "text/html": [
       "<div>\n",
       "<style scoped>\n",
       "    .dataframe tbody tr th:only-of-type {\n",
       "        vertical-align: middle;\n",
       "    }\n",
       "\n",
       "    .dataframe tbody tr th {\n",
       "        vertical-align: top;\n",
       "    }\n",
       "\n",
       "    .dataframe thead th {\n",
       "        text-align: right;\n",
       "    }\n",
       "</style>\n",
       "<table border=\"1\" class=\"dataframe\">\n",
       "  <thead>\n",
       "    <tr style=\"text-align: right;\">\n",
       "      <th></th>\n",
       "      <th>project</th>\n",
       "      <th>label</th>\n",
       "      <th>tokenized</th>\n",
       "    </tr>\n",
       "  </thead>\n",
       "  <tbody>\n",
       "    <tr>\n",
       "      <th>0</th>\n",
       "      <td>Für unseren Kunden in Hamburg suchen wir einen...</td>\n",
       "      <td>Infr-Admin-Microsoft</td>\n",
       "      <td>[administration, kundendetails, berater, veran...</td>\n",
       "    </tr>\n",
       "    <tr>\n",
       "      <th>1</th>\n",
       "      <td>Für unseren Kunden in Leipzig, Sachsen suchen ...</td>\n",
       "      <td>IT/Konstruktion</td>\n",
       "      <td>[erfahrene, engineer, interface, daten, intern...</td>\n",
       "    </tr>\n",
       "    <tr>\n",
       "      <th>2</th>\n",
       "      <td>Projektbeschreibung \\n\\n                      ...</td>\n",
       "      <td>ERP-SAP</td>\n",
       "      <td>[berater, analyst, process, berater, planung, ...</td>\n",
       "    </tr>\n",
       "    <tr>\n",
       "      <th>3</th>\n",
       "      <td>Design, Konzeption und Umsetzung von SAP Busin...</td>\n",
       "      <td>Data-Sci-BI</td>\n",
       "      <td>[design, sap, business, intelligence, berater,...</td>\n",
       "    </tr>\n",
       "    <tr>\n",
       "      <th>4</th>\n",
       "      <td>Projektbeschreibung \\n\\n                      ...</td>\n",
       "      <td>Infr-Admin-Microsoft</td>\n",
       "      <td>[active, dns, mm, active, analyst, process, ad...</td>\n",
       "    </tr>\n",
       "  </tbody>\n",
       "</table>\n",
       "</div>"
      ],
      "text/plain": [
       "                                             project                 label  \\\n",
       "0  Für unseren Kunden in Hamburg suchen wir einen...  Infr-Admin-Microsoft   \n",
       "1  Für unseren Kunden in Leipzig, Sachsen suchen ...       IT/Konstruktion   \n",
       "2  Projektbeschreibung \\n\\n                      ...               ERP-SAP   \n",
       "3  Design, Konzeption und Umsetzung von SAP Busin...           Data-Sci-BI   \n",
       "4  Projektbeschreibung \\n\\n                      ...  Infr-Admin-Microsoft   \n",
       "\n",
       "                                           tokenized  \n",
       "0  [administration, kundendetails, berater, veran...  \n",
       "1  [erfahrene, engineer, interface, daten, intern...  \n",
       "2  [berater, analyst, process, berater, planung, ...  \n",
       "3  [design, sap, business, intelligence, berater,...  \n",
       "4  [active, dns, mm, active, analyst, process, ad...  "
      ]
     },
     "execution_count": 27,
     "metadata": {},
     "output_type": "execute_result"
    }
   ],
   "source": [
    "train_df.head()"
   ]
  },
  {
   "cell_type": "markdown",
   "metadata": {},
   "source": [
    "### Train the LDA model on training data"
   ]
  },
  {
   "cell_type": "code",
   "execution_count": 28,
   "metadata": {
    "lines_to_next_cell": 1
   },
   "outputs": [],
   "source": [
    "def train_lda(data, n=10):\n",
    "    \"\"\"\n",
    "    This function trains the lda model\n",
    "    We setup parameters like number of topics, the chunksize to use in Hoffman method\n",
    "    We also do 2 passes of the data since this is a small dataset, so we want the distributions to stabilize\n",
    "    \"\"\"\n",
    "    num_topics = n\n",
    "    chunksize = 300\n",
    "    dictionary = corpora.Dictionary(data['tokenized'])\n",
    "    corpus = [dictionary.doc2bow(doc) for doc in data['tokenized']]\n",
    "    t1 = time.time()\n",
    "    # low alpha means each document is only represented by a small number of topics, and vice versa\n",
    "    # low eta means each topic is only represented by a small number of words, and vice versa\n",
    "    lda = LdaModel(corpus=corpus, num_topics=num_topics, id2word=dictionary,\n",
    "                   alpha=1e-2, eta=0.5e-2, chunksize=chunksize, minimum_probability=0.0, passes=2)\n",
    "    t2 = time.time()\n",
    "    print(\"Time to train LDA model on \", len(df_preprocessedDataset), \"documents: \", (t2-t1)/60, \"min\")\n",
    "    return dictionary,corpus,lda"
   ]
  },
  {
   "cell_type": "code",
   "execution_count": 29,
   "metadata": {},
   "outputs": [
    {
     "name": "stdout",
     "output_type": "stream",
     "text": [
      "Time to train LDA model on  11024 documents:  0.3840420007705688 min\n"
     ]
    }
   ],
   "source": [
    "dictionary,corpus,lda = train_lda(train_df, 10)"
   ]
  },
  {
   "cell_type": "code",
   "execution_count": 32,
   "metadata": {},
   "outputs": [],
   "source": [
    "outputDir = os.path.join(currDir,  \"output\", \"Approach_1\")\n",
    "if not os.path.exists(outputDir):\n",
    "    os.makedirs(outputDir)"
   ]
  },
  {
   "cell_type": "code",
   "execution_count": 33,
   "metadata": {},
   "outputs": [],
   "source": [
    "filename = os.path.join(outputDir, 'LDA_Approach_1.model')\n",
    "lda.save(filename)"
   ]
  },
  {
   "cell_type": "code",
   "execution_count": 35,
   "metadata": {},
   "outputs": [],
   "source": [
    "from gensim import corpora, models, similarities\n",
    "model =  models.LdaModel.load(filename)"
   ]
  },
  {
   "cell_type": "code",
   "execution_count": 36,
   "metadata": {},
   "outputs": [
    {
     "data": {
      "text/plain": [
       "[(0,\n",
       "  '0.101*\"entwicklung\" + 0.068*\"java\" + 0.029*\"application\" + 0.024*\"cloud\" + 0.022*\"spring\" + 0.022*\"agile\" + 0.018*\"scrum\" + 0.017*\"automate\" + 0.015*\"jenkins\" + 0.015*\"projekt\" + 0.015*\"software\" + 0.014*\"design\" + 0.014*\"architekture\" + 0.013*\"docker\" + 0.013*\"continuous\" + 0.013*\"tech\" + 0.012*\"script\" + 0.012*\"implementation\" + 0.012*\"test\" + 0.011*\"rest\"'),\n",
       " (1,\n",
       "  '0.086*\"data\" + 0.055*\"daten\" + 0.039*\"scrum\" + 0.039*\"entwicklung\" + 0.033*\"agile\" + 0.032*\"studio\" + 0.028*\"bi\" + 0.028*\"dsgvo\" + 0.024*\"berater\" + 0.024*\"big\" + 0.022*\"projekt\" + 0.022*\"portal\" + 0.019*\"master\" + 0.017*\"pp\" + 0.017*\"intelligence\" + 0.017*\"cms\" + 0.015*\"oo\" + 0.014*\"business\" + 0.014*\"datenschutz\" + 0.013*\"analytics\"'),\n",
       " (2,\n",
       "  '0.080*\"oracle\" + 0.070*\"sql\" + 0.062*\"linux\" + 0.057*\"administration\" + 0.032*\"db\" + 0.032*\"server\" + 0.029*\"system\" + 0.027*\"unix\" + 0.024*\"application\" + 0.024*\"skript\" + 0.023*\"datenbank\" + 0.022*\"operation\" + 0.022*\"datenbanken\" + 0.020*\"powershell\" + 0.016*\"performance\" + 0.015*\"database\" + 0.013*\"know\" + 0.013*\"konfigure\" + 0.012*\"enterprise\" + 0.012*\"apache\"'),\n",
       " (3,\n",
       "  '0.065*\"operation\" + 0.064*\"windows\" + 0.050*\"administration\" + 0.050*\"server\" + 0.048*\"microsoft\" + 0.045*\"support\" + 0.041*\"system\" + 0.040*\"infrastructure\" + 0.038*\"application\" + 0.031*\"install\" + 0.024*\"ms\" + 0.024*\"konfigure\" + 0.021*\"software\" + 0.017*\"cisco\" + 0.016*\"sccm\" + 0.015*\"active\" + 0.015*\"office\" + 0.015*\"monitoring\" + 0.015*\"hardware\" + 0.014*\"netzwerk\"'),\n",
       " (4,\n",
       "  '0.091*\"management\" + 0.040*\"tech\" + 0.036*\"process\" + 0.028*\"operation\" + 0.027*\"analyst\" + 0.025*\"internal\" + 0.023*\"berater\" + 0.023*\"projekt\" + 0.020*\"concept\" + 0.017*\"planung\" + 0.017*\"informatik\" + 0.015*\"application\" + 0.015*\"monitoring\" + 0.015*\"system\" + 0.014*\"bereich\" + 0.014*\"dokumentation\" + 0.012*\"office\" + 0.011*\"ms\" + 0.011*\"steuerung\" + 0.010*\"external\"'),\n",
       " (5,\n",
       "  '0.170*\"entwicklung\" + 0.048*\"application\" + 0.044*\"script\" + 0.032*\"net\" + 0.024*\"html\" + 0.023*\"projekt\" + 0.022*\"web\" + 0.021*\"css\" + 0.020*\"frontend\" + 0.019*\"framework\" + 0.016*\"angular\" + 0.016*\"sql\" + 0.016*\"design\" + 0.014*\"php\" + 0.012*\"js\" + 0.011*\"visual\" + 0.011*\"ui\" + 0.010*\"software\" + 0.010*\"backend\" + 0.009*\"agile\"'),\n",
       " (6,\n",
       "  '0.042*\"test\" + 0.030*\"agile\" + 0.022*\"business\" + 0.021*\"engineer\" + 0.021*\"tech\" + 0.020*\"design\" + 0.020*\"product\" + 0.019*\"requirements\" + 0.018*\"tests\" + 0.018*\"entwicklung\" + 0.016*\"method\" + 0.015*\"automate\" + 0.015*\"management\" + 0.014*\"process\" + 0.013*\"marketing\" + 0.012*\"integration\" + 0.011*\"system\" + 0.011*\"build\" + 0.011*\"tester\" + 0.010*\"scrum\"'),\n",
       " (7,\n",
       "  '0.274*\"sap\" + 0.080*\"berater\" + 0.030*\"abap\" + 0.030*\"mm\" + 0.030*\"hana\" + 0.029*\"process\" + 0.024*\"fi\" + 0.023*\"erp\" + 0.020*\"entwicklung\" + 0.020*\"projekt\" + 0.019*\"sd\" + 0.018*\"implementation\" + 0.015*\"exchange\" + 0.015*\"system\" + 0.015*\"bw\" + 0.014*\"management\" + 0.013*\"finance\" + 0.012*\"concept\" + 0.011*\"support\" + 0.011*\"analyst\"'),\n",
       " (8,\n",
       "  '0.058*\"project\" + 0.050*\"management\" + 0.030*\"support\" + 0.028*\"process\" + 0.027*\"application\" + 0.023*\"implementation\" + 0.021*\"data\" + 0.021*\"business\" + 0.020*\"entwicklung\" + 0.019*\"design\" + 0.015*\"requirements\" + 0.013*\"system\" + 0.011*\"architecture\" + 0.011*\"well\" + 0.010*\"cloud\" + 0.010*\"tech\" + 0.010*\"security\" + 0.010*\"operation\" + 0.009*\"engineer\" + 0.008*\"network\"'),\n",
       " (9,\n",
       "  '0.139*\"entwicklung\" + 0.081*\"tech\" + 0.063*\"system\" + 0.063*\"software\" + 0.041*\"engineer\" + 0.038*\"architekture\" + 0.027*\"analyst\" + 0.023*\"automate\" + 0.020*\"design\" + 0.018*\"implementation\" + 0.018*\"application\" + 0.017*\"mobil\" + 0.015*\"dokumentation\" + 0.013*\"automotive\" + 0.013*\"sw\" + 0.013*\"specification\" + 0.013*\"interface\" + 0.012*\"projekt\" + 0.011*\"berater\" + 0.011*\"test\"')]"
      ]
     },
     "execution_count": 36,
     "metadata": {},
     "output_type": "execute_result"
    }
   ],
   "source": [
    "# print all topics\n",
    "model.show_topics(num_topics=20, num_words=20)"
   ]
  },
  {
   "cell_type": "code",
   "execution_count": 37,
   "metadata": {},
   "outputs": [],
   "source": [
    "with open(os.path.join(outputDir, 'dictionary_LDA_A1'), 'wb') as output:\n",
    "    pickle.dump(dictionary, output)\n",
    "    \n",
    "with open(os.path.join(outputDir, 'corpus_LDA_A1'), 'wb') as output:\n",
    "    pickle.dump(corpus, output)"
   ]
  },
  {
   "cell_type": "code",
   "execution_count": 38,
   "metadata": {},
   "outputs": [],
   "source": [
    "# Save model to disk.\n",
    "from gensim.test.utils import datapath\n",
    "temp_file = datapath('LDA_Approach_1.model')\n",
    "lda.save(temp_file)\n",
    "pickle.dump(lda, open(os.path.join(outputDir, 'model_LDA_A1'), 'wb'))"
   ]
  },
  {
   "cell_type": "code",
   "execution_count": 39,
   "metadata": {},
   "outputs": [],
   "source": [
    "# Load a potentially pretrained model from disk.\n",
    "lda2 = LdaModel.load(temp_file)"
   ]
  },
  {
   "cell_type": "code",
   "execution_count": 40,
   "metadata": {},
   "outputs": [
    {
     "data": {
      "text/plain": [
       "[(0,\n",
       "  '0.101*\"entwicklung\" + 0.068*\"java\" + 0.029*\"application\" + 0.024*\"cloud\" + 0.022*\"spring\" + 0.022*\"agile\" + 0.018*\"scrum\" + 0.017*\"automate\" + 0.015*\"jenkins\" + 0.015*\"projekt\" + 0.015*\"software\" + 0.014*\"design\" + 0.014*\"architekture\" + 0.013*\"docker\" + 0.013*\"continuous\" + 0.013*\"tech\" + 0.012*\"script\" + 0.012*\"implementation\" + 0.012*\"test\" + 0.011*\"rest\"'),\n",
       " (1,\n",
       "  '0.086*\"data\" + 0.055*\"daten\" + 0.039*\"scrum\" + 0.039*\"entwicklung\" + 0.033*\"agile\" + 0.032*\"studio\" + 0.028*\"bi\" + 0.028*\"dsgvo\" + 0.024*\"berater\" + 0.024*\"big\" + 0.022*\"projekt\" + 0.022*\"portal\" + 0.019*\"master\" + 0.017*\"pp\" + 0.017*\"intelligence\" + 0.017*\"cms\" + 0.015*\"oo\" + 0.014*\"business\" + 0.014*\"datenschutz\" + 0.013*\"analytics\"'),\n",
       " (2,\n",
       "  '0.080*\"oracle\" + 0.070*\"sql\" + 0.062*\"linux\" + 0.057*\"administration\" + 0.032*\"db\" + 0.032*\"server\" + 0.029*\"system\" + 0.027*\"unix\" + 0.024*\"application\" + 0.024*\"skript\" + 0.023*\"datenbank\" + 0.022*\"operation\" + 0.022*\"datenbanken\" + 0.020*\"powershell\" + 0.016*\"performance\" + 0.015*\"database\" + 0.013*\"know\" + 0.013*\"konfigure\" + 0.012*\"enterprise\" + 0.012*\"apache\"'),\n",
       " (3,\n",
       "  '0.065*\"operation\" + 0.064*\"windows\" + 0.050*\"administration\" + 0.050*\"server\" + 0.048*\"microsoft\" + 0.045*\"support\" + 0.041*\"system\" + 0.040*\"infrastructure\" + 0.038*\"application\" + 0.031*\"install\" + 0.024*\"ms\" + 0.024*\"konfigure\" + 0.021*\"software\" + 0.017*\"cisco\" + 0.016*\"sccm\" + 0.015*\"active\" + 0.015*\"office\" + 0.015*\"monitoring\" + 0.015*\"hardware\" + 0.014*\"netzwerk\"'),\n",
       " (4,\n",
       "  '0.091*\"management\" + 0.040*\"tech\" + 0.036*\"process\" + 0.028*\"operation\" + 0.027*\"analyst\" + 0.025*\"internal\" + 0.023*\"berater\" + 0.023*\"projekt\" + 0.020*\"concept\" + 0.017*\"planung\" + 0.017*\"informatik\" + 0.015*\"application\" + 0.015*\"monitoring\" + 0.015*\"system\" + 0.014*\"bereich\" + 0.014*\"dokumentation\" + 0.012*\"office\" + 0.011*\"ms\" + 0.011*\"steuerung\" + 0.010*\"external\"'),\n",
       " (5,\n",
       "  '0.170*\"entwicklung\" + 0.048*\"application\" + 0.044*\"script\" + 0.032*\"net\" + 0.024*\"html\" + 0.023*\"projekt\" + 0.022*\"web\" + 0.021*\"css\" + 0.020*\"frontend\" + 0.019*\"framework\" + 0.016*\"angular\" + 0.016*\"sql\" + 0.016*\"design\" + 0.014*\"php\" + 0.012*\"js\" + 0.011*\"visual\" + 0.011*\"ui\" + 0.010*\"software\" + 0.010*\"backend\" + 0.009*\"agile\"'),\n",
       " (6,\n",
       "  '0.042*\"test\" + 0.030*\"agile\" + 0.022*\"business\" + 0.021*\"engineer\" + 0.021*\"tech\" + 0.020*\"design\" + 0.020*\"product\" + 0.019*\"requirements\" + 0.018*\"tests\" + 0.018*\"entwicklung\" + 0.016*\"method\" + 0.015*\"automate\" + 0.015*\"management\" + 0.014*\"process\" + 0.013*\"marketing\" + 0.012*\"integration\" + 0.011*\"system\" + 0.011*\"build\" + 0.011*\"tester\" + 0.010*\"scrum\"'),\n",
       " (7,\n",
       "  '0.274*\"sap\" + 0.080*\"berater\" + 0.030*\"abap\" + 0.030*\"mm\" + 0.030*\"hana\" + 0.029*\"process\" + 0.024*\"fi\" + 0.023*\"erp\" + 0.020*\"entwicklung\" + 0.020*\"projekt\" + 0.019*\"sd\" + 0.018*\"implementation\" + 0.015*\"exchange\" + 0.015*\"system\" + 0.015*\"bw\" + 0.014*\"management\" + 0.013*\"finance\" + 0.012*\"concept\" + 0.011*\"support\" + 0.011*\"analyst\"'),\n",
       " (8,\n",
       "  '0.058*\"project\" + 0.050*\"management\" + 0.030*\"support\" + 0.028*\"process\" + 0.027*\"application\" + 0.023*\"implementation\" + 0.021*\"data\" + 0.021*\"business\" + 0.020*\"entwicklung\" + 0.019*\"design\" + 0.015*\"requirements\" + 0.013*\"system\" + 0.011*\"architecture\" + 0.011*\"well\" + 0.010*\"cloud\" + 0.010*\"tech\" + 0.010*\"security\" + 0.010*\"operation\" + 0.009*\"engineer\" + 0.008*\"network\"'),\n",
       " (9,\n",
       "  '0.139*\"entwicklung\" + 0.081*\"tech\" + 0.063*\"system\" + 0.063*\"software\" + 0.041*\"engineer\" + 0.038*\"architekture\" + 0.027*\"analyst\" + 0.023*\"automate\" + 0.020*\"design\" + 0.018*\"implementation\" + 0.018*\"application\" + 0.017*\"mobil\" + 0.015*\"dokumentation\" + 0.013*\"automotive\" + 0.013*\"sw\" + 0.013*\"specification\" + 0.013*\"interface\" + 0.012*\"projekt\" + 0.011*\"berater\" + 0.011*\"test\"')]"
      ]
     },
     "execution_count": 40,
     "metadata": {},
     "output_type": "execute_result"
    }
   ],
   "source": [
    "# show_topics method shows the the top num_words contributing to num_topics number of random topics\n",
    "lda.show_topics(num_topics=13, num_words=20)"
   ]
  },
  {
   "cell_type": "code",
   "execution_count": 41,
   "metadata": {},
   "outputs": [
    {
     "name": "stdout",
     "output_type": "stream",
     "text": [
      "TopicID: 0\n",
      "entwicklung: 0.10123503\n",
      "java: 0.067843884\n",
      "application: 0.028582657\n",
      "cloud: 0.02362938\n",
      "spring: 0.02166474\n",
      "agile: 0.021511883\n",
      "scrum: 0.018394899\n",
      "automate: 0.017395377\n",
      "jenkins: 0.01492017\n",
      "projekt: 0.01474023\n",
      "software: 0.014677154\n",
      "design: 0.014442585\n",
      "architekture: 0.01391198\n",
      "docker: 0.013294287\n",
      "continuous: 0.013060833\n",
      "tech: 0.012606277\n",
      "script: 0.012384448\n",
      "implementation: 0.012339375\n",
      "test: 0.011523897\n",
      "rest: 0.011419293\n",
      "\n",
      "TopicID: 1\n",
      "data: 0.08594835\n",
      "daten: 0.054715127\n",
      "scrum: 0.03936725\n",
      "entwicklung: 0.03924725\n",
      "agile: 0.032620262\n",
      "studio: 0.031744856\n",
      "bi: 0.028474009\n",
      "dsgvo: 0.027780313\n",
      "berater: 0.024408713\n",
      "big: 0.024055893\n",
      "projekt: 0.021682996\n",
      "portal: 0.021553151\n",
      "master: 0.019219976\n",
      "pp: 0.017208828\n",
      "intelligence: 0.017033085\n",
      "cms: 0.01663121\n",
      "oo: 0.014937679\n",
      "business: 0.014072497\n",
      "datenschutz: 0.013930188\n",
      "analytics: 0.012523371\n",
      "\n"
     ]
    }
   ],
   "source": [
    "for t_id in range (2):\n",
    "    print(\"TopicID: \" + str(t_id))\n",
    "    topics = lda.show_topic(topicid=t_id, topn=20)\n",
    "    for topic in topics:\n",
    "        print(topic[0] + \": \" + str(topic[1]))\n",
    "    print()\n"
   ]
  },
  {
   "cell_type": "markdown",
   "metadata": {},
   "source": [
    "# Random project from training data"
   ]
  },
  {
   "cell_type": "code",
   "execution_count": 42,
   "metadata": {},
   "outputs": [
    {
     "name": "stdout",
     "output_type": "stream",
     "text": [
      "4485\n"
     ]
    }
   ],
   "source": [
    "#Select an article at random from train_df\n",
    "random_index = int(np.random.randint(len(train_df), size=[1, 1]))\n",
    "print(random_index)"
   ]
  },
  {
   "cell_type": "code",
   "execution_count": 43,
   "metadata": {},
   "outputs": [],
   "source": [
    "data_to_check = train_df.iloc[random_index,2]\n",
    "bow = dictionary.doc2bow(data_to_check)\n",
    "doc_distribution = np.array([topic[1] for topic in lda.get_document_topics(bow=bow)])"
   ]
  },
  {
   "cell_type": "code",
   "execution_count": 44,
   "metadata": {},
   "outputs": [
    {
     "name": "stdout",
     "output_type": "stream",
     "text": [
      "['sicherstellung', 'sicherstellung', 'einhaltung', 'produkten', 'prüfung', 'themen', 'process', 'reports', 'internal', 'schulungen', 'anforderungsprofil', 'abgeschlossen', 'operation', 'sap', 'ms', 'office', 'projekt', 'führen', 'weiterleitung', 'freunde', 'amazon', 'gutschein']\n"
     ]
    }
   ],
   "source": [
    "print(train_df.iloc[random_index,2])"
   ]
  },
  {
   "cell_type": "code",
   "execution_count": 45,
   "metadata": {},
   "outputs": [
    {
     "name": "stdout",
     "output_type": "stream",
     "text": [
      "[4.5254815e-04 4.5254815e-04 4.5254815e-04 5.4122310e-02 8.4001577e-01\n",
      " 5.1445980e-02 4.5254815e-04 5.1700618e-02 4.5254815e-04 4.5254815e-04]\n",
      "10\n",
      "[4.5254815e-04 4.5254815e-04 4.5254815e-04 5.4122310e-02 8.4001577e-01\n",
      " 5.1445980e-02 4.5254815e-04 5.1700618e-02 4.5254815e-04 4.5254815e-04]\n",
      "10\n"
     ]
    }
   ],
   "source": [
    "print(doc_distribution)\n",
    "print(len(doc_distribution))\n",
    "np.argsort(-doc_distribution)[:3]\n",
    "print(doc_distribution)\n",
    "print(len(doc_distribution))"
   ]
  },
  {
   "cell_type": "code",
   "execution_count": 46,
   "metadata": {},
   "outputs": [],
   "source": [
    "# bar plot of topic distribution for this document\n",
    "def plot_topic_dist(doc_distr, index):\n",
    "    \"\"\"\n",
    "    This function plots the topic distrubtion for a given document\n",
    "    It takes two parameters\n",
    "    (1) doc_distr = type: list of floats, list of topic probability distribution in a document\n",
    "    (2) index = type: int, index number of document to plot\n",
    "    We also do 2 passes of the data since this is a small dataset, so we want the distributions to stabilize\n",
    "    \"\"\"\n",
    "    fig, ax = plt.subplots(figsize=(12,8));\n",
    "    # the histogram of the data\n",
    "    patches = ax.bar(np.arange(len(doc_distr)), doc_distr)\n",
    "    ax.set_xlabel('Topic ID', fontsize=15)\n",
    "    ax.set_ylabel('Topic Probability Score', fontsize=15)\n",
    "    ax.set_title(\"Topic Distribution for Project in Index \" + str(index), fontsize=20)\n",
    "    ax.set_xticks(range(0,10))\n",
    "    x_ticks_labels = ['ERP/SAP','SW_Dev/Web','IT_App_Mgr/SW_Dev_Arch','SW_Dev/DevOps','Sys_Admin/Support', 'IT_Admin_SW/Oracle/Ops','Data/Ops','IT_Process_Mgr/Consultant', 'MS_DEV/Admin','Business_Analyst/Consulting']\n",
    "    ax.set_xticklabels(x_ticks_labels, rotation='vertical', fontsize=8)\n",
    "    fig.tight_layout()\n",
    "    return plt.show()"
   ]
  },
  {
   "cell_type": "code",
   "execution_count": 47,
   "metadata": {},
   "outputs": [
    {
     "data": {
      "image/png": "[encoded data removed]",
      "text/plain": [
       "<Figure size 864x576 with 1 Axes>"
      ]
     },
     "metadata": {
      "needs_background": "light"
     },
     "output_type": "display_data"
    }
   ],
   "source": [
    "plot_topic_dist(doc_distribution, random_index)"
   ]
  },
  {
   "cell_type": "code",
   "execution_count": 50,
   "metadata": {},
   "outputs": [],
   "source": [
    "lda_model =  models.LdaModel.load(os.path.join(outputDir, 'LDA_Approach_1.model'))"
   ]
  },
  {
   "cell_type": "code",
   "execution_count": 51,
   "metadata": {},
   "outputs": [
    {
     "data": {
      "text/plain": [
       "[(0,\n",
       "  '0.101*\"entwicklung\" + 0.068*\"java\" + 0.029*\"application\" + 0.024*\"cloud\" + 0.022*\"spring\" + 0.022*\"agile\" + 0.018*\"scrum\" + 0.017*\"automate\" + 0.015*\"jenkins\" + 0.015*\"projekt\"'),\n",
       " (1,\n",
       "  '0.086*\"data\" + 0.055*\"daten\" + 0.039*\"scrum\" + 0.039*\"entwicklung\" + 0.033*\"agile\" + 0.032*\"studio\" + 0.028*\"bi\" + 0.028*\"dsgvo\" + 0.024*\"berater\" + 0.024*\"big\"'),\n",
       " (2,\n",
       "  '0.080*\"oracle\" + 0.070*\"sql\" + 0.062*\"linux\" + 0.057*\"administration\" + 0.032*\"db\" + 0.032*\"server\" + 0.029*\"system\" + 0.027*\"unix\" + 0.024*\"application\" + 0.024*\"skript\"'),\n",
       " (3,\n",
       "  '0.065*\"operation\" + 0.064*\"windows\" + 0.050*\"administration\" + 0.050*\"server\" + 0.048*\"microsoft\" + 0.045*\"support\" + 0.041*\"system\" + 0.040*\"infrastructure\" + 0.038*\"application\" + 0.031*\"install\"'),\n",
       " (4,\n",
       "  '0.091*\"management\" + 0.040*\"tech\" + 0.036*\"process\" + 0.028*\"operation\" + 0.027*\"analyst\" + 0.025*\"internal\" + 0.023*\"berater\" + 0.023*\"projekt\" + 0.020*\"concept\" + 0.017*\"planung\"'),\n",
       " (5,\n",
       "  '0.170*\"entwicklung\" + 0.048*\"application\" + 0.044*\"script\" + 0.032*\"net\" + 0.024*\"html\" + 0.023*\"projekt\" + 0.022*\"web\" + 0.021*\"css\" + 0.020*\"frontend\" + 0.019*\"framework\"'),\n",
       " (6,\n",
       "  '0.042*\"test\" + 0.030*\"agile\" + 0.022*\"business\" + 0.021*\"engineer\" + 0.021*\"tech\" + 0.020*\"design\" + 0.020*\"product\" + 0.019*\"requirements\" + 0.018*\"tests\" + 0.018*\"entwicklung\"'),\n",
       " (7,\n",
       "  '0.274*\"sap\" + 0.080*\"berater\" + 0.030*\"abap\" + 0.030*\"mm\" + 0.030*\"hana\" + 0.029*\"process\" + 0.024*\"fi\" + 0.023*\"erp\" + 0.020*\"entwicklung\" + 0.020*\"projekt\"'),\n",
       " (8,\n",
       "  '0.058*\"project\" + 0.050*\"management\" + 0.030*\"support\" + 0.028*\"process\" + 0.027*\"application\" + 0.023*\"implementation\" + 0.021*\"data\" + 0.021*\"business\" + 0.020*\"entwicklung\" + 0.019*\"design\"'),\n",
       " (9,\n",
       "  '0.139*\"entwicklung\" + 0.081*\"tech\" + 0.063*\"system\" + 0.063*\"software\" + 0.041*\"engineer\" + 0.038*\"architekture\" + 0.027*\"analyst\" + 0.023*\"automate\" + 0.020*\"design\" + 0.018*\"implementation\"')]"
      ]
     },
     "execution_count": 51,
     "metadata": {},
     "output_type": "execute_result"
    }
   ],
   "source": [
    "lda_model.show_topics()"
   ]
  },
  {
   "cell_type": "code",
   "execution_count": 52,
   "metadata": {},
   "outputs": [
    {
     "name": "stdout",
     "output_type": "stream",
     "text": [
      "[4.5254815e-04 4.5254815e-04 4.5254815e-04 5.4122273e-02 8.4001577e-01\n",
      " 5.1445980e-02 4.5254815e-04 5.1700663e-02 4.5254815e-04 4.5254815e-04]\n"
     ]
    }
   ],
   "source": [
    "doc_distribution1 = np.array([topic[1] for topic in lda_model.get_document_topics(bow=bow)])\n",
    "labels = np.argmax(doc_distribution1)\n",
    "print(doc_distribution1)"
   ]
  },
  {
   "cell_type": "code",
   "execution_count": null,
   "metadata": {},
   "outputs": [],
   "source": []
  }
 ],
 "metadata": {
  "jupytext": {
   "cell_metadata_filter": "-all",
   "main_language": "python",
   "notebook_metadata_filter": "-all"
  },
  "kernelspec": {
   "display_name": "Python 3",
   "language": "python",
   "name": "python3"
  },
  "language_info": {
   "codemirror_mode": {
    "name": "ipython",
    "version": 3
   },
   "file_extension": ".py",
   "mimetype": "text/x-python",
   "name": "python",
   "nbconvert_exporter": "python",
   "pygments_lexer": "ipython3",
   "version": "3.7.1"
  }
 },
 "nbformat": 4,
 "nbformat_minor": 2
}
