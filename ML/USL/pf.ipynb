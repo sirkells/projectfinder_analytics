{
 "cells": [
  {
   "cell_type": "code",
   "execution_count": 3,
   "metadata": {
    "pycharm": {
     "is_executing": false,
     "name": "#%%\n"
    }
   },
   "outputs": [],
   "source": [
    "\n",
    "import json, nltk, re, os, codecs\n",
    "\n",
    "import pandas as pd\n",
    "from pandas.io.json import json_normalize\n",
    "#import pandas_profiling\n",
    "import numpy as np\n",
    "\n",
    "from matplotlib import pyplot as plt\n",
    "%matplotlib inline\n",
    "\n",
    "import seaborn as sns\n",
    "sns.set_style(\"whitegrid\")\n",
    "import altair as alt\n",
    "alt.renderers.enable(\"notebook\")\n",
    "\n",
    "# Code for hiding seaborn warnings\n",
    "import warnings\n",
    "warnings.filterwarnings(\"ignore\")\n",
    "\n",
    "from sklearn import feature_extraction\n",
    "\n",
    "from pymongo import MongoClient\n"
   ]
  },
  {
   "cell_type": "code",
   "execution_count": 7,
   "metadata": {},
   "outputs": [],
   "source": [
    "def connect():\n",
    "    connection = MongoClient('10.10.250.0', 27017)\n",
    "    handle = connection[\"projectfinder\"]\n",
    "    return handle\n",
    "db = connect()\n"
   ]
  },
  {
   "cell_type": "code",
   "execution_count": 8,
   "metadata": {},
   "outputs": [],
   "source": [
    "def load_data_from_momgodb():\n",
    "    exclude_data = {'_id': False}\n",
    "    raw_data = list(db.itproject_clean.find({}, projection=exclude_data))\n",
    "    dataset = pd.DataFrame(raw_data)\n",
    "    return dataset"
   ]
  },
  {
   "cell_type": "code",
   "execution_count": 9,
   "metadata": {},
   "outputs": [],
   "source": [
    "def load_data_from_json(data):\n",
    "    with open(data) as f:\n",
    "            d = json.load(f)\n",
    "        #normalize json\n",
    "    dataset= json_normalize(d)\n",
    "    return dataset"
   ]
  },
  {
   "cell_type": "code",
   "execution_count": 10,
   "metadata": {},
   "outputs": [],
   "source": [
    "def clean_dataset(data):\n",
    "    #select colunms\n",
    "    df = data[['title', 'description', 'bereich']]\n",
    "    df = df[df['description'] != '']\n",
    "   \n",
    "    df['project'] = df['title'] + '/' + df['description']\n",
    "    df['label'] = df['bereich']\n",
    "    df.drop(['title', 'description', 'bereich'], axis=1, inplace=True)\n",
    "    df = df[df['label'] != 'IT/Bauingenieur']\n",
    "    df = df.drop_duplicates()\n",
    "    return df"
   ]
  },
  {
   "cell_type": "code",
   "execution_count": 17,
   "metadata": {
    "pycharm": {
     "is_executing": false,
     "name": "#%%\n"
    }
   },
   "outputs": [
    {
     "data": {
      "text/html": [
       "<div>\n",
       "<style scoped>\n",
       "    .dataframe tbody tr th:only-of-type {\n",
       "        vertical-align: middle;\n",
       "    }\n",
       "\n",
       "    .dataframe tbody tr th {\n",
       "        vertical-align: top;\n",
       "    }\n",
       "\n",
       "    .dataframe thead th {\n",
       "        text-align: right;\n",
       "    }\n",
       "</style>\n",
       "<table border=\"1\" class=\"dataframe\">\n",
       "  <thead>\n",
       "    <tr style=\"text-align: right;\">\n",
       "      <th></th>\n",
       "      <th>project</th>\n",
       "      <th>label</th>\n",
       "    </tr>\n",
       "  </thead>\n",
       "  <tbody>\n",
       "    <tr>\n",
       "      <th>0</th>\n",
       "      <td>IT Berater (m/w) für bankfachliche Anwendungen...</td>\n",
       "      <td>IT/Admin-Microsoft</td>\n",
       "    </tr>\n",
       "    <tr>\n",
       "      <th>1</th>\n",
       "      <td>Hier nicht mehr aktiv/Kann Profil leider nicht...</td>\n",
       "      <td>SW/Dev-Web-Backend</td>\n",
       "    </tr>\n",
       "    <tr>\n",
       "      <th>2</th>\n",
       "      <td>Business Intelligence Analyst (m/w) - Tableau ...</td>\n",
       "      <td>DS-BI</td>\n",
       "    </tr>\n",
       "    <tr>\n",
       "      <th>3</th>\n",
       "      <td>Developer - Talend ESB oder Apache Camel (m/w)...</td>\n",
       "      <td>SW/Dev-Web-Backend</td>\n",
       "    </tr>\n",
       "    <tr>\n",
       "      <th>4</th>\n",
       "      <td>Erstellung von Automatisierungen mit ubot stud...</td>\n",
       "      <td>IT/IT</td>\n",
       "    </tr>\n",
       "  </tbody>\n",
       "</table>\n",
       "</div>"
      ],
      "text/plain": [
       "                                             project               label\n",
       "0  IT Berater (m/w) für bankfachliche Anwendungen...  IT/Admin-Microsoft\n",
       "1  Hier nicht mehr aktiv/Kann Profil leider nicht...  SW/Dev-Web-Backend\n",
       "2  Business Intelligence Analyst (m/w) - Tableau ...               DS-BI\n",
       "3  Developer - Talend ESB oder Apache Camel (m/w)...  SW/Dev-Web-Backend\n",
       "4  Erstellung von Automatisierungen mit ubot stud...               IT/IT"
      ]
     },
     "execution_count": 17,
     "metadata": {},
     "output_type": "execute_result"
    }
   ],
   "source": [
    "data = load_data_from_momgodb()\n",
    "df = clean_dataset(data)\n",
    "df.head()"
   ]
  },
  {
   "cell_type": "code",
   "execution_count": 12,
   "metadata": {
    "pycharm": {
     "is_executing": false,
     "name": "#%%\n"
    }
   },
   "outputs": [
    {
     "data": {
      "text/plain": [
       "(12400, 2)"
      ]
     },
     "execution_count": 12,
     "metadata": {},
     "output_type": "execute_result"
    }
   ],
   "source": [
    "df.shape"
   ]
  },
  {
   "cell_type": "code",
   "execution_count": 149,
   "metadata": {
    "pycharm": {
     "is_executing": false,
     "name": "#%%\n"
    }
   },
   "outputs": [
    {
     "data": {
      "text/plain": [
       "12400"
      ]
     },
     "execution_count": 149,
     "metadata": {},
     "output_type": "execute_result"
    }
   ],
   "source": [
    "df.shape[0]"
   ]
  },
  {
   "cell_type": "code",
   "execution_count": 18,
   "metadata": {
    "pycharm": {
     "is_executing": false,
     "name": "#%%\n"
    }
   },
   "outputs": [],
   "source": [
    "df['label'].replace(['IT/Admin-Oracle'], 'IT/Admin-Database', inplace=True)\n",
    "df['label'].replace(['IT/SAP'], 'ERP-SAP', inplace=True)\n",
    "df['label'].replace(['DS-ML','DS-BI', 'IT/Business Int'], 'D_Science/Analysis', inplace=True)\n",
    "df['label'].replace(['IT-Admin-Linux'], 'IT/Admin-Linux', inplace=True)\n",
    "df['label'].replace(['IT/Management (','IT/Projektleitu','IT/Fertigungste'], 'IT/Project Mgmt', inplace=True)\n",
    "df['label'].replace(['SW/Tester','IT/Softwareentw','IT/Qualitätsman','IT/Weitere IT-Q'], 'SW/Dev-Web-Fullstack', inplace=True)\n",
    "df['label'].replace(['IT/Automatisier','IT/Software Arc'], 'SW/Dev-Devops', inplace=True)\n",
    "df['label'].replace(['IT/Admin-CITRIX','IT/Admin-ITIL', 'IT/Admin-Netwerk-Cisco'], 'IT/Admin-Others', inplace=True)\n",
    "df['label'].replace(['IT/Maschinen- /','IT/Konstruktion', 'IT/Mess- / Rege', 'IT/Fahrzeugbau', 'IT/Hardware-Ent', 'IT/Engineering', 'IT/Elektrotechn', 'IT/Technisches '], 'IT/Technisches', inplace=True)"
   ]
  },
  {
   "cell_type": "code",
   "execution_count": 19,
   "metadata": {},
   "outputs": [],
   "source": [
    "df = df.apply(lambda x: x.mask(x.map(x.value_counts())<90, 'other') if x.name!='project' else x)"
   ]
  },
  {
   "cell_type": "code",
   "execution_count": 20,
   "metadata": {},
   "outputs": [
    {
     "data": {
      "text/html": [
       "<div>\n",
       "<style scoped>\n",
       "    .dataframe tbody tr th:only-of-type {\n",
       "        vertical-align: middle;\n",
       "    }\n",
       "\n",
       "    .dataframe tbody tr th {\n",
       "        vertical-align: top;\n",
       "    }\n",
       "\n",
       "    .dataframe thead th {\n",
       "        text-align: right;\n",
       "    }\n",
       "</style>\n",
       "<table border=\"1\" class=\"dataframe\">\n",
       "  <thead>\n",
       "    <tr style=\"text-align: right;\">\n",
       "      <th></th>\n",
       "      <th>project</th>\n",
       "      <th>label</th>\n",
       "    </tr>\n",
       "  </thead>\n",
       "  <tbody>\n",
       "    <tr>\n",
       "      <th>0</th>\n",
       "      <td>IT Berater (m/w) für bankfachliche Anwendungen...</td>\n",
       "      <td>IT/Admin-Microsoft</td>\n",
       "    </tr>\n",
       "    <tr>\n",
       "      <th>1</th>\n",
       "      <td>Hier nicht mehr aktiv/Kann Profil leider nicht...</td>\n",
       "      <td>SW/Dev-Web-Backend</td>\n",
       "    </tr>\n",
       "    <tr>\n",
       "      <th>2</th>\n",
       "      <td>Business Intelligence Analyst (m/w) - Tableau ...</td>\n",
       "      <td>D_Science/Analysis</td>\n",
       "    </tr>\n",
       "    <tr>\n",
       "      <th>3</th>\n",
       "      <td>Developer - Talend ESB oder Apache Camel (m/w)...</td>\n",
       "      <td>SW/Dev-Web-Backend</td>\n",
       "    </tr>\n",
       "    <tr>\n",
       "      <th>4</th>\n",
       "      <td>Erstellung von Automatisierungen mit ubot stud...</td>\n",
       "      <td>other</td>\n",
       "    </tr>\n",
       "    <tr>\n",
       "      <th>5</th>\n",
       "      <td>Spieleentwickler mit Hardwarekenntnissen/Unser...</td>\n",
       "      <td>SW/Dev-Web</td>\n",
       "    </tr>\n",
       "    <tr>\n",
       "      <th>6</th>\n",
       "      <td>221380, Bilanzbuchhalter (m/w)/Future Consulti...</td>\n",
       "      <td>SW/Dev-Web-Backend</td>\n",
       "    </tr>\n",
       "    <tr>\n",
       "      <th>7</th>\n",
       "      <td>IT-Mitarbeiter (m/w) 1st / 2nd Level Support /...</td>\n",
       "      <td>IT/Admin-Microsoft</td>\n",
       "    </tr>\n",
       "    <tr>\n",
       "      <th>8</th>\n",
       "      <td>Consultant für Microsoft Dynamics CRM (m/w)/Üb...</td>\n",
       "      <td>IT/Admin-Microsoft</td>\n",
       "    </tr>\n",
       "    <tr>\n",
       "      <th>9</th>\n",
       "      <td>Java Senior Developer - Backend (f/m)/Über uns...</td>\n",
       "      <td>SW/Dev-Web-Fullstack</td>\n",
       "    </tr>\n",
       "  </tbody>\n",
       "</table>\n",
       "</div>"
      ],
      "text/plain": [
       "                                             project                 label\n",
       "0  IT Berater (m/w) für bankfachliche Anwendungen...    IT/Admin-Microsoft\n",
       "1  Hier nicht mehr aktiv/Kann Profil leider nicht...    SW/Dev-Web-Backend\n",
       "2  Business Intelligence Analyst (m/w) - Tableau ...    D_Science/Analysis\n",
       "3  Developer - Talend ESB oder Apache Camel (m/w)...    SW/Dev-Web-Backend\n",
       "4  Erstellung von Automatisierungen mit ubot stud...                 other\n",
       "5  Spieleentwickler mit Hardwarekenntnissen/Unser...            SW/Dev-Web\n",
       "6  221380, Bilanzbuchhalter (m/w)/Future Consulti...    SW/Dev-Web-Backend\n",
       "7  IT-Mitarbeiter (m/w) 1st / 2nd Level Support /...    IT/Admin-Microsoft\n",
       "8  Consultant für Microsoft Dynamics CRM (m/w)/Üb...    IT/Admin-Microsoft\n",
       "9  Java Senior Developer - Backend (f/m)/Über uns...  SW/Dev-Web-Fullstack"
      ]
     },
     "execution_count": 20,
     "metadata": {},
     "output_type": "execute_result"
    }
   ],
   "source": [
    "df.head(10)"
   ]
  },
  {
   "cell_type": "code",
   "execution_count": 21,
   "metadata": {
    "pycharm": {
     "is_executing": false,
     "name": "#%%\n"
    }
   },
   "outputs": [
    {
     "data": {
      "text/plain": [
       "SW/Dev-Web              1576\n",
       "IT/Consulting           1515\n",
       "ERP-SAP                 1440\n",
       "SW/Dev-Web-Fullstack    1398\n",
       "IT/Admin-Microsoft      1292\n",
       "IT/Project Mgmt         1038\n",
       "other                    800\n",
       "Big Data-Data Engr       753\n",
       "IT/Admin-Database        466\n",
       "IT/Admin-Linux           433\n",
       "IT/Admin-Others          382\n",
       "SW/Dev-Web-Backend       371\n",
       "SW/Dev-Devops            274\n",
       "IT/Technisches           235\n",
       "SW/Dev-Mobile            227\n",
       "D_Science/Analysis       200\n",
       "Name: label, dtype: int64"
      ]
     },
     "execution_count": 21,
     "metadata": {},
     "output_type": "execute_result"
    }
   ],
   "source": [
    "df['label'].value_counts()\n"
   ]
  },
  {
   "cell_type": "code",
   "execution_count": 22,
   "metadata": {
    "pycharm": {
     "is_executing": false,
     "name": "#%%\n"
    }
   },
   "outputs": [
    {
     "data": {
      "text/plain": [
       "<matplotlib.axes._subplots.AxesSubplot at 0x7f68f8a05be0>"
      ]
     },
     "execution_count": 22,
     "metadata": {},
     "output_type": "execute_result"
    },
    {
     "data": {
      "image/png": "[encoded data removed]",
      "text/plain": [
       "<Figure size 432x288 with 1 Axes>"
      ]
     },
     "metadata": {},
     "output_type": "display_data"
    }
   ],
   "source": [
    "df.groupby('label').size().plot(kind='bar')"
   ]
  },
  {
   "cell_type": "code",
   "execution_count": 23,
   "metadata": {
    "pycharm": {
     "name": "#%%\n"
    }
   },
   "outputs": [
    {
     "data": {
      "text/html": [
       "<div>\n",
       "<style scoped>\n",
       "    .dataframe tbody tr th:only-of-type {\n",
       "        vertical-align: middle;\n",
       "    }\n",
       "\n",
       "    .dataframe tbody tr th {\n",
       "        vertical-align: top;\n",
       "    }\n",
       "\n",
       "    .dataframe thead th {\n",
       "        text-align: right;\n",
       "    }\n",
       "</style>\n",
       "<table border=\"1\" class=\"dataframe\">\n",
       "  <thead>\n",
       "    <tr style=\"text-align: right;\">\n",
       "      <th></th>\n",
       "      <th>project</th>\n",
       "      <th>label</th>\n",
       "      <th>Big Data-Data Engr</th>\n",
       "      <th>D_Science/Analysis</th>\n",
       "      <th>ERP-SAP</th>\n",
       "      <th>IT/Admin-Database</th>\n",
       "      <th>IT/Admin-Linux</th>\n",
       "      <th>IT/Admin-Microsoft</th>\n",
       "      <th>IT/Admin-Others</th>\n",
       "      <th>IT/Consulting</th>\n",
       "      <th>IT/Project Mgmt</th>\n",
       "      <th>IT/Technisches</th>\n",
       "      <th>SW/Dev-Devops</th>\n",
       "      <th>SW/Dev-Mobile</th>\n",
       "      <th>SW/Dev-Web</th>\n",
       "      <th>SW/Dev-Web-Backend</th>\n",
       "      <th>SW/Dev-Web-Fullstack</th>\n",
       "      <th>other</th>\n",
       "    </tr>\n",
       "  </thead>\n",
       "  <tbody>\n",
       "    <tr>\n",
       "      <th>0</th>\n",
       "      <td>IT Berater (m/w) für bankfachliche Anwendungen...</td>\n",
       "      <td>IT/Admin-Microsoft</td>\n",
       "      <td>0</td>\n",
       "      <td>0</td>\n",
       "      <td>0</td>\n",
       "      <td>0</td>\n",
       "      <td>0</td>\n",
       "      <td>1</td>\n",
       "      <td>0</td>\n",
       "      <td>0</td>\n",
       "      <td>0</td>\n",
       "      <td>0</td>\n",
       "      <td>0</td>\n",
       "      <td>0</td>\n",
       "      <td>0</td>\n",
       "      <td>0</td>\n",
       "      <td>0</td>\n",
       "      <td>0</td>\n",
       "    </tr>\n",
       "    <tr>\n",
       "      <th>1</th>\n",
       "      <td>Hier nicht mehr aktiv/Kann Profil leider nicht...</td>\n",
       "      <td>SW/Dev-Web-Backend</td>\n",
       "      <td>0</td>\n",
       "      <td>0</td>\n",
       "      <td>0</td>\n",
       "      <td>0</td>\n",
       "      <td>0</td>\n",
       "      <td>0</td>\n",
       "      <td>0</td>\n",
       "      <td>0</td>\n",
       "      <td>0</td>\n",
       "      <td>0</td>\n",
       "      <td>0</td>\n",
       "      <td>0</td>\n",
       "      <td>0</td>\n",
       "      <td>1</td>\n",
       "      <td>0</td>\n",
       "      <td>0</td>\n",
       "    </tr>\n",
       "    <tr>\n",
       "      <th>2</th>\n",
       "      <td>Business Intelligence Analyst (m/w) - Tableau ...</td>\n",
       "      <td>D_Science/Analysis</td>\n",
       "      <td>0</td>\n",
       "      <td>1</td>\n",
       "      <td>0</td>\n",
       "      <td>0</td>\n",
       "      <td>0</td>\n",
       "      <td>0</td>\n",
       "      <td>0</td>\n",
       "      <td>0</td>\n",
       "      <td>0</td>\n",
       "      <td>0</td>\n",
       "      <td>0</td>\n",
       "      <td>0</td>\n",
       "      <td>0</td>\n",
       "      <td>0</td>\n",
       "      <td>0</td>\n",
       "      <td>0</td>\n",
       "    </tr>\n",
       "    <tr>\n",
       "      <th>3</th>\n",
       "      <td>Developer - Talend ESB oder Apache Camel (m/w)...</td>\n",
       "      <td>SW/Dev-Web-Backend</td>\n",
       "      <td>0</td>\n",
       "      <td>0</td>\n",
       "      <td>0</td>\n",
       "      <td>0</td>\n",
       "      <td>0</td>\n",
       "      <td>0</td>\n",
       "      <td>0</td>\n",
       "      <td>0</td>\n",
       "      <td>0</td>\n",
       "      <td>0</td>\n",
       "      <td>0</td>\n",
       "      <td>0</td>\n",
       "      <td>0</td>\n",
       "      <td>1</td>\n",
       "      <td>0</td>\n",
       "      <td>0</td>\n",
       "    </tr>\n",
       "    <tr>\n",
       "      <th>4</th>\n",
       "      <td>Erstellung von Automatisierungen mit ubot stud...</td>\n",
       "      <td>other</td>\n",
       "      <td>0</td>\n",
       "      <td>0</td>\n",
       "      <td>0</td>\n",
       "      <td>0</td>\n",
       "      <td>0</td>\n",
       "      <td>0</td>\n",
       "      <td>0</td>\n",
       "      <td>0</td>\n",
       "      <td>0</td>\n",
       "      <td>0</td>\n",
       "      <td>0</td>\n",
       "      <td>0</td>\n",
       "      <td>0</td>\n",
       "      <td>0</td>\n",
       "      <td>0</td>\n",
       "      <td>1</td>\n",
       "    </tr>\n",
       "  </tbody>\n",
       "</table>\n",
       "</div>"
      ],
      "text/plain": [
       "                                             project               label  \\\n",
       "0  IT Berater (m/w) für bankfachliche Anwendungen...  IT/Admin-Microsoft   \n",
       "1  Hier nicht mehr aktiv/Kann Profil leider nicht...  SW/Dev-Web-Backend   \n",
       "2  Business Intelligence Analyst (m/w) - Tableau ...  D_Science/Analysis   \n",
       "3  Developer - Talend ESB oder Apache Camel (m/w)...  SW/Dev-Web-Backend   \n",
       "4  Erstellung von Automatisierungen mit ubot stud...               other   \n",
       "\n",
       "   Big Data-Data Engr  D_Science/Analysis  ERP-SAP  IT/Admin-Database  \\\n",
       "0                   0                   0        0                  0   \n",
       "1                   0                   0        0                  0   \n",
       "2                   0                   1        0                  0   \n",
       "3                   0                   0        0                  0   \n",
       "4                   0                   0        0                  0   \n",
       "\n",
       "   IT/Admin-Linux  IT/Admin-Microsoft  IT/Admin-Others  IT/Consulting  \\\n",
       "0               0                   1                0              0   \n",
       "1               0                   0                0              0   \n",
       "2               0                   0                0              0   \n",
       "3               0                   0                0              0   \n",
       "4               0                   0                0              0   \n",
       "\n",
       "   IT/Project Mgmt  IT/Technisches  SW/Dev-Devops  SW/Dev-Mobile  SW/Dev-Web  \\\n",
       "0                0               0              0              0           0   \n",
       "1                0               0              0              0           0   \n",
       "2                0               0              0              0           0   \n",
       "3                0               0              0              0           0   \n",
       "4                0               0              0              0           0   \n",
       "\n",
       "   SW/Dev-Web-Backend  SW/Dev-Web-Fullstack  other  \n",
       "0                   0                     0      0  \n",
       "1                   1                     0      0  \n",
       "2                   0                     0      0  \n",
       "3                   1                     0      0  \n",
       "4                   0                     0      1  "
      ]
     },
     "execution_count": 23,
     "metadata": {},
     "output_type": "execute_result"
    }
   ],
   "source": [
    "categories = pd.get_dummies(df['label'])\n",
    "df_new = pd.concat([df, categories], axis=1)\n",
    "df_new.head()"
   ]
  },
  {
   "cell_type": "code",
   "execution_count": 24,
   "metadata": {},
   "outputs": [
    {
     "data": {
      "text/html": [
       "<div>\n",
       "<style scoped>\n",
       "    .dataframe tbody tr th:only-of-type {\n",
       "        vertical-align: middle;\n",
       "    }\n",
       "\n",
       "    .dataframe tbody tr th {\n",
       "        vertical-align: top;\n",
       "    }\n",
       "\n",
       "    .dataframe thead th {\n",
       "        text-align: right;\n",
       "    }\n",
       "</style>\n",
       "<table border=\"1\" class=\"dataframe\">\n",
       "  <thead>\n",
       "    <tr style=\"text-align: right;\">\n",
       "      <th></th>\n",
       "      <th>project</th>\n",
       "      <th>Big Data-Data Engr</th>\n",
       "      <th>D_Science/Analysis</th>\n",
       "      <th>ERP-SAP</th>\n",
       "      <th>IT/Admin-Database</th>\n",
       "      <th>IT/Admin-Linux</th>\n",
       "      <th>IT/Admin-Microsoft</th>\n",
       "      <th>IT/Admin-Others</th>\n",
       "      <th>IT/Consulting</th>\n",
       "      <th>IT/Project Mgmt</th>\n",
       "      <th>IT/Technisches</th>\n",
       "      <th>SW/Dev-Devops</th>\n",
       "      <th>SW/Dev-Mobile</th>\n",
       "      <th>SW/Dev-Web</th>\n",
       "      <th>SW/Dev-Web-Backend</th>\n",
       "      <th>SW/Dev-Web-Fullstack</th>\n",
       "      <th>other</th>\n",
       "    </tr>\n",
       "  </thead>\n",
       "  <tbody>\n",
       "    <tr>\n",
       "      <th>0</th>\n",
       "      <td>IT Berater (m/w) für bankfachliche Anwendungen...</td>\n",
       "      <td>0</td>\n",
       "      <td>0</td>\n",
       "      <td>0</td>\n",
       "      <td>0</td>\n",
       "      <td>0</td>\n",
       "      <td>1</td>\n",
       "      <td>0</td>\n",
       "      <td>0</td>\n",
       "      <td>0</td>\n",
       "      <td>0</td>\n",
       "      <td>0</td>\n",
       "      <td>0</td>\n",
       "      <td>0</td>\n",
       "      <td>0</td>\n",
       "      <td>0</td>\n",
       "      <td>0</td>\n",
       "    </tr>\n",
       "    <tr>\n",
       "      <th>1</th>\n",
       "      <td>Hier nicht mehr aktiv/Kann Profil leider nicht...</td>\n",
       "      <td>0</td>\n",
       "      <td>0</td>\n",
       "      <td>0</td>\n",
       "      <td>0</td>\n",
       "      <td>0</td>\n",
       "      <td>0</td>\n",
       "      <td>0</td>\n",
       "      <td>0</td>\n",
       "      <td>0</td>\n",
       "      <td>0</td>\n",
       "      <td>0</td>\n",
       "      <td>0</td>\n",
       "      <td>0</td>\n",
       "      <td>1</td>\n",
       "      <td>0</td>\n",
       "      <td>0</td>\n",
       "    </tr>\n",
       "    <tr>\n",
       "      <th>2</th>\n",
       "      <td>Business Intelligence Analyst (m/w) - Tableau ...</td>\n",
       "      <td>0</td>\n",
       "      <td>1</td>\n",
       "      <td>0</td>\n",
       "      <td>0</td>\n",
       "      <td>0</td>\n",
       "      <td>0</td>\n",
       "      <td>0</td>\n",
       "      <td>0</td>\n",
       "      <td>0</td>\n",
       "      <td>0</td>\n",
       "      <td>0</td>\n",
       "      <td>0</td>\n",
       "      <td>0</td>\n",
       "      <td>0</td>\n",
       "      <td>0</td>\n",
       "      <td>0</td>\n",
       "    </tr>\n",
       "    <tr>\n",
       "      <th>3</th>\n",
       "      <td>Developer - Talend ESB oder Apache Camel (m/w)...</td>\n",
       "      <td>0</td>\n",
       "      <td>0</td>\n",
       "      <td>0</td>\n",
       "      <td>0</td>\n",
       "      <td>0</td>\n",
       "      <td>0</td>\n",
       "      <td>0</td>\n",
       "      <td>0</td>\n",
       "      <td>0</td>\n",
       "      <td>0</td>\n",
       "      <td>0</td>\n",
       "      <td>0</td>\n",
       "      <td>0</td>\n",
       "      <td>1</td>\n",
       "      <td>0</td>\n",
       "      <td>0</td>\n",
       "    </tr>\n",
       "    <tr>\n",
       "      <th>4</th>\n",
       "      <td>Erstellung von Automatisierungen mit ubot stud...</td>\n",
       "      <td>0</td>\n",
       "      <td>0</td>\n",
       "      <td>0</td>\n",
       "      <td>0</td>\n",
       "      <td>0</td>\n",
       "      <td>0</td>\n",
       "      <td>0</td>\n",
       "      <td>0</td>\n",
       "      <td>0</td>\n",
       "      <td>0</td>\n",
       "      <td>0</td>\n",
       "      <td>0</td>\n",
       "      <td>0</td>\n",
       "      <td>0</td>\n",
       "      <td>0</td>\n",
       "      <td>1</td>\n",
       "    </tr>\n",
       "  </tbody>\n",
       "</table>\n",
       "</div>"
      ],
      "text/plain": [
       "                                             project  Big Data-Data Engr  \\\n",
       "0  IT Berater (m/w) für bankfachliche Anwendungen...                   0   \n",
       "1  Hier nicht mehr aktiv/Kann Profil leider nicht...                   0   \n",
       "2  Business Intelligence Analyst (m/w) - Tableau ...                   0   \n",
       "3  Developer - Talend ESB oder Apache Camel (m/w)...                   0   \n",
       "4  Erstellung von Automatisierungen mit ubot stud...                   0   \n",
       "\n",
       "   D_Science/Analysis  ERP-SAP  IT/Admin-Database  IT/Admin-Linux  \\\n",
       "0                   0        0                  0               0   \n",
       "1                   0        0                  0               0   \n",
       "2                   1        0                  0               0   \n",
       "3                   0        0                  0               0   \n",
       "4                   0        0                  0               0   \n",
       "\n",
       "   IT/Admin-Microsoft  IT/Admin-Others  IT/Consulting  IT/Project Mgmt  \\\n",
       "0                   1                0              0                0   \n",
       "1                   0                0              0                0   \n",
       "2                   0                0              0                0   \n",
       "3                   0                0              0                0   \n",
       "4                   0                0              0                0   \n",
       "\n",
       "   IT/Technisches  SW/Dev-Devops  SW/Dev-Mobile  SW/Dev-Web  \\\n",
       "0               0              0              0           0   \n",
       "1               0              0              0           0   \n",
       "2               0              0              0           0   \n",
       "3               0              0              0           0   \n",
       "4               0              0              0           0   \n",
       "\n",
       "   SW/Dev-Web-Backend  SW/Dev-Web-Fullstack  other  \n",
       "0                   0                     0      0  \n",
       "1                   1                     0      0  \n",
       "2                   0                     0      0  \n",
       "3                   1                     0      0  \n",
       "4                   0                     0      1  "
      ]
     },
     "execution_count": 24,
     "metadata": {},
     "output_type": "execute_result"
    }
   ],
   "source": [
    "# drop the original categories column from `df`\n",
    "df_new = df_new.drop('label',axis=1)\n",
    "df_new.head()"
   ]
  },
  {
   "cell_type": "code",
   "execution_count": 41,
   "metadata": {},
   "outputs": [],
   "source": [
    "import pickle\n",
    "from keras.preprocessing.text import Tokenizer\n",
    "from keras.models import Sequential\n",
    "from keras.layers import Activation, Dense, Dropout, Embedding, LSTM, GRU\n",
    "from sklearn.preprocessing import LabelBinarizer\n",
    "import sklearn.datasets as skds\n",
    "from pathlib import Path\n",
    "from keras.layers.embeddings import Embedding"
   ]
  },
  {
   "cell_type": "code",
   "execution_count": 33,
   "metadata": {},
   "outputs": [],
   "source": [
    "from sklearn.model_selection import train_test_split\n",
    "from tensorflow.python.keras.preprocessing.sequence import pad_sequences"
   ]
  },
  {
   "cell_type": "code",
   "execution_count": 65,
   "metadata": {},
   "outputs": [],
   "source": [
    "X = df['project']\n",
    "y = df['label']"
   ]
  },
  {
   "cell_type": "code",
   "execution_count": 66,
   "metadata": {},
   "outputs": [],
   "source": [
    "X_train, X_test, y_train, y_test = train_test_split(X, y, test_size=0.20, random_state=42)"
   ]
  }
 ],
 "metadata": {
  "kernelspec": {
   "display_name": "Python 3",
   "language": "python",
   "name": "python3"
  },
  "language_info": {
   "codemirror_mode": {
    "name": "ipython",
    "version": 3
   },
   "file_extension": ".py",
   "mimetype": "text/x-python",
   "name": "python",
   "nbconvert_exporter": "python",
   "pygments_lexer": "ipython3",
   "version": "3.7.3"
  },
  "pycharm": {
   "stem_cell": {
    "cell_type": "raw",
    "metadata": {
     "collapsed": false
    },
    "source": []
   }
  }
 },
 "nbformat": 4,
 "nbformat_minor": 1
}
