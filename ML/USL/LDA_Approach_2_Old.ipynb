{
 "cells": [
  {
   "cell_type": "markdown",
   "metadata": {},
   "source": [
    "# Importing Libraries"
   ]
  },
  {
   "cell_type": "code",
   "execution_count": 14,
   "metadata": {
    "slideshow": {
     "slide_type": "slide"
    }
   },
   "outputs": [],
   "source": [
    "%matplotlib inline\n",
    "import pandas as pd\n",
    "import numpy as np\n",
    "import nltk\n",
    "from nltk.corpus import stopwords\n",
    "import gensim\n",
    "from gensim.models import LdaModel\n",
    "from gensim import models, corpora, similarities\n",
    "import re\n",
    "import time\n",
    "from nltk import FreqDist\n",
    "from scipy.stats import entropy\n",
    "import matplotlib.pyplot as plt\n",
    "import seaborn as sns\n",
    "sns.set_style(\"darkgrid\")\n",
    "from pymongo import MongoClient\n",
    "from nltk.tokenize import word_tokenize\n",
    "import pickle\n",
    "import string\n",
    "from string import punctuation"
   ]
  },
  {
   "cell_type": "code",
   "execution_count": 2,
   "metadata": {},
   "outputs": [],
   "source": [
    "#Details for getting data from projectfinder\n",
    "db_loc = {\n",
    "    'ip' :'10.10.250.0',\n",
    "    'port' : 27017,\n",
    "    'database' : 'projectfinder',\n",
    "    'collection' : 'itproject_clean'\n",
    "}"
   ]
  },
  {
   "cell_type": "code",
   "execution_count": 3,
   "metadata": {},
   "outputs": [],
   "source": [
    "#Details for storing data related to projectfinder\n",
    "db_data = {\n",
    "    'ip' :'10.10.250.0',\n",
    "    'port' : 27017,\n",
    "    'database' : 'projectfinder',\n",
    "    'collection' : 'mldata1'\n",
    "}"
   ]
  },
  {
   "cell_type": "code",
   "execution_count": 4,
   "metadata": {},
   "outputs": [],
   "source": [
    "def load_dataset_from_momgodb(db_obj):\n",
    "    \n",
    "    \"\"\"\n",
    "    This method loads a dataset as a pandas dataframe from MongoDB \n",
    "    \n",
    "    Parameters:\n",
    "    @db_obj (dict): Storing the ip address, port number, database name and collection name for dataset to be loaded\n",
    "    \n",
    "    Returns:\n",
    "    panadas dataframe: Containing the loaded dataset\n",
    "    \"\"\"\n",
    "    \n",
    "    #Extracting the items from the inputted dictionary\n",
    "    dbname = db_obj['database']\n",
    "    ip = db_obj['ip']\n",
    "    port = db_obj['port']\n",
    "    collection = db_obj['collection']\n",
    "    \n",
    "    #Creating a connection to the database using MongoClient\n",
    "    connection = MongoClient(ip, port)\n",
    "    db = connection[dbname]\n",
    "    \n",
    "    #Excluding the fileds which are not needed in the dataframe \n",
    "    #Currenlty excluding the id associated with each document of the collection\n",
    "    \n",
    "    exclude_field = {'_id': False}\n",
    "    raw_dataset = list(db[collection].find({}, projection=exclude_field))\n",
    "    \n",
    "    dataset = pd.DataFrame(raw_dataset)\n",
    "    print(f'Data loaded from mongodb {collection} collection succesfully')\n",
    "    return dataset"
   ]
  },
  {
   "cell_type": "code",
   "execution_count": 5,
   "metadata": {},
   "outputs": [],
   "source": [
    "def save_to_momgodb(df,db_):\n",
    "    \n",
    "    \"\"\"\n",
    "    This method saves a dataframe as a collection into a specified MongoDB database.\n",
    "    \n",
    "    Parameters:\n",
    "    @df (pandas dataframe): Storing the dataset to be saved\n",
    "    @db_ (dict): Details for the database where the given dataset is to be saved\n",
    "    \n",
    "    \"\"\"\n",
    "    \n",
    "    #Convert data prsent in the dataframe to JSON format\n",
    "    data = df.to_dict(orient='records')\n",
    "    \n",
    "     #Extracting the items from the inputted dictionary of database details\n",
    "    dbname = db_['database']\n",
    "    ip = db_['ip']\n",
    "    port = db_['port']\n",
    "    coll = db_['collection']\n",
    "    \n",
    "    #Creating a connection to the database using MongoClient\n",
    "    connection = MongoClient(ip,port)\n",
    "    db = connection[dbname]\n",
    "    col = db[collection].insert_many(data)\n",
    "    \n",
    "    print(f'data saved as {coll}')"
   ]
  },
  {
   "cell_type": "code",
   "execution_count": 6,
   "metadata": {},
   "outputs": [],
   "source": [
    "def load_dataset_from_json(data):\n",
    "    with open(data) as f:\n",
    "            d = json.load(f)\n",
    "        #normalize json\n",
    "    dataset= json_normalize(d)\n",
    "    return dataset"
   ]
  },
  {
   "cell_type": "code",
   "execution_count": 7,
   "metadata": {},
   "outputs": [
    {
     "name": "stdout",
     "output_type": "stream",
     "text": [
      "Data loaded from mongodb itproject_clean collection succesfully\n"
     ]
    },
    {
     "data": {
      "text/plain": [
       "(14059, 25)"
      ]
     },
     "execution_count": 7,
     "metadata": {},
     "output_type": "execute_result"
    }
   ],
   "source": [
    "df = load_dataset_from_momgodb(db_loc)\n",
    "df.shape"
   ]
  },
  {
   "cell_type": "code",
   "execution_count": 8,
   "metadata": {},
   "outputs": [],
   "source": [
    "def get_required_dataset(original_dataset):\n",
    "    \n",
    "    #Select required colunms\n",
    "    df = original_dataset[['description', 'bereich']]\n",
    "    df = df[df['description'] != '']\n",
    "    #df.rename(columns = {'description' : 'project', 'bereich' : 'class'})\n",
    "    df['project'] = df['description']\n",
    "    df['label'] = df['bereich']\n",
    "    df.drop(['description', 'bereich'], axis=1, inplace=True)\n",
    "    df = df[df['label'] != 'IT/Bauingenieur']\n",
    "    df = df.drop_duplicates()\n",
    "    return df"
   ]
  },
  {
   "cell_type": "code",
   "execution_count": 9,
   "metadata": {},
   "outputs": [
    {
     "data": {
      "text/html": [
       "<div>\n",
       "<style scoped>\n",
       "    .dataframe tbody tr th:only-of-type {\n",
       "        vertical-align: middle;\n",
       "    }\n",
       "\n",
       "    .dataframe tbody tr th {\n",
       "        vertical-align: top;\n",
       "    }\n",
       "\n",
       "    .dataframe thead th {\n",
       "        text-align: right;\n",
       "    }\n",
       "</style>\n",
       "<table border=\"1\" class=\"dataframe\">\n",
       "  <thead>\n",
       "    <tr style=\"text-align: right;\">\n",
       "      <th></th>\n",
       "      <th>project</th>\n",
       "      <th>label</th>\n",
       "    </tr>\n",
       "  </thead>\n",
       "  <tbody>\n",
       "    <tr>\n",
       "      <th>0</th>\n",
       "      <td>Für einen unserer Kunden aus dem Finanzdienstl...</td>\n",
       "      <td>Infr-Admin-Microsoft</td>\n",
       "    </tr>\n",
       "    <tr>\n",
       "      <th>1</th>\n",
       "      <td>Kann Profil leider nicht löschen.</td>\n",
       "      <td>IT/Consulting</td>\n",
       "    </tr>\n",
       "    <tr>\n",
       "      <th>2</th>\n",
       "      <td>Business Intelligence Analyst (m/w) - Tableau ...</td>\n",
       "      <td>Data-Sci-BI</td>\n",
       "    </tr>\n",
       "    <tr>\n",
       "      <th>3</th>\n",
       "      <td>Konzeption, Customizing sowie Softwareanpassun...</td>\n",
       "      <td>Dev-Web-Backend</td>\n",
       "    </tr>\n",
       "    <tr>\n",
       "      <th>4</th>\n",
       "      <td>Es sollen mehrere Automatisierungen mit ubot S...</td>\n",
       "      <td>IT/IT</td>\n",
       "    </tr>\n",
       "  </tbody>\n",
       "</table>\n",
       "</div>"
      ],
      "text/plain": [
       "                                             project                 label\n",
       "0  Für einen unserer Kunden aus dem Finanzdienstl...  Infr-Admin-Microsoft\n",
       "1                  Kann Profil leider nicht löschen.         IT/Consulting\n",
       "2  Business Intelligence Analyst (m/w) - Tableau ...           Data-Sci-BI\n",
       "3  Konzeption, Customizing sowie Softwareanpassun...       Dev-Web-Backend\n",
       "4  Es sollen mehrere Automatisierungen mit ubot S...                 IT/IT"
      ]
     },
     "execution_count": 9,
     "metadata": {},
     "output_type": "execute_result"
    }
   ],
   "source": [
    "df = get_required_dataset(df)\n",
    "df.shape\n",
    "df.head()"
   ]
  },
  {
   "cell_type": "code",
   "execution_count": 10,
   "metadata": {
    "slideshow": {
     "slide_type": "slide"
    }
   },
   "outputs": [
    {
     "data": {
      "text/html": [
       "<div>\n",
       "<style scoped>\n",
       "    .dataframe tbody tr th:only-of-type {\n",
       "        vertical-align: middle;\n",
       "    }\n",
       "\n",
       "    .dataframe tbody tr th {\n",
       "        vertical-align: top;\n",
       "    }\n",
       "\n",
       "    .dataframe thead th {\n",
       "        text-align: right;\n",
       "    }\n",
       "</style>\n",
       "<table border=\"1\" class=\"dataframe\">\n",
       "  <thead>\n",
       "    <tr style=\"text-align: right;\">\n",
       "      <th></th>\n",
       "      <th>project</th>\n",
       "      <th>label</th>\n",
       "    </tr>\n",
       "  </thead>\n",
       "  <tbody>\n",
       "    <tr>\n",
       "      <th>0</th>\n",
       "      <td>Projektbeschreibung \\n\\n                      ...</td>\n",
       "      <td>ERP-SAP</td>\n",
       "    </tr>\n",
       "    <tr>\n",
       "      <th>1</th>\n",
       "      <td>Aufgabe: \\n* Requirement engineering Im Bereic...</td>\n",
       "      <td>Dev-Web-Fullstack</td>\n",
       "    </tr>\n",
       "    <tr>\n",
       "      <th>2</th>\n",
       "      <td>Projektbeschreibung \\n\\n                      ...</td>\n",
       "      <td>Dev-Devops</td>\n",
       "    </tr>\n",
       "    <tr>\n",
       "      <th>3</th>\n",
       "      <td>Projektbeschreibung \\n\\n                      ...</td>\n",
       "      <td>Dev-Web-Backend</td>\n",
       "    </tr>\n",
       "    <tr>\n",
       "      <th>4</th>\n",
       "      <td>Projektbeschreibung \\n\\n                      ...</td>\n",
       "      <td>IT-Admin-Others</td>\n",
       "    </tr>\n",
       "  </tbody>\n",
       "</table>\n",
       "</div>"
      ],
      "text/plain": [
       "                                             project              label\n",
       "0  Projektbeschreibung \\n\\n                      ...            ERP-SAP\n",
       "1  Aufgabe: \\n* Requirement engineering Im Bereic...  Dev-Web-Fullstack\n",
       "2  Projektbeschreibung \\n\\n                      ...         Dev-Devops\n",
       "3  Projektbeschreibung \\n\\n                      ...    Dev-Web-Backend\n",
       "4  Projektbeschreibung \\n\\n                      ...    IT-Admin-Others"
      ]
     },
     "execution_count": 10,
     "metadata": {},
     "output_type": "execute_result"
    }
   ],
   "source": [
    "# shuffle the data\n",
    "df = df.sample(frac=1.0)\n",
    "df.reset_index(drop=True,inplace=True)\n",
    "df.head()"
   ]
  },
  {
   "cell_type": "code",
   "execution_count": 11,
   "metadata": {
    "slideshow": {
     "slide_type": "slide"
    }
   },
   "outputs": [
    {
     "data": {
      "text/plain": [
       "'Projektbeschreibung \\n\\n                             \\n              Melden Sie sich jetzt an und bewerben Sie sich direkt! \\n              Jetzt bewerben \\n         \\n    \\n\\n                                Wir suchen folgenden BW Backend Berater: Start: ASAP Dauer: bis Juni ++ Verlängerung Einsatzzeitraum/-volumen: Jan-März: ca. 5 PT im Monat und ab April-Juni: ca. 10-15 PT im Monat Ort: Großraum Düsseldorf Sonstiges: es können sich gern Berater bewerben, die nicht Senior sind. Tätigkeit: • Unterstützung des SAP BW Team Qualifikation: • mind. 2 Jahre Erfahrung im SAP BW  Konnten wir Ihr Interesse wecken? Dann freuen wir uns auf die Zusendung Ihres Profils in Word auf  unter Angabe Ihrer Stundensatzvorstellung. Weitere Projekte und Infos finden Sie auch auf unserer Homepage http://www.e-min.de Wir freuen uns auf Ihre Bewerbung! \\n\\n                \\n                 \\n                                 \\n              Melden Sie sich jetzt an und bewerben Sie sich direkt! \\n              Jetzt bewerben'"
      ]
     },
     "execution_count": 11,
     "metadata": {},
     "output_type": "execute_result"
    }
   ],
   "source": [
    "df.iloc[0,0]"
   ]
  },
  {
   "cell_type": "code",
   "execution_count": 15,
   "metadata": {},
   "outputs": [],
   "source": [
    "def tokenization_data(text):\n",
    "    text = re.sub(r'(\\d)',' ',text.lower())\n",
    "    text = re.sub('[%s]' % re.escape(string.punctuation), ' ', text)\n",
    "    tokens = word_tokenize(text)\n",
    "    return tokens"
   ]
  },
  {
   "cell_type": "code",
   "execution_count": 16,
   "metadata": {},
   "outputs": [
    {
     "name": "stdout",
     "output_type": "stream",
     "text": [
      "Time taken to prepare 12130 projects documents: 0.357806928952535 min\n"
     ]
    }
   ],
   "source": [
    "# Clean text and title and create new column \"tokenized\"\n",
    "t1 = time.time()\n",
    "df['tokenized'] = df['project'].apply(tokenization_data)\n",
    "t2 = time.time()\n",
    "print(\"Time taken to prepare\", len(df), \"projects documents:\", (t2-t1)/60, \"min\")"
   ]
  },
  {
   "cell_type": "code",
   "execution_count": 17,
   "metadata": {},
   "outputs": [
    {
     "data": {
      "text/html": [
       "<div>\n",
       "<style scoped>\n",
       "    .dataframe tbody tr th:only-of-type {\n",
       "        vertical-align: middle;\n",
       "    }\n",
       "\n",
       "    .dataframe tbody tr th {\n",
       "        vertical-align: top;\n",
       "    }\n",
       "\n",
       "    .dataframe thead th {\n",
       "        text-align: right;\n",
       "    }\n",
       "</style>\n",
       "<table border=\"1\" class=\"dataframe\">\n",
       "  <thead>\n",
       "    <tr style=\"text-align: right;\">\n",
       "      <th></th>\n",
       "      <th>project</th>\n",
       "      <th>label</th>\n",
       "      <th>tokenized</th>\n",
       "    </tr>\n",
       "  </thead>\n",
       "  <tbody>\n",
       "    <tr>\n",
       "      <th>0</th>\n",
       "      <td>Projektbeschreibung \\n\\n                      ...</td>\n",
       "      <td>ERP-SAP</td>\n",
       "      <td>[projektbeschreibung, melden, sie, sich, jetzt...</td>\n",
       "    </tr>\n",
       "    <tr>\n",
       "      <th>1</th>\n",
       "      <td>Aufgabe: \\n* Requirement engineering Im Bereic...</td>\n",
       "      <td>Dev-Web-Fullstack</td>\n",
       "      <td>[aufgabe, requirement, engineering, im, bereic...</td>\n",
       "    </tr>\n",
       "    <tr>\n",
       "      <th>2</th>\n",
       "      <td>Projektbeschreibung \\n\\n                      ...</td>\n",
       "      <td>Dev-Devops</td>\n",
       "      <td>[projektbeschreibung, melden, sie, sich, jetzt...</td>\n",
       "    </tr>\n",
       "    <tr>\n",
       "      <th>3</th>\n",
       "      <td>Projektbeschreibung \\n\\n                      ...</td>\n",
       "      <td>Dev-Web-Backend</td>\n",
       "      <td>[projektbeschreibung, melden, sie, sich, jetzt...</td>\n",
       "    </tr>\n",
       "    <tr>\n",
       "      <th>4</th>\n",
       "      <td>Projektbeschreibung \\n\\n                      ...</td>\n",
       "      <td>IT-Admin-Others</td>\n",
       "      <td>[projektbeschreibung, melden, sie, sich, jetzt...</td>\n",
       "    </tr>\n",
       "  </tbody>\n",
       "</table>\n",
       "</div>"
      ],
      "text/plain": [
       "                                             project              label  \\\n",
       "0  Projektbeschreibung \\n\\n                      ...            ERP-SAP   \n",
       "1  Aufgabe: \\n* Requirement engineering Im Bereic...  Dev-Web-Fullstack   \n",
       "2  Projektbeschreibung \\n\\n                      ...         Dev-Devops   \n",
       "3  Projektbeschreibung \\n\\n                      ...    Dev-Web-Backend   \n",
       "4  Projektbeschreibung \\n\\n                      ...    IT-Admin-Others   \n",
       "\n",
       "                                           tokenized  \n",
       "0  [projektbeschreibung, melden, sie, sich, jetzt...  \n",
       "1  [aufgabe, requirement, engineering, im, bereic...  \n",
       "2  [projektbeschreibung, melden, sie, sich, jetzt...  \n",
       "3  [projektbeschreibung, melden, sie, sich, jetzt...  \n",
       "4  [projektbeschreibung, melden, sie, sich, jetzt...  "
      ]
     },
     "execution_count": 17,
     "metadata": {},
     "output_type": "execute_result"
    }
   ],
   "source": [
    "df.head()"
   ]
  },
  {
   "cell_type": "code",
   "execution_count": 18,
   "metadata": {},
   "outputs": [
    {
     "name": "stdout",
     "output_type": "stream",
     "text": [
      "['januar', 'january', 'februar', 'february', 'märz', 'march', 'april', 'mai', 'may', 'juni', 'june', 'juli', 'july', 'august', 'september', 'oktober', 'october', 'november', 'dezember', 'december']\n",
      "844\n"
     ]
    }
   ],
   "source": [
    "# load nltk's German and english stopwords'\n",
    "import nltk\n",
    "with open('../german_stopwords_full.txt', 'r') as f:\n",
    "    stopwords_germ = f.read().splitlines()\n",
    "stopwords_eng = nltk.corpus.stopwords.words('english')\n",
    "\n",
    "#german cities\n",
    "from bundeslander import Baden_Württemberg, Bayern, Berlin, Brandenburg, Bremen, Hamburg, Hessen, Mecklenburg_Vorpommern, Niedersachsen, Nordrhein_Westfalen, Rheinland_Pfalz, Saarland, Sachsen, Sachsen_Anhalt, Schleswig_Holstein, Thüringen, Ausland\n",
    "All = Baden_Württemberg + Bayern + Berlin + Brandenburg + Bremen +Hamburg + Hessen + Mecklenburg_Vorpommern + Niedersachsen + Nordrhein_Westfalen + Rheinland_Pfalz + Saarland + Sachsen + Sachsen_Anhalt + Schleswig_Holstein + Thüringen + Ausland\n",
    "cities = list(set([city.lower() for city in All]))\n",
    "\n",
    "months = ['Januar', 'January','Februar', 'February', 'März', 'March', 'April', 'Mai', 'May', 'Juni', 'June', 'Juli', \n",
    "          'July', 'August', 'September', 'Oktober', 'October', 'November', 'Dezember', 'December']\n",
    "months = [month.lower() for month in months]\n",
    "print(months)\n",
    "\n",
    "stopwords_manual = [line.rstrip('\\n') for line in open('stopwords_manual.txt')]\n",
    "print(len(stopwords_manual))"
   ]
  },
  {
   "cell_type": "code",
   "execution_count": 19,
   "metadata": {},
   "outputs": [
    {
     "data": {
      "text/plain": [
       "13240"
      ]
     },
     "execution_count": 19,
     "metadata": {},
     "output_type": "execute_result"
    }
   ],
   "source": [
    "stopwords_all = list(set(stopwords_germ + stopwords_eng + stopwords_manual + cities + months))\n",
    "len(stopwords_all)"
   ]
  },
  {
   "cell_type": "code",
   "execution_count": 20,
   "metadata": {},
   "outputs": [
    {
     "name": "stdout",
     "output_type": "stream",
     "text": [
      "844\n"
     ]
    }
   ],
   "source": [
    "stopwords_add = []\n",
    "stopwords_add = list(set(stopwords_add + stopwords_manual))\n",
    "checker = list(set(stopwords_germ + stopwords_eng + cities + months))\n",
    "stopwords_add.sort()\n",
    "with open('stopwords_manual.txt', 'w') as f:\n",
    "    for item in stopwords_add:\n",
    "        if item not in checker:\n",
    "            f.write(\"%s\\n\" % item)\n",
    "stopwords_manual = [line.rstrip('\\n') for line in open('stopwords_manual.txt')]\n",
    "print(len(stopwords_manual))"
   ]
  },
  {
   "cell_type": "code",
   "execution_count": 21,
   "metadata": {},
   "outputs": [
    {
     "data": {
      "text/plain": [
       "13240"
      ]
     },
     "execution_count": 21,
     "metadata": {},
     "output_type": "execute_result"
    }
   ],
   "source": [
    "stopwords_all = list(set(stopwords_germ + stopwords_eng + stopwords_manual + cities + months))\n",
    "len(stopwords_all)"
   ]
  },
  {
   "cell_type": "code",
   "execution_count": 22,
   "metadata": {},
   "outputs": [],
   "source": [
    "def remove_stopwords(words):\n",
    "    return [word for word in words if word not in stopwords_all]"
   ]
  },
  {
   "cell_type": "code",
   "execution_count": 24,
   "metadata": {},
   "outputs": [],
   "source": [
    "# Remove Stop Words\n",
    "df['tokenized_wo_stopwords'] = df['tokenized'].apply(remove_stopwords)"
   ]
  },
  {
   "cell_type": "code",
   "execution_count": 25,
   "metadata": {},
   "outputs": [
    {
     "data": {
      "text/html": [
       "<div>\n",
       "<style scoped>\n",
       "    .dataframe tbody tr th:only-of-type {\n",
       "        vertical-align: middle;\n",
       "    }\n",
       "\n",
       "    .dataframe tbody tr th {\n",
       "        vertical-align: top;\n",
       "    }\n",
       "\n",
       "    .dataframe thead th {\n",
       "        text-align: right;\n",
       "    }\n",
       "</style>\n",
       "<table border=\"1\" class=\"dataframe\">\n",
       "  <thead>\n",
       "    <tr style=\"text-align: right;\">\n",
       "      <th></th>\n",
       "      <th>project</th>\n",
       "      <th>label</th>\n",
       "      <th>tokenized</th>\n",
       "      <th>tokenized_wo_stopwords</th>\n",
       "    </tr>\n",
       "  </thead>\n",
       "  <tbody>\n",
       "    <tr>\n",
       "      <th>0</th>\n",
       "      <td>Projektbeschreibung \\n\\n                      ...</td>\n",
       "      <td>ERP-SAP</td>\n",
       "      <td>[projektbeschreibung, melden, sie, sich, jetzt...</td>\n",
       "      <td>[bw, backend, berater, einsatzzeitraum, volume...</td>\n",
       "    </tr>\n",
       "    <tr>\n",
       "      <th>1</th>\n",
       "      <td>Aufgabe: \\n* Requirement engineering Im Bereic...</td>\n",
       "      <td>Dev-Web-Fullstack</td>\n",
       "      <td>[aufgabe, requirement, engineering, im, bereic...</td>\n",
       "      <td>[requirement, engineering, op, integration, an...</td>\n",
       "    </tr>\n",
       "    <tr>\n",
       "      <th>2</th>\n",
       "      <td>Projektbeschreibung \\n\\n                      ...</td>\n",
       "      <td>Dev-Devops</td>\n",
       "      <td>[projektbeschreibung, melden, sie, sich, jetzt...</td>\n",
       "      <td>[devops, security, experte, w, mm, devops, sec...</td>\n",
       "    </tr>\n",
       "    <tr>\n",
       "      <th>3</th>\n",
       "      <td>Projektbeschreibung \\n\\n                      ...</td>\n",
       "      <td>Dev-Web-Backend</td>\n",
       "      <td>[projektbeschreibung, melden, sie, sich, jetzt...</td>\n",
       "      <td>[projekt, –, projektmanager, anforderung, •, b...</td>\n",
       "    </tr>\n",
       "    <tr>\n",
       "      <th>4</th>\n",
       "      <td>Projektbeschreibung \\n\\n                      ...</td>\n",
       "      <td>IT-Admin-Others</td>\n",
       "      <td>[projektbeschreibung, melden, sie, sich, jetzt...</td>\n",
       "      <td>[festangestellten, erfüllt, administrator, zus...</td>\n",
       "    </tr>\n",
       "  </tbody>\n",
       "</table>\n",
       "</div>"
      ],
      "text/plain": [
       "                                             project              label  \\\n",
       "0  Projektbeschreibung \\n\\n                      ...            ERP-SAP   \n",
       "1  Aufgabe: \\n* Requirement engineering Im Bereic...  Dev-Web-Fullstack   \n",
       "2  Projektbeschreibung \\n\\n                      ...         Dev-Devops   \n",
       "3  Projektbeschreibung \\n\\n                      ...    Dev-Web-Backend   \n",
       "4  Projektbeschreibung \\n\\n                      ...    IT-Admin-Others   \n",
       "\n",
       "                                           tokenized  \\\n",
       "0  [projektbeschreibung, melden, sie, sich, jetzt...   \n",
       "1  [aufgabe, requirement, engineering, im, bereic...   \n",
       "2  [projektbeschreibung, melden, sie, sich, jetzt...   \n",
       "3  [projektbeschreibung, melden, sie, sich, jetzt...   \n",
       "4  [projektbeschreibung, melden, sie, sich, jetzt...   \n",
       "\n",
       "                              tokenized_wo_stopwords  \n",
       "0  [bw, backend, berater, einsatzzeitraum, volume...  \n",
       "1  [requirement, engineering, op, integration, an...  \n",
       "2  [devops, security, experte, w, mm, devops, sec...  \n",
       "3  [projekt, –, projektmanager, anforderung, •, b...  \n",
       "4  [festangestellten, erfüllt, administrator, zus...  "
      ]
     },
     "execution_count": 25,
     "metadata": {},
     "output_type": "execute_result"
    }
   ],
   "source": [
    "df.head()"
   ]
  },
  {
   "cell_type": "code",
   "execution_count": 33,
   "metadata": {},
   "outputs": [],
   "source": [
    "bigram = gensim.models.Phrases(df['tokenized'].tolist(), min_count=5, threshold=50) # higher threshold fewer phrases.\n",
    "bigram_mod = gensim.models.phrases.Phraser(bigram)\n",
    "def make_bigrams(text):\n",
    "    return bigram_mod[text]"
   ]
  },
  {
   "cell_type": "code",
   "execution_count": 34,
   "metadata": {},
   "outputs": [],
   "source": [
    "# Form Bigrams\n",
    "df['tokenized_w_bigrams'] = df['tokenized_wo_stopwords'].apply(make_bigrams)"
   ]
  },
  {
   "cell_type": "code",
   "execution_count": 35,
   "metadata": {},
   "outputs": [
    {
     "data": {
      "text/html": [
       "<div>\n",
       "<style scoped>\n",
       "    .dataframe tbody tr th:only-of-type {\n",
       "        vertical-align: middle;\n",
       "    }\n",
       "\n",
       "    .dataframe tbody tr th {\n",
       "        vertical-align: top;\n",
       "    }\n",
       "\n",
       "    .dataframe thead th {\n",
       "        text-align: right;\n",
       "    }\n",
       "</style>\n",
       "<table border=\"1\" class=\"dataframe\">\n",
       "  <thead>\n",
       "    <tr style=\"text-align: right;\">\n",
       "      <th></th>\n",
       "      <th>project</th>\n",
       "      <th>label</th>\n",
       "      <th>tokenized</th>\n",
       "      <th>tokenized_wo_stopwords</th>\n",
       "      <th>tokenized_w_bigrams</th>\n",
       "    </tr>\n",
       "  </thead>\n",
       "  <tbody>\n",
       "    <tr>\n",
       "      <th>0</th>\n",
       "      <td>Projektbeschreibung \\n\\n                      ...</td>\n",
       "      <td>ERP-SAP</td>\n",
       "      <td>[projektbeschreibung, melden, sie, sich, jetzt...</td>\n",
       "      <td>[bw, backend, berater, einsatzzeitraum, volume...</td>\n",
       "      <td>[bw, backend, berater, einsatzzeitraum, volume...</td>\n",
       "    </tr>\n",
       "    <tr>\n",
       "      <th>1</th>\n",
       "      <td>Aufgabe: \\n* Requirement engineering Im Bereic...</td>\n",
       "      <td>Dev-Web-Fullstack</td>\n",
       "      <td>[aufgabe, requirement, engineering, im, bereic...</td>\n",
       "      <td>[requirement, engineering, op, integration, an...</td>\n",
       "      <td>[requirement, engineering, op, integration, an...</td>\n",
       "    </tr>\n",
       "    <tr>\n",
       "      <th>2</th>\n",
       "      <td>Projektbeschreibung \\n\\n                      ...</td>\n",
       "      <td>Dev-Devops</td>\n",
       "      <td>[projektbeschreibung, melden, sie, sich, jetzt...</td>\n",
       "      <td>[devops, security, experte, w, mm, devops, sec...</td>\n",
       "      <td>[devops, security, experte, w, mm, devops, sec...</td>\n",
       "    </tr>\n",
       "    <tr>\n",
       "      <th>3</th>\n",
       "      <td>Projektbeschreibung \\n\\n                      ...</td>\n",
       "      <td>Dev-Web-Backend</td>\n",
       "      <td>[projektbeschreibung, melden, sie, sich, jetzt...</td>\n",
       "      <td>[projekt, –, projektmanager, anforderung, •, b...</td>\n",
       "      <td>[projekt, –, projektmanager, anforderung, •, b...</td>\n",
       "    </tr>\n",
       "    <tr>\n",
       "      <th>4</th>\n",
       "      <td>Projektbeschreibung \\n\\n                      ...</td>\n",
       "      <td>IT-Admin-Others</td>\n",
       "      <td>[projektbeschreibung, melden, sie, sich, jetzt...</td>\n",
       "      <td>[festangestellten, erfüllt, administrator, zus...</td>\n",
       "      <td>[festangestellten, erfüllt, administrator, zus...</td>\n",
       "    </tr>\n",
       "  </tbody>\n",
       "</table>\n",
       "</div>"
      ],
      "text/plain": [
       "                                             project              label  \\\n",
       "0  Projektbeschreibung \\n\\n                      ...            ERP-SAP   \n",
       "1  Aufgabe: \\n* Requirement engineering Im Bereic...  Dev-Web-Fullstack   \n",
       "2  Projektbeschreibung \\n\\n                      ...         Dev-Devops   \n",
       "3  Projektbeschreibung \\n\\n                      ...    Dev-Web-Backend   \n",
       "4  Projektbeschreibung \\n\\n                      ...    IT-Admin-Others   \n",
       "\n",
       "                                           tokenized  \\\n",
       "0  [projektbeschreibung, melden, sie, sich, jetzt...   \n",
       "1  [aufgabe, requirement, engineering, im, bereic...   \n",
       "2  [projektbeschreibung, melden, sie, sich, jetzt...   \n",
       "3  [projektbeschreibung, melden, sie, sich, jetzt...   \n",
       "4  [projektbeschreibung, melden, sie, sich, jetzt...   \n",
       "\n",
       "                              tokenized_wo_stopwords  \\\n",
       "0  [bw, backend, berater, einsatzzeitraum, volume...   \n",
       "1  [requirement, engineering, op, integration, an...   \n",
       "2  [devops, security, experte, w, mm, devops, sec...   \n",
       "3  [projekt, –, projektmanager, anforderung, •, b...   \n",
       "4  [festangestellten, erfüllt, administrator, zus...   \n",
       "\n",
       "                                 tokenized_w_bigrams  \n",
       "0  [bw, backend, berater, einsatzzeitraum, volume...  \n",
       "1  [requirement, engineering, op, integration, an...  \n",
       "2  [devops, security, experte, w, mm, devops, sec...  \n",
       "3  [projekt, –, projektmanager, anforderung, •, b...  \n",
       "4  [festangestellten, erfüllt, administrator, zus...  "
      ]
     },
     "execution_count": 35,
     "metadata": {},
     "output_type": "execute_result"
    }
   ],
   "source": [
    "df.head()"
   ]
  },
  {
   "cell_type": "code",
   "execution_count": 37,
   "metadata": {},
   "outputs": [
    {
     "name": "stdout",
     "output_type": "stream",
     "text": [
      "3167\n"
     ]
    }
   ],
   "source": [
    "# Obtain all bigrams\n",
    "all_lines = df['tokenized_w_bigrams'].tolist()\n",
    "all_bigrams = list(set([word for words in all_lines for word in words if '_' in word]))\n",
    "all_bigrams.sort()\n",
    "print(len(all_bigrams))"
   ]
  },
  {
   "cell_type": "code",
   "execution_count": 38,
   "metadata": {},
   "outputs": [],
   "source": [
    "with open('all_bigrams_Approach_2.txt', 'w') as f:\n",
    "    for item in all_bigrams:\n",
    "        f.write(\"%s\\n\" % item)"
   ]
  },
  {
   "cell_type": "code",
   "execution_count": 39,
   "metadata": {},
   "outputs": [
    {
     "name": "stdout",
     "output_type": "stream",
     "text": [
      "3167\n"
     ]
    }
   ],
   "source": [
    "reduced_bigrams = []\n",
    "for bigram in all_bigrams:\n",
    "    grams = bigram.split(\"_\")\n",
    "    if grams[0] not in stopwords_all and grams[1] not in stopwords_all:\n",
    "        reduced_bigrams.append(bigram)\n",
    "print(len(reduced_bigrams))"
   ]
  },
  {
   "cell_type": "code",
   "execution_count": null,
   "metadata": {},
   "outputs": [],
   "source": [
    "with open('all_bigrams_reduced_Approach_2.txt', 'w') as f:\n",
    "    for item in reduced_bigrams:\n",
    "        f.write(\"%s\\n\" % item)"
   ]
  }
 ],
 "metadata": {
  "kernelspec": {
   "display_name": "Python 3",
   "language": "python",
   "name": "python3"
  },
  "language_info": {
   "codemirror_mode": {
    "name": "ipython",
    "version": 3
   },
   "file_extension": ".py",
   "mimetype": "text/x-python",
   "name": "python",
   "nbconvert_exporter": "python",
   "pygments_lexer": "ipython3",
   "version": "3.7.1"
  }
 },
 "nbformat": 4,
 "nbformat_minor": 2
}
