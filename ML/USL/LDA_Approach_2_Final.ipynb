{
 "cells": [
  {
   "cell_type": "markdown",
   "metadata": {},
   "source": [
    "# DOCUMENTATION"
   ]
  },
  {
   "cell_type": "markdown",
   "metadata": {},
   "source": [
    "1. Import relevant libraries\n",
    "2. Set current directory as the working directory\n",
    "2. Obtain the details for retrieving and storing the data\n",
    "3. Get the dataset from mongoDB database and store it as a pandas dataframe. <br/>\n",
    "4. Reduce the orginial dataframe by removing the columns which are not needed for Topic Modelling. Currently we are considering only the area and the description of the project as the columns in our dataframe. \n",
    "5. Load the stopwords and the stemmer\n",
    "6. Tokenize and Stem the description data present in the dataframe.\n",
    "7. Generate bigrams from the tokenized and stemmed data (keep threshold very low)\n",
    "8. Remove the samples which have less than 10 tokens from further analysis\n",
    "9. Split the original dataset into training and test dataset\n",
    "10. Generate a LDA model on the training dataset"
   ]
  },
  {
   "cell_type": "markdown",
   "metadata": {},
   "source": [
    "### Importing all the relevant libraries "
   ]
  },
  {
   "cell_type": "code",
   "execution_count": 1,
   "metadata": {},
   "outputs": [],
   "source": [
    "import pandas as pd\n",
    "import numpy as np\n",
    "import nltk\n",
    "from nltk.corpus import stopwords\n",
    "import gensim\n",
    "from gensim.models import LdaModel\n",
    "from gensim import models, corpora, similarities\n",
    "import re\n",
    "import time\n",
    "from nltk import FreqDist\n",
    "from scipy.stats import entropy\n",
    "import matplotlib.pyplot as plt\n",
    "import seaborn as sns\n",
    "from pymongo import MongoClient\n",
    "from nltk.tokenize import word_tokenize\n",
    "import pickle\n",
    "import string\n",
    "from string import punctuation\n",
    "import os\n",
    "%matplotlib inline\n",
    "sns.set_style(\"darkgrid\")"
   ]
  },
  {
   "cell_type": "markdown",
   "metadata": {},
   "source": [
    "### Set the current directory where this notebook is present as working Directory"
   ]
  },
  {
   "cell_type": "code",
   "execution_count": 2,
   "metadata": {},
   "outputs": [
    {
     "name": "stdout",
     "output_type": "stream",
     "text": [
      "Current directory is: /opt/jupyter/Icxa/projectfinder_analytics/ML/USL\n"
     ]
    }
   ],
   "source": [
    "currDir = os.getcwd()\n",
    "if \"USL\" not in currDir:\n",
    "    os.chdir(os.path.join(currDir,  \"ML\", \"USL\"))\n",
    "print(\"Current directory is: \" + currDir)"
   ]
  },
  {
   "cell_type": "markdown",
   "metadata": {},
   "source": [
    "### Database details for retrieving dataset and storing the dataset"
   ]
  },
  {
   "cell_type": "code",
   "execution_count": 3,
   "metadata": {},
   "outputs": [],
   "source": [
    "#Details for retrieving  data from projectfinder\n",
    "db_loc = {\n",
    "    'ip' :'10.10.250.0',\n",
    "    'port' : 27017,\n",
    "    'database' : 'projectfinder',\n",
    "    'collection' : 'itproject_clean'\n",
    "}"
   ]
  },
  {
   "cell_type": "code",
   "execution_count": 4,
   "metadata": {
    "lines_to_next_cell": 0
   },
   "outputs": [],
   "source": [
    "#Details for storing data related to projectfinder\n",
    "db_data = {\n",
    "    'ip' :'10.10.250.0',\n",
    "    'port' : 27017,\n",
    "    'database' : 'projectfinder',\n",
    "    'collection' : 'mldata1'\n",
    "}\n",
    "\n",
    "#%%[markdown]\n",
    "#Methods for loading the dataset"
   ]
  },
  {
   "cell_type": "markdown",
   "metadata": {},
   "source": [
    "### Load the dataset from MongoDB as a pandas dataframe "
   ]
  },
  {
   "cell_type": "code",
   "execution_count": 5,
   "metadata": {},
   "outputs": [
    {
     "name": "stdout",
     "output_type": "stream",
     "text": [
      "Data loaded from mongodb itproject_clean collection succesfully\n"
     ]
    },
    {
     "data": {
      "text/plain": [
       "(14059, 25)"
      ]
     },
     "execution_count": 5,
     "metadata": {},
     "output_type": "execute_result"
    }
   ],
   "source": [
    "from script_files import load_save_dataset as load_save_DS\n",
    "df_raw = load_save_DS.load_dataset_from_mongodb(db_loc)\n",
    "df_raw.shape"
   ]
  },
  {
   "cell_type": "markdown",
   "metadata": {},
   "source": [
    "### Reduce raw dataset to columns relevant for analysis"
   ]
  },
  {
   "cell_type": "code",
   "execution_count": 6,
   "metadata": {
    "lines_to_next_cell": 1
   },
   "outputs": [],
   "source": [
    "def get_required_dataset(original_dataset):\n",
    "    \n",
    "    #Select required colunms\n",
    "    df = original_dataset[['description', 'bereich']]\n",
    "    \n",
    "    #Remove the rows which have no information in the description field/column\n",
    "    df = df[df['description'] != '']\n",
    "    \n",
    "    #Rename the columns\n",
    "    df = df.rename(columns = {\"description\" : \"project\", \"bereich\" : \"label\"})\n",
    "    \n",
    "    #Remove rows containing labels with very low frequency\n",
    "    df = df[df['label'] != 'IT/Bauingenieur']\n",
    "    \n",
    "    #Remove duplicates\n",
    "    df = df.drop_duplicates()\n",
    "    \n",
    "    #Shuffle the dataset\n",
    "    df = df.sample(frac=1.0)\n",
    "    df.reset_index(drop=True,inplace=True)\n",
    "    \n",
    "    return df"
   ]
  },
  {
   "cell_type": "code",
   "execution_count": 7,
   "metadata": {},
   "outputs": [
    {
     "data": {
      "text/html": [
       "<div>\n",
       "<style scoped>\n",
       "    .dataframe tbody tr th:only-of-type {\n",
       "        vertical-align: middle;\n",
       "    }\n",
       "\n",
       "    .dataframe tbody tr th {\n",
       "        vertical-align: top;\n",
       "    }\n",
       "\n",
       "    .dataframe thead th {\n",
       "        text-align: right;\n",
       "    }\n",
       "</style>\n",
       "<table border=\"1\" class=\"dataframe\">\n",
       "  <thead>\n",
       "    <tr style=\"text-align: right;\">\n",
       "      <th></th>\n",
       "      <th>project</th>\n",
       "      <th>label</th>\n",
       "    </tr>\n",
       "  </thead>\n",
       "  <tbody>\n",
       "    <tr>\n",
       "      <th>0</th>\n",
       "      <td>Projektbeschreibung \\n\\n                      ...</td>\n",
       "      <td>Dev-Web-Backend</td>\n",
       "    </tr>\n",
       "    <tr>\n",
       "      <th>1</th>\n",
       "      <td>Aufgabe: \\n* Leitung von Investitions- und Opt...</td>\n",
       "      <td>IT/Mess- / Rege</td>\n",
       "    </tr>\n",
       "    <tr>\n",
       "      <th>2</th>\n",
       "      <td>Projektbeschreibung \\n\\n                      ...</td>\n",
       "      <td>IT-Security</td>\n",
       "    </tr>\n",
       "    <tr>\n",
       "      <th>3</th>\n",
       "      <td>Als Weltmarktführer für Qualität stehen wir se...</td>\n",
       "      <td>IT/Konstruktion</td>\n",
       "    </tr>\n",
       "    <tr>\n",
       "      <th>4</th>\n",
       "      <td>Projektbeschreibung \\n\\n                      ...</td>\n",
       "      <td>Data-Sci-BI</td>\n",
       "    </tr>\n",
       "  </tbody>\n",
       "</table>\n",
       "</div>"
      ],
      "text/plain": [
       "                                             project            label\n",
       "0  Projektbeschreibung \\n\\n                      ...  Dev-Web-Backend\n",
       "1  Aufgabe: \\n* Leitung von Investitions- und Opt...  IT/Mess- / Rege\n",
       "2  Projektbeschreibung \\n\\n                      ...      IT-Security\n",
       "3  Als Weltmarktführer für Qualität stehen wir se...  IT/Konstruktion\n",
       "4  Projektbeschreibung \\n\\n                      ...      Data-Sci-BI"
      ]
     },
     "execution_count": 7,
     "metadata": {},
     "output_type": "execute_result"
    }
   ],
   "source": [
    "df_preprocessed = get_required_dataset(df_raw)\n",
    "df_preprocessed.shape\n",
    "df_preprocessed.head()"
   ]
  },
  {
   "cell_type": "code",
   "execution_count": 8,
   "metadata": {
    "lines_to_next_cell": 2
   },
   "outputs": [
    {
     "data": {
      "text/plain": [
       "'Projektbeschreibung \\n\\n                             \\n              Melden Sie sich jetzt an und bewerben Sie sich direkt! \\n              Jetzt bewerben \\n         \\n    \\n\\n                                Wir sind aktuell auf der Suche nach Unterstützung für unseren Kunden. Einsatzort: Hamburg oder Berlin, ggf. remote möglich Start: asap, Laufzeit 1-2 Jahre.  Es soll eine (Java) Applikationslandschaft auf einen halbwegs aktuellen Stand zmigriert werden (Maven, Git, Spring) und die bestehende Lösung zu vereinfachen. REST, Web, Cloud usw. spielt keine große Rolle. Perspektivisch wird es auch darum gehen die bestehenden Server in Docker Containern zu betreiben. Das ist aber eher mittel bis langfristig. Die Landschaft selbst besteht aus verschiedenen Komponenten, überwiegend selbstgeschriebene Java Lösungen, die auf Spring aufsetzen. Es handelt sich um klassische 3 Schichten Architekturen, mit Rich-Clients. Die Server werden in TomCats gehostet. Es wäre wichtig, dass es sich um jemanden handelt der die Gesamtheit einer Applikationslandschaft im Blick halten kann, also auch build, deployment, tests usw.  Ich freue mich auf Ihre Bewerbung! \\n\\n                \\n                 \\n                                 \\n              Melden Sie sich jetzt an und bewerben Sie sich direkt! \\n              Jetzt bewerben'"
      ]
     },
     "execution_count": 8,
     "metadata": {},
     "output_type": "execute_result"
    }
   ],
   "source": [
    "df_preprocessed.iloc[0,0]"
   ]
  },
  {
   "cell_type": "markdown",
   "metadata": {},
   "source": [
    "### Loading stopwords and stemmer "
   ]
  },
  {
   "cell_type": "code",
   "execution_count": 9,
   "metadata": {},
   "outputs": [],
   "source": [
    "dataDir = os.path.join(currDir,  \"constants\")\n",
    "stopwordsLocation = os.path.join(dataDir, \"stopwords.pickle\")\n",
    "pickle_in = open(stopwordsLocation,\"rb\")\n",
    "stopwords_all = pickle.load(pickle_in)"
   ]
  },
  {
   "cell_type": "code",
   "execution_count": 10,
   "metadata": {},
   "outputs": [
    {
     "name": "stdout",
     "output_type": "stream",
     "text": [
      "13242\n"
     ]
    }
   ],
   "source": [
    "print(len(stopwords_all))"
   ]
  },
  {
   "cell_type": "code",
   "execution_count": 11,
   "metadata": {},
   "outputs": [],
   "source": [
    "stemmerLocation = os.path.join(dataDir, \"stemmer_own.pickle\")\n",
    "pickle_in = open(stemmerLocation,\"rb\")\n",
    "stemmer_own = pickle.load(pickle_in)"
   ]
  },
  {
   "cell_type": "markdown",
   "metadata": {},
   "source": [
    "### Perform tokenization, stemming on the text"
   ]
  },
  {
   "cell_type": "code",
   "execution_count": 12,
   "metadata": {},
   "outputs": [],
   "source": [
    "def text_processing(text):\n",
    "    \"\"\"Normalize, tokenize, stem the original text string\n",
    "    \n",
    "    Args:\n",
    "    text: string. String containing message for processing\n",
    "       \n",
    "    Returns:\n",
    "    cleaned: list of strings. List containing normalized and stemmed word tokens with bigrams\n",
    "    \"\"\"\n",
    "\n",
    "    try:\n",
    "        text = re.sub(r'(\\d)',' ',text.lower())\n",
    "        text = re.sub('[%s]' % re.escape(string.punctuation), ' ', text)\n",
    "        tokens = word_tokenize(text)\n",
    "        tokens_cleaned = [word for word in tokens if word not in stopwords_all and len(word) > 1]\n",
    "        \n",
    "        stemmed_tokens = []\n",
    "        stemmer_keys = list(stemmer_own.keys())\n",
    "        for word in tokens_cleaned:\n",
    "            for stemmer_key in stemmer_keys:\n",
    "                if stemmer_key in word:\n",
    "                    stemmed_word = stemmer_own[stemmer_key]\n",
    "                    stemmed_tokens.append(stemmed_word)\n",
    "                    break\n",
    "            else:\n",
    "                stemmed_tokens.append(word)\n",
    "  \n",
    "                \n",
    "\n",
    "    except IndexError:\n",
    "        pass\n",
    "\n",
    "    return stemmed_tokens"
   ]
  },
  {
   "cell_type": "code",
   "execution_count": 13,
   "metadata": {},
   "outputs": [],
   "source": [
    "# Clean text and title and create new column \"tokenized\"\n",
    "t1 = time.time()\n",
    "df_preprocessed['token_stem_spRm'] = df_preprocessed['project'].apply(text_processing)\n",
    "t2 = time.time()"
   ]
  },
  {
   "cell_type": "code",
   "execution_count": 14,
   "metadata": {},
   "outputs": [
    {
     "name": "stdout",
     "output_type": "stream",
     "text": [
      "Time taken to prepare 12168 projects documents: 7.387639574209849 min\n"
     ]
    }
   ],
   "source": [
    "print(\"Time taken to prepare\", len(df_preprocessed), \"projects documents:\", (t2-t1)/60, \"min\")"
   ]
  },
  {
   "cell_type": "code",
   "execution_count": 15,
   "metadata": {},
   "outputs": [
    {
     "data": {
      "text/html": [
       "<div>\n",
       "<style scoped>\n",
       "    .dataframe tbody tr th:only-of-type {\n",
       "        vertical-align: middle;\n",
       "    }\n",
       "\n",
       "    .dataframe tbody tr th {\n",
       "        vertical-align: top;\n",
       "    }\n",
       "\n",
       "    .dataframe thead th {\n",
       "        text-align: right;\n",
       "    }\n",
       "</style>\n",
       "<table border=\"1\" class=\"dataframe\">\n",
       "  <thead>\n",
       "    <tr style=\"text-align: right;\">\n",
       "      <th></th>\n",
       "      <th>project</th>\n",
       "      <th>label</th>\n",
       "      <th>token_stem_spRm</th>\n",
       "    </tr>\n",
       "  </thead>\n",
       "  <tbody>\n",
       "    <tr>\n",
       "      <th>0</th>\n",
       "      <td>Projektbeschreibung \\n\\n                      ...</td>\n",
       "      <td>Dev-Web-Backend</td>\n",
       "      <td>[java, application, halbwegs, stand, zmigriert...</td>\n",
       "    </tr>\n",
       "    <tr>\n",
       "      <th>1</th>\n",
       "      <td>Aufgabe: \\n* Leitung von Investitions- und Opt...</td>\n",
       "      <td>IT/Mess- / Rege</td>\n",
       "      <td>[leitung, investitions, optimierungsprojekten,...</td>\n",
       "    </tr>\n",
       "    <tr>\n",
       "      <th>2</th>\n",
       "      <td>Projektbeschreibung \\n\\n                      ...</td>\n",
       "      <td>IT-Security</td>\n",
       "      <td>[cyber, security, berater, successful, entwick...</td>\n",
       "    </tr>\n",
       "    <tr>\n",
       "      <th>3</th>\n",
       "      <td>Als Weltmarktführer für Qualität stehen wir se...</td>\n",
       "      <td>IT/Konstruktion</td>\n",
       "      <td>[weltmarktführer, qualität, inspektionen, veri...</td>\n",
       "    </tr>\n",
       "    <tr>\n",
       "      <th>4</th>\n",
       "      <td>Projektbeschreibung \\n\\n                      ...</td>\n",
       "      <td>Data-Sci-BI</td>\n",
       "      <td>[zunehmend, tech, support, harvey, nash, deuts...</td>\n",
       "    </tr>\n",
       "  </tbody>\n",
       "</table>\n",
       "</div>"
      ],
      "text/plain": [
       "                                             project            label  \\\n",
       "0  Projektbeschreibung \\n\\n                      ...  Dev-Web-Backend   \n",
       "1  Aufgabe: \\n* Leitung von Investitions- und Opt...  IT/Mess- / Rege   \n",
       "2  Projektbeschreibung \\n\\n                      ...      IT-Security   \n",
       "3  Als Weltmarktführer für Qualität stehen wir se...  IT/Konstruktion   \n",
       "4  Projektbeschreibung \\n\\n                      ...      Data-Sci-BI   \n",
       "\n",
       "                                     token_stem_spRm  \n",
       "0  [java, application, halbwegs, stand, zmigriert...  \n",
       "1  [leitung, investitions, optimierungsprojekten,...  \n",
       "2  [cyber, security, berater, successful, entwick...  \n",
       "3  [weltmarktführer, qualität, inspektionen, veri...  \n",
       "4  [zunehmend, tech, support, harvey, nash, deuts...  "
      ]
     },
     "execution_count": 15,
     "metadata": {},
     "output_type": "execute_result"
    }
   ],
   "source": [
    "df_preprocessed.head()"
   ]
  },
  {
   "cell_type": "markdown",
   "metadata": {},
   "source": [
    "### Make bigrams"
   ]
  },
  {
   "cell_type": "code",
   "execution_count": 16,
   "metadata": {},
   "outputs": [],
   "source": [
    "bigram = gensim.models.Phrases(df_preprocessed['token_stem_spRm'].tolist(), min_count=2, threshold=2) # higher threshold fewer phrases.\n",
    "bigram_mod = gensim.models.phrases.Phraser(bigram)\n",
    "def make_bigrams(text):\n",
    "    return bigram_mod[text]"
   ]
  },
  {
   "cell_type": "code",
   "execution_count": 17,
   "metadata": {},
   "outputs": [],
   "source": [
    "df_preprocessed['token_stem_spRm_bigram'] = df_preprocessed['token_stem_spRm'].apply(make_bigrams)"
   ]
  },
  {
   "cell_type": "code",
   "execution_count": 18,
   "metadata": {},
   "outputs": [
    {
     "data": {
      "text/html": [
       "<div>\n",
       "<style scoped>\n",
       "    .dataframe tbody tr th:only-of-type {\n",
       "        vertical-align: middle;\n",
       "    }\n",
       "\n",
       "    .dataframe tbody tr th {\n",
       "        vertical-align: top;\n",
       "    }\n",
       "\n",
       "    .dataframe thead th {\n",
       "        text-align: right;\n",
       "    }\n",
       "</style>\n",
       "<table border=\"1\" class=\"dataframe\">\n",
       "  <thead>\n",
       "    <tr style=\"text-align: right;\">\n",
       "      <th></th>\n",
       "      <th>project</th>\n",
       "      <th>label</th>\n",
       "      <th>token_stem_spRm</th>\n",
       "      <th>token_stem_spRm_bigram</th>\n",
       "    </tr>\n",
       "  </thead>\n",
       "  <tbody>\n",
       "    <tr>\n",
       "      <th>0</th>\n",
       "      <td>Projektbeschreibung \\n\\n                      ...</td>\n",
       "      <td>Dev-Web-Backend</td>\n",
       "      <td>[java, application, halbwegs, stand, zmigriert...</td>\n",
       "      <td>[java, application, halbwegs, stand, zmigriert...</td>\n",
       "    </tr>\n",
       "    <tr>\n",
       "      <th>1</th>\n",
       "      <td>Aufgabe: \\n* Leitung von Investitions- und Opt...</td>\n",
       "      <td>IT/Mess- / Rege</td>\n",
       "      <td>[leitung, investitions, optimierungsprojekten,...</td>\n",
       "      <td>[leitung, investitions, optimierungsprojekten,...</td>\n",
       "    </tr>\n",
       "    <tr>\n",
       "      <th>2</th>\n",
       "      <td>Projektbeschreibung \\n\\n                      ...</td>\n",
       "      <td>IT-Security</td>\n",
       "      <td>[cyber, security, berater, successful, entwick...</td>\n",
       "      <td>[cyber_security, berater_successful, entwicklu...</td>\n",
       "    </tr>\n",
       "    <tr>\n",
       "      <th>3</th>\n",
       "      <td>Als Weltmarktführer für Qualität stehen wir se...</td>\n",
       "      <td>IT/Konstruktion</td>\n",
       "      <td>[weltmarktführer, qualität, inspektionen, veri...</td>\n",
       "      <td>[weltmarktführer, qualität, inspektionen, veri...</td>\n",
       "    </tr>\n",
       "    <tr>\n",
       "      <th>4</th>\n",
       "      <td>Projektbeschreibung \\n\\n                      ...</td>\n",
       "      <td>Data-Sci-BI</td>\n",
       "      <td>[zunehmend, tech, support, harvey, nash, deuts...</td>\n",
       "      <td>[zunehmend_tech, support_harvey, nash_deutschl...</td>\n",
       "    </tr>\n",
       "  </tbody>\n",
       "</table>\n",
       "</div>"
      ],
      "text/plain": [
       "                                             project            label  \\\n",
       "0  Projektbeschreibung \\n\\n                      ...  Dev-Web-Backend   \n",
       "1  Aufgabe: \\n* Leitung von Investitions- und Opt...  IT/Mess- / Rege   \n",
       "2  Projektbeschreibung \\n\\n                      ...      IT-Security   \n",
       "3  Als Weltmarktführer für Qualität stehen wir se...  IT/Konstruktion   \n",
       "4  Projektbeschreibung \\n\\n                      ...      Data-Sci-BI   \n",
       "\n",
       "                                     token_stem_spRm  \\\n",
       "0  [java, application, halbwegs, stand, zmigriert...   \n",
       "1  [leitung, investitions, optimierungsprojekten,...   \n",
       "2  [cyber, security, berater, successful, entwick...   \n",
       "3  [weltmarktführer, qualität, inspektionen, veri...   \n",
       "4  [zunehmend, tech, support, harvey, nash, deuts...   \n",
       "\n",
       "                              token_stem_spRm_bigram  \n",
       "0  [java, application, halbwegs, stand, zmigriert...  \n",
       "1  [leitung, investitions, optimierungsprojekten,...  \n",
       "2  [cyber_security, berater_successful, entwicklu...  \n",
       "3  [weltmarktführer, qualität, inspektionen, veri...  \n",
       "4  [zunehmend_tech, support_harvey, nash_deutschl...  "
      ]
     },
     "execution_count": 18,
     "metadata": {},
     "output_type": "execute_result"
    }
   ],
   "source": [
    "df_preprocessed.head()"
   ]
  },
  {
   "cell_type": "code",
   "execution_count": 19,
   "metadata": {},
   "outputs": [
    {
     "data": {
      "text/plain": [
       "['cyber_security',\n",
       " 'berater_successful',\n",
       " 'entwicklung',\n",
       " 'deliver',\n",
       " 'key',\n",
       " 'components',\n",
       " 'isms',\n",
       " 'areas',\n",
       " 'risk_assessment',\n",
       " 'method',\n",
       " 'risk',\n",
       " 'treatment',\n",
       " 'plans',\n",
       " 'statement',\n",
       " 'application',\n",
       " 'initial',\n",
       " 'immediate',\n",
       " 'evidence',\n",
       " 'significant',\n",
       " 'deep',\n",
       " 'security',\n",
       " 'security',\n",
       " 'disciplines',\n",
       " 'leadership',\n",
       " 'risk_assessment',\n",
       " 'risk_management',\n",
       " 'iso_iec',\n",
       " 'proven',\n",
       " 'tracked',\n",
       " 'record',\n",
       " 'providing',\n",
       " 'security',\n",
       " 'documentation',\n",
       " 'transparent',\n",
       " 'collaborative',\n",
       " 'making',\n",
       " 'decisions',\n",
       " 'ideal',\n",
       " 'possibility',\n",
       " 'initial_period',\n",
       " 'weeks',\n",
       " 'ideally',\n",
       " 'interpersonal',\n",
       " 'ambitious',\n",
       " 'enjoy',\n",
       " 'solving_complex',\n",
       " 'security',\n",
       " 'problems',\n",
       " 'directly']"
      ]
     },
     "execution_count": 19,
     "metadata": {},
     "output_type": "execute_result"
    }
   ],
   "source": [
    "df_preprocessed.iloc[2,3]"
   ]
  },
  {
   "cell_type": "code",
   "execution_count": 20,
   "metadata": {},
   "outputs": [],
   "source": [
    "outputDir = os.path.join(currDir,  \"output\", \"Approach_2\")\n",
    "if not os.path.exists(outputDir):\n",
    "    os.makedirs(outputDir)"
   ]
  },
  {
   "cell_type": "code",
   "execution_count": 21,
   "metadata": {},
   "outputs": [],
   "source": [
    "df_prepro_Loc = os.path.join(outputDir,  \"df_preprocessed.pickle\")\n",
    "pickle_out = open(df_prepro_Loc,\"wb\")\n",
    "pickle.dump(df_preprocessed, pickle_out)\n",
    "pickle_out.close()"
   ]
  },
  {
   "cell_type": "code",
   "execution_count": 22,
   "metadata": {},
   "outputs": [
    {
     "data": {
      "text/html": [
       "<div>\n",
       "<style scoped>\n",
       "    .dataframe tbody tr th:only-of-type {\n",
       "        vertical-align: middle;\n",
       "    }\n",
       "\n",
       "    .dataframe tbody tr th {\n",
       "        vertical-align: top;\n",
       "    }\n",
       "\n",
       "    .dataframe thead th {\n",
       "        text-align: right;\n",
       "    }\n",
       "</style>\n",
       "<table border=\"1\" class=\"dataframe\">\n",
       "  <thead>\n",
       "    <tr style=\"text-align: right;\">\n",
       "      <th></th>\n",
       "      <th>project</th>\n",
       "      <th>label</th>\n",
       "      <th>token_stem_spRm</th>\n",
       "      <th>token_stem_spRm_bigram</th>\n",
       "    </tr>\n",
       "  </thead>\n",
       "  <tbody>\n",
       "    <tr>\n",
       "      <th>0</th>\n",
       "      <td>Projektbeschreibung \\n\\n                      ...</td>\n",
       "      <td>Dev-Web-Backend</td>\n",
       "      <td>[java, application, halbwegs, stand, zmigriert...</td>\n",
       "      <td>[java, application, halbwegs, stand, zmigriert...</td>\n",
       "    </tr>\n",
       "    <tr>\n",
       "      <th>1</th>\n",
       "      <td>Aufgabe: \\n* Leitung von Investitions- und Opt...</td>\n",
       "      <td>IT/Mess- / Rege</td>\n",
       "      <td>[leitung, investitions, optimierungsprojekten,...</td>\n",
       "      <td>[leitung, investitions, optimierungsprojekten,...</td>\n",
       "    </tr>\n",
       "    <tr>\n",
       "      <th>2</th>\n",
       "      <td>Projektbeschreibung \\n\\n                      ...</td>\n",
       "      <td>IT-Security</td>\n",
       "      <td>[cyber, security, berater, successful, entwick...</td>\n",
       "      <td>[cyber_security, berater_successful, entwicklu...</td>\n",
       "    </tr>\n",
       "    <tr>\n",
       "      <th>3</th>\n",
       "      <td>Als Weltmarktführer für Qualität stehen wir se...</td>\n",
       "      <td>IT/Konstruktion</td>\n",
       "      <td>[weltmarktführer, qualität, inspektionen, veri...</td>\n",
       "      <td>[weltmarktführer, qualität, inspektionen, veri...</td>\n",
       "    </tr>\n",
       "    <tr>\n",
       "      <th>4</th>\n",
       "      <td>Projektbeschreibung \\n\\n                      ...</td>\n",
       "      <td>Data-Sci-BI</td>\n",
       "      <td>[zunehmend, tech, support, harvey, nash, deuts...</td>\n",
       "      <td>[zunehmend_tech, support_harvey, nash_deutschl...</td>\n",
       "    </tr>\n",
       "    <tr>\n",
       "      <th>5</th>\n",
       "      <td>Aktuell sind wir für unseren Endkunden auf der...</td>\n",
       "      <td>IT-Mgmt-Consulting</td>\n",
       "      <td>[coventry, offsite, sprachanforderung, account...</td>\n",
       "      <td>[coventry_offsite, sprachanforderung_accountab...</td>\n",
       "    </tr>\n",
       "    <tr>\n",
       "      <th>6</th>\n",
       "      <td>Gesamtprojektleiter Steuergerätentwicklung (M/...</td>\n",
       "      <td>IT-Mgmt-Projectleiter</td>\n",
       "      <td>[gesamtprojektleiter, entwicklung, –norddeutsc...</td>\n",
       "      <td>[gesamtprojektleiter, entwicklung, –norddeutsc...</td>\n",
       "    </tr>\n",
       "    <tr>\n",
       "      <th>7</th>\n",
       "      <td>- Visualisierung mit Wonderware InTouch \\n- Vi...</td>\n",
       "      <td>IT/</td>\n",
       "      <td>[visualisierung, wonderware, intouch, visualis...</td>\n",
       "      <td>[visualisierung, wonderware_intouch, visualisi...</td>\n",
       "    </tr>\n",
       "    <tr>\n",
       "      <th>8</th>\n",
       "      <td>Your tasks - You plan and develop a variety of...</td>\n",
       "      <td>Dev-Web-Fullstack</td>\n",
       "      <td>[plan, entwicklung, variety, application, back...</td>\n",
       "      <td>[plan, entwicklung, variety, application, back...</td>\n",
       "    </tr>\n",
       "    <tr>\n",
       "      <th>9</th>\n",
       "      <td>Projektbeschreibung \\n\\n                      ...</td>\n",
       "      <td>IT-Mgmt-Projectleiter</td>\n",
       "      <td>[kundenprojekt, leiter, test, center, eigenver...</td>\n",
       "      <td>[kundenprojekt, leiter_test, center, eigenvera...</td>\n",
       "    </tr>\n",
       "    <tr>\n",
       "      <th>10</th>\n",
       "      <td>•\\tÜberwachung einer Großbaustellen (Bürogebäu...</td>\n",
       "      <td>IT-Mgmt-Projectleiter</td>\n",
       "      <td>[monitoring, großbaustellen, bürogebäude, tech...</td>\n",
       "      <td>[monitoring, großbaustellen, bürogebäude, tech...</td>\n",
       "    </tr>\n",
       "    <tr>\n",
       "      <th>11</th>\n",
       "      <td>About our client: \\n \\n \\n  \\n \\n \\nOur client...</td>\n",
       "      <td>IT/Weitere IT-Q</td>\n",
       "      <td>[innovative, offers, worldwide, enterprise, pr...</td>\n",
       "      <td>[innovative_offers, worldwide_enterprise, prod...</td>\n",
       "    </tr>\n",
       "    <tr>\n",
       "      <th>12</th>\n",
       "      <td>Für unseren Kunden, eine Kommunikationsagentur...</td>\n",
       "      <td>IT-Mgmt-Projectleiter</td>\n",
       "      <td>[kommunikationsagentur, freiberuflicher, socia...</td>\n",
       "      <td>[kommunikationsagentur, freiberuflicher, socia...</td>\n",
       "    </tr>\n",
       "    <tr>\n",
       "      <th>13</th>\n",
       "      <td>Projektbeschreibung \\n\\n                      ...</td>\n",
       "      <td>Infr-Admin-Microsoft</td>\n",
       "      <td>[architekten, management, analyst, system, cli...</td>\n",
       "      <td>[architekten_management, analyst, system, clie...</td>\n",
       "    </tr>\n",
       "    <tr>\n",
       "      <th>14</th>\n",
       "      <td>Projektbeschreibung \\n\\n                      ...</td>\n",
       "      <td>Data-Sci-BI</td>\n",
       "      <td>[projektunterstützung, business, analyst, mm, ...</td>\n",
       "      <td>[projektunterstützung, business_analyst, mm, d...</td>\n",
       "    </tr>\n",
       "    <tr>\n",
       "      <th>15</th>\n",
       "      <td>Projektbeschreibung \\n\\n                      ...</td>\n",
       "      <td>Infr-Admin-Microsoft</td>\n",
       "      <td>[support, nachstehend, positionsbezeichnung, s...</td>\n",
       "      <td>[support, nachstehend_positionsbezeichnung, su...</td>\n",
       "    </tr>\n",
       "    <tr>\n",
       "      <th>16</th>\n",
       "      <td>Projektbeschreibung \\n\\n                      ...</td>\n",
       "      <td>IT-Admin-Others</td>\n",
       "      <td>[italienischen, hq, datacenter, projektes, pla...</td>\n",
       "      <td>[italienischen, hq, datacenter, projektes, pla...</td>\n",
       "    </tr>\n",
       "    <tr>\n",
       "      <th>17</th>\n",
       "      <td>Projektbeschreibung \\n\\n                      ...</td>\n",
       "      <td>SW-Dev-Others</td>\n",
       "      <td>[experte, bcbs, data, mm, entwicklung, vorschl...</td>\n",
       "      <td>[experte, bcbs, data, mm, entwicklung, vorschl...</td>\n",
       "    </tr>\n",
       "    <tr>\n",
       "      <th>18</th>\n",
       "      <td>Wir suchen für unseren Kunden im Großraum Stut...</td>\n",
       "      <td>Dev-Web-Backend</td>\n",
       "      <td>[entwicklung, condition, monitoring, additive,...</td>\n",
       "      <td>[entwicklung, condition, monitoring, additive_...</td>\n",
       "    </tr>\n",
       "    <tr>\n",
       "      <th>19</th>\n",
       "      <td>Projektbeschreibung \\n\\n                      ...</td>\n",
       "      <td>ERP-SAP</td>\n",
       "      <td>[logistikplaner, disponent, mm, disposition, s...</td>\n",
       "      <td>[logistikplaner, disponent, mm, disposition, s...</td>\n",
       "    </tr>\n",
       "  </tbody>\n",
       "</table>\n",
       "</div>"
      ],
      "text/plain": [
       "                                              project                  label  \\\n",
       "0   Projektbeschreibung \\n\\n                      ...        Dev-Web-Backend   \n",
       "1   Aufgabe: \\n* Leitung von Investitions- und Opt...        IT/Mess- / Rege   \n",
       "2   Projektbeschreibung \\n\\n                      ...            IT-Security   \n",
       "3   Als Weltmarktführer für Qualität stehen wir se...        IT/Konstruktion   \n",
       "4   Projektbeschreibung \\n\\n                      ...            Data-Sci-BI   \n",
       "5   Aktuell sind wir für unseren Endkunden auf der...     IT-Mgmt-Consulting   \n",
       "6   Gesamtprojektleiter Steuergerätentwicklung (M/...  IT-Mgmt-Projectleiter   \n",
       "7   - Visualisierung mit Wonderware InTouch \\n- Vi...                    IT/   \n",
       "8   Your tasks - You plan and develop a variety of...      Dev-Web-Fullstack   \n",
       "9   Projektbeschreibung \\n\\n                      ...  IT-Mgmt-Projectleiter   \n",
       "10  •\\tÜberwachung einer Großbaustellen (Bürogebäu...  IT-Mgmt-Projectleiter   \n",
       "11  About our client: \\n \\n \\n  \\n \\n \\nOur client...        IT/Weitere IT-Q   \n",
       "12  Für unseren Kunden, eine Kommunikationsagentur...  IT-Mgmt-Projectleiter   \n",
       "13  Projektbeschreibung \\n\\n                      ...   Infr-Admin-Microsoft   \n",
       "14  Projektbeschreibung \\n\\n                      ...            Data-Sci-BI   \n",
       "15  Projektbeschreibung \\n\\n                      ...   Infr-Admin-Microsoft   \n",
       "16  Projektbeschreibung \\n\\n                      ...        IT-Admin-Others   \n",
       "17  Projektbeschreibung \\n\\n                      ...          SW-Dev-Others   \n",
       "18  Wir suchen für unseren Kunden im Großraum Stut...        Dev-Web-Backend   \n",
       "19  Projektbeschreibung \\n\\n                      ...                ERP-SAP   \n",
       "\n",
       "                                      token_stem_spRm  \\\n",
       "0   [java, application, halbwegs, stand, zmigriert...   \n",
       "1   [leitung, investitions, optimierungsprojekten,...   \n",
       "2   [cyber, security, berater, successful, entwick...   \n",
       "3   [weltmarktführer, qualität, inspektionen, veri...   \n",
       "4   [zunehmend, tech, support, harvey, nash, deuts...   \n",
       "5   [coventry, offsite, sprachanforderung, account...   \n",
       "6   [gesamtprojektleiter, entwicklung, –norddeutsc...   \n",
       "7   [visualisierung, wonderware, intouch, visualis...   \n",
       "8   [plan, entwicklung, variety, application, back...   \n",
       "9   [kundenprojekt, leiter, test, center, eigenver...   \n",
       "10  [monitoring, großbaustellen, bürogebäude, tech...   \n",
       "11  [innovative, offers, worldwide, enterprise, pr...   \n",
       "12  [kommunikationsagentur, freiberuflicher, socia...   \n",
       "13  [architekten, management, analyst, system, cli...   \n",
       "14  [projektunterstützung, business, analyst, mm, ...   \n",
       "15  [support, nachstehend, positionsbezeichnung, s...   \n",
       "16  [italienischen, hq, datacenter, projektes, pla...   \n",
       "17  [experte, bcbs, data, mm, entwicklung, vorschl...   \n",
       "18  [entwicklung, condition, monitoring, additive,...   \n",
       "19  [logistikplaner, disponent, mm, disposition, s...   \n",
       "\n",
       "                               token_stem_spRm_bigram  \n",
       "0   [java, application, halbwegs, stand, zmigriert...  \n",
       "1   [leitung, investitions, optimierungsprojekten,...  \n",
       "2   [cyber_security, berater_successful, entwicklu...  \n",
       "3   [weltmarktführer, qualität, inspektionen, veri...  \n",
       "4   [zunehmend_tech, support_harvey, nash_deutschl...  \n",
       "5   [coventry_offsite, sprachanforderung_accountab...  \n",
       "6   [gesamtprojektleiter, entwicklung, –norddeutsc...  \n",
       "7   [visualisierung, wonderware_intouch, visualisi...  \n",
       "8   [plan, entwicklung, variety, application, back...  \n",
       "9   [kundenprojekt, leiter_test, center, eigenvera...  \n",
       "10  [monitoring, großbaustellen, bürogebäude, tech...  \n",
       "11  [innovative_offers, worldwide_enterprise, prod...  \n",
       "12  [kommunikationsagentur, freiberuflicher, socia...  \n",
       "13  [architekten_management, analyst, system, clie...  \n",
       "14  [projektunterstützung, business_analyst, mm, d...  \n",
       "15  [support, nachstehend_positionsbezeichnung, su...  \n",
       "16  [italienischen, hq, datacenter, projektes, pla...  \n",
       "17  [experte, bcbs, data, mm, entwicklung, vorschl...  \n",
       "18  [entwicklung, condition, monitoring, additive_...  \n",
       "19  [logistikplaner, disponent, mm, disposition, s...  "
      ]
     },
     "execution_count": 22,
     "metadata": {},
     "output_type": "execute_result"
    }
   ],
   "source": [
    "df_preprocessed.head(20)"
   ]
  },
  {
   "cell_type": "code",
   "execution_count": 23,
   "metadata": {},
   "outputs": [],
   "source": [
    "# only keep articles with more than 10 tokens, otherwise too short\n",
    "df_preprocessed = df_preprocessed[df_preprocessed['token_stem_spRm_bigram'].map(len) >= 10]\n",
    "# make sure all tokenized items are lists\n",
    "df_preprocessed = df_preprocessed[df_preprocessed['token_stem_spRm_bigram'].map(type) == list]\n",
    "df_preprocessed.reset_index(drop=True,inplace=True)"
   ]
  },
  {
   "cell_type": "code",
   "execution_count": 24,
   "metadata": {},
   "outputs": [
    {
     "name": "stdout",
     "output_type": "stream",
     "text": [
      "After cleaning and excluding short aticles, the dataframe now has: 11759 articles\n"
     ]
    }
   ],
   "source": [
    "print(\"After cleaning and excluding short aticles, the dataframe now has:\", len(df_preprocessed), \"articles\")"
   ]
  },
  {
   "cell_type": "markdown",
   "metadata": {},
   "source": [
    "### Split data to training and testing "
   ]
  },
  {
   "cell_type": "code",
   "execution_count": 25,
   "metadata": {},
   "outputs": [
    {
     "data": {
      "text/plain": [
       "array([ True,  True,  True, ...,  True,  True,  True])"
      ]
     },
     "execution_count": 25,
     "metadata": {},
     "output_type": "execute_result"
    }
   ],
   "source": [
    "# create a mask of binary values to split into train and test\n",
    "msk = np.random.rand(len(df_preprocessed)) < 0.9960\n",
    "msk"
   ]
  },
  {
   "cell_type": "code",
   "execution_count": 26,
   "metadata": {},
   "outputs": [],
   "source": [
    "train_df = df_preprocessed[msk]\n",
    "train_df.reset_index(drop=True,inplace=True)\n",
    "\n",
    "test_df = df_preprocessed[~msk]\n",
    "test_df.reset_index(drop=True,inplace=True)"
   ]
  },
  {
   "cell_type": "code",
   "execution_count": 27,
   "metadata": {},
   "outputs": [
    {
     "data": {
      "text/html": [
       "<div>\n",
       "<style scoped>\n",
       "    .dataframe tbody tr th:only-of-type {\n",
       "        vertical-align: middle;\n",
       "    }\n",
       "\n",
       "    .dataframe tbody tr th {\n",
       "        vertical-align: top;\n",
       "    }\n",
       "\n",
       "    .dataframe thead th {\n",
       "        text-align: right;\n",
       "    }\n",
       "</style>\n",
       "<table border=\"1\" class=\"dataframe\">\n",
       "  <thead>\n",
       "    <tr style=\"text-align: right;\">\n",
       "      <th></th>\n",
       "      <th>project</th>\n",
       "      <th>label</th>\n",
       "      <th>token_stem_spRm</th>\n",
       "      <th>token_stem_spRm_bigram</th>\n",
       "    </tr>\n",
       "  </thead>\n",
       "  <tbody>\n",
       "    <tr>\n",
       "      <th>0</th>\n",
       "      <td>Projektbeschreibung \\n\\n                      ...</td>\n",
       "      <td>Dev-Web-Backend</td>\n",
       "      <td>[java, application, halbwegs, stand, zmigriert...</td>\n",
       "      <td>[java, application, halbwegs, stand, zmigriert...</td>\n",
       "    </tr>\n",
       "    <tr>\n",
       "      <th>1</th>\n",
       "      <td>Aufgabe: \\n* Leitung von Investitions- und Opt...</td>\n",
       "      <td>IT/Mess- / Rege</td>\n",
       "      <td>[leitung, investitions, optimierungsprojekten,...</td>\n",
       "      <td>[leitung, investitions, optimierungsprojekten,...</td>\n",
       "    </tr>\n",
       "    <tr>\n",
       "      <th>2</th>\n",
       "      <td>Projektbeschreibung \\n\\n                      ...</td>\n",
       "      <td>IT-Security</td>\n",
       "      <td>[cyber, security, berater, successful, entwick...</td>\n",
       "      <td>[cyber_security, berater_successful, entwicklu...</td>\n",
       "    </tr>\n",
       "    <tr>\n",
       "      <th>3</th>\n",
       "      <td>Als Weltmarktführer für Qualität stehen wir se...</td>\n",
       "      <td>IT/Konstruktion</td>\n",
       "      <td>[weltmarktführer, qualität, inspektionen, veri...</td>\n",
       "      <td>[weltmarktführer, qualität, inspektionen, veri...</td>\n",
       "    </tr>\n",
       "    <tr>\n",
       "      <th>4</th>\n",
       "      <td>Projektbeschreibung \\n\\n                      ...</td>\n",
       "      <td>Data-Sci-BI</td>\n",
       "      <td>[zunehmend, tech, support, harvey, nash, deuts...</td>\n",
       "      <td>[zunehmend_tech, support_harvey, nash_deutschl...</td>\n",
       "    </tr>\n",
       "  </tbody>\n",
       "</table>\n",
       "</div>"
      ],
      "text/plain": [
       "                                             project            label  \\\n",
       "0  Projektbeschreibung \\n\\n                      ...  Dev-Web-Backend   \n",
       "1  Aufgabe: \\n* Leitung von Investitions- und Opt...  IT/Mess- / Rege   \n",
       "2  Projektbeschreibung \\n\\n                      ...      IT-Security   \n",
       "3  Als Weltmarktführer für Qualität stehen wir se...  IT/Konstruktion   \n",
       "4  Projektbeschreibung \\n\\n                      ...      Data-Sci-BI   \n",
       "\n",
       "                                     token_stem_spRm  \\\n",
       "0  [java, application, halbwegs, stand, zmigriert...   \n",
       "1  [leitung, investitions, optimierungsprojekten,...   \n",
       "2  [cyber, security, berater, successful, entwick...   \n",
       "3  [weltmarktführer, qualität, inspektionen, veri...   \n",
       "4  [zunehmend, tech, support, harvey, nash, deuts...   \n",
       "\n",
       "                              token_stem_spRm_bigram  \n",
       "0  [java, application, halbwegs, stand, zmigriert...  \n",
       "1  [leitung, investitions, optimierungsprojekten,...  \n",
       "2  [cyber_security, berater_successful, entwicklu...  \n",
       "3  [weltmarktführer, qualität, inspektionen, veri...  \n",
       "4  [zunehmend_tech, support_harvey, nash_deutschl...  "
      ]
     },
     "execution_count": 27,
     "metadata": {},
     "output_type": "execute_result"
    }
   ],
   "source": [
    "train_df.head()"
   ]
  },
  {
   "cell_type": "markdown",
   "metadata": {},
   "source": [
    "### Train the LDA model on training data"
   ]
  },
  {
   "cell_type": "code",
   "execution_count": 28,
   "metadata": {},
   "outputs": [],
   "source": [
    "def train_lda(data, n=10):\n",
    "    \"\"\"\n",
    "    This function trains the lda model\n",
    "    We setup parameters like number of topics, the chunksize to use in Hoffman method\n",
    "    We also do 2 passes of the data since this is a small dataset, so we want the distributions to stabilize\n",
    "    \"\"\"\n",
    "    num_topics = n\n",
    "    chunksize = 300\n",
    "    dictionary = corpora.Dictionary(data['token_stem_spRm_bigram'])\n",
    "    corpus = [dictionary.doc2bow(doc) for doc in data['token_stem_spRm_bigram']]\n",
    "    t1 = time.time()\n",
    "    # low alpha means each document is only represented by a small number of topics, and vice versa\n",
    "    # low eta means each topic is only represented by a small number of words, and vice versa\n",
    "    lda = LdaModel(corpus=corpus, num_topics=num_topics, id2word=dictionary,\n",
    "                   alpha=1e-2, eta=0.5e-2, chunksize=chunksize, minimum_probability=0.0, passes=2)\n",
    "    t2 = time.time()\n",
    "    print(\"Time to train LDA model on \", len(df_preprocessed), \"documents: \", (t2-t1)/60, \"min\")\n",
    "    return dictionary,corpus,lda"
   ]
  },
  {
   "cell_type": "code",
   "execution_count": 29,
   "metadata": {},
   "outputs": [
    {
     "name": "stdout",
     "output_type": "stream",
     "text": [
      "Time to train LDA model on  11759 documents:  0.7405274391174317 min\n"
     ]
    }
   ],
   "source": [
    "dictionary,corpus,lda = train_lda(train_df, 10)"
   ]
  },
  {
   "cell_type": "code",
   "execution_count": 30,
   "metadata": {},
   "outputs": [],
   "source": [
    "filename = os.path.join(outputDir, 'LDA_Approach_2.model')\n",
    "lda.save(filename)"
   ]
  },
  {
   "cell_type": "code",
   "execution_count": 31,
   "metadata": {},
   "outputs": [],
   "source": [
    "from gensim import corpora, models, similarities\n",
    "model =  models.LdaModel.load(filename)"
   ]
  },
  {
   "cell_type": "code",
   "execution_count": 32,
   "metadata": {},
   "outputs": [
    {
     "data": {
      "text/plain": [
       "[(0,\n",
       "  '0.051*\"verfügen\" + 0.035*\"firewall\" + 0.031*\"mm\" + 0.028*\"sw\" + 0.027*\"engineer_tech\" + 0.023*\"sap_mm\" + 0.022*\"iso\" + 0.022*\"tech\" + 0.019*\"reisebereitschaft\" + 0.018*\"maschinen\" + 0.016*\"engineer\" + 0.014*\"starker_engineer\" + 0.014*\"engineer_personalmarktes\" + 0.013*\"analyst_design\" + 0.013*\"projekt\" + 0.013*\"android\" + 0.010*\"qm\" + 0.010*\"sap_pm\" + 0.010*\"tomcat\" + 0.010*\"außerdem\"'),\n",
       " (1,\n",
       "  '0.027*\"vorhandener\" + 0.016*\"konstruktion\" + 0.013*\"training\" + 0.012*\"senior_java\" + 0.012*\"banking\" + 0.011*\"cases\" + 0.011*\"gemeinsam\" + 0.011*\"docker_kubernetes\" + 0.011*\"soa\" + 0.010*\"status\" + 0.010*\"eplan\" + 0.010*\"fortgeschrittene\" + 0.010*\"create\" + 0.009*\"provider\" + 0.009*\"zuverlässigkeit\" + 0.009*\"configuration\" + 0.009*\"java_enterprise\" + 0.009*\"pmo\" + 0.009*\"site\" + 0.009*\"vertrieb\"'),\n",
       " (2,\n",
       "  '0.087*\"management\" + 0.049*\"system\" + 0.039*\"sap\" + 0.037*\"tech\" + 0.036*\"process\" + 0.035*\"entwicklung\" + 0.032*\"analyst\" + 0.030*\"berater\" + 0.027*\"operation\" + 0.025*\"application\" + 0.022*\"projekt\" + 0.018*\"concept\" + 0.016*\"administration\" + 0.016*\"software\" + 0.012*\"implementation\" + 0.011*\"interface\" + 0.011*\"internal\" + 0.010*\"integration\" + 0.009*\"specification\" + 0.009*\"infrastructure\"'),\n",
       " (3,\n",
       "  '0.037*\"entwicklung\" + 0.033*\"automate\" + 0.026*\"cloud\" + 0.025*\"design_implementation\" + 0.019*\"partnern\" + 0.016*\"aws\" + 0.016*\"consumer\" + 0.014*\"continuous_integration\" + 0.014*\"test_automate\" + 0.014*\"python\" + 0.013*\"tech\" + 0.013*\"automate_tests\" + 0.011*\"jira_confluence\" + 0.010*\"projekt\" + 0.010*\"driven_entwicklung\" + 0.010*\"ci_cd\" + 0.009*\"verschiedene\" + 0.009*\"test_driven\" + 0.009*\"continuous_deployment\" + 0.008*\"industrie\"'),\n",
       " (4,\n",
       "  '0.195*\"entwicklung\" + 0.046*\"application\" + 0.020*\"tech\" + 0.019*\"software\" + 0.019*\"projekt\" + 0.015*\"java\" + 0.014*\"architekture\" + 0.012*\"scrum\" + 0.012*\"design\" + 0.011*\"system\" + 0.011*\"java_entwicklung\" + 0.009*\"platform\" + 0.009*\"script\" + 0.009*\"entwicklung_java\" + 0.008*\"software_entwicklung\" + 0.008*\"web\" + 0.008*\"full_stack\" + 0.007*\"know\" + 0.007*\"agile_entwicklung\" + 0.007*\"sql\"'),\n",
       " (5,\n",
       "  '0.041*\"entwicklung\" + 0.038*\"management\" + 0.029*\"project\" + 0.026*\"support\" + 0.022*\"design\" + 0.022*\"application\" + 0.021*\"implementation\" + 0.020*\"process\" + 0.015*\"system\" + 0.015*\"business\" + 0.014*\"tech\" + 0.013*\"requirements\" + 0.012*\"data\" + 0.011*\"project_management\" + 0.011*\"engineer\" + 0.010*\"integration\" + 0.007*\"product\" + 0.007*\"test\" + 0.006*\"security\" + 0.006*\"delivery\"'),\n",
       " (6,\n",
       "  '0.026*\"abhängigkeiten\" + 0.026*\"dokument\" + 0.025*\"projektleiter\" + 0.025*\"netzwerkkomponenten\" + 0.023*\"netzwerkes\" + 0.015*\"abgeschlossen\" + 0.014*\"tech\" + 0.014*\"management\" + 0.014*\"data_center\" + 0.014*\"ui\" + 0.013*\"prüfen\" + 0.010*\"koordinieren\" + 0.010*\"containerization\" + 0.010*\"sicherstellung\" + 0.010*\"verantwortlich\" + 0.010*\"ux\" + 0.009*\"übergabe\" + 0.009*\"informatik\" + 0.009*\"definieren\" + 0.009*\"process\"'),\n",
       " (7,\n",
       "  '0.033*\"sap_sd\" + 0.031*\"office\" + 0.028*\"berater\" + 0.025*\"management\" + 0.019*\"übernahme\" + 0.019*\"potenzial\" + 0.017*\"projektleitung\" + 0.017*\"prüfung\" + 0.016*\"ms\" + 0.015*\"identity_management\" + 0.014*\"sharepoint\" + 0.014*\"projekt\" + 0.012*\"ms_office\" + 0.011*\"support\" + 0.011*\"freiberuflicher\" + 0.010*\"experte\" + 0.010*\"internal_external\" + 0.010*\"application\" + 0.009*\"anforderungsprofil\" + 0.009*\"know\"'),\n",
       " (8,\n",
       "  '0.069*\"operation\" + 0.040*\"administration\" + 0.036*\"application\" + 0.030*\"infrastructure\" + 0.026*\"support\" + 0.025*\"system\" + 0.022*\"netzwerk\" + 0.021*\"monitoring\" + 0.019*\"windows\" + 0.018*\"install\" + 0.016*\"certificate\" + 0.016*\"server\" + 0.016*\"microsoft\" + 0.015*\"active\" + 0.015*\"powershell\" + 0.014*\"troubleshooting\" + 0.013*\"zugehörigen\" + 0.013*\"sicherheit\" + 0.012*\"erfüllt\" + 0.012*\"management\"'),\n",
       " (9,\n",
       "  '0.070*\"berater\" + 0.045*\"sap_ewm\" + 0.027*\"sap_hcm\" + 0.023*\"process\" + 0.022*\"überarbeitung\" + 0.020*\"management\" + 0.018*\"sap_fi\" + 0.017*\"bi\" + 0.015*\"präsentation\" + 0.014*\"analyst\" + 0.014*\"big_data\" + 0.013*\"data\" + 0.011*\"sap\" + 0.011*\"setup\" + 0.009*\"accounting\" + 0.009*\"cloud_security\" + 0.008*\"sicherstellung\" + 0.008*\"supply_chain\" + 0.008*\"workshops\" + 0.007*\"projekt\"')]"
      ]
     },
     "execution_count": 32,
     "metadata": {},
     "output_type": "execute_result"
    }
   ],
   "source": [
    "# print all topics\n",
    "model.show_topics(num_topics=20, num_words=20)"
   ]
  },
  {
   "cell_type": "code",
   "execution_count": 33,
   "metadata": {},
   "outputs": [],
   "source": [
    "with open(os.path.join(outputDir, 'dictionary_LDA_A2'), 'wb') as output:\n",
    "    pickle.dump(dictionary, output)\n",
    "    \n",
    "with open(os.path.join(outputDir, 'corpus_LDA_A2'), 'wb') as output:\n",
    "    pickle.dump(corpus, output)"
   ]
  },
  {
   "cell_type": "code",
   "execution_count": 34,
   "metadata": {},
   "outputs": [],
   "source": [
    "# Save model to disk.\n",
    "from gensim.test.utils import datapath\n",
    "temp_file = datapath('LDA_Approach_2.model')\n",
    "lda.save(temp_file)\n",
    "pickle.dump(lda, open(os.path.join(outputDir, 'model_LDA_A2'), 'wb'))"
   ]
  },
  {
   "cell_type": "code",
   "execution_count": 35,
   "metadata": {},
   "outputs": [],
   "source": [
    "# Load a potentially pretrained model from disk.\n",
    "lda2 = LdaModel.load(temp_file)"
   ]
  },
  {
   "cell_type": "code",
   "execution_count": 36,
   "metadata": {},
   "outputs": [
    {
     "data": {
      "text/plain": [
       "[(0,\n",
       "  '0.051*\"verfügen\" + 0.035*\"firewall\" + 0.031*\"mm\" + 0.028*\"sw\" + 0.027*\"engineer_tech\" + 0.023*\"sap_mm\" + 0.022*\"iso\" + 0.022*\"tech\" + 0.019*\"reisebereitschaft\" + 0.018*\"maschinen\" + 0.016*\"engineer\" + 0.014*\"starker_engineer\" + 0.014*\"engineer_personalmarktes\" + 0.013*\"analyst_design\" + 0.013*\"projekt\" + 0.013*\"android\" + 0.010*\"qm\" + 0.010*\"sap_pm\" + 0.010*\"tomcat\" + 0.010*\"außerdem\"'),\n",
       " (1,\n",
       "  '0.027*\"vorhandener\" + 0.016*\"konstruktion\" + 0.013*\"training\" + 0.012*\"senior_java\" + 0.012*\"banking\" + 0.011*\"cases\" + 0.011*\"gemeinsam\" + 0.011*\"docker_kubernetes\" + 0.011*\"soa\" + 0.010*\"status\" + 0.010*\"eplan\" + 0.010*\"fortgeschrittene\" + 0.010*\"create\" + 0.009*\"provider\" + 0.009*\"zuverlässigkeit\" + 0.009*\"configuration\" + 0.009*\"java_enterprise\" + 0.009*\"pmo\" + 0.009*\"site\" + 0.009*\"vertrieb\"'),\n",
       " (2,\n",
       "  '0.087*\"management\" + 0.049*\"system\" + 0.039*\"sap\" + 0.037*\"tech\" + 0.036*\"process\" + 0.035*\"entwicklung\" + 0.032*\"analyst\" + 0.030*\"berater\" + 0.027*\"operation\" + 0.025*\"application\" + 0.022*\"projekt\" + 0.018*\"concept\" + 0.016*\"administration\" + 0.016*\"software\" + 0.012*\"implementation\" + 0.011*\"interface\" + 0.011*\"internal\" + 0.010*\"integration\" + 0.009*\"specification\" + 0.009*\"infrastructure\"'),\n",
       " (3,\n",
       "  '0.037*\"entwicklung\" + 0.033*\"automate\" + 0.026*\"cloud\" + 0.025*\"design_implementation\" + 0.019*\"partnern\" + 0.016*\"aws\" + 0.016*\"consumer\" + 0.014*\"continuous_integration\" + 0.014*\"test_automate\" + 0.014*\"python\" + 0.013*\"tech\" + 0.013*\"automate_tests\" + 0.011*\"jira_confluence\" + 0.010*\"projekt\" + 0.010*\"driven_entwicklung\" + 0.010*\"ci_cd\" + 0.009*\"verschiedene\" + 0.009*\"test_driven\" + 0.009*\"continuous_deployment\" + 0.008*\"industrie\"'),\n",
       " (4,\n",
       "  '0.195*\"entwicklung\" + 0.046*\"application\" + 0.020*\"tech\" + 0.019*\"software\" + 0.019*\"projekt\" + 0.015*\"java\" + 0.014*\"architekture\" + 0.012*\"scrum\" + 0.012*\"design\" + 0.011*\"system\" + 0.011*\"java_entwicklung\" + 0.009*\"platform\" + 0.009*\"script\" + 0.009*\"entwicklung_java\" + 0.008*\"software_entwicklung\" + 0.008*\"web\" + 0.008*\"full_stack\" + 0.007*\"know\" + 0.007*\"agile_entwicklung\" + 0.007*\"sql\"'),\n",
       " (5,\n",
       "  '0.041*\"entwicklung\" + 0.038*\"management\" + 0.029*\"project\" + 0.026*\"support\" + 0.022*\"design\" + 0.022*\"application\" + 0.021*\"implementation\" + 0.020*\"process\" + 0.015*\"system\" + 0.015*\"business\" + 0.014*\"tech\" + 0.013*\"requirements\" + 0.012*\"data\" + 0.011*\"project_management\" + 0.011*\"engineer\" + 0.010*\"integration\" + 0.007*\"product\" + 0.007*\"test\" + 0.006*\"security\" + 0.006*\"delivery\"'),\n",
       " (6,\n",
       "  '0.026*\"abhängigkeiten\" + 0.026*\"dokument\" + 0.025*\"projektleiter\" + 0.025*\"netzwerkkomponenten\" + 0.023*\"netzwerkes\" + 0.015*\"abgeschlossen\" + 0.014*\"tech\" + 0.014*\"management\" + 0.014*\"data_center\" + 0.014*\"ui\" + 0.013*\"prüfen\" + 0.010*\"koordinieren\" + 0.010*\"containerization\" + 0.010*\"sicherstellung\" + 0.010*\"verantwortlich\" + 0.010*\"ux\" + 0.009*\"übergabe\" + 0.009*\"informatik\" + 0.009*\"definieren\" + 0.009*\"process\"'),\n",
       " (7,\n",
       "  '0.033*\"sap_sd\" + 0.031*\"office\" + 0.028*\"berater\" + 0.025*\"management\" + 0.019*\"übernahme\" + 0.019*\"potenzial\" + 0.017*\"projektleitung\" + 0.017*\"prüfung\" + 0.016*\"ms\" + 0.015*\"identity_management\" + 0.014*\"sharepoint\" + 0.014*\"projekt\" + 0.012*\"ms_office\" + 0.011*\"support\" + 0.011*\"freiberuflicher\" + 0.010*\"experte\" + 0.010*\"internal_external\" + 0.010*\"application\" + 0.009*\"anforderungsprofil\" + 0.009*\"know\"'),\n",
       " (8,\n",
       "  '0.069*\"operation\" + 0.040*\"administration\" + 0.036*\"application\" + 0.030*\"infrastructure\" + 0.026*\"support\" + 0.025*\"system\" + 0.022*\"netzwerk\" + 0.021*\"monitoring\" + 0.019*\"windows\" + 0.018*\"install\" + 0.016*\"certificate\" + 0.016*\"server\" + 0.016*\"microsoft\" + 0.015*\"active\" + 0.015*\"powershell\" + 0.014*\"troubleshooting\" + 0.013*\"zugehörigen\" + 0.013*\"sicherheit\" + 0.012*\"erfüllt\" + 0.012*\"management\"'),\n",
       " (9,\n",
       "  '0.070*\"berater\" + 0.045*\"sap_ewm\" + 0.027*\"sap_hcm\" + 0.023*\"process\" + 0.022*\"überarbeitung\" + 0.020*\"management\" + 0.018*\"sap_fi\" + 0.017*\"bi\" + 0.015*\"präsentation\" + 0.014*\"analyst\" + 0.014*\"big_data\" + 0.013*\"data\" + 0.011*\"sap\" + 0.011*\"setup\" + 0.009*\"accounting\" + 0.009*\"cloud_security\" + 0.008*\"sicherstellung\" + 0.008*\"supply_chain\" + 0.008*\"workshops\" + 0.007*\"projekt\"')]"
      ]
     },
     "execution_count": 36,
     "metadata": {},
     "output_type": "execute_result"
    }
   ],
   "source": [
    "# show_topics method shows the the top num_words contributing to num_topics number of random topics\n",
    "lda.show_topics(num_topics=13, num_words=20)"
   ]
  },
  {
   "cell_type": "code",
   "execution_count": 37,
   "metadata": {},
   "outputs": [
    {
     "name": "stdout",
     "output_type": "stream",
     "text": [
      "TopicID: 0\n",
      "verfügen: 0.050789494\n",
      "firewall: 0.03490141\n",
      "mm: 0.030893894\n",
      "sw: 0.028053312\n",
      "engineer_tech: 0.026665838\n",
      "sap_mm: 0.02341528\n",
      "iso: 0.022346226\n",
      "tech: 0.021663735\n",
      "reisebereitschaft: 0.018512323\n",
      "maschinen: 0.01811735\n",
      "engineer: 0.015961273\n",
      "starker_engineer: 0.013784124\n",
      "engineer_personalmarktes: 0.013784124\n",
      "analyst_design: 0.013331694\n",
      "projekt: 0.013071149\n",
      "android: 0.012724849\n",
      "qm: 0.0104388\n",
      "sap_pm: 0.010215576\n",
      "tomcat: 0.010144164\n",
      "außerdem: 0.009840365\n",
      "\n",
      "TopicID: 1\n",
      "vorhandener: 0.026557166\n",
      "konstruktion: 0.016085109\n",
      "training: 0.0128923915\n",
      "senior_java: 0.012065059\n",
      "banking: 0.01172006\n",
      "cases: 0.011277564\n",
      "gemeinsam: 0.011123645\n",
      "docker_kubernetes: 0.010894062\n",
      "soa: 0.010522562\n",
      "status: 0.010355399\n",
      "eplan: 0.010283411\n",
      "fortgeschrittene: 0.010165812\n",
      "create: 0.009981651\n",
      "provider: 0.009145095\n",
      "zuverlässigkeit: 0.009091344\n",
      "configuration: 0.009064241\n",
      "java_enterprise: 0.0088617345\n",
      "pmo: 0.008698048\n",
      "site: 0.008637747\n",
      "vertrieb: 0.008604425\n",
      "\n"
     ]
    }
   ],
   "source": [
    "for t_id in range (2):\n",
    "    print(\"TopicID: \" + str(t_id))\n",
    "    topics = lda.show_topic(topicid=t_id, topn=20)\n",
    "    for topic in topics:\n",
    "        print(topic[0] + \": \" + str(topic[1]))\n",
    "    print()\n"
   ]
  },
  {
   "cell_type": "markdown",
   "metadata": {},
   "source": [
    "### Random project from training data"
   ]
  },
  {
   "cell_type": "code",
   "execution_count": 38,
   "metadata": {},
   "outputs": [
    {
     "name": "stdout",
     "output_type": "stream",
     "text": [
      "6468\n"
     ]
    }
   ],
   "source": [
    "#Select an article at random from train_df\n",
    "random_index = int(np.random.randint(len(train_df), size=[1, 1]))\n",
    "print(random_index)"
   ]
  },
  {
   "cell_type": "code",
   "execution_count": 39,
   "metadata": {},
   "outputs": [],
   "source": [
    "data_to_check = train_df.iloc[random_index,2]\n",
    "bow = dictionary.doc2bow(data_to_check)\n",
    "doc_distribution = np.array([topic[1] for topic in lda.get_document_topics(bow=bow)])"
   ]
  },
  {
   "cell_type": "code",
   "execution_count": 40,
   "metadata": {},
   "outputs": [
    {
     "name": "stdout",
     "output_type": "stream",
     "text": [
      "['efk', 'inhabergeführter', 'dienstleister', 'stamm', 'festangestellten', 'umfangreichen', 'gepflegten', 'pool', 'freelancern', 'begleiten', 'konzerne', 'kmu', 'bedarfsfall', 'weltbekannte', 'schiffswerft', 'temporären', 'projektunterstützung', 'php', 'entwicklung', 'tech', 'stack', 'fühlt', 'php', 'symfony', 'sql', 'oracle', 'html', 'script', 'css', 'script', 'framework', 'ext', 'js', 'rabbitmq', 'message', 'brocker', 'docker', 'git', 'branching', 'modell', 'linux', 'serverebene', 'erstreckt', 'planung', 'entwicklung', 'wartung', 'internal', 'software', 'firmengruppe', 'entwicklung', 'erp', 'system', 'portal', 'köpfigen', 'application', 'management', 'innovative', 'blicke', 'reling', 'hinaus', 'herzlich', 'willkommen', 'einarbeitung', 'arbeit', 'evtl', 'einsatzbeginn', 'einsatzende', 'projekt', 'unterstützen', 'projektübersicht', 'nk', 'remotestundensatz']\n"
     ]
    }
   ],
   "source": [
    "print(train_df.iloc[random_index,2])"
   ]
  },
  {
   "cell_type": "code",
   "execution_count": 41,
   "metadata": {},
   "outputs": [
    {
     "name": "stdout",
     "output_type": "stream",
     "text": [
      "[2.6962502e-04 2.6962502e-04 2.8135490e-01 2.6962502e-04 6.1700916e-01\n",
      " 5.0019369e-02 2.6962502e-04 4.9998824e-02 2.6962502e-04 2.6962502e-04]\n",
      "10\n",
      "[2.6962502e-04 2.6962502e-04 2.8135490e-01 2.6962502e-04 6.1700916e-01\n",
      " 5.0019369e-02 2.6962502e-04 4.9998824e-02 2.6962502e-04 2.6962502e-04]\n",
      "10\n"
     ]
    }
   ],
   "source": [
    "print(doc_distribution)\n",
    "print(len(doc_distribution))\n",
    "np.argsort(-doc_distribution)[:3]\n",
    "print(doc_distribution)\n",
    "print(len(doc_distribution))"
   ]
  },
  {
   "cell_type": "code",
   "execution_count": 42,
   "metadata": {},
   "outputs": [],
   "source": [
    "# bar plot of topic distribution for this document\n",
    "def plot_topic_dist(doc_distr, index):\n",
    "    \"\"\"\n",
    "    This function plots the topic distrubtion for a given document\n",
    "    It takes two parameters\n",
    "    (1) doc_distr = type: list of floats, list of topic probability distribution in a document\n",
    "    (2) index = type: int, index number of document to plot\n",
    "    We also do 2 passes of the data since this is a small dataset, so we want the distributions to stabilize\n",
    "    \"\"\"\n",
    "    fig, ax = plt.subplots(figsize=(12,8));\n",
    "    # the histogram of the data\n",
    "    patches = ax.bar(np.arange(len(doc_distr)), doc_distr)\n",
    "    ax.set_xlabel('Topic ID', fontsize=15)\n",
    "    ax.set_ylabel('Topic Probability Score', fontsize=15)\n",
    "    ax.set_title(\"Topic Distribution for Project in Index \" + str(index), fontsize=20)\n",
    "    ax.set_xticks(range(0,10))\n",
    "    x_ticks_labels = ['ERP/SAP','SW_Dev/Web','IT_App_Mgr/SW_Dev_Arch','SW_Dev/DevOps','Sys_Admin/Support', 'IT_Admin_SW/Oracle/Ops','Data/Ops','IT_Process_Mgr/Consultant', 'MS_DEV/Admin','Business_Analyst/Consulting']\n",
    "    ax.set_xticklabels(x_ticks_labels, rotation='vertical', fontsize=8)\n",
    "    fig.tight_layout()\n",
    "    return plt.show()"
   ]
  },
  {
   "cell_type": "code",
   "execution_count": 43,
   "metadata": {},
   "outputs": [
    {
     "data": {
      "image/png": "[encoded data removed]",
      "text/plain": [
       "<Figure size 864x576 with 1 Axes>"
      ]
     },
     "metadata": {
      "needs_background": "light"
     },
     "output_type": "display_data"
    }
   ],
   "source": [
    "plot_topic_dist(doc_distribution, random_index)"
   ]
  },
  {
   "cell_type": "code",
   "execution_count": null,
   "metadata": {},
   "outputs": [],
   "source": []
  }
 ],
 "metadata": {
  "jupytext": {
   "cell_metadata_filter": "-all",
   "main_language": "python",
   "notebook_metadata_filter": "-all"
  },
  "kernelspec": {
   "display_name": "Python 3",
   "language": "python",
   "name": "python3"
  },
  "language_info": {
   "codemirror_mode": {
    "name": "ipython",
    "version": 3
   },
   "file_extension": ".py",
   "mimetype": "text/x-python",
   "name": "python",
   "nbconvert_exporter": "python",
   "pygments_lexer": "ipython3",
   "version": "3.7.1"
  }
 },
 "nbformat": 4,
 "nbformat_minor": 2
}
