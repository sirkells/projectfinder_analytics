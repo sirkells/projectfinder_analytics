{
 "cells": [
  {
   "cell_type": "markdown",
   "metadata": {},
   "source": [
    "# Importing Libraries"
   ]
  },
  {
   "cell_type": "code",
   "execution_count": 1,
   "metadata": {
    "slideshow": {
     "slide_type": "slide"
    }
   },
   "outputs": [],
   "source": [
    "%matplotlib inline\n",
    "import pandas as pd\n",
    "import numpy as np\n",
    "import nltk\n",
    "from nltk.corpus import stopwords\n",
    "import gensim\n",
    "from gensim.models import LdaModel\n",
    "from gensim import models, corpora, similarities\n",
    "import re\n",
    "import time\n",
    "from nltk import FreqDist\n",
    "from scipy.stats import entropy\n",
    "import matplotlib.pyplot as plt\n",
    "import seaborn as sns\n",
    "sns.set_style(\"darkgrid\")\n",
    "from pymongo import MongoClient\n",
    "from nltk.tokenize import word_tokenize\n",
    "import pickle\n",
    "import string\n",
    "from string import punctuation"
   ]
  },
  {
   "cell_type": "code",
   "execution_count": 2,
   "metadata": {},
   "outputs": [],
   "source": [
    "#Details for getting data from projectfinder\n",
    "db_loc = {\n",
    "    'ip' :'10.10.250.0',\n",
    "    'port' : 27017,\n",
    "    'database' : 'projectfinder',\n",
    "    'collection' : 'itproject_clean'\n",
    "}"
   ]
  },
  {
   "cell_type": "code",
   "execution_count": 3,
   "metadata": {},
   "outputs": [],
   "source": [
    "#Details for storing data related to projectfinder\n",
    "db_data = {\n",
    "    'ip' :'10.10.250.0',\n",
    "    'port' : 27017,\n",
    "    'database' : 'projectfinder',\n",
    "    'collection' : 'mldata1'\n",
    "}"
   ]
  },
  {
   "cell_type": "code",
   "execution_count": 4,
   "metadata": {},
   "outputs": [],
   "source": [
    "def load_dataset_from_momgodb(db_obj):\n",
    "    \n",
    "    \"\"\"\n",
    "    This method loads a dataset as a pandas dataframe from MongoDB \n",
    "    \n",
    "    Parameters:\n",
    "    @db_obj (dict): Storing the ip address, port number, database name and collection name for dataset to be loaded\n",
    "    \n",
    "    Returns:\n",
    "    panadas dataframe: Containing the loaded dataset\n",
    "    \"\"\"\n",
    "    \n",
    "    #Extracting the items from the inputted dictionary\n",
    "    dbname = db_obj['database']\n",
    "    ip = db_obj['ip']\n",
    "    port = db_obj['port']\n",
    "    collection = db_obj['collection']\n",
    "    \n",
    "    #Creating a connection to the database using MongoClient\n",
    "    connection = MongoClient(ip, port)\n",
    "    db = connection[dbname]\n",
    "    \n",
    "    #Excluding the fileds which are not needed in the dataframe \n",
    "    #Currenlty excluding the id associated with each document of the collection\n",
    "    \n",
    "    exclude_field = {'_id': False}\n",
    "    raw_dataset = list(db[collection].find({}, projection=exclude_field))\n",
    "    \n",
    "    dataset = pd.DataFrame(raw_dataset)\n",
    "    print(f'Data loaded from mongodb {collection} collection succesfully')\n",
    "    return dataset"
   ]
  },
  {
   "cell_type": "code",
   "execution_count": 5,
   "metadata": {},
   "outputs": [],
   "source": [
    "def save_to_momgodb(df,db_):\n",
    "    \n",
    "    \"\"\"\n",
    "    This method saves a dataframe as a collection into a specified MongoDB database.\n",
    "    \n",
    "    Parameters:\n",
    "    @df (pandas dataframe): Storing the dataset to be saved\n",
    "    @db_ (dict): Details for the database where the given dataset is to be saved\n",
    "    \n",
    "    \"\"\"\n",
    "    \n",
    "    #Convert data prsent in the dataframe to JSON format\n",
    "    data = df.to_dict(orient='records')\n",
    "    \n",
    "     #Extracting the items from the inputted dictionary of database details\n",
    "    dbname = db_['database']\n",
    "    ip = db_['ip']\n",
    "    port = db_['port']\n",
    "    coll = db_['collection']\n",
    "    \n",
    "    #Creating a connection to the database using MongoClient\n",
    "    connection = MongoClient(ip,port)\n",
    "    db = connection[dbname]\n",
    "    col = db[collection].insert_many(data)\n",
    "    \n",
    "    print(f'data saved as {coll}')"
   ]
  },
  {
   "cell_type": "code",
   "execution_count": 6,
   "metadata": {},
   "outputs": [],
   "source": [
    "def load_dataset_from_json(data):\n",
    "    with open(data) as f:\n",
    "            d = json.load(f)\n",
    "        #normalize json\n",
    "    dataset= json_normalize(d)\n",
    "    return dataset"
   ]
  },
  {
   "cell_type": "code",
   "execution_count": 7,
   "metadata": {},
   "outputs": [
    {
     "name": "stdout",
     "output_type": "stream",
     "text": [
      "Data loaded from mongodb itproject_clean collection succesfully\n"
     ]
    },
    {
     "data": {
      "text/plain": [
       "(14059, 25)"
      ]
     },
     "execution_count": 7,
     "metadata": {},
     "output_type": "execute_result"
    }
   ],
   "source": [
    "df = load_dataset_from_momgodb(db_loc)\n",
    "df.shape"
   ]
  },
  {
   "cell_type": "code",
   "execution_count": 8,
   "metadata": {},
   "outputs": [],
   "source": [
    "def get_required_dataset(original_dataset):\n",
    "    \n",
    "    #Select required colunms\n",
    "    df = original_dataset[['description', 'bereich']]\n",
    "    df = df[df['description'] != '']\n",
    "    #df.rename(columns = {'description' : 'project', 'bereich' : 'class'})\n",
    "    df['project'] = df['description']\n",
    "    df['label'] = df['bereich']\n",
    "    df.drop(['description', 'bereich'], axis=1, inplace=True)\n",
    "    df = df[df['label'] != 'IT/Bauingenieur']\n",
    "    df = df.drop_duplicates()\n",
    "    return df"
   ]
  },
  {
   "cell_type": "code",
   "execution_count": 9,
   "metadata": {},
   "outputs": [
    {
     "data": {
      "text/html": [
       "<div>\n",
       "<style scoped>\n",
       "    .dataframe tbody tr th:only-of-type {\n",
       "        vertical-align: middle;\n",
       "    }\n",
       "\n",
       "    .dataframe tbody tr th {\n",
       "        vertical-align: top;\n",
       "    }\n",
       "\n",
       "    .dataframe thead th {\n",
       "        text-align: right;\n",
       "    }\n",
       "</style>\n",
       "<table border=\"1\" class=\"dataframe\">\n",
       "  <thead>\n",
       "    <tr style=\"text-align: right;\">\n",
       "      <th></th>\n",
       "      <th>project</th>\n",
       "      <th>label</th>\n",
       "    </tr>\n",
       "  </thead>\n",
       "  <tbody>\n",
       "    <tr>\n",
       "      <th>0</th>\n",
       "      <td>Für einen unserer Kunden aus dem Finanzdienstl...</td>\n",
       "      <td>Infr-Admin-Microsoft</td>\n",
       "    </tr>\n",
       "    <tr>\n",
       "      <th>1</th>\n",
       "      <td>Kann Profil leider nicht löschen.</td>\n",
       "      <td>IT/Consulting</td>\n",
       "    </tr>\n",
       "    <tr>\n",
       "      <th>2</th>\n",
       "      <td>Business Intelligence Analyst (m/w) - Tableau ...</td>\n",
       "      <td>Data-Sci-BI</td>\n",
       "    </tr>\n",
       "    <tr>\n",
       "      <th>3</th>\n",
       "      <td>Konzeption, Customizing sowie Softwareanpassun...</td>\n",
       "      <td>Dev-Web-Backend</td>\n",
       "    </tr>\n",
       "    <tr>\n",
       "      <th>4</th>\n",
       "      <td>Es sollen mehrere Automatisierungen mit ubot S...</td>\n",
       "      <td>IT/IT</td>\n",
       "    </tr>\n",
       "  </tbody>\n",
       "</table>\n",
       "</div>"
      ],
      "text/plain": [
       "                                             project                 label\n",
       "0  Für einen unserer Kunden aus dem Finanzdienstl...  Infr-Admin-Microsoft\n",
       "1                  Kann Profil leider nicht löschen.         IT/Consulting\n",
       "2  Business Intelligence Analyst (m/w) - Tableau ...           Data-Sci-BI\n",
       "3  Konzeption, Customizing sowie Softwareanpassun...       Dev-Web-Backend\n",
       "4  Es sollen mehrere Automatisierungen mit ubot S...                 IT/IT"
      ]
     },
     "execution_count": 9,
     "metadata": {},
     "output_type": "execute_result"
    }
   ],
   "source": [
    "df = get_required_dataset(df)\n",
    "df.shape\n",
    "df.head()"
   ]
  },
  {
   "cell_type": "code",
   "execution_count": 10,
   "metadata": {
    "slideshow": {
     "slide_type": "slide"
    }
   },
   "outputs": [
    {
     "data": {
      "text/html": [
       "<div>\n",
       "<style scoped>\n",
       "    .dataframe tbody tr th:only-of-type {\n",
       "        vertical-align: middle;\n",
       "    }\n",
       "\n",
       "    .dataframe tbody tr th {\n",
       "        vertical-align: top;\n",
       "    }\n",
       "\n",
       "    .dataframe thead th {\n",
       "        text-align: right;\n",
       "    }\n",
       "</style>\n",
       "<table border=\"1\" class=\"dataframe\">\n",
       "  <thead>\n",
       "    <tr style=\"text-align: right;\">\n",
       "      <th></th>\n",
       "      <th>project</th>\n",
       "      <th>label</th>\n",
       "    </tr>\n",
       "  </thead>\n",
       "  <tbody>\n",
       "    <tr>\n",
       "      <th>0</th>\n",
       "      <td>Wir suchen derzeit für ein Kundenprojekt eine/...</td>\n",
       "      <td>ERP-SAP</td>\n",
       "    </tr>\n",
       "    <tr>\n",
       "      <th>1</th>\n",
       "      <td>Für unseren Kunden in Düsseldorf suchen wir ab...</td>\n",
       "      <td>IT-Mgmt-Projectleiter</td>\n",
       "    </tr>\n",
       "    <tr>\n",
       "      <th>2</th>\n",
       "      <td>For our client we are lookging for a freelance...</td>\n",
       "      <td>Dev-Web-Fullstack</td>\n",
       "    </tr>\n",
       "    <tr>\n",
       "      <th>3</th>\n",
       "      <td>Projektbeschreibung \\n\\n                      ...</td>\n",
       "      <td>Dev-Web-Frontend</td>\n",
       "    </tr>\n",
       "    <tr>\n",
       "      <th>4</th>\n",
       "      <td>Projektbeschreibung \\n\\n                      ...</td>\n",
       "      <td>ERP-SAP</td>\n",
       "    </tr>\n",
       "  </tbody>\n",
       "</table>\n",
       "</div>"
      ],
      "text/plain": [
       "                                             project                  label\n",
       "0  Wir suchen derzeit für ein Kundenprojekt eine/...                ERP-SAP\n",
       "1  Für unseren Kunden in Düsseldorf suchen wir ab...  IT-Mgmt-Projectleiter\n",
       "2  For our client we are lookging for a freelance...      Dev-Web-Fullstack\n",
       "3  Projektbeschreibung \\n\\n                      ...       Dev-Web-Frontend\n",
       "4  Projektbeschreibung \\n\\n                      ...                ERP-SAP"
      ]
     },
     "execution_count": 10,
     "metadata": {},
     "output_type": "execute_result"
    }
   ],
   "source": [
    "# shuffle the data\n",
    "df = df.sample(frac=1.0)\n",
    "df.reset_index(drop=True,inplace=True)\n",
    "df.head()"
   ]
  },
  {
   "cell_type": "code",
   "execution_count": 11,
   "metadata": {
    "slideshow": {
     "slide_type": "slide"
    }
   },
   "outputs": [
    {
     "data": {
      "text/plain": [
       "'Wir suchen derzeit für ein Kundenprojekt eine/n  \\n \\nSenior SAP SD Berater (w/m) mit Erfahrung in S/4 HANA \\n \\nAufgaben: \\n•\\tBeratung im Bereich S/4 HANA und SAP SD \\n \\nSkills: \\n•\\tErfahrung im Bereich S/4 HANA  \\n•\\tErfahrung im Bereich SAP SD \\n•\\tFließende Englisch Kenntnisse, Kenntnisse in Französisch von Vorteil \\n \\nStart: ASAP \\nDauer: 12 Monate \\nAuslastung: 4-5 Tage die Woche  \\nOrt: Frankfurt am Main \\nKick-Off: 1 Woche in Frankreich \\nRemote: teilweise möglich \\n \\nBei Interesse freuen wir uns auf Ihre aussagekräftige Bewerbung (Profil).'"
      ]
     },
     "execution_count": 11,
     "metadata": {},
     "output_type": "execute_result"
    }
   ],
   "source": [
    "df.iloc[0,0]"
   ]
  },
  {
   "cell_type": "code",
   "execution_count": 12,
   "metadata": {},
   "outputs": [
    {
     "name": "stdout",
     "output_type": "stream",
     "text": [
      "['januar', 'january', 'februar', 'february', 'märz', 'march', 'april', 'mai', 'may', 'juni', 'june', 'juli', 'july', 'august', 'september', 'oktober', 'october', 'november', 'dezember', 'december']\n",
      "844\n"
     ]
    }
   ],
   "source": [
    "# load nltk's German and english stopwords'\n",
    "import nltk\n",
    "with open('../german_stopwords_full.txt', 'r') as f:\n",
    "    stopwords_germ = f.read().splitlines()\n",
    "stopwords_eng = nltk.corpus.stopwords.words('english')\n",
    "\n",
    "#german cities\n",
    "from bundeslander import Baden_Württemberg, Bayern, Berlin, Brandenburg, Bremen, Hamburg, Hessen, Mecklenburg_Vorpommern, Niedersachsen, Nordrhein_Westfalen, Rheinland_Pfalz, Saarland, Sachsen, Sachsen_Anhalt, Schleswig_Holstein, Thüringen, Ausland\n",
    "All = Baden_Württemberg + Bayern + Berlin + Brandenburg + Bremen +Hamburg + Hessen + Mecklenburg_Vorpommern + Niedersachsen + Nordrhein_Westfalen + Rheinland_Pfalz + Saarland + Sachsen + Sachsen_Anhalt + Schleswig_Holstein + Thüringen + Ausland\n",
    "cities = list(set([city.lower() for city in All]))\n",
    "\n",
    "months = ['Januar', 'January','Februar', 'February', 'März', 'March', 'April', 'Mai', 'May', 'Juni', 'June', 'Juli', \n",
    "          'July', 'August', 'September', 'Oktober', 'October', 'November', 'Dezember', 'December']\n",
    "months = [month.lower() for month in months]\n",
    "print(months)\n",
    "\n",
    "stopwords_manual = [line.rstrip('\\n') for line in open('stopwords_manual.txt')]\n",
    "print(len(stopwords_manual))"
   ]
  },
  {
   "cell_type": "code",
   "execution_count": 13,
   "metadata": {},
   "outputs": [
    {
     "data": {
      "text/plain": [
       "13240"
      ]
     },
     "execution_count": 13,
     "metadata": {},
     "output_type": "execute_result"
    }
   ],
   "source": [
    "stopwords_all = list(set(stopwords_germ + stopwords_eng + stopwords_manual + cities + months))\n",
    "len(stopwords_all)"
   ]
  },
  {
   "cell_type": "code",
   "execution_count": 14,
   "metadata": {},
   "outputs": [
    {
     "name": "stdout",
     "output_type": "stream",
     "text": [
      "844\n"
     ]
    }
   ],
   "source": [
    "stopwords_add = ['staatl']\n",
    "stopwords_add = list(set(stopwords_add + stopwords_manual))\n",
    "checker = list(set(stopwords_germ + stopwords_eng + cities + months))\n",
    "stopwords_add.sort()\n",
    "with open('stopwords_manual.txt', 'w') as f:\n",
    "    for item in stopwords_add:\n",
    "        if item not in checker:\n",
    "            f.write(\"%s\\n\" % item)\n",
    "stopwords_manual = [line.rstrip('\\n') for line in open('stopwords_manual.txt')]\n",
    "print(len(stopwords_manual))"
   ]
  },
  {
   "cell_type": "code",
   "execution_count": 15,
   "metadata": {},
   "outputs": [
    {
     "data": {
      "text/plain": [
       "13240"
      ]
     },
     "execution_count": 15,
     "metadata": {},
     "output_type": "execute_result"
    }
   ],
   "source": [
    "stopwords_all = list(set(stopwords_germ + stopwords_eng + stopwords_manual + cities + months))\n",
    "len(stopwords_all)"
   ]
  },
  {
   "cell_type": "code",
   "execution_count": 16,
   "metadata": {},
   "outputs": [],
   "source": [
    "stemmer_own = {\n",
    "    \n",
    "    'abgeschlossen': 'abgeschlossen',\n",
    "    'admin': 'administration',  \n",
    "    'verwaltung': 'administration',\n",
    "    'architektur' : 'architekture',\n",
    "    'agil' : 'agile',\n",
    "    'analys': 'analyst',\n",
    "    'app': 'application',\n",
    "    'anwend' : 'application',\n",
    "    'automat': 'automate',\n",
    "   \n",
    "    \n",
    "    'consultant' : 'berater',\n",
    "    'berat': 'berater',\n",
    "    'bereich' : 'bereich',\n",
    "    'cisco': 'cisco',\n",
    "    'konzept' : 'concept',\n",
    "    'container': 'containerization',\n",
    "    'zertifi' : 'certificate',\n",
    "    'certifi' : 'certificate',\n",
    "    'design' : 'design',\n",
    "    'engineer' : 'engineer',\n",
    "    'ingenieur'  : 'engineer',\n",
    "    'entwick': 'entwicklung',\n",
    "    'develop': 'entwicklung',\n",
    "    'program': 'entwicklung',\n",
    "    'entwickler' : 'entwicklung',\n",
    "    \n",
    "    'extern': 'external',\n",
    "    'framework': 'framework',\n",
    "    'fix': 'fix',\n",
    "    'globalen': 'global',\n",
    "    'schnittstell': 'interface',\n",
    "    'implement' : 'implementation', \n",
    "    'infrastr' : 'infrastructure',\n",
    "    'informati' : 'informatik',\n",
    "    'intern': 'internal',\n",
    "    'manage' : 'management',\n",
    "    'method' : 'method',\n",
    "    'überwach' : 'monitoring',\n",
    "    'mobil': 'mobil',\n",
    "    'betrieb' : 'operation',\n",
    "    \n",
    "    'operat' : 'operation',\n",
    "    'operie' : 'operation',\n",
    "    'plattform' : 'platform',\n",
    "    'projec' : 'project',\n",
    "    'prozess' : 'process',\n",
    "    'process' : 'process',\n",
    "    'bearbeitung' : 'process',\n",
    "    'scrum': 'scrum',\n",
    "    'softwar': 'software',\n",
    "    'spezifi' :'specification',\n",
    "    'specifi' :'specification',\n",
    "    'unterstützt' : 'support',\n",
    "    'support' : 'support',\n",
    "    'system': 'system',\n",
    "    'anfoder': 'requirement',\n",
    "    'tech' : 'tech',\n",
    "    \n",
    "}"
   ]
  },
  {
   "cell_type": "code",
   "execution_count": 17,
   "metadata": {},
   "outputs": [],
   "source": [
    "def tokenization_data(text):\n",
    "    \"\"\"Normalize, tokenize and stem text string\n",
    "    \n",
    "    Args:\n",
    "    text: string. String containing message for processing\n",
    "       \n",
    "    Returns:\n",
    "    cleaned: list of strings. List containing normalized and stemmed word tokens\n",
    "    \"\"\"\n",
    "\n",
    "    try:\n",
    "        text = re.sub(r'(\\d)',' ',text.lower())\n",
    "        text = re.sub('[%s]' % re.escape(string.punctuation), ' ', text)\n",
    "        tokens = word_tokenize(text)\n",
    "        tokens_cleaned = [word for word in tokens if word not in stopwords_all and len(word) > 1]\n",
    "        cleaned = []\n",
    "        stemmer_keys = list(stemmer_own.keys())\n",
    "        for word in tokens_cleaned:\n",
    "            for stemmer_key in stemmer_keys:\n",
    "                if stemmer_key in word:\n",
    "                    stemmed_word = stemmer_own[stemmer_key]\n",
    "                    cleaned.append(stemmed_word)\n",
    "                    break\n",
    "            else:\n",
    "                cleaned.append(word)\n",
    "  \n",
    "                \n",
    "\n",
    "    except IndexError:\n",
    "        pass\n",
    "\n",
    "    return cleaned"
   ]
  },
  {
   "cell_type": "code",
   "execution_count": 18,
   "metadata": {},
   "outputs": [
    {
     "name": "stdout",
     "output_type": "stream",
     "text": [
      "Time taken to prepare 12130 projects documents: 8.13471433321635 min\n"
     ]
    }
   ],
   "source": [
    "# Clean text and title and create new column \"tokenized\"\n",
    "t1 = time.time()\n",
    "df['token_stem_spRm'] = df['project'].apply(tokenization_data)\n",
    "t2 = time.time()\n",
    "print(\"Time taken to prepare\", len(df), \"projects documents:\", (t2-t1)/60, \"min\")"
   ]
  },
  {
   "cell_type": "code",
   "execution_count": 19,
   "metadata": {},
   "outputs": [
    {
     "data": {
      "text/html": [
       "<div>\n",
       "<style scoped>\n",
       "    .dataframe tbody tr th:only-of-type {\n",
       "        vertical-align: middle;\n",
       "    }\n",
       "\n",
       "    .dataframe tbody tr th {\n",
       "        vertical-align: top;\n",
       "    }\n",
       "\n",
       "    .dataframe thead th {\n",
       "        text-align: right;\n",
       "    }\n",
       "</style>\n",
       "<table border=\"1\" class=\"dataframe\">\n",
       "  <thead>\n",
       "    <tr style=\"text-align: right;\">\n",
       "      <th></th>\n",
       "      <th>project</th>\n",
       "      <th>label</th>\n",
       "      <th>token_stem_spRm</th>\n",
       "    </tr>\n",
       "  </thead>\n",
       "  <tbody>\n",
       "    <tr>\n",
       "      <th>0</th>\n",
       "      <td>Wir suchen derzeit für ein Kundenprojekt eine/...</td>\n",
       "      <td>ERP-SAP</td>\n",
       "      <td>[kundenprojekt, senior, sap, sd, berater, hana...</td>\n",
       "    </tr>\n",
       "    <tr>\n",
       "      <th>1</th>\n",
       "      <td>Für unseren Kunden in Düsseldorf suchen wir ab...</td>\n",
       "      <td>IT-Mgmt-Projectleiter</td>\n",
       "      <td>[management, test, data, concepts, identifying...</td>\n",
       "    </tr>\n",
       "    <tr>\n",
       "      <th>2</th>\n",
       "      <td>For our client we are lookging for a freelance...</td>\n",
       "      <td>Dev-Web-Fullstack</td>\n",
       "      <td>[lookging, engineer, design, management, engin...</td>\n",
       "    </tr>\n",
       "    <tr>\n",
       "      <th>3</th>\n",
       "      <td>Projektbeschreibung \\n\\n                      ...</td>\n",
       "      <td>Dev-Web-Frontend</td>\n",
       "      <td>[agierendes, react, entwicklung, erwartet, agi...</td>\n",
       "    </tr>\n",
       "    <tr>\n",
       "      <th>4</th>\n",
       "      <td>Projektbeschreibung \\n\\n                      ...</td>\n",
       "      <td>ERP-SAP</td>\n",
       "      <td>[sap, management, upgrades, ehp, unterstützen,...</td>\n",
       "    </tr>\n",
       "  </tbody>\n",
       "</table>\n",
       "</div>"
      ],
      "text/plain": [
       "                                             project                  label  \\\n",
       "0  Wir suchen derzeit für ein Kundenprojekt eine/...                ERP-SAP   \n",
       "1  Für unseren Kunden in Düsseldorf suchen wir ab...  IT-Mgmt-Projectleiter   \n",
       "2  For our client we are lookging for a freelance...      Dev-Web-Fullstack   \n",
       "3  Projektbeschreibung \\n\\n                      ...       Dev-Web-Frontend   \n",
       "4  Projektbeschreibung \\n\\n                      ...                ERP-SAP   \n",
       "\n",
       "                                     token_stem_spRm  \n",
       "0  [kundenprojekt, senior, sap, sd, berater, hana...  \n",
       "1  [management, test, data, concepts, identifying...  \n",
       "2  [lookging, engineer, design, management, engin...  \n",
       "3  [agierendes, react, entwicklung, erwartet, agi...  \n",
       "4  [sap, management, upgrades, ehp, unterstützen,...  "
      ]
     },
     "execution_count": 19,
     "metadata": {},
     "output_type": "execute_result"
    }
   ],
   "source": [
    "df.head()"
   ]
  },
  {
   "cell_type": "code",
   "execution_count": 20,
   "metadata": {},
   "outputs": [],
   "source": [
    "bigram = gensim.models.Phrases(df['token_stem_spRm'].tolist(), min_count=5, threshold=50) # higher threshold fewer phrases.\n",
    "bigram_mod = gensim.models.phrases.Phraser(bigram)\n",
    "def make_bigrams(text):\n",
    "    return bigram_mod[text]"
   ]
  },
  {
   "cell_type": "code",
   "execution_count": 21,
   "metadata": {},
   "outputs": [],
   "source": [
    "# Form Bigrams\n",
    "df['token_stem_spRm_bigram'] = df['token_stem_spRm'].apply(make_bigrams)"
   ]
  },
  {
   "cell_type": "code",
   "execution_count": 22,
   "metadata": {},
   "outputs": [
    {
     "data": {
      "text/html": [
       "<div>\n",
       "<style scoped>\n",
       "    .dataframe tbody tr th:only-of-type {\n",
       "        vertical-align: middle;\n",
       "    }\n",
       "\n",
       "    .dataframe tbody tr th {\n",
       "        vertical-align: top;\n",
       "    }\n",
       "\n",
       "    .dataframe thead th {\n",
       "        text-align: right;\n",
       "    }\n",
       "</style>\n",
       "<table border=\"1\" class=\"dataframe\">\n",
       "  <thead>\n",
       "    <tr style=\"text-align: right;\">\n",
       "      <th></th>\n",
       "      <th>project</th>\n",
       "      <th>label</th>\n",
       "      <th>token_stem_spRm</th>\n",
       "      <th>token_stem_spRm_bigram</th>\n",
       "    </tr>\n",
       "  </thead>\n",
       "  <tbody>\n",
       "    <tr>\n",
       "      <th>0</th>\n",
       "      <td>Wir suchen derzeit für ein Kundenprojekt eine/...</td>\n",
       "      <td>ERP-SAP</td>\n",
       "      <td>[kundenprojekt, senior, sap, sd, berater, hana...</td>\n",
       "      <td>[kundenprojekt, senior, sap, sd, berater, hana...</td>\n",
       "    </tr>\n",
       "    <tr>\n",
       "      <th>1</th>\n",
       "      <td>Für unseren Kunden in Düsseldorf suchen wir ab...</td>\n",
       "      <td>IT-Mgmt-Projectleiter</td>\n",
       "      <td>[management, test, data, concepts, identifying...</td>\n",
       "      <td>[management, test, data, concepts, identifying...</td>\n",
       "    </tr>\n",
       "    <tr>\n",
       "      <th>2</th>\n",
       "      <td>For our client we are lookging for a freelance...</td>\n",
       "      <td>Dev-Web-Fullstack</td>\n",
       "      <td>[lookging, engineer, design, management, engin...</td>\n",
       "      <td>[lookging, engineer, design, management, engin...</td>\n",
       "    </tr>\n",
       "    <tr>\n",
       "      <th>3</th>\n",
       "      <td>Projektbeschreibung \\n\\n                      ...</td>\n",
       "      <td>Dev-Web-Frontend</td>\n",
       "      <td>[agierendes, react, entwicklung, erwartet, agi...</td>\n",
       "      <td>[agierendes, react, entwicklung, erwartet, agi...</td>\n",
       "    </tr>\n",
       "    <tr>\n",
       "      <th>4</th>\n",
       "      <td>Projektbeschreibung \\n\\n                      ...</td>\n",
       "      <td>ERP-SAP</td>\n",
       "      <td>[sap, management, upgrades, ehp, unterstützen,...</td>\n",
       "      <td>[sap, management, upgrades, ehp, unterstützen,...</td>\n",
       "    </tr>\n",
       "  </tbody>\n",
       "</table>\n",
       "</div>"
      ],
      "text/plain": [
       "                                             project                  label  \\\n",
       "0  Wir suchen derzeit für ein Kundenprojekt eine/...                ERP-SAP   \n",
       "1  Für unseren Kunden in Düsseldorf suchen wir ab...  IT-Mgmt-Projectleiter   \n",
       "2  For our client we are lookging for a freelance...      Dev-Web-Fullstack   \n",
       "3  Projektbeschreibung \\n\\n                      ...       Dev-Web-Frontend   \n",
       "4  Projektbeschreibung \\n\\n                      ...                ERP-SAP   \n",
       "\n",
       "                                     token_stem_spRm  \\\n",
       "0  [kundenprojekt, senior, sap, sd, berater, hana...   \n",
       "1  [management, test, data, concepts, identifying...   \n",
       "2  [lookging, engineer, design, management, engin...   \n",
       "3  [agierendes, react, entwicklung, erwartet, agi...   \n",
       "4  [sap, management, upgrades, ehp, unterstützen,...   \n",
       "\n",
       "                              token_stem_spRm_bigram  \n",
       "0  [kundenprojekt, senior, sap, sd, berater, hana...  \n",
       "1  [management, test, data, concepts, identifying...  \n",
       "2  [lookging, engineer, design, management, engin...  \n",
       "3  [agierendes, react, entwicklung, erwartet, agi...  \n",
       "4  [sap, management, upgrades, ehp, unterstützen,...  "
      ]
     },
     "execution_count": 22,
     "metadata": {},
     "output_type": "execute_result"
    }
   ],
   "source": [
    "df.head()"
   ]
  },
  {
   "cell_type": "code",
   "execution_count": 23,
   "metadata": {},
   "outputs": [
    {
     "name": "stdout",
     "output_type": "stream",
     "text": [
      "4431\n"
     ]
    }
   ],
   "source": [
    "# Obtain all bigrams\n",
    "all_lines = df['token_stem_spRm_bigram'].tolist()\n",
    "all_bigrams = list(set([word for words in all_lines for word in words if '_' in word]))\n",
    "all_bigrams.sort()\n",
    "print(len(all_bigrams))"
   ]
  },
  {
   "cell_type": "code",
   "execution_count": 25,
   "metadata": {},
   "outputs": [],
   "source": [
    "with open('all_bigrams_Approach_4.txt', 'w') as f:\n",
    "    for item in all_bigrams:\n",
    "        f.write(\"%s\\n\" % item)"
   ]
  },
  {
   "cell_type": "code",
   "execution_count": null,
   "metadata": {},
   "outputs": [],
   "source": []
  }
 ],
 "metadata": {
  "kernelspec": {
   "display_name": "Python 3",
   "language": "python",
   "name": "python3"
  },
  "language_info": {
   "codemirror_mode": {
    "name": "ipython",
    "version": 3
   },
   "file_extension": ".py",
   "mimetype": "text/x-python",
   "name": "python",
   "nbconvert_exporter": "python",
   "pygments_lexer": "ipython3",
   "version": "3.7.1"
  }
 },
 "nbformat": 4,
 "nbformat_minor": 2
}
