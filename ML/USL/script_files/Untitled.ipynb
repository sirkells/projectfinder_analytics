{
 "cells": [
  {
   "cell_type": "code",
   "execution_count": 1,
   "metadata": {},
   "outputs": [],
   "source": [
    "import os\n",
    "import nltk\n",
    "import pickle\n",
    "\n",
    "def getStopWords(currDir):\n",
    "    dataDir = os.path.join(currDir,  \"constants\")\n",
    "    stopwordsLocation = os.path.join(dataDir, \"stopwords.pickle\")\n",
    "    pickle_in = open(stopwordsLocation,\"rb\")\n",
    "    stopwords = pickle.load(pickle_in)\n",
    "    print(len(stopwords))\n",
    "    return stopwords\n",
    "   \n",
    "    \n",
    "def addingStopWords(words, stopwords):\n",
    "    stopwords.extend(words)\n",
    "    print(len(stopwords))\n",
    "    newStopWords = list(set(stopwords))\n",
    "    return newStopWords\n",
    "\n",
    "def saveNewStopWords(currDir, newStopWords):\n",
    "    dataDir = os.path.join(currDir,  \"constants\")\n",
    "    stopwordsLocation = os.path.join(dataDir,  \"stopwords.pickle\")\n",
    "    pickle_out = open(stopwordsLocation,\"wb\")\n",
    "    pickle.dump(newStopWords, pickle_out)\n",
    "    pickle_out.close()\n",
    "    \n",
    "def modifyingStopWords(newWords):\n",
    "    os.chdir('..')\n",
    "    currDir = os.getcwd()\n",
    "    print(currDir)\n",
    "    stopWords = getStopWords(currDir)\n",
    "    print(len(stopWords))\n",
    "    print(len(newWords))\n",
    "    newStopWords = addingStopWords(newWords, stopWords)\n",
    "    saveNewStopWords(currDir, newStopWords)\n",
    "    print('Added new StopWords')\n",
    "    \n",
    "    \n",
    "    \n"
   ]
  },
  {
   "cell_type": "code",
   "execution_count": 2,
   "metadata": {},
   "outputs": [
    {
     "name": "stdout",
     "output_type": "stream",
     "text": [
      "/opt/jupyter/Icxa/projectfinder_analytics/ML/USL\n",
      "13240\n",
      "13240\n",
      "2\n",
      "13242\n",
      "Added new StopWords\n"
     ]
    }
   ],
   "source": [
    "if __name__ == \"__main__\":\n",
    "    newWords = ['hochschulabschluss', 'fachhochschulabschluss']\n",
    "    modifyingStopWords(newWords)"
   ]
  },
  {
   "cell_type": "code",
   "execution_count": null,
   "metadata": {},
   "outputs": [],
   "source": []
  }
 ],
 "metadata": {
  "kernelspec": {
   "display_name": "Python 3",
   "language": "python",
   "name": "python3"
  },
  "language_info": {
   "codemirror_mode": {
    "name": "ipython",
    "version": 3
   },
   "file_extension": ".py",
   "mimetype": "text/x-python",
   "name": "python",
   "nbconvert_exporter": "python",
   "pygments_lexer": "ipython3",
   "version": "3.7.1"
  }
 },
 "nbformat": 4,
 "nbformat_minor": 2
}
