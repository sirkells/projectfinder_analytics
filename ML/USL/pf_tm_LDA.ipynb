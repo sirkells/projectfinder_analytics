{
 "cells": [
  {
   "cell_type": "code",
   "execution_count": 1126,
   "metadata": {},
   "outputs": [],
   "source": [
    "import pandas as pd\n",
    "import numpy as np\n",
    "from sklearn.decomposition import LatentDirichletAllocation\n",
    "from sklearn.feature_extraction.text import CountVectorizer, TfidfVectorizer, TfidfTransformer\n",
    "from sklearn.decomposition import NMF\n",
    "from sklearn.model_selection import GridSearchCV\n",
    "import re"
   ]
  },
  {
   "cell_type": "code",
   "execution_count": 840,
   "metadata": {},
   "outputs": [],
   "source": [
    "# load nltk's SnowballStemmer\n",
    "from nltk.stem.snowball import SnowballStemmer\n",
    "stemmer_eng = SnowballStemmer(\"english\", ignore_stopwords=True)\n",
    "stemmer_germ = SnowballStemmer(\"german\", ignore_stopwords=True)"
   ]
  },
  {
   "cell_type": "code",
   "execution_count": 835,
   "metadata": {},
   "outputs": [],
   "source": [
    "from spacy.lang.de import German\n",
    "from spacy.lang.en import English\n",
    "nlp_de = German()\n",
    "nlp_en = English()"
   ]
  },
  {
   "cell_type": "code",
   "execution_count": 836,
   "metadata": {},
   "outputs": [],
   "source": [
    "from bundeslander import Baden_Württemberg, Bayern, Berlin, Brandenburg, Bremen, Hamburg, Hessen, Mecklenburg_Vorpommern, Niedersachsen, Nordrhein_Westfalen, Rheinland_Pfalz, Saarland, Sachsen, Sachsen_Anhalt, Schleswig_Holstein, Thüringen, Ausland\n",
    "All = Baden_Württemberg + Bayern + Berlin + Brandenburg + Bremen +Hamburg + Hessen + Mecklenburg_Vorpommern + Niedersachsen + Nordrhein_Westfalen + Rheinland_Pfalz + Saarland + Sachsen + Sachsen_Anhalt + Schleswig_Holstein + Thüringen + Ausland"
   ]
  },
  {
   "cell_type": "code",
   "execution_count": 801,
   "metadata": {},
   "outputs": [],
   "source": [
    "cities = list(set([city.lower() for city in All]))"
   ]
  },
  {
   "cell_type": "code",
   "execution_count": 1135,
   "metadata": {},
   "outputs": [
    {
     "data": {
      "text/html": [
       "<div>\n",
       "<style scoped>\n",
       "    .dataframe tbody tr th:only-of-type {\n",
       "        vertical-align: middle;\n",
       "    }\n",
       "\n",
       "    .dataframe tbody tr th {\n",
       "        vertical-align: top;\n",
       "    }\n",
       "\n",
       "    .dataframe thead th {\n",
       "        text-align: right;\n",
       "    }\n",
       "</style>\n",
       "<table border=\"1\" class=\"dataframe\">\n",
       "  <thead>\n",
       "    <tr style=\"text-align: right;\">\n",
       "      <th></th>\n",
       "      <th>skill_summary</th>\n",
       "      <th>title</th>\n",
       "      <th>description</th>\n",
       "    </tr>\n",
       "  </thead>\n",
       "  <tbody>\n",
       "    <tr>\n",
       "      <th>0</th>\n",
       "      <td>tableau, visualisierung</td>\n",
       "      <td>Business Intelligence Analyst (m/w) - Tableau ...</td>\n",
       "      <td>Business Intelligence Analyst (m/w) - Tableau ...</td>\n",
       "    </tr>\n",
       "    <tr>\n",
       "      <th>1</th>\n",
       "      <td>, implementierung, java, ms sql, camel, apache...</td>\n",
       "      <td>Developer - Talend ESB oder Apache Camel (m/w)...</td>\n",
       "      <td>Konzeption, Customizing sowie Softwareanpassun...</td>\n",
       "    </tr>\n",
       "    <tr>\n",
       "      <th>2</th>\n",
       "      <td>, windows, clients, ios, mobile devices, mobil...</td>\n",
       "      <td>IT-Mitarbeiter (m/w) 1st / 2nd Level Support /...</td>\n",
       "      <td>Als Mitglied eines kleinen, dynamischen Teams ...</td>\n",
       "    </tr>\n",
       "    <tr>\n",
       "      <th>3</th>\n",
       "      <td>dynamics ax 2009, dynamics crm 4.0, dynamics a...</td>\n",
       "      <td>Consultant für Microsoft Dynamics CRM (m/w)</td>\n",
       "      <td>Über unseren Kunden: \\n   \\n Unser Kunde ist e...</td>\n",
       "    </tr>\n",
       "    <tr>\n",
       "      <th>4</th>\n",
       "      <td>hibernate, java, deutsch, oracle 11g, oracle 1...</td>\n",
       "      <td>Java Senior Developer - Backend (f/m)</td>\n",
       "      <td>Über unseren Kunden: \\n   \\n Unser Kunde ist e...</td>\n",
       "    </tr>\n",
       "  </tbody>\n",
       "</table>\n",
       "</div>"
      ],
      "text/plain": [
       "                                       skill_summary  \\\n",
       "0                            tableau, visualisierung   \n",
       "1  , implementierung, java, ms sql, camel, apache...   \n",
       "2  , windows, clients, ios, mobile devices, mobil...   \n",
       "3  dynamics ax 2009, dynamics crm 4.0, dynamics a...   \n",
       "4  hibernate, java, deutsch, oracle 11g, oracle 1...   \n",
       "\n",
       "                                               title  \\\n",
       "0  Business Intelligence Analyst (m/w) - Tableau ...   \n",
       "1  Developer - Talend ESB oder Apache Camel (m/w)...   \n",
       "2  IT-Mitarbeiter (m/w) 1st / 2nd Level Support /...   \n",
       "3        Consultant für Microsoft Dynamics CRM (m/w)   \n",
       "4              Java Senior Developer - Backend (f/m)   \n",
       "\n",
       "                                         description  \n",
       "0  Business Intelligence Analyst (m/w) - Tableau ...  \n",
       "1  Konzeption, Customizing sowie Softwareanpassun...  \n",
       "2  Als Mitglied eines kleinen, dynamischen Teams ...  \n",
       "3  Über unseren Kunden: \\n   \\n Unser Kunde ist e...  \n",
       "4  Über unseren Kunden: \\n   \\n Unser Kunde ist e...  "
      ]
     },
     "execution_count": 1135,
     "metadata": {},
     "output_type": "execute_result"
    }
   ],
   "source": [
    "df = pd.read_csv('../projectfinder.csv')\n",
    "df.dropna(axis=0, inplace=True)\n",
    "df.head()"
   ]
  },
  {
   "cell_type": "code",
   "execution_count": 803,
   "metadata": {},
   "outputs": [],
   "source": [
    "a = df[df.columns[0:]].apply(lambda x: ','.join(x.dropna()),axis=1).tolist()"
   ]
  },
  {
   "cell_type": "code",
   "execution_count": 1048,
   "metadata": {},
   "outputs": [
    {
     "data": {
      "text/plain": [
       "652"
      ]
     },
     "execution_count": 1048,
     "metadata": {},
     "output_type": "execute_result"
    }
   ],
   "source": [
    "# load nltk's German and english stopwords'\n",
    "import nltk\n",
    "with open('german_stopwords_full.txt', 'r') as f:\n",
    "    stopwords_germ = f.read().splitlines()\n",
    "\n",
    "stopwords_eng = nltk.corpus.stopwords.words('english')\n",
    "extra = ['deutscher','bewerben', 'bewerb', 'koln', 'direkt','herzlichen', 'melden', 'www', 'contactor', 'erfahrung', 'kenntnisse', 'kenntnis''contractor','https','de','impressum','munchen','frankfurt', 'suchen', 'kunden','bitte', 'inkl', 'bereich', 'einsatzort', 'dauer', 'umfeld', 'gmbh', 'pt', 'aufgaben', 'anforderungen', 'informationen', 'kunden', 'münchen', 'referenz', 'aufnehmen', 'profitieren', 'email', 'freuen', 'vorteile', 'ansprechpartner', 'beginn', 'qualifikation', 'referenznummer', 'unternehmen', 'dauer', 'passende', 'positionen', 'hays', 'kontakt', 'aufgaben']\n",
    "extra1 = ['ort', 'customizing', 'freuen', 'fiori', 'bitte', 'basis', 'months', 'team', 'location', 'good', 'work', 'working', 'freitag', 'client', 'looking', 'knowledge', 'skills', 'experience', 'auftraggebers', 'jan', 'interessanten', 'selbstverständlich', 'bieten', 'freundlichen','understanding', 'service','firmensitz', 'fax', 'mobil', 'information', 'hrb', 'geschäftsführer','expertise', 'ready', 'honorarsatz', 'excellence', 'spannenden','abhängig', 'interessen', 'abwechslungsreiche', 'aussicht', 'aufgabe',]\n",
    "extra2 = ['remote', 'interesse', 'laufzeit', 'freue', 'gerne', 'projekt', 'raum', 'auslastung','start', 'monate', 'erstellung','anzahl', 'personen', 'tagessatzes','völlig', 'bond', 'amoria', 'rahmenbedingungen', 'interessante', 'sicher', 'stellen', 'sektor', 'öffentlichen', 'experten','wachsen', 'frau', 'gestaltungsmöglichkeiten', 'arbeitsbereiches',  'grad', 'neueste', 'universität', 'gezielte', 'teamfähigkeit', 'engagierten', 'vorteil', 'mindestens', 'join', 'bewerbungsunterlagen', 'kommunikation', 'yrs','bitten']\n",
    "extra3 = ['zeitraum', 'profil', 'senden', 'format', 'std','geehrte', 'damen', 'herren', 'verfügung', 'aktuell','woche','senior','möchten', 'gewünschten','new', 'product', 'strong', 'language','based', 'new', 'teams', 'contact', 'tasks','role', 'end', 'customer', 'required', 'michael', 'bailey', 'vermitteln', 'unterbreiten', 'pdf', 'intensiven','high', 'code', 'communication','holger', 'manager', 'anfragen', 'beratung', 'accounting', 'zukommen', 'lassen', 'munich','kompetenzen', 'verfügt', 'breites',  'individuellen', 'erbracht', 'standards', 'ag', 'isax', 'komponenten', 'abgabefrist', 'technischen', 'kompetent']\n",
    "extra4 = ['königstein', 'percision', 'eu', 'id', 'verfügbarkeit', 'freuen', 'sofort', 'option', 'grüßen', 'profil', 'bitte', 'unseren', 'bewerbung', 'köln', 'mail', 'herr', 'zusendung','connect', 'alexander', 'nutzen','registrieren', 'rollout', 'angebot', 'erstellen', 'zusammenarbeit', 'rahmen', 'einfach','qualifikationsprofils', 'technologiedienstleistern', 'engineering', 'branchen', 'freiberuflicheinsatzort', 'technologiedienstleistern', 'technologies', 'engineer', 'engineering']\n",
    "extra5 = ['deutsch','fachlichen', 'group','keil', 'montreal', 'associates', 'level', 'system', 'english', 'change', 'german', 'stundensatzvorstellung', 'wecken', 'führenden', 'weltweit', 'kontaktperson', 'kenntnissen', 'wort', 'schrift', 'spannende', 'herausgeben', 'weiterführende', 'spannendes', 'stundensätzen', 'preisvorgabe', 'bestmöglichen','engagierte', 'tellerrand', 'blicken', 'herausforderungen', 'wirtschaft', 'karten', 'sucht','honorierung', 'design', 'entsprechende', 'ausschließlich', 'zukünftigen', 'beachten', 'wien', 'sitz', 'arbeitszeiten', 'flexible', 'prozesse', 'schanzenstrasse', 'beratungsgesellschaft', 'mbh', 'technologien', 'homepage', 'direkte', 'falls', 'management']\n",
    "extra6 = ['niederlassung', 'ferchau', 'ref', 'partner', 'bereichen', 'aussagekräftigen', 'angabe', 'projekte', 'einsatz', 'zusendung', 'arbeiten', 'betrieb', 'durchführung', 'erfahrungen', 'herr', 'fragen','passenden', 'bringen', 'mitarbeiter','zusätzliche','ausbildung', 'persönliche', 'fachhochschule', 'htl', 'aufgabengebiet', 'langjährigen','betroffenenrechte','registergericht', 'erfolgt', 'stets', 'spezialisten', 'erkennen', 'initiativ', 'persönlich', 'beantwortet', 'unterlagen', 'functional']\n",
    "extra7 = ['fachwissen', 'führungskräfte', 'chance', 'fundiertes', 'angabe', 'level', 'top', 'verlängerungsoption', 'hierfür', 'englisch', 'umsetzung', 'unserem', 'deutsch', 'asap', 'kunde',  'deutsch', 'verfügbar','erstellen', 'zusammenarbeit','link', 'love', 'ulrich','spitzenunternehmen', 'solcom', 'entscheidet', 'zählt', 'global', 'agierender', 'innovation','template', 'ability','weiterentwicklung','controlling', 'sprache', 'schneller', 'empfehlen', 'entscheidung', 'telefonische', 'telefon']\n",
    "extra8 = ['endkunden', 'cv', 'stundensatzes', 'aktuellen', 'hamburg', 'angabe', 'verlängerung', 'gesucht', 'vollzeit', 'unterstützung', 'standort', 'cv', 'using', 'please',  'germany',  'duration',  'german',  'years',  'english', 'angaben', 'alter', 'hinblick', 'bewerbungen', 'geschlecht', 'herzlichen', 'kontaktdaten', 'zustimmung', 'grüße', 'ariba', 'us', 'fokus', 'beste', 'services', 'stingel', 'voraus', 'geweckt','deutschkenntnisse','interessiert','noack','daten', 'swift', 'entwicklung', 'märz', 'berücksichtigen', 'recruitment','modern', 'qualifications', 'free',  'use', 'customers', 'bestätigen',  'einführung', 'details', 'branche','find', 'make', 'text']\n",
    "extra9 = ['fragen', 'asap','recruiter', 'kandidaten', 'genannten', 'aktuellen','erfahrungen', 'kostenfrei', 'finden', 'asap', 'düsseldorf', 'telefonisch', 'standort', 'folgenden', 'stundensatzvorstellung', 'jederzeit', 'geforderten', 'rückfragen', 'vollzeit', 'deutsch', 'verlängerung', 'zusendung', 'per', 'hamburg', 'stehen',  'cv', 'erfahrungen', 'main', 'solution', 'job', 'ax', 'nav','projektdetails', 'anschluss', 'migration', 'vereinbart', 'kurzfristig', 'interviews',]\n",
    "extra10 = ['komplexer', 'amtsgericht', 'geschäftsführung','datenschutz', 'automotive','umgang','wünschenswert', 'nice','within','ipsways', 'aix', 'arbeitsplatz', 'idealerweise', 'anfrage', 'möglichkeit', 'aktuelle', 'onsite', 'beschreibung', 'betreuung', 'nr','stundensatz', 'arbeitsende', 'arbeitsbeginn','zugang', 'reizvollen', 'größen', 'rekrutierung', 'angebote', 'erfahren', 'attraktive', 'kontakte','englischkenntnisse','science','mehrjährige', 'must', 'freelance', 'environment','logistik']\n",
    "extra11 = [ 'interested','jahren','wordformat','tel','stellentyp','suche','projekten', 'office', 'jahre','tage','projektteams','kurzfristigen', 'dienstleistungen', 'rahmenvertragspartner', 'qualifizierte', 'motivierte', 'weinbergstraße', 'zuverlässig', 'spektrum', 'angebotsabgabe', 'grotz', 'fulltime', 'jobs', 'kolleginnen', 'zugesicherte','anlehnung','currently','anspruchsvolle', 'leistungsbereitschaft', 'projektbörse', 'archiviert', 'vakante', 'renommierten', 'ergebnisorientierung', 'word', 'profils', 'feedback', 'mitwirkung', 'projektbeschreibung', 'schicken', 'leistungsorientierte', 'aktiv', 'suche','fachausdrücke', 'diskriminierend', 'fundierte', 'qualifikationen','aktuelles', 'fähigkeiten','hause','verwenden', 'projekterfahrung','ust', 'kastenmeier', 'xxxx', 'co', 'board', 'deutschlandweit', 'projektteams', 'angebotsabgabe', 'grotz', 'fulltime', 'jobs','wordformat', 'kolleginnen', 'zugesicherte','tätigkeit', 'bergheimer', 'fundierte', 'tage', 'projektverlängerung', 'freiberuflichen', 'kreativität', 'erhebung', 'anspruchsvolle', 'leistungsbereitschaft', 'projektbörse', 'archiviert', 'vakante', 'renommierten', 'ergebnisorientierung', 'word', 'profils', 'feedback', 'mitwirkung', 'projektbeschreibung', 'schicken', 'leistungsorientierte','hinweg', 'rekrutierungserfahrung', 'kundenbeziehungen', 'endkundenprojekte', 'industriebranchen', 'bewerbungsprozess','abstimmung', 'alters', 'fachausdrücke', 'diskriminierend', 'fundierte', 'qualifikationen','rahmenverträge', 'anlagenbuchhaltung', 'branchenkompetenz', 'kommerzielle', 'entscheidende', 'acting', 'vacancy', 'suche', 'relation', 'unbefristet', 'erfolg', 'effizienz', 'daniel', 'kundenanfragen', 'freiberuflich', 'eventuell', 'besetzen', 'richten','able', 'written', 'month', 'including', 'provide', 'one', 'develop', 'area', 'time', 'quality', 'tools', 'like', 'industry', 'date', 'would', 'experienced','extension', 'international', 'excellent', 'systems', 'description', 'contract', 'projects', 'company', 'process', 'interested', 'fluent', 'currently', 'projektbeschreibung', 'optimale', 'ilhan', 'babac', 'schwerpunkt', 'finance', 'corporate', 'rufen', 'telefone', 'eventuell', 'innovativen', 'wünschen', 'realisierung', 'tel', 'zeit', 'interim', 'spezifikation', 'maximilian', 'projektort', 'phasen', 'projekten', 'tätigkeit', ]\n",
    "ext = extra + extra1 + extra2 + extra3 + extra4 + extra5 + extra6 + extra7 + extra8 + extra9 + extra10 + extra11\n",
    "len(ext)"
   ]
  },
  {
   "cell_type": "code",
   "execution_count": 1049,
   "metadata": {},
   "outputs": [
    {
     "data": {
      "text/plain": [
       "577"
      ]
     },
     "execution_count": 1049,
     "metadata": {},
     "output_type": "execute_result"
    }
   ],
   "source": [
    "all_extras = list(set(extra + extra1 + extra2 + extra3 + extra4 + extra5 + extra6 + extra7 + extra8 + extra9 + extra10 + extra11))\n",
    "stopwords = stopwords_germ + stopwords_eng + all_extras + cities\n",
    "len(all_extras)"
   ]
  },
  {
   "cell_type": "code",
   "execution_count": 952,
   "metadata": {},
   "outputs": [
    {
     "name": "stdout",
     "output_type": "stream",
     "text": [
      "erfahr\n"
     ]
    }
   ],
   "source": [
    "print(stemmer_germ.stem(\"erfahrung\"))"
   ]
  },
  {
   "cell_type": "code",
   "execution_count": 953,
   "metadata": {},
   "outputs": [],
   "source": [
    "def tokenize_lower_alpha(text):\n",
    "    tokens = nlp_de(text)\n",
    "    data = list({token.lower_ for token in tokens if token.is_alpha})\n",
    "    return data"
   ]
  },
  {
   "cell_type": "code",
   "execution_count": 954,
   "metadata": {},
   "outputs": [
    {
     "data": {
      "text/plain": [
       "['kandidaten',\n",
       " 'softwarearchitektur',\n",
       " 'jumping',\n",
       " 'working',\n",
       " 'running',\n",
       " 'kenntnisse']"
      ]
     },
     "execution_count": 954,
     "metadata": {},
     "output_type": "execute_result"
    }
   ],
   "source": [
    "tok = tokenize_lower_alpha('Working Jumping running 1234 kenntnisse Jumping softwarearchitektur softwarearchitektur kandidaten')\n",
    "tok"
   ]
  },
  {
   "cell_type": "code",
   "execution_count": 897,
   "metadata": {},
   "outputs": [],
   "source": [
    "def lemmatse_stem_word(text):\n",
    "    data = list({stemmer_germ.stem(token) for token in text if token not in stopwords})\n",
    "    data = list({stemmer_eng.stem(token) for token in text if token not in stopwords})\n",
    "    return data"
   ]
  },
  {
   "cell_type": "code",
   "execution_count": 898,
   "metadata": {},
   "outputs": [
    {
     "data": {
      "text/plain": [
       "['jump', 'run', 'softwarearchitektur']"
      ]
     },
     "execution_count": 898,
     "metadata": {},
     "output_type": "execute_result"
    }
   ],
   "source": [
    "lemmatse_stem_word(tok)"
   ]
  },
  {
   "cell_type": "code",
   "execution_count": 955,
   "metadata": {},
   "outputs": [],
   "source": [
    "def remove_stopwords(data):\n",
    "    data = list({token for token in data if token not in stopwords})\n",
    "    return data"
   ]
  },
  {
   "cell_type": "code",
   "execution_count": 956,
   "metadata": {},
   "outputs": [
    {
     "data": {
      "text/plain": [
       "['jumping', 'running', 'softwarearchitektur']"
      ]
     },
     "execution_count": 956,
     "metadata": {},
     "output_type": "execute_result"
    }
   ],
   "source": [
    "rem = remove_stopwords(tok)\n",
    "rem"
   ]
  },
  {
   "cell_type": "code",
   "execution_count": 957,
   "metadata": {},
   "outputs": [
    {
     "name": "stderr",
     "output_type": "stream",
     "text": [
      "<>:3: DeprecationWarning: invalid escape sequence \\s\n",
      "<>:3: DeprecationWarning: invalid escape sequence \\s\n",
      "<>:3: DeprecationWarning: invalid escape sequence \\s\n",
      "<ipython-input-957-d78d277f9180>:3: DeprecationWarning: invalid escape sequence \\s\n",
      "  data = [re.sub('\\s+', ' ', sent) for sent in data]\n"
     ]
    }
   ],
   "source": [
    "def df_tolist(df):\n",
    "    data = df[df.columns[0:]].apply(lambda x: ','.join(x.dropna()),axis=1).tolist()\n",
    "    data = [re.sub('\\s+', ' ', sent) for sent in data]\n",
    "    return data"
   ]
  },
  {
   "cell_type": "code",
   "execution_count": 853,
   "metadata": {},
   "outputs": [],
   "source": [
    "data = df_tolist(df)"
   ]
  },
  {
   "cell_type": "code",
   "execution_count": 1050,
   "metadata": {},
   "outputs": [],
   "source": [
    "def cleaned_data(data):\n",
    "    #data = [item.split() for item in data]\n",
    "    data = [tokenize_lower_alpha(text) for text in data]\n",
    "    data = [remove_stopwords(word) for word in data]\n",
    "    #data = [lemmatse_stem_word(word) for word in data]\n",
    "    #data = str(data).replace('[','').replace(']','').replace(\"'\", \"\")\n",
    "    return data"
   ]
  },
  {
   "cell_type": "code",
   "execution_count": 1051,
   "metadata": {},
   "outputs": [],
   "source": [
    "prepared_data = cleaned_data(data)"
   ]
  },
  {
   "cell_type": "code",
   "execution_count": 1052,
   "metadata": {},
   "outputs": [],
   "source": [
    "prepared_data = [' '.join(doc) for doc in prepared_data]"
   ]
  },
  {
   "cell_type": "code",
   "execution_count": 1053,
   "metadata": {},
   "outputs": [
    {
     "data": {
      "text/plain": [
       "['kundenprojekt kontinui analyst desktop visualisierung ffm business intelligence tableau',\n",
       " 'softwarearchitekturen softwarearchitektur oracle webservices testautomatisierung camel ms talend java activemq esb datenmodelle sql softwaresystemen implementierung analyse developer datenbanken softwareanpassungen apache',\n",
       " 'probleme priorisierung selbstständige dynamischen microsoft lösen bearbeitung pflege ios dokumentation telefon ausgeprägte referenzkunden clients sorgfältige windows entgegennahme muttersprache niveau zuordnung fehlerbehebung systemen mitglied support schichten gemeinsam ticket ms android einsatzbereitschaft gutes mobile freundliches übernahme problems lösungsansätze problemlösung montag kollegen devices analyse outlook servicezeiten']"
      ]
     },
     "execution_count": 1053,
     "metadata": {},
     "output_type": "execute_result"
    }
   ],
   "source": [
    "prepared_data[:3]"
   ]
  },
  {
   "cell_type": "code",
   "execution_count": 937,
   "metadata": {},
   "outputs": [],
   "source": [
    "def tokenize(text):\n",
    "    lda_tokens = []\n",
    "    tokens = nlp_de(text)\n",
    "    for token in tokens:\n",
    "        if token.orth_.isspace():\n",
    "            continue\n",
    "        elif token.is_alpha:\n",
    "            #germ_lemma = token.lemma_\n",
    "            #eng_stem = stemmer_eng.stem(token.lower_)\n",
    "            #germ_stem= stemmer_germ.stem(token.lemma_)\n",
    "            lower = re.sub(\"\\'\", \"\", token.lower_)\n",
    "            if lower not in stopwords:\n",
    "                lda_tokens.append(lower)\n",
    "    return lda_tokens"
   ]
  },
  {
   "cell_type": "code",
   "execution_count": 708,
   "metadata": {},
   "outputs": [],
   "source": [
    "def clean_and_stem(word):\n",
    "    clean_word1 = [tokenize(a) for a in word]\n",
    "    clean_word = str(clean_word1).replace('[','').replace(']','').replace(\"'\", \"\")\n",
    "    return clean_word"
   ]
  },
  {
   "cell_type": "code",
   "execution_count": 663,
   "metadata": {},
   "outputs": [],
   "source": [
    "def get_optimal_data(df):\n",
    "    #split features\n",
    "    col = [col for col in df.columns]\n",
    "    combined = df[col[0]] + ' '  + df[col[1]] + ' '  + df[col[2]]\n",
    "    combined_tolist = [item.split() for item in combined]\n",
    "    combined_cleaned = [clean_and_stem(word) for word in combined_tolist]\n",
    "    return combined_cleaned"
   ]
  },
  {
   "cell_type": "code",
   "execution_count": 664,
   "metadata": {},
   "outputs": [],
   "source": [
    "optimal_data = get_optimal_data(df)"
   ]
  },
  {
   "cell_type": "code",
   "execution_count": 666,
   "metadata": {
    "scrolled": true
   },
   "outputs": [
    {
     "data": {
      "text/plain": [
       "['tableau, visualisierung, business, intelligence, analyst, , , tableau, desktop, , ffm, business, intelligence, analyst, , , tableau, desktop, für, einen, kundenprojekt, suchen, ich, ich, als, business, intelligence, analyst, , , tableau, desktop, der, kunde, haben, einen, sehr, hoch, kontinui, ',\n",
       " ', implementierung, java, ms, sql, camel, apache, camel, datenmodelle, analyse, engineering, entwicklung, oracle, datenbanken, talend, esb, ms, sql, apache, softwarearchitektur, activemq, testautomatisierung, webservices, developer, , talend, esb, oder, apache, camel, , , , , konzeption, customizing, sowie, softwareanpassungen, mit, talend, esb, implementierung, von, softwaresystemen, mit, java, analyse, sowie, design, von, softwarearchitekturen']"
      ]
     },
     "execution_count": 666,
     "metadata": {},
     "output_type": "execute_result"
    }
   ],
   "source": [
    "optimal_data[:2]"
   ]
  },
  {
   "cell_type": "code",
   "execution_count": 1054,
   "metadata": {},
   "outputs": [],
   "source": [
    "#initialize vectorizer\n",
    "tfidf = TfidfVectorizer(min_df=10, stop_words=stopwords, analyzer='word', ngram_range=(1,2))\n",
    "cv = CountVectorizer(min_df=10, stop_words=stopwords, analyzer='word', ngram_range=(1,2))"
   ]
  },
  {
   "cell_type": "code",
   "execution_count": 1055,
   "metadata": {
    "scrolled": true
   },
   "outputs": [
    {
     "name": "stderr",
     "output_type": "stream",
     "text": [
      "/opt/anaconda3/lib/python3.7/site-packages/sklearn/feature_extraction/text.py:300: UserWarning: Your stop_words may be inconsistent with your preprocessing. Tokenizing the stop words generated tokens ['12', '2016', 'admannshagen', 'ahlefeld', 'ahrenshagen', 'ahrweiler', 'algesheim', 'alsenborn', 'annaberg', 'anspach', 'apenburg', 'apfelstädt', 'aspern', 'assenheim', 'audorf', 'auma', 'balbini', 'ballrechten', 'barchfeld', 'bargen', 'bargeshagen', 'bargfeld', 'barl', 'bartenshagen', 'baumbach', 'bayerfeld', 'behren', 'beierfeld', 'belgern', 'berggießhübel', 'berkholz', 'bernkastel', 'bernsbach', 'bertsdorf', 'berzdorf', 'besenbek', 'bickelheim', 'bieberau', 'bielatal', 'bienenmühle', 'birken', 'birkendorf', 'bistensee', 'bitterfeld', 'blankenfelde', 'bleyen', 'bobritzsch', 'bodenrode', 'bodman', 'bokholt', 'borgdorf', 'bornhofen', 'bornstein', 'brande', 'brehna', 'bretnig', 'brieskow', 'brotterode', 'bruchmühlbach', 'bruttig', 'burgalben', 'byhleguhre', 'byhlen', 'bäumenheim', 'böhl', 'börgerende', 'bösleben', 'camburg', 'carmzow', 'castrop', 'clarholz', 'clausthal', 'colberg', 'crumbach', 'cölln', 'dabelow', 'dallgow', 'dalsheim', 'damgarten', 'dammendorf', 'dannstadt', 'daskow', 'dat', 'demitz', 'dennweiler', 'dessau', 'dhaun', 'dhron', 'diekhusen', 'diensdorf', 'diera', 'dietharz', 'dingharting', 'dittelsheim', 'dittersbach', 'divitz', 'dobbin', 'doberlug', 'doberschau', 'dohm', 'dorn', 'dottingen', 'downloads', 'dratow', 'drusweiler', 'döberitz', 'dörfles', 'dürrn', 'dürrröhrsdorf', 'ebenhausen', 'echterdingen', 'ediger', 'edingen', 'efringen', 'egern', 'egerndach', 'eggenstein', 'ehra', 'ehrsberg', 'ekholt', 'elchesheim', 'elisabeth', 'ellenz', 'eller', 'elsheim', 'elversberg', 'emmelsbüll', 'emmingen', 'enge', 'enhanced', 'enkenbach', 'erbes', 'erbisdorf', 'erdmannsdorf', 'erkenschwick', 'ernstthal', 'esbach', 'eßleben', 'fahrendorf', 'fahrstedt', 'fankel', 'fargau', 'farnroda', 'faulück', 'fehl', 'fehrow', 'ferchesar', 'finkenbach', 'finkenheerd', 'fischbeck', 'flehde', 'flieth', 'floh', 'fluorn', 'fohren', 'fredersdorf', 'friedrich', 'frohnbach', 'fränkisch', 'fröschen', 'föhrden', 'garmisch', 'garzau', 'garzin', 'gaußig', 'genschmar', 'gerau', 'gersweiler', 'gierend', 'ginsheim', 'give', 'glasbach', 'gleishorbach', 'gleiszellen', 'glewe', 'glien', 'goldhausen', 'golzig', 'gorden', 'gosen', 'gossersweiler', 'gottleuba', 'graal', 'granitz', 'grebs', 'grenzach', 'grenzhausen', 'grimmenthal', 'grunow', 'grünhain', 'gusow', 'gustavsburg', 'gutenzell', 'göhrendorf', 'görne', 'götze', 'gülitz', 'günthersleben', 'hackpfüffel', 'hademarschen', 'haidhof', 'hakel', 'halenbeck', 'hanerau', 'hangen', 'hanredder', 'hardenberg', 'harth', 'hau', 'hauswalde', 'haßlau', 'heckelberg', 'heinrichsberg', 'heldburg', 'hellenhahn', 'hellschen', 'heng', 'henstedt', 'herdwangen', 'heringsand', 'herschweiler', 'herzebrock', 'heßloch', 'hilbersheim', 'hilgertshausen', 'hinzert', 'hirz', 'hochstetten', 'hohenofen', 'hohenraden', 'hohenselchow', 'hollern', 'holte', 'honigsessen', 'horsbüll', 'htm', 'hundheim', 'hußweiler', 'häg', 'hähnlein', 'höhenkirchen', 'höhr', 'hörnerkirchen', 'hörnitz', 'hörselberg', 'hürbel', 'idar', 'iggelheim', 'illfurth', 'immelborn', 'inf', 'ingenheim', 'jeßnitz', 'jämlitz', 'kaiser', 'kamp', 'kapellen', 'karden', 'kasbach', 'kastel', 'katlenburg', 'kaulbach', 'kenz', 'kirchenarnbach', 'kirchhasel', 'kirschau', 'kleßen', 'klingen', 'knopp', 'kobern', 'kohren', 'korntal', 'kottweiler', 'krausnick', 'kreba', 'kreimbach', 'krusemark', 'kröppelshagen', 'kuckau', 'kues', 'kuhlen', 'kuppentin', 'kärlich', 'köblitz', 'kölln', 'königsbach', 'königsee', 'kübelberg', 'küstrow', 'labach', 'lammersdorf', 'lancken', 'langenleuba', 'lanitz', 'last', 'laubersheim', 'lauda', 'lebbin', 'leinefelde', 'leinfelden', 'lengefeld', 'leon', 'leopoldshafen', 'lessien', 'levitzow', 'lichterfeld', 'liepen', 'lindholm', 'linkenheim', 'linstow', 'lintfort', 'lippersdorf', 'liptingen', 'loccum', 'lohe', 'lohm', 'loitsche', 'lotschen', 'lunow', 'löbejün', 'löffelscheid', 'lübchin', 'lübke', 'lüttow', 'lützing', 'mahlow', 'mallersdorf', 'malsburg', 'malxetal', 'mannweiler', 'marco', 'maring', 'markersbach', 'marzell', 'massen', 'maulsbach', 'maxhütte', 'mehlis', 'mellenbach', 'mentioned', 'merz', 'meuselbach', 'miesau', 'miesenbach', 'millienhagen', 'missen', 'mittelberg', 'mohlsdorf', 'monzel', 'musbach', 'möglin', 'mönchpfiffel', 'mörfelden', 'mühlbach', 'mühlhofen', 'mühltroff', 'münchingen', 'nachrodt', 'nahetal', 'neckarhausen', 'neetzow', 'neiße', 'nemsdorf', 'nenzingen', 'nesse', 'neudorf', 'neuenahr', 'neugersdorf', 'neumagen', 'neusalza', 'neuthard', 'niederhain', 'niederlausitz', 'niefern', 'nikolausrieth', 'nockenthal', 'noviand', 'nuthe', 'nörten', 'oberehe', 'oberflacht', 'oberfrohna', 'oberhofen', 'oberhonnefeld', 'obermaßfeld', 'oberstein', 'oebelitz', 'oebisfelde', 'oer', 'oestrich', 'offenseth', 'ohlenberg', 'ohrstedt', 'okrilla', 'olm', 'oranienbaum', 'ording', 'orsingen', 'osann', 'oster', 'osterholz', 'osthausen', 'oswald', 'ottewig', 'oy', 'palenberg', 'panschwitz', 'parey', 'parkentin', 'partenkirchen', 'pausa', 'peterstal', 'peterswald', 'pettersheim', 'pfaffen', 'pfaffenberg', 'platkow', 'pleisweiler', 'pockau', 'poltersdorf', 'postbauer', 'pratjau', 'preilack', 'prüzen', 'putzkau', 'pätow', 'pölert', 'pöllnitz', 'püschen', 'raa', 'rabenkirchen', 'rachtig', 'radlow', 'ragow', 'raguhn', 'ralbitz', 'ramstadt', 'ramstein', 'ransbach', 'raschau', 'rauxel', 'rechenberg', 'reetz', 'regis', 'rehburg', 'rehm', 'reichenow', 'reinhardtsdorf', 'reisiek', 'remda', 'rheda', 'ribnitz', 'rickelshof', 'riedlhütte', 'rielasingen', 'rieschweiler', 'rietheim', 'rietzneuendorf', 'ringenwalde', 'rippoldsau', 'risum', 'ritzhausen', 'rodt', 'rohlsdorf', 'rohrheim', 'rottach', 'rottenbach', 'roßlau', 'ruppach', 'ruttersdorf', 'rödersheim', 'röst', 'rötsweiler', 'saalburg', 'saaldorf', 'sachsenbande', 'sahlis', 'salmünster', 'sandersdorf', 'sarmsheim', 'schacht', 'schacksdorf', 'schapbach', 'scharmbeck', 'schauernheim', 'schellenberg', 'scheppach', 'schieder', 'schierschnitz', 'schildau', 'schirgiswalde', 'schladen', 'schloen', 'schmogrow', 'schnarup', 'schott', 'schwalenberg', 'schwanden', 'schwarzmühle', 'schweigen', 'schöna', 'schönach', 'seebruck', 'seeheim', 'seelscheid', 'seeon', 'seitingen', 'seligenthal', 'selke', 'semmenstedt', 'sickenberg', 'siegertsbrunn', 'siersburg', 'sieversdorf', 'simmerberg', 'simmersdorf', 'solariz', 'somehow', 'sooden', 'sophien', 'source', 'sparrieshoop', 'spiesen', 'spoldershagen', 'staadt', 'staakow', 'stadecken', 'staudach', 'staupitz', 'stechow', 'steckweiler', 'steegen', 'steffen', 'stegelitz', 'steinfort', 'stockhausen', 'stockum', 'stolzenhagen', 'stopwords', 'storbeck', 'straßlach', 'striesow', 'stroheich', 'stukenbrock', 'stüdenitz', 'surheim', 'sülzen', 'taben', 'tambach', 'tandern', 'teichel', 'teichwolframsdorf', 'teinach', 'temmen', 'tensbüttel', 'testorf', 'teutleben', 'thaleischweiler', 'thanks', 'thumitz', 'tiengen', 'titisee', 'traben', 'trantow', 'trarbach', 'treis', 'triebes', 'trockenborn', 'trunstadt', 'trusetal', 'turnow', 'twielenfleth', 'ubstadt', 'uebigau', 'uhldingen', 'uhlstädt', 'ulzburg', 'umstadt', 'unkeroda', 'unterschaar', 'update', 'upgant', 'url', 'urstromtal', 'valluhn', 'viereth', 'villingen', 'vilsen', 'vluyn', 'vogelsdorf', 'vörden', 'wahrenbrück', 'waldau', 'waldfischbach', 'waldhof', 'waldshut', 'wallmow', 'wanzleben', 'ware', 'warsin', 'web', 'wechmar', 'weferlingen', 'weidatal', 'weiersbach', 'weiher', 'weisheim', 'wendelstorf', 'wenningstedt', 'werla', 'wernberg', 'westafalen', 'wester', 'westerham', 'westermühlen', 'wettin', 'wiblingwerde', 'wiedenbrück', 'wiederau', 'wildenau', 'wilhams', 'wilhelm', 'wilkau', 'wilzenberg', 'wingert', 'winnenberg', 'winterfeld', 'winternheim', 'winzeln', 'wittenwurth', 'wokuhl', 'wolfen', 'wolframs', 'worbis', 'worblingen', 'wust', 'wutha', 'wußwerk', 'wyhlen', 'wörlitz', 'wüllersleben', 'zahna', 'zavelstein', 'zb', 'zehren', 'zellerfeld', 'zeltingen', 'zernitz', 'zeulenroda', 'zschaitz', 'zusammmengetragen', 'ölbronn', 'öschelbronn', 'übach', 'ühlingen'] not in stop_words.\n",
      "  'stop_words.' % sorted(inconsistent))\n"
     ]
    }
   ],
   "source": [
    "#fit vectorizer to df\n",
    "cm = cv.fit_transform(prepared_data)\n",
    "tf = tfidf.fit_transform(prepared_data)"
   ]
  },
  {
   "cell_type": "markdown",
   "metadata": {},
   "source": [
    "# USING LDA"
   ]
  },
  {
   "cell_type": "code",
   "execution_count": 1056,
   "metadata": {},
   "outputs": [],
   "source": [
    "#init LDA model\n",
    "LDA = LatentDirichletAllocation(random_state=42, n_components=8)"
   ]
  },
  {
   "cell_type": "code",
   "execution_count": 1057,
   "metadata": {},
   "outputs": [
    {
     "data": {
      "text/plain": [
       "LatentDirichletAllocation(batch_size=128, doc_topic_prior=None,\n",
       "             evaluate_every=-1, learning_decay=0.7,\n",
       "             learning_method='batch', learning_offset=10.0,\n",
       "             max_doc_update_iter=100, max_iter=10, mean_change_tol=0.001,\n",
       "             n_components=8, n_jobs=None, n_topics=None, perp_tol=0.1,\n",
       "             random_state=42, topic_word_prior=None,\n",
       "             total_samples=1000000.0, verbose=0)"
      ]
     },
     "execution_count": 1057,
     "metadata": {},
     "output_type": "execute_result"
    }
   ],
   "source": [
    "#fit model\n",
    "LDA.fit(cm)"
   ]
  },
  {
   "cell_type": "code",
   "execution_count": 1058,
   "metadata": {},
   "outputs": [],
   "source": [
    "#extract features\n",
    "features = cv.get_feature_names()"
   ]
  },
  {
   "cell_type": "code",
   "execution_count": 1059,
   "metadata": {},
   "outputs": [
    {
     "data": {
      "text/plain": [
       "5605"
      ]
     },
     "execution_count": 1059,
     "metadata": {},
     "output_type": "execute_result"
    }
   ],
   "source": [
    "len(features)"
   ]
  },
  {
   "cell_type": "code",
   "execution_count": 1060,
   "metadata": {},
   "outputs": [
    {
     "data": {
      "text/plain": [
       "array([[10.4030462 ,  0.125     ,  2.97128464, ...,  1.12453266,\n",
       "         0.12502789, 15.12472751],\n",
       "       [58.9389939 ,  0.125     , 22.82587811, ...,  0.125     ,\n",
       "         2.24927404,  0.125     ],\n",
       "       [10.92363151,  0.12501367,  0.12718678, ...,  3.76729387,\n",
       "         0.12522913,  0.12505423],\n",
       "       ...,\n",
       "       [ 0.12506277,  0.12500001,  0.12502201, ...,  0.12501511,\n",
       "         0.12574059,  0.125     ],\n",
       "       [ 0.12504627,  0.12501541,  0.12501327, ...,  0.12504084,\n",
       "        17.63299706,  0.125063  ],\n",
       "       [ 0.1250552 ,  0.12500201,  0.12504739, ...,  5.48271615,\n",
       "         5.23417127,  0.12500207]])"
      ]
     },
     "execution_count": 1060,
     "metadata": {},
     "output_type": "execute_result"
    }
   ],
   "source": [
    "#get all topics probability distributions created by the LDA model\n",
    "all_topic = LDA.components_\n",
    "all_topic"
   ]
  },
  {
   "cell_type": "code",
   "execution_count": null,
   "metadata": {},
   "outputs": [],
   "source": []
  },
  {
   "cell_type": "code",
   "execution_count": 1061,
   "metadata": {
    "scrolled": true
   },
   "outputs": [
    {
     "name": "stdout",
     "output_type": "stream",
     "text": [
      "THE TOP 20 WORDS FOR GROUP #0\n",
      "['java', 'cloud', 'einverständnis', 'big', 'löschung', 'python', 'einsendeschluss', 'hadoop', 'erklären', 'erreichen', 'weitergabe', 'einsendeschluß', 'spark', 'sql', 'berater', 'profilvorgabe', 'registrierte', 'ausschreibung', 'geschäftspartner', 'data']\n",
      "\n",
      "THE TOP 20 WORDS FOR GROUP #1\n",
      "['testing', 'analysis', 'applications', 'agile', 'documentation', 'solutions', 'processes', 'software', 'consultant', 'application', 'developer', 'technical', 'sap', 'data', 'implementation', 'requirements', 'support', 'business', 'development', 'project']\n",
      "\n",
      "THE TOP 20 WORDS FOR GROUP #2\n",
      "['jira', 'git', 'analyse', 'integration', 'architektur', 'programmierung', 'contractor', 'konzeption', 'agilen', 'experts', 'java', 'datenschutzerklärung', 'javascript', 'consulting', 'dokumentation', 'software', 'scrum', 'implementierung', 'softwareentwicklung', 'entwickler']\n",
      "\n",
      "THE TOP 20 WORDS FOR GROUP #3\n",
      "['fachliche', 'kollegen', 'projektleiter', 'arbeitsweise', 'analyst', 'verständnis', 'optimierung', 'technische', 'dokumentation', 'steuerung', 'projektmanagement', 'konzeption', 'planung', 'koordination', 'implementierung', 'consultant', 'berater', 'business', 'analyse', 'sap']\n",
      "\n",
      "THE TOP 20 WORDS FOR GROUP #4\n",
      "['großraum', 'hauptaufgabe', 'operiert', 'lebenslauf', 'entgegennehmen', 'hana', 'mitbringen', 'entwickler', 'personalberatung', 'rahmendaten', 'fi', 'support', 'absprache', 'pp', 'hören', 'sd', 'mm', 'abap', 'berater', 'sap']\n",
      "\n",
      "THE TOP 20 WORDS FOR GROUP #5\n",
      "['business', 'kubernetes', 'authentifizierung', 'ibm', 'projektstart', 'scrum', 'google', 'digitale', 'javaee', 'cvs', 'websphere', 'test', 'projektsprache', 'ee', 'docker', 'application', 'devops', 'java', 'dev', 'ops']\n",
      "\n",
      "THE TOP 20 WORDS FOR GROUP #6\n",
      "['oracle', 'maven', 'css', 'html', 'git', 'agilen', 'docker', 'boot', 'developer', 'scrum', 'backend', 'web', 'frontend', 'sql', 'rest', 'angular', 'javascript', 'spring', 'entwickler', 'java']\n",
      "\n",
      "THE TOP 20 WORDS FOR GROUP #7\n",
      "['security', 'infrastruktur', 'powershell', 'cisco', 'planung', 'administrator', 'netzwerk', 'active', 'directory', 'installation', 'itil', 'dokumentation', 'linux', 'konfiguration', 'ms', 'microsoft', 'support', 'server', 'administration', 'windows']\n",
      "\n"
     ]
    }
   ],
   "source": [
    "#view top ten words in each topic currently 6\n",
    "#enumurate creates a tuple of the index and the value\n",
    "for i,topic in enumerate(all_topic):\n",
    "    print(f'THE TOP 20 WORDS FOR GROUP #{i}')\n",
    "    print([features[i] for i in topic.argsort()[-20:]])\n",
    "    print()\n",
    "   "
   ]
  },
  {
   "cell_type": "code",
   "execution_count": 1064,
   "metadata": {},
   "outputs": [],
   "source": [
    "topics = LDA.transform(cm)"
   ]
  },
  {
   "cell_type": "code",
   "execution_count": 1065,
   "metadata": {},
   "outputs": [
    {
     "data": {
      "text/plain": [
       "(5360, 8)"
      ]
     },
     "execution_count": 1065,
     "metadata": {},
     "output_type": "execute_result"
    }
   ],
   "source": [
    "topics.shape"
   ]
  },
  {
   "cell_type": "code",
   "execution_count": 1067,
   "metadata": {},
   "outputs": [
    {
     "data": {
      "text/plain": [
       "array([0.01, 0.01, 0.01, 0.85, 0.01, 0.01, 0.01, 0.08])"
      ]
     },
     "execution_count": 1067,
     "metadata": {},
     "output_type": "execute_result"
    }
   ],
   "source": [
    "topics[0].round(2)"
   ]
  },
  {
   "cell_type": "code",
   "execution_count": 1068,
   "metadata": {},
   "outputs": [
    {
     "data": {
      "text/plain": [
       "array([[0.01250658, 0.01251095, 0.01251152, ..., 0.01251007, 0.01250301,\n",
       "        0.07903783],\n",
       "       [0.00595961, 0.00595506, 0.31619811, ..., 0.06789481, 0.58611743,\n",
       "        0.00595831],\n",
       "       [0.0033816 , 0.04195836, 0.00338338, ..., 0.00337948, 0.07256467,\n",
       "        0.79873426],\n",
       "       ...,\n",
       "       [0.00543952, 0.00545686, 0.00544069, ..., 0.00543609, 0.59297858,\n",
       "        0.00543828],\n",
       "       [0.00192414, 0.55664596, 0.09005156, ..., 0.00192637, 0.34368034,\n",
       "        0.00192365],\n",
       "       [0.34520488, 0.08033737, 0.00481179, ..., 0.15523955, 0.39996263,\n",
       "        0.0048267 ]])"
      ]
     },
     "execution_count": 1068,
     "metadata": {},
     "output_type": "execute_result"
    }
   ],
   "source": [
    "topics"
   ]
  },
  {
   "cell_type": "code",
   "execution_count": 1097,
   "metadata": {},
   "outputs": [
    {
     "ename": "IndexError",
     "evalue": "index 5875 is out of bounds for axis 0 with size 5360",
     "output_type": "error",
     "traceback": [
      "\u001b[0;31m---------------------------------------------------------------------------\u001b[0m",
      "\u001b[0;31mIndexError\u001b[0m                                Traceback (most recent call last)",
      "\u001b[0;32m<ipython-input-1097-1058fa4d11f1>\u001b[0m in \u001b[0;36m<module>\u001b[0;34m\u001b[0m\n\u001b[0;32m----> 1\u001b[0;31m \u001b[0mtopics\u001b[0m\u001b[0;34m[\u001b[0m\u001b[0;36m5875\u001b[0m\u001b[0;34m]\u001b[0m\u001b[0;34m.\u001b[0m\u001b[0mround\u001b[0m\u001b[0;34m(\u001b[0m\u001b[0;36m2\u001b[0m\u001b[0;34m)\u001b[0m\u001b[0;34m\u001b[0m\u001b[0;34m\u001b[0m\u001b[0m\n\u001b[0m",
      "\u001b[0;31mIndexError\u001b[0m: index 5875 is out of bounds for axis 0 with size 5360"
     ]
    }
   ],
   "source": [
    "topics[5875].round(2)"
   ]
  },
  {
   "cell_type": "code",
   "execution_count": 1072,
   "metadata": {},
   "outputs": [
    {
     "data": {
      "text/html": [
       "<div>\n",
       "<style scoped>\n",
       "    .dataframe tbody tr th:only-of-type {\n",
       "        vertical-align: middle;\n",
       "    }\n",
       "\n",
       "    .dataframe tbody tr th {\n",
       "        vertical-align: top;\n",
       "    }\n",
       "\n",
       "    .dataframe thead th {\n",
       "        text-align: right;\n",
       "    }\n",
       "</style>\n",
       "<table border=\"1\" class=\"dataframe\">\n",
       "  <thead>\n",
       "    <tr style=\"text-align: right;\">\n",
       "      <th></th>\n",
       "      <th>Data_Engr/Big_Data</th>\n",
       "      <th>IT_Process_Mgr</th>\n",
       "      <th>IT_PM/Architect</th>\n",
       "      <th>Business_Analyst/Consulting</th>\n",
       "      <th>SAP/ERP</th>\n",
       "      <th>SW_Dev/DevOps</th>\n",
       "      <th>SW_Dev/Web</th>\n",
       "      <th>IT_Admin/Ops</th>\n",
       "      <th>dominant_bereich</th>\n",
       "      <th>dominant</th>\n",
       "    </tr>\n",
       "  </thead>\n",
       "  <tbody>\n",
       "    <tr>\n",
       "      <th>Project0</th>\n",
       "      <td>0.01</td>\n",
       "      <td>0.01</td>\n",
       "      <td>0.01</td>\n",
       "      <td>0.85</td>\n",
       "      <td>0.01</td>\n",
       "      <td>0.01</td>\n",
       "      <td>0.01</td>\n",
       "      <td>0.08</td>\n",
       "      <td>Business_Analyst/Consulting</td>\n",
       "      <td>3</td>\n",
       "    </tr>\n",
       "    <tr>\n",
       "      <th>Project1</th>\n",
       "      <td>0.01</td>\n",
       "      <td>0.01</td>\n",
       "      <td>0.32</td>\n",
       "      <td>0.01</td>\n",
       "      <td>0.01</td>\n",
       "      <td>0.07</td>\n",
       "      <td>0.59</td>\n",
       "      <td>0.01</td>\n",
       "      <td>SW_Dev/Web</td>\n",
       "      <td>6</td>\n",
       "    </tr>\n",
       "    <tr>\n",
       "      <th>Project2</th>\n",
       "      <td>0.00</td>\n",
       "      <td>0.04</td>\n",
       "      <td>0.00</td>\n",
       "      <td>0.07</td>\n",
       "      <td>0.00</td>\n",
       "      <td>0.00</td>\n",
       "      <td>0.07</td>\n",
       "      <td>0.80</td>\n",
       "      <td>IT_Admin/Ops</td>\n",
       "      <td>7</td>\n",
       "    </tr>\n",
       "    <tr>\n",
       "      <th>Project3</th>\n",
       "      <td>0.05</td>\n",
       "      <td>0.00</td>\n",
       "      <td>0.07</td>\n",
       "      <td>0.57</td>\n",
       "      <td>0.00</td>\n",
       "      <td>0.00</td>\n",
       "      <td>0.00</td>\n",
       "      <td>0.29</td>\n",
       "      <td>Business_Analyst/Consulting</td>\n",
       "      <td>3</td>\n",
       "    </tr>\n",
       "    <tr>\n",
       "      <th>Project4</th>\n",
       "      <td>0.00</td>\n",
       "      <td>0.00</td>\n",
       "      <td>0.00</td>\n",
       "      <td>0.00</td>\n",
       "      <td>0.00</td>\n",
       "      <td>0.00</td>\n",
       "      <td>0.98</td>\n",
       "      <td>0.00</td>\n",
       "      <td>SW_Dev/Web</td>\n",
       "      <td>6</td>\n",
       "    </tr>\n",
       "    <tr>\n",
       "      <th>Project5</th>\n",
       "      <td>0.00</td>\n",
       "      <td>0.00</td>\n",
       "      <td>0.24</td>\n",
       "      <td>0.36</td>\n",
       "      <td>0.00</td>\n",
       "      <td>0.00</td>\n",
       "      <td>0.00</td>\n",
       "      <td>0.39</td>\n",
       "      <td>IT_Admin/Ops</td>\n",
       "      <td>7</td>\n",
       "    </tr>\n",
       "    <tr>\n",
       "      <th>Project6</th>\n",
       "      <td>0.01</td>\n",
       "      <td>0.01</td>\n",
       "      <td>0.01</td>\n",
       "      <td>0.01</td>\n",
       "      <td>0.01</td>\n",
       "      <td>0.01</td>\n",
       "      <td>0.01</td>\n",
       "      <td>0.93</td>\n",
       "      <td>IT_Admin/Ops</td>\n",
       "      <td>7</td>\n",
       "    </tr>\n",
       "    <tr>\n",
       "      <th>Project7</th>\n",
       "      <td>0.00</td>\n",
       "      <td>0.05</td>\n",
       "      <td>0.62</td>\n",
       "      <td>0.16</td>\n",
       "      <td>0.00</td>\n",
       "      <td>0.00</td>\n",
       "      <td>0.17</td>\n",
       "      <td>0.00</td>\n",
       "      <td>IT_PM/Architect</td>\n",
       "      <td>2</td>\n",
       "    </tr>\n",
       "    <tr>\n",
       "      <th>Project8</th>\n",
       "      <td>0.00</td>\n",
       "      <td>0.00</td>\n",
       "      <td>0.00</td>\n",
       "      <td>0.00</td>\n",
       "      <td>0.00</td>\n",
       "      <td>0.00</td>\n",
       "      <td>0.45</td>\n",
       "      <td>0.52</td>\n",
       "      <td>IT_Admin/Ops</td>\n",
       "      <td>7</td>\n",
       "    </tr>\n",
       "    <tr>\n",
       "      <th>Project9</th>\n",
       "      <td>0.00</td>\n",
       "      <td>0.00</td>\n",
       "      <td>0.00</td>\n",
       "      <td>0.59</td>\n",
       "      <td>0.00</td>\n",
       "      <td>0.05</td>\n",
       "      <td>0.29</td>\n",
       "      <td>0.05</td>\n",
       "      <td>Business_Analyst/Consulting</td>\n",
       "      <td>3</td>\n",
       "    </tr>\n",
       "    <tr>\n",
       "      <th>Project10</th>\n",
       "      <td>0.00</td>\n",
       "      <td>0.98</td>\n",
       "      <td>0.00</td>\n",
       "      <td>0.00</td>\n",
       "      <td>0.00</td>\n",
       "      <td>0.00</td>\n",
       "      <td>0.00</td>\n",
       "      <td>0.00</td>\n",
       "      <td>IT_Process_Mgr</td>\n",
       "      <td>1</td>\n",
       "    </tr>\n",
       "    <tr>\n",
       "      <th>Project11</th>\n",
       "      <td>0.00</td>\n",
       "      <td>0.00</td>\n",
       "      <td>0.00</td>\n",
       "      <td>0.00</td>\n",
       "      <td>0.00</td>\n",
       "      <td>0.00</td>\n",
       "      <td>0.98</td>\n",
       "      <td>0.00</td>\n",
       "      <td>SW_Dev/Web</td>\n",
       "      <td>6</td>\n",
       "    </tr>\n",
       "    <tr>\n",
       "      <th>Project12</th>\n",
       "      <td>0.01</td>\n",
       "      <td>0.01</td>\n",
       "      <td>0.01</td>\n",
       "      <td>0.01</td>\n",
       "      <td>0.01</td>\n",
       "      <td>0.01</td>\n",
       "      <td>0.01</td>\n",
       "      <td>0.96</td>\n",
       "      <td>IT_Admin/Ops</td>\n",
       "      <td>7</td>\n",
       "    </tr>\n",
       "    <tr>\n",
       "      <th>Project13</th>\n",
       "      <td>0.00</td>\n",
       "      <td>0.00</td>\n",
       "      <td>0.00</td>\n",
       "      <td>0.86</td>\n",
       "      <td>0.00</td>\n",
       "      <td>0.00</td>\n",
       "      <td>0.00</td>\n",
       "      <td>0.11</td>\n",
       "      <td>Business_Analyst/Consulting</td>\n",
       "      <td>3</td>\n",
       "    </tr>\n",
       "    <tr>\n",
       "      <th>Project14</th>\n",
       "      <td>0.00</td>\n",
       "      <td>0.00</td>\n",
       "      <td>0.00</td>\n",
       "      <td>0.84</td>\n",
       "      <td>0.00</td>\n",
       "      <td>0.00</td>\n",
       "      <td>0.00</td>\n",
       "      <td>0.14</td>\n",
       "      <td>Business_Analyst/Consulting</td>\n",
       "      <td>3</td>\n",
       "    </tr>\n",
       "  </tbody>\n",
       "</table>\n",
       "</div>"
      ],
      "text/plain": [
       "           Data_Engr/Big_Data  IT_Process_Mgr  IT_PM/Architect  \\\n",
       "Project0                 0.01            0.01             0.01   \n",
       "Project1                 0.01            0.01             0.32   \n",
       "Project2                 0.00            0.04             0.00   \n",
       "Project3                 0.05            0.00             0.07   \n",
       "Project4                 0.00            0.00             0.00   \n",
       "Project5                 0.00            0.00             0.24   \n",
       "Project6                 0.01            0.01             0.01   \n",
       "Project7                 0.00            0.05             0.62   \n",
       "Project8                 0.00            0.00             0.00   \n",
       "Project9                 0.00            0.00             0.00   \n",
       "Project10                0.00            0.98             0.00   \n",
       "Project11                0.00            0.00             0.00   \n",
       "Project12                0.01            0.01             0.01   \n",
       "Project13                0.00            0.00             0.00   \n",
       "Project14                0.00            0.00             0.00   \n",
       "\n",
       "           Business_Analyst/Consulting  SAP/ERP  SW_Dev/DevOps  SW_Dev/Web  \\\n",
       "Project0                          0.85     0.01           0.01        0.01   \n",
       "Project1                          0.01     0.01           0.07        0.59   \n",
       "Project2                          0.07     0.00           0.00        0.07   \n",
       "Project3                          0.57     0.00           0.00        0.00   \n",
       "Project4                          0.00     0.00           0.00        0.98   \n",
       "Project5                          0.36     0.00           0.00        0.00   \n",
       "Project6                          0.01     0.01           0.01        0.01   \n",
       "Project7                          0.16     0.00           0.00        0.17   \n",
       "Project8                          0.00     0.00           0.00        0.45   \n",
       "Project9                          0.59     0.00           0.05        0.29   \n",
       "Project10                         0.00     0.00           0.00        0.00   \n",
       "Project11                         0.00     0.00           0.00        0.98   \n",
       "Project12                         0.01     0.01           0.01        0.01   \n",
       "Project13                         0.86     0.00           0.00        0.00   \n",
       "Project14                         0.84     0.00           0.00        0.00   \n",
       "\n",
       "           IT_Admin/Ops             dominant_bereich  dominant  \n",
       "Project0           0.08  Business_Analyst/Consulting         3  \n",
       "Project1           0.01                   SW_Dev/Web         6  \n",
       "Project2           0.80                 IT_Admin/Ops         7  \n",
       "Project3           0.29  Business_Analyst/Consulting         3  \n",
       "Project4           0.00                   SW_Dev/Web         6  \n",
       "Project5           0.39                 IT_Admin/Ops         7  \n",
       "Project6           0.93                 IT_Admin/Ops         7  \n",
       "Project7           0.00              IT_PM/Architect         2  \n",
       "Project8           0.52                 IT_Admin/Ops         7  \n",
       "Project9           0.05  Business_Analyst/Consulting         3  \n",
       "Project10          0.00               IT_Process_Mgr         1  \n",
       "Project11          0.00                   SW_Dev/Web         6  \n",
       "Project12          0.96                 IT_Admin/Ops         7  \n",
       "Project13          0.11  Business_Analyst/Consulting         3  \n",
       "Project14          0.14  Business_Analyst/Consulting         3  "
      ]
     },
     "execution_count": 1072,
     "metadata": {},
     "output_type": "execute_result"
    }
   ],
   "source": [
    "# Create Document - Topic Matrix\n",
    "#lda_output = best_lda_model.transform(cm)\n",
    "\n",
    "# column names\n",
    "topicnames = [i for i in range(8)]\n",
    "names = []\n",
    "\n",
    "for n, i in enumerate(topicnames):\n",
    "    if i == 0:\n",
    "        topicnames[n] = \"Data_Engr/Big_Data\"\n",
    "    elif i == 1:\n",
    "        topicnames[n] = \"IT_Process_Mgr\"\n",
    "    elif i == 2:\n",
    "        topicnames[n] = \"IT_PM/Architect\"\n",
    "    if i == 3:\n",
    "        topicnames[n] = \"Business_Analyst/Consulting\"\n",
    "    if i == 4:\n",
    "        topicnames[n] = \"SAP/ERP\"\n",
    "    if i == 5:\n",
    "        topicnames[n] = \"SW_Dev/DevOps\"\n",
    "    if i == 6:\n",
    "        topicnames[n] = \"SW_Dev/Web\"\n",
    "    if i == 7:\n",
    "        topicnames[n] = \"IT_Admin/Ops\"\n",
    "\n",
    "\n",
    "# index names\n",
    "docnames = [\"Project\" + str(i) for i in range(len(prepared_data))]\n",
    "\n",
    "# Make the pandas dataframe\n",
    "df_document_topic = pd.DataFrame(np.round(topics, 2), columns=topicnames, index=docnames)\n",
    "\n",
    "# Get dominant topic for each document\n",
    "dominant_topic = np.argmax(df_document_topic.values, axis=1)\n",
    "df_document_topic['dominant_bereich'] = dominant_topic\n",
    "df_document_topic['dominant'] = dominant_topic\n",
    "#df_document_topic['dominant_bereich'].replace()\n",
    "#df['BrandName'].replace(['ABC', 'AB'], 'A')\n",
    "#w['female'] = w['female'].map({'female': 1, 'male': 0})\n",
    "df_document_topic['dominant_bereich'] = df_document_topic['dominant_bereich'].map({0: \"Data_Engr/Big_Data\", 1:\"IT_Process_Mgr\", 2: \"IT_PM/Architect\", 3: \"Business_Analyst/Consulting\", 4:\"SAP/ERP\", 5:\"SW_Dev/DevOps\", 6:\"SW_Dev/Web\", 7:\"IT_Admin/Ops\"})\n",
    "# Styling\n",
    "#def color_green(val):\n",
    "    #color = 'green' if val > .1 else 'black'\n",
    "    #return 'color: {col}'.format(col=color)\n",
    "\n",
    "#def make_bold(val):\n",
    "   # weight = 700 if val > .1 else 400\n",
    "    #return 'font-weight: {weight}'.format(weight=weight)\n",
    "\n",
    "# Apply Style\n",
    "df_document_topics = df_document_topic.head(15)\n",
    "df_document_topics"
   ]
  },
  {
   "cell_type": "code",
   "execution_count": 1112,
   "metadata": {},
   "outputs": [
    {
     "data": {
      "text/html": [
       "<div>\n",
       "<style scoped>\n",
       "    .dataframe tbody tr th:only-of-type {\n",
       "        vertical-align: middle;\n",
       "    }\n",
       "\n",
       "    .dataframe tbody tr th {\n",
       "        vertical-align: top;\n",
       "    }\n",
       "\n",
       "    .dataframe thead th {\n",
       "        text-align: right;\n",
       "    }\n",
       "</style>\n",
       "<table border=\"1\" class=\"dataframe\">\n",
       "  <thead>\n",
       "    <tr style=\"text-align: right;\">\n",
       "      <th></th>\n",
       "      <th>skill_summary</th>\n",
       "      <th>title</th>\n",
       "      <th>description</th>\n",
       "      <th>dominant_bereich</th>\n",
       "      <th>dominant</th>\n",
       "    </tr>\n",
       "  </thead>\n",
       "  <tbody>\n",
       "    <tr>\n",
       "      <th>0</th>\n",
       "      <td>tableau, visualisierung</td>\n",
       "      <td>Business Intelligence Analyst (m/w) - Tableau ...</td>\n",
       "      <td>Business Intelligence Analyst (m/w) - Tableau ...</td>\n",
       "      <td>Business_Analyst/Consulting</td>\n",
       "      <td>3</td>\n",
       "    </tr>\n",
       "    <tr>\n",
       "      <th>1</th>\n",
       "      <td>, implementierung, java, ms sql, camel, apache...</td>\n",
       "      <td>Developer - Talend ESB oder Apache Camel (m/w)...</td>\n",
       "      <td>Konzeption, Customizing sowie Softwareanpassun...</td>\n",
       "      <td>SW_Dev/Web</td>\n",
       "      <td>6</td>\n",
       "    </tr>\n",
       "    <tr>\n",
       "      <th>2</th>\n",
       "      <td>, windows, clients, ios, mobile devices, mobil...</td>\n",
       "      <td>IT-Mitarbeiter (m/w) 1st / 2nd Level Support /...</td>\n",
       "      <td>Als Mitglied eines kleinen, dynamischen Teams ...</td>\n",
       "      <td>IT_Admin/Ops</td>\n",
       "      <td>7</td>\n",
       "    </tr>\n",
       "    <tr>\n",
       "      <th>3</th>\n",
       "      <td>dynamics ax 2009, dynamics crm 4.0, dynamics a...</td>\n",
       "      <td>Consultant für Microsoft Dynamics CRM (m/w)</td>\n",
       "      <td>Über unseren Kunden: \\n   \\n Unser Kunde ist e...</td>\n",
       "      <td>Business_Analyst/Consulting</td>\n",
       "      <td>3</td>\n",
       "    </tr>\n",
       "    <tr>\n",
       "      <th>4</th>\n",
       "      <td>hibernate, java, deutsch, oracle 11g, oracle 1...</td>\n",
       "      <td>Java Senior Developer - Backend (f/m)</td>\n",
       "      <td>Über unseren Kunden: \\n   \\n Unser Kunde ist e...</td>\n",
       "      <td>SW_Dev/Web</td>\n",
       "      <td>6</td>\n",
       "    </tr>\n",
       "    <tr>\n",
       "      <th>5</th>\n",
       "      <td>word 2010, vba, deutsch, javascript, hardware,...</td>\n",
       "      <td>DMS - CMS Consultant mit großer Prozeßerfahrun...</td>\n",
       "      <td>Über unseren Kunden: \\n   \\n Unser Kunde ist T...</td>\n",
       "      <td>IT_Admin/Ops</td>\n",
       "      <td>7</td>\n",
       "    </tr>\n",
       "    <tr>\n",
       "      <th>6</th>\n",
       "      <td>steuerungstechnik, industrie 4.0, siemens, vis...</td>\n",
       "      <td>Digitalisierung Galvanik\\n                    ...</td>\n",
       "      <td>Digitalisierung in der Galvanik. \\r\\nKonzeptio...</td>\n",
       "      <td>IT_Admin/Ops</td>\n",
       "      <td>7</td>\n",
       "    </tr>\n",
       "    <tr>\n",
       "      <th>7</th>\n",
       "      <td>app-entwicklung, deutsch, scrum, englisch, htm...</td>\n",
       "      <td>UX Designer für Web und App (m/w)</td>\n",
       "      <td>Über unseren Kunden: \\n   \\n Unser Kunde ist e...</td>\n",
       "      <td>IT_PM/Architect</td>\n",
       "      <td>2</td>\n",
       "    </tr>\n",
       "    <tr>\n",
       "      <th>8</th>\n",
       "      <td>apache webserver, synapse, oracle datawarehous...</td>\n",
       "      <td>Linux Systemadministrator (m/w)</td>\n",
       "      <td>Ihre Aufgaben: \\n \\n     Mitarbeit in einem IT...</td>\n",
       "      <td>IT_Admin/Ops</td>\n",
       "      <td>7</td>\n",
       "    </tr>\n",
       "    <tr>\n",
       "      <th>9</th>\n",
       "      <td>java, bpmn, scrum, agilität, sql, oo-objektori...</td>\n",
       "      <td>Requirements Engineer - Wertpapiere (m/w)</td>\n",
       "      <td>Über unseren Kunden: \\n   \\n Für unseren Kunde...</td>\n",
       "      <td>Business_Analyst/Consulting</td>\n",
       "      <td>3</td>\n",
       "    </tr>\n",
       "    <tr>\n",
       "      <th>10</th>\n",
       "      <td>c, seminare, deutsch, support, c++, linux, rol...</td>\n",
       "      <td>C++ Developer</td>\n",
       "      <td>For our client, a globally active firm headqua...</td>\n",
       "      <td>IT_Process_Mgr</td>\n",
       "      <td>1</td>\n",
       "    </tr>\n",
       "    <tr>\n",
       "      <th>11</th>\n",
       "      <td>synapse, hibernate, java, deutsch, spring, sup...</td>\n",
       "      <td>Java Entwickler (m/w)</td>\n",
       "      <td>Über unseren Kunden: \\n   \\n Unser Kunde ein i...</td>\n",
       "      <td>SW_Dev/Web</td>\n",
       "      <td>6</td>\n",
       "    </tr>\n",
       "    <tr>\n",
       "      <th>12</th>\n",
       "      <td>outlook, ms, windows client, exchange, windows...</td>\n",
       "      <td>IT System Engineer (m/w) mit Schwerpunkt MS Ex...</td>\n",
       "      <td>Beratung, Planung und Realisierung von Microso...</td>\n",
       "      <td>IT_Admin/Ops</td>\n",
       "      <td>7</td>\n",
       "    </tr>\n",
       "    <tr>\n",
       "      <th>13</th>\n",
       "      <td>scm, entwickler, retail, sapui5, reporting, sa...</td>\n",
       "      <td>SAP Technical Consultant / SAP Entwickler (m/w)</td>\n",
       "      <td>Technische Beratung mit Schwerpunkt in der  SA...</td>\n",
       "      <td>Business_Analyst/Consulting</td>\n",
       "      <td>3</td>\n",
       "    </tr>\n",
       "    <tr>\n",
       "      <th>14</th>\n",
       "      <td>anwendungsentwicklung, prozessmanagement, ms d...</td>\n",
       "      <td>Inhouse Prozessmanager (m/w) Dynamics NAV</td>\n",
       "      <td>Aktive Mitarbeit in der Weiterentwicklung von ...</td>\n",
       "      <td>Business_Analyst/Consulting</td>\n",
       "      <td>3</td>\n",
       "    </tr>\n",
       "  </tbody>\n",
       "</table>\n",
       "</div>"
      ],
      "text/plain": [
       "                                        skill_summary  \\\n",
       "0                             tableau, visualisierung   \n",
       "1   , implementierung, java, ms sql, camel, apache...   \n",
       "2   , windows, clients, ios, mobile devices, mobil...   \n",
       "3   dynamics ax 2009, dynamics crm 4.0, dynamics a...   \n",
       "4   hibernate, java, deutsch, oracle 11g, oracle 1...   \n",
       "5   word 2010, vba, deutsch, javascript, hardware,...   \n",
       "6   steuerungstechnik, industrie 4.0, siemens, vis...   \n",
       "7   app-entwicklung, deutsch, scrum, englisch, htm...   \n",
       "8   apache webserver, synapse, oracle datawarehous...   \n",
       "9   java, bpmn, scrum, agilität, sql, oo-objektori...   \n",
       "10  c, seminare, deutsch, support, c++, linux, rol...   \n",
       "11  synapse, hibernate, java, deutsch, spring, sup...   \n",
       "12  outlook, ms, windows client, exchange, windows...   \n",
       "13  scm, entwickler, retail, sapui5, reporting, sa...   \n",
       "14  anwendungsentwicklung, prozessmanagement, ms d...   \n",
       "\n",
       "                                                title  \\\n",
       "0   Business Intelligence Analyst (m/w) - Tableau ...   \n",
       "1   Developer - Talend ESB oder Apache Camel (m/w)...   \n",
       "2   IT-Mitarbeiter (m/w) 1st / 2nd Level Support /...   \n",
       "3         Consultant für Microsoft Dynamics CRM (m/w)   \n",
       "4               Java Senior Developer - Backend (f/m)   \n",
       "5   DMS - CMS Consultant mit großer Prozeßerfahrun...   \n",
       "6   Digitalisierung Galvanik\\n                    ...   \n",
       "7                   UX Designer für Web und App (m/w)   \n",
       "8                     Linux Systemadministrator (m/w)   \n",
       "9           Requirements Engineer - Wertpapiere (m/w)   \n",
       "10                                      C++ Developer   \n",
       "11                              Java Entwickler (m/w)   \n",
       "12  IT System Engineer (m/w) mit Schwerpunkt MS Ex...   \n",
       "13    SAP Technical Consultant / SAP Entwickler (m/w)   \n",
       "14          Inhouse Prozessmanager (m/w) Dynamics NAV   \n",
       "\n",
       "                                          description  \\\n",
       "0   Business Intelligence Analyst (m/w) - Tableau ...   \n",
       "1   Konzeption, Customizing sowie Softwareanpassun...   \n",
       "2   Als Mitglied eines kleinen, dynamischen Teams ...   \n",
       "3   Über unseren Kunden: \\n   \\n Unser Kunde ist e...   \n",
       "4   Über unseren Kunden: \\n   \\n Unser Kunde ist e...   \n",
       "5   Über unseren Kunden: \\n   \\n Unser Kunde ist T...   \n",
       "6   Digitalisierung in der Galvanik. \\r\\nKonzeptio...   \n",
       "7   Über unseren Kunden: \\n   \\n Unser Kunde ist e...   \n",
       "8   Ihre Aufgaben: \\n \\n     Mitarbeit in einem IT...   \n",
       "9   Über unseren Kunden: \\n   \\n Für unseren Kunde...   \n",
       "10  For our client, a globally active firm headqua...   \n",
       "11  Über unseren Kunden: \\n   \\n Unser Kunde ein i...   \n",
       "12  Beratung, Planung und Realisierung von Microso...   \n",
       "13  Technische Beratung mit Schwerpunkt in der  SA...   \n",
       "14  Aktive Mitarbeit in der Weiterentwicklung von ...   \n",
       "\n",
       "               dominant_bereich  dominant  \n",
       "0   Business_Analyst/Consulting         3  \n",
       "1                    SW_Dev/Web         6  \n",
       "2                  IT_Admin/Ops         7  \n",
       "3   Business_Analyst/Consulting         3  \n",
       "4                    SW_Dev/Web         6  \n",
       "5                  IT_Admin/Ops         7  \n",
       "6                  IT_Admin/Ops         7  \n",
       "7               IT_PM/Architect         2  \n",
       "8                  IT_Admin/Ops         7  \n",
       "9   Business_Analyst/Consulting         3  \n",
       "10               IT_Process_Mgr         1  \n",
       "11                   SW_Dev/Web         6  \n",
       "12                 IT_Admin/Ops         7  \n",
       "13  Business_Analyst/Consulting         3  \n",
       "14  Business_Analyst/Consulting         3  "
      ]
     },
     "execution_count": 1112,
     "metadata": {},
     "output_type": "execute_result"
    }
   ],
   "source": [
    "df['dominant_bereich'] = dominant_topic\n",
    "df['dominant'] = dominant_topic\n",
    "df['dominant_bereich'] = df['dominant_bereich'].map({0: \"Data_Engr/Big_Data\", 1:\"IT_Process_Mgr\", 2: \"IT_PM/Architect\", 3: \"Business_Analyst/Consulting\", 4:\"SAP/ERP\", 5:\"SW_Dev/DevOps\", 6:\"SW_Dev/Web\", 7:\"IT_Admin/Ops\"})\n",
    "df.head(15)"
   ]
  },
  {
   "cell_type": "code",
   "execution_count": 1098,
   "metadata": {},
   "outputs": [
    {
     "data": {
      "text/plain": [
       "(5360, 5)"
      ]
     },
     "execution_count": 1098,
     "metadata": {},
     "output_type": "execute_result"
    }
   ],
   "source": [
    "df.shape"
   ]
  },
  {
   "cell_type": "code",
   "execution_count": 1108,
   "metadata": {},
   "outputs": [
    {
     "data": {
      "text/plain": [
       "array([0. , 0. , 0. , 0. , 0. , 0. , 0.9, 0. ])"
      ]
     },
     "execution_count": 1108,
     "metadata": {},
     "output_type": "execute_result"
    }
   ],
   "source": [
    "topics[5353].round(1)"
   ]
  },
  {
   "cell_type": "code",
   "execution_count": 1074,
   "metadata": {},
   "outputs": [
    {
     "data": {
      "text/html": [
       "<div>\n",
       "<style scoped>\n",
       "    .dataframe tbody tr th:only-of-type {\n",
       "        vertical-align: middle;\n",
       "    }\n",
       "\n",
       "    .dataframe tbody tr th {\n",
       "        vertical-align: top;\n",
       "    }\n",
       "\n",
       "    .dataframe thead th {\n",
       "        text-align: right;\n",
       "    }\n",
       "</style>\n",
       "<table border=\"1\" class=\"dataframe\">\n",
       "  <thead>\n",
       "    <tr style=\"text-align: right;\">\n",
       "      <th></th>\n",
       "      <th>Topic Num</th>\n",
       "      <th>Num Documents</th>\n",
       "    </tr>\n",
       "  </thead>\n",
       "  <tbody>\n",
       "    <tr>\n",
       "      <th>0</th>\n",
       "      <td>6</td>\n",
       "      <td>1045</td>\n",
       "    </tr>\n",
       "    <tr>\n",
       "      <th>1</th>\n",
       "      <td>3</td>\n",
       "      <td>978</td>\n",
       "    </tr>\n",
       "    <tr>\n",
       "      <th>2</th>\n",
       "      <td>7</td>\n",
       "      <td>858</td>\n",
       "    </tr>\n",
       "    <tr>\n",
       "      <th>3</th>\n",
       "      <td>1</td>\n",
       "      <td>844</td>\n",
       "    </tr>\n",
       "    <tr>\n",
       "      <th>4</th>\n",
       "      <td>2</td>\n",
       "      <td>820</td>\n",
       "    </tr>\n",
       "    <tr>\n",
       "      <th>5</th>\n",
       "      <td>4</td>\n",
       "      <td>486</td>\n",
       "    </tr>\n",
       "    <tr>\n",
       "      <th>6</th>\n",
       "      <td>5</td>\n",
       "      <td>181</td>\n",
       "    </tr>\n",
       "    <tr>\n",
       "      <th>7</th>\n",
       "      <td>0</td>\n",
       "      <td>148</td>\n",
       "    </tr>\n",
       "  </tbody>\n",
       "</table>\n",
       "</div>"
      ],
      "text/plain": [
       "   Topic Num  Num Documents\n",
       "0          6           1045\n",
       "1          3            978\n",
       "2          7            858\n",
       "3          1            844\n",
       "4          2            820\n",
       "5          4            486\n",
       "6          5            181\n",
       "7          0            148"
      ]
     },
     "execution_count": 1074,
     "metadata": {},
     "output_type": "execute_result"
    }
   ],
   "source": [
    "df_topic_distribution = df_document_topic['dominant'].value_counts().reset_index(name=\"Num Documents\")\n",
    "df_topic_distribution.columns = ['Topic Num', 'Num Documents']\n",
    "df_topic_distribution"
   ]
  },
  {
   "cell_type": "code",
   "execution_count": 1076,
   "metadata": {},
   "outputs": [
    {
     "data": {
      "text/plain": [
       "SW_Dev/Web                     1045\n",
       "Business_Analyst/Consulting     978\n",
       "IT_Admin/Ops                    858\n",
       "IT_Process_Mgr                  844\n",
       "IT_PM/Architect                 820\n",
       "SAP/ERP                         486\n",
       "SW_Dev/DevOps                   181\n",
       "Data_Engr/Big_Data              148\n",
       "Name: dominant_bereich, dtype: int64"
      ]
     },
     "execution_count": 1076,
     "metadata": {},
     "output_type": "execute_result"
    }
   ],
   "source": [
    "df['dominant_bereich'].value_counts()"
   ]
  },
  {
   "cell_type": "code",
   "execution_count": 1111,
   "metadata": {},
   "outputs": [
    {
     "name": "stderr",
     "output_type": "stream",
     "text": [
      "/opt/anaconda3/lib/python3.7/site-packages/pyLDAvis/_prepare.py:387: DeprecationWarning: \n",
      ".ix is deprecated. Please use\n",
      ".loc for label based indexing or\n",
      ".iloc for positional indexing\n",
      "\n",
      "See the documentation here:\n",
      "http://pandas.pydata.org/pandas-docs/stable/indexing.html#ix-indexer-is-deprecated\n",
      "  topic_term_dists = topic_term_dists.ix[topic_order]\n",
      "/opt/anaconda3/lib/python3.7/site-packages/pyLDAvis/_prepare.py:257: FutureWarning: Sorting because non-concatenation axis is not aligned. A future version\n",
      "of pandas will change to not sort by default.\n",
      "\n",
      "To accept the future behavior, pass 'sort=False'.\n",
      "\n",
      "To retain the current behavior and silence the warning, pass 'sort=True'.\n",
      "\n",
      "  return pd.concat([default_term_info] + list(topic_dfs))\n"
     ]
    },
    {
     "data": {
      "text/html": [
       "\n",
       "<link rel=\"stylesheet\" type=\"text/css\" href=\"https://cdn.rawgit.com/bmabey/pyLDAvis/files/ldavis.v1.0.0.css\">\n",
       "\n",
       "\n",
       "<div id=\"ldavis_el270021405856953932565722580231\"></div>\n",
       "<script type=\"text/javascript\">\n",
       "\n",
       "var ldavis_el270021405856953932565722580231_data = {\"mdsDat\": {\"x\": [0.274283994666336, -0.06153687953774379, -0.036241697401251285, -0.15395075970926866, -0.13656811189126283, -0.16182224382460503, 0.1895045741370759, 0.08633112356071994], \"y\": [-0.13268041231125502, 0.15654991584794267, 0.16744735797265378, -0.056861099675373644, -0.04041080678548598, -0.2085437751480788, -0.05631475117569441, 0.17081357127529134], \"topics\": [1, 2, 3, 4, 5, 6, 7, 8], \"cluster\": [1, 1, 1, 1, 1, 1, 1, 1], \"Freq\": [19.799842843957265, 16.336295327923843, 15.97184545367406, 15.227772625095442, 15.101667930117438, 7.711167938765335, 5.043620232872183, 4.807787647594428]}, \"tinfo\": {\"Category\": [\"Default\", \"Default\", \"Default\", \"Default\", \"Default\", \"Default\", \"Default\", \"Default\", \"Default\", \"Default\", \"Default\", \"Default\", \"Default\", \"Default\", \"Default\", \"Default\", \"Default\", \"Default\", \"Default\", \"Default\", \"Default\", \"Default\", \"Default\", \"Default\", \"Default\", \"Default\", \"Default\", \"Default\", \"Default\", \"Default\", \"Topic1\", \"Topic1\", \"Topic1\", \"Topic1\", \"Topic1\", \"Topic1\", \"Topic1\", \"Topic1\", \"Topic1\", \"Topic1\", \"Topic1\", \"Topic1\", \"Topic1\", \"Topic1\", \"Topic1\", \"Topic1\", \"Topic1\", \"Topic1\", \"Topic1\", \"Topic1\", \"Topic1\", \"Topic1\", \"Topic1\", \"Topic1\", \"Topic1\", \"Topic1\", \"Topic1\", \"Topic1\", \"Topic1\", \"Topic1\", \"Topic1\", \"Topic1\", \"Topic1\", \"Topic1\", \"Topic1\", \"Topic1\", \"Topic1\", \"Topic1\", \"Topic1\", \"Topic1\", \"Topic1\", \"Topic1\", \"Topic1\", \"Topic1\", \"Topic1\", \"Topic1\", \"Topic1\", \"Topic1\", \"Topic1\", \"Topic1\", \"Topic1\", \"Topic1\", \"Topic1\", \"Topic1\", \"Topic1\", \"Topic1\", \"Topic1\", \"Topic1\", \"Topic1\", \"Topic1\", \"Topic1\", \"Topic1\", \"Topic2\", \"Topic2\", \"Topic2\", \"Topic2\", \"Topic2\", \"Topic2\", \"Topic2\", \"Topic2\", \"Topic2\", \"Topic2\", \"Topic2\", \"Topic2\", \"Topic2\", \"Topic2\", \"Topic2\", \"Topic2\", \"Topic2\", \"Topic2\", \"Topic2\", \"Topic2\", \"Topic2\", \"Topic2\", \"Topic2\", \"Topic2\", \"Topic2\", \"Topic2\", \"Topic2\", \"Topic2\", \"Topic2\", \"Topic2\", \"Topic2\", \"Topic2\", \"Topic2\", \"Topic2\", \"Topic2\", \"Topic2\", \"Topic2\", \"Topic2\", \"Topic2\", \"Topic2\", \"Topic2\", \"Topic2\", \"Topic2\", \"Topic2\", \"Topic2\", \"Topic2\", \"Topic2\", \"Topic2\", \"Topic2\", \"Topic2\", \"Topic2\", \"Topic2\", \"Topic2\", \"Topic2\", \"Topic2\", \"Topic2\", \"Topic2\", \"Topic2\", \"Topic2\", \"Topic2\", \"Topic2\", \"Topic2\", \"Topic2\", \"Topic2\", \"Topic2\", \"Topic2\", \"Topic2\", \"Topic2\", \"Topic2\", \"Topic2\", \"Topic2\", \"Topic2\", \"Topic2\", \"Topic3\", \"Topic3\", \"Topic3\", \"Topic3\", \"Topic3\", \"Topic3\", \"Topic3\", \"Topic3\", \"Topic3\", \"Topic3\", \"Topic3\", \"Topic3\", \"Topic3\", \"Topic3\", \"Topic3\", \"Topic3\", \"Topic3\", \"Topic3\", \"Topic3\", \"Topic3\", \"Topic3\", \"Topic3\", \"Topic3\", \"Topic3\", \"Topic3\", \"Topic3\", \"Topic3\", \"Topic3\", \"Topic3\", \"Topic3\", \"Topic3\", \"Topic3\", \"Topic3\", \"Topic3\", \"Topic3\", \"Topic3\", \"Topic3\", \"Topic3\", \"Topic3\", \"Topic3\", \"Topic3\", \"Topic3\", \"Topic3\", \"Topic3\", \"Topic3\", \"Topic3\", \"Topic3\", \"Topic3\", \"Topic3\", \"Topic3\", \"Topic3\", \"Topic3\", \"Topic3\", \"Topic3\", \"Topic3\", \"Topic3\", \"Topic3\", \"Topic3\", \"Topic3\", \"Topic3\", \"Topic3\", \"Topic3\", \"Topic3\", \"Topic3\", \"Topic3\", \"Topic3\", \"Topic3\", \"Topic3\", \"Topic3\", \"Topic3\", \"Topic3\", \"Topic3\", \"Topic4\", \"Topic4\", \"Topic4\", \"Topic4\", \"Topic4\", \"Topic4\", \"Topic4\", \"Topic4\", \"Topic4\", \"Topic4\", \"Topic4\", \"Topic4\", \"Topic4\", \"Topic4\", \"Topic4\", \"Topic4\", \"Topic4\", \"Topic4\", \"Topic4\", \"Topic4\", \"Topic4\", \"Topic4\", \"Topic4\", \"Topic4\", \"Topic4\", \"Topic4\", \"Topic4\", \"Topic4\", \"Topic4\", \"Topic4\", \"Topic4\", \"Topic4\", \"Topic4\", \"Topic4\", \"Topic4\", \"Topic4\", \"Topic4\", \"Topic4\", \"Topic4\", \"Topic4\", \"Topic4\", \"Topic4\", \"Topic4\", \"Topic4\", \"Topic4\", \"Topic4\", \"Topic4\", \"Topic4\", \"Topic4\", \"Topic4\", \"Topic4\", \"Topic4\", \"Topic4\", \"Topic4\", \"Topic4\", \"Topic4\", \"Topic4\", \"Topic4\", \"Topic4\", \"Topic4\", \"Topic4\", \"Topic4\", \"Topic4\", \"Topic4\", \"Topic4\", \"Topic4\", \"Topic4\", \"Topic4\", \"Topic4\", \"Topic4\", \"Topic4\", \"Topic4\", \"Topic4\", \"Topic4\", \"Topic4\", \"Topic4\", \"Topic4\", \"Topic4\", \"Topic4\", \"Topic4\", \"Topic5\", \"Topic5\", \"Topic5\", \"Topic5\", \"Topic5\", \"Topic5\", \"Topic5\", \"Topic5\", \"Topic5\", \"Topic5\", \"Topic5\", \"Topic5\", \"Topic5\", \"Topic5\", \"Topic5\", \"Topic5\", \"Topic5\", \"Topic5\", \"Topic5\", \"Topic5\", \"Topic5\", \"Topic5\", \"Topic5\", \"Topic5\", \"Topic5\", \"Topic5\", \"Topic5\", \"Topic5\", \"Topic5\", \"Topic5\", \"Topic5\", \"Topic5\", \"Topic5\", \"Topic5\", \"Topic5\", \"Topic5\", \"Topic5\", \"Topic5\", \"Topic5\", \"Topic5\", \"Topic5\", \"Topic5\", \"Topic5\", \"Topic5\", \"Topic5\", \"Topic5\", \"Topic5\", \"Topic5\", \"Topic5\", \"Topic5\", \"Topic5\", \"Topic5\", \"Topic5\", \"Topic5\", \"Topic5\", \"Topic5\", \"Topic5\", \"Topic5\", \"Topic5\", \"Topic5\", \"Topic5\", \"Topic5\", \"Topic5\", \"Topic5\", \"Topic5\", \"Topic5\", \"Topic5\", \"Topic5\", \"Topic5\", \"Topic5\", \"Topic5\", \"Topic5\", \"Topic5\", \"Topic6\", \"Topic6\", \"Topic6\", \"Topic6\", \"Topic6\", \"Topic6\", \"Topic6\", \"Topic6\", \"Topic6\", \"Topic6\", \"Topic6\", \"Topic6\", \"Topic6\", \"Topic6\", \"Topic6\", \"Topic6\", \"Topic6\", \"Topic6\", \"Topic6\", \"Topic6\", \"Topic6\", \"Topic6\", \"Topic6\", \"Topic6\", \"Topic6\", \"Topic6\", \"Topic6\", \"Topic6\", \"Topic6\", \"Topic6\", \"Topic6\", \"Topic6\", \"Topic6\", \"Topic6\", \"Topic6\", \"Topic6\", \"Topic6\", \"Topic6\", \"Topic6\", \"Topic6\", \"Topic6\", \"Topic6\", \"Topic6\", \"Topic6\", \"Topic6\", \"Topic6\", \"Topic6\", \"Topic6\", \"Topic6\", \"Topic6\", \"Topic6\", \"Topic6\", \"Topic6\", \"Topic6\", \"Topic6\", \"Topic6\", \"Topic6\", \"Topic6\", \"Topic6\", \"Topic6\", \"Topic6\", \"Topic6\", \"Topic6\", \"Topic6\", \"Topic6\", \"Topic6\", \"Topic6\", \"Topic6\", \"Topic6\", \"Topic6\", \"Topic6\", \"Topic7\", \"Topic7\", \"Topic7\", \"Topic7\", \"Topic7\", \"Topic7\", \"Topic7\", \"Topic7\", \"Topic7\", \"Topic7\", \"Topic7\", \"Topic7\", \"Topic7\", \"Topic7\", \"Topic7\", \"Topic7\", \"Topic7\", \"Topic7\", \"Topic7\", \"Topic7\", \"Topic7\", \"Topic7\", \"Topic7\", \"Topic7\", \"Topic7\", \"Topic7\", \"Topic7\", \"Topic7\", \"Topic7\", \"Topic7\", \"Topic7\", \"Topic7\", \"Topic7\", \"Topic7\", \"Topic7\", \"Topic7\", \"Topic7\", \"Topic7\", \"Topic7\", \"Topic7\", \"Topic7\", \"Topic7\", \"Topic7\", \"Topic7\", \"Topic7\", \"Topic7\", \"Topic7\", \"Topic7\", \"Topic7\", \"Topic7\", \"Topic7\", \"Topic7\", \"Topic7\", \"Topic7\", \"Topic7\", \"Topic7\", \"Topic7\", \"Topic7\", \"Topic7\", \"Topic7\", \"Topic7\", \"Topic7\", \"Topic7\", \"Topic7\", \"Topic7\", \"Topic7\", \"Topic7\", \"Topic8\", \"Topic8\", \"Topic8\", \"Topic8\", \"Topic8\", \"Topic8\", \"Topic8\", \"Topic8\", \"Topic8\", \"Topic8\", \"Topic8\", \"Topic8\", \"Topic8\", \"Topic8\", \"Topic8\", \"Topic8\", \"Topic8\", \"Topic8\", \"Topic8\", \"Topic8\", \"Topic8\", \"Topic8\", \"Topic8\", \"Topic8\", \"Topic8\", \"Topic8\", \"Topic8\", \"Topic8\", \"Topic8\", \"Topic8\", \"Topic8\", \"Topic8\", \"Topic8\", \"Topic8\", \"Topic8\", \"Topic8\", \"Topic8\", \"Topic8\", \"Topic8\", \"Topic8\", \"Topic8\", \"Topic8\", \"Topic8\", \"Topic8\", \"Topic8\", \"Topic8\", \"Topic8\", \"Topic8\", \"Topic8\", \"Topic8\", \"Topic8\", \"Topic8\", \"Topic8\", \"Topic8\", \"Topic8\", \"Topic8\", \"Topic8\", \"Topic8\", \"Topic8\", \"Topic8\", \"Topic8\", \"Topic8\", \"Topic8\", \"Topic8\", \"Topic8\", \"Topic8\", \"Topic8\"], \"Freq\": [1547.0, 1317.0, 682.0, 1271.0, 536.0, 453.0, 521.0, 666.0, 520.0, 475.0, 412.0, 335.0, 798.0, 569.0, 374.0, 322.0, 405.0, 272.0, 393.0, 282.0, 194.0, 189.0, 528.0, 534.0, 748.0, 438.0, 350.0, 243.0, 396.0, 204.0, 153.6220047804572, 108.83214021543364, 103.93529531398906, 99.03843868682571, 98.05912331633571, 97.07967537126834, 95.12093946269457, 92.18290504312489, 92.18287352954539, 87.28605288274557, 83.35878352975463, 82.38916481677485, 82.38884883836165, 77.49236012853329, 77.49204022512433, 76.51296338883603, 75.5336135418625, 72.59552665019994, 71.61617341208621, 70.63660653365274, 70.63659932551153, 68.67806953636693, 68.67406801160256, 67.698730362608, 66.7193633431563, 65.73984370317599, 64.76056405068599, 62.80182666653064, 62.801696541744654, 61.822547229558154, 268.21955807232035, 188.627864362475, 142.47037218721206, 471.2191879210481, 79.35920544695745, 248.63287968888713, 75.49298820376926, 151.0102696956715, 279.02546429865595, 382.3947671807034, 85.5722293624418, 117.57913736251139, 228.65949327953018, 332.99677544141235, 257.8831926497041, 187.44335410256002, 314.6238575510161, 232.23231233205877, 106.87977502641118, 194.4501231382204, 152.5397688081674, 101.1385966128474, 140.06218878124707, 250.89420628667705, 188.70608379556586, 116.72768783378352, 139.61559006055387, 115.99127359021549, 104.22846134989054, 109.76048623499774, 102.36309724338015, 102.66455422249258, 105.38090727839328, 55.16506703036034, 55.164958947223774, 54.199369767772026, 49.370926908011576, 47.4395572528616, 46.473854035641686, 45.50816955282811, 44.54233671580641, 43.576408766091596, 39.71397276117496, 37.78218836962112, 35.851213576266986, 34.88516374486874, 34.884902777116956, 33.91966143424154, 33.91949236271176, 32.95398616258292, 32.95398616258293, 31.022793797529822, 31.022584950944875, 31.022584950944875, 31.022584950944882, 30.057086147349253, 30.057077714306796, 30.057055073416223, 30.056958732676573, 29.090788656785897, 28.125726357950104, 28.12545125582243, 196.79362813442148, 111.83930486545269, 206.93127506502623, 80.91098371613556, 114.51634076413141, 51.75670182110571, 61.41351751867202, 203.89547968887797, 38.63999966257964, 318.4925358581763, 111.38270838721705, 46.70284430562877, 82.04487083758423, 188.14147032458467, 136.4033033440942, 133.52493053922413, 74.96007834715662, 214.0785625254537, 191.38652863081046, 266.751313262386, 203.3147372135245, 243.39713952687495, 134.12258018899874, 382.86224557802325, 148.52399390584495, 200.01733861816, 110.87267265065256, 95.04167977531635, 236.20951501190575, 240.24162111695628, 169.66860143089107, 207.57615642470913, 135.32452320615033, 112.48110590542458, 185.02493861863087, 133.48045846120385, 178.3230040428609, 204.28431757787132, 131.6979465387395, 126.82892217133087, 125.33067888569721, 127.28612213577073, 115.97568761448616, 139.25523884756493, 43.373066746387096, 41.40735631892411, 41.40735631892411, 41.40735631892411, 41.40735631892411, 41.40735631892411, 41.40735631892411, 41.40735631892411, 41.4070663846595, 40.424345447071055, 39.44111630374892, 38.45842766013985, 35.5088596414592, 35.49518492336546, 34.52632509300373, 33.54353666963815, 31.577689077747596, 30.59472189563018, 30.59468292390181, 30.59461363079589, 27.645885153997742, 27.64588515399774, 27.645885153997742, 27.645885153997742, 27.645104883434254, 24.696986758284886, 24.696815005818866, 23.713918749305137, 23.713625655560467, 82.24190638701876, 98.00671121875662, 45.182579956879785, 41.23750830319915, 398.49477653571614, 218.47738276066923, 156.9121275091107, 58.8910531802705, 50.21207943245453, 102.26697495803363, 291.22709266897533, 62.57371189336257, 62.806991520779064, 813.6925761911342, 168.713493789564, 157.89417236367464, 244.14847219600946, 104.51475594851303, 686.0412489293902, 261.63133350319623, 380.31764097346496, 248.84159624087746, 122.56310521665573, 93.0541122739686, 73.87617354343115, 82.79003362482557, 208.7564297087683, 176.08517061452702, 133.11535464802856, 245.67725696439405, 189.25324803004364, 204.87404689328596, 197.67598199550642, 261.4751508032009, 157.47196145467916, 225.02184144414394, 221.1186116788982, 136.94783470121916, 166.25688079484317, 139.83606967720723, 149.61659454853157, 132.76905350072985, 41.51477143715723, 42.4446080257429, 36.598866929420495, 35.61284834135078, 34.62723957097084, 33.64134845668538, 33.64134845668538, 33.64134845668538, 32.65547739990585, 32.6553876421413, 31.66965974025503, 31.66965974025503, 26.74060133411263, 26.74060133411263, 25.754586485197763, 25.754586485197763, 25.754586485197745, 25.7544162364326, 24.768726806120778, 24.768271341515202, 23.783179677548713, 23.782488968666343, 21.811576749351865, 21.811510068510557, 21.81116492652205, 20.825737724711082, 20.825737724711082, 20.825737724711082, 20.825323069900207, 20.8253230698957, 105.63700165311482, 32.54558204829415, 34.08368384818502, 27.93727471253153, 28.6280601240391, 37.7416869469935, 56.546850371222476, 32.3719818766203, 163.81330265240624, 83.06393014700929, 64.3496395231858, 88.9205490410263, 87.70179487210972, 72.88460319784159, 137.55517777682786, 677.650887267898, 35.24247746810183, 39.17416242590517, 79.06359754264058, 58.6912150013691, 299.58140912589676, 90.37291700835976, 110.0537141824977, 113.53426101327963, 69.4959314437078, 74.0983715555792, 141.6373226902656, 90.97347291548589, 246.45560263867418, 147.51010318839315, 196.11289129984212, 49.038089859230105, 104.60133794595055, 60.32080211781198, 103.24710739815626, 197.41848619628945, 91.47183146282707, 108.70483671950554, 92.99259238684253, 171.3877419655933, 120.09003014737831, 143.64763042097874, 121.27061260858733, 100.17875117986246, 125.07978001240541, 90.89499094478789, 99.25795837124755, 99.95170552489144, 94.61328609540274, 95.35703541682231, 139.55401065708264, 80.57400710325403, 73.7888036612723, 49.55561426284564, 47.617126264204146, 70.45594994880153, 43.739952319333796, 38.89342363867211, 37.92436108950928, 37.924042405581105, 35.01638492993765, 35.01607610835613, 34.04696058529272, 34.04688726655964, 34.04688000693109, 34.04688000693084, 34.0468800069288, 34.97367278646804, 31.138970185586988, 31.138970185586878, 30.16966526286613, 30.16966526286611, 30.16966526286609, 30.16966526286608, 30.16966526286601, 30.169665262866015, 30.169501548445506, 29.20051384977931, 29.200512696398324, 28.23112737815216, 65.19612039946364, 53.27202555107863, 62.687324971059994, 470.4533886604015, 92.73561411561982, 151.83694908649787, 46.894280162071276, 129.8116679679051, 330.9287794829151, 86.99992246838225, 62.05851562703207, 151.61065717888152, 144.43272859423305, 72.70767330277737, 61.184416469913096, 61.25408586556194, 61.206064703711675, 152.62145264297502, 227.30471787913686, 327.62709577015266, 75.38157696107079, 86.76789340411314, 243.46232698301546, 215.36990972082899, 161.31008465684184, 230.84483911334434, 310.60502252127, 128.96247503765028, 151.25011958061555, 122.34869634340171, 88.11523897946054, 107.54722644991699, 125.80858497663128, 211.77002445318874, 139.830483219958, 117.01187328430878, 96.0982169448665, 95.92666327541266, 123.16337820501276, 107.21249761512696, 107.7578908643822, 97.21343750992246, 98.77916326438934, 85.40712814999557, 39.409398444177626, 38.451151128046, 35.576327142592845, 33.659787299772105, 32.70144404225454, 32.70102990228363, 31.742978096240183, 30.78490306243652, 29.826531736631175, 28.868323672324046, 28.868323672324046, 28.868235610324746, 67.92086585720378, 27.909967112355158, 45.567506923908994, 26.951273119761126, 25.03521276841813, 25.035193852617557, 25.035176214592454, 25.03516348617222, 25.03509966900982, 24.076932975686383, 24.076910559308065, 23.118589080577458, 23.11854413830235, 23.118412799786697, 22.160364969341174, 22.160364969341174, 22.160364969341174, 22.160364969341174, 22.160364969341174, 22.160364969341174, 22.160364969341174, 40.05544733299949, 43.24120279246984, 43.68357176087855, 50.270372295355614, 106.79245165843331, 32.3203023711957, 37.356271267545615, 71.13715957114132, 54.81953974143007, 48.98078411061177, 74.05778008637924, 335.25435298890187, 39.70275064071451, 114.04383094845802, 169.92042361239885, 113.46620629024694, 172.06530394076037, 523.1061614627491, 58.64946549842131, 42.66306940873315, 64.44637842219028, 98.24785376166213, 53.055056558275105, 104.54664362403564, 90.78147346964849, 77.98980731584031, 73.80870615490417, 66.00201092410086, 66.59650983498548, 75.50971086672475, 58.139177794119185, 48.11249938859061, 99.69251074501538, 56.62890647834197, 82.78829737303803, 51.46627588813422, 49.45917803144694, 46.639954925640126, 44.664591883159645, 42.76365532901484, 33.069999826089436, 32.10233796673011, 30.164193830277373, 29.19554053764515, 29.195540535115228, 29.195540516907343, 29.19554051286288, 25.318971923931052, 54.35138871133151, 24.349629278359096, 20.473117387811634, 19.504105771634375, 19.504096453602, 19.50402804992916, 19.50386827554976, 18.534814325431785, 18.534701645571577, 18.534607435688244, 105.54869510669727, 17.56577255723821, 17.565771693612927, 17.56527163780035, 97.77879548168232, 16.59666699834543, 16.59666699834543, 16.59666699834543, 16.59666699834543, 92.97695209028163, 16.59666699834543, 16.59666699834543, 16.59666699834543, 31.059275547530742, 16.59666699834543, 45.511532286640445, 30.723816469182164, 98.29389972157706, 29.15567898154916, 49.43594031334181, 31.935197621788916, 29.96026864086102, 39.784296007096785, 31.93956462598169, 58.07224007219804, 29.934950445549894, 35.50146109937379, 41.994881723257286, 49.227205489174004, 108.09899510313095, 45.85736243571887, 81.62043322306289, 74.20763351291201, 44.64339882372097, 35.769274437185814, 38.328194482490204, 35.971413810405, 44.711619590435305, 34.7564649913573, 34.236481765924786, 33.54279888593964, 42.62613913773922, 39.84375300116337, 42.024877178766154, 37.0049964730989, 38.865522186552376, 41.02523501944583, 40.05125811738209, 33.23371721364149, 32.26026815293204, 39.681395613966416, 47.1297881173205, 24.469019231989844, 23.495208195960277, 23.49512158804664, 23.495121588043702, 23.495063446667434, 22.521174171791674, 22.52115759757046, 21.5474131813301, 21.547308559935363, 27.15100837537774, 20.57352299761044, 20.573517507510136, 20.573490474468766, 19.59962976062041, 19.599628208858565, 19.599621763751784, 19.59956630466959, 18.625707654632848, 18.62562797260986, 17.651843316737594, 17.651841274897777, 17.65183671736528, 17.651812763350254, 17.6518105820679, 36.15033037831212, 27.118608960982748, 35.958946653972376, 20.159067408853158, 40.27335561726066, 50.71606046551993, 37.04009239898285, 27.441435343903834, 40.62892392972528, 33.72498467380131, 102.58882013084563, 50.672106790242495, 100.28270778172829, 52.12202260894758, 34.56574409890418, 50.24478059345078, 91.62235795683644, 42.73425698021196, 47.3227379113765, 54.067579310410316, 52.10461326947809, 32.93684257650524, 28.03282632929532, 52.14329614076091, 73.84547840211367, 44.115724221371934, 100.18598422834057, 64.97880397423131, 48.0715571287752, 46.0995274590978, 52.13231849503604, 43.68013036851828, 48.284637554096605, 43.92285422629686, 44.376147871752785, 42.006003159037704, 40.86946294784198], \"Term\": [\"sap\", \"java\", \"berater\", \"entwickler\", \"windows\", \"spring\", \"project\", \"javascript\", \"data\", \"softwareentwicklung\", \"administration\", \"abap\", \"support\", \"scrum\", \"angular\", \"mm\", \"docker\", \"implementation\", \"application\", \"devops\", \"dev\", \"ops\", \"server\", \"development\", \"business\", \"agilen\", \"backend\", \"boot\", \"rest\", \"contractor\", \"documentation\", \"well\", \"related\", \"existing\", \"implement\", \"relevant\", \"following\", \"forward\", \"possible\", \"apply\", \"send\", \"responsibilities\", \"current\", \"week\", \"analysis business\", \"leading\", \"ensure\", \"responsible\", \"several\", \"various\", \"degree\", \"users\", \"understand\", \"different\", \"activities\", \"speaking\", \"ideally\", \"stakeholders\", \"travel\", \"opportunity\", \"implementation\", \"processes\", \"analysis\", \"project\", \"complex\", \"technical\", \"look\", \"applications\", \"requirements\", \"development\", \"maintenance\", \"architecture\", \"application\", \"business\", \"data\", \"solutions\", \"support\", \"developer\", \"programming\", \"consultant\", \"agile\", \"technology\", \"testing\", \"sap\", \"software\", \"best\", \"test\", \"user\", \"plus\", \"integration\", \"applikation\", \"cloud\", \"consulting datenschutzerkl\\u00e4rung\", \"komponententests\", \"experts consulting\", \"testphasen\", \"modultests\", \"modulgruppentests\", \"programmierrichtlinien\", \"lieferpaketen\", \"entwicklerteams\", \"standardisierten\", \"handlungsoptionen\", \"ableiten\", \"umsetzungsm\\u00f6glichkeiten\", \"asapdauer\", \"javascript implementierung\", \"docker technischer\", \"projektkontext\", \"bernd\", \"phan\", \"entwicklungsumgebungen modulgruppentests\", \"strau\\u00df\", \"janek\", \"partnermanager\", \"technischer risiken\", \"themenumfeld\", \"datenschutzerkl\\u00e4rung umfangreiche\", \"romann\", \"problemstellungen\", \"systemdokumentationen komponententests\", \"verbesserungsm\\u00f6glichkeiten\", \"contractor\", \"renommierter\", \"datenschutzerkl\\u00e4rung\", \"fehlern\", \"kurz\", \"systemdokumentationen\", \"entwicklungsumgebungen\", \"experts\", \"genutzten\", \"softwareentwicklung\", \"anwendungsentwicklung\", \"ideale\", \"namhafte\", \"architektur\", \"dienstleister\", \"continuous\", \"kg\", \"consulting\", \"programmierung\", \"implementierung\", \"agilen\", \"scrum\", \"technischer\", \"entwickler\", \"jira\", \"konzeption\", \"methoden\", \"embedded\", \"dokumentation\", \"software\", \"git\", \"javascript\", \"tests\", \"applikationen\", \"integration\", \"schnittstellen\", \"analyse\", \"java\", \"datenbanken\", \"technische\", \"html\", \"test\", \"aws\", \"hibernate\", \"springboot\", \"kundenn\\u00e4he\", \"breitgef\\u00e4chertem\", \"ressourcenknappen\", \"zeitkritischen\", \"gelistet\", \"professionalit\\u00e4t\", \"beruht\", \"t\\u00e4tigen\", \"entscheiden\", \"ejb\", \"sql spring\", \"softwareentwicklungsprozesses\", \"niveau\", \"mockito\", \"projektsuche\", \"ressourcenknappen kundenn\\u00e4he\", \"entscheiden sprechen\", \"spring angular\", \"intellij rest\", \"verl\\u00e4sslichen\", \"h\\u00f6chstem\", \"navigieren\", \"punktgenau\", \"pr\\u00e4senz\", \"navigieren verl\\u00e4sslichen\", \"camunda\", \"entwickler schnellstm\\u00f6glich\", \"junit hibernate\", \"personalberatungsunternehmen\", \"rest java\", \"angular javascript\", \"java microservices\", \"spring\", \"boot\", \"jee\", \"jsf\", \"intellij\", \"fullstack\", \"angular\", \"mvc\", \"operieren\", \"java\", \"maven\", \"js\", \"backend\", \"junit\", \"entwickler\", \"rest\", \"javascript\", \"frontend\", \"react\", \"soap\", \"developer entwickler\", \"jpa\", \"docker\", \"css\", \"microservices\", \"web\", \"html\", \"agilen\", \"git\", \"sql\", \"jenkins\", \"scrum\", \"developer\", \"framework\", \"oracle\", \"cloud\", \"software\", \"softwareentwicklung\", \"richtige\", \"menschen\", \"betrachten\", \"matthias\", \"elektronischer\", \"formulierungen\", \"stellenanzeige\", \"geschlechtsneutral\", \"vielfalt\", \"geeigneten\", \"chancengleichheit\", \"behinderung\", \"rahmeninformationen\", \"personalauswahl\", \"projektnamens\", \"ansprechpartners\", \"r\\u00e4umlich\", \"anzeige\", \"betrachten stellenanzeige\", \"pers\\u00f6nlichkeit\", \"europa\", \"besch\\u00e4ftigt\", \"akquisition\", \"hra\", \"festnetz\", \"varius\", \"alster\", \"feddersen\", \"lorenzi\", \"barysava\", \"projektleiter\", \"rollen\", \"leben\", \"moritz\", \"operative\", \"sicheres\", \"architects\", \"personenbezogenen\", \"koordination\", \"erfolgreich\", \"auftreten\", \"consultants\", \"fachbereichen\", \"pr\\u00fcfung\", \"steuerung\", \"sap\", \"aktivit\\u00e4ten\", \"fragestellungen\", \"projektleitung\", \"projektmanager\", \"analyse\", \"analytische\", \"analyst\", \"verst\\u00e4ndnis\", \"strukturierte\", \"thema\", \"projektmanagement\", \"internen\", \"business\", \"planung\", \"consultant\", \"analysten\", \"kollegen\", \"reisebereitschaft\", \"fachliche\", \"berater\", \"prozessen\", \"arbeitsweise\", \"projektdauer\", \"implementierung\", \"optimierung\", \"konzeption\", \"technische\", \"hana\", \"dokumentation\", \"fi\", \"april\", \"ms\", \"bestehenden\", \"consulting\", \"cisco\", \"techniker\", \"firewall\", \"nachfolgenden\", \"ingenieure\", \"sccm\", \"support konfiguration\", \"zusenden\", \"freut rahmenparameter\", \"wan\", \"f\\u00fchrerschein\", \"wlan\", \"beraten starker\", \"switches\", \"weitergegeben\", \"erlauben\", \"widerruf\", \"dhcp\", \"mindheads\", \"projektportal\", \"anregungen\", \"bekannterma\\u00dfen\", \"verschl\\u00fcsselte\", \"daten\\u00fcbertragungen\", \"sichersten\", \"schaltfl\\u00e4che\", \"firewalls\", \"klasse\", \"netscaler\", \"switching\", \"windows administrator\", \"servern\", \"rahmenparameter\", \"windows\", \"vmware\", \"directory\", \"dns\", \"powershell\", \"administration\", \"citrix\", \"st\\u00f6rungen\", \"active\", \"administrator\", \"gehaltsvorstellung\", \"freut\", \"systemadministrator\", \"betriebssysteme\", \"installation\", \"konfiguration\", \"server\", \"exchange\", \"festanstellung\", \"microsoft\", \"linux\", \"itil\", \"ms\", \"support\", \"infrastruktur\", \"netzwerk\", \"sicherheit\", \"troubleshooting\", \"kontaktaufnahme\", \"security\", \"dokumentation\", \"planung\", \"monitoring\", \"pflege\", \"systemen\", \"sql\", \"oracle\", \"software\", \"technische\", \"analyse\", \"personalberatung\", \"karriere\", \"festanstellungen\", \"h\\u00f6ren entgegennehmen\", \"entgegennehmen operiert\", \"schl\\u00fcsselw\\u00f6rter\", \"t\\u00fcren\", \"echte\", \"sap personalberatung\", \"dementsprechend\", \"rar\", \"marktwert\", \"sd mm\", \"hauptaufgabe\", \"kollegen interessierte\", \"interessierte\", \"unternehmensgruppe\", \"support aufgabenbereich\", \"h\\u00f6ren schl\\u00fcsselw\\u00f6rter\", \"marktwert t\\u00fcren\", \"serviceanfragen\", \"rht\", \"operiert entgegennehmen\", \"schl\\u00fcsselw\\u00f6rter operiert\", \"echte sap\", \"grunds\\u00e4tzlichem\", \"verantwortungsvollen\", \"hardwareinstallationen\", \"supportf\\u00e4hige\", \"betriebssystemen datensicherung\", \"stressresistent\", \"aufgabenbereich hands\", \"serveraktivit\\u00e4ten\", \"serviceanfragen st\\u00f6rungsbeseitigung\", \"h\\u00e4nden\", \"keywords\", \"verg\\u00fctung\", \"wm\", \"pp\", \"usern\", \"schritt\", \"operiert\", \"herrn\", \"qm\", \"entgegennehmen\", \"berater\", \"entspricht\", \"sd\", \"mm\", \"h\\u00f6ren\", \"abap\", \"sap\", \"ewm\", \"absprache sap\", \"abap sap\", \"fi\", \"vermittlung\", \"absprache\", \"rahmendaten\", \"mitbringen\", \"lebenslauf\", \"freiberufler\", \"gro\\u00dfraum\", \"hana\", \"freelancer\", \"leiten\", \"support\", \"liebe\", \"entwickler\", \"bearbeitung\", \"oo\", \"erkl\\u00e4ren\", \"l\\u00f6schung\", \"einverst\\u00e4ndnis\", \"einverstanden\", \"\\u00fcbersendung\", \"abmelden\", \"dienstleistungsschwerpunkte\", \"strategisches bereiche\", \"privatsphaere\", \"respektieren\", \"pers\\u00f6nlichen beratungsunternehmen\", \"einsendeschlu\\u00df\", \"ausschreibung sap\", \"versorgungssektor zuk\\u00fcnftig\", \"dockerized\", \"respektieren r\\u00fccksprache\", \"l\\u00f6schung cvs\", \"agencies\", \"ltd\", \"applicant\", \"pass\", \"gesch\\u00e4ftspartner\", \"gehe\", \"referred\", \"collectively\", \"registrierte\", \"contacted\", \"voluntary\", \"explicitly\", \"disclaimer\", \"profilvorgabe\", \"treated\", \"confirms\", \"agreeing\", \"strategisches\", \"permission\", \"einsendeschluss\", \"ok\", \"ausschreibung\", \"versorgungssektor\", \"weitergabe\", \"\\u00fcbersenden\", \"beratungsunternehmen\", \"anmerkungen\", \"zuk\\u00fcnftig\", \"spark\", \"gerichtet\", \"hive\", \"scala\", \"erreichen\", \"data\", \"hadoop\", \"berater\", \"sql\", \"big\", \"dwh\", \"speichern\", \"bereiche\", \"python\", \"hinweis\", \"etl\", \"hierzu\", \"cloud\", \"l\\u00f6sungen\", \"java\", \"mai\", \"business\", \"rational\", \"autorisierung\", \"datenaustausch\", \"analysewerkzeuge\", \"reseller\", \"authentifizierung\", \"xt\", \"apx\", \"stax\", \"sax\", \"jobsteuerung\", \"dom\", \"tiles\", \"qualit\\u00e4tssicherungskonzepte\", \"gpm\", \"questax\", \"xlst\", \"tomcat rational\", \"kundenprojekt innovativer\", \"laufzeitumgebungen\", \"serverpages\", \"objectif\", \"beans\", \"verarbeitung schema\", \"ee entity\", \"authentifizierung xhtml\", \"test qualit\\u00e4tssicherungskonzepte\", \"schema dom\", \"sax eclipse\", \"bs business\", \"codereview\", \"ehrenbreitsteiner\", \"signatur\", \"application test\", \"bs\", \"javaee\", \"profiling\", \"xhtml\", \"verschl\\u00fcsselung\", \"dev docker\", \"ops\", \"digitale\", \"dev\", \"websphere\", \"herzliche\", \"google\", \"devops\", \"aussagekr\\u00e4ftige\", \"ibm\", \"ee\", \"cvs\", \"innovativer\", \"host\", \"projektsprache\", \"application\", \"kundenprojekt\", \"java\", \"docker\", \"projektstart\", \"kubernetes\", \"test\", \"sicherheit\", \"scrum\", \"solutions\", \"business\", \"consultant\", \"javascript\"], \"Total\": [1547.0, 1317.0, 682.0, 1271.0, 536.0, 453.0, 521.0, 666.0, 520.0, 475.0, 412.0, 335.0, 798.0, 569.0, 374.0, 322.0, 405.0, 272.0, 393.0, 282.0, 194.0, 189.0, 528.0, 534.0, 748.0, 438.0, 350.0, 243.0, 396.0, 204.0, 154.73104859430651, 109.68286352882798, 104.78602547659317, 99.88918746324974, 98.90982030142175, 97.93045235246315, 95.97171700362847, 93.03361544329391, 93.03361446167075, 88.13677652829786, 84.21920451958422, 83.2399393544932, 83.2399352438696, 78.34310113859735, 78.34309874991693, 77.3637334097588, 76.38436558520412, 73.44626311412439, 72.46689568325222, 71.48752609759808, 71.48752733810333, 69.52879288694744, 69.5287511973172, 68.54942554492304, 67.57005818548583, 66.59068896894543, 65.61132262556616, 63.65258785839455, 63.65258613747558, 62.67322040857922, 272.22491591334904, 193.8471203119759, 148.79980304186466, 521.0030479799732, 81.27002619629053, 281.1985080550449, 77.35803341307043, 172.2396584361549, 355.4900507722398, 534.0103383499987, 91.99643832067234, 140.86598210286135, 393.53470288261025, 748.3823941000882, 520.6728400953524, 321.8815983464958, 798.5784169595169, 558.8245586709796, 152.3433324380873, 572.5468265996507, 373.17002177387025, 137.77073708519103, 322.87902628852675, 1547.3409349434612, 765.132330797486, 223.62833465711196, 537.960056387372, 295.62304244193496, 162.47907431539014, 586.0942073761182, 281.87812882333225, 487.81599764746204, 106.23341974094267, 56.01746976260561, 56.017470420074496, 55.05177868512434, 50.22332150573125, 48.2919387890165, 47.32624752651604, 46.36055616117614, 45.39486652477004, 44.42917601343146, 40.566408953818616, 38.63502864576068, 36.70364340954688, 35.73795520776173, 35.737958817312965, 34.77226266650709, 34.772264297007254, 33.80657190161833, 33.806571901618334, 31.875186168655212, 31.8751887702106, 31.8751887702106, 31.875188770210606, 30.909494974051384, 30.909495086186986, 30.909495254548894, 30.90949598286108, 29.943810296946555, 28.97811216315228, 28.978115363228337, 204.83431382993047, 115.9476704938299, 218.3164980719922, 85.00030997973859, 121.79746826644464, 54.091629452911086, 64.75292702077797, 242.36691717623683, 40.570436214087195, 475.9985775516426, 148.39310207952613, 52.11944097935747, 112.59540212986052, 340.8513142586452, 224.19127109448476, 224.20374680109734, 101.93129026394986, 444.88638953276575, 390.7928621948795, 647.1939354621305, 438.562962032541, 569.9749916861608, 246.87665019307624, 1271.2610819668084, 294.70797504899826, 488.99379980521553, 191.3987759734311, 151.1995738415844, 693.0698596413649, 765.132330797486, 419.2541150738056, 666.0718938495277, 302.7888358662626, 215.45490545108134, 586.0942073761182, 324.1004751586984, 681.599036409736, 1317.5803326549767, 356.1922937002743, 377.07409114804113, 376.62167797066917, 537.960056387372, 273.585413237068, 140.54662273785829, 44.223649166663, 42.25771642561327, 42.25771642561327, 42.25771642561327, 42.25771642561327, 42.25771642561327, 42.25771642561327, 42.25771642561327, 42.25771328538023, 41.27474837138751, 40.291777196840115, 39.30881194051085, 36.359896006721776, 36.35970724361475, 35.37693870621075, 34.393970553183166, 32.42803690936222, 31.445069201477, 31.445068300408234, 31.44506582386124, 28.496164708576625, 28.496164708576625, 28.496164708576632, 28.496164708576636, 28.49616523872278, 25.5472609964534, 25.547258870658734, 24.56429156798277, 24.56428974125108, 85.44763981137534, 103.12570993800003, 47.15252656085671, 43.22042230256338, 453.5222187956975, 243.47578349973924, 181.4647068768355, 63.810218659578034, 54.002639663239, 117.68563801195597, 374.15653285380466, 69.67869868730011, 70.58534861630558, 1317.5803326549767, 222.43511131177468, 209.72190177165317, 350.4268113353729, 130.39113338812118, 1271.2610819668084, 396.11331074081323, 666.0718938495277, 394.9769275253379, 178.27943252754847, 125.24934347914235, 93.10574009123096, 109.83843911233066, 405.3515694333956, 319.2327722441476, 219.77575923813288, 535.6061145084142, 376.62167797066917, 438.562962032541, 419.2541150738056, 715.17061856771, 316.24750180767774, 569.9749916861608, 558.8245586709796, 276.7820526242636, 483.0954706477146, 487.81599764746204, 765.132330797486, 475.9985775516426, 42.37793262818412, 43.36262600429123, 37.44901929131823, 36.463178998761336, 35.47734634897696, 34.49150907731065, 34.49150907731065, 34.49150907731065, 33.50567177131407, 33.505670297293534, 32.519835405372866, 32.519835405372866, 27.59065317937531, 27.59065317937531, 26.604814237661007, 26.604814237661007, 26.60481423766101, 26.60481194476514, 25.618977169675905, 25.618962275531942, 24.633143764704606, 24.633133856829303, 22.661471433910478, 22.66147051544969, 22.661467864026683, 21.67563463496004, 21.67563463496004, 21.67563463496004, 21.67563124776545, 21.67563124776537, 117.07181183292182, 34.478233533190206, 36.4587302581072, 29.560069356707686, 30.54113532678796, 41.34543065880596, 65.98158049107683, 35.43126868976655, 227.6129209129864, 105.14184101685596, 78.60296886792761, 118.10057320053512, 117.79952771273719, 94.22588706615964, 208.71733428303128, 1547.3409349434612, 39.41095864075345, 45.226349042641516, 111.0062099145459, 76.7513063102391, 681.599036409736, 145.1348730788412, 191.63495146364406, 205.35004718929181, 102.95554352945776, 113.57082245276055, 300.5818968938878, 158.67383476155916, 748.3823941000882, 346.40506727127774, 572.5468265996507, 62.83075735587587, 217.5388594411959, 88.28181623011233, 222.7576877469649, 682.1874573838055, 182.57337342449446, 251.43282038026467, 195.31734607456457, 647.1939354621305, 326.62189984237546, 488.99379980521553, 377.07409114804113, 269.01567778193515, 693.0698596413649, 233.45213626444144, 339.1758903150998, 498.00440219011534, 329.9501846458063, 444.88638953276575, 140.55622407584664, 81.42611614598727, 74.64091997920687, 50.40807414253276, 48.469446990599074, 71.73738497271297, 44.59219009085747, 39.74562082644995, 38.77630515903307, 38.776306562813836, 35.86836287097338, 35.868363566954386, 34.899050194244516, 34.899050355930626, 34.899051065216376, 34.89905106521638, 34.8990510652164, 35.868226626764994, 31.991108033414857, 31.991108033414864, 31.021794043992227, 31.02179404399221, 31.021794043992205, 31.021794043992227, 31.021794043992205, 31.021794043992216, 31.021797101629705, 30.05247941320551, 30.052480188402374, 29.083166593671685, 67.87447037382499, 55.25041678127437, 65.9576238657034, 536.0256921496508, 99.89908573571861, 168.67633909884808, 49.45559166325284, 148.45198977109598, 412.31372349271163, 96.98954883177478, 67.94001535212779, 186.31618214062604, 178.42438610837485, 82.48001056369087, 67.93769313637436, 68.74859604496314, 68.84514324415149, 201.3330952765866, 329.23280241658443, 528.988680322151, 90.19730790828882, 113.65721734076728, 452.1346804932198, 422.086402783886, 283.7923108264234, 498.00440219011534, 798.5784169595169, 213.83616764623926, 281.3327982977064, 223.71758535637514, 129.27217486234005, 185.09268390193827, 247.59389027566257, 693.0698596413649, 346.40506727127774, 275.89699766404885, 200.55074987321967, 226.7047385118533, 715.17061856771, 483.0954706477146, 765.132330797486, 377.07409114804113, 681.599036409736, 86.2605293565763, 40.26279615827129, 39.30450928122846, 36.42965034693568, 34.51307743209213, 33.55479238683363, 33.554796067114076, 32.596509770200974, 31.63821989284572, 30.67993543082845, 29.721647789104978, 29.721647789104978, 29.721649637411172, 69.9891374353132, 28.763362483920158, 46.98660763047053, 27.805083551233857, 25.888502539991325, 25.888502766828523, 25.88850344894113, 25.888502936422796, 25.888504714737167, 24.93021622318247, 24.930216610563583, 23.971931748332292, 23.971932090608732, 23.971933169314166, 23.013643928990234, 23.013643928990234, 23.013643928990234, 23.013643928990234, 23.013643928990234, 23.013643928990234, 23.013643928990234, 42.20006349263679, 46.054705943072534, 47.02425410161028, 54.70324231121725, 126.98081830815313, 34.528495492111034, 41.298642911343364, 87.65662672949033, 66.3936039789139, 59.63926465323397, 100.31439684011683, 682.1874573838055, 46.15470832503271, 187.6877918194705, 322.47823438792005, 189.30703550895723, 335.37378541617596, 1547.3409349434612, 79.14311462662823, 51.99929208062441, 108.35716007293851, 233.45213626444144, 80.22169686761939, 281.05547358504543, 216.97624351354642, 179.30671145180253, 173.5119848310693, 146.34819111584474, 181.6795502512557, 269.01567778193515, 132.81280167156424, 75.37282146314867, 798.5784169595169, 143.0563925575141, 1271.2610819668084, 220.28354639289608, 129.02124788674328, 47.49222631203332, 45.55393028869107, 43.61562549727066, 33.92416708951193, 32.95498681761044, 31.01669233685127, 30.04753817987739, 30.047538179904077, 30.047538180096044, 30.047538180138694, 26.17094134933713, 56.219516333975534, 25.201794365523696, 21.325196873942186, 20.35604612908186, 20.356046382617535, 20.356047084159755, 20.35604858260553, 19.386897831002944, 19.386898696831707, 19.386901053681406, 110.50692567987203, 18.41774840701634, 18.417748375990918, 18.417751941238574, 102.75381459452638, 17.448598775026458, 17.448598775026458, 17.448598775026458, 17.448598775026458, 97.90785385763695, 17.448598775026458, 17.448598775026458, 17.448598775026458, 32.965990582863746, 17.448598775026458, 49.44553918683948, 32.969526446256495, 117.51994088773799, 32.0198946635432, 62.08179000583963, 37.88261218792426, 35.94938391924287, 53.48778338969459, 41.72171288020585, 105.12269057325005, 40.87900514340146, 54.46524294741214, 76.81206366002232, 104.2351500474019, 520.6728400953524, 112.14151594013353, 682.1874573838055, 715.17061856771, 158.10132951478144, 66.33606040501394, 89.28541547144442, 70.92764284329105, 341.25071557811737, 74.6855862918814, 70.19389252780913, 61.01050882162739, 487.81599764746204, 276.8868681539524, 1317.5803326549767, 230.01597811461454, 748.3823941000882, 41.87665392420336, 40.90275778115001, 34.08549359073612, 33.11159866821418, 40.90483784467663, 48.68791864763758, 25.32043880225759, 24.346543644106244, 24.34654448421024, 24.346544484210263, 24.34654404142897, 23.372648584398537, 23.372649833295032, 22.398753638713085, 22.398754351814844, 28.240996237797813, 21.42485862493109, 21.424858644368605, 21.424858710397796, 20.45096361166725, 20.450963624469278, 20.45096364178099, 20.450964217513345, 19.477068627868352, 19.477069213031708, 18.50317359545104, 18.503173591454985, 18.50317361239288, 18.503173858388035, 18.503173782387478, 38.97316438580547, 29.223020513514797, 39.91429078432759, 21.428719160841347, 46.77771650575998, 61.44573084061517, 42.85073574685047, 31.190554758262795, 51.56603349211626, 41.81631415880611, 189.84134874722764, 73.94479107915936, 194.67455289609933, 83.05506283446671, 46.695643419208096, 95.46967999355064, 282.5404421729693, 79.88071851751106, 101.46646374354358, 135.03028054507266, 127.35571929957212, 50.69790336142566, 36.11213102768306, 148.57798566767963, 393.53470288261025, 117.5183830444588, 1317.5803326549767, 405.3515694333956, 238.28239938473837, 238.10264776375212, 537.960056387372, 223.71758535637514, 569.9749916861608, 321.8815983464958, 748.3823941000882, 572.5468265996507, 666.0718938495277], \"loglift\": [30.0, 29.0, 28.0, 27.0, 26.0, 25.0, 24.0, 23.0, 22.0, 21.0, 20.0, 19.0, 18.0, 17.0, 16.0, 15.0, 14.0, 13.0, 12.0, 11.0, 10.0, 9.0, 8.0, 7.0, 6.0, 5.0, 4.0, 3.0, 2.0, 1.0, 1.6123, 1.6117, 1.6113, 1.6109, 1.6109, 1.6108, 1.6106, 1.6103, 1.6103, 1.6098, 1.6092, 1.6092, 1.6092, 1.6086, 1.6086, 1.6084, 1.6083, 1.6078, 1.6077, 1.6075, 1.6075, 1.6072, 1.6071, 1.607, 1.6068, 1.6066, 1.6064, 1.606, 1.606, 1.6058, 1.6047, 1.5922, 1.576, 1.5191, 1.5957, 1.4964, 1.5951, 1.488, 1.3773, 1.2855, 1.5471, 1.4388, 1.0766, 0.8097, 0.9169, 1.0788, 0.688, 0.7414, 1.2651, 0.5396, 0.7249, 1.3104, 0.7843, -0.1998, 0.2196, 0.9694, 0.2706, 0.6839, 1.1755, -0.0557, 0.6065, 0.061, 1.8037, 1.7964, 1.7964, 1.7962, 1.7947, 1.794, 1.7936, 1.7932, 1.7928, 1.7924, 1.7905, 1.7895, 1.7883, 1.7876, 1.7876, 1.787, 1.787, 1.7862, 1.7862, 1.7847, 1.7847, 1.7847, 1.7847, 1.7838, 1.7838, 1.7838, 1.7838, 1.7829, 1.7819, 1.7819, 1.7717, 1.7757, 1.7582, 1.7625, 1.7501, 1.7677, 1.7588, 1.6389, 1.763, 1.41, 1.5249, 1.702, 1.4952, 1.2175, 1.3149, 1.2935, 1.5044, 1.0803, 1.0979, 0.9255, 1.043, 0.9609, 1.2016, 0.6117, 1.1265, 0.9178, 1.2658, 1.3475, 0.7354, 0.6534, 0.9072, 0.6459, 1.0064, 1.1618, 0.6588, 0.9247, 0.4709, -0.0523, 0.8168, 0.7222, 0.7115, 0.3704, 0.9535, 1.8251, 1.8149, 1.814, 1.814, 1.814, 1.814, 1.814, 1.814, 1.814, 1.814, 1.8135, 1.813, 1.8125, 1.8107, 1.8103, 1.81, 1.8093, 1.8078, 1.8069, 1.8069, 1.8069, 1.8041, 1.8041, 1.8041, 1.8041, 1.804, 1.8005, 1.8005, 1.7991, 1.7991, 1.7961, 1.7834, 1.7917, 1.7874, 1.705, 1.726, 1.689, 1.7541, 1.7616, 1.6939, 1.5838, 1.7268, 1.7176, 1.3524, 1.5579, 1.5505, 1.473, 1.6131, 1.2175, 1.4196, 1.274, 1.3723, 1.4596, 1.5372, 1.603, 1.5516, 1.1708, 1.2394, 1.333, 1.055, 1.1462, 1.0732, 1.0825, 0.8282, 1.1371, 0.9049, 0.9072, 1.1307, 0.7677, 0.5849, 0.2024, 0.5575, 1.8615, 1.8607, 1.8591, 1.8585, 1.8578, 1.8571, 1.8571, 1.8571, 1.8563, 1.8563, 1.8556, 1.8556, 1.8508, 1.8508, 1.8496, 1.8496, 1.8496, 1.8496, 1.8483, 1.8483, 1.8469, 1.8469, 1.8438, 1.8438, 1.8438, 1.8421, 1.8421, 1.8421, 1.842, 1.842, 1.7793, 1.8244, 1.8147, 1.8256, 1.8174, 1.7909, 1.7277, 1.7917, 1.5531, 1.6463, 1.682, 1.5983, 1.587, 1.6252, 1.4651, 1.0564, 1.7703, 1.7384, 1.5427, 1.6138, 1.06, 1.4083, 1.3274, 1.2894, 1.489, 1.455, 1.1296, 1.3258, 0.7713, 1.0283, 0.8106, 1.6342, 1.1498, 1.5012, 1.1131, 0.6421, 1.1909, 1.0435, 1.1399, 0.5533, 0.8815, 0.6571, 0.7476, 0.8942, 0.1699, 0.9388, 0.6533, 0.2761, 0.6329, 0.3419, 1.8832, 1.8798, 1.8789, 1.8733, 1.8726, 1.8723, 1.8711, 1.8687, 1.8681, 1.8681, 1.8663, 1.8663, 1.8656, 1.8656, 1.8656, 1.8656, 1.8656, 1.8651, 1.8634, 1.8634, 1.8625, 1.8625, 1.8625, 1.8625, 1.8625, 1.8625, 1.8625, 1.8616, 1.8616, 1.8606, 1.8501, 1.8539, 1.8395, 1.7599, 1.816, 1.7852, 1.8372, 1.7562, 1.6705, 1.7817, 1.7998, 1.6842, 1.679, 1.7643, 1.7857, 1.7749, 1.7728, 1.6134, 1.5199, 1.4113, 1.7109, 1.6204, 1.2713, 1.2175, 1.3255, 1.1215, 0.9461, 1.3847, 1.2698, 1.2869, 1.5071, 1.3474, 1.2133, 0.7047, 0.9832, 1.0326, 1.1547, 1.0303, 0.1314, 0.385, -0.0698, 0.5348, -0.0412, 2.5526, 2.5411, 2.5405, 2.5388, 2.5375, 2.5367, 2.5367, 2.536, 2.5352, 2.5343, 2.5334, 2.5334, 2.5334, 2.5325, 2.5324, 2.5318, 2.5313, 2.529, 2.529, 2.529, 2.529, 2.529, 2.5277, 2.5277, 2.5263, 2.5263, 2.5262, 2.5247, 2.5247, 2.5247, 2.5247, 2.5247, 2.5247, 2.5247, 2.5103, 2.4995, 2.4888, 2.478, 2.3894, 2.4964, 2.4622, 2.3537, 2.3709, 2.3656, 2.259, 1.8521, 2.4119, 2.0643, 1.9218, 2.0506, 1.8951, 1.478, 2.2628, 2.3646, 2.0429, 1.697, 2.149, 1.5736, 1.6912, 1.73, 1.7077, 1.7662, 1.5589, 1.292, 1.7364, 2.1136, 0.4818, 1.6358, -0.169, 1.1085, 1.6037, 2.9689, 2.9673, 2.9673, 2.9615, 2.9608, 2.9592, 2.9583, 2.9583, 2.9583, 2.9583, 2.954, 2.9533, 2.9526, 2.9463, 2.9443, 2.9443, 2.9443, 2.9443, 2.9421, 2.9421, 2.9421, 2.9411, 2.9397, 2.9397, 2.9397, 2.9374, 2.937, 2.937, 2.937, 2.937, 2.9354, 2.937, 2.937, 2.937, 2.9275, 2.937, 2.9041, 2.9165, 2.8084, 2.8933, 2.7593, 2.8163, 2.8048, 2.6911, 2.7199, 2.3936, 2.6755, 2.5591, 2.3832, 2.2368, 1.415, 2.0928, 0.8638, 0.7214, 1.7225, 2.3694, 2.1414, 2.3081, 0.9547, 2.2221, 2.2691, 2.3888, 0.5496, 1.0484, -0.4582, 1.16, 0.0292, 3.0144, 3.0139, 3.0096, 3.0089, 3.0046, 3.0024, 3.0007, 2.9993, 2.9993, 2.9993, 2.9993, 2.9978, 2.9978, 2.9962, 2.9962, 2.9956, 2.9944, 2.9944, 2.9944, 2.9924, 2.9924, 2.9924, 2.9924, 2.9902, 2.9902, 2.9878, 2.9878, 2.9878, 2.9878, 2.9878, 2.9597, 2.9602, 2.9306, 2.9739, 2.8852, 2.843, 2.8892, 2.9069, 2.7966, 2.8199, 2.4195, 2.657, 2.3716, 2.569, 2.7341, 2.393, 1.9088, 2.4094, 2.2722, 2.1197, 2.1412, 2.6036, 2.7817, 1.9878, 1.3617, 2.0552, 0.4584, 1.2042, 1.4342, 1.393, 0.7009, 1.4014, 0.5665, 1.0432, 0.2097, 0.4227, 0.2439], \"logprob\": [30.0, 29.0, 28.0, 27.0, 26.0, 25.0, 24.0, 23.0, 22.0, 21.0, 20.0, 19.0, 18.0, 17.0, 16.0, 15.0, 14.0, 13.0, 12.0, 11.0, 10.0, 9.0, 8.0, 7.0, 6.0, 5.0, 4.0, 3.0, 2.0, 1.0, -5.6285, -5.9732, -6.0193, -6.0675, -6.0775, -6.0875, -6.1079, -6.1393, -6.1393, -6.1938, -6.2399, -6.2516, -6.2516, -6.3129, -6.3129, -6.3256, -6.3385, -6.3781, -6.3917, -6.4055, -6.4055, -6.4336, -6.4337, -6.448, -6.4625, -6.4773, -6.4923, -6.5231, -6.5231, -6.5388, -5.0712, -5.4233, -5.7039, -4.5077, -6.2891, -5.1471, -6.339, -5.6457, -5.0317, -4.7166, -6.2137, -5.8959, -5.2308, -4.8549, -5.1105, -5.4296, -4.9117, -5.2153, -5.9913, -5.3929, -5.6356, -6.0465, -5.721, -5.138, -5.4228, -5.9032, -5.7241, -5.9095, -6.0165, -5.9647, -6.0345, -6.0316, -5.8132, -6.4604, -6.4604, -6.4781, -6.5714, -6.6113, -6.6319, -6.6529, -6.6743, -6.6962, -6.789, -6.8389, -6.8914, -6.9187, -6.9187, -6.9468, -6.9468, -6.9756, -6.9756, -7.036, -7.036, -7.036, -7.036, -7.0677, -7.0677, -7.0677, -7.0677, -7.1003, -7.1341, -7.1341, -5.1886, -5.7537, -5.1384, -6.0774, -5.73, -6.5242, -6.3531, -5.1531, -6.8165, -4.7072, -5.7578, -6.6269, -6.0635, -5.2336, -5.5551, -5.5765, -6.1538, -5.1044, -5.2165, -4.8844, -5.156, -4.9761, -5.572, -4.5231, -5.47, -5.1723, -5.7624, -5.9164, -5.006, -4.9891, -5.3369, -5.1353, -5.5631, -5.748, -5.2503, -5.5768, -5.2872, -5.1512, -5.5902, -5.6279, -5.6398, -5.6243, -5.7174, -5.5119, -6.6784, -6.7247, -6.7247, -6.7247, -6.7247, -6.7247, -6.7247, -6.7247, -6.7247, -6.7488, -6.7734, -6.7986, -6.8784, -6.8788, -6.9065, -6.9353, -6.9957, -7.0274, -7.0274, -7.0274, -7.1287, -7.1287, -7.1287, -7.1287, -7.1287, -7.2415, -7.2415, -7.2821, -7.2821, -6.0385, -5.8632, -6.6375, -6.7288, -4.4605, -5.0615, -5.3925, -6.3725, -6.5319, -5.8206, -4.7741, -6.3118, -6.3081, -3.7466, -5.32, -5.3863, -4.9504, -5.7989, -3.9173, -4.8813, -4.5072, -4.9314, -5.6396, -5.915, -6.1458, -6.0319, -5.107, -5.2772, -5.557, -4.9442, -5.2051, -5.1258, -5.1616, -4.8819, -5.3889, -5.032, -5.0495, -5.5286, -5.3347, -5.5077, -5.4401, -5.5596, -6.6744, -6.6523, -6.8005, -6.8278, -6.8558, -6.8847, -6.8847, -6.8847, -6.9145, -6.9145, -6.9451, -6.9451, -7.1143, -7.1143, -7.1519, -7.1519, -7.1519, -7.1519, -7.1909, -7.1909, -7.2315, -7.2315, -7.318, -7.318, -7.3181, -7.3643, -7.3643, -7.3643, -7.3643, -7.3643, -5.7405, -6.9178, -6.8717, -7.0705, -7.0461, -6.7697, -6.3654, -6.9232, -5.3018, -5.9809, -6.2362, -5.9127, -5.9265, -6.1116, -5.4765, -3.8819, -6.8382, -6.7325, -6.0302, -6.3282, -4.6981, -5.8965, -5.6995, -5.6684, -6.1592, -6.0951, -5.4472, -5.8899, -4.8933, -5.4066, -5.1218, -6.5079, -5.7503, -6.3008, -5.7634, -5.1152, -5.8845, -5.7118, -5.868, -5.2566, -5.6122, -5.4331, -5.6025, -5.7935, -5.5715, -5.8908, -5.8028, -5.7958, -5.8507, -5.8429, -5.4537, -6.003, -6.091, -6.4891, -6.529, -6.1372, -6.6139, -6.7313, -6.7566, -6.7566, -6.8364, -6.8364, -6.8644, -6.8644, -6.8644, -6.8644, -6.8644, -6.8376, -6.9537, -6.9537, -6.9853, -6.9853, -6.9853, -6.9853, -6.9853, -6.9853, -6.9853, -7.018, -7.018, -7.0517, -6.2148, -6.4168, -6.254, -4.2385, -5.8624, -5.3694, -6.5443, -5.5261, -4.5903, -5.9263, -6.2641, -5.3709, -5.4194, -6.1057, -6.2783, -6.2771, -6.2779, -5.3642, -4.9659, -4.6003, -6.0696, -5.9289, -4.8972, -5.0198, -5.3088, -4.9504, -4.6536, -5.5326, -5.3732, -5.5853, -5.9135, -5.7142, -5.5574, -5.0367, -5.4517, -5.6299, -5.8268, -5.8286, -5.5787, -5.7174, -5.7123, -5.8153, -5.7993, -5.2726, -6.046, -6.0706, -6.1484, -6.2037, -6.2326, -6.2326, -6.2624, -6.293, -6.3246, -6.3573, -6.3573, -6.3573, -5.5017, -6.391, -5.9008, -6.426, -6.4997, -6.4998, -6.4998, -6.4998, -6.4998, -6.5388, -6.5388, -6.5794, -6.5794, -6.5794, -6.6217, -6.6217, -6.6217, -6.6217, -6.6217, -6.6217, -6.6217, -6.0298, -5.9532, -5.9431, -5.8026, -5.0491, -6.2443, -6.0995, -5.4554, -5.716, -5.8286, -5.4152, -3.9051, -6.0386, -4.9835, -4.5847, -4.9885, -4.5722, -3.4602, -5.6485, -5.9667, -5.5542, -5.1325, -5.7487, -5.0704, -5.2116, -5.3635, -5.4186, -5.5303, -5.5214, -5.3958, -5.6572, -5.8465, -5.1179, -5.6835, -5.3037, -5.7791, -5.8189, -5.453, -5.4963, -5.5398, -5.7969, -5.8266, -5.8888, -5.9215, -5.9215, -5.9215, -5.9215, -6.0639, -5.3, -6.103, -6.2764, -6.3249, -6.3249, -6.3249, -6.3249, -6.3758, -6.3758, -6.3758, -4.6363, -6.4295, -6.4295, -6.4296, -4.7128, -6.4863, -6.4863, -6.4863, -6.4863, -4.7631, -6.4863, -6.4863, -6.4863, -5.8596, -6.4863, -5.4775, -5.8704, -4.7075, -5.9228, -5.3948, -5.8318, -5.8956, -5.612, -5.8316, -5.2338, -5.8965, -5.7259, -5.5579, -5.399, -4.6124, -5.47, -4.8934, -4.9886, -5.4968, -5.7184, -5.6493, -5.7128, -5.4953, -5.7471, -5.7622, -5.7827, -5.543, -5.6105, -5.5572, -5.6844, -5.6354, -5.5334, -5.5574, -5.744, -5.7738, -5.5667, -5.3947, -6.0502, -6.0908, -6.0908, -6.0908, -6.0908, -6.1331, -6.1331, -6.1773, -6.1773, -5.9462, -6.2236, -6.2236, -6.2236, -6.2721, -6.2721, -6.2721, -6.2721, -6.3231, -6.3231, -6.3768, -6.3768, -6.3768, -6.3768, -6.3768, -5.6599, -5.9474, -5.6652, -6.2439, -5.5519, -5.3214, -5.6356, -5.9355, -5.5431, -5.7294, -4.6169, -5.3222, -4.6396, -5.294, -5.7047, -5.3307, -4.7299, -5.4926, -5.3906, -5.2574, -5.2943, -5.753, -5.9142, -5.2936, -4.9456, -5.4608, -4.6406, -5.0735, -5.3749, -5.4168, -5.2938, -5.4707, -5.3705, -5.4652, -5.4549, -5.5098, -5.5372]}, \"token.table\": {\"Topic\": [1, 2, 4, 6, 7, 1, 4, 6, 7, 2, 7, 2, 3, 4, 5, 6, 8, 4, 6, 1, 3, 5, 6, 1, 1, 2, 4, 5, 6, 8, 1, 5, 6, 7, 1, 2, 3, 4, 7, 8, 2, 3, 4, 7, 8, 7, 4, 3, 4, 4, 1, 2, 3, 4, 5, 6, 7, 8, 1, 7, 1, 1, 2, 4, 5, 8, 2, 4, 7, 2, 3, 4, 5, 7, 1, 2, 3, 7, 2, 3, 3, 7, 5, 4, 2, 3, 4, 5, 4, 7, 1, 2, 3, 4, 5, 6, 8, 3, 8, 1, 2, 3, 7, 8, 1, 2, 3, 4, 5, 6, 8, 2, 3, 4, 5, 1, 1, 2, 3, 4, 5, 6, 7, 8, 8, 2, 3, 4, 5, 1, 4, 1, 2, 3, 2, 3, 4, 5, 7, 8, 2, 6, 2, 4, 5, 4, 5, 8, 4, 7, 8, 7, 2, 8, 8, 8, 1, 2, 3, 7, 8, 1, 2, 3, 7, 4, 8, 2, 3, 4, 5, 6, 4, 5, 5, 1, 2, 3, 4, 5, 6, 7, 8, 4, 7, 2, 3, 4, 5, 7, 2, 3, 4, 1, 2, 4, 5, 7, 8, 2, 3, 4, 5, 6, 7, 4, 4, 1, 2, 5, 6, 1, 2, 3, 4, 7, 1, 2, 3, 8, 3, 1, 8, 8, 1, 2, 3, 4, 5, 6, 7, 8, 3, 4, 5, 1, 4, 5, 8, 1, 2, 3, 4, 5, 7, 8, 3, 8, 7, 1, 7, 7, 1, 2, 3, 4, 5, 6, 7, 8, 1, 4, 1, 2, 3, 4, 5, 6, 7, 8, 2, 7, 1, 2, 3, 7, 8, 1, 2, 1, 2, 3, 7, 8, 1, 3, 4, 5, 7, 8, 1, 2, 3, 4, 5, 6, 7, 8, 8, 1, 2, 3, 4, 5, 6, 7, 8, 2, 7, 8, 2, 5, 1, 6, 1, 2, 3, 6, 7, 8, 2, 8, 1, 2, 3, 7, 8, 1, 2, 3, 8, 1, 2, 3, 5, 7, 8, 1, 2, 3, 7, 8, 5, 1, 2, 4, 5, 7, 1, 1, 2, 3, 5, 8, 1, 5, 6, 7, 1, 5, 1, 2, 3, 7, 8, 2, 7, 1, 1, 2, 3, 4, 5, 6, 7, 8, 8, 1, 4, 7, 8, 6, 6, 1, 2, 3, 8, 8, 1, 8, 7, 8, 7, 8, 7, 7, 3, 4, 1, 2, 4, 5, 6, 1, 3, 6, 6, 3, 3, 3, 4, 6, 1, 2, 3, 4, 6, 7, 8, 3, 2, 2, 3, 2, 2, 3, 4, 5, 7, 5, 1, 2, 3, 4, 5, 6, 7, 1, 2, 4, 7, 4, 4, 6, 1, 4, 5, 6, 7, 1, 1, 2, 6, 2, 7, 2, 3, 4, 5, 7, 2, 3, 4, 5, 8, 4, 2, 5, 1, 3, 4, 5, 6, 6, 4, 1, 4, 6, 7, 5, 5, 1, 4, 1, 2, 4, 5, 6, 1, 2, 3, 5, 7, 1, 2, 3, 4, 5, 6, 7, 1, 2, 3, 4, 5, 6, 3, 5, 5, 1, 2, 3, 7, 8, 2, 3, 5, 4, 1, 5, 8, 7, 3, 2, 5, 4, 7, 4, 7, 8, 1, 2, 3, 7, 8, 1, 2, 4, 7, 8, 8, 2, 3, 4, 5, 6, 7, 8, 6, 1, 2, 3, 4, 5, 7, 1, 2, 3, 4, 5, 6, 7, 2, 6, 6, 8, 1, 3, 6, 5, 8, 2, 3, 2, 5, 6, 7, 1, 3, 5, 7, 1, 7, 4, 5, 8, 4, 1, 2, 3, 5, 7, 8, 6, 8, 3, 2, 3, 5, 6, 8, 6, 6, 1, 2, 3, 4, 5, 8, 2, 6, 1, 1, 1, 5, 7, 2, 3, 4, 5, 6, 7, 8, 2, 3, 4, 5, 6, 8, 5, 2, 3, 4, 8, 1, 4, 5, 6, 8, 1, 2, 3, 4, 5, 6, 7, 8, 2, 3, 7, 3, 4, 6, 2, 3, 4, 5, 6, 7, 1, 4, 5, 7, 2, 1, 2, 3, 4, 5, 6, 7, 8, 2, 3, 3, 8, 1, 2, 3, 5, 7, 8, 2, 2, 3, 8, 1, 2, 3, 7, 8, 1, 2, 3, 4, 5, 7, 8, 8, 3, 8, 1, 2, 3, 8, 2, 3, 1, 2, 3, 3, 6, 1, 6, 2, 3, 4, 5, 1, 2, 3, 4, 5, 6, 6, 2, 1, 2, 3, 4, 5, 6, 7, 2, 4, 5, 6, 8, 2, 3, 4, 5, 6, 7, 8, 1, 2, 4, 5, 6, 1, 2, 3, 7, 8, 3, 3, 4, 6, 7, 8, 8, 2, 3, 8, 1, 3, 4, 1, 2, 3, 4, 5, 6, 2, 3, 4, 6, 2, 3, 4, 6, 8, 2, 1, 2, 3, 4, 5, 6, 7, 8, 1, 8, 4, 7, 7, 7, 2, 3, 4, 5, 6, 7, 1, 2, 3, 4, 5, 6, 7, 8, 1, 5, 6, 6, 4, 1, 2, 3, 8, 4, 2, 3, 4, 5, 7, 1, 2, 3, 8, 1, 2, 3, 4, 5, 6, 7, 5, 2, 3, 4, 5, 6, 8, 1, 2, 3, 4, 5, 6, 8, 3, 2, 2, 1, 2, 3, 4, 5, 6, 7, 8, 3, 4, 1, 2, 3, 4, 5, 6, 7, 8, 2, 3, 5, 5, 2, 3, 4, 3, 3, 5, 1, 2, 3, 4, 5, 6, 3, 8, 1, 7, 1, 2, 4, 6, 8, 1, 4, 3, 6, 4, 6, 6, 1, 1, 2, 3, 6, 7, 8, 1, 2, 3, 4, 5, 6, 8, 1, 2, 3, 4, 5, 6, 7, 8, 2, 7, 7, 4, 6, 3, 6, 2, 4, 7, 4, 2, 3, 4, 5, 2, 2, 3, 4, 5, 7, 1, 2, 3, 4, 5, 6, 1, 1, 3, 5, 7, 1, 4, 6, 7, 2, 1, 5, 6, 3, 1, 2, 8, 7, 8, 2, 1, 2, 3, 4, 5, 6, 7, 1, 2, 3, 7, 1, 4, 5, 7, 3, 4, 5, 6, 7, 8, 2, 2, 4, 6, 1, 2, 4, 5, 1, 2, 3, 4, 5, 7, 1, 2, 4, 4, 5, 2, 3, 4, 5, 6, 8, 3, 4, 5, 6, 8, 3, 2, 3, 4, 5, 6, 7, 3, 2, 4, 5, 6, 3, 1, 2, 3, 4, 5, 6, 7, 8, 1, 6, 8, 8, 2, 3, 4, 5, 6, 4, 4, 5, 6, 8, 1, 2, 3, 8, 7, 7, 8, 2, 3, 4, 5, 6, 1, 1, 2, 3, 1, 2, 3, 4, 7, 8, 7, 7, 1, 1, 3, 3, 1, 2, 3, 7, 8, 2, 3, 6, 4, 4, 8, 2, 4, 1, 2, 3, 4, 5, 6, 7, 8, 6, 8, 8, 1, 2, 3, 7, 1, 5, 5, 8, 6, 6, 2, 3, 4, 5, 6, 7, 8, 3, 6, 1, 2, 3, 4, 7, 8, 1, 2, 4, 6, 8, 6, 1, 3, 4, 5, 1, 1, 2, 3, 4, 5, 6, 7, 8, 6, 2, 5, 8, 6, 6, 1, 4, 5, 1, 2, 3, 5, 6, 8, 5, 5, 8, 2, 3, 1, 2, 3, 4, 5, 6, 7, 8, 2, 3, 4, 5, 3, 1, 2, 3, 4, 5, 7, 8, 1, 2, 4, 7, 1, 4, 5, 7, 8, 1, 2, 3, 8, 3, 3, 1, 2, 3, 4, 5, 6, 7, 8, 3, 1, 2, 8, 4, 2, 3, 4, 5, 6, 7, 1, 7, 7, 2, 6, 2, 3, 4, 5, 4, 5, 1, 2, 3, 4, 5, 6, 7, 8, 6, 5, 6, 5, 5, 5, 6, 2, 5, 2, 2, 3, 4, 5, 6, 7, 8, 1, 3, 4, 5, 2, 3, 4, 5, 6, 7, 8, 2, 3, 4, 5, 6, 8, 2, 1, 2, 4, 7, 8, 1, 2, 3, 4, 5, 7, 8, 8, 1, 2, 3, 4, 6, 7, 2, 1, 2, 3, 4, 5, 7, 8, 2, 4, 5, 6, 8, 2, 8, 8, 1, 7, 1, 2, 5, 3, 6, 2, 1, 6, 1, 2, 4, 5, 6, 7, 8, 5, 6, 1, 1, 4, 6, 8, 2, 3, 5, 6, 3, 3, 4, 6, 8, 5, 2, 3, 5, 8, 4, 7, 7, 2, 3, 4, 5, 6, 7, 4, 1, 5, 8, 7, 5, 1, 2, 3, 4, 5, 6, 8, 3, 4, 5, 8, 1, 5, 7, 8, 5, 1, 5, 1, 2, 4, 5, 6, 1, 5, 5, 1, 6, 7, 3, 8, 8, 8, 3, 2, 4, 5, 7, 5, 3, 4, 7, 7], \"Freq\": [0.17294136429901927, 0.0327992242636071, 0.25344855112787307, 0.5128605975764019, 0.029817476603279183, 0.20303226833548543, 0.16611731045630626, 0.5906393260668668, 0.027686218409384376, 0.9835633965336698, 0.9672211232000606, 0.14943669114236657, 0.21703900380200858, 0.09606644430580707, 0.15299470759813721, 0.37359172785591643, 0.010674049367311898, 0.17307927934952624, 0.8269343346699588, 0.13954772849722713, 0.010734440653632856, 0.815817489676097, 0.037570542287714996, 0.9915634498357102, 0.10186418158536609, 0.007276012970383292, 0.024253376567944306, 0.8027867643989566, 0.053357428449477474, 0.009701350627177722, 0.11769691608883898, 0.8070645674663244, 0.07285999567404317, 0.9825089539769629, 0.41000078000025786, 0.21169974915045991, 0.265294622353108, 0.021437949281059233, 0.02679743660132404, 0.0643138478431777, 0.46287538523359745, 0.4674357338565886, 0.03420261467243331, 0.015961220180468878, 0.018241394491964432, 0.9742902693327719, 0.9708107465201639, 0.07612095984130181, 0.8880778648151878, 0.9688297645564514, 0.08362687878821334, 0.26115060393512235, 0.02347421158967392, 0.440141467306386, 0.14524668421110737, 0.01760565869225544, 0.02787562626273778, 0.9664287224741803, 0.9543023384247925, 0.04032263401794898, 0.9828561957422145, 0.39136910791677054, 0.010436509544447215, 0.5740080249445968, 0.010436509544447215, 0.015654764316670823, 0.12732617489691692, 0.7798728212436161, 0.0954946311726877, 0.0620112851520596, 0.09646199912542605, 0.620112851520596, 0.13780285589346578, 0.07579157074140618, 0.013363390883124484, 0.15234265606761913, 0.777749349397845, 0.05612624170912284, 0.021207771310183452, 0.9543497089582553, 0.2430461532736593, 0.7478343177651056, 0.9670620582889818, 0.9772667370552488, 0.7480132057655443, 0.18868801586878595, 0.04717200396719649, 0.006738857709599498, 0.9772668212795188, 0.9800432909418908, 0.5819054795488005, 0.025410719630951983, 0.053362511224999166, 0.01524643177857119, 0.09910180656071273, 0.035575007483332775, 0.18803932526904468, 0.04666634494083021, 0.9333268988166042, 0.8766854356946606, 0.005805863812547421, 0.03483518287528453, 0.06386450193802164, 0.011611727625094843, 0.36185851107280737, 0.12771476861393202, 0.16673872569041126, 0.04257158953797734, 0.0922384439989509, 0.06385738430696601, 0.13835766599842636, 0.5198303550597477, 0.199577725603296, 0.023206712279453024, 0.2506324926180927, 0.987102131787939, 0.11203626520946815, 0.06781142367941492, 0.27419401748632993, 0.2918839540983512, 0.056018132604734074, 0.12088123351547879, 0.05306980983606385, 0.020638259380691498, 0.9446926157655149, 0.16704263165198396, 0.1869286592296011, 0.4335154011920536, 0.21476909783826512, 0.13640170382425343, 0.8638774575536051, 0.8376756278448799, 0.09938524398159593, 0.0638905139881688, 0.5515601440730888, 0.17896366376839584, 0.061610441625185454, 0.10561789992888934, 0.017602983321481556, 0.08214725550024726, 0.9793509392613079, 0.9559546531562805, 0.07633299462366976, 0.8142186093191441, 0.10177732616489302, 0.15022398674805884, 0.31296663905845595, 0.5383026191805442, 0.11061952466788909, 0.8339010321117792, 0.04254597102611119, 0.9523131429416088, 0.02053897615211616, 0.9653318791494596, 0.9728060922708553, 0.9779291707913631, 0.17910311598937617, 0.4239992133626048, 0.2741374224327186, 0.04386198758923498, 0.07675847828116121, 0.07134157316539906, 0.17692710145018967, 0.6962937540942948, 0.05421959560570329, 0.9688299159529656, 0.9779489997284745, 0.0998712811748589, 0.013618811069298941, 0.24059899555761463, 0.41764353945850086, 0.231519788178082, 0.984014820527444, 0.9670620582889824, 0.9742385483490096, 0.008795236463317648, 0.0029317454877725493, 0.014658727438862746, 0.2887769305455961, 0.02198809115829412, 0.49106736920190197, 0.12020156499867451, 0.05130554603601961, 0.13908444192623887, 0.8345066515574332, 0.14098875416026724, 0.014098875416026724, 0.16918650499232069, 0.16918650499232069, 0.5075595149769621, 0.9761415649014765, 0.9702369997246009, 0.9742974702078447, 0.523189515225767, 0.16992479981691577, 0.12967945249185678, 0.04471705258339889, 0.013415115775019667, 0.11626433671683711, 0.22124551946641208, 0.236399322169591, 0.2879222513603993, 0.20609171676323318, 0.01818456324381469, 0.03030760540635782, 0.9880098517981131, 0.9758391146697082, 0.04357605865327116, 0.05810141153769488, 0.8860465259498469, 0.9559546531562805, 0.5123296574961884, 0.0885508049993412, 0.012650114999905886, 0.10752597749920004, 0.2846275874978825, 0.00821436929476866, 0.036964661826458974, 0.895366253129784, 0.053393400415996294, 0.9702369997246009, 0.12826620126403965, 0.855108008426931, 0.9728060824426548, 0.44495969256522194, 0.042758889375636946, 0.02672430585977309, 0.328708962075209, 0.03474159761770502, 0.010689722343909237, 0.052112396426557524, 0.058793472891500796, 0.978578567922711, 0.984014820527444, 0.996042693381216, 0.010310389233116935, 0.010310389233116935, 0.8970038632811734, 0.08248311386493548, 0.211145186908029, 0.21319514017898072, 0.28699345793324327, 0.05329878504474518, 0.09839775700568341, 0.08814799065092473, 0.05124883177379344, 0.0513173623830357, 0.9237125228946426, 0.9773179733025289, 0.9720681005958117, 0.012304659501212806, 0.9742902693327719, 0.33883691426981416, 0.0017465820323186298, 0.07160986332506382, 0.34233007833445145, 0.041917968775647116, 0.0820893555189756, 0.04715771487260301, 0.07335644535738245, 0.2370860635236369, 0.753594987628703, 0.15284801153709338, 0.48102168336673506, 0.06743294626636473, 0.21353766317682163, 0.0247254136310004, 0.008991059502181964, 0.031468708257636875, 0.017982119004363927, 0.9883895318069357, 0.9742902693327719, 0.19178983676016578, 0.5976706540898189, 0.1070454902847437, 0.08474434647542209, 0.017840915047457283, 0.034173961721139894, 0.9617529227235084, 0.009397531396637482, 0.3038535151579453, 0.5513218419360657, 0.03132510465545828, 0.1033728453630123, 0.9851040820702595, 0.05496415895963236, 0.015704045417037817, 0.24341270396408615, 0.26696877208964287, 0.40830518084298323, 0.4955126907575046, 0.06530012203781069, 0.10755314217992348, 0.0806648566349426, 0.013444142772490435, 0.0038411836492829813, 0.207423917061281, 0.02496769372033938, 0.9681537957534186, 0.014037361527555556, 0.3705863443274667, 0.19371558908026668, 0.14318108758106668, 0.18529317216373334, 0.005614944611022223, 0.04491955688817778, 0.042112084582666666, 0.9481647142019451, 0.022902529328549397, 0.022902529328549397, 0.9705755384531863, 0.9670620582889818, 0.993180246173608, 0.9778377815572186, 0.17465045890279404, 0.18492401530884076, 0.05136778203023354, 0.005136778203023354, 0.07191489484232695, 0.5136778203023354, 0.16739878061505017, 0.8130797915588152, 0.4151571300870389, 0.10557875291006594, 0.3954729558156707, 0.03936834854273645, 0.04294728931934885, 0.042961905421519064, 0.15036666897531673, 0.7947952502981027, 0.021480952710759532, 0.7153419560758226, 0.1048668836132096, 0.13857409620316985, 0.0018726229216644572, 0.029961966746631315, 0.007490491686657829, 0.17342650001942922, 0.24067351023104464, 0.194662397980992, 0.06370769388468829, 0.3256171020772957, 0.9757939907149711, 0.01784190785159611, 0.6066248669542678, 0.20072146333045626, 0.1739586015530621, 0.9651373043073819, 0.9919849722947279, 0.013523603020657401, 0.16228323624788882, 0.06761801510328701, 0.06761801510328701, 0.6897037540535275, 0.0533566239822516, 0.9011340939224715, 0.041499596430640134, 0.9742902693327719, 0.04044032095739877, 0.9503475424988712, 0.05920786253164737, 0.2368314501265895, 0.5156018028797625, 0.02713693699367171, 0.1603546276898783, 0.9777908422608651, 0.9825090723992224, 0.9952753593997591, 0.06348566365700592, 0.3405140141603045, 0.0432856797661404, 0.18035699902558502, 0.3058854703473922, 0.028857119844093605, 0.004328567976614041, 0.033185687820707646, 0.9840562107006015, 0.13567281422880134, 0.30149514273066963, 0.5426912569152054, 0.015074757136533482, 0.9817001950697712, 0.9594554265156412, 0.022217238888121913, 0.037028731480203185, 0.5332137333149259, 0.39991029998619443, 0.9755061088599248, 0.034219597510035935, 0.9239291327709702, 0.9303164806471247, 0.06067281395524726, 0.9605205366622089, 0.01778741734559646, 0.9727578546859106, 0.9858852076463013, 0.9679394336335846, 0.98654503794389, 0.2182545834062663, 0.6283086491998575, 0.052910202037882735, 0.026455101018941368, 0.07275152780208877, 0.9949680071011996, 0.2591851301407847, 0.7376807550160794, 0.985133825486827, 0.9691155386359377, 0.985846137000834, 0.08666504773101424, 0.04333252386550712, 0.8666504773101424, 0.001573240956063672, 0.3012756430861932, 0.5396216479298396, 0.04562398772584649, 0.0652894996766424, 0.02595847577505059, 0.021238752906859573, 0.97702797304693, 0.9913015158981782, 0.942042357103429, 0.030886634659128817, 0.9725433393855489, 0.08559865333304514, 0.0475548074072473, 0.7894098029603052, 0.06657673037014622, 0.9896356446042497, 0.9742385240350429, 0.009593692718293596, 0.08634323446464236, 0.11512431261952315, 0.2302486252390463, 0.07674954174634877, 0.009593692718293596, 0.4700909431963862, 0.2136938052560251, 0.05698501473494003, 0.22794005893976013, 0.48437262524699026, 0.9742970783285972, 0.25270675906999074, 0.7454849392564726, 0.09978124856177588, 0.011086805395752875, 0.8315104046814656, 0.0443472215830115, 0.011086805395752875, 0.9910982611248401, 0.04951170786759735, 0.8416990337491549, 0.10727536704646093, 0.9818365518391942, 0.9742902693327719, 0.1358239740911116, 0.04244499190347238, 0.7470318575011139, 0.008488998380694475, 0.05942298866486133, 0.25139424172696373, 0.031424280215870466, 0.462385837462094, 0.12120793797550036, 0.13018630375146337, 0.9688297645564514, 0.9529377012778878, 0.03529398893621807, 0.043991926927165484, 0.09678223923976408, 0.043991926927165484, 0.7654595285326795, 0.043991926927165484, 0.9668101878109063, 0.970810899452956, 0.1756248653623692, 0.38980153043842924, 0.41978626354907767, 0.012850599904563602, 0.9914132893942704, 0.9670619629713191, 0.9898749648962545, 0.9857498529215128, 0.9888898712753572, 0.06633301302237463, 0.8623291692908702, 0.04422200868158309, 0.022111004340791544, 0.2781972287217944, 0.216777061341658, 0.4949742900634524, 0.0036129510223609665, 0.007225902044721933, 0.10541152527315036, 0.03011757864947153, 0.22588183987103647, 0.06023515729894306, 0.127999709260254, 0.4367048904173372, 0.015058789324735766, 0.10249528802256572, 0.013666038403008762, 0.24598869125415773, 0.034165096007521906, 0.15032642243309638, 0.45097926729928917, 0.0883162162712227, 0.897881532090764, 0.9799799089714913, 0.055699456010854444, 0.23545679131861194, 0.6304165703046707, 0.055699456010854444, 0.02531793455038838, 0.12745820351057716, 0.8667157838719247, 0.975790284209595, 0.9849079187848876, 0.09699319805278661, 0.8850629322316778, 0.012124149756598326, 0.9773181608422234, 0.9702369997246009, 0.9612911183453853, 0.02464849021398424, 0.24462434848696812, 0.7338730454609044, 0.9857498529215128, 0.9592158984412601, 0.03619682635627396, 0.05485933035135761, 0.4054820069448171, 0.4722672786769046, 0.014311129656875898, 0.05247414207521162, 0.20949059430544945, 0.031423589145817415, 0.031423589145817415, 0.1885415348749045, 0.5237264857636236, 0.9821974764510717, 0.04403357443881996, 0.25319305302321476, 0.17063010095042735, 0.08806714887763992, 0.36878118592511716, 0.02201678721940998, 0.05504196804852495, 0.9594554128163287, 0.35669216404523996, 0.053503824606785995, 0.026751912303392997, 0.13375956151696497, 0.017834608202261997, 0.41019598865202594, 0.24905611655210066, 0.01858627735463438, 0.0037172554709268757, 0.37172554709268757, 0.007434510941853751, 0.28251141579044253, 0.07434510941853752, 0.9860374884436178, 0.9559546531562805, 0.9715793406205122, 0.014287931479713415, 0.0602467671625473, 0.10543184253445778, 0.8283930484850254, 0.23556801437016256, 0.74953459117779, 0.007115076694977996, 0.9889956606019414, 0.11473433241583778, 0.2786405215813203, 0.04917185674964476, 0.5572810431626406, 0.013389464415420993, 0.04016839324626298, 0.46863125453973475, 0.46863125453973475, 0.3304859948459158, 0.6609719896918316, 0.1938406790403451, 0.027691525577192157, 0.7753627161613804, 0.9708107858667545, 0.034517397060220265, 0.3318980486559641, 0.5018298495678177, 0.0053103687784954254, 0.02655184389247713, 0.09558663801291767, 0.9478658724525222, 0.023696646811313057, 0.9825883688682044, 0.010564847706916673, 0.23770907340562514, 0.1426254440433751, 0.596913895440792, 0.010564847706916673, 0.9882060260572383, 0.9656796387635449, 0.12812114979051098, 0.019710946121617074, 0.13797662285131954, 0.0788437844864683, 0.17739851509455368, 0.4632072338580013, 0.9017748294463656, 0.09593349249429421, 0.9906826657183108, 0.9908015169914461, 0.9844800542993138, 0.0073468660768605505, 0.0073468660768605505, 0.41255021929299746, 0.11433976115236634, 0.2642175561764141, 0.13133621213447486, 0.04171856150153907, 0.0309026381492882, 0.00463539572239323, 0.11691193438033763, 0.05611772850256206, 0.12626488913076464, 0.6032655814025422, 0.00935295475042701, 0.0841765927538431, 0.9903145791886149, 0.13807277098023082, 0.09862340784302202, 0.11834808941162643, 0.6509144917639453, 0.04470203961070591, 0.009933786580156869, 0.7599346733820004, 0.17880815844282363, 0.009933786580156869, 0.1876831379932219, 0.31564891389769134, 0.15867756212154213, 0.11602230348671898, 0.11260988279593313, 0.047773889671001935, 0.051186310361787786, 0.01364968276314341, 0.05555283998537904, 0.925880666422984, 0.018517613328459682, 0.9858462428937417, 0.02128266011167629, 0.9790023651371094, 0.11344025325315159, 0.11974248954499335, 0.5735035025575997, 0.1260447258368351, 0.03781341775105053, 0.031511181459208774, 0.16209036765670196, 0.2607540697086075, 0.5673162867984568, 0.003523703644710912, 0.972543260009537, 0.077414634593449, 0.154829269186898, 0.6177991427359557, 0.002276901017454382, 0.028081779215270716, 0.01214347209309004, 0.031876614244361355, 0.07589670058181275, 0.023137210298398464, 0.948625622234337, 0.1627452365395266, 0.8300007063515856, 0.04504018301480426, 0.3122786022359762, 0.5705089848541872, 0.007506697169134042, 0.0030026788676536173, 0.06155491678689915, 0.9793508403463863, 0.09919284201206705, 0.8651820108830293, 0.03306428067068902, 0.050593285033221275, 0.297235549570175, 0.4964466093884838, 0.025296642516610637, 0.12648321258305317, 0.05089784216903562, 0.5055852322124205, 0.301993863536278, 0.03053870530142137, 0.08482973694839269, 0.010179568433807124, 0.016965947389678538, 0.9446926003486309, 0.7556553122092052, 0.236711302619751, 0.09059616491885214, 0.14304657618766128, 0.7533786345883494, 0.009536438412510752, 0.06268588454992848, 0.924616797111445, 0.06135386503764229, 0.13037696320498987, 0.8052694786190551, 0.9770280457039446, 0.968636153502422, 0.04342661534897579, 0.9336722300029794, 0.7357897639261545, 0.02943159055704618, 0.23545272445636944, 0.9649786162820551, 0.027581279112212555, 0.10113135674477937, 0.032178158964247985, 0.48267238446371974, 0.17468143437734618, 0.17927831422938162, 0.9734605964672278, 0.9818365633628668, 0.07897147492339392, 0.10023302586430766, 0.009112093260391606, 0.09112093260391606, 0.6894817233696314, 0.015186822100652675, 0.009112093260391606, 0.01620809605629466, 0.11885937107949418, 0.5834914580266078, 0.21610794741726214, 0.06483238422517865, 0.4090031408980389, 0.10225078522450973, 0.294482261446588, 0.10838583233798031, 0.010225078522450973, 0.026585204158372528, 0.04908037690776467, 0.0395408132539215, 0.07468820281296285, 0.7205214859603475, 0.14498298193104553, 0.017573694779520668, 0.09659699384284393, 0.19319398768568785, 0.3989875832639206, 0.1175963403304187, 0.19319398768568785, 0.9702369997246009, 0.1531675260813481, 0.41695604322144764, 0.051055842027116036, 0.008509307004519339, 0.37440950819885094, 0.980169824401614, 0.9441903976889366, 0.05747245898976136, 0.9779490286995584, 0.9952983989561068, 0.05485654562956884, 0.9325612757026703, 0.11526581301846056, 0.14408226627307572, 0.05186961585830725, 0.21324175408415205, 0.05186961585830725, 0.4264835081683041, 0.079604290824293, 0.05306952721619533, 0.22554549066883017, 0.636834326594344, 0.020970751088902832, 0.251649013066834, 0.29359051524463964, 0.39844427068915383, 0.041941502177805665, 0.992222781799195, 0.10187487613055517, 0.22033403442189836, 0.04738366331653728, 0.0023691831658268644, 0.5093743806527758, 0.01658428216078805, 0.0331685643215761, 0.06870631180897906, 0.9695179245253148, 0.012926905660337532, 0.9688299159529622, 0.9800433347111249, 0.9878401208154681, 0.9825090263012402, 0.2094718337012332, 0.11918225020932234, 0.30698458387249694, 0.20586025036155678, 0.01444633335870574, 0.1444633335870574, 0.0043475240641835345, 0.021737620320917674, 0.2260712513375438, 0.24346134759427795, 0.06086533689856949, 0.186943534759892, 0.1608583903747908, 0.0999930534762213, 0.9348187991825234, 0.06521991622203652, 0.9757197920443189, 0.9656796133197313, 0.987297350053404, 0.03596554497543714, 0.12587940741403, 0.7597721376061097, 0.07193108995087429, 0.9685760266420124, 0.579941012869426, 0.20898775238537876, 0.09404448857342045, 0.06269632571561362, 0.05224693809634469, 0.04550092346246764, 0.3412569259685073, 0.6051622820508197, 0.004550092346246764, 0.0862574840696938, 0.03096422505065931, 0.14155074308872828, 0.08846921443045518, 0.5374504776650152, 0.0973161358735007, 0.015482112525329656, 0.9690192652164583, 0.11154072169449152, 0.2676977320667796, 0.08923257735559322, 0.0669244330166949, 0.4350088146085169, 0.02788518042362288, 0.13334233264336792, 0.006201968960156647, 0.012403937920313295, 0.19226103776485606, 0.04651476720117485, 0.527167361613315, 0.0806255964820364, 0.9893450728074282, 0.9732473199168732, 0.9756423615751569, 0.16310434829303613, 0.04349449287814297, 0.014498164292714322, 0.0942380679026431, 0.42407130556189393, 0.11598531434171458, 0.09061352682946451, 0.05799265717085729, 0.03382941994935079, 0.9472237585818222, 0.06425646010210138, 0.04016028756381337, 0.14457703522972812, 0.20080143781906684, 0.4638513213620444, 0.044176316320194704, 0.030120215672860027, 0.01204808626914401, 0.07175794172676359, 0.9041500657572212, 0.028703176690705434, 0.9919045877178545, 0.7282713010379084, 0.12433900261622827, 0.14210171727568943, 0.9825883688682042, 0.9785784864949173, 0.964978591390652, 0.0533176369437274, 0.049763127814145575, 0.20260702038616413, 0.10308076475787298, 0.5367308785668559, 0.0533176369437274, 0.9626040101339504, 0.9779490272595429, 0.06066207845782052, 0.9402622160962181, 0.007750661355235181, 0.14726256574946844, 0.2945251314989369, 0.3797824064065239, 0.1627638884599388, 0.03274272515740072, 0.9495390295646209, 0.8925364999252362, 0.09917072221391514, 0.18253040981574892, 0.8099786935573858, 0.962687197942653, 0.9892582445230936, 0.14222402115331734, 0.16329424650936436, 0.07374578874616455, 0.005267556339011754, 0.07901334508517631, 0.5425583029182106, 0.0061232881229494425, 0.18676028774995798, 0.10715754215161524, 0.36739728737696653, 0.20819179618028105, 0.11021918621308996, 0.012246576245898885, 0.1531788321277031, 0.10556919511503864, 0.343617380178361, 0.03932970014089675, 0.22148831131978694, 0.014489889525593538, 0.047609637012664484, 0.07451943184590962, 0.9725432600095367, 0.9800431717988297, 0.9742902693327719, 0.9785922726970148, 0.9853869508339599, 0.9596520182536818, 0.02340614678667517, 0.05644731543518369, 0.9031570469629391, 0.9552579582940073, 0.9758396819951174, 0.19945076258895283, 0.07978030503558113, 0.2393409151067434, 0.4786818302134868, 0.9761415649014764, 0.15011327752684867, 0.005773587597186487, 0.4272454821918001, 0.4041511318030541, 0.014433968992966218, 0.6400824256182326, 0.06154638707867621, 0.09847421932588195, 0.13540205157308768, 0.04308247095507335, 0.024618554831470487, 0.9888898817094052, 0.08083421460704755, 0.0067361845505872955, 0.8757039915763485, 0.026944738202349182, 0.07875205194954965, 0.07087684675459469, 0.8426469558601812, 0.9651373043003586, 0.968480621284099, 0.9749951389312619, 0.015476113316369236, 0.005158704438789746, 0.9702369997246009, 0.07001046651154642, 0.046673644341030954, 0.8634624203090726, 0.9498727255857, 0.04085474088540645, 0.9719764909361772, 0.06909031001322566, 0.48874997083430005, 0.16632852410591364, 0.1356217196555911, 0.07164921038408588, 0.04606020667548378, 0.02303010333774189, 0.7023608994734645, 0.21661597834228344, 0.07220532611409447, 0.006564120555826771, 0.9040254213985035, 0.055661862464026754, 0.03454874221905109, 0.0019193745677250605, 0.2969526320404633, 0.47614818585798424, 0.05631860262836373, 0.010239745932429769, 0.07167822152700838, 0.09215771339186792, 0.9777907964114456, 0.0768758923185052, 0.9054271761957278, 0.008541765813167243, 0.1531445854523529, 0.08107654523948095, 0.7116718971021105, 0.04504252513304497, 0.0033268803289009203, 0.3692837165080022, 0.016634401644504603, 0.4724170067039307, 0.026615042631207363, 0.1131139311826313, 0.2084655072231064, 0.01302909420144415, 0.7687165578852048, 0.9772667370552488, 0.9690192652164581, 0.0605742496747133, 0.17499227683806065, 0.289410304001408, 0.09422661060510958, 0.026921888744317023, 0.3499845536761213, 0.1930482491311787, 0.3483261886497355, 0.07134391815717475, 0.1804581459269714, 0.20144165126731692, 0.9885453599323761, 0.1533629985293543, 0.01643174984243082, 0.4984297452204015, 0.16979474837178513, 0.07120424931720022, 0.08215874921215409, 0.9825883505880099, 0.10612794754565286, 0.7747340170832658, 0.09551515279108756, 0.010612794754565285, 0.9825883688682041, 0.27252690105703503, 0.32234364641154684, 0.08205110999566646, 0.011721587142238067, 0.15531102963465437, 0.002930396785559517, 0.13186785535017825, 0.023443174284476134, 0.1676747702733076, 0.8216063743392072, 0.98219750772097, 0.9560569242193779, 0.00921759897587652, 0.27652796927629564, 0.2857455682521721, 0.00921759897587652, 0.4194007534023817, 0.9785922726970148, 0.045483748870461325, 0.9551587262796879, 0.9757197920443189, 0.9790658077460033, 0.14022929984442764, 0.15705681582575895, 0.689928155234584, 0.01121834398755421, 0.9773181624885543, 0.9537358820858841, 0.03892799518717894, 0.033982082926118144, 0.09061888780298173, 0.6796416585223629, 0.12460097072909987, 0.06796416585223629, 0.9924987566517756, 0.9904988455571068, 0.9659529986500248, 0.025873741035268523, 0.784832091345233, 0.030943200734041443, 0.101268656947772, 0.050634328473886, 0.02813018248549222, 0.9778794418373575, 0.9651373042989887, 0.982509060162018, 0.9851040334230341, 0.9939239507198485, 0.9702369997246009, 0.9868004063718503, 0.05806419369494369, 0.23983036526172397, 0.6614269020902281, 0.02524530160649726, 0.015147180963898355, 0.03878761176436827, 0.9502964882270227, 0.9656795661036622, 0.9910818531073701, 0.9571256012357131, 0.02900380609805191, 0.9705755155837745, 0.9772667370552487, 0.162213765778239, 0.015510479596325644, 0.009694049747703527, 0.43817104859619943, 0.010340319730883762, 0.337999201203263, 0.02003436947858729, 0.0064626998318023515, 0.9798275663103904, 0.944692583167868, 0.9728060784469184, 0.26037576712587684, 0.11716909520664459, 0.06509394178146921, 0.5467891109643415, 0.013939733102626669, 0.9757813171838668, 0.9670620582889822, 0.9728060913801365, 0.983466076009717, 0.9626871829838243, 0.41036656899338236, 0.1727859237866873, 0.24683703398098186, 0.052452869720958646, 0.08947842481810593, 0.006170925849524547, 0.01851277754857364, 0.0726416121333614, 0.8959132163114573, 0.07017851762525183, 0.42633449457340483, 0.3947541616420415, 0.008772314703156479, 0.014035703525050364, 0.0842142211503022, 0.13319992609879772, 0.021311988175807633, 0.21844787880202823, 0.6073916630105175, 0.015983991131855724, 0.9757197313670363, 0.35138185317552534, 0.10097179688951878, 0.03231097500464601, 0.5088978563231746, 0.9855234381927614, 0.06994478592144394, 0.03213679353147424, 0.14177997146238638, 0.03969839200946818, 0.6200510751955031, 0.03024639391197576, 0.001890399619498485, 0.06616398668244697, 0.9559546531562805, 0.018099410977455703, 0.9592687818051522, 0.9779490280873755, 0.9656796324374264, 0.9559546531562805, 0.9935571176486849, 0.9190858432117109, 0.07255940867460876, 0.1564472455048453, 0.004469921300138437, 0.08045858340249186, 0.5453303986168893, 0.017879685200553747, 0.1966765372060912, 0.9670620582889825, 0.07516104986582788, 0.9019325983899344, 0.2475062873695813, 0.7425188621087438, 0.2470160943310396, 0.31367123089655824, 0.19604451931034889, 0.013069634620689925, 0.1411520539034512, 0.018297488468965895, 0.03267408655172482, 0.03920890386206978, 0.6680692233066582, 0.2794125996848602, 0.04831947212595327, 0.0021008466141718813, 0.9901018416924173, 0.5809589642918952, 0.024853859434947386, 0.09941543773978954, 0.080775043163579, 0.00932019728810527, 0.06834811344610531, 0.13669622689221061, 0.40904584695763063, 0.028538082345881205, 0.009512694115293735, 0.5517362586870367, 0.9911295561272704, 0.033600112450162374, 0.392001311918561, 0.4256014243687234, 0.14560048728403696, 0.004409927269519201, 0.028664527251874808, 0.877575526634321, 0.08819854539038402, 0.985846165250579, 0.9723304342875119, 0.12304756056147803, 0.10487008002398696, 0.3649478784834746, 0.12164929282782487, 0.17198693123933861, 0.008389606401918957, 0.1034718122903338, 0.0013982677336531594, 0.9667043628158597, 0.9897476617942647, 0.9903402211802957, 0.9446925831678687, 0.9857498529215128, 0.11498805349561807, 0.014373506686952258, 0.6611813075998039, 0.17727324913907785, 0.0047911688956507525, 0.023955844478253763, 0.0303342924729165, 0.9403630666604116, 0.9651373043065247, 0.972543260009537, 0.9559546531562805, 0.09712930122251055, 0.038851720489004225, 0.6701921784353229, 0.18454567232277005, 0.0735943313242629, 0.9125697084208599, 0.3944509309421627, 0.0012522251775941673, 0.005008900710376669, 0.04257565603820169, 0.38944203023178603, 0.12522251775941673, 0.025044503551883347, 0.01753115248631834, 0.9656796472249096, 0.9867198697877169, 0.9559546531562805, 0.9742385438353957, 0.9627562359764712, 0.8872908467847783, 0.10182026110644997, 0.9613317351674175, 0.03697429750643914, 0.9662465188330654, 0.1323307143773329, 0.06175433337608869, 0.2514283573169325, 0.42345828600746527, 0.07498740481382198, 0.048521261938355396, 0.004411023812577763, 0.885495452028707, 0.09246137250098949, 0.01778103317326721, 0.9947668369049644, 0.3368038350588749, 0.07425596363502754, 0.32089184285136896, 0.2572438740213454, 0.0026519987012509835, 0.0026519987012509835, 0.0026519987012509835, 0.5427811820000062, 0.040506058358209425, 0.1053157517313445, 0.17417605094030053, 0.12961938674627016, 0.008101211671641885, 0.970575547260966, 0.7331019789604979, 0.04355061261151472, 0.029033741741009818, 0.159685579575554, 0.029033741741009818, 0.2602423699264196, 0.23607700700468062, 0.1896051552321057, 0.1394155553177248, 0.035318607347156944, 0.04275410363076893, 0.09666145168695585, 0.9728060924809484, 0.4335989290146555, 0.20131378847109005, 0.17653670681310973, 0.04026275769421801, 0.04645702810871309, 0.09910832663192126, 0.9808947374590724, 0.13210526697776734, 0.4458552760499648, 0.1387105303266557, 0.16843421539665338, 0.039631580093330204, 0.07596052851221623, 0.0033026316744441835, 0.19371172564283257, 0.6515758044349822, 0.10566094125972685, 0.035220313753242284, 0.017610156876621142, 0.970575543739845, 0.984056158118444, 0.9801698274223958, 0.9897476885532013, 0.9742902693327719, 0.2784822026730489, 0.038678083704590124, 0.6807342732007862, 0.9702370718243443, 0.9834659681434389, 0.9808290582573649, 0.9923952150986194, 0.9710454547007419, 0.39239160466587863, 0.2266399785570161, 0.04397492121255536, 0.2029611748271786, 0.06765372494239287, 0.05074029370679465, 0.016913431235598218, 0.028961586241962874, 0.926770759742812, 0.9923946200560788, 0.9931802634080177, 0.9688297645564514, 0.9594553696420983, 0.9755061381677452, 0.9662464121297027, 0.042531243465943946, 0.021265621732971973, 0.9356873562507667, 0.9825883688682044, 0.1371200115369291, 0.16205092272546168, 0.660669146496113, 0.03739636678279885, 0.9670620582889825, 0.05817783135207905, 0.01939261045069302, 0.13574827315485113, 0.7950970284784138, 0.06246116737782821, 0.905686926978509, 0.937857695674478, 0.2337472070593369, 0.03408813436281997, 0.5551496167659252, 0.165570938333697, 0.009739466960805705, 0.004869733480402852, 0.9849078754556713, 0.05005050810202025, 0.9309394506975767, 0.0200202032408081, 0.9742902693327719, 0.9799798734942355, 0.15869871104442868, 0.20724184618743038, 0.45929274019917005, 0.06534652807711769, 0.0672135717364639, 0.016803392934115976, 0.026138611230847077, 0.33712574579355303, 0.024080410413825217, 0.012040205206912609, 0.6260906707594557, 0.9828561657749384, 0.016107782973170337, 0.7892813656853466, 0.1771856127048737, 0.9742385240350431, 0.9937742003913993, 0.9742385240350425, 0.05410188434009542, 0.020521404404863778, 0.00186558221862398, 0.8768236427532705, 0.04477397324697552, 0.02946615994179863, 0.9576501981084555, 0.9757902652755975, 0.03656090417130334, 0.9140226042825834, 0.01828045208565167, 0.09618296382513876, 0.8656466744262489, 0.9801698283116462, 0.9478508720733599, 0.9702369997246009, 0.11984167606819815, 0.09587334085455852, 0.02396833521363963, 0.7669867268364682, 0.9812401766296287, 0.026397334878579662, 0.10558933951431865, 0.8447147161145492, 0.9710214777843542], \"Term\": [\"abap\", \"abap\", \"abap\", \"abap\", \"abap\", \"abap sap\", \"abap sap\", \"abap sap\", \"abap sap\", \"ableiten\", \"abmelden\", \"absprache\", \"absprache\", \"absprache\", \"absprache\", \"absprache\", \"absprache\", \"absprache sap\", \"absprache sap\", \"active\", \"active\", \"active\", \"active\", \"activities\", \"administration\", \"administration\", \"administration\", \"administration\", \"administration\", \"administration\", \"administrator\", \"administrator\", \"administrator\", \"agencies\", \"agile\", \"agile\", \"agile\", \"agile\", \"agile\", \"agile\", \"agilen\", \"agilen\", \"agilen\", \"agilen\", \"agilen\", \"agreeing\", \"akquisition\", \"aktivit\\u00e4ten\", \"aktivit\\u00e4ten\", \"alster\", \"analyse\", \"analyse\", \"analyse\", \"analyse\", \"analyse\", \"analyse\", \"analyse\", \"analysewerkzeuge\", \"analysis\", \"analysis\", \"analysis business\", \"analyst\", \"analyst\", \"analyst\", \"analyst\", \"analyst\", \"analysten\", \"analysten\", \"analysten\", \"analytische\", \"analytische\", \"analytische\", \"analytische\", \"analytische\", \"angular\", \"angular\", \"angular\", \"angular\", \"angular javascript\", \"angular javascript\", \"anmerkungen\", \"anmerkungen\", \"anregungen\", \"ansprechpartners\", \"anwendungsentwicklung\", \"anwendungsentwicklung\", \"anwendungsentwicklung\", \"anwendungsentwicklung\", \"anzeige\", \"applicant\", \"application\", \"application\", \"application\", \"application\", \"application\", \"application\", \"application\", \"application test\", \"application test\", \"applications\", \"applications\", \"applications\", \"applications\", \"applications\", \"applikation\", \"applikation\", \"applikation\", \"applikation\", \"applikation\", \"applikation\", \"applikation\", \"applikationen\", \"applikationen\", \"applikationen\", \"applikationen\", \"apply\", \"april\", \"april\", \"april\", \"april\", \"april\", \"april\", \"april\", \"april\", \"apx\", \"arbeitsweise\", \"arbeitsweise\", \"arbeitsweise\", \"arbeitsweise\", \"architects\", \"architects\", \"architecture\", \"architecture\", \"architecture\", \"architektur\", \"architektur\", \"architektur\", \"architektur\", \"architektur\", \"architektur\", \"asapdauer\", \"aufgabenbereich hands\", \"auftreten\", \"auftreten\", \"auftreten\", \"aussagekr\\u00e4ftige\", \"aussagekr\\u00e4ftige\", \"aussagekr\\u00e4ftige\", \"ausschreibung\", \"ausschreibung\", \"ausschreibung\", \"ausschreibung sap\", \"authentifizierung\", \"authentifizierung\", \"authentifizierung xhtml\", \"autorisierung\", \"aws\", \"aws\", \"aws\", \"aws\", \"aws\", \"backend\", \"backend\", \"backend\", \"backend\", \"barysava\", \"beans\", \"bearbeitung\", \"bearbeitung\", \"bearbeitung\", \"bearbeitung\", \"bearbeitung\", \"behinderung\", \"bekannterma\\u00dfen\", \"beraten starker\", \"berater\", \"berater\", \"berater\", \"berater\", \"berater\", \"berater\", \"berater\", \"berater\", \"beratungsunternehmen\", \"beratungsunternehmen\", \"bereiche\", \"bereiche\", \"bereiche\", \"bereiche\", \"bereiche\", \"bernd\", \"beruht\", \"besch\\u00e4ftigt\", \"best\", \"best\", \"best\", \"best\", \"best\", \"best\", \"bestehenden\", \"bestehenden\", \"bestehenden\", \"bestehenden\", \"bestehenden\", \"bestehenden\", \"betrachten\", \"betrachten stellenanzeige\", \"betriebssysteme\", \"betriebssysteme\", \"betriebssysteme\", \"betriebssystemen datensicherung\", \"big\", \"big\", \"big\", \"big\", \"big\", \"boot\", \"boot\", \"boot\", \"boot\", \"breitgef\\u00e4chertem\", \"bs\", \"bs\", \"bs business\", \"business\", \"business\", \"business\", \"business\", \"business\", \"business\", \"business\", \"business\", \"camunda\", \"chancengleichheit\", \"cisco\", \"citrix\", \"citrix\", \"citrix\", \"citrix\", \"cloud\", \"cloud\", \"cloud\", \"cloud\", \"cloud\", \"cloud\", \"cloud\", \"codereview\", \"codereview\", \"collectively\", \"complex\", \"complex\", \"confirms\", \"consultant\", \"consultant\", \"consultant\", \"consultant\", \"consultant\", \"consultant\", \"consultant\", \"consultant\", \"consultants\", \"consultants\", \"consulting\", \"consulting\", \"consulting\", \"consulting\", \"consulting\", \"consulting\", \"consulting\", \"consulting\", \"consulting datenschutzerkl\\u00e4rung\", \"contacted\", \"continuous\", \"continuous\", \"continuous\", \"continuous\", \"continuous\", \"contractor\", \"contractor\", \"css\", \"css\", \"css\", \"css\", \"css\", \"current\", \"cvs\", \"cvs\", \"cvs\", \"cvs\", \"cvs\", \"data\", \"data\", \"data\", \"data\", \"data\", \"data\", \"data\", \"data\", \"datenaustausch\", \"datenbanken\", \"datenbanken\", \"datenbanken\", \"datenbanken\", \"datenbanken\", \"datenbanken\", \"datenbanken\", \"datenbanken\", \"datenschutzerkl\\u00e4rung\", \"datenschutzerkl\\u00e4rung\", \"datenschutzerkl\\u00e4rung\", \"datenschutzerkl\\u00e4rung umfangreiche\", \"daten\\u00fcbertragungen\", \"degree\", \"dementsprechend\", \"dev\", \"dev\", \"dev\", \"dev\", \"dev\", \"dev\", \"dev docker\", \"dev docker\", \"developer\", \"developer\", \"developer\", \"developer\", \"developer\", \"developer entwickler\", \"developer entwickler\", \"developer entwickler\", \"developer entwickler\", \"development\", \"development\", \"development\", \"development\", \"development\", \"development\", \"devops\", \"devops\", \"devops\", \"devops\", \"devops\", \"dhcp\", \"dienstleister\", \"dienstleister\", \"dienstleister\", \"dienstleister\", \"dienstleistungsschwerpunkte\", \"different\", \"digitale\", \"digitale\", \"digitale\", \"digitale\", \"digitale\", \"directory\", \"directory\", \"directory\", \"disclaimer\", \"dns\", \"dns\", \"docker\", \"docker\", \"docker\", \"docker\", \"docker\", \"docker technischer\", \"dockerized\", \"documentation\", \"dokumentation\", \"dokumentation\", \"dokumentation\", \"dokumentation\", \"dokumentation\", \"dokumentation\", \"dokumentation\", \"dokumentation\", \"dom\", \"dwh\", \"dwh\", \"dwh\", \"dwh\", \"echte\", \"echte sap\", \"ee\", \"ee\", \"ee\", \"ee\", \"ee entity\", \"ehrenbreitsteiner\", \"ehrenbreitsteiner\", \"einsendeschluss\", \"einsendeschluss\", \"einsendeschlu\\u00df\", \"einsendeschlu\\u00df\", \"einverstanden\", \"einverst\\u00e4ndnis\", \"ejb\", \"elektronischer\", \"embedded\", \"embedded\", \"embedded\", \"embedded\", \"embedded\", \"ensure\", \"entgegennehmen\", \"entgegennehmen\", \"entgegennehmen operiert\", \"entscheiden\", \"entscheiden sprechen\", \"entspricht\", \"entspricht\", \"entspricht\", \"entwickler\", \"entwickler\", \"entwickler\", \"entwickler\", \"entwickler\", \"entwickler\", \"entwickler\", \"entwickler schnellstm\\u00f6glich\", \"entwicklerteams\", \"entwicklungsumgebungen\", \"entwicklungsumgebungen\", \"entwicklungsumgebungen modulgruppentests\", \"erfolgreich\", \"erfolgreich\", \"erfolgreich\", \"erfolgreich\", \"erkl\\u00e4ren\", \"erlauben\", \"erreichen\", \"erreichen\", \"erreichen\", \"erreichen\", \"erreichen\", \"erreichen\", \"erreichen\", \"etl\", \"etl\", \"etl\", \"etl\", \"europa\", \"ewm\", \"ewm\", \"exchange\", \"exchange\", \"exchange\", \"exchange\", \"exchange\", \"existing\", \"experts\", \"experts\", \"experts\", \"experts consulting\", \"explicitly\", \"fachbereichen\", \"fachbereichen\", \"fachbereichen\", \"fachbereichen\", \"fachbereichen\", \"fachliche\", \"fachliche\", \"fachliche\", \"fachliche\", \"fachliche\", \"feddersen\", \"fehlern\", \"fehlern\", \"festanstellung\", \"festanstellung\", \"festanstellung\", \"festanstellung\", \"festanstellung\", \"festanstellungen\", \"festnetz\", \"fi\", \"fi\", \"fi\", \"fi\", \"firewall\", \"firewalls\", \"following\", \"formulierungen\", \"forward\", \"fragestellungen\", \"fragestellungen\", \"fragestellungen\", \"fragestellungen\", \"framework\", \"framework\", \"framework\", \"framework\", \"framework\", \"freelancer\", \"freelancer\", \"freelancer\", \"freelancer\", \"freelancer\", \"freelancer\", \"freelancer\", \"freiberufler\", \"freiberufler\", \"freiberufler\", \"freiberufler\", \"freiberufler\", \"freiberufler\", \"freut\", \"freut\", \"freut rahmenparameter\", \"frontend\", \"frontend\", \"frontend\", \"frontend\", \"frontend\", \"fullstack\", \"fullstack\", \"f\\u00fchrerschein\", \"geeigneten\", \"gehaltsvorstellung\", \"gehaltsvorstellung\", \"gehaltsvorstellung\", \"gehe\", \"gelistet\", \"genutzten\", \"genutzten\", \"gerichtet\", \"gerichtet\", \"geschlechtsneutral\", \"gesch\\u00e4ftspartner\", \"gesch\\u00e4ftspartner\", \"git\", \"git\", \"git\", \"git\", \"git\", \"google\", \"google\", \"google\", \"google\", \"google\", \"gpm\", \"gro\\u00dfraum\", \"gro\\u00dfraum\", \"gro\\u00dfraum\", \"gro\\u00dfraum\", \"gro\\u00dfraum\", \"gro\\u00dfraum\", \"gro\\u00dfraum\", \"grunds\\u00e4tzlichem\", \"hadoop\", \"hadoop\", \"hadoop\", \"hadoop\", \"hadoop\", \"hadoop\", \"hana\", \"hana\", \"hana\", \"hana\", \"hana\", \"hana\", \"hana\", \"handlungsoptionen\", \"hardwareinstallationen\", \"hauptaufgabe\", \"hauptaufgabe\", \"herrn\", \"herrn\", \"herrn\", \"herzliche\", \"herzliche\", \"hibernate\", \"hibernate\", \"hierzu\", \"hierzu\", \"hierzu\", \"hierzu\", \"hinweis\", \"hinweis\", \"hinweis\", \"hinweis\", \"hive\", \"hive\", \"host\", \"host\", \"host\", \"hra\", \"html\", \"html\", \"html\", \"html\", \"html\", \"html\", \"h\\u00e4nden\", \"h\\u00e4nden\", \"h\\u00f6chstem\", \"h\\u00f6ren\", \"h\\u00f6ren\", \"h\\u00f6ren\", \"h\\u00f6ren\", \"h\\u00f6ren\", \"h\\u00f6ren entgegennehmen\", \"h\\u00f6ren schl\\u00fcsselw\\u00f6rter\", \"ibm\", \"ibm\", \"ibm\", \"ibm\", \"ibm\", \"ibm\", \"ideale\", \"ideale\", \"ideally\", \"implement\", \"implementation\", \"implementation\", \"implementation\", \"implementierung\", \"implementierung\", \"implementierung\", \"implementierung\", \"implementierung\", \"implementierung\", \"implementierung\", \"infrastruktur\", \"infrastruktur\", \"infrastruktur\", \"infrastruktur\", \"infrastruktur\", \"infrastruktur\", \"ingenieure\", \"innovativer\", \"innovativer\", \"innovativer\", \"innovativer\", \"installation\", \"installation\", \"installation\", \"installation\", \"installation\", \"integration\", \"integration\", \"integration\", \"integration\", \"integration\", \"integration\", \"integration\", \"integration\", \"intellij\", \"intellij\", \"intellij\", \"intellij rest\", \"interessierte\", \"interessierte\", \"internen\", \"internen\", \"internen\", \"internen\", \"internen\", \"internen\", \"itil\", \"itil\", \"itil\", \"itil\", \"janek\", \"java\", \"java\", \"java\", \"java\", \"java\", \"java\", \"java\", \"java\", \"java microservices\", \"java microservices\", \"javaee\", \"javaee\", \"javascript\", \"javascript\", \"javascript\", \"javascript\", \"javascript\", \"javascript\", \"javascript implementierung\", \"jee\", \"jee\", \"jee\", \"jenkins\", \"jenkins\", \"jenkins\", \"jenkins\", \"jenkins\", \"jira\", \"jira\", \"jira\", \"jira\", \"jira\", \"jira\", \"jira\", \"jobsteuerung\", \"jpa\", \"jpa\", \"js\", \"js\", \"js\", \"js\", \"jsf\", \"jsf\", \"junit\", \"junit\", \"junit\", \"junit hibernate\", \"karriere\", \"keywords\", \"keywords\", \"kg\", \"kg\", \"kg\", \"klasse\", \"kollegen\", \"kollegen\", \"kollegen\", \"kollegen\", \"kollegen\", \"kollegen\", \"kollegen interessierte\", \"komponententests\", \"konfiguration\", \"konfiguration\", \"konfiguration\", \"konfiguration\", \"konfiguration\", \"konfiguration\", \"konfiguration\", \"kontaktaufnahme\", \"kontaktaufnahme\", \"kontaktaufnahme\", \"kontaktaufnahme\", \"kontaktaufnahme\", \"konzeption\", \"konzeption\", \"konzeption\", \"konzeption\", \"konzeption\", \"konzeption\", \"konzeption\", \"koordination\", \"koordination\", \"koordination\", \"koordination\", \"koordination\", \"kubernetes\", \"kubernetes\", \"kubernetes\", \"kubernetes\", \"kubernetes\", \"kundenn\\u00e4he\", \"kundenprojekt\", \"kundenprojekt\", \"kundenprojekt\", \"kundenprojekt\", \"kundenprojekt\", \"kundenprojekt innovativer\", \"kurz\", \"kurz\", \"laufzeitumgebungen\", \"leading\", \"leben\", \"leben\", \"lebenslauf\", \"lebenslauf\", \"lebenslauf\", \"lebenslauf\", \"lebenslauf\", \"lebenslauf\", \"leiten\", \"leiten\", \"leiten\", \"leiten\", \"liebe\", \"liebe\", \"liebe\", \"liebe\", \"liebe\", \"lieferpaketen\", \"linux\", \"linux\", \"linux\", \"linux\", \"linux\", \"linux\", \"linux\", \"linux\", \"look\", \"look\", \"lorenzi\", \"ltd\", \"l\\u00f6schung\", \"l\\u00f6schung cvs\", \"l\\u00f6sungen\", \"l\\u00f6sungen\", \"l\\u00f6sungen\", \"l\\u00f6sungen\", \"l\\u00f6sungen\", \"l\\u00f6sungen\", \"mai\", \"mai\", \"mai\", \"mai\", \"mai\", \"mai\", \"mai\", \"mai\", \"maintenance\", \"maintenance\", \"marktwert\", \"marktwert t\\u00fcren\", \"matthias\", \"maven\", \"maven\", \"maven\", \"maven\", \"menschen\", \"methoden\", \"methoden\", \"methoden\", \"methoden\", \"methoden\", \"microservices\", \"microservices\", \"microservices\", \"microservices\", \"microsoft\", \"microsoft\", \"microsoft\", \"microsoft\", \"microsoft\", \"microsoft\", \"microsoft\", \"mindheads\", \"mitbringen\", \"mitbringen\", \"mitbringen\", \"mitbringen\", \"mitbringen\", \"mitbringen\", \"mm\", \"mm\", \"mm\", \"mm\", \"mm\", \"mm\", \"mm\", \"mockito\", \"modulgruppentests\", \"modultests\", \"monitoring\", \"monitoring\", \"monitoring\", \"monitoring\", \"monitoring\", \"monitoring\", \"monitoring\", \"monitoring\", \"moritz\", \"moritz\", \"ms\", \"ms\", \"ms\", \"ms\", \"ms\", \"ms\", \"ms\", \"ms\", \"mvc\", \"mvc\", \"mvc\", \"nachfolgenden\", \"namhafte\", \"namhafte\", \"namhafte\", \"navigieren\", \"navigieren verl\\u00e4sslichen\", \"netscaler\", \"netzwerk\", \"netzwerk\", \"netzwerk\", \"netzwerk\", \"netzwerk\", \"netzwerk\", \"niveau\", \"objectif\", \"ok\", \"ok\", \"oo\", \"oo\", \"oo\", \"oo\", \"oo\", \"operative\", \"operative\", \"operieren\", \"operieren\", \"operiert\", \"operiert\", \"operiert entgegennehmen\", \"opportunity\", \"ops\", \"ops\", \"ops\", \"ops\", \"ops\", \"ops\", \"optimierung\", \"optimierung\", \"optimierung\", \"optimierung\", \"optimierung\", \"optimierung\", \"optimierung\", \"oracle\", \"oracle\", \"oracle\", \"oracle\", \"oracle\", \"oracle\", \"oracle\", \"oracle\", \"partnermanager\", \"pass\", \"permission\", \"personalauswahl\", \"personalberatung\", \"personalberatungsunternehmen\", \"personalberatungsunternehmen\", \"personenbezogenen\", \"personenbezogenen\", \"pers\\u00f6nlichen beratungsunternehmen\", \"pers\\u00f6nlichkeit\", \"pflege\", \"pflege\", \"pflege\", \"pflege\", \"phan\", \"planung\", \"planung\", \"planung\", \"planung\", \"planung\", \"plus\", \"plus\", \"plus\", \"plus\", \"plus\", \"plus\", \"possible\", \"powershell\", \"powershell\", \"powershell\", \"powershell\", \"pp\", \"pp\", \"pp\", \"privatsphaere\", \"problemstellungen\", \"processes\", \"processes\", \"processes\", \"professionalit\\u00e4t\", \"profiling\", \"profiling\", \"profiling\", \"profilvorgabe\", \"profilvorgabe\", \"programmierrichtlinien\", \"programmierung\", \"programmierung\", \"programmierung\", \"programmierung\", \"programmierung\", \"programmierung\", \"programmierung\", \"programming\", \"programming\", \"programming\", \"programming\", \"project\", \"project\", \"project\", \"project\", \"projektdauer\", \"projektdauer\", \"projektdauer\", \"projektdauer\", \"projektdauer\", \"projektdauer\", \"projektkontext\", \"projektleiter\", \"projektleiter\", \"projektleiter\", \"projektleitung\", \"projektleitung\", \"projektleitung\", \"projektleitung\", \"projektmanagement\", \"projektmanagement\", \"projektmanagement\", \"projektmanagement\", \"projektmanagement\", \"projektmanagement\", \"projektmanager\", \"projektmanager\", \"projektmanager\", \"projektnamens\", \"projektportal\", \"projektsprache\", \"projektsprache\", \"projektsprache\", \"projektsprache\", \"projektsprache\", \"projektsprache\", \"projektstart\", \"projektstart\", \"projektstart\", \"projektstart\", \"projektstart\", \"projektsuche\", \"prozessen\", \"prozessen\", \"prozessen\", \"prozessen\", \"prozessen\", \"prozessen\", \"pr\\u00e4senz\", \"pr\\u00fcfung\", \"pr\\u00fcfung\", \"pr\\u00fcfung\", \"pr\\u00fcfung\", \"punktgenau\", \"python\", \"python\", \"python\", \"python\", \"python\", \"python\", \"python\", \"python\", \"qm\", \"qm\", \"qualit\\u00e4tssicherungskonzepte\", \"questax\", \"rahmendaten\", \"rahmendaten\", \"rahmendaten\", \"rahmendaten\", \"rahmendaten\", \"rahmeninformationen\", \"rahmenparameter\", \"rahmenparameter\", \"rar\", \"rational\", \"react\", \"react\", \"react\", \"react\", \"referred\", \"registrierte\", \"registrierte\", \"reisebereitschaft\", \"reisebereitschaft\", \"reisebereitschaft\", \"reisebereitschaft\", \"reisebereitschaft\", \"related\", \"relevant\", \"renommierter\", \"renommierter\", \"requirements\", \"requirements\", \"requirements\", \"requirements\", \"requirements\", \"reseller\", \"respektieren\", \"respektieren r\\u00fccksprache\", \"responsibilities\", \"responsible\", \"ressourcenknappen\", \"ressourcenknappen kundenn\\u00e4he\", \"rest\", \"rest\", \"rest\", \"rest\", \"rest\", \"rest java\", \"rest java\", \"rht\", \"richtige\", \"rollen\", \"rollen\", \"romann\", \"r\\u00e4umlich\", \"sap\", \"sap\", \"sap\", \"sap\", \"sap\", \"sap\", \"sap\", \"sap\", \"sap personalberatung\", \"sax\", \"sax eclipse\", \"scala\", \"scala\", \"scala\", \"scala\", \"sccm\", \"sccm\", \"schaltfl\\u00e4che\", \"schema dom\", \"schl\\u00fcsselw\\u00f6rter\", \"schl\\u00fcsselw\\u00f6rter operiert\", \"schnittstellen\", \"schnittstellen\", \"schnittstellen\", \"schnittstellen\", \"schnittstellen\", \"schnittstellen\", \"schnittstellen\", \"schritt\", \"schritt\", \"scrum\", \"scrum\", \"scrum\", \"scrum\", \"scrum\", \"scrum\", \"sd\", \"sd\", \"sd\", \"sd\", \"sd\", \"sd mm\", \"security\", \"security\", \"security\", \"security\", \"send\", \"server\", \"server\", \"server\", \"server\", \"server\", \"server\", \"server\", \"server\", \"serveraktivit\\u00e4ten\", \"servern\", \"servern\", \"serverpages\", \"serviceanfragen\", \"serviceanfragen st\\u00f6rungsbeseitigung\", \"several\", \"sicheres\", \"sicheres\", \"sicherheit\", \"sicherheit\", \"sicherheit\", \"sicherheit\", \"sicherheit\", \"sicherheit\", \"sichersten\", \"signatur\", \"signatur\", \"soap\", \"soap\", \"software\", \"software\", \"software\", \"software\", \"software\", \"software\", \"software\", \"software\", \"softwareentwicklung\", \"softwareentwicklung\", \"softwareentwicklung\", \"softwareentwicklung\", \"softwareentwicklungsprozesses\", \"solutions\", \"solutions\", \"solutions\", \"solutions\", \"solutions\", \"solutions\", \"solutions\", \"spark\", \"spark\", \"spark\", \"spark\", \"speaking\", \"speichern\", \"speichern\", \"speichern\", \"speichern\", \"spring\", \"spring\", \"spring\", \"spring\", \"spring angular\", \"springboot\", \"sql\", \"sql\", \"sql\", \"sql\", \"sql\", \"sql\", \"sql\", \"sql\", \"sql spring\", \"stakeholders\", \"standardisierten\", \"stax\", \"stellenanzeige\", \"steuerung\", \"steuerung\", \"steuerung\", \"steuerung\", \"steuerung\", \"steuerung\", \"strategisches\", \"strategisches\", \"strategisches bereiche\", \"strau\\u00df\", \"stressresistent\", \"strukturierte\", \"strukturierte\", \"strukturierte\", \"strukturierte\", \"st\\u00f6rungen\", \"st\\u00f6rungen\", \"support\", \"support\", \"support\", \"support\", \"support\", \"support\", \"support\", \"support\", \"support aufgabenbereich\", \"support konfiguration\", \"supportf\\u00e4hige\", \"switches\", \"switching\", \"systemadministrator\", \"systemadministrator\", \"systemdokumentationen\", \"systemdokumentationen\", \"systemdokumentationen komponententests\", \"systemen\", \"systemen\", \"systemen\", \"systemen\", \"systemen\", \"systemen\", \"systemen\", \"technical\", \"technical\", \"technical\", \"techniker\", \"technische\", \"technische\", \"technische\", \"technische\", \"technische\", \"technische\", \"technische\", \"technischer\", \"technischer\", \"technischer\", \"technischer\", \"technischer\", \"technischer\", \"technischer risiken\", \"technology\", \"technology\", \"technology\", \"technology\", \"technology\", \"test\", \"test\", \"test\", \"test\", \"test\", \"test\", \"test\", \"test qualit\\u00e4tssicherungskonzepte\", \"testing\", \"testing\", \"testing\", \"testing\", \"testing\", \"testing\", \"testphasen\", \"tests\", \"tests\", \"tests\", \"tests\", \"tests\", \"tests\", \"tests\", \"thema\", \"thema\", \"thema\", \"thema\", \"thema\", \"themenumfeld\", \"tiles\", \"tomcat rational\", \"travel\", \"treated\", \"troubleshooting\", \"troubleshooting\", \"troubleshooting\", \"t\\u00e4tigen\", \"t\\u00fcren\", \"umsetzungsm\\u00f6glichkeiten\", \"understand\", \"unternehmensgruppe\", \"user\", \"user\", \"user\", \"user\", \"user\", \"user\", \"user\", \"usern\", \"usern\", \"users\", \"various\", \"varius\", \"verantwortungsvollen\", \"verarbeitung schema\", \"verbesserungsm\\u00f6glichkeiten\", \"verg\\u00fctung\", \"verg\\u00fctung\", \"verg\\u00fctung\", \"verl\\u00e4sslichen\", \"vermittlung\", \"vermittlung\", \"vermittlung\", \"vermittlung\", \"verschl\\u00fcsselte\", \"verschl\\u00fcsselung\", \"verschl\\u00fcsselung\", \"verschl\\u00fcsselung\", \"verschl\\u00fcsselung\", \"versorgungssektor\", \"versorgungssektor\", \"versorgungssektor zuk\\u00fcnftig\", \"verst\\u00e4ndnis\", \"verst\\u00e4ndnis\", \"verst\\u00e4ndnis\", \"verst\\u00e4ndnis\", \"verst\\u00e4ndnis\", \"verst\\u00e4ndnis\", \"vielfalt\", \"vmware\", \"vmware\", \"vmware\", \"voluntary\", \"wan\", \"web\", \"web\", \"web\", \"web\", \"web\", \"web\", \"web\", \"websphere\", \"websphere\", \"websphere\", \"websphere\", \"week\", \"weitergabe\", \"weitergabe\", \"weitergabe\", \"weitergegeben\", \"well\", \"widerruf\", \"windows\", \"windows\", \"windows\", \"windows\", \"windows\", \"windows administrator\", \"windows administrator\", \"wlan\", \"wm\", \"wm\", \"wm\", \"xhtml\", \"xhtml\", \"xlst\", \"xt\", \"zeitkritischen\", \"zuk\\u00fcnftig\", \"zuk\\u00fcnftig\", \"zuk\\u00fcnftig\", \"zuk\\u00fcnftig\", \"zusenden\", \"\\u00fcbersenden\", \"\\u00fcbersenden\", \"\\u00fcbersenden\", \"\\u00fcbersendung\"]}, \"R\": 30, \"lambda.step\": 0.01, \"plot.opts\": {\"xlab\": \"PC1\", \"ylab\": \"PC2\"}, \"topic.order\": [2, 3, 7, 4, 8, 5, 1, 6]};\n",
       "\n",
       "function LDAvis_load_lib(url, callback){\n",
       "  var s = document.createElement('script');\n",
       "  s.src = url;\n",
       "  s.async = true;\n",
       "  s.onreadystatechange = s.onload = callback;\n",
       "  s.onerror = function(){console.warn(\"failed to load library \" + url);};\n",
       "  document.getElementsByTagName(\"head\")[0].appendChild(s);\n",
       "}\n",
       "\n",
       "if(typeof(LDAvis) !== \"undefined\"){\n",
       "   // already loaded: just create the visualization\n",
       "   !function(LDAvis){\n",
       "       new LDAvis(\"#\" + \"ldavis_el270021405856953932565722580231\", ldavis_el270021405856953932565722580231_data);\n",
       "   }(LDAvis);\n",
       "}else if(typeof define === \"function\" && define.amd){\n",
       "   // require.js is available: use it to load d3/LDAvis\n",
       "   require.config({paths: {d3: \"https://cdnjs.cloudflare.com/ajax/libs/d3/3.5.5/d3.min\"}});\n",
       "   require([\"d3\"], function(d3){\n",
       "      window.d3 = d3;\n",
       "      LDAvis_load_lib(\"https://cdn.rawgit.com/bmabey/pyLDAvis/files/ldavis.v1.0.0.js\", function(){\n",
       "        new LDAvis(\"#\" + \"ldavis_el270021405856953932565722580231\", ldavis_el270021405856953932565722580231_data);\n",
       "      });\n",
       "    });\n",
       "}else{\n",
       "    // require.js not available: dynamically load d3 & LDAvis\n",
       "    LDAvis_load_lib(\"https://cdnjs.cloudflare.com/ajax/libs/d3/3.5.5/d3.min.js\", function(){\n",
       "         LDAvis_load_lib(\"https://cdn.rawgit.com/bmabey/pyLDAvis/files/ldavis.v1.0.0.js\", function(){\n",
       "                 new LDAvis(\"#\" + \"ldavis_el270021405856953932565722580231\", ldavis_el270021405856953932565722580231_data);\n",
       "            })\n",
       "         });\n",
       "}\n",
       "</script>"
      ],
      "text/plain": [
       "PreparedData(topic_coordinates=              x         y  topics  cluster       Freq\n",
       "topic                                                \n",
       "1      0.274284 -0.132680       1        1  19.799843\n",
       "2     -0.061537  0.156550       2        1  16.336295\n",
       "6     -0.036242  0.167447       3        1  15.971845\n",
       "3     -0.153951 -0.056861       4        1  15.227773\n",
       "7     -0.136568 -0.040411       5        1  15.101668\n",
       "4     -0.161822 -0.208544       6        1   7.711168\n",
       "0      0.189505 -0.056315       7        1   5.043620\n",
       "5      0.086331  0.170814       8        1   4.807788, topic_info=     Category         Freq                 Term        Total  loglift  logprob\n",
       "term                                                                          \n",
       "4204  Default  1547.000000                  sap  1547.000000  30.0000  30.0000\n",
       "2563  Default  1317.000000                 java  1317.000000  29.0000  29.0000\n",
       "646   Default   682.000000              berater   682.000000  28.0000  28.0000\n",
       "1596  Default  1271.000000           entwickler  1271.000000  27.0000  27.0000\n",
       "5446  Default   536.000000              windows   536.000000  26.0000  26.0000\n",
       "4580  Default   453.000000               spring   453.000000  25.0000  25.0000\n",
       "3800  Default   521.000000              project   521.000000  24.0000  24.0000\n",
       "2591  Default   666.000000           javascript   666.000000  23.0000  23.0000\n",
       "1104  Default   520.000000                 data   520.000000  22.0000  22.0000\n",
       "4486  Default   475.000000  softwareentwicklung   475.000000  21.0000  21.0000\n",
       "78    Default   412.000000       administration   412.000000  20.0000  20.0000\n",
       "0     Default   335.000000                 abap   335.000000  19.0000  19.0000\n",
       "4755  Default   798.000000              support   798.000000  18.0000  18.0000\n",
       "4297  Default   569.000000                scrum   569.000000  17.0000  17.0000\n",
       "224   Default   374.000000              angular   374.000000  16.0000  16.0000\n",
       "3186  Default   322.000000                   mm   322.000000  15.0000  15.0000\n",
       "1331  Default   405.000000               docker   405.000000  14.0000  14.0000\n",
       "2378  Default   272.000000       implementation   272.000000  13.0000  13.0000\n",
       "307   Default   393.000000          application   393.000000  12.0000  12.0000\n",
       "1268  Default   282.000000               devops   282.000000  11.0000  11.0000\n",
       "1235  Default   194.000000                  dev   194.000000  10.0000  10.0000\n",
       "3438  Default   189.000000                  ops   189.000000   9.0000   9.0000\n",
       "4355  Default   528.000000               server   528.000000   8.0000   8.0000\n",
       "1251  Default   534.000000          development   534.000000   7.0000   7.0000\n",
       "836   Default   748.000000             business   748.000000   6.0000   6.0000\n",
       "111   Default   438.000000               agilen   438.000000   5.0000   5.0000\n",
       "552   Default   350.000000              backend   350.000000   4.0000   4.0000\n",
       "795   Default   243.000000                 boot   243.000000   3.0000   3.0000\n",
       "4113  Default   396.000000                 rest   396.000000   2.0000   2.0000\n",
       "1038  Default   204.000000           contractor   204.000000   1.0000   1.0000\n",
       "...       ...          ...                  ...          ...      ...      ...\n",
       "5502   Topic8    27.441435                xhtml    31.190555   2.9069  -5.9355\n",
       "5225   Topic8    40.628924      verschlüsselung    51.566033   2.7966  -5.5431\n",
       "1237   Topic8    33.724985           dev docker    41.816314   2.8199  -5.7294\n",
       "3438   Topic8   102.588820                  ops   189.841349   2.4195  -4.6169\n",
       "1297   Topic8    50.672107             digitale    73.944791   2.6570  -5.3222\n",
       "1235   Topic8   100.282708                  dev   194.674553   2.3716  -4.6396\n",
       "5391   Topic8    52.122023            websphere    83.055063   2.5690  -5.2940\n",
       "2270   Topic8    34.565744            herzliche    46.695643   2.7341  -5.7047\n",
       "2149   Topic8    50.244781               google    95.469680   2.3930  -5.3307\n",
       "1268   Topic8    91.622358               devops   282.540442   1.9088  -4.7299\n",
       "492    Topic8    42.734257      aussagekräftige    79.880719   2.4094  -5.4926\n",
       "2346   Topic8    47.322738                  ibm   101.466464   2.2722  -5.3906\n",
       "1419   Topic8    54.067579                   ee   135.030281   2.1197  -5.2574\n",
       "1089   Topic8    52.104613                  cvs   127.355719   2.1412  -5.2943\n",
       "2452   Topic8    32.936843          innovativer    50.697903   2.6036  -5.7530\n",
       "2310   Topic8    28.032826                 host    36.112131   2.7817  -5.9142\n",
       "3853   Topic8    52.143296       projektsprache   148.577986   1.9878  -5.2936\n",
       "307    Topic8    73.845478          application   393.534703   1.3617  -4.9456\n",
       "2813   Topic8    44.115724        kundenprojekt   117.518383   2.0552  -5.4608\n",
       "2563   Topic8   100.185984                 java  1317.580333   0.4584  -4.6406\n",
       "1331   Topic8    64.978804               docker   405.351569   1.2042  -5.0735\n",
       "3856   Topic8    48.071557         projektstart   238.282399   1.4342  -5.3749\n",
       "2803   Topic8    46.099527           kubernetes   238.102648   1.3930  -5.4168\n",
       "4918   Topic8    52.132318                 test   537.960056   0.7009  -5.2938\n",
       "4403   Topic8    43.680130           sicherheit   223.717585   1.4014  -5.4707\n",
       "4297   Topic8    48.284638                scrum   569.974992   0.5665  -5.3705\n",
       "4514   Topic8    43.922854            solutions   321.881598   1.0432  -5.4652\n",
       "836    Topic8    44.376148             business   748.382394   0.2097  -5.4549\n",
       "1009   Topic8    42.006003           consultant   572.546827   0.4227  -5.5098\n",
       "2591   Topic8    40.869463           javascript   666.071894   0.2439  -5.5372\n",
       "\n",
       "[595 rows x 6 columns], token_table=      Topic      Freq                   Term\n",
       "term                                        \n",
       "0         1  0.172941                   abap\n",
       "0         2  0.032799                   abap\n",
       "0         4  0.253449                   abap\n",
       "0         6  0.512861                   abap\n",
       "0         7  0.029817                   abap\n",
       "2         1  0.203032               abap sap\n",
       "2         4  0.166117               abap sap\n",
       "2         6  0.590639               abap sap\n",
       "2         7  0.027686               abap sap\n",
       "20        2  0.983563               ableiten\n",
       "25        7  0.967221               abmelden\n",
       "34        2  0.149437              absprache\n",
       "34        3  0.217039              absprache\n",
       "34        4  0.096066              absprache\n",
       "34        5  0.152995              absprache\n",
       "34        6  0.373592              absprache\n",
       "34        8  0.010674              absprache\n",
       "36        4  0.173079          absprache sap\n",
       "36        6  0.826934          absprache sap\n",
       "55        1  0.139548                 active\n",
       "55        3  0.010734                 active\n",
       "55        5  0.815817                 active\n",
       "55        6  0.037571                 active\n",
       "58        1  0.991563             activities\n",
       "78        1  0.101864         administration\n",
       "78        2  0.007276         administration\n",
       "78        4  0.024253         administration\n",
       "78        5  0.802787         administration\n",
       "78        6  0.053357         administration\n",
       "78        8  0.009701         administration\n",
       "...     ...       ...                    ...\n",
       "5413      7  0.789281             weitergabe\n",
       "5413      8  0.177186             weitergabe\n",
       "5414      5  0.974239          weitergegeben\n",
       "5422      1  0.993774                   well\n",
       "5434      5  0.974239               widerruf\n",
       "5446      1  0.054102                windows\n",
       "5446      2  0.020521                windows\n",
       "5446      4  0.001866                windows\n",
       "5446      5  0.876824                windows\n",
       "5446      6  0.044774                windows\n",
       "5448      1  0.029466  windows administrator\n",
       "5448      5  0.957650  windows administrator\n",
       "5465      5  0.975790                   wlan\n",
       "5466      1  0.036561                     wm\n",
       "5466      6  0.914023                     wm\n",
       "5466      7  0.018280                     wm\n",
       "5502      3  0.096183                  xhtml\n",
       "5502      8  0.865647                  xhtml\n",
       "5504      8  0.980170                   xlst\n",
       "5513      8  0.947851                     xt\n",
       "5524      3  0.970237         zeitkritischen\n",
       "5553      2  0.119842              zukünftig\n",
       "5553      4  0.095873              zukünftig\n",
       "5553      5  0.023968              zukünftig\n",
       "5553      7  0.766987              zukünftig\n",
       "5563      5  0.981240               zusenden\n",
       "5596      3  0.026397             übersenden\n",
       "5596      4  0.105589             übersenden\n",
       "5596      7  0.844715             übersenden\n",
       "5597      7  0.971021            übersendung\n",
       "\n",
       "[1415 rows x 3 columns], R=30, lambda_step=0.01, plot_opts={'xlab': 'PC1', 'ylab': 'PC2'}, topic_order=[2, 3, 7, 4, 8, 5, 1, 6])"
      ]
     },
     "execution_count": 1111,
     "metadata": {},
     "output_type": "execute_result"
    }
   ],
   "source": [
    "pyLDAvis.enable_notebook()\n",
    "panel = pyLDAvis.sklearn.prepare(LDA, cm, cv, mds='tsne')\n",
    "panel"
   ]
  },
  {
   "cell_type": "markdown",
   "metadata": {},
   "source": [
    "# USING NMF"
   ]
  },
  {
   "cell_type": "code",
   "execution_count": 1113,
   "metadata": {},
   "outputs": [],
   "source": [
    "nmf_model = NMF(n_components=8,random_state=42)"
   ]
  },
  {
   "cell_type": "code",
   "execution_count": 1127,
   "metadata": {},
   "outputs": [],
   "source": [
    "tftr = TfidfTransformer(smooth_idf=False)"
   ]
  },
  {
   "cell_type": "code",
   "execution_count": 1128,
   "metadata": {},
   "outputs": [],
   "source": [
    "xtf = tftr.fit_transform(cm)"
   ]
  },
  {
   "cell_type": "code",
   "execution_count": 1129,
   "metadata": {},
   "outputs": [
    {
     "data": {
      "text/plain": [
       "NMF(alpha=0.0, beta_loss='frobenius', init=None, l1_ratio=0.0, max_iter=200,\n",
       "  n_components=8, random_state=42, shuffle=False, solver='cd', tol=0.0001,\n",
       "  verbose=0)"
      ]
     },
     "execution_count": 1129,
     "metadata": {},
     "output_type": "execute_result"
    }
   ],
   "source": [
    "nmf_model.fit(xtf)"
   ]
  },
  {
   "cell_type": "code",
   "execution_count": 1130,
   "metadata": {},
   "outputs": [],
   "source": [
    "allNmf = nmf_model.components_"
   ]
  },
  {
   "cell_type": "code",
   "execution_count": 1131,
   "metadata": {},
   "outputs": [],
   "source": [
    "topic_results = nmf_model.transform(cm)"
   ]
  },
  {
   "cell_type": "code",
   "execution_count": 1133,
   "metadata": {},
   "outputs": [
    {
     "data": {
      "text/plain": [
       "array([0.18887267, 0.        , 0.01966392, 0.07465717, 0.        ,\n",
       "       0.19360932, 0.        , 0.        ])"
      ]
     },
     "execution_count": 1133,
     "metadata": {},
     "output_type": "execute_result"
    }
   ],
   "source": [
    "topic_results[1]"
   ]
  },
  {
   "cell_type": "code",
   "execution_count": 1134,
   "metadata": {},
   "outputs": [
    {
     "name": "stdout",
     "output_type": "stream",
     "text": [
      "THE TOP 20 WORDS FOR GROUP #0\n",
      "['komplexen', 'steuerung', 'studium', 'applikationen', 'integration', 'planung', 'dienstleister', 'software', 'architektur', 'technischer', 'schnittstellen', 'datenbanken', 'programmierung', 'projektmanagement', 'technische', 'konzeption', 'softwareentwicklung', 'implementierung', 'dokumentation', 'analyse']\n",
      "\n",
      "THE TOP 20 WORDS FOR GROUP #1\n",
      "['projektstart', 'spätestens', 'entwickler', 'mai', 'oo', 'erp', 'ewm', 'april', 'sap support', 'abap sap', 'pp', 'hauptaufgabe', 'consultant', 'hana', 'sd', 'fi', 'mm', 'abap', 'berater', 'sap']\n",
      "\n",
      "THE TOP 20 WORDS FOR GROUP #2\n",
      "['architecture', 'testing', 'agile', 'software', 'consultant', 'analysis', 'applications', 'documentation', 'support', 'solutions', 'processes', 'developer', 'application', 'data', 'technical', 'implementation', 'requirements', 'business', 'development', 'project']\n",
      "\n",
      "THE TOP 20 WORDS FOR GROUP #3\n",
      "['citrix', 'monitoring', 'windows administrator', 'infrastruktur', 'cisco', 'itil', 'powershell', 'netzwerk', 'linux', 'installation', 'administrator', 'konfiguration', 'active', 'directory', 'ms', 'support', 'microsoft', 'administration', 'server', 'windows']\n",
      "\n",
      "THE TOP 20 WORDS FOR GROUP #4\n",
      "['einschlägige contractor', 'sven', 'romann', 'stina', 'borkott', 'jascha', 'trapp', 'einschlägige', 'java consulting', 'datenschutzerklärung umfangreiche', 'umfangreiche', 'kandidat', 'ideale', 'unterstützen', 'experts consulting', 'consulting datenschutzerklärung', 'consulting', 'experts', 'datenschutzerklärung', 'contractor']\n",
      "\n",
      "THE TOP 20 WORDS FOR GROUP #5\n",
      "['maven', 'web', 'jenkins', 'agilen', 'js', 'developer', 'boot', 'docker', 'git', 'scrum', 'css', 'backend', 'html', 'rest', 'frontend', 'angular', 'spring', 'javascript', 'java', 'entwickler']\n",
      "\n",
      "THE TOP 20 WORDS FOR GROUP #6\n",
      "['anforderungsprofil', 'sap', 'berater', 'entgegennehmen berater', 'hören schlüsselwörter', 'schlüsselwörter operiert', 'operiert entgegennehmen', 'lebenslauf', 'schlüsselwörter', 'operiert berater', 'sap personalberatung', 'entgegennehmen operiert', 'hören entgegennehmen', 'keywords', 'freelancer', 'freiberufler', 'hören', 'operiert', 'entgegennehmen', 'personalberatung']\n",
      "\n",
      "THE TOP 20 WORDS FOR GROUP #7\n",
      "['drucker', 'telefonie', 'installation peripherieumfeld', 'mobile supportfähige', 'laptops', 'workstations', 'clientumfeld', 'störungsbeseitigung usern', 'aufgabenbereich hands', 'stressresistent', 'endanwenders', 'datensicherung telefonie', 'supportfähige', 'hardwareinstallationen', 'serveraktivitäten', 'serviceanfragen störungsbeseitigung', 'peripherieumfeld', 'betriebssystemen datensicherung', 'serviceanfragen', 'support aufgabenbereich']\n",
      "\n"
     ]
    }
   ],
   "source": [
    "#view top ten words in each topic currently 6\n",
    "#enumurate creates a tuple of the index and the value\n",
    "for i,topic in enumerate(allNmf):\n",
    "    print(f'THE TOP 20 WORDS FOR GROUP #{i}')\n",
    "    print([tfidf.get_feature_names()[i] for i in topic.argsort()[-20:]])\n",
    "    print()"
   ]
  },
  {
   "cell_type": "code",
   "execution_count": null,
   "metadata": {},
   "outputs": [],
   "source": []
  }
 ],
 "metadata": {
  "kernelspec": {
   "display_name": "Python 3",
   "language": "python",
   "name": "python3"
  },
  "language_info": {
   "codemirror_mode": {
    "name": "ipython",
    "version": 3
   },
   "file_extension": ".py",
   "mimetype": "text/x-python",
   "name": "python",
   "nbconvert_exporter": "python",
   "pygments_lexer": "ipython3",
   "version": "3.7.1"
  }
 },
 "nbformat": 4,
 "nbformat_minor": 2
}
