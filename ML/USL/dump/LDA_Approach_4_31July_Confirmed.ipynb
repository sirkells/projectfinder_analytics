{
 "cells": [
  {
   "cell_type": "markdown",
   "metadata": {},
   "source": [
    "# Importing Libraries"
   ]
  },
  {
   "cell_type": "code",
   "execution_count": 1,
   "metadata": {
    "slideshow": {
     "slide_type": "slide"
    }
   },
   "outputs": [],
   "source": [
    "%matplotlib inline\n",
    "import pandas as pd\n",
    "import numpy as np\n",
    "import nltk\n",
    "from nltk.corpus import stopwords\n",
    "import gensim\n",
    "from gensim.models import LdaModel\n",
    "from gensim import models, corpora, similarities\n",
    "import re\n",
    "import time\n",
    "from nltk import FreqDist\n",
    "from scipy.stats import entropy\n",
    "import matplotlib.pyplot as plt\n",
    "import seaborn as sns\n",
    "sns.set_style(\"darkgrid\")\n",
    "from pymongo import MongoClient\n",
    "from nltk.tokenize import word_tokenize\n",
    "import pickle\n",
    "import string\n",
    "from string import punctuation"
   ]
  },
  {
   "cell_type": "code",
   "execution_count": 2,
   "metadata": {},
   "outputs": [],
   "source": [
    "#Details for getting data from projectfinder\n",
    "db_loc = {\n",
    "    'ip' :'10.10.250.0',\n",
    "    'port' : 27017,\n",
    "    'database' : 'projectfinder',\n",
    "    'collection' : 'itproject_clean'\n",
    "}"
   ]
  },
  {
   "cell_type": "code",
   "execution_count": 3,
   "metadata": {},
   "outputs": [],
   "source": [
    "#Details for storing data related to projectfinder\n",
    "db_data = {\n",
    "    'ip' :'10.10.250.0',\n",
    "    'port' : 27017,\n",
    "    'database' : 'projectfinder',\n",
    "    'collection' : 'mldata1'\n",
    "}"
   ]
  },
  {
   "cell_type": "code",
   "execution_count": 4,
   "metadata": {},
   "outputs": [],
   "source": [
    "def load_dataset_from_momgodb(db_obj):\n",
    "    \n",
    "    \"\"\"\n",
    "    This method loads a dataset as a pandas dataframe from MongoDB \n",
    "    \n",
    "    Parameters:\n",
    "    @db_obj (dict): Storing the ip address, port number, database name and collection name for dataset to be loaded\n",
    "    \n",
    "    Returns:\n",
    "    panadas dataframe: Containing the loaded dataset\n",
    "    \"\"\"\n",
    "    \n",
    "    #Extracting the items from the inputted dictionary\n",
    "    dbname = db_obj['database']\n",
    "    ip = db_obj['ip']\n",
    "    port = db_obj['port']\n",
    "    collection = db_obj['collection']\n",
    "    \n",
    "    #Creating a connection to the database using MongoClient\n",
    "    connection = MongoClient(ip, port)\n",
    "    db = connection[dbname]\n",
    "    \n",
    "    #Excluding the fileds which are not needed in the dataframe \n",
    "    #Currenlty excluding the id associated with each document of the collection\n",
    "    \n",
    "    exclude_field = {'_id': False}\n",
    "    raw_dataset = list(db[collection].find({}, projection=exclude_field))\n",
    "    \n",
    "    dataset = pd.DataFrame(raw_dataset)\n",
    "    print(f'Data loaded from mongodb {collection} collection succesfully')\n",
    "    return dataset"
   ]
  },
  {
   "cell_type": "code",
   "execution_count": 5,
   "metadata": {},
   "outputs": [],
   "source": [
    "def save_to_momgodb(df,db_):\n",
    "    \n",
    "    \"\"\"\n",
    "    This method saves a dataframe as a collection into a specified MongoDB database.\n",
    "    \n",
    "    Parameters:\n",
    "    @df (pandas dataframe): Storing the dataset to be saved\n",
    "    @db_ (dict): Details for the database where the given dataset is to be saved\n",
    "    \n",
    "    \"\"\"\n",
    "    \n",
    "    #Convert data prsent in the dataframe to JSON format\n",
    "    data = df.to_dict(orient='records')\n",
    "    \n",
    "     #Extracting the items from the inputted dictionary of database details\n",
    "    dbname = db_['database']\n",
    "    ip = db_['ip']\n",
    "    port = db_['port']\n",
    "    coll = db_['collection']\n",
    "    \n",
    "    #Creating a connection to the database using MongoClient\n",
    "    connection = MongoClient(ip,port)\n",
    "    db = connection[dbname]\n",
    "    col = db[collection].insert_many(data)\n",
    "    \n",
    "    print(f'data saved as {coll}')"
   ]
  },
  {
   "cell_type": "code",
   "execution_count": 6,
   "metadata": {},
   "outputs": [],
   "source": [
    "def load_dataset_from_json(data):\n",
    "    with open(data) as f:\n",
    "            d = json.load(f)\n",
    "        #normalize json\n",
    "    dataset= json_normalize(d)\n",
    "    return dataset"
   ]
  },
  {
   "cell_type": "code",
   "execution_count": 7,
   "metadata": {},
   "outputs": [
    {
     "name": "stdout",
     "output_type": "stream",
     "text": [
      "Data loaded from mongodb itproject_clean collection succesfully\n"
     ]
    },
    {
     "data": {
      "text/plain": [
       "(14059, 25)"
      ]
     },
     "execution_count": 7,
     "metadata": {},
     "output_type": "execute_result"
    }
   ],
   "source": [
    "df = load_dataset_from_momgodb(db_loc)\n",
    "df.shape"
   ]
  },
  {
   "cell_type": "code",
   "execution_count": 8,
   "metadata": {},
   "outputs": [],
   "source": [
    "def get_required_dataset(original_dataset):\n",
    "    \n",
    "    #Select required colunms\n",
    "    df = original_dataset[['description', 'bereich']]\n",
    "    df = df[df['description'] != '']\n",
    "    #df.rename(columns = {'description' : 'project', 'bereich' : 'class'})\n",
    "    df['project'] = df['description']\n",
    "    df['label'] = df['bereich']\n",
    "    df.drop(['description', 'bereich'], axis=1, inplace=True)\n",
    "    df = df[df['label'] != 'IT/Bauingenieur']\n",
    "    df = df.drop_duplicates()\n",
    "    return df"
   ]
  },
  {
   "cell_type": "code",
   "execution_count": 9,
   "metadata": {},
   "outputs": [
    {
     "data": {
      "text/html": [
       "<div>\n",
       "<style scoped>\n",
       "    .dataframe tbody tr th:only-of-type {\n",
       "        vertical-align: middle;\n",
       "    }\n",
       "\n",
       "    .dataframe tbody tr th {\n",
       "        vertical-align: top;\n",
       "    }\n",
       "\n",
       "    .dataframe thead th {\n",
       "        text-align: right;\n",
       "    }\n",
       "</style>\n",
       "<table border=\"1\" class=\"dataframe\">\n",
       "  <thead>\n",
       "    <tr style=\"text-align: right;\">\n",
       "      <th></th>\n",
       "      <th>project</th>\n",
       "      <th>label</th>\n",
       "    </tr>\n",
       "  </thead>\n",
       "  <tbody>\n",
       "    <tr>\n",
       "      <th>0</th>\n",
       "      <td>Für einen unserer Kunden aus dem Finanzdienstl...</td>\n",
       "      <td>Infr-Admin-Microsoft</td>\n",
       "    </tr>\n",
       "    <tr>\n",
       "      <th>1</th>\n",
       "      <td>Kann Profil leider nicht löschen.</td>\n",
       "      <td>IT/Consulting</td>\n",
       "    </tr>\n",
       "    <tr>\n",
       "      <th>2</th>\n",
       "      <td>Business Intelligence Analyst (m/w) - Tableau ...</td>\n",
       "      <td>Data-Sci-BI</td>\n",
       "    </tr>\n",
       "    <tr>\n",
       "      <th>3</th>\n",
       "      <td>Konzeption, Customizing sowie Softwareanpassun...</td>\n",
       "      <td>Infr-Admin-Linux</td>\n",
       "    </tr>\n",
       "    <tr>\n",
       "      <th>4</th>\n",
       "      <td>Es sollen mehrere Automatisierungen mit ubot S...</td>\n",
       "      <td>IT/IT</td>\n",
       "    </tr>\n",
       "  </tbody>\n",
       "</table>\n",
       "</div>"
      ],
      "text/plain": [
       "                                             project                 label\n",
       "0  Für einen unserer Kunden aus dem Finanzdienstl...  Infr-Admin-Microsoft\n",
       "1                  Kann Profil leider nicht löschen.         IT/Consulting\n",
       "2  Business Intelligence Analyst (m/w) - Tableau ...           Data-Sci-BI\n",
       "3  Konzeption, Customizing sowie Softwareanpassun...      Infr-Admin-Linux\n",
       "4  Es sollen mehrere Automatisierungen mit ubot S...                 IT/IT"
      ]
     },
     "execution_count": 9,
     "metadata": {},
     "output_type": "execute_result"
    }
   ],
   "source": [
    "df = get_required_dataset(df)\n",
    "df.shape\n",
    "df.head()"
   ]
  },
  {
   "cell_type": "code",
   "execution_count": 10,
   "metadata": {
    "slideshow": {
     "slide_type": "slide"
    }
   },
   "outputs": [
    {
     "data": {
      "text/html": [
       "<div>\n",
       "<style scoped>\n",
       "    .dataframe tbody tr th:only-of-type {\n",
       "        vertical-align: middle;\n",
       "    }\n",
       "\n",
       "    .dataframe tbody tr th {\n",
       "        vertical-align: top;\n",
       "    }\n",
       "\n",
       "    .dataframe thead th {\n",
       "        text-align: right;\n",
       "    }\n",
       "</style>\n",
       "<table border=\"1\" class=\"dataframe\">\n",
       "  <thead>\n",
       "    <tr style=\"text-align: right;\">\n",
       "      <th></th>\n",
       "      <th>project</th>\n",
       "      <th>label</th>\n",
       "    </tr>\n",
       "  </thead>\n",
       "  <tbody>\n",
       "    <tr>\n",
       "      <th>0</th>\n",
       "      <td>Projektbeschreibung \\n\\n                      ...</td>\n",
       "      <td>IT-Mgmt-Projectleiter</td>\n",
       "    </tr>\n",
       "    <tr>\n",
       "      <th>1</th>\n",
       "      <td>Projektbeschreibung \\n\\n                      ...</td>\n",
       "      <td>Data-Sci-BI</td>\n",
       "    </tr>\n",
       "    <tr>\n",
       "      <th>2</th>\n",
       "      <td>Freiberuflicher Fullstack Developer (Python, G...</td>\n",
       "      <td>Dev-Web-Fullstack</td>\n",
       "    </tr>\n",
       "    <tr>\n",
       "      <th>3</th>\n",
       "      <td>Projektbeschreibung \\n\\n                      ...</td>\n",
       "      <td>Infr-Admin-Microsoft</td>\n",
       "    </tr>\n",
       "    <tr>\n",
       "      <th>4</th>\n",
       "      <td>Aufgabe: \\nEntwicklung und eigenständige konst...</td>\n",
       "      <td>IT-Technical-Dev</td>\n",
       "    </tr>\n",
       "  </tbody>\n",
       "</table>\n",
       "</div>"
      ],
      "text/plain": [
       "                                             project                  label\n",
       "0  Projektbeschreibung \\n\\n                      ...  IT-Mgmt-Projectleiter\n",
       "1  Projektbeschreibung \\n\\n                      ...            Data-Sci-BI\n",
       "2  Freiberuflicher Fullstack Developer (Python, G...      Dev-Web-Fullstack\n",
       "3  Projektbeschreibung \\n\\n                      ...   Infr-Admin-Microsoft\n",
       "4  Aufgabe: \\nEntwicklung und eigenständige konst...       IT-Technical-Dev"
      ]
     },
     "execution_count": 10,
     "metadata": {},
     "output_type": "execute_result"
    }
   ],
   "source": [
    "# shuffle the data\n",
    "df = df.sample(frac=1.0)\n",
    "df.reset_index(drop=True,inplace=True)\n",
    "df.head()"
   ]
  },
  {
   "cell_type": "code",
   "execution_count": 11,
   "metadata": {
    "slideshow": {
     "slide_type": "slide"
    }
   },
   "outputs": [
    {
     "data": {
      "text/plain": [
       "'Projektbeschreibung \\n\\n                             \\n              Melden Sie sich jetzt an und bewerben Sie sich direkt! \\n              Jetzt bewerben \\n         \\n    \\n\\n                                * Sicherstellung einer termin-, kosten- und qualitätsgerechten Projektabwicklung, inkl. Änderungskostenmanagement * Koordination der Aufbau- und Inbetriebnahmephase von Karosserierohbauanlagen vor Ort bei unseren Endkunden * Beratung bei der Erstellung von Projekt- und Prozessdokumentationen * Überwachung des Fortschritts der Anlageninbetriebnahme und Planung der hierfür notwendigen personellen Ressourcen (Beratung bei der Erstellung von Kapazitäts- und Terminplänen) * Überwachung von Unterlieferanten auf der Kundenbaustelle * Einleitung von Korrekturmaßnahmen und Dokumentation der Änderungen * Zentraler Ansprechpartner des Kunden hinsichtlich Termin und Qualität * Abgeschlossene Ausbildung zum Techniker oder ein Hochschulstudium im Bereich Elektrotechnik/Mechatronik * Baustellen- und Inbetriebnahmeerfahrung im Karosserierohbau * Konstruktionserfahrung im Bereich Hard- und Software * Gute Kenntnisse in der Programmierung von SPS Steuerungen * Ggfs. ein vorhandenes USA Visum * Hohe Reisebereitschaft und sehr gute Englischkenntnisse, sowie sehr gute Deutschkenntnisse Schlagwörter: Teilprojektleiter, Steuerungstechnik, USA, Anlagenbau, Baustelle, Inbetriebnahme, Karroserierohbau, Elektrotechnik, Mechatronik Kontaktperson: Account Manager Industrial Engineering - IT Herr Pascal Bigler FERCHAU Engineering GmbH Niederlassung Friedrichshafen Otto-Lilienthal-Straße 6 88046 Friedrichshafen \\n\\n                \\n                 \\n                                 \\n              Melden Sie sich jetzt an und bewerben Sie sich direkt! \\n              Jetzt bewerben'"
      ]
     },
     "execution_count": 11,
     "metadata": {},
     "output_type": "execute_result"
    }
   ],
   "source": [
    "df.iloc[0,0]"
   ]
  },
  {
   "cell_type": "code",
   "execution_count": 15,
   "metadata": {},
   "outputs": [
    {
     "name": "stdout",
     "output_type": "stream",
     "text": [
      "/opt/jupyter/Icxa/projectfinder_analytics/ML/USL\n",
      "['januar', 'january', 'februar', 'february', 'märz', 'march', 'april', 'mai', 'may', 'juni', 'june', 'juli', 'july', 'august', 'september', 'oktober', 'october', 'november', 'dezember', 'december']\n",
      "844\n"
     ]
    }
   ],
   "source": [
    "#load nltk's German and english stopwords'\n",
    "import os\n",
    "currDir = os.getcwd()\n",
    "print(currDir)\n",
    "if \"USL\" not in currDir:\n",
    "    dataDir = os.path.join(currDir,  \"ML\", \"USL\", \"data\")\n",
    "else: \n",
    "    dataDir = os.path.join(currDir,  \"data\")\n",
    "with open(os.path.join(dataDir, 'german_stopwords_full.txt'), 'r') as f:\n",
    "    stopwords_germ = f.read().splitlines()\n",
    "stopwords_eng = nltk.corpus.stopwords.words('english')\n",
    "\n",
    "#german cities\n",
    "from bundeslander import Baden_Württemberg, Bayern, Berlin, Brandenburg, Bremen, Hamburg, Hessen, Mecklenburg_Vorpommern, Niedersachsen, Nordrhein_Westfalen, Rheinland_Pfalz, Saarland, Sachsen, Sachsen_Anhalt, Schleswig_Holstein, Thüringen, Ausland\n",
    "All = Baden_Württemberg + Bayern + Berlin + Brandenburg + Bremen +Hamburg + Hessen + Mecklenburg_Vorpommern + Niedersachsen + Nordrhein_Westfalen + Rheinland_Pfalz + Saarland + Sachsen + Sachsen_Anhalt + Schleswig_Holstein + Thüringen + Ausland\n",
    "cities = list(set([city.lower() for city in All]))\n",
    "\n",
    "months = ['Januar', 'January','Februar', 'February', 'März', 'March', 'April', 'Mai', 'May', 'Juni', 'June', 'Juli', \n",
    "          'July', 'August', 'September', 'Oktober', 'October', 'November', 'Dezember', 'December']\n",
    "months = [month.lower() for month in months]\n",
    "print(months)\n",
    "\n",
    "stopwords_manual = [line.rstrip('\\n') for line in open('stopwords_manual.txt')]\n",
    "print(len(stopwords_manual))"
   ]
  },
  {
   "cell_type": "code",
   "execution_count": 16,
   "metadata": {},
   "outputs": [
    {
     "data": {
      "text/plain": [
       "13240"
      ]
     },
     "execution_count": 16,
     "metadata": {},
     "output_type": "execute_result"
    }
   ],
   "source": [
    "stopwords_all = list(set(stopwords_germ + stopwords_eng + stopwords_manual + cities + months))\n",
    "len(stopwords_all)"
   ]
  },
  {
   "cell_type": "code",
   "execution_count": 17,
   "metadata": {},
   "outputs": [
    {
     "name": "stdout",
     "output_type": "stream",
     "text": [
      "844\n"
     ]
    }
   ],
   "source": [
    "stopwords_add = []\n",
    "stopwords_add = list(set(stopwords_add + stopwords_manual))\n",
    "checker = list(set(stopwords_germ + stopwords_eng + cities + months))\n",
    "stopwords_add.sort()\n",
    "with open('stopwords_manual.txt', 'w') as f:\n",
    "    for item in stopwords_add:\n",
    "        if item not in checker:\n",
    "            f.write(\"%s\\n\" % item)\n",
    "stopwords_manual = [line.rstrip('\\n') for line in open('stopwords_manual.txt')]\n",
    "print(len(stopwords_manual))"
   ]
  },
  {
   "cell_type": "code",
   "execution_count": 18,
   "metadata": {},
   "outputs": [
    {
     "data": {
      "text/plain": [
       "13240"
      ]
     },
     "execution_count": 18,
     "metadata": {},
     "output_type": "execute_result"
    }
   ],
   "source": [
    "stopwords_all = list(set(stopwords_germ + stopwords_eng + stopwords_manual + cities + months))\n",
    "len(stopwords_all)"
   ]
  },
  {
   "cell_type": "code",
   "execution_count": 19,
   "metadata": {},
   "outputs": [],
   "source": [
    "stemmer_own = {\n",
    "    \n",
    "    'admin': 'administration',  \n",
    "    'verwaltung': 'administration',\n",
    "    'architektur' : 'architekture',\n",
    "    'agil' : 'agile',\n",
    "    'analys': 'analyst',\n",
    "    'app': 'application',\n",
    "    'anwend' : 'application',\n",
    "    'automat': 'automate',\n",
    "   \n",
    "    \n",
    "    'consultant' : 'berater',\n",
    "    'berat': 'berater',\n",
    "    'bereich' : 'bereich',\n",
    "    'cisco': 'cisco',\n",
    "    'konzept' : 'concept',\n",
    "    'container': 'containerization',\n",
    "    'zertifi' : 'certificate',\n",
    "    'certifi' : 'certificate',\n",
    "    'design' : 'design',\n",
    "    'engineer' : 'engineer',\n",
    "    'ingenieur'  : 'engineer',\n",
    "    'entwick': 'entwicklung',\n",
    "    'develop': 'entwicklung',\n",
    "    'program': 'entwicklung',\n",
    "    'entwickler' : 'entwicklung',\n",
    "    \n",
    "    'extern': 'external',\n",
    "    'framework': 'framework',\n",
    "    'globalen': 'global',\n",
    "    'schnittstell': 'interface',\n",
    "    'implement' : 'implementation', \n",
    "    'infrastr' : 'infrastructure',\n",
    "    'informati' : 'informatik',\n",
    "    'intern': 'internal',\n",
    "    'manage' : 'management',\n",
    "    'method' : 'method',\n",
    "    'überwach' : 'monitoring',\n",
    "    'mobil': 'mobil',\n",
    "    'betrieb' : 'operation',\n",
    "    \n",
    "    'operat' : 'operation',\n",
    "    'operie' : 'operation',\n",
    "    'plattform' : 'platform',\n",
    "    'projec' : 'project',\n",
    "    'prozess' : 'process',\n",
    "    'process' : 'process',\n",
    "    'bearbeitung' : 'process',\n",
    "    'scrum': 'scrum',\n",
    "    'softwar': 'software',\n",
    "    'spezifi' :'specification',\n",
    "    'specifi' :'specification',\n",
    "    'unterstützt' : 'support',\n",
    "    'support' : 'support',\n",
    "    'system': 'system',\n",
    "    'anfoder': 'requirement',\n",
    "    'tech' : 'tech',\n",
    "    \n",
    "}"
   ]
  },
  {
   "cell_type": "code",
   "execution_count": 20,
   "metadata": {},
   "outputs": [],
   "source": [
    "def tokenization_data(text):\n",
    "    \"\"\"Normalize, tokenize and stem text string\n",
    "    \n",
    "    Args:\n",
    "    text: string. String containing message for processing\n",
    "       \n",
    "    Returns:\n",
    "    cleaned: list of strings. List containing normalized and stemmed word tokens\n",
    "    \"\"\"\n",
    "\n",
    "    try:\n",
    "        text = re.sub(r'(\\d)',' ',text.lower())\n",
    "        text = re.sub('[%s]' % re.escape(string.punctuation), ' ', text)\n",
    "        tokens = word_tokenize(text)\n",
    "        tokens_cleaned = [word for word in tokens if word not in stopwords_all and len(word) > 1]\n",
    "        cleaned = []\n",
    "        stemmer_keys = list(stemmer_own.keys())\n",
    "        for word in tokens_cleaned:\n",
    "            for stemmer_key in stemmer_keys:\n",
    "                if stemmer_key in word:\n",
    "                    stemmed_word = stemmer_own[stemmer_key]\n",
    "                    cleaned.append(stemmed_word)\n",
    "                    break\n",
    "            else:\n",
    "                cleaned.append(word)\n",
    "  \n",
    "                \n",
    "\n",
    "    except IndexError:\n",
    "        pass\n",
    "\n",
    "    return cleaned"
   ]
  },
  {
   "cell_type": "code",
   "execution_count": 21,
   "metadata": {},
   "outputs": [
    {
     "name": "stdout",
     "output_type": "stream",
     "text": [
      "Time taken to prepare 12168 projects documents: 8.700641453266144 min\n"
     ]
    }
   ],
   "source": [
    "# Clean text and title and create new column \"tokenized\"\n",
    "t1 = time.time()\n",
    "df['token_stem_spRm'] = df['project'].apply(tokenization_data)\n",
    "t2 = time.time()\n",
    "print(\"Time taken to prepare\", len(df), \"projects documents:\", (t2-t1)/60, \"min\")"
   ]
  },
  {
   "cell_type": "code",
   "execution_count": 22,
   "metadata": {},
   "outputs": [
    {
     "data": {
      "text/html": [
       "<div>\n",
       "<style scoped>\n",
       "    .dataframe tbody tr th:only-of-type {\n",
       "        vertical-align: middle;\n",
       "    }\n",
       "\n",
       "    .dataframe tbody tr th {\n",
       "        vertical-align: top;\n",
       "    }\n",
       "\n",
       "    .dataframe thead th {\n",
       "        text-align: right;\n",
       "    }\n",
       "</style>\n",
       "<table border=\"1\" class=\"dataframe\">\n",
       "  <thead>\n",
       "    <tr style=\"text-align: right;\">\n",
       "      <th></th>\n",
       "      <th>project</th>\n",
       "      <th>label</th>\n",
       "      <th>token_stem_spRm</th>\n",
       "    </tr>\n",
       "  </thead>\n",
       "  <tbody>\n",
       "    <tr>\n",
       "      <th>0</th>\n",
       "      <td>Projektbeschreibung \\n\\n                      ...</td>\n",
       "      <td>IT-Mgmt-Projectleiter</td>\n",
       "      <td>[sicherstellung, termin, qualitätsgerechten, p...</td>\n",
       "    </tr>\n",
       "    <tr>\n",
       "      <th>1</th>\n",
       "      <td>Projektbeschreibung \\n\\n                      ...</td>\n",
       "      <td>Data-Sci-BI</td>\n",
       "      <td>[verantwortung, tracking, analytics, web, mobi...</td>\n",
       "    </tr>\n",
       "    <tr>\n",
       "      <th>2</th>\n",
       "      <td>Freiberuflicher Fullstack Developer (Python, G...</td>\n",
       "      <td>Dev-Web-Fullstack</td>\n",
       "      <td>[freiberuflicher, fullstack, entwicklung, pyth...</td>\n",
       "    </tr>\n",
       "    <tr>\n",
       "      <th>3</th>\n",
       "      <td>Projektbeschreibung \\n\\n                      ...</td>\n",
       "      <td>Infr-Admin-Microsoft</td>\n",
       "      <td>[application, management, installation, suppor...</td>\n",
       "    </tr>\n",
       "    <tr>\n",
       "      <th>4</th>\n",
       "      <td>Aufgabe: \\nEntwicklung und eigenständige konst...</td>\n",
       "      <td>IT-Technical-Dev</td>\n",
       "      <td>[entwicklung, eigenständige, konstruktive, qua...</td>\n",
       "    </tr>\n",
       "  </tbody>\n",
       "</table>\n",
       "</div>"
      ],
      "text/plain": [
       "                                             project                  label  \\\n",
       "0  Projektbeschreibung \\n\\n                      ...  IT-Mgmt-Projectleiter   \n",
       "1  Projektbeschreibung \\n\\n                      ...            Data-Sci-BI   \n",
       "2  Freiberuflicher Fullstack Developer (Python, G...      Dev-Web-Fullstack   \n",
       "3  Projektbeschreibung \\n\\n                      ...   Infr-Admin-Microsoft   \n",
       "4  Aufgabe: \\nEntwicklung und eigenständige konst...       IT-Technical-Dev   \n",
       "\n",
       "                                     token_stem_spRm  \n",
       "0  [sicherstellung, termin, qualitätsgerechten, p...  \n",
       "1  [verantwortung, tracking, analytics, web, mobi...  \n",
       "2  [freiberuflicher, fullstack, entwicklung, pyth...  \n",
       "3  [application, management, installation, suppor...  \n",
       "4  [entwicklung, eigenständige, konstruktive, qua...  "
      ]
     },
     "execution_count": 22,
     "metadata": {},
     "output_type": "execute_result"
    }
   ],
   "source": [
    "df.head()"
   ]
  },
  {
   "cell_type": "code",
   "execution_count": 46,
   "metadata": {},
   "outputs": [],
   "source": [
    "bigram = gensim.models.Phrases(df['token_stem_spRm'].tolist(), min_count=2, threshold=2) # higher threshold fewer phrases.\n",
    "bigram_mod = gensim.models.phrases.Phraser(bigram)\n",
    "def make_bigrams(text):\n",
    "    return bigram_mod[text]"
   ]
  },
  {
   "cell_type": "code",
   "execution_count": 47,
   "metadata": {},
   "outputs": [],
   "source": [
    "# Form Bigrams\n",
    "df['token_stem_spRm_bigram'] = df['token_stem_spRm'].apply(make_bigrams)"
   ]
  },
  {
   "cell_type": "code",
   "execution_count": 56,
   "metadata": {},
   "outputs": [
    {
     "data": {
      "text/html": [
       "<div>\n",
       "<style scoped>\n",
       "    .dataframe tbody tr th:only-of-type {\n",
       "        vertical-align: middle;\n",
       "    }\n",
       "\n",
       "    .dataframe tbody tr th {\n",
       "        vertical-align: top;\n",
       "    }\n",
       "\n",
       "    .dataframe thead th {\n",
       "        text-align: right;\n",
       "    }\n",
       "</style>\n",
       "<table border=\"1\" class=\"dataframe\">\n",
       "  <thead>\n",
       "    <tr style=\"text-align: right;\">\n",
       "      <th></th>\n",
       "      <th>project</th>\n",
       "      <th>label</th>\n",
       "      <th>token_stem_spRm</th>\n",
       "      <th>token_stem_spRm_bigram</th>\n",
       "    </tr>\n",
       "  </thead>\n",
       "  <tbody>\n",
       "    <tr>\n",
       "      <th>12148</th>\n",
       "      <td>Projektbeschreibung \\n\\n                      ...</td>\n",
       "      <td>ERP-SAP</td>\n",
       "      <td>[spezialist, process, mm, sicherstellung, syst...</td>\n",
       "      <td>[spezialist, process, mm, sicherstellung, syst...</td>\n",
       "    </tr>\n",
       "    <tr>\n",
       "      <th>12149</th>\n",
       "      <td>Projektbeschreibung \\n\\n                      ...</td>\n",
       "      <td>Data-Engr-Big Data</td>\n",
       "      <td>[bi, berater, software, entwicklung, berater, ...</td>\n",
       "      <td>[bi, berater, software_entwicklung, berater, t...</td>\n",
       "    </tr>\n",
       "    <tr>\n",
       "      <th>12150</th>\n",
       "      <td>Unser Kunde aus Berlin ist auf der Suche nach ...</td>\n",
       "      <td>ERP-SAP</td>\n",
       "      <td>[sap, workflow, entwicklung, gesamtkontigent, ...</td>\n",
       "      <td>[sap_workflow, entwicklung, gesamtkontigent, b...</td>\n",
       "    </tr>\n",
       "    <tr>\n",
       "      <th>12151</th>\n",
       "      <td>Für unseren Kunden sind wir aktuell auf der Su...</td>\n",
       "      <td>IT/Rechnungswes</td>\n",
       "      <td>[controller, kundendetails, handelsunternehmen...</td>\n",
       "      <td>[controller, kundendetails, handelsunternehmen...</td>\n",
       "    </tr>\n",
       "    <tr>\n",
       "      <th>12152</th>\n",
       "      <td>Projektbeschreibung \\n\\n                      ...</td>\n",
       "      <td>Dev-Web-Frontend</td>\n",
       "      <td>[operation, entwicklung, dokumentation, versch...</td>\n",
       "      <td>[operation, entwicklung, dokumentation_versch,...</td>\n",
       "    </tr>\n",
       "    <tr>\n",
       "      <th>12153</th>\n",
       "      <td>Projektbeschreibung \\n\\n                      ...</td>\n",
       "      <td>Dev-Web-Backend</td>\n",
       "      <td>[business, innovativer, google, reseller, dien...</td>\n",
       "      <td>[business_innovativer, google_reseller, dienst...</td>\n",
       "    </tr>\n",
       "    <tr>\n",
       "      <th>12154</th>\n",
       "      <td>Projektbeschreibung \\n\\n                      ...</td>\n",
       "      <td>Infr-Admin-Microsoft</td>\n",
       "      <td>[entwicklung, ms, sharepoint, ms, sharepoint, ...</td>\n",
       "      <td>[entwicklung, ms_sharepoint, ms_sharepoint, ms...</td>\n",
       "    </tr>\n",
       "    <tr>\n",
       "      <th>12155</th>\n",
       "      <td>Projektbeschreibung \\n\\n                      ...</td>\n",
       "      <td>Dev-Web-Backend</td>\n",
       "      <td>[net, entwicklung, system, application, egover...</td>\n",
       "      <td>[net_entwicklung, system, application_egovernm...</td>\n",
       "    </tr>\n",
       "    <tr>\n",
       "      <th>12156</th>\n",
       "      <td>Von mobilen Apps bis hin zur Robotersteuerung ...</td>\n",
       "      <td>Dev-Web-Fullstack</td>\n",
       "      <td>[mobil, application, robotersteuerung, konzipi...</td>\n",
       "      <td>[mobil_application, robotersteuerung_konzipier...</td>\n",
       "    </tr>\n",
       "    <tr>\n",
       "      <th>12157</th>\n",
       "      <td>Projektbeschreibung \\n\\n                      ...</td>\n",
       "      <td>SW-Dev-Others</td>\n",
       "      <td>[komponentenverantwortlichen, verzeichnisdiens...</td>\n",
       "      <td>[komponentenverantwortlichen, verzeichnisdiens...</td>\n",
       "    </tr>\n",
       "    <tr>\n",
       "      <th>12158</th>\n",
       "      <td>Projektbeschreibung \\n\\n                      ...</td>\n",
       "      <td>ERP-SAP</td>\n",
       "      <td>[berater, themen, berater, blackberry, applica...</td>\n",
       "      <td>[berater, themen, berater, blackberry, applica...</td>\n",
       "    </tr>\n",
       "    <tr>\n",
       "      <th>12159</th>\n",
       "      <td>Projektbeschreibung \\n\\n                      ...</td>\n",
       "      <td>Infr-Admin-Database</td>\n",
       "      <td>[external, projektunterstützung, architekt, or...</td>\n",
       "      <td>[external_projektunterstützung, architekt, ora...</td>\n",
       "    </tr>\n",
       "    <tr>\n",
       "      <th>12160</th>\n",
       "      <td>Ihre Aufgaben: \\nProgrammierung von volldigita...</td>\n",
       "      <td>IT-Technical-Dev</td>\n",
       "      <td>[entwicklung, volldigitalen, system, steuerung...</td>\n",
       "      <td>[entwicklung, volldigitalen, system, steuerung...</td>\n",
       "    </tr>\n",
       "    <tr>\n",
       "      <th>12161</th>\n",
       "      <td>Für unseren Kunden aus der Industriebranche su...</td>\n",
       "      <td>ERP-SAP</td>\n",
       "      <td>[industriebranche, sap, hana, folgt, entwicklu...</td>\n",
       "      <td>[industriebranche_sap, hana, folgt, entwicklun...</td>\n",
       "    </tr>\n",
       "    <tr>\n",
       "      <th>12162</th>\n",
       "      <td>Projektbeschreibung \\n\\n                      ...</td>\n",
       "      <td>Infr-Admin-Microsoft</td>\n",
       "      <td>[großrum, ms, entwicklung, edi, tiefgreifende,...</td>\n",
       "      <td>[großrum, ms, entwicklung, edi, tiefgreifende_...</td>\n",
       "    </tr>\n",
       "    <tr>\n",
       "      <th>12163</th>\n",
       "      <td>Start: 04.02.2019 \\r\\nEnde:31.12.2019 (+Option...</td>\n",
       "      <td>Dev-Web-Fullstack</td>\n",
       "      <td>[digitalisierungsprojekt, system, erfahrener, ...</td>\n",
       "      <td>[digitalisierungsprojekt_system, erfahrener_au...</td>\n",
       "    </tr>\n",
       "    <tr>\n",
       "      <th>12164</th>\n",
       "      <td>Projektbeschreibung \\n\\n                      ...</td>\n",
       "      <td>Dev-Web-Frontend</td>\n",
       "      <td>[computer, linguist, training, spain, implemen...</td>\n",
       "      <td>[computer_linguist, training, spain, implement...</td>\n",
       "    </tr>\n",
       "    <tr>\n",
       "      <th>12165</th>\n",
       "      <td>AFRA-951 Developer Node.JS (m/w) \\n  \\nTätigke...</td>\n",
       "      <td>Dev-Web-Backend</td>\n",
       "      <td>[afra, entwicklung, node, js, projekt, archite...</td>\n",
       "      <td>[afra, entwicklung, node_js, projekt, architek...</td>\n",
       "    </tr>\n",
       "    <tr>\n",
       "      <th>12166</th>\n",
       "      <td>Aufgabe: \\n* Durchführung von Elektroarbeiten ...</td>\n",
       "      <td>IT/Elektrotechn</td>\n",
       "      <td>[elektroarbeiten, klassischen, installations, ...</td>\n",
       "      <td>[elektroarbeiten, klassischen, installations, ...</td>\n",
       "    </tr>\n",
       "    <tr>\n",
       "      <th>12167</th>\n",
       "      <td>Aktuell sind wir für ein spannendes Projekt au...</td>\n",
       "      <td>Data-Engr-Big Data</td>\n",
       "      <td>[projekt, db, db, monitoring, datenmodellierun...</td>\n",
       "      <td>[projekt, db_db, monitoring, datenmodellierung...</td>\n",
       "    </tr>\n",
       "  </tbody>\n",
       "</table>\n",
       "</div>"
      ],
      "text/plain": [
       "                                                 project  \\\n",
       "12148  Projektbeschreibung \\n\\n                      ...   \n",
       "12149  Projektbeschreibung \\n\\n                      ...   \n",
       "12150  Unser Kunde aus Berlin ist auf der Suche nach ...   \n",
       "12151  Für unseren Kunden sind wir aktuell auf der Su...   \n",
       "12152  Projektbeschreibung \\n\\n                      ...   \n",
       "12153  Projektbeschreibung \\n\\n                      ...   \n",
       "12154  Projektbeschreibung \\n\\n                      ...   \n",
       "12155  Projektbeschreibung \\n\\n                      ...   \n",
       "12156  Von mobilen Apps bis hin zur Robotersteuerung ...   \n",
       "12157  Projektbeschreibung \\n\\n                      ...   \n",
       "12158  Projektbeschreibung \\n\\n                      ...   \n",
       "12159  Projektbeschreibung \\n\\n                      ...   \n",
       "12160  Ihre Aufgaben: \\nProgrammierung von volldigita...   \n",
       "12161  Für unseren Kunden aus der Industriebranche su...   \n",
       "12162  Projektbeschreibung \\n\\n                      ...   \n",
       "12163  Start: 04.02.2019 \\r\\nEnde:31.12.2019 (+Option...   \n",
       "12164  Projektbeschreibung \\n\\n                      ...   \n",
       "12165  AFRA-951 Developer Node.JS (m/w) \\n  \\nTätigke...   \n",
       "12166  Aufgabe: \\n* Durchführung von Elektroarbeiten ...   \n",
       "12167  Aktuell sind wir für ein spannendes Projekt au...   \n",
       "\n",
       "                      label  \\\n",
       "12148               ERP-SAP   \n",
       "12149    Data-Engr-Big Data   \n",
       "12150               ERP-SAP   \n",
       "12151       IT/Rechnungswes   \n",
       "12152      Dev-Web-Frontend   \n",
       "12153       Dev-Web-Backend   \n",
       "12154  Infr-Admin-Microsoft   \n",
       "12155       Dev-Web-Backend   \n",
       "12156     Dev-Web-Fullstack   \n",
       "12157         SW-Dev-Others   \n",
       "12158               ERP-SAP   \n",
       "12159   Infr-Admin-Database   \n",
       "12160      IT-Technical-Dev   \n",
       "12161               ERP-SAP   \n",
       "12162  Infr-Admin-Microsoft   \n",
       "12163     Dev-Web-Fullstack   \n",
       "12164      Dev-Web-Frontend   \n",
       "12165       Dev-Web-Backend   \n",
       "12166       IT/Elektrotechn   \n",
       "12167    Data-Engr-Big Data   \n",
       "\n",
       "                                         token_stem_spRm  \\\n",
       "12148  [spezialist, process, mm, sicherstellung, syst...   \n",
       "12149  [bi, berater, software, entwicklung, berater, ...   \n",
       "12150  [sap, workflow, entwicklung, gesamtkontigent, ...   \n",
       "12151  [controller, kundendetails, handelsunternehmen...   \n",
       "12152  [operation, entwicklung, dokumentation, versch...   \n",
       "12153  [business, innovativer, google, reseller, dien...   \n",
       "12154  [entwicklung, ms, sharepoint, ms, sharepoint, ...   \n",
       "12155  [net, entwicklung, system, application, egover...   \n",
       "12156  [mobil, application, robotersteuerung, konzipi...   \n",
       "12157  [komponentenverantwortlichen, verzeichnisdiens...   \n",
       "12158  [berater, themen, berater, blackberry, applica...   \n",
       "12159  [external, projektunterstützung, architekt, or...   \n",
       "12160  [entwicklung, volldigitalen, system, steuerung...   \n",
       "12161  [industriebranche, sap, hana, folgt, entwicklu...   \n",
       "12162  [großrum, ms, entwicklung, edi, tiefgreifende,...   \n",
       "12163  [digitalisierungsprojekt, system, erfahrener, ...   \n",
       "12164  [computer, linguist, training, spain, implemen...   \n",
       "12165  [afra, entwicklung, node, js, projekt, archite...   \n",
       "12166  [elektroarbeiten, klassischen, installations, ...   \n",
       "12167  [projekt, db, db, monitoring, datenmodellierun...   \n",
       "\n",
       "                                  token_stem_spRm_bigram  \n",
       "12148  [spezialist, process, mm, sicherstellung, syst...  \n",
       "12149  [bi, berater, software_entwicklung, berater, t...  \n",
       "12150  [sap_workflow, entwicklung, gesamtkontigent, b...  \n",
       "12151  [controller, kundendetails, handelsunternehmen...  \n",
       "12152  [operation, entwicklung, dokumentation_versch,...  \n",
       "12153  [business_innovativer, google_reseller, dienst...  \n",
       "12154  [entwicklung, ms_sharepoint, ms_sharepoint, ms...  \n",
       "12155  [net_entwicklung, system, application_egovernm...  \n",
       "12156  [mobil_application, robotersteuerung_konzipier...  \n",
       "12157  [komponentenverantwortlichen, verzeichnisdiens...  \n",
       "12158  [berater, themen, berater, blackberry, applica...  \n",
       "12159  [external_projektunterstützung, architekt, ora...  \n",
       "12160  [entwicklung, volldigitalen, system, steuerung...  \n",
       "12161  [industriebranche_sap, hana, folgt, entwicklun...  \n",
       "12162  [großrum, ms, entwicklung, edi, tiefgreifende_...  \n",
       "12163  [digitalisierungsprojekt_system, erfahrener_au...  \n",
       "12164  [computer_linguist, training, spain, implement...  \n",
       "12165  [afra, entwicklung, node_js, projekt, architek...  \n",
       "12166  [elektroarbeiten, klassischen, installations, ...  \n",
       "12167  [projekt, db_db, monitoring, datenmodellierung...  "
      ]
     },
     "execution_count": 56,
     "metadata": {},
     "output_type": "execute_result"
    }
   ],
   "source": [
    "df.tail(20)"
   ]
  },
  {
   "cell_type": "code",
   "execution_count": 55,
   "metadata": {},
   "outputs": [
    {
     "data": {
      "text/plain": [
       "['tibco',\n",
       " 'entwicklung',\n",
       " 'integration',\n",
       " 'integration_layer',\n",
       " 'design',\n",
       " 'entwicklung_tibcobasierten',\n",
       " 'application_integrationslösung',\n",
       " 'workflows_interface',\n",
       " 'system',\n",
       " 'mm',\n",
       " 'tibco',\n",
       " 'architekture',\n",
       " 'enterprise_bus',\n",
       " 'esb_enterprise',\n",
       " 'application',\n",
       " 'integration_eai',\n",
       " 'architecture_soa',\n",
       " 'microservices',\n",
       " 'interface_wsdl',\n",
       " 'xsd_wadl',\n",
       " 'openapi_jdbc',\n",
       " 'jms_mehrrjährige',\n",
       " 'enterprise',\n",
       " 'java_kommerzieller',\n",
       " 'integrations',\n",
       " 'software',\n",
       " 'tibco_optimal',\n",
       " 'tibco_activematrix',\n",
       " 'businessworks',\n",
       " 'nützlich',\n",
       " 'alternativ',\n",
       " 'eclipse_ide']"
      ]
     },
     "execution_count": 55,
     "metadata": {},
     "output_type": "execute_result"
    }
   ],
   "source": [
    "df.iloc[9,3]"
   ]
  },
  {
   "cell_type": "code",
   "execution_count": 23,
   "metadata": {},
   "outputs": [
    {
     "name": "stdout",
     "output_type": "stream",
     "text": [
      "4431\n"
     ]
    }
   ],
   "source": [
    "# Obtain all bigrams\n",
    "all_lines = df['token_stem_spRm_bigram'].tolist()\n",
    "all_bigrams = list(set([word for words in all_lines for word in words if '_' in word]))\n",
    "all_bigrams.sort()\n",
    "print(len(all_bigrams))"
   ]
  },
  {
   "cell_type": "code",
   "execution_count": 25,
   "metadata": {},
   "outputs": [],
   "source": [
    "with open('all_bigrams_Approach_4.txt', 'w') as f:\n",
    "    for item in all_bigrams:\n",
    "        f.write(\"%s\\n\" % item)"
   ]
  },
  {
   "cell_type": "code",
   "execution_count": 5,
   "metadata": {},
   "outputs": [
    {
     "name": "stderr",
     "output_type": "stream",
     "text": [
      "[nltk_data] Downloading package stopwords to /root/nltk_data...\n",
      "[nltk_data]   Package stopwords is already up-to-date!\n",
      "[nltk_data] Downloading package punkt to /root/nltk_data...\n",
      "[nltk_data]   Package punkt is already up-to-date!\n"
     ]
    }
   ],
   "source": [
    "import os\n",
    "import nltk\n",
    "import pickle\n",
    "\n",
    "#Using NLTK Downloader to obtain the resource stopwords, punkt\n",
    "nltk.download('stopwords')\n",
    "nltk.download('punkt')\n",
    "\n",
    "currDir = os.getcwd()\n",
    "if \"USL\" not in currDir:\n",
    "    os.chdir(os.path.join(currDir,  \"ML\", \"USL\"))\n",
    "else:\n",
    "    os.chdir(\"../USL\")\n",
    "\n",
    "# load nltk's German and english stopwords'\n",
    "dataDir = os.path.join(currDir,  \"constants\")\n",
    "with open(os.path.join(dataDir, 'german_stopwords_full.txt'), 'r') as f:\n",
    "    stopwords_germ = f.read().splitlines()\n",
    "stopwords_eng = nltk.corpus.stopwords.words('english')\n",
    "combined_stopWordsPath = os.path.join(dataDir, 'stopwords_manual.txt')\n",
    "\n",
    "#german cities\n",
    "from script_files.bundeslander import Baden_Württemberg, Bayern, Berlin, Brandenburg, Bremen, Hamburg, Hessen, Mecklenburg_Vorpommern, Niedersachsen, Nordrhein_Westfalen, Rheinland_Pfalz, Saarland, Sachsen, Sachsen_Anhalt, Schleswig_Holstein, Thüringen, Ausland\n",
    "\n",
    "All = Baden_Württemberg + Bayern + Berlin + Brandenburg + Bremen +Hamburg + Hessen + Mecklenburg_Vorpommern + Niedersachsen + Nordrhein_Westfalen + Rheinland_Pfalz + Saarland + Sachsen + Sachsen_Anhalt + Schleswig_Holstein + Thüringen + Ausland\n",
    "cities = list(set([city.lower() for city in All]))\n",
    "\n",
    "months = ['Januar', 'January','Februar', 'February', 'März', 'March', 'April', 'Mai', 'May', 'Juni', 'June', 'Juli', \n",
    "          'July', 'August', 'September', 'Oktober', 'October', 'November', 'Dezember', 'December']\n",
    "months = [month.lower() for month in months]\n",
    "#print(months)\n",
    "\n",
    "stopwords_manual = [line.rstrip('\\n') for line in open(combined_stopWordsPath)]\n",
    "#print(len(stopwords_manual))\n",
    "\n",
    "stopwords_all = list(set(stopwords_germ + stopwords_eng + stopwords_manual + cities + months))\n",
    "len(stopwords_all)\n",
    "\n",
    "stopwordsLocation = os.path.join(dataDir,  \"stopwords.pickle\")\n",
    "pickle_out = open(stopwordsLocation,\"wb\")\n",
    "pickle.dump(stopwords_all, pickle_out)\n",
    "pickle_out.close()"
   ]
  },
  {
   "cell_type": "code",
   "execution_count": null,
   "metadata": {},
   "outputs": [],
   "source": []
  }
 ],
 "metadata": {
  "kernelspec": {
   "display_name": "Python 3",
   "language": "python",
   "name": "python3"
  },
  "language_info": {
   "codemirror_mode": {
    "name": "ipython",
    "version": 3
   },
   "file_extension": ".py",
   "mimetype": "text/x-python",
   "name": "python",
   "nbconvert_exporter": "python",
   "pygments_lexer": "ipython3",
   "version": "3.7.1"
  }
 },
 "nbformat": 4,
 "nbformat_minor": 2
}
