{
 "cells": [
  {
   "cell_type": "code",
   "execution_count": 383,
   "metadata": {
    "slideshow": {
     "slide_type": "slide"
    }
   },
   "outputs": [],
   "source": [
    "%matplotlib inline\n",
    "import pandas as pd\n",
    "import numpy as np\n",
    "import nltk\n",
    "from nltk.corpus import stopwords\n",
    "import gensim\n",
    "from gensim.models import LdaModel\n",
    "from gensim import models, corpora, similarities\n",
    "import re\n",
    "import time\n",
    "from nltk import FreqDist\n",
    "from scipy.stats import entropy\n",
    "import matplotlib.pyplot as plt\n",
    "import seaborn as sns\n",
    "sns.set_style(\"darkgrid\")\n",
    "from pymongo import MongoClient\n",
    "from nltk.tokenize import word_tokenize"
   ]
  },
  {
   "cell_type": "code",
   "execution_count": 227,
   "metadata": {
    "slideshow": {
     "slide_type": "slide"
    }
   },
   "outputs": [],
   "source": [
    "# load nltk's SnowballStemmer\n",
    "from nltk.stem.snowball import SnowballStemmer\n",
    "stemmer_eng = SnowballStemmer(\"english\", ignore_stopwords=True)\n",
    "stemmer_germ = SnowballStemmer(\"german\", ignore_stopwords=True)"
   ]
  },
  {
   "cell_type": "code",
   "execution_count": 228,
   "metadata": {
    "slideshow": {
     "slide_type": "slide"
    }
   },
   "outputs": [],
   "source": [
    "#german cities\n",
    "from bundeslander import Baden_Württemberg, Bayern, Berlin, Brandenburg, Bremen, Hamburg, Hessen, Mecklenburg_Vorpommern, Niedersachsen, Nordrhein_Westfalen, Rheinland_Pfalz, Saarland, Sachsen, Sachsen_Anhalt, Schleswig_Holstein, Thüringen, Ausland\n",
    "All = Baden_Württemberg + Bayern + Berlin + Brandenburg + Bremen +Hamburg + Hessen + Mecklenburg_Vorpommern + Niedersachsen + Nordrhein_Westfalen + Rheinland_Pfalz + Saarland + Sachsen + Sachsen_Anhalt + Schleswig_Holstein + Thüringen + Ausland"
   ]
  },
  {
   "cell_type": "code",
   "execution_count": 229,
   "metadata": {
    "slideshow": {
     "slide_type": "slide"
    }
   },
   "outputs": [],
   "source": [
    "cities = list(set([city.lower() for city in All]))"
   ]
  },
  {
   "cell_type": "code",
   "execution_count": 376,
   "metadata": {},
   "outputs": [],
   "source": [
    "db_loc = {\n",
    "    'ip' :'10.10.250.0',\n",
    "    'port' : 27017,\n",
    "    'db' : 'projectfinder',\n",
    "    'coll' : 'itproject_clean'\n",
    "}"
   ]
  },
  {
   "cell_type": "code",
   "execution_count": 377,
   "metadata": {},
   "outputs": [],
   "source": [
    "db_data = {\n",
    "    'ip' :'10.10.250.0',\n",
    "    'port' : 27017,\n",
    "    'db' : 'projectfinder',\n",
    "    'coll' : 'mldata1'\n",
    "}"
   ]
  },
  {
   "cell_type": "code",
   "execution_count": 378,
   "metadata": {},
   "outputs": [],
   "source": [
    "def load_data_from_momgodb(db_obj):\n",
    "    dbname = db_obj['db']\n",
    "    ip = db_obj['ip']\n",
    "    port = db_obj['port']\n",
    "    coll = db_obj['coll']\n",
    "    connection = MongoClient(ip,port)\n",
    "    db = connection[dbname]\n",
    "    exclude_data = {'_id': False}\n",
    "    raw_data = list(db[coll].find({}, projection=exclude_data))\n",
    "    dataset = pd.DataFrame(raw_data)\n",
    "    print(f'Data loaded from mongodb {coll} collection succesfully')\n",
    "    return dataset"
   ]
  },
  {
   "cell_type": "code",
   "execution_count": 379,
   "metadata": {},
   "outputs": [],
   "source": [
    "def save_to_momgodb(df,db_):\n",
    "    data = df.to_dict(orient='records')\n",
    "    dbname = db_['db']\n",
    "    ip = db_['ip']\n",
    "    port = db_['port']\n",
    "    coll = db_['coll']\n",
    "    connection = MongoClient(ip,port)\n",
    "    db = connection[dbname]\n",
    "    col = db[coll].insert_many(data)\n",
    "    print(f'data saved as {coll}')"
   ]
  },
  {
   "cell_type": "code",
   "execution_count": 380,
   "metadata": {},
   "outputs": [],
   "source": [
    "def load_data_from_json(data):\n",
    "    with open(data) as f:\n",
    "            d = json.load(f)\n",
    "        #normalize json\n",
    "    dataset= json_normalize(d)\n",
    "    return dataset"
   ]
  },
  {
   "cell_type": "code",
   "execution_count": 381,
   "metadata": {},
   "outputs": [],
   "source": [
    "def clean_dataset(data):\n",
    "    #select colunms\n",
    "    df = data[['description', 'bereich']]\n",
    "    df = df[df['description'] != '']\n",
    "    df['project'] = df['description']\n",
    "    df['label'] = df['bereich']\n",
    "    df.drop(['description', 'bereich'], axis=1, inplace=True)\n",
    "    df = df[df['label'] != 'IT/Bauingenieur']\n",
    "    df = df.drop_duplicates()\n",
    "    return df"
   ]
  },
  {
   "cell_type": "code",
   "execution_count": 384,
   "metadata": {},
   "outputs": [
    {
     "name": "stdout",
     "output_type": "stream",
     "text": [
      "Data loaded from mongodb itproject_clean collection succesfully\n"
     ]
    }
   ],
   "source": [
    "df = load_data_from_momgodb(db_loc)"
   ]
  },
  {
   "cell_type": "code",
   "execution_count": 386,
   "metadata": {},
   "outputs": [
    {
     "data": {
      "text/plain": [
       "(14059, 25)"
      ]
     },
     "execution_count": 386,
     "metadata": {},
     "output_type": "execute_result"
    }
   ],
   "source": [
    "df.shape"
   ]
  },
  {
   "cell_type": "code",
   "execution_count": 388,
   "metadata": {},
   "outputs": [
    {
     "data": {
      "text/html": [
       "<div>\n",
       "<style scoped>\n",
       "    .dataframe tbody tr th:only-of-type {\n",
       "        vertical-align: middle;\n",
       "    }\n",
       "\n",
       "    .dataframe tbody tr th {\n",
       "        vertical-align: top;\n",
       "    }\n",
       "\n",
       "    .dataframe thead th {\n",
       "        text-align: right;\n",
       "    }\n",
       "</style>\n",
       "<table border=\"1\" class=\"dataframe\">\n",
       "  <thead>\n",
       "    <tr style=\"text-align: right;\">\n",
       "      <th></th>\n",
       "      <th>project</th>\n",
       "      <th>label</th>\n",
       "    </tr>\n",
       "  </thead>\n",
       "  <tbody>\n",
       "    <tr>\n",
       "      <th>0</th>\n",
       "      <td>Für einen unserer Kunden aus dem Finanzdienstl...</td>\n",
       "      <td>Infr-Admin-Microsoft</td>\n",
       "    </tr>\n",
       "    <tr>\n",
       "      <th>1</th>\n",
       "      <td>Kann Profil leider nicht löschen.</td>\n",
       "      <td>IT/Consulting</td>\n",
       "    </tr>\n",
       "    <tr>\n",
       "      <th>2</th>\n",
       "      <td>Business Intelligence Analyst (m/w) - Tableau ...</td>\n",
       "      <td>Data-Sci-BI</td>\n",
       "    </tr>\n",
       "    <tr>\n",
       "      <th>3</th>\n",
       "      <td>Konzeption, Customizing sowie Softwareanpassun...</td>\n",
       "      <td>Dev-Web-Backend</td>\n",
       "    </tr>\n",
       "    <tr>\n",
       "      <th>4</th>\n",
       "      <td>Es sollen mehrere Automatisierungen mit ubot S...</td>\n",
       "      <td>IT/IT</td>\n",
       "    </tr>\n",
       "  </tbody>\n",
       "</table>\n",
       "</div>"
      ],
      "text/plain": [
       "                                             project                 label\n",
       "0  Für einen unserer Kunden aus dem Finanzdienstl...  Infr-Admin-Microsoft\n",
       "1                  Kann Profil leider nicht löschen.         IT/Consulting\n",
       "2  Business Intelligence Analyst (m/w) - Tableau ...           Data-Sci-BI\n",
       "3  Konzeption, Customizing sowie Softwareanpassun...       Dev-Web-Backend\n",
       "4  Es sollen mehrere Automatisierungen mit ubot S...                 IT/IT"
      ]
     },
     "execution_count": 388,
     "metadata": {},
     "output_type": "execute_result"
    }
   ],
   "source": [
    "df = clean_dataset(df)\n",
    "df.head()"
   ]
  },
  {
   "cell_type": "code",
   "execution_count": 389,
   "metadata": {},
   "outputs": [
    {
     "data": {
      "text/plain": [
       "(12130, 2)"
      ]
     },
     "execution_count": 389,
     "metadata": {},
     "output_type": "execute_result"
    }
   ],
   "source": [
    "df.shape"
   ]
  },
  {
   "cell_type": "code",
   "execution_count": 390,
   "metadata": {
    "slideshow": {
     "slide_type": "slide"
    }
   },
   "outputs": [
    {
     "data": {
      "text/html": [
       "<div>\n",
       "<style scoped>\n",
       "    .dataframe tbody tr th:only-of-type {\n",
       "        vertical-align: middle;\n",
       "    }\n",
       "\n",
       "    .dataframe tbody tr th {\n",
       "        vertical-align: top;\n",
       "    }\n",
       "\n",
       "    .dataframe thead th {\n",
       "        text-align: right;\n",
       "    }\n",
       "</style>\n",
       "<table border=\"1\" class=\"dataframe\">\n",
       "  <thead>\n",
       "    <tr style=\"text-align: right;\">\n",
       "      <th></th>\n",
       "      <th>project</th>\n",
       "      <th>label</th>\n",
       "    </tr>\n",
       "  </thead>\n",
       "  <tbody>\n",
       "    <tr>\n",
       "      <th>0</th>\n",
       "      <td>für einen bestehenden Auftrag bei einem unsere...</td>\n",
       "      <td>IT/Produktionst</td>\n",
       "    </tr>\n",
       "    <tr>\n",
       "      <th>1</th>\n",
       "      <td>Für meinen Kunden in Hamburg, suche ich einen ...</td>\n",
       "      <td>IT/Rechnungswes</td>\n",
       "    </tr>\n",
       "    <tr>\n",
       "      <th>2</th>\n",
       "      <td>Scrum Master (w/m) im GR Dortmund für 12+ Mona...</td>\n",
       "      <td>SW-Dev-Others</td>\n",
       "    </tr>\n",
       "    <tr>\n",
       "      <th>3</th>\n",
       "      <td>Projektbeschreibung \\n\\n                      ...</td>\n",
       "      <td>SW-Dev-Others</td>\n",
       "    </tr>\n",
       "    <tr>\n",
       "      <th>4</th>\n",
       "      <td>Selbstständige Bearbeitung von Administrations...</td>\n",
       "      <td>SW-Dev-Others</td>\n",
       "    </tr>\n",
       "  </tbody>\n",
       "</table>\n",
       "</div>"
      ],
      "text/plain": [
       "                                             project            label\n",
       "0  für einen bestehenden Auftrag bei einem unsere...  IT/Produktionst\n",
       "1  Für meinen Kunden in Hamburg, suche ich einen ...  IT/Rechnungswes\n",
       "2  Scrum Master (w/m) im GR Dortmund für 12+ Mona...    SW-Dev-Others\n",
       "3  Projektbeschreibung \\n\\n                      ...    SW-Dev-Others\n",
       "4  Selbstständige Bearbeitung von Administrations...    SW-Dev-Others"
      ]
     },
     "execution_count": 390,
     "metadata": {},
     "output_type": "execute_result"
    }
   ],
   "source": [
    "# shuffle the data\n",
    "df = df.sample(frac=1.0)\n",
    "df.reset_index(drop=True,inplace=True)\n",
    "df.head()"
   ]
  },
  {
   "cell_type": "code",
   "execution_count": 393,
   "metadata": {
    "slideshow": {
     "slide_type": "slide"
    }
   },
   "outputs": [
    {
     "data": {
      "text/plain": [
       "'für einen bestehenden Auftrag bei einem unserer Direktkunden suchen wir eine(n) \\n \\nSenior Prozessplaner Frontantriebler KFZ-Vormontage (m/w) \\nBeginn: a.s.a.p. / Dauer: 12 Monate / Ort: Raum Baden-Baden / Projekt-ID: 3903 \\n \\nUnser Kunde ist einer der Top Global Player der Automotive Industrie. Als Senior Prozessplaner unterstützen Sie das Team bei der Beplanung und Ausplanung neuer und vorhandener Arbeitsplätze, sind verantwortlich für MTM-Analysen, inkl. der Erstellung von Handlungsempfehlungen.  \\n \\nIhre Aufgaben: \\no\\tBeplanung und Ausplanung neuer und vorhandener Arbeitsplätze \\no\\tDurchführung von MTM-Anlaysen \\no\\tAnalyse und Optimierung von Montageabläufen in den Bereichen Motoren, Lenkung und Abgasanlagen \\no\\tErstellung von Materiallayouts \\no\\tAnalyse von Zeitaufwänden und Optimierung von nicht produktiven Zeiten \\no\\tErstellung und Präsentation von Handlungsempfehlungen \\n \\nIhr Profil: \\no\\tMehrjährige Erfahrung innerhalb der Automobilindustrie mit Schwerpunkte Montage \\no\\tFundierte Erfahrung mit dem MTM-Prozessbausteinsystem inkl. UAS Universalanalysiersystem zur Prozess- und Zeitenanalyse \\no\\tErfahrung mit den C-Werten der MTM-Planzeitwerte wünschenswert \\no\\tNachweislich Erfahrung beim Analysieren und Optimieren von Montageabläufen \\no\\tIdealerweise Erfahrung mit den Prozesswerkzeugen DPE, ProPlan, Dialog, LTM \\no\\tGestandene Persönlichkeit und lösungsorientierter Arbeitsstil mit viel Eigeninitiative, analytischem Denkvermögen sowie einer schnellen Auffassungsgabe \\no\\tKommunikativer Teamplayer mit Hands-On Mentalität und Durchsetzungsvermögen \\n \\nWir freuen uns auf Ihre Bewerbung oder ggf. Ihre Empfehlung eines geeigneten Kollegen. Bitte senden Sie Ihr aktuelles Profil in Deutsch oder Englisch.'"
      ]
     },
     "execution_count": 393,
     "metadata": {},
     "output_type": "execute_result"
    }
   ],
   "source": [
    "df.iloc[0,0]"
   ]
  },
  {
   "cell_type": "code",
   "execution_count": 394,
   "metadata": {
    "slideshow": {
     "slide_type": "slide"
    }
   },
   "outputs": [
    {
     "data": {
      "text/plain": [
       "691"
      ]
     },
     "execution_count": 394,
     "metadata": {},
     "output_type": "execute_result"
    }
   ],
   "source": [
    "# load nltk's German and english stopwords'\n",
    "import nltk\n",
    "with open('../german_stopwords_full.txt', 'r') as f:\n",
    "    stopwords_germ = f.read().splitlines()\n",
    "\n",
    "stopwords_eng = nltk.corpus.stopwords.words('english')\n",
    "extra = ['projektbeschreibung', 'melden', 'sich', 'jetzt', 'bewerben', 'direkt', 'jetzt', 'bewerben', 'unser', 'kunde','deutscher','bewerben', 'bewerb', 'koln', 'köln' 'direkt','herzlichen', 'melden', 'www', 'contactor', 'erfahrung', 'kenntnisse', 'kenntnis''contractor','https','de','impressum','munchen', 'münchen','frankfurt', 'suchen', 'kunden','bitte', 'inkl', 'bereich', 'einsatzort', 'dauer', 'umfeld', 'gmbh', 'pt', 'aufgaben', 'anforderungen', 'informationen', 'kunden', 'münchen', 'referenz', 'aufnehmen', 'profitieren', 'email', 'freuen', 'vorteile', 'ansprechpartner', 'beginn', 'qualifikation', 'referenznummer', 'unternehmen', 'dauer', 'passende', 'positionen', 'hays', 'kontakt', 'aufgaben']\n",
    "extra1 = ['ort', 'customizing', 'freuen', 'fiori', 'bitte', 'basis', 'months', 'team', 'location', 'good', 'work', 'working', 'freitag', 'client', 'looking', 'knowledge', 'skills', 'experience', 'auftraggebers', 'jan', 'interessanten', 'selbstverständlich', 'bieten', 'freundlichen','understanding', 'service','firmensitz', 'fax', 'mobil', 'information', 'hrb', 'geschäftsführer','expertise', 'ready', 'honorarsatz', 'excellence', 'spannenden','abhängig', 'interessen', 'abwechslungsreiche', 'aussicht', 'aufgabe',]\n",
    "extra2 = ['remote', 'interesse', 'laufzeit', 'freue', 'gerne', 'projekt', 'raum', 'auslastung','start', 'monate', 'erstellung','anzahl', 'personen', 'tagessatzes','völlig', 'bond', 'amoria', 'rahmenbedingungen', 'interessante', 'sicher', 'stellen', 'sektor', 'öffentlichen', 'experten','wachsen', 'frau', 'gestaltungsmöglichkeiten', 'arbeitsbereiches',  'grad', 'neueste', 'universität', 'gezielte', 'teamfähigkeit', 'engagierten', 'vorteil', 'mindestens', 'join', 'bewerbungsunterlagen', 'kommunikation', 'yrs','bitten']\n",
    "extra3 = ['zeitraum', 'profil', 'senden', 'format', 'std','geehrte', 'damen', 'herren', 'verfügung', 'aktuell','woche','senior','möchten', 'gewünschten','new', 'product', 'strong', 'language','based', 'new', 'teams', 'contact', 'tasks','role', 'end', 'customer', 'required', 'michael', 'bailey', 'vermitteln', 'unterbreiten', 'pdf', 'intensiven','high', 'code', 'communication','holger', 'manager', 'anfragen', 'beratung', 'accounting', 'zukommen', 'lassen', 'munich','kompetenzen', 'verfügt', 'breites',  'individuellen', 'erbracht', 'standards', 'ag', 'isax', 'komponenten', 'abgabefrist', 'technischen', 'kompetent']\n",
    "extra4 = ['königstein', 'percision', 'eu', 'id', 'verfügbarkeit', 'freuen', 'sofort', 'option', 'grüßen', 'profil', 'bitte', 'unseren', 'bewerbung', 'köln', 'mail', 'herr', 'zusendung','connect', 'alexander', 'nutzen','registrieren', 'rollout', 'angebot', 'erstellen', 'zusammenarbeit', 'rahmen', 'einfach','qualifikationsprofils', 'technologiedienstleistern', 'engineering', 'branchen', 'freiberuflicheinsatzort', 'technologiedienstleistern', 'technologies', 'engineer', 'engineering',\"zb\",\"persnlich\",\"abgeschloss\",\"futur\",\"teamfhig\",\"anwend\",\"berufserfahr\",\"festanstell\",\"refnr\",\"personaldienstleist\",\"fhrungskrft\",\"foundation\",\"websph\",\"studium\",\"selbstndig\",\"selbststndig\",\"informat\",\"arbeitgeb\",'fr','mwd', 'nd', \"verfgbar\",'verfgung' , 'kln', 'mnchen', 'richtig', 'interesting','knnen', 'ber', 'langjhrig', 'mw', 'durchfhrung']\n",
    "extra5 = ['deutsch','fachlichen', 'group','keil', 'montreal', 'associates', 'level', 'system', 'english', 'change', 'german', 'stundensatzvorstellung', 'wecken', 'führenden', 'weltweit', 'kontaktperson', 'kenntnissen', 'wort', 'schrift', 'spannende', 'herausgeben', 'weiterführende', 'spannendes', 'stundensätzen', 'preisvorgabe', 'bestmöglichen','engagierte', 'tellerrand', 'blicken', 'herausforderungen', 'wirtschaft', 'karten', 'sucht','honorierung', 'design', 'entsprechende', 'ausschließlich', 'zukünftigen', 'beachten', 'wien', 'sitz', 'arbeitszeiten', 'flexible', 'prozesse', 'schanzenstrasse', 'beratungsgesellschaft', 'mbh', 'technologien', 'homepage', 'direkte', 'falls', 'management']\n",
    "extra6 = ['niederlassung', 'ferchau', 'ref', 'partner', 'bereichen', 'aussagekräftigen', 'angabe', 'projekte', 'einsatz', 'zusendung', 'arbeiten', 'betrieb', 'durchführung', 'erfahrungen', 'herr', 'fragen','passenden', 'bringen', 'mitarbeiter','zusätzliche','ausbildung', 'persönliche', 'fachhochschule', 'htl', 'aufgabengebiet', 'langjährigen','betroffenenrechte','registergericht', 'erfolgt', 'stets', 'spezialisten', 'erkennen', 'initiativ', 'persönlich', 'beantwortet', 'unterlagen', 'functional']\n",
    "extra7 = ['fachwissen', 'führungskräfte', 'chance', 'fundiertes', 'angabe', 'level', 'top', 'verlängerungsoption', 'hierfür', 'englisch', 'umsetzung', 'unserem', 'deutsch', 'asap', 'kunde',  'deutsch', 'verfügbar','erstellen', 'zusammenarbeit','link', 'love', 'ulrich','spitzenunternehmen', 'solcom', 'entscheidet', 'zählt', 'global', 'agierender', 'innovation','template', 'ability','controlling', 'sprache', 'schneller', 'empfehlen', 'entscheidung', 'telefonische', 'telefon']\n",
    "extra8 = ['endkunden', 'cv', 'stundensatzes', 'aktuellen', 'hamburg', 'angabe', 'verlängerung', 'gesucht', 'vollzeit', 'unterstützung', 'standort', 'cv', 'using', 'please',  'germany',  'duration',  'german',  'years',  'english', 'angaben', 'alter', 'hinblick', 'bewerbungen', 'geschlecht', 'herzlichen', 'kontaktdaten', 'zustimmung', 'grüße', 'ariba', 'us', 'fokus', 'beste', 'services', 'stingel', 'voraus', 'geweckt','deutschkenntnisse','interessiert','noack', 'märz', 'berücksichtigen', 'recruitment','modern', 'qualifications', 'free',  'use', 'customers', 'bestätigen',  'einführung', 'details', 'branche','find', 'make', 'text']\n",
    "extra9 = ['fragen', 'asap','recruiter', 'kandidaten', 'genannten', 'aktuellen','erfahrungen', 'kostenfrei', 'finden', 'asap', 'düsseldorf', 'telefonisch', 'standort', 'folgenden', 'stundensatzvorstellung', 'jederzeit', 'geforderten', 'rückfragen', 'vollzeit', 'deutsch', 'verlängerung', 'zusendung', 'per', 'hamburg', 'stehen',  'cv', 'erfahrungen', 'main', 'solution', 'job', 'ax', 'nav','projektdetails', 'anschluss', 'migration', 'vereinbart', 'kurzfristig', 'interviews',]\n",
    "extra10 = ['komplexer', 'amtsgericht', 'geschäftsführung','datenschutz', 'automotive','umgang','wünschenswert', 'nice','within','ipsways', 'aix', 'arbeitsplatz', 'idealerweise', 'anfrage', 'möglichkeit', 'aktuelle', 'onsite', 'beschreibung', 'betreuung', 'nr','stundensatz', 'arbeitsende', 'arbeitsbeginn','zugang', 'reizvollen', 'größen', 'rekrutierung', 'angebote', 'erfahren', 'attraktive', 'kontakte','englischkenntnisse','science','mehrjährige', 'must', 'freelance', 'environment','logistik']\n",
    "extra11 = ['them', 'interested','jahren','wordformat','tel','stellentyp','suche','projekten', 'office', 'jahre','tage','projektteams','kurzfristigen', 'dienstleistungen', 'rahmenvertragspartner', 'qualifizierte', 'motivierte', 'weinbergstraße', 'zuverlässig', 'spektrum', 'angebotsabgabe', 'grotz', 'fulltime', 'jobs', 'kolleginnen', 'zugesicherte','anlehnung','currently','anspruchsvolle', 'leistungsbereitschaft', 'projektbörse', 'archiviert', 'vakante', 'renommierten', 'ergebnisorientierung', 'word', 'profils', 'feedback', 'mitwirkung', 'projektbeschreibung', 'schicken', 'leistungsorientierte', 'aktiv', 'suche','fachausdrücke', 'diskriminierend', 'fundierte', 'qualifikationen','aktuelles', 'fähigkeiten','hause','verwenden', 'projekterfahrung','ust', 'kastenmeier', 'xxxx', 'co', 'board', 'deutschlandweit', 'projektteams', 'angebotsabgabe', 'grotz', 'fulltime', 'jobs','wordformat', 'kolleginnen', 'zugesicherte','tätigkeit', 'bergheimer', 'fundierte', 'tage', 'projektverlängerung', 'freiberuflichen', 'kreativität', 'erhebung', 'anspruchsvolle', 'leistungsbereitschaft', 'projektbörse', 'archiviert', 'vakante', 'renommierten', 'ergebnisorientierung', 'word', 'profils', 'feedback', 'mitwirkung', 'projektbeschreibung', 'schicken', 'leistungsorientierte','hinweg', 'rekrutierungserfahrung', 'kundenbeziehungen', 'endkundenprojekte', 'industriebranchen', 'bewerbungsprozess','abstimmung', 'alters', 'fachausdrücke', 'diskriminierend', 'fundierte', 'qualifikationen','rahmenverträge', 'anlagenbuchhaltung', 'branchenkompetenz', 'kommerzielle', 'entscheidende', 'acting', 'vacancy', 'suche', 'relation', 'unbefristet', 'erfolg', 'effizienz', 'daniel', 'kundenanfragen', 'freiberuflich', 'eventuell', 'besetzen', 'richten','able', 'written', 'month', 'including', 'provide', 'one', 'area', 'time', 'quality', 'tools', 'like', 'industry', 'date', 'would', 'experienced','extension', 'international', 'excellent',  'description', 'contract', 'projects', 'company', 'process', 'interested', 'fluent', 'currently', 'projektbeschreibung', 'optimale', 'ilhan', 'babac', 'schwerpunkt', 'finance', 'corporate', 'rufen', 'telefone', 'eventuell', 'innovativen', 'wünschen', 'realisierung', 'tel', 'zeit', 'interim', 'spezifikation', 'maximilian', 'projektort', 'phasen', 'projekten', 'tätigkeit', ]\n",
    "ext = extra + extra1 + extra2 + extra3 + extra4 + extra5 + extra6 + extra7 + extra8 + extra9 + extra10 + extra11\n",
    "len(ext)"
   ]
  },
  {
   "cell_type": "code",
   "execution_count": 395,
   "metadata": {
    "slideshow": {
     "slide_type": "slide"
    }
   },
   "outputs": [
    {
     "data": {
      "text/plain": [
       "609"
      ]
     },
     "execution_count": 395,
     "metadata": {},
     "output_type": "execute_result"
    }
   ],
   "source": [
    "all_extras = list(set(extra + extra1 + extra2 + extra3 + extra4 + extra5 + extra6 + extra7 + extra8 + extra9 + extra10 + extra11))\n",
    "stopwords = stopwords_germ + stopwords_eng + all_extras + cities\n",
    "len(all_extras)\n"
   ]
  },
  {
   "cell_type": "markdown",
   "metadata": {},
   "source": [
    "from string import punctuation\n",
    "from nltk import pos_tag\n",
    "from nltk.stem import WordNetLemmatizer\n",
    "from nltk.tokenize import word_tokenize\n",
    "wnl = WordNetLemmatizer()\n",
    "\n",
    "def penn2morphy(penntag):\n",
    "    \"\"\" Converts Penn Treebank tags to WordNet. \"\"\"\n",
    "    morphy_tag = {'NN':'n', 'JJ':'a',\n",
    "                  'VB':'v', 'RB':'r'}\n",
    "    try:\n",
    "        return morphy_tag[penntag[:2]]\n",
    "    except:\n",
    "        return 'n' \n",
    "    \n",
    "def lemmatize_sent(text): \n",
    "    # Text input is string, returns lowercased strings.\n",
    "    return [wnl.lemmatize(word.lower(), pos=penn2morphy(tag)) \n",
    "            for word, tag in pos_tag(word_tokenize(text))]\n",
    "\n",
    "lemmatize_sent('He is walking to school')"
   ]
  },
  {
   "cell_type": "code",
   "execution_count": 396,
   "metadata": {},
   "outputs": [],
   "source": [
    "import string\n",
    "from string import punctuation"
   ]
  },
  {
   "cell_type": "code",
   "execution_count": 397,
   "metadata": {},
   "outputs": [],
   "source": [
    "def tokenize(text):\n",
    "    \"\"\"Normalize, tokenize and stem text string\n",
    "    \n",
    "    Args:\n",
    "    text: string. String containing message for processing\n",
    "       \n",
    "    Returns:\n",
    "    cleaned: list of strings. List containing normalized and stemmed word tokens\n",
    "    \"\"\"\n",
    "\n",
    "    try:\n",
    "        text = re.sub(r'(\\d)',' ',text.lower())\n",
    "        text = re.sub('[%s]' % re.escape(string.punctuation), ' ', text)\n",
    "        tokens = word_tokenize(text)\n",
    "        cleaned = [word for word in tokens if word not in stopwords and len(word) > 1]\n",
    "\n",
    "    except IndexError:\n",
    "        pass\n",
    "\n",
    "    return cleaned"
   ]
  },
  {
   "cell_type": "code",
   "execution_count": 398,
   "metadata": {
    "slideshow": {
     "slide_type": "slide"
    }
   },
   "outputs": [
    {
     "name": "stdout",
     "output_type": "stream",
     "text": [
      "Time taken to prepare 12130 projects documents: 6.167273151874542 min\n"
     ]
    }
   ],
   "source": [
    "# clean text and title and create new column \"tokenized\"\n",
    "t1 = time.time()\n",
    "df['ready'] = df['project'].apply(tokenize)\n",
    "t2 = time.time()\n",
    "print(\"Time taken to prepare\", len(df), \"projects documents:\", (t2-t1)/60, \"min\")"
   ]
  },
  {
   "cell_type": "code",
   "execution_count": 399,
   "metadata": {
    "slideshow": {
     "slide_type": "slide"
    }
   },
   "outputs": [
    {
     "data": {
      "text/html": [
       "<div>\n",
       "<style scoped>\n",
       "    .dataframe tbody tr th:only-of-type {\n",
       "        vertical-align: middle;\n",
       "    }\n",
       "\n",
       "    .dataframe tbody tr th {\n",
       "        vertical-align: top;\n",
       "    }\n",
       "\n",
       "    .dataframe thead th {\n",
       "        text-align: right;\n",
       "    }\n",
       "</style>\n",
       "<table border=\"1\" class=\"dataframe\">\n",
       "  <thead>\n",
       "    <tr style=\"text-align: right;\">\n",
       "      <th></th>\n",
       "      <th>project</th>\n",
       "      <th>label</th>\n",
       "      <th>ready</th>\n",
       "    </tr>\n",
       "  </thead>\n",
       "  <tbody>\n",
       "    <tr>\n",
       "      <th>0</th>\n",
       "      <td>für einen bestehenden Auftrag bei einem unsere...</td>\n",
       "      <td>IT/Produktionst</td>\n",
       "      <td>[bestehenden, auftrag, direktkunden, prozesspl...</td>\n",
       "    </tr>\n",
       "    <tr>\n",
       "      <th>1</th>\n",
       "      <td>Für meinen Kunden in Hamburg, suche ich einen ...</td>\n",
       "      <td>IT/Rechnungswes</td>\n",
       "      <td>[buchhalter, vorbereitende, nebenkostenabrechn...</td>\n",
       "    </tr>\n",
       "    <tr>\n",
       "      <th>2</th>\n",
       "      <td>Scrum Master (w/m) im GR Dortmund für 12+ Mona...</td>\n",
       "      <td>SW-Dev-Others</td>\n",
       "      <td>[scrum, master, gr, scrum, gr, scrum, master, ...</td>\n",
       "    </tr>\n",
       "    <tr>\n",
       "      <th>3</th>\n",
       "      <td>Projektbeschreibung \\n\\n                      ...</td>\n",
       "      <td>SW-Dev-Others</td>\n",
       "      <td>[risikomanager, mm, überarbeitung, existierend...</td>\n",
       "    </tr>\n",
       "    <tr>\n",
       "      <th>4</th>\n",
       "      <td>Selbstständige Bearbeitung von Administrations...</td>\n",
       "      <td>SW-Dev-Others</td>\n",
       "      <td>[selbstständige, bearbeitung, administrations,...</td>\n",
       "    </tr>\n",
       "  </tbody>\n",
       "</table>\n",
       "</div>"
      ],
      "text/plain": [
       "                                             project            label  \\\n",
       "0  für einen bestehenden Auftrag bei einem unsere...  IT/Produktionst   \n",
       "1  Für meinen Kunden in Hamburg, suche ich einen ...  IT/Rechnungswes   \n",
       "2  Scrum Master (w/m) im GR Dortmund für 12+ Mona...    SW-Dev-Others   \n",
       "3  Projektbeschreibung \\n\\n                      ...    SW-Dev-Others   \n",
       "4  Selbstständige Bearbeitung von Administrations...    SW-Dev-Others   \n",
       "\n",
       "                                               ready  \n",
       "0  [bestehenden, auftrag, direktkunden, prozesspl...  \n",
       "1  [buchhalter, vorbereitende, nebenkostenabrechn...  \n",
       "2  [scrum, master, gr, scrum, gr, scrum, master, ...  \n",
       "3  [risikomanager, mm, überarbeitung, existierend...  \n",
       "4  [selbstständige, bearbeitung, administrations,...  "
      ]
     },
     "execution_count": 399,
     "metadata": {},
     "output_type": "execute_result"
    }
   ],
   "source": [
    "df.head()"
   ]
  },
  {
   "cell_type": "markdown",
   "metadata": {},
   "source": [
    "av = {\n",
    "    'admin': 'administration',\n",
    "    \n",
    "    'architektur' : 'architekture',\n",
    "   \n",
    "    \n",
    "    'agile' : 'agile',\n",
    "    \n",
    "    'analys': 'analyst',\n",
    "    \n",
    "    'app': 'application',\n",
    "    'anwendungen' : 'application',\n",
    "    'applikationen' : 'application',\n",
    "    \n",
    "    'automat': 'automate',\n",
    "    \n",
    "    'consultant' : 'berater',\n",
    "    'berater': 'berater',\n",
    "    \n",
    "    'cisco': 'cisco',\n",
    "    \n",
    "    'container': 'containerization',\n",
    "    \n",
    "    \n",
    "   \n",
    "    \n",
    "    'entwick': 'entwicklung',\n",
    "    'developer': 'entwicklung',\n",
    "    'programming': 'entwicklung',\n",
    "    'entwickler' : 'entwicklung',\n",
    "    \n",
    "    'framework': 'framework'\n",
    "    \n",
    "    'interface' : 'schnittstellen',\n",
    "    \n",
    "    'implement' : 'implementation', \n",
    "    \n",
    "    'mobil': 'mobil',\n",
    "    \n",
    "    'scrum': 'scrum',\n",
    "    \n",
    "    'sap' : 'sap'\n",
    "    \n",
    "    'softwar': 'software',\n",
    "    \n",
    "    'system': 'system',\n",
    "  \n",
    "}"
   ]
  },
  {
   "cell_type": "code",
   "execution_count": null,
   "metadata": {},
   "outputs": [],
   "source": [
    "'absprache', \n",
    "'bestehenden'\n",
    "'berufserfahrung',\n",
    "\n",
    "'com',\n",
    "'contractor',\n",
    "\n",
    "'dienstleister',\n",
    "'fachliche', \n",
    "\n",
    "'hr',\n",
    "\n",
    "'know',\n",
    "'kollegen',\n",
    "\n",
    "\n",
    "\n",
    "'lösungen',\n",
    "\n",
    "'position',\n",
    "\n",
    "'rückmeldung',\n",
    "\n",
    "'schnittstellen', \n",
    "'solutions', \n",
    "\n",
    "'tag',\n",
    "'tätigkeiten', \n",
    "\n",
    "'umfangreiche',\n",
    "'user',\n",
    "\n",
    "'verständnis',\n"
   ]
  },
  {
   "cell_type": "code",
   "execution_count": null,
   "metadata": {},
   "outputs": [],
   "source": [
    "new_stop = ['know','com','schnittstellen', 'lösungen','solutions', 'user','position','bestehenden']\n",
    "new_stop1 = ['rückmeldung', 'contractor', 'berufserfahrung', 'dienstleister',  'absprache', 'umfangreiche']\n",
    "new_stop2 = ['tag', 'kollegen', 'fachliche', 'verständnis', 'hr', 'tätigkeiten', 'gl', 'umgebung', '§§', 'gr']\n",
    "new_stop3 = ['hands', 'aufgabenbeschreibung', 'anpassung', 'gemäß', 'durchführen','hören', 'ausgeprägte']\n",
    "new_stop4 = ['interessant', 'kontaktaufnahme', 'deutschland', 'via', 'sprachen', 'mitbringen', 'lebenslauf']\n",
    "new_stop5 = ['st', 'bewertung', 'langjährige', 'grundkenntnisse', 'erforderlich', 'abgeschlossenes', 'externe']\n",
    "new_stop6 = ['bereitstellung', 'festanstellung', 'reviews', 'projektsprache', 'fähigkeit', 'erfahrenen', 'standard']\n",
    "new_stop7 = ['prozess', 'technology']"
   ]
  },
  {
   "cell_type": "code",
   "execution_count": 400,
   "metadata": {
    "slideshow": {
     "slide_type": "slide"
    }
   },
   "outputs": [
    {
     "data": {
      "text/plain": [
       "47719"
      ]
     },
     "execution_count": 400,
     "metadata": {},
     "output_type": "execute_result"
    }
   ],
   "source": [
    "# first get a list of all words\n",
    "words_in_df = [word for item in list(df['ready']) for word in item]\n",
    "# use nltk fdist to get a frequency distribution of all words\n",
    "fdist = FreqDist(words_in_df)\n",
    "len(fdist) # number of unique words"
   ]
  },
  {
   "cell_type": "code",
   "execution_count": 402,
   "metadata": {
    "slideshow": {
     "slide_type": "slide"
    }
   },
   "outputs": [
    {
     "data": {
      "text/plain": [
       "[('sap', 8071),\n",
       " ('entwicklung', 5069),\n",
       " ('java', 4040),\n",
       " ('software', 3679),\n",
       " ('support', 2709),\n",
       " ('business', 2624),\n",
       " ('entwickler', 2610),\n",
       " ('project', 2541),\n",
       " ('test', 2529),\n",
       " ('windows', 2309),\n",
       " ('server', 2191),\n",
       " ('ms', 2177),\n",
       " ('cloud', 2122),\n",
       " ('sql', 2085),\n",
       " ('analyse', 2050),\n",
       " ('dokumentation', 2027),\n",
       " ('integration', 2010),\n",
       " ('scrum', 1993),\n",
       " ('data', 1981),\n",
       " ('implementierung', 1941),\n",
       " ('development', 1877),\n",
       " ('mm', 1835),\n",
       " ('weiterentwicklung', 1723),\n",
       " ('oracle', 1660),\n",
       " ('know', 1651),\n",
       " ('microsoft', 1641),\n",
       " ('planung', 1610),\n",
       " ('konzeption', 1569),\n",
       " ('linux', 1489),\n",
       " ('web', 1428),\n",
       " ('tests', 1414),\n",
       " ('requirements', 1390),\n",
       " ('security', 1300),\n",
       " ('administration', 1277),\n",
       " ('architektur', 1240),\n",
       " ('anwendungen', 1235),\n",
       " ('javascript', 1216),\n",
       " ('technische', 1201),\n",
       " ('lösungen', 1199),\n",
       " ('agile', 1192),\n",
       " ('systems', 1192),\n",
       " ('technical', 1170),\n",
       " ('spring', 1168),\n",
       " ('programmierung', 1166),\n",
       " ('berater', 1156),\n",
       " ('net', 1152),\n",
       " ('agilen', 1149),\n",
       " ('januar', 1142),\n",
       " ('consultant', 1104),\n",
       " ('berufserfahrung', 1059),\n",
       " ('infrastruktur', 1040),\n",
       " ('daten', 1024),\n",
       " ('koordination', 1018),\n",
       " ('softwareentwicklung', 1013),\n",
       " ('html', 1011),\n",
       " ('enterprise', 1011),\n",
       " ('contractor', 1006),\n",
       " ('systemen', 1002),\n",
       " ('testing', 998),\n",
       " ('projektmanagement', 984),\n",
       " ('arbeitsweise', 980),\n",
       " ('projektstart', 978),\n",
       " ('rest', 970),\n",
       " ('aufbau', 966),\n",
       " ('user', 958),\n",
       " ('angular', 943),\n",
       " ('optimierung', 941),\n",
       " ('systeme', 934),\n",
       " ('bestehenden', 931),\n",
       " ('schnittstellen', 927),\n",
       " ('projektdauer', 918),\n",
       " ('hana', 895),\n",
       " ('application', 890),\n",
       " ('datenbanken', 889),\n",
       " ('backend', 882),\n",
       " ('applikationen', 882),\n",
       " ('frontend', 860),\n",
       " ('konfiguration', 852),\n",
       " ('steuerung', 849),\n",
       " ('developer', 827),\n",
       " ('voraussetzungen', 822),\n",
       " ('jira', 820),\n",
       " ('jenkins', 819),\n",
       " ('monitoring', 814),\n",
       " ('abap', 804),\n",
       " ('position', 785),\n",
       " ('pflege', 779),\n",
       " ('docker', 775),\n",
       " ('implementation', 773),\n",
       " ('solutions', 764),\n",
       " ('reporting', 760),\n",
       " ('wochen', 759),\n",
       " ('css', 759),\n",
       " ('aws', 758),\n",
       " ('sicherstellung', 751),\n",
       " ('deployment', 751),\n",
       " ('abgeschlossenes', 745),\n",
       " ('continuous', 745),\n",
       " ('fachliche', 737),\n",
       " ('com', 733)]"
      ]
     },
     "execution_count": 402,
     "metadata": {},
     "output_type": "execute_result"
    }
   ],
   "source": [
    "#the bottom 10 words of the top 14000 words in df\n",
    "top_k_words = fdist.most_common(14000)\n",
    "\n",
    "#Least occuring words\n",
    "least_occurred_word = top_k_words[:100]\n",
    "least_occurred_word"
   ]
  },
  {
   "cell_type": "raw",
   "metadata": {
    "slideshow": {
     "slide_type": "slide"
    }
   },
   "source": [
    "# top 1000 words in df\n",
    "top_k_words = fdist.most_common(2000)\n",
    "top_k_words[-20:]"
   ]
  },
  {
   "cell_type": "code",
   "execution_count": 33,
   "metadata": {},
   "outputs": [
    {
     "data": {
      "text/plain": [
       "{'rechtlich',\n",
       " 'endanw',\n",
       " 'visio',\n",
       " 'entwurf',\n",
       " 'verlngerungsoption',\n",
       " 'weblogic',\n",
       " 'interview',\n",
       " 'sapmodul',\n",
       " 'carlbenzstr',\n",
       " 'analyst',\n",
       " 'vorab',\n",
       " 'neuentwickl',\n",
       " 'hierzu',\n",
       " 'fachlich',\n",
       " 'tim',\n",
       " 'ee',\n",
       " 'tagewoch',\n",
       " 'aktuell',\n",
       " 'einarbeit',\n",
       " 'nhe',\n",
       " 'coaching',\n",
       " 'ip',\n",
       " 'kundennh',\n",
       " 'project',\n",
       " 'operational',\n",
       " 'provid',\n",
       " 'cs',\n",
       " 'aws',\n",
       " 'payment',\n",
       " 'zhlt',\n",
       " 'ticketbearbeit',\n",
       " 'checkpoint',\n",
       " 'fiaa',\n",
       " 'auswahl',\n",
       " 'mandant',\n",
       " 'enterpris',\n",
       " 'lern',\n",
       " 'opportunity',\n",
       " 'candidat',\n",
       " 'umfasst',\n",
       " 'cycl',\n",
       " 'mast',\n",
       " 'success',\n",
       " 'fullstack',\n",
       " 'analys',\n",
       " 'ablauf',\n",
       " 'check',\n",
       " 'affinitt',\n",
       " 'freund',\n",
       " 'test',\n",
       " 'advantag',\n",
       " 'tagesgeschft',\n",
       " 'liv',\n",
       " 'extend',\n",
       " 'profilvorgab',\n",
       " 'uat',\n",
       " 'typescript',\n",
       " 'entwicklungserfahr',\n",
       " 'closely',\n",
       " 'mnster',\n",
       " 'serviceorientiert',\n",
       " 'exposur',\n",
       " 'consulting',\n",
       " 'systemoptimier',\n",
       " 'nchste',\n",
       " 'adressat',\n",
       " 'auftrg',\n",
       " 'fon',\n",
       " 'soap',\n",
       " 'datenmeng',\n",
       " 'teilprojektleit',\n",
       " 'trading',\n",
       " 'testmanag',\n",
       " 'net',\n",
       " 'optional',\n",
       " 'modellier',\n",
       " 'matlab',\n",
       " 'london',\n",
       " 'auftrag',\n",
       " 'userstori',\n",
       " 'apach',\n",
       " 'standardisier',\n",
       " 'sector',\n",
       " 'auftraggeb',\n",
       " 'additional',\n",
       " 'cd',\n",
       " 'vertraut',\n",
       " 'fix',\n",
       " 'berechtigungskonzept',\n",
       " 'regard',\n",
       " 'coordination',\n",
       " 'schaeff',\n",
       " 'bigg',\n",
       " 'dokumenti',\n",
       " 'json',\n",
       " 'erfass',\n",
       " 'startdatum',\n",
       " 'javascript',\n",
       " 'asapdau',\n",
       " 'bachelor',\n",
       " 'front',\n",
       " 'umgeb',\n",
       " 'ehs',\n",
       " 'py',\n",
       " 'ticket',\n",
       " 'iaas',\n",
       " 'bevorzugt',\n",
       " 'os',\n",
       " 'junior',\n",
       " 'allin',\n",
       " 'primary',\n",
       " 'implementation',\n",
       " 'fscd',\n",
       " 'relational',\n",
       " 'worddokument',\n",
       " 'pi',\n",
       " 'profund',\n",
       " 'mitbring',\n",
       " 'bwhana',\n",
       " 'apo',\n",
       " 'datacent',\n",
       " 'authentifizier',\n",
       " 'kundenorientier',\n",
       " 'phon',\n",
       " 'bau',\n",
       " 'rollout',\n",
       " 'extensiv',\n",
       " 'jenkin',\n",
       " 'speak',\n",
       " 'umsetz',\n",
       " 'cor',\n",
       " 'development',\n",
       " 'bmc',\n",
       " 'projektlaufzeit',\n",
       " 'clust',\n",
       " 'html',\n",
       " 'rail',\n",
       " 'vorgehensmodell',\n",
       " 'juni',\n",
       " 'erfolgreich',\n",
       " 'divers',\n",
       " 'hdfs',\n",
       " 'different',\n",
       " 'jsf',\n",
       " 'interfac',\n",
       " 'uhr',\n",
       " 'sw',\n",
       " 'cyb',\n",
       " 'hybrid',\n",
       " 'brggemann',\n",
       " 'personenbezog',\n",
       " 'projektarbeit',\n",
       " 'implementiert',\n",
       " 'vakanz',\n",
       " 'regel',\n",
       " 'schema',\n",
       " 'jahres',\n",
       " 'abrechn',\n",
       " 'zuverlss',\n",
       " 'bw',\n",
       " 'itdienstleist',\n",
       " 'praktisch',\n",
       " 'technolog',\n",
       " 'mav',\n",
       " 'einsatzortfrankfurt',\n",
       " 'kompetent',\n",
       " 'zustndig',\n",
       " 'mapping',\n",
       " 'schlsselwrt',\n",
       " 'afra',\n",
       " 'entwicklerteam',\n",
       " 'hardwareinstallation',\n",
       " 'simulation',\n",
       " 'wrzburg',\n",
       " 'angesproch',\n",
       " 'mitt',\n",
       " 'webserv',\n",
       " 'implementi',\n",
       " 'umsetzungsmg',\n",
       " 'dennis',\n",
       " 'ua',\n",
       " 'data',\n",
       " 'comput',\n",
       " 'ensuring',\n",
       " 'linux',\n",
       " 'stakehold',\n",
       " 'period',\n",
       " 'steuer',\n",
       " 'buchhalt',\n",
       " 'verfgt',\n",
       " 'datenmodellier',\n",
       " 'svn',\n",
       " 'weiterfhr',\n",
       " 'colleagu',\n",
       " 'specialist',\n",
       " 'integriert',\n",
       " 'gui',\n",
       " 'methodology',\n",
       " 'ermittl',\n",
       " 'gewnscht',\n",
       " 'volum',\n",
       " 'vereinbart',\n",
       " 'bewert',\n",
       " 'rechenzentrum',\n",
       " 'outlook',\n",
       " 'umstell',\n",
       " 'zeitlich',\n",
       " 'card',\n",
       " 'se',\n",
       " 'delivery',\n",
       " 'saas',\n",
       " 'maintain',\n",
       " 'scrum',\n",
       " 'subversion',\n",
       " 'win',\n",
       " 'ars',\n",
       " 'sccm',\n",
       " 'redux',\n",
       " 'jsp',\n",
       " 'vendor',\n",
       " 'clos',\n",
       " 'fach',\n",
       " 'authorization',\n",
       " 'tool',\n",
       " 'telekommunikation',\n",
       " 'anzeig',\n",
       " 'speaking',\n",
       " 'betreu',\n",
       " 'sas',\n",
       " 'pipelin',\n",
       " 'erarbeitet',\n",
       " 'abbild',\n",
       " 'geschftspartn',\n",
       " 'openshift',\n",
       " 'spring',\n",
       " 'freundlich',\n",
       " 'coach',\n",
       " 'fil',\n",
       " 'mller',\n",
       " 'minimum',\n",
       " 'solid',\n",
       " 'nachgewies',\n",
       " 'versiert',\n",
       " 'ausschreib',\n",
       " 'tdd',\n",
       " 'especially',\n",
       " 'denkvermg',\n",
       " 'berwieg',\n",
       " 'algorithm',\n",
       " 'meldewes',\n",
       " 'anreg',\n",
       " 'ansibl',\n",
       " 'sonar',\n",
       " 'mandatory',\n",
       " 'rcksprach',\n",
       " 'anspruchsvoll',\n",
       " 'programmierrichtlini',\n",
       " 'complet',\n",
       " 'qt',\n",
       " 'kandidat',\n",
       " 'party',\n",
       " 'einsatzzeitraum',\n",
       " 'way',\n",
       " 'qualifizier',\n",
       " 'evtl',\n",
       " 'qa',\n",
       " 'stund',\n",
       " 'dock',\n",
       " 'decision',\n",
       " 'beruht',\n",
       " 'aussagekrft',\n",
       " 'lebenslauf',\n",
       " 'npm',\n",
       " 'musthav',\n",
       " 'min',\n",
       " 'procedur',\n",
       " 'singl',\n",
       " 'konfiguration',\n",
       " 'mes',\n",
       " 'debugging',\n",
       " 'deadlin',\n",
       " 'dynamics',\n",
       " 'dns',\n",
       " 'umgesetzt',\n",
       " 'aspnet',\n",
       " 'query',\n",
       " 'mglichkeit',\n",
       " 'lead',\n",
       " 'isu',\n",
       " 'personalberatungsunternehm',\n",
       " 'kenntnis',\n",
       " 'com',\n",
       " 'needed',\n",
       " 'softwarearchitekt',\n",
       " 'automobilindustri',\n",
       " 'well',\n",
       " 'planung',\n",
       " 'worldwid',\n",
       " 'jahr',\n",
       " 'professional',\n",
       " 'art',\n",
       " 'universitt',\n",
       " 'payroll',\n",
       " 'tief',\n",
       " 'verlsslich',\n",
       " 'fehl',\n",
       " 'driv',\n",
       " 'azur',\n",
       " 'implementier',\n",
       " 'oracl',\n",
       " 'projektstart',\n",
       " 'restservic',\n",
       " 'bentigt',\n",
       " 'softwareentwickl',\n",
       " 'unterschied',\n",
       " 'travel',\n",
       " 'hr',\n",
       " 'itsupport',\n",
       " 'ideally',\n",
       " 'leistungserbring',\n",
       " 'problemls',\n",
       " 'incident',\n",
       " 'abs',\n",
       " 'multipl',\n",
       " 'bankfach',\n",
       " 'jeweil',\n",
       " 'search',\n",
       " 'rahmenvertrg',\n",
       " 'homeoffic',\n",
       " 'supply',\n",
       " 'datensicher',\n",
       " 'internal',\n",
       " 'entscheidungsvorlag',\n",
       " 'juli',\n",
       " 'performanc',\n",
       " 'gehaltsvorstell',\n",
       " 'governanc',\n",
       " 'schlagwrt',\n",
       " 'various',\n",
       " 'vmwar',\n",
       " 'adob',\n",
       " 'desktop',\n",
       " 'lieb',\n",
       " 'htmlcss',\n",
       " 'hinsicht',\n",
       " 'best',\n",
       " 'eudsgvo',\n",
       " 'interessant',\n",
       " 'off',\n",
       " 'talent',\n",
       " 'herzlich',\n",
       " 'optimization',\n",
       " 'zuknftig',\n",
       " 'cloud',\n",
       " 'part',\n",
       " 'strae',\n",
       " 'tcpip',\n",
       " 'advanced',\n",
       " 'cost',\n",
       " 'sd',\n",
       " 'execution',\n",
       " 'bezug',\n",
       " 'lambda',\n",
       " 'stev',\n",
       " 'nchsten',\n",
       " 'year',\n",
       " 'embedded',\n",
       " 'tsql',\n",
       " 'scrumteam',\n",
       " 'solaris',\n",
       " 'einsendeschluss',\n",
       " 'srm',\n",
       " 'task',\n",
       " 'resell',\n",
       " 'geschftsfhrend',\n",
       " 'itprojekt',\n",
       " 'en',\n",
       " 'zahlreich',\n",
       " 'testautomatisi',\n",
       " 'zusend',\n",
       " 'event',\n",
       " 'concept',\n",
       " 'professionalitt',\n",
       " 'finanz',\n",
       " 'arbeitspaket',\n",
       " 'ecommerc',\n",
       " 'inter',\n",
       " 'differenzier',\n",
       " 'automatisiert',\n",
       " 'operi',\n",
       " 'requ',\n",
       " 'einsatz',\n",
       " 'spok',\n",
       " 'amazon',\n",
       " 'expertenkenntnis',\n",
       " 'urlaub',\n",
       " 'sven',\n",
       " 'expertenwiss',\n",
       " 'aufnahm',\n",
       " 'dms',\n",
       " 'version',\n",
       " 'betriebssystem',\n",
       " 'betreut',\n",
       " 'kommunikativ',\n",
       " 'scripting',\n",
       " 'projektkontext',\n",
       " 'fhlen',\n",
       " 'laptop',\n",
       " 'layout',\n",
       " 'gr',\n",
       " 'individuell',\n",
       " 'jquery',\n",
       " 'itbereich',\n",
       " 'sass',\n",
       " 'enabl',\n",
       " 'zwingend',\n",
       " 'umfangreich',\n",
       " 'lsungsorientiert',\n",
       " 'sdmm',\n",
       " 'erwartet',\n",
       " 'bas',\n",
       " 'identity',\n",
       " 'vertragsart',\n",
       " 'datenschutzerklr',\n",
       " 'soapui',\n",
       " 'durchgefhrt',\n",
       " 'selbsteinschtz',\n",
       " 'cms',\n",
       " 'zzgl',\n",
       " 'analyt',\n",
       " 'charg',\n",
       " 'oriented',\n",
       " 'admin',\n",
       " 'releas',\n",
       " 'pag',\n",
       " 'kurz',\n",
       " 'mfc',\n",
       " 'product',\n",
       " 'dien',\n",
       " 'certified',\n",
       " 'camel',\n",
       " 'learning',\n",
       " 'serviceorientier',\n",
       " 'ableit',\n",
       " 'nchstmglich',\n",
       " 'notic',\n",
       " 'machin',\n",
       " 'geschlechtsneutral',\n",
       " 'christian',\n",
       " 'tomcat',\n",
       " 'saf',\n",
       " 'sonstig',\n",
       " 'sdlc',\n",
       " 'innovativ',\n",
       " 'technisch',\n",
       " 'train',\n",
       " 'associat',\n",
       " 'ips',\n",
       " 'verwendet',\n",
       " 'datenmigration',\n",
       " 'knowhow',\n",
       " 'vertrieb',\n",
       " 'hierfr',\n",
       " 'inbetriebnahm',\n",
       " 'changemanagement',\n",
       " 'mind',\n",
       " 'uk',\n",
       " 'abschluss',\n",
       " 'ooaood',\n",
       " 'manahm',\n",
       " 'framework',\n",
       " 'erweiter',\n",
       " 'risik',\n",
       " 'mobility',\n",
       " 'zeitkrit',\n",
       " 'forward',\n",
       " 'consultant',\n",
       " 'endgert',\n",
       " 'nrnberg',\n",
       " 'detail',\n",
       " 'portal',\n",
       " 'sicherstell',\n",
       " 'flow',\n",
       " 'automation',\n",
       " 'related',\n",
       " 'patt',\n",
       " 'personal',\n",
       " 'qm',\n",
       " 'paas',\n",
       " 'profiling',\n",
       " 'functionality',\n",
       " 'istqb',\n",
       " 'ablsung',\n",
       " 'wpf',\n",
       " 'ideal',\n",
       " 'mm',\n",
       " 'insb',\n",
       " 'hinweis',\n",
       " 'valu',\n",
       " 'modul',\n",
       " 'sps',\n",
       " 'onpremis',\n",
       " 'ok',\n",
       " 'deployment',\n",
       " 'git',\n",
       " 'hav',\n",
       " 'berecht',\n",
       " 'explizit',\n",
       " 'natrlich',\n",
       " 'andor',\n",
       " 'erfolg',\n",
       " 'necessary',\n",
       " 'behinder',\n",
       " 'successful',\n",
       " 'entwicklert',\n",
       " 'digitalisier',\n",
       " 'wnschen',\n",
       " 'hinaus',\n",
       " 'agrippinawerft',\n",
       " 'webentwickl',\n",
       " 'elektron',\n",
       " 'mehrjhrig',\n",
       " 'basiert',\n",
       " 'netzwerktechn',\n",
       " 'diagnos',\n",
       " 'gewhrleist',\n",
       " 'erstellt',\n",
       " 'undod',\n",
       " 'solman',\n",
       " 'messaging',\n",
       " 'network',\n",
       " 'verfahr',\n",
       " 'mrz',\n",
       " 'devic',\n",
       " 'vault',\n",
       " 'ausgezeichnet',\n",
       " 'fhigkeit',\n",
       " 'mob',\n",
       " 'ad',\n",
       " 'hand',\n",
       " 'eurstd',\n",
       " 'einstz',\n",
       " 'funktional',\n",
       " 'solution',\n",
       " 'fhrend',\n",
       " 'einzeln',\n",
       " 'lifecycl',\n",
       " 'verstndnis',\n",
       " 'gestellt',\n",
       " 'fachinformat',\n",
       " 'ttig',\n",
       " 'kompetenz',\n",
       " 'unternehm',\n",
       " 'highly',\n",
       " 'stellenanzeig',\n",
       " 'schriftlich',\n",
       " 'absprach',\n",
       " 'kondition',\n",
       " 'ausfhrung',\n",
       " 'availabl',\n",
       " 'studio',\n",
       " 'virtual',\n",
       " 'verteilt',\n",
       " 'pos',\n",
       " 'offshor',\n",
       " 'standort',\n",
       " 'around',\n",
       " 'iso',\n",
       " 'spa',\n",
       " 'js',\n",
       " 'domain',\n",
       " 'receiving',\n",
       " 'funktion',\n",
       " 'geschftszweig',\n",
       " 'chancengleich',\n",
       " 'kommunikationsstrk',\n",
       " 'stand',\n",
       " 'mitarbeit',\n",
       " 'angenehm',\n",
       " 'help',\n",
       " 'monat',\n",
       " 'produkt',\n",
       " 'umfass',\n",
       " 'zug',\n",
       " 'junit',\n",
       " 'verbund',\n",
       " 'einfhrung',\n",
       " 'servicenow',\n",
       " 'virtualisier',\n",
       " 'function',\n",
       " 'abfrag',\n",
       " 'matrix',\n",
       " 'full',\n",
       " 'empfehl',\n",
       " 'inklusiv',\n",
       " 'tableau',\n",
       " 'don',\n",
       " 'namhaft',\n",
       " 'webdesign',\n",
       " 'lotus',\n",
       " 'telefoni',\n",
       " 'leb',\n",
       " 'degre',\n",
       " 'operat',\n",
       " 'switching',\n",
       " 'prfung',\n",
       " 'skript',\n",
       " 'strung',\n",
       " 'laptops',\n",
       " 'bootstrap',\n",
       " 'alignment',\n",
       " 'formulier',\n",
       " 'kafka',\n",
       " 'evaluier',\n",
       " 'mindset',\n",
       " 'platform',\n",
       " 'mehr',\n",
       " 'projektnr',\n",
       " 'symfony',\n",
       " 'dev',\n",
       " 'validier',\n",
       " 'model',\n",
       " 'ooa',\n",
       " 'deep',\n",
       " 'extern',\n",
       " 'ifr',\n",
       " 'englisch',\n",
       " 'netz',\n",
       " 'engin',\n",
       " 'einheit',\n",
       " 'sprint',\n",
       " 'managing',\n",
       " 'interessiert',\n",
       " 'cvs',\n",
       " 'itarchitektur',\n",
       " 'includ',\n",
       " 'fragestell',\n",
       " 'cologn',\n",
       " 'logging',\n",
       " 'medizintechn',\n",
       " 'configuration',\n",
       " 'anschlieend',\n",
       " 'completely',\n",
       " 'arbeitnehmerberlass',\n",
       " 'issu',\n",
       " 'termin',\n",
       " 'niveau',\n",
       " 'fachkenntnis',\n",
       " 'build',\n",
       " 'lay',\n",
       " 'personalreferentin',\n",
       " 'eigeninitiativ',\n",
       " 'dynam',\n",
       " 'ppm',\n",
       " 'hbas',\n",
       " 'cash',\n",
       " 'herausforder',\n",
       " 'projektsprach',\n",
       " 'festangestellt',\n",
       " 'workload',\n",
       " 'touch',\n",
       " 'component',\n",
       " 'hadoop',\n",
       " 'kundenanforder',\n",
       " 'entwickl',\n",
       " 'beratungsunternehm',\n",
       " 'setting',\n",
       " 'anforderungsprofil',\n",
       " 'bzgl',\n",
       " 'kurzfrist',\n",
       " 'speziell',\n",
       " 'phas',\n",
       " 'nachweis',\n",
       " 'verantwort',\n",
       " 'tm',\n",
       " 'prozessberat',\n",
       " 'ssas',\n",
       " 'rul',\n",
       " 'feel',\n",
       " 'go',\n",
       " 'used',\n",
       " 'load',\n",
       " 'microsoft',\n",
       " 'bug',\n",
       " 'ticketsyst',\n",
       " 'javaentwickl',\n",
       " 'systemarchitektur',\n",
       " 'notebook',\n",
       " 'exzellent',\n",
       " 'grokund',\n",
       " 'automated',\n",
       " 'testfll',\n",
       " 'rhel',\n",
       " 'clean',\n",
       " 'vergeb',\n",
       " 'softwarekomponent',\n",
       " 'solving',\n",
       " 'firewall',\n",
       " 'jdbc',\n",
       " 'kontinui',\n",
       " 'patrick',\n",
       " 'contain',\n",
       " 'python',\n",
       " 'projektdau',\n",
       " 'chain',\n",
       " 'strateg',\n",
       " 'gecoansprechpartn',\n",
       " 'weiblich',\n",
       " 'anteil',\n",
       " 'backend',\n",
       " 'hibernat',\n",
       " 'fm',\n",
       " 'security',\n",
       " 'mittelstnd',\n",
       " 'schnittstell',\n",
       " 'technik',\n",
       " 'eg',\n",
       " 'projekteinsatz',\n",
       " 'key',\n",
       " 'standard',\n",
       " 'preferred',\n",
       " 'continous',\n",
       " 'skillprofil',\n",
       " 'manag',\n",
       " 'week',\n",
       " 'proficient',\n",
       " 'modulgruppent',\n",
       " 'activ',\n",
       " 'anbiet',\n",
       " 'bentig',\n",
       " 'praxiserfahr',\n",
       " 'teilweis',\n",
       " 'sich',\n",
       " 'fehleranalys',\n",
       " 'verhandlungssich',\n",
       " 'speich',\n",
       " 'verkauf',\n",
       " 'gefordert',\n",
       " 'mining',\n",
       " 'articl',\n",
       " 'kind',\n",
       " 'attachment',\n",
       " 'analysis',\n",
       " 'schnittstellenprogrammier',\n",
       " 'kg',\n",
       " 'process',\n",
       " 'liberty',\n",
       " 'rac',\n",
       " 'gerichtet',\n",
       " 'msoffic',\n",
       " 'consult',\n",
       " 'angular',\n",
       " 'reviews',\n",
       " 'zielorientiert',\n",
       " 'sdk',\n",
       " 'designing',\n",
       " 'shared',\n",
       " 'portfolio',\n",
       " 'cc',\n",
       " 'intellij',\n",
       " 'eclips',\n",
       " 'gradl',\n",
       " 'scm',\n",
       " 'lschung',\n",
       " 'tak',\n",
       " 'reactjs',\n",
       " 'verwend',\n",
       " 'adamslehmannstr',\n",
       " 'le',\n",
       " 'registriert',\n",
       " 'powershell',\n",
       " 'ios',\n",
       " 'architekturkonzept',\n",
       " 'einhalt',\n",
       " 'darb',\n",
       " 'mathemat',\n",
       " 'play',\n",
       " 'hoh',\n",
       " 'systemlandschaft',\n",
       " 'thema',\n",
       " 'tagessatz',\n",
       " 'anmerk',\n",
       " 'ibm',\n",
       " 'gebiet',\n",
       " 'jpa',\n",
       " 'according',\n",
       " 'templat',\n",
       " 'besond',\n",
       " 'mai',\n",
       " 'codereviews',\n",
       " 'strategi',\n",
       " 'schnellstmglich',\n",
       " 'kennziff',\n",
       " 'mobil',\n",
       " 'form',\n",
       " 'konzeptionell',\n",
       " 'nachhalt',\n",
       " 'togeth',\n",
       " 'dringend',\n",
       " 'bo',\n",
       " 'ressourc',\n",
       " 'lieferpaket',\n",
       " 'momentan',\n",
       " 'bundesweit',\n",
       " 'grundstzlich',\n",
       " 'skill',\n",
       " 'sus',\n",
       " 'implementing',\n",
       " 'releasemanagement',\n",
       " 'sofort',\n",
       " 'gut',\n",
       " 'get',\n",
       " 'evaluation',\n",
       " 'wirtschaftsinformat',\n",
       " 'problem',\n",
       " 'projektmanag',\n",
       " 'berat',\n",
       " 'renommiert',\n",
       " 'sur',\n",
       " 'groprojekt',\n",
       " 'infrastructur',\n",
       " 'belastbar',\n",
       " 'operativ',\n",
       " 'sozial',\n",
       " 'emagin',\n",
       " 'featur',\n",
       " 'wan',\n",
       " 'day',\n",
       " 'jms',\n",
       " 'sourc',\n",
       " 'hyperv',\n",
       " 'auftragnehm',\n",
       " 'upgrad',\n",
       " 'automat',\n",
       " 'directory',\n",
       " 'probl',\n",
       " 'less',\n",
       " 'basic',\n",
       " 'dusseldorf',\n",
       " 'set',\n",
       " 'memb',\n",
       " 'aufgabenbeschreib',\n",
       " 'anwendungsentwickl',\n",
       " 'camunda',\n",
       " 'strut',\n",
       " 'wlan',\n",
       " 'daily',\n",
       " 'besteh',\n",
       " 'oauth',\n",
       " 'funktionalitt',\n",
       " 'opportuniti',\n",
       " 'erklr',\n",
       " 'bearbeit',\n",
       " 'computing',\n",
       " 'automatisier',\n",
       " 'shana',\n",
       " 'stori',\n",
       " 'focus',\n",
       " 'cutov',\n",
       " 'sprachkenntnis',\n",
       " 'transformation',\n",
       " 'neueinfhr',\n",
       " 'entscheid',\n",
       " 'primefac',\n",
       " 'building',\n",
       " 'dsseldorf',\n",
       " 'aufsetz',\n",
       " 'definiert',\n",
       " 'untersttz',\n",
       " 'objektorientiert',\n",
       " 'idr',\n",
       " 'prometheus',\n",
       " 'wildfly',\n",
       " 'organisation',\n",
       " 'ecc',\n",
       " 'vollstndig',\n",
       " 'fulfilment',\n",
       " 'ci',\n",
       " 'maschinenbau',\n",
       " 'vorgab',\n",
       " 'lokal',\n",
       " 'vllig',\n",
       " 'gngig',\n",
       " 'iis',\n",
       " 'right',\n",
       " 'entwicklungsumgeb',\n",
       " 'dafr',\n",
       " 'abwickl',\n",
       " 'infrastruktur',\n",
       " 'umsatzsteuerid',\n",
       " 'technology',\n",
       " 'komplex',\n",
       " 'not',\n",
       " 'workstation',\n",
       " 'stndig',\n",
       " 'modular',\n",
       " 'konzept',\n",
       " 'least',\n",
       " 'possibility',\n",
       " 'abnahm',\n",
       " 'ausgeprgt',\n",
       " 'coordinat',\n",
       " 'emailversand',\n",
       " 'sthree',\n",
       " 'web',\n",
       " 'ffentlich',\n",
       " 'abstimm',\n",
       " 'etl',\n",
       " 'widerruf',\n",
       " 'projekterfahr',\n",
       " 'documentation',\n",
       " 'leitung',\n",
       " 'konzeption',\n",
       " 'automotiveumfeld',\n",
       " 'larg',\n",
       " 'bersend',\n",
       " 'kontaktformular',\n",
       " 'wren',\n",
       " 'autorisier',\n",
       " 'starttermin',\n",
       " 'elektrotechn',\n",
       " 'cross',\n",
       " 'risk',\n",
       " 'nod',\n",
       " 'einricht',\n",
       " 'flexibilitt',\n",
       " 'pfleg',\n",
       " 'switch',\n",
       " 'compani',\n",
       " 'softwarels',\n",
       " 'digital',\n",
       " 'stark',\n",
       " 'itsm',\n",
       " 'testautomatisier',\n",
       " 'reisett',\n",
       " 'roll',\n",
       " 'enhancement',\n",
       " 'reibungslos',\n",
       " 'responsibl',\n",
       " 'ejb',\n",
       " 'exchang',\n",
       " 'xamarin',\n",
       " 'odata',\n",
       " 'rat',\n",
       " 'detailliert',\n",
       " 'architect',\n",
       " 'mdm',\n",
       " 'itpersonalvermittl',\n",
       " 'vergleichbar',\n",
       " 'einschlielich',\n",
       " 'schnell',\n",
       " 'grupp',\n",
       " 'developing',\n",
       " 'administrator',\n",
       " 'employe',\n",
       " 'fachkonzept',\n",
       " 'act',\n",
       " 'berprfung',\n",
       " 'workflows',\n",
       " 'gre',\n",
       " 'nderung',\n",
       " 'fhrerschein',\n",
       " 'vbnet',\n",
       " 'asset',\n",
       " 'department',\n",
       " 'besitz',\n",
       " 'reporting',\n",
       " 'own',\n",
       " 'erlaub',\n",
       " 'rckmeldung',\n",
       " 'durchfhr',\n",
       " 'erfll',\n",
       " 'deutschland',\n",
       " 'gesprch',\n",
       " 'know',\n",
       " 'abdeck',\n",
       " 'updat',\n",
       " 'spark',\n",
       " 'systemadministrator',\n",
       " 'genau',\n",
       " 'open',\n",
       " 'programmi',\n",
       " 'frontend',\n",
       " 'identifikation',\n",
       " 'softwaret',\n",
       " 'nativ',\n",
       " 'themenumfeld',\n",
       " 'bank',\n",
       " 'java',\n",
       " 'webservic',\n",
       " 'transport',\n",
       " 'report',\n",
       " 'asp',\n",
       " 'person',\n",
       " 'auswert',\n",
       " 'regelm',\n",
       " 'itservic',\n",
       " 'spezialisiert',\n",
       " 'projektrahmendat',\n",
       " 'testumgeb',\n",
       " ...}"
      ]
     },
     "execution_count": 33,
     "metadata": {},
     "output_type": "execute_result"
    }
   ],
   "source": [
    "k = 2000\n",
    "unknown = [\"zb\",\"persnlich\",\"abgeschloss\",\"futur\",\"teamfhig\",\"anwend\",\"berufserfahr\",\"festanstell\",\"refnr\",\"personaldienstleist\",\"fhrungskrft\",\"foundation\",\"websph\",\"studium\",\"selbstndig\",\"selbststndig\",\"informat\",\"arbeitgeb\",'fr','mwd', 'nd', \"verfgbar\",'verfgung' , 'kln', 'mnchen', 'richtig', 'interesting','knnen', 'ber', 'langjhrig', 'mw', 'durchfhrung' ]\n",
    "top_words = zip(*fdist.most_common(k))\n",
    "top_words = set(top_words)\n",
    "top_words = {word for sent in top_words for word in sent if type(word) == str}\n",
    "top_words = {word for word in top_words if word not in unknown}\n",
    "top_words"
   ]
  },
  {
   "cell_type": "code",
   "execution_count": 34,
   "metadata": {
    "slideshow": {
     "slide_type": "slide"
    }
   },
   "outputs": [],
   "source": [
    "def most_appeared(text):\n",
    "    return [word for word in text if word in top_words]"
   ]
  },
  {
   "cell_type": "code",
   "execution_count": 35,
   "metadata": {},
   "outputs": [],
   "source": [
    "#Use only document with high frequency\n",
    "df['ready'] = df['ready'].apply(most_appeared)"
   ]
  },
  {
   "cell_type": "code",
   "execution_count": 37,
   "metadata": {},
   "outputs": [
    {
     "data": {
      "text/html": [
       "<div>\n",
       "<style scoped>\n",
       "    .dataframe tbody tr th:only-of-type {\n",
       "        vertical-align: middle;\n",
       "    }\n",
       "\n",
       "    .dataframe tbody tr th {\n",
       "        vertical-align: top;\n",
       "    }\n",
       "\n",
       "    .dataframe thead th {\n",
       "        text-align: right;\n",
       "    }\n",
       "</style>\n",
       "<table border=\"1\" class=\"dataframe\">\n",
       "  <thead>\n",
       "    <tr style=\"text-align: right;\">\n",
       "      <th></th>\n",
       "      <th>skill_summary</th>\n",
       "      <th>title</th>\n",
       "      <th>description</th>\n",
       "      <th>ready</th>\n",
       "    </tr>\n",
       "  </thead>\n",
       "  <tbody>\n",
       "    <tr>\n",
       "      <th>0</th>\n",
       "      <td>itil, analyse, it security, it sicherheit, kom...</td>\n",
       "      <td>IT Sicherheit Consultant (m/w/d)</td>\n",
       "      <td>Projektbeschreibung                           ...</td>\n",
       "      <td>[itil, analys, security, sich, stack, sich, co...</td>\n",
       "    </tr>\n",
       "    <tr>\n",
       "      <th>1</th>\n",
       "      <td>umsatzsteuer, javascript, rest, manager, html,...</td>\n",
       "      <td>Ihre Unterstützung: 1050 SAP Hybris Entwickler</td>\n",
       "      <td>Projektbeschreibung                           ...</td>\n",
       "      <td>[javascript, rest, html, jsp, sap, css, unters...</td>\n",
       "    </tr>\n",
       "    <tr>\n",
       "      <th>2</th>\n",
       "      <td>suse, systemarchitekt, windows, it infrastrukt...</td>\n",
       "      <td>Systemarchitekt Linux (m/w/d) - Hamburg - 4855...</td>\n",
       "      <td>Projektbeschreibung                           ...</td>\n",
       "      <td>[sus, windows, infrastruktur, linux, open, sou...</td>\n",
       "    </tr>\n",
       "    <tr>\n",
       "      <th>3</th>\n",
       "      <td>node.js, typescript, design, nodejs</td>\n",
       "      <td>Node.JS Entwicklung - Berlin</td>\n",
       "      <td>Projektbeschreibung                           ...</td>\n",
       "      <td>[nodejs, typescript, nodejs, nodejs, freiberuf...</td>\n",
       "    </tr>\n",
       "    <tr>\n",
       "      <th>4</th>\n",
       "      <td>ms office migration, sccm, windows migration, ...</td>\n",
       "      <td>Windows/ Office Migration m/w/d</td>\n",
       "      <td>Projektbeschreibung                           ...</td>\n",
       "      <td>[ms, sccm, windows, konfiguration, windows, wi...</td>\n",
       "    </tr>\n",
       "    <tr>\n",
       "      <th>5</th>\n",
       "      <td>typo3, html, sass, css, less</td>\n",
       "      <td>Typo3-Entwickler (m/w/d)</td>\n",
       "      <td>Projektbeschreibung                           ...</td>\n",
       "      <td>[typo, html, sass, css, less, websit, html, cs...</td>\n",
       "    </tr>\n",
       "    <tr>\n",
       "      <th>6</th>\n",
       "      <td>enterprise architekt, automotive, autosar, c, ...</td>\n",
       "      <td>Software Architekt (m/w/d) Automotive in ANÜ, ...</td>\n",
       "      <td>Projektbeschreibung                           ...</td>\n",
       "      <td>[enterpris, architekt, autosar, embedded, soft...</td>\n",
       "    </tr>\n",
       "    <tr>\n",
       "      <th>7</th>\n",
       "      <td>konfiguration, hana, sap, administration, sap ...</td>\n",
       "      <td>SAP HANA - Datenbankexperte</td>\n",
       "      <td>Projektbeschreibung                           ...</td>\n",
       "      <td>[konfiguration, hana, sap, administration, sap...</td>\n",
       "    </tr>\n",
       "    <tr>\n",
       "      <th>8</th>\n",
       "      <td>audit, beratung, reviews, java, projektmanagement</td>\n",
       "      <td>Software Auditor - Programm-Code, Architektur ...</td>\n",
       "      <td>Projektbeschreibung                           ...</td>\n",
       "      <td>[audit, reviews, java, projektmanagement, soft...</td>\n",
       "    </tr>\n",
       "    <tr>\n",
       "      <th>9</th>\n",
       "      <td>informatik, installation, sharepoint, analyse,...</td>\n",
       "      <td>Freiberuflicher SharePoint - Projektmanager (m...</td>\n",
       "      <td>Projektbeschreibung                           ...</td>\n",
       "      <td>[installation, sharepoint, analys, projektmana...</td>\n",
       "    </tr>\n",
       "    <tr>\n",
       "      <th>10</th>\n",
       "      <td>cisco, netzwerkarchitektur, cisco aci, vmware,...</td>\n",
       "      <td>Questax Experts GmbH - #140496 - Netzwerkarchi...</td>\n",
       "      <td>Projektbeschreibung                           ...</td>\n",
       "      <td>[cisco, cisco, aci, vmwar, dns, netzwerk, clou...</td>\n",
       "    </tr>\n",
       "    <tr>\n",
       "      <th>11</th>\n",
       "      <td>ms, ms dynamics, ms dynamics 365, dynamics 365...</td>\n",
       "      <td>MS Dynamics 365 Security Experte (m/w/d) // No...</td>\n",
       "      <td>Projektbeschreibung                           ...</td>\n",
       "      <td>[ms, ms, dynamics, ms, dynamics, dynamics, dyn...</td>\n",
       "    </tr>\n",
       "    <tr>\n",
       "      <th>12</th>\n",
       "      <td>business analyst</td>\n",
       "      <td>IPSWAYS sucht: Business Analyst Schaden (m/w/d)</td>\n",
       "      <td>Projektbeschreibung                           ...</td>\n",
       "      <td>[business, analyst, business, analyst, nachste...</td>\n",
       "    </tr>\n",
       "    <tr>\n",
       "      <th>13</th>\n",
       "      <td>c#, python, visual studio, c++, team foundatio...</td>\n",
       "      <td>Freiberuflicher Softwareentwickler (m/w/d)</td>\n",
       "      <td>Projektbeschreibung                           ...</td>\n",
       "      <td>[python, visual, studio, serv, freiberuf, soft...</td>\n",
       "    </tr>\n",
       "    <tr>\n",
       "      <th>14</th>\n",
       "      <td>dokumentation, java, asp .net, .net, html, php</td>\n",
       "      <td>Dokumentation bestehender ASP.NET Applikation ...</td>\n",
       "      <td>Projektbeschreibung                           ...</td>\n",
       "      <td>[dokumentation, java, asp, net, net, html, php...</td>\n",
       "    </tr>\n",
       "    <tr>\n",
       "      <th>15</th>\n",
       "      <td>agile, dokumentation, instrumentierung, cloud,...</td>\n",
       "      <td>TEX_19566 - Business Analyst (f/m/d) User &amp; Au...</td>\n",
       "      <td>Projektbeschreibung                           ...</td>\n",
       "      <td>[agil, dokumentation, cloud, applikation, tex,...</td>\n",
       "    </tr>\n",
       "    <tr>\n",
       "      <th>16</th>\n",
       "      <td>javascript frontend, microservices, nodejs, ap...</td>\n",
       "      <td>.Net Backend Entwickler (m/w)</td>\n",
       "      <td>Projektbeschreibung                           ...</td>\n",
       "      <td>[javascript, frontend, microservic, nodejs, ap...</td>\n",
       "    </tr>\n",
       "    <tr>\n",
       "      <th>17</th>\n",
       "      <td>agile, scrum</td>\n",
       "      <td>Functional Business Analyst (PC)</td>\n",
       "      <td>Projektbeschreibung                           ...</td>\n",
       "      <td>[agil, scrum, business, analyst, pc, agil, tra...</td>\n",
       "    </tr>\n",
       "    <tr>\n",
       "      <th>18</th>\n",
       "      <td>oracle, manager, datenbanken, itil, projektman...</td>\n",
       "      <td>Technical Project Manager Oracle Databases (m/...</td>\n",
       "      <td>Projektbeschreibung                           ...</td>\n",
       "      <td>[oracl, datenbank, itil, projektmanag, technic...</td>\n",
       "    </tr>\n",
       "    <tr>\n",
       "      <th>19</th>\n",
       "      <td>beratung, sap pm, sap, qm, sd</td>\n",
       "      <td>SAP PM/ EAM Berater (m/w/d), Frankfurt am Main...</td>\n",
       "      <td>Projektbeschreibung                           ...</td>\n",
       "      <td>[sap, pm, sap, qm, sd, sap, pm, berat, sap, pm...</td>\n",
       "    </tr>\n",
       "  </tbody>\n",
       "</table>\n",
       "</div>"
      ],
      "text/plain": [
       "                                        skill_summary  \\\n",
       "0   itil, analyse, it security, it sicherheit, kom...   \n",
       "1   umsatzsteuer, javascript, rest, manager, html,...   \n",
       "2   suse, systemarchitekt, windows, it infrastrukt...   \n",
       "3                 node.js, typescript, design, nodejs   \n",
       "4   ms office migration, sccm, windows migration, ...   \n",
       "5                        typo3, html, sass, css, less   \n",
       "6   enterprise architekt, automotive, autosar, c, ...   \n",
       "7   konfiguration, hana, sap, administration, sap ...   \n",
       "8   audit, beratung, reviews, java, projektmanagement   \n",
       "9   informatik, installation, sharepoint, analyse,...   \n",
       "10  cisco, netzwerkarchitektur, cisco aci, vmware,...   \n",
       "11  ms, ms dynamics, ms dynamics 365, dynamics 365...   \n",
       "12                                   business analyst   \n",
       "13  c#, python, visual studio, c++, team foundatio...   \n",
       "14     dokumentation, java, asp .net, .net, html, php   \n",
       "15  agile, dokumentation, instrumentierung, cloud,...   \n",
       "16  javascript frontend, microservices, nodejs, ap...   \n",
       "17                                       agile, scrum   \n",
       "18  oracle, manager, datenbanken, itil, projektman...   \n",
       "19                      beratung, sap pm, sap, qm, sd   \n",
       "\n",
       "                                                title  \\\n",
       "0                    IT Sicherheit Consultant (m/w/d)   \n",
       "1      Ihre Unterstützung: 1050 SAP Hybris Entwickler   \n",
       "2   Systemarchitekt Linux (m/w/d) - Hamburg - 4855...   \n",
       "3                        Node.JS Entwicklung - Berlin   \n",
       "4                     Windows/ Office Migration m/w/d   \n",
       "5                            Typo3-Entwickler (m/w/d)   \n",
       "6   Software Architekt (m/w/d) Automotive in ANÜ, ...   \n",
       "7                         SAP HANA - Datenbankexperte   \n",
       "8   Software Auditor - Programm-Code, Architektur ...   \n",
       "9   Freiberuflicher SharePoint - Projektmanager (m...   \n",
       "10  Questax Experts GmbH - #140496 - Netzwerkarchi...   \n",
       "11  MS Dynamics 365 Security Experte (m/w/d) // No...   \n",
       "12    IPSWAYS sucht: Business Analyst Schaden (m/w/d)   \n",
       "13         Freiberuflicher Softwareentwickler (m/w/d)   \n",
       "14  Dokumentation bestehender ASP.NET Applikation ...   \n",
       "15  TEX_19566 - Business Analyst (f/m/d) User & Au...   \n",
       "16                      .Net Backend Entwickler (m/w)   \n",
       "17                   Functional Business Analyst (PC)   \n",
       "18  Technical Project Manager Oracle Databases (m/...   \n",
       "19  SAP PM/ EAM Berater (m/w/d), Frankfurt am Main...   \n",
       "\n",
       "                                          description  \\\n",
       "0   Projektbeschreibung                           ...   \n",
       "1   Projektbeschreibung                           ...   \n",
       "2   Projektbeschreibung                           ...   \n",
       "3   Projektbeschreibung                           ...   \n",
       "4   Projektbeschreibung                           ...   \n",
       "5   Projektbeschreibung                           ...   \n",
       "6   Projektbeschreibung                           ...   \n",
       "7   Projektbeschreibung                           ...   \n",
       "8   Projektbeschreibung                           ...   \n",
       "9   Projektbeschreibung                           ...   \n",
       "10  Projektbeschreibung                           ...   \n",
       "11  Projektbeschreibung                           ...   \n",
       "12  Projektbeschreibung                           ...   \n",
       "13  Projektbeschreibung                           ...   \n",
       "14  Projektbeschreibung                           ...   \n",
       "15  Projektbeschreibung                           ...   \n",
       "16  Projektbeschreibung                           ...   \n",
       "17  Projektbeschreibung                           ...   \n",
       "18  Projektbeschreibung                           ...   \n",
       "19  Projektbeschreibung                           ...   \n",
       "\n",
       "                                                ready  \n",
       "0   [itil, analys, security, sich, stack, sich, co...  \n",
       "1   [javascript, rest, html, jsp, sap, css, unters...  \n",
       "2   [sus, windows, infrastruktur, linux, open, sou...  \n",
       "3   [nodejs, typescript, nodejs, nodejs, freiberuf...  \n",
       "4   [ms, sccm, windows, konfiguration, windows, wi...  \n",
       "5   [typo, html, sass, css, less, websit, html, cs...  \n",
       "6   [enterpris, architekt, autosar, embedded, soft...  \n",
       "7   [konfiguration, hana, sap, administration, sap...  \n",
       "8   [audit, reviews, java, projektmanagement, soft...  \n",
       "9   [installation, sharepoint, analys, projektmana...  \n",
       "10  [cisco, cisco, aci, vmwar, dns, netzwerk, clou...  \n",
       "11  [ms, ms, dynamics, ms, dynamics, dynamics, dyn...  \n",
       "12  [business, analyst, business, analyst, nachste...  \n",
       "13  [python, visual, studio, serv, freiberuf, soft...  \n",
       "14  [dokumentation, java, asp, net, net, html, php...  \n",
       "15  [agil, dokumentation, cloud, applikation, tex,...  \n",
       "16  [javascript, frontend, microservic, nodejs, ap...  \n",
       "17  [agil, scrum, business, analyst, pc, agil, tra...  \n",
       "18  [oracl, datenbank, itil, projektmanag, technic...  \n",
       "19  [sap, pm, sap, qm, sd, sap, pm, berat, sap, pm...  "
      ]
     },
     "execution_count": 37,
     "metadata": {},
     "output_type": "execute_result"
    }
   ],
   "source": [
    "df.head(20)"
   ]
  },
  {
   "cell_type": "code",
   "execution_count": 38,
   "metadata": {},
   "outputs": [
    {
     "name": "stdout",
     "output_type": "stream",
     "text": [
      "length of list: 5360 \n",
      "average document length 51.73694029850746 \n",
      "minimum document length 4 \n",
      "maximum document length 289\n"
     ]
    }
   ],
   "source": [
    "# document length\n",
    "df['doc_len'] = df['ready'].apply(lambda x: len(x))\n",
    "doc_lengths = list(df['doc_len'])\n",
    "df.drop(labels='doc_len', axis=1, inplace=True)\n",
    "\n",
    "print(\"length of list:\",len(doc_lengths),\n",
    "      \"\\naverage document length\", np.average(doc_lengths),\n",
    "      \"\\nminimum document length\", min(doc_lengths),\n",
    "      \"\\nmaximum document length\", max(doc_lengths))"
   ]
  },
  {
   "cell_type": "code",
   "execution_count": 39,
   "metadata": {},
   "outputs": [
    {
     "name": "stdout",
     "output_type": "stream",
     "text": [
      "After cleaning and excluding short aticles, the dataframe now has: 4299 articles\n"
     ]
    }
   ],
   "source": [
    "# only keep articles with more than 30 tokens, otherwise too short\n",
    "df = df[df['ready'].map(len) >= 30]\n",
    "# make sure all tokenized items are lists\n",
    "df = df[df['ready'].map(type) == list]\n",
    "df.reset_index(drop=True,inplace=True)\n",
    "print(\"After cleaning and excluding short aticles, the dataframe now has:\", len(df), \"articles\")"
   ]
  },
  {
   "cell_type": "code",
   "execution_count": 44,
   "metadata": {},
   "outputs": [
    {
     "data": {
      "text/plain": [
       "array([ True,  True,  True, ...,  True,  True,  True])"
      ]
     },
     "execution_count": 44,
     "metadata": {},
     "output_type": "execute_result"
    }
   ],
   "source": [
    "# create a mask of binary values to split into train and test\n",
    "msk = np.random.rand(len(df)) < 0.9960\n",
    "msk"
   ]
  },
  {
   "cell_type": "code",
   "execution_count": 45,
   "metadata": {},
   "outputs": [],
   "source": [
    "train_df = df[msk]\n",
    "train_df.reset_index(drop=True,inplace=True)\n",
    "\n",
    "test_df = df[~msk]\n",
    "test_df.reset_index(drop=True,inplace=True)"
   ]
  },
  {
   "cell_type": "code",
   "execution_count": 46,
   "metadata": {},
   "outputs": [
    {
     "name": "stdout",
     "output_type": "stream",
     "text": [
      "4299 4277 22\n"
     ]
    }
   ],
   "source": [
    "print(len(df),len(train_df),len(test_df))"
   ]
  },
  {
   "cell_type": "code",
   "execution_count": 299,
   "metadata": {},
   "outputs": [
    {
     "data": {
      "text/html": [
       "<div>\n",
       "<style scoped>\n",
       "    .dataframe tbody tr th:only-of-type {\n",
       "        vertical-align: middle;\n",
       "    }\n",
       "\n",
       "    .dataframe tbody tr th {\n",
       "        vertical-align: top;\n",
       "    }\n",
       "\n",
       "    .dataframe thead th {\n",
       "        text-align: right;\n",
       "    }\n",
       "</style>\n",
       "<table border=\"1\" class=\"dataframe\">\n",
       "  <thead>\n",
       "    <tr style=\"text-align: right;\">\n",
       "      <th></th>\n",
       "      <th>skill_summary</th>\n",
       "      <th>title</th>\n",
       "      <th>description</th>\n",
       "      <th>ready</th>\n",
       "    </tr>\n",
       "  </thead>\n",
       "  <tbody>\n",
       "    <tr>\n",
       "      <th>0</th>\n",
       "      <td>itil, analyse, it security, it sicherheit, kom...</td>\n",
       "      <td>IT Sicherheit Consultant (m/w/d)</td>\n",
       "      <td>Projektbeschreibung                           ...</td>\n",
       "      <td>[itil, analys, security, sich, stack, sich, co...</td>\n",
       "    </tr>\n",
       "    <tr>\n",
       "      <th>1</th>\n",
       "      <td>umsatzsteuer, javascript, rest, manager, html,...</td>\n",
       "      <td>Ihre Unterstützung: 1050 SAP Hybris Entwickler</td>\n",
       "      <td>Projektbeschreibung                           ...</td>\n",
       "      <td>[javascript, rest, html, jsp, sap, css, unters...</td>\n",
       "    </tr>\n",
       "    <tr>\n",
       "      <th>2</th>\n",
       "      <td>suse, systemarchitekt, windows, it infrastrukt...</td>\n",
       "      <td>Systemarchitekt Linux (m/w/d) - Hamburg - 4855...</td>\n",
       "      <td>Projektbeschreibung                           ...</td>\n",
       "      <td>[sus, windows, infrastruktur, linux, open, sou...</td>\n",
       "    </tr>\n",
       "    <tr>\n",
       "      <th>3</th>\n",
       "      <td>ms office migration, sccm, windows migration, ...</td>\n",
       "      <td>Windows/ Office Migration m/w/d</td>\n",
       "      <td>Projektbeschreibung                           ...</td>\n",
       "      <td>[ms, sccm, windows, konfiguration, windows, wi...</td>\n",
       "    </tr>\n",
       "    <tr>\n",
       "      <th>4</th>\n",
       "      <td>enterprise architekt, automotive, autosar, c, ...</td>\n",
       "      <td>Software Architekt (m/w/d) Automotive in ANÜ, ...</td>\n",
       "      <td>Projektbeschreibung                           ...</td>\n",
       "      <td>[enterpris, architekt, autosar, embedded, soft...</td>\n",
       "    </tr>\n",
       "  </tbody>\n",
       "</table>\n",
       "</div>"
      ],
      "text/plain": [
       "                                       skill_summary  \\\n",
       "0  itil, analyse, it security, it sicherheit, kom...   \n",
       "1  umsatzsteuer, javascript, rest, manager, html,...   \n",
       "2  suse, systemarchitekt, windows, it infrastrukt...   \n",
       "3  ms office migration, sccm, windows migration, ...   \n",
       "4  enterprise architekt, automotive, autosar, c, ...   \n",
       "\n",
       "                                               title  \\\n",
       "0                   IT Sicherheit Consultant (m/w/d)   \n",
       "1     Ihre Unterstützung: 1050 SAP Hybris Entwickler   \n",
       "2  Systemarchitekt Linux (m/w/d) - Hamburg - 4855...   \n",
       "3                    Windows/ Office Migration m/w/d   \n",
       "4  Software Architekt (m/w/d) Automotive in ANÜ, ...   \n",
       "\n",
       "                                         description  \\\n",
       "0  Projektbeschreibung                           ...   \n",
       "1  Projektbeschreibung                           ...   \n",
       "2  Projektbeschreibung                           ...   \n",
       "3  Projektbeschreibung                           ...   \n",
       "4  Projektbeschreibung                           ...   \n",
       "\n",
       "                                               ready  \n",
       "0  [itil, analys, security, sich, stack, sich, co...  \n",
       "1  [javascript, rest, html, jsp, sap, css, unters...  \n",
       "2  [sus, windows, infrastruktur, linux, open, sou...  \n",
       "3  [ms, sccm, windows, konfiguration, windows, wi...  \n",
       "4  [enterpris, architekt, autosar, embedded, soft...  "
      ]
     },
     "execution_count": 299,
     "metadata": {},
     "output_type": "execute_result"
    }
   ],
   "source": [
    "train_df.head()"
   ]
  },
  {
   "cell_type": "code",
   "execution_count": 47,
   "metadata": {},
   "outputs": [],
   "source": [
    "def train_lda(data, n=10):\n",
    "    \"\"\"\n",
    "    This function trains the lda model\n",
    "    We setup parameters like number of topics, the chunksize to use in Hoffman method\n",
    "    We also do 2 passes of the data since this is a small dataset, so we want the distributions to stabilize\n",
    "    \"\"\"\n",
    "    num_topics = n\n",
    "    chunksize = 300\n",
    "    dictionary = corpora.Dictionary(data['ready'])\n",
    "    corpus = [dictionary.doc2bow(doc) for doc in data['ready']]\n",
    "    t1 = time.time()\n",
    "    # low alpha means each document is only represented by a small number of topics, and vice versa\n",
    "    # low eta means each topic is only represented by a small number of words, and vice versa\n",
    "    lda = LdaModel(corpus=corpus, num_topics=num_topics, id2word=dictionary,\n",
    "                   alpha=1e-2, eta=0.5e-2, chunksize=chunksize, minimum_probability=0.0, passes=2)\n",
    "    t2 = time.time()\n",
    "    print(\"Time to train LDA model on \", len(df), \"documents: \", (t2-t1)/60, \"min\")\n",
    "    return dictionary,corpus,lda"
   ]
  },
  {
   "cell_type": "code",
   "execution_count": 56,
   "metadata": {},
   "outputs": [
    {
     "name": "stdout",
     "output_type": "stream",
     "text": [
      "Time to train LDA model on  4299 documents:  0.16546574433644612 min\n"
     ]
    }
   ],
   "source": [
    "dictionary,corpus,lda = train_lda(train_df, 10)"
   ]
  },
  {
   "cell_type": "code",
   "execution_count": 246,
   "metadata": {},
   "outputs": [],
   "source": [
    "lda.save('lda.model')"
   ]
  },
  {
   "cell_type": "code",
   "execution_count": 250,
   "metadata": {},
   "outputs": [
    {
     "data": {
      "text/plain": [
       "[(0,\n",
       "  '0.257*\"sap\" + 0.034*\"abap\" + 0.027*\"berat\" + 0.020*\"fi\" + 0.018*\"hana\" + 0.015*\"mm\" + 0.014*\"sd\" + 0.014*\"bw\" + 0.013*\"consultant\" + 0.012*\"pp\" + 0.011*\"fico\" + 0.011*\"untersttz\" + 0.009*\"modul\" + 0.008*\"entwickl\" + 0.008*\"shana\" + 0.008*\"ewm\" + 0.007*\"erp\" + 0.007*\"mglich\" + 0.007*\"hr\" + 0.005*\"einfhrung\"'),\n",
       " (1,\n",
       "  '0.063*\"java\" + 0.043*\"entwickl\" + 0.028*\"javascript\" + 0.022*\"frontend\" + 0.019*\"spring\" + 0.019*\"html\" + 0.019*\"angular\" + 0.017*\"backend\" + 0.016*\"net\" + 0.015*\"css\" + 0.015*\"php\" + 0.014*\"agil\" + 0.014*\"develop\" + 0.014*\"sql\" + 0.013*\"rest\" + 0.011*\"oracl\" + 0.010*\"web\" + 0.010*\"softwareentwickl\" + 0.010*\"jee\" + 0.010*\"framework\"'),\n",
       " (2,\n",
       "  '0.018*\"untersttz\" + 0.015*\"scrum\" + 0.015*\"gren\" + 0.014*\"agil\" + 0.011*\"jira\" + 0.010*\"entwickl\" + 0.010*\"frontend\" + 0.009*\"april\" + 0.009*\"bercksicht\" + 0.009*\"java\" + 0.009*\"geschftsfhr\" + 0.008*\"extern\" + 0.008*\"frontendentwickl\" + 0.008*\"dsseldorf\" + 0.008*\"cms\" + 0.008*\"vertieft\" + 0.008*\"test\" + 0.007*\"consultant\" + 0.007*\"projektmanagement\" + 0.007*\"continuous\"'),\n",
       " (3,\n",
       "  '0.063*\"java\" + 0.033*\"devops\" + 0.033*\"dock\" + 0.028*\"aws\" + 0.026*\"cloud\" + 0.020*\"spring\" + 0.018*\"jenkin\" + 0.018*\"kubernet\" + 0.017*\"data\" + 0.016*\"mav\" + 0.015*\"deployment\" + 0.014*\"azur\" + 0.014*\"python\" + 0.014*\"jee\" + 0.014*\"agil\" + 0.013*\"linux\" + 0.013*\"apach\" + 0.013*\"microservic\" + 0.012*\"scrum\" + 0.011*\"hadoop\"'),\n",
       " (4,\n",
       "  '0.119*\"windows\" + 0.063*\"serv\" + 0.048*\"support\" + 0.043*\"administration\" + 0.034*\"cisco\" + 0.024*\"konfiguration\" + 0.023*\"microsoft\" + 0.022*\"netzwerk\" + 0.021*\"linux\" + 0.020*\"citrix\" + 0.018*\"activ\" + 0.017*\"directory\" + 0.016*\"sccm\" + 0.016*\"untersttz\" + 0.013*\"vmwar\" + 0.012*\"dokumentation\" + 0.012*\"security\" + 0.011*\"hardwar\" + 0.010*\"st\" + 0.009*\"umgeb\"'),\n",
       " (5,\n",
       "  '0.037*\"oracl\" + 0.032*\"mobil\" + 0.031*\"support\" + 0.029*\"hcm\" + 0.021*\"installation\" + 0.019*\"tex\" + 0.017*\"ios\" + 0.016*\"android\" + 0.013*\"berat\" + 0.012*\"gewnscht\" + 0.012*\"ausschreib\" + 0.012*\"geschftspartn\" + 0.012*\"weiterfhr\" + 0.012*\"stundenstz\" + 0.012*\"registriert\" + 0.012*\"troubleshooting\" + 0.012*\"fmd\" + 0.011*\"administrator\" + 0.011*\"mchten\" + 0.011*\"profilvorgab\"'),\n",
       " (6,\n",
       "  '0.027*\"business\" + 0.026*\"data\" + 0.025*\"project\" + 0.023*\"development\" + 0.016*\"technical\" + 0.016*\"softwar\" + 0.016*\"support\" + 0.016*\"application\" + 0.014*\"requirement\" + 0.014*\"develop\" + 0.013*\"test\" + 0.011*\"solution\" + 0.009*\"implementation\" + 0.007*\"consultant\" + 0.006*\"process\" + 0.006*\"lead\" + 0.006*\"user\" + 0.005*\"implement\" + 0.005*\"architectur\" + 0.005*\"testing\"'),\n",
       " (7,\n",
       "  '0.027*\"technisch\" + 0.020*\"dokumentation\" + 0.016*\"architektur\" + 0.015*\"gren\" + 0.012*\"untersttz\" + 0.010*\"implementier\" + 0.010*\"applikation\" + 0.010*\"prsentation\" + 0.009*\"dienstleist\" + 0.008*\"analys\" + 0.008*\"bewert\" + 0.008*\"selbstverstnd\" + 0.007*\"kurz\" + 0.007*\"erarbeit\" + 0.007*\"itprojekt\" + 0.007*\"renommiert\" + 0.007*\"itsystem\" + 0.007*\"smart\" + 0.007*\"architekt\" + 0.007*\"bestmglich\"'),\n",
       " (8,\n",
       "  '0.027*\"ms\" + 0.016*\"sharepoint\" + 0.016*\"projektleit\" + 0.015*\"crm\" + 0.013*\"powershell\" + 0.012*\"itil\" + 0.012*\"koordination\" + 0.011*\"serv\" + 0.011*\"softwareentwickl\" + 0.011*\"administrator\" + 0.010*\"microsoft\" + 0.009*\"javae\" + 0.009*\"planung\" + 0.008*\"untersttz\" + 0.008*\"infrastruktur\" + 0.008*\"expert\" + 0.008*\"sich\" + 0.008*\"dokumentation\" + 0.007*\"besteh\" + 0.007*\"fhrend\"'),\n",
       " (9,\n",
       "  '0.020*\"analys\" + 0.017*\"test\" + 0.016*\"business\" + 0.015*\"sql\" + 0.014*\"untersttz\" + 0.014*\"dokumentation\" + 0.013*\"dynamics\" + 0.012*\"technisch\" + 0.011*\"fhigkeit\" + 0.011*\"konzeption\" + 0.010*\"analyst\" + 0.010*\"implementier\" + 0.009*\"softwar\" + 0.009*\"dwh\" + 0.009*\"ms\" + 0.009*\"microsoft\" + 0.008*\"datenbank\" + 0.008*\"besteh\" + 0.008*\"agil\" + 0.007*\"embedded\"')]"
      ]
     },
     "execution_count": 250,
     "metadata": {},
     "output_type": "execute_result"
    }
   ],
   "source": [
    "from gensim import corpora, models, similarities\n",
    "# later on, load trained model from file\n",
    "model =  models.LdaModel.load('lda.model')\n",
    "\n",
    "# print all topics\n",
    "model.show_topics(num_topics=20, num_words=20)\n"
   ]
  },
  {
   "cell_type": "code",
   "execution_count": 239,
   "metadata": {},
   "outputs": [],
   "source": [
    "with open('dictionary', 'wb') as output:\n",
    "    pickle.dump(dictionary, output)\n",
    "    \n",
    "with open('corpus', 'wb') as output:\n",
    "    pickle.dump(corpus, output)"
   ]
  },
  {
   "cell_type": "code",
   "execution_count": 238,
   "metadata": {},
   "outputs": [],
   "source": [
    "# Save model to disk.\n",
    "from gensim.test.utils import datapath\n",
    "temp_file = datapath(\"model\")\n",
    "lda.save(temp_file)\n",
    "\n",
    "pickle.dump(lda, open('model', 'wb'))"
   ]
  },
  {
   "cell_type": "code",
   "execution_count": 58,
   "metadata": {},
   "outputs": [],
   "source": [
    "# Load a potentially pretrained model from disk.\n",
    "lda2 = LdaModel.load(temp_file)"
   ]
  },
  {
   "cell_type": "code",
   "execution_count": 59,
   "metadata": {},
   "outputs": [
    {
     "data": {
      "text/plain": [
       "[(0,\n",
       "  '0.257*\"sap\" + 0.034*\"abap\" + 0.027*\"berat\" + 0.020*\"fi\" + 0.018*\"hana\" + 0.015*\"mm\" + 0.014*\"sd\" + 0.014*\"bw\" + 0.013*\"consultant\" + 0.012*\"pp\" + 0.011*\"fico\" + 0.011*\"untersttz\" + 0.009*\"modul\" + 0.008*\"entwickl\" + 0.008*\"shana\" + 0.008*\"ewm\" + 0.007*\"erp\" + 0.007*\"mglich\" + 0.007*\"hr\" + 0.005*\"einfhrung\"'),\n",
       " (1,\n",
       "  '0.063*\"java\" + 0.043*\"entwickl\" + 0.028*\"javascript\" + 0.022*\"frontend\" + 0.019*\"spring\" + 0.019*\"html\" + 0.019*\"angular\" + 0.017*\"backend\" + 0.016*\"net\" + 0.015*\"css\" + 0.015*\"php\" + 0.014*\"agil\" + 0.014*\"develop\" + 0.014*\"sql\" + 0.013*\"rest\" + 0.011*\"oracl\" + 0.010*\"web\" + 0.010*\"softwareentwickl\" + 0.010*\"jee\" + 0.010*\"framework\"'),\n",
       " (2,\n",
       "  '0.018*\"untersttz\" + 0.015*\"scrum\" + 0.015*\"gren\" + 0.014*\"agil\" + 0.011*\"jira\" + 0.010*\"entwickl\" + 0.010*\"frontend\" + 0.009*\"april\" + 0.009*\"bercksicht\" + 0.009*\"java\" + 0.009*\"geschftsfhr\" + 0.008*\"extern\" + 0.008*\"frontendentwickl\" + 0.008*\"dsseldorf\" + 0.008*\"cms\" + 0.008*\"vertieft\" + 0.008*\"test\" + 0.007*\"consultant\" + 0.007*\"projektmanagement\" + 0.007*\"continuous\"'),\n",
       " (3,\n",
       "  '0.063*\"java\" + 0.033*\"devops\" + 0.033*\"dock\" + 0.028*\"aws\" + 0.026*\"cloud\" + 0.020*\"spring\" + 0.018*\"jenkin\" + 0.018*\"kubernet\" + 0.017*\"data\" + 0.016*\"mav\" + 0.015*\"deployment\" + 0.014*\"azur\" + 0.014*\"python\" + 0.014*\"jee\" + 0.014*\"agil\" + 0.013*\"linux\" + 0.013*\"apach\" + 0.013*\"microservic\" + 0.012*\"scrum\" + 0.011*\"hadoop\"'),\n",
       " (4,\n",
       "  '0.119*\"windows\" + 0.063*\"serv\" + 0.048*\"support\" + 0.043*\"administration\" + 0.034*\"cisco\" + 0.024*\"konfiguration\" + 0.023*\"microsoft\" + 0.022*\"netzwerk\" + 0.021*\"linux\" + 0.020*\"citrix\" + 0.018*\"activ\" + 0.017*\"directory\" + 0.016*\"sccm\" + 0.016*\"untersttz\" + 0.013*\"vmwar\" + 0.012*\"dokumentation\" + 0.012*\"security\" + 0.011*\"hardwar\" + 0.010*\"st\" + 0.009*\"umgeb\"'),\n",
       " (5,\n",
       "  '0.037*\"oracl\" + 0.032*\"mobil\" + 0.031*\"support\" + 0.029*\"hcm\" + 0.021*\"installation\" + 0.019*\"tex\" + 0.017*\"ios\" + 0.016*\"android\" + 0.013*\"berat\" + 0.012*\"gewnscht\" + 0.012*\"ausschreib\" + 0.012*\"geschftspartn\" + 0.012*\"weiterfhr\" + 0.012*\"stundenstz\" + 0.012*\"registriert\" + 0.012*\"troubleshooting\" + 0.012*\"fmd\" + 0.011*\"administrator\" + 0.011*\"mchten\" + 0.011*\"profilvorgab\"'),\n",
       " (6,\n",
       "  '0.027*\"business\" + 0.026*\"data\" + 0.025*\"project\" + 0.023*\"development\" + 0.016*\"technical\" + 0.016*\"softwar\" + 0.016*\"support\" + 0.016*\"application\" + 0.014*\"requirement\" + 0.014*\"develop\" + 0.013*\"test\" + 0.011*\"solution\" + 0.009*\"implementation\" + 0.007*\"consultant\" + 0.006*\"process\" + 0.006*\"lead\" + 0.006*\"user\" + 0.005*\"implement\" + 0.005*\"architectur\" + 0.005*\"testing\"'),\n",
       " (7,\n",
       "  '0.027*\"technisch\" + 0.020*\"dokumentation\" + 0.016*\"architektur\" + 0.015*\"gren\" + 0.012*\"untersttz\" + 0.010*\"implementier\" + 0.010*\"applikation\" + 0.010*\"prsentation\" + 0.009*\"dienstleist\" + 0.008*\"analys\" + 0.008*\"bewert\" + 0.008*\"selbstverstnd\" + 0.007*\"kurz\" + 0.007*\"erarbeit\" + 0.007*\"itprojekt\" + 0.007*\"renommiert\" + 0.007*\"itsystem\" + 0.007*\"smart\" + 0.007*\"architekt\" + 0.007*\"bestmglich\"'),\n",
       " (8,\n",
       "  '0.027*\"ms\" + 0.016*\"sharepoint\" + 0.016*\"projektleit\" + 0.015*\"crm\" + 0.013*\"powershell\" + 0.012*\"itil\" + 0.012*\"koordination\" + 0.011*\"serv\" + 0.011*\"softwareentwickl\" + 0.011*\"administrator\" + 0.010*\"microsoft\" + 0.009*\"javae\" + 0.009*\"planung\" + 0.008*\"untersttz\" + 0.008*\"infrastruktur\" + 0.008*\"expert\" + 0.008*\"sich\" + 0.008*\"dokumentation\" + 0.007*\"besteh\" + 0.007*\"fhrend\"'),\n",
       " (9,\n",
       "  '0.020*\"analys\" + 0.017*\"test\" + 0.016*\"business\" + 0.015*\"sql\" + 0.014*\"untersttz\" + 0.014*\"dokumentation\" + 0.013*\"dynamics\" + 0.012*\"technisch\" + 0.011*\"fhigkeit\" + 0.011*\"konzeption\" + 0.010*\"analyst\" + 0.010*\"implementier\" + 0.009*\"softwar\" + 0.009*\"dwh\" + 0.009*\"ms\" + 0.009*\"microsoft\" + 0.008*\"datenbank\" + 0.008*\"besteh\" + 0.008*\"agil\" + 0.007*\"embedded\"')]"
      ]
     },
     "execution_count": 59,
     "metadata": {},
     "output_type": "execute_result"
    }
   ],
   "source": [
    "# show_topics method shows the the top num_words contributing to num_topics number of random topics\n",
    "lda.show_topics(num_topics=13, num_words=20)"
   ]
  },
  {
   "cell_type": "code",
   "execution_count": 52,
   "metadata": {},
   "outputs": [
    {
     "data": {
      "text/plain": [
       "[('sap', 0.25268948),\n",
       " ('abap', 0.033235975),\n",
       " ('berat', 0.025262268),\n",
       " ('fi', 0.019078378),\n",
       " ('hana', 0.017585142),\n",
       " ('consultant', 0.016924776),\n",
       " ('mm', 0.015573519),\n",
       " ('sd', 0.0138135515),\n",
       " ('bw', 0.013576738),\n",
       " ('pp', 0.011303693),\n",
       " ('hcm', 0.01118813),\n",
       " ('fico', 0.010294395),\n",
       " ('modul', 0.010178735),\n",
       " ('untersttz', 0.009460425),\n",
       " ('shana', 0.007973374),\n",
       " ('hr', 0.007893747),\n",
       " ('ewm', 0.0078190025),\n",
       " ('entwickl', 0.007633804),\n",
       " ('pm', 0.0071382434),\n",
       " ('erp', 0.006424055)]"
      ]
     },
     "execution_count": 52,
     "metadata": {},
     "output_type": "execute_result"
    }
   ],
   "source": [
    "lda.show_topic(topicid=0, topn=20)#ERP/SAP "
   ]
  },
  {
   "cell_type": "code",
   "execution_count": 60,
   "metadata": {},
   "outputs": [
    {
     "data": {
      "text/plain": [
       "[('java', 0.06324196),\n",
       " ('entwickl', 0.043169603),\n",
       " ('javascript', 0.028309654),\n",
       " ('frontend', 0.02160126),\n",
       " ('spring', 0.01886364),\n",
       " ('html', 0.018796254),\n",
       " ('angular', 0.018596003),\n",
       " ('backend', 0.01668937),\n",
       " ('net', 0.016409265),\n",
       " ('css', 0.014961284),\n",
       " ('php', 0.014757643),\n",
       " ('agil', 0.014076443),\n",
       " ('develop', 0.013918135),\n",
       " ('sql', 0.013760711),\n",
       " ('rest', 0.012525409),\n",
       " ('oracl', 0.010799216),\n",
       " ('web', 0.010453193),\n",
       " ('softwareentwickl', 0.0101820985),\n",
       " ('jee', 0.010171071),\n",
       " ('framework', 0.009895301)]"
      ]
     },
     "execution_count": 60,
     "metadata": {},
     "output_type": "execute_result"
    }
   ],
   "source": [
    "lda.show_topic(topicid=1, topn=20)# SW_Dev/Web "
   ]
  },
  {
   "cell_type": "code",
   "execution_count": 61,
   "metadata": {},
   "outputs": [
    {
     "data": {
      "text/plain": [
       "[('untersttz', 0.01787948),\n",
       " ('scrum', 0.015215177),\n",
       " ('gren', 0.015010036),\n",
       " ('agil', 0.014163819),\n",
       " ('jira', 0.010569038),\n",
       " ('entwickl', 0.010216153),\n",
       " ('frontend', 0.009783334),\n",
       " ('april', 0.009464372),\n",
       " ('bercksicht', 0.008819838),\n",
       " ('java', 0.008659763),\n",
       " ('geschftsfhr', 0.008506099),\n",
       " ('extern', 0.008445191),\n",
       " ('frontendentwickl', 0.008303923),\n",
       " ('dsseldorf', 0.008296418),\n",
       " ('cms', 0.008274258),\n",
       " ('vertieft', 0.007920621),\n",
       " ('test', 0.0077146133),\n",
       " ('consultant', 0.007415008),\n",
       " ('projektmanagement', 0.0070616757),\n",
       " ('continuous', 0.0068177613)]"
      ]
     },
     "execution_count": 61,
     "metadata": {},
     "output_type": "execute_result"
    }
   ],
   "source": [
    "lda.show_topic(topicid=2, topn=20) #IT_PM/SW_Arch "
   ]
  },
  {
   "cell_type": "code",
   "execution_count": 62,
   "metadata": {},
   "outputs": [
    {
     "data": {
      "text/plain": [
       "[('java', 0.06309049),\n",
       " ('devops', 0.033286087),\n",
       " ('dock', 0.032970358),\n",
       " ('aws', 0.028050672),\n",
       " ('cloud', 0.025543053),\n",
       " ('spring', 0.01980795),\n",
       " ('jenkin', 0.01810368),\n",
       " ('kubernet', 0.0176177),\n",
       " ('data', 0.017029492),\n",
       " ('mav', 0.016319295),\n",
       " ('deployment', 0.01463249),\n",
       " ('azur', 0.014197907),\n",
       " ('python', 0.014119061),\n",
       " ('jee', 0.013673536),\n",
       " ('agil', 0.013584637),\n",
       " ('linux', 0.012881124),\n",
       " ('apach', 0.01280636),\n",
       " ('microservic', 0.012753363),\n",
       " ('scrum', 0.011589907),\n",
       " ('hadoop', 0.011067075)]"
      ]
     },
     "execution_count": 62,
     "metadata": {},
     "output_type": "execute_result"
    }
   ],
   "source": [
    "lda.show_topic(topicid=3, topn=20)#SW_Dev/DevOps "
   ]
  },
  {
   "cell_type": "code",
   "execution_count": 63,
   "metadata": {},
   "outputs": [
    {
     "data": {
      "text/plain": [
       "[('windows', 0.11946817),\n",
       " ('serv', 0.06255548),\n",
       " ('support', 0.048317187),\n",
       " ('administration', 0.042744532),\n",
       " ('cisco', 0.03421641),\n",
       " ('konfiguration', 0.02361222),\n",
       " ('microsoft', 0.023077134),\n",
       " ('netzwerk', 0.022046685),\n",
       " ('linux', 0.021210127),\n",
       " ('citrix', 0.019939344),\n",
       " ('activ', 0.017822739),\n",
       " ('directory', 0.016925089),\n",
       " ('sccm', 0.015687369),\n",
       " ('untersttz', 0.01568257),\n",
       " ('vmwar', 0.01268967),\n",
       " ('dokumentation', 0.012378072),\n",
       " ('security', 0.011849217),\n",
       " ('hardwar', 0.010945727),\n",
       " ('st', 0.010127381),\n",
       " ('umgeb', 0.009168369)]"
      ]
     },
     "execution_count": 63,
     "metadata": {},
     "output_type": "execute_result"
    }
   ],
   "source": [
    "lda.show_topic(topicid=4, topn=20) #Sys_Admin/Support"
   ]
  },
  {
   "cell_type": "code",
   "execution_count": 64,
   "metadata": {},
   "outputs": [
    {
     "data": {
      "text/plain": [
       "[('oracl', 0.03725483),\n",
       " ('mobil', 0.0316945),\n",
       " ('support', 0.031010525),\n",
       " ('hcm', 0.029264012),\n",
       " ('installation', 0.02111873),\n",
       " ('tex', 0.019225743),\n",
       " ('ios', 0.016515732),\n",
       " ('android', 0.016135529),\n",
       " ('berat', 0.01320271),\n",
       " ('gewnscht', 0.012216892),\n",
       " ('ausschreib', 0.01214253),\n",
       " ('geschftspartn', 0.011979694),\n",
       " ('weiterfhr', 0.011873985),\n",
       " ('stundenstz', 0.0118720755),\n",
       " ('registriert', 0.011723519),\n",
       " ('troubleshooting', 0.011620843),\n",
       " ('fmd', 0.011533741),\n",
       " ('administrator', 0.011413765),\n",
       " ('mchten', 0.011169553),\n",
       " ('profilvorgab', 0.010857062)]"
      ]
     },
     "execution_count": 64,
     "metadata": {},
     "output_type": "execute_result"
    }
   ],
   "source": [
    "lda.show_topic(topicid=5, topn=20) #IT_Admin/Support/Ops "
   ]
  },
  {
   "cell_type": "code",
   "execution_count": 65,
   "metadata": {},
   "outputs": [
    {
     "data": {
      "text/plain": [
       "[('business', 0.02679307),\n",
       " ('data', 0.026440825),\n",
       " ('project', 0.024671184),\n",
       " ('development', 0.022986837),\n",
       " ('technical', 0.016004916),\n",
       " ('softwar', 0.015816785),\n",
       " ('support', 0.01577346),\n",
       " ('application', 0.015708894),\n",
       " ('requirement', 0.014066009),\n",
       " ('develop', 0.013784294),\n",
       " ('test', 0.013095408),\n",
       " ('solution', 0.010573128),\n",
       " ('implementation', 0.008677467),\n",
       " ('consultant', 0.0073046293),\n",
       " ('process', 0.0060684895),\n",
       " ('lead', 0.00575205),\n",
       " ('user', 0.005698578),\n",
       " ('implement', 0.005377467),\n",
       " ('architectur', 0.005337219),\n",
       " ('testing', 0.0051359725)]"
      ]
     },
     "execution_count": 65,
     "metadata": {},
     "output_type": "execute_result"
    }
   ],
   "source": [
    "lda.show_topic(topicid=6, topn=20) #Data_Engr/Big Data"
   ]
  },
  {
   "cell_type": "code",
   "execution_count": 66,
   "metadata": {},
   "outputs": [
    {
     "data": {
      "text/plain": [
       "[('technisch', 0.026612716),\n",
       " ('dokumentation', 0.019606967),\n",
       " ('architektur', 0.015623158),\n",
       " ('gren', 0.014862203),\n",
       " ('untersttz', 0.011636356),\n",
       " ('implementier', 0.010192743),\n",
       " ('applikation', 0.010129782),\n",
       " ('prsentation', 0.009550969),\n",
       " ('dienstleist', 0.008688362),\n",
       " ('analys', 0.008366091),\n",
       " ('bewert', 0.0083198855),\n",
       " ('selbstverstnd', 0.008120762),\n",
       " ('kurz', 0.007483988),\n",
       " ('erarbeit', 0.007286873),\n",
       " ('itprojekt', 0.007276605),\n",
       " ('renommiert', 0.007271144),\n",
       " ('itsystem', 0.0071860887),\n",
       " ('smart', 0.007133664),\n",
       " ('architekt', 0.007057262),\n",
       " ('bestmglich', 0.0069146194)]"
      ]
     },
     "execution_count": 66,
     "metadata": {},
     "output_type": "execute_result"
    }
   ],
   "source": [
    "lda.show_topic(topicid=7, topn=20) #IT_Process_Mgr/Consultant"
   ]
  },
  {
   "cell_type": "code",
   "execution_count": 67,
   "metadata": {},
   "outputs": [
    {
     "data": {
      "text/plain": [
       "[('ms', 0.026629817),\n",
       " ('sharepoint', 0.01606955),\n",
       " ('projektleit', 0.015845507),\n",
       " ('crm', 0.014991798),\n",
       " ('powershell', 0.012653209),\n",
       " ('itil', 0.012207736),\n",
       " ('koordination', 0.012029242),\n",
       " ('serv', 0.011474159),\n",
       " ('softwareentwickl', 0.011154519),\n",
       " ('administrator', 0.0109772),\n",
       " ('microsoft', 0.0101052085),\n",
       " ('javae', 0.00907627),\n",
       " ('planung', 0.008899093),\n",
       " ('untersttz', 0.008376299),\n",
       " ('infrastruktur', 0.00809258),\n",
       " ('expert', 0.007959606),\n",
       " ('sich', 0.007865332),\n",
       " ('dokumentation', 0.007859482),\n",
       " ('besteh', 0.0074542835),\n",
       " ('fhrend', 0.007320597)]"
      ]
     },
     "execution_count": 67,
     "metadata": {},
     "output_type": "execute_result"
    }
   ],
   "source": [
    "lda.show_topic(topicid=8, topn=20) #Sys_Admin/Support "
   ]
  },
  {
   "cell_type": "code",
   "execution_count": 68,
   "metadata": {},
   "outputs": [
    {
     "data": {
      "text/plain": [
       "[('analys', 0.020217404),\n",
       " ('test', 0.016539993),\n",
       " ('business', 0.016052747),\n",
       " ('sql', 0.014643754),\n",
       " ('untersttz', 0.014437441),\n",
       " ('dokumentation', 0.01420158),\n",
       " ('dynamics', 0.012637164),\n",
       " ('technisch', 0.01158817),\n",
       " ('fhigkeit', 0.010902739),\n",
       " ('konzeption', 0.010649218),\n",
       " ('analyst', 0.010380592),\n",
       " ('implementier', 0.00992017),\n",
       " ('softwar', 0.0094450265),\n",
       " ('dwh', 0.009238239),\n",
       " ('ms', 0.008987259),\n",
       " ('microsoft', 0.008620952),\n",
       " ('datenbank', 0.008475942),\n",
       " ('besteh', 0.008148493),\n",
       " ('agil', 0.007816523),\n",
       " ('embedded', 0.0074750073)]"
      ]
     },
     "execution_count": 68,
     "metadata": {},
     "output_type": "execute_result"
    }
   ],
   "source": [
    "lda.show_topic(topicid=9, topn=20) #Business_Analyst/Consulting "
   ]
  },
  {
   "cell_type": "markdown",
   "metadata": {},
   "source": [
    "# Random project from train data"
   ]
  },
  {
   "cell_type": "code",
   "execution_count": 70,
   "metadata": {},
   "outputs": [],
   "source": [
    "# select and article at random from train_df\n",
    "#random_index = np.random.randint(len(train_df))\n",
    "random_index = 1500\n",
    "data_to_check = train_df.iloc[random_index,3]\n",
    "\n",
    "#make bow frpm data_to_check\n",
    "bow = dictionary.doc2bow(data_to_check)\n",
    "#print(random_index)"
   ]
  },
  {
   "cell_type": "code",
   "execution_count": 71,
   "metadata": {
    "scrolled": false
   },
   "outputs": [
    {
     "name": "stdout",
     "output_type": "stream",
     "text": [
      "Projektbeschreibung                                            Melden Sie sich jetzt an und bewerben Sie sich direkt!               Jetzt bewerben                                              Für unseren Endkunden in Stuttgart suchen wir folgende freiberufliche Unterstützung: Projekt/Rolle:\t First Level Support (m/w) Einsatzort: \tRegion München Start:\t\t Dauer: \t\t3 Monate Aufgabenbereich: • Allgemeiner First Level Support (nicht nur Call und Dispatch!) • Hauptsächlich Windows Probleme • Proxys in die Internet Einstellungen eintragen • Berechtigungen neu setzen (Berechtigungsgruppen müssen erlernt werden) • Passwort zurücksetzen • Betreuung eigenen Print und File Server • Probleme Exchange und AD werden weitergeleitet an 2nd Level • Bei generellen / größeren Problemen 2nd Level informieren Sollte ich Ihr Interesse geweckt haben, freue ich mich auf Ihre Rückmeldung! Freundliche Grüße aus Köln i.A. Anton Baumann Recruitment-Professional Synergie-Effekt GmbH An der Münze 1 50668 Köln Tel.:  +49 (0) Fax:  +49 (0) Mobile: +49 (0) Mail:  www.synergie.koeln                                                                                 Melden Sie sich jetzt an und bewerben Sie sich direkt!               Jetzt bewerben\n"
     ]
    }
   ],
   "source": [
    "#get description of project with index 1212\n",
    "print(train_df.iloc[random_index,2])"
   ]
  },
  {
   "cell_type": "code",
   "execution_count": 72,
   "metadata": {},
   "outputs": [
    {
     "data": {
      "text/plain": [
       "array([3.0222480e-04, 3.0222480e-04, 3.0222480e-04, 3.0222480e-04,\n",
       "       3.3334196e-01, 3.8149831e-01, 4.5540832e-02, 3.0222480e-04,\n",
       "       2.3780550e-01, 3.0222480e-04], dtype=float32)"
      ]
     },
     "execution_count": 72,
     "metadata": {},
     "output_type": "execute_result"
    }
   ],
   "source": [
    "# get the topic contributions for the document chosen above\n",
    "doc_distribution = np.array([topic[1] for topic in lda.get_document_topics(bow=bow)])\n",
    "doc_distribution"
   ]
  },
  {
   "cell_type": "code",
   "execution_count": 269,
   "metadata": {},
   "outputs": [
    {
     "data": {
      "text/plain": [
       "array([5, 4, 8])"
      ]
     },
     "execution_count": 269,
     "metadata": {},
     "output_type": "execute_result"
    }
   ],
   "source": [
    "np.argsort(-doc_distribution)[:3]"
   ]
  },
  {
   "cell_type": "code",
   "execution_count": 241,
   "metadata": {},
   "outputs": [
    {
     "data": {
      "text/plain": [
       "10"
      ]
     },
     "execution_count": 241,
     "metadata": {},
     "output_type": "execute_result"
    }
   ],
   "source": [
    "len(doc_distribution)"
   ]
  },
  {
   "cell_type": "code",
   "execution_count": 85,
   "metadata": {},
   "outputs": [],
   "source": [
    "# bar plot of topic distribution for this document\n",
    "def plot_topic_dist(doc_distr, index):\n",
    "    \"\"\"\n",
    "    This function plots the topic distrubtion for a given document\n",
    "    It takes two parameters\n",
    "    (1) doc_distr = type: list of floats, list of topic probability distribution in a document\n",
    "    (2) index = type: int, index number of document to plot\n",
    "    We also do 2 passes of the data since this is a small dataset, so we want the distributions to stabilize\n",
    "    \"\"\"\n",
    "    fig, ax = plt.subplots(figsize=(12,8));\n",
    "    # the histogram of the data\n",
    "    patches = ax.bar(np.arange(len(doc_distr)), doc_distr)\n",
    "    ax.set_xlabel('Topic ID', fontsize=15)\n",
    "    ax.set_ylabel('Topic Probability Score', fontsize=15)\n",
    "    ax.set_title(\"Topic Distribution for Project in Index \" + str(index), fontsize=20)\n",
    "    ax.set_xticks(range(0,10))\n",
    "    x_ticks_labels = ['ERP/SAP','SW_Dev/Web','IT_App_Mgr/SW_Dev_Arch','SW_Dev/DevOps','Sys_Admin/Support', 'IT_Admin_SW/Oracle/Ops','Data/Ops','IT_Process_Mgr/Consultant', 'MS_DEV/Admin','Business_Analyst/Consulting']\n",
    "    ax.set_xticklabels(x_ticks_labels, rotation='vertical', fontsize=8)\n",
    "    fig.tight_layout()\n",
    "    return plt.show()"
   ]
  },
  {
   "cell_type": "code",
   "execution_count": 86,
   "metadata": {},
   "outputs": [
    {
     "data": {
      "image/png": "[encoded data removed]",
      "text/plain": [
       "<Figure size 864x576 with 1 Axes>"
      ]
     },
     "metadata": {},
     "output_type": "display_data"
    }
   ],
   "source": [
    "plot_topic_dist(doc_distribution, random_index)"
   ]
  },
  {
   "cell_type": "code",
   "execution_count": 553,
   "metadata": {},
   "outputs": [],
   "source": [
    "# print the top 5 contributing topics and their words\n",
    "#for i in doc_distribution.argsort()[-5:][::-1]:\n",
    "    #print(i, lda.show_topic(topicid=i, topn=10), \"\\n\")"
   ]
  },
  {
   "cell_type": "code",
   "execution_count": 253,
   "metadata": {},
   "outputs": [],
   "source": [
    "lda_model =  models.LdaModel.load('lda.model')"
   ]
  },
  {
   "cell_type": "code",
   "execution_count": 254,
   "metadata": {},
   "outputs": [
    {
     "data": {
      "text/plain": [
       "[(0,\n",
       "  '0.257*\"sap\" + 0.034*\"abap\" + 0.027*\"berat\" + 0.020*\"fi\" + 0.018*\"hana\" + 0.015*\"mm\" + 0.014*\"sd\" + 0.014*\"bw\" + 0.013*\"consultant\" + 0.012*\"pp\"'),\n",
       " (1,\n",
       "  '0.063*\"java\" + 0.043*\"entwickl\" + 0.028*\"javascript\" + 0.022*\"frontend\" + 0.019*\"spring\" + 0.019*\"html\" + 0.019*\"angular\" + 0.017*\"backend\" + 0.016*\"net\" + 0.015*\"css\"'),\n",
       " (2,\n",
       "  '0.018*\"untersttz\" + 0.015*\"scrum\" + 0.015*\"gren\" + 0.014*\"agil\" + 0.011*\"jira\" + 0.010*\"entwickl\" + 0.010*\"frontend\" + 0.009*\"april\" + 0.009*\"bercksicht\" + 0.009*\"java\"'),\n",
       " (3,\n",
       "  '0.063*\"java\" + 0.033*\"devops\" + 0.033*\"dock\" + 0.028*\"aws\" + 0.026*\"cloud\" + 0.020*\"spring\" + 0.018*\"jenkin\" + 0.018*\"kubernet\" + 0.017*\"data\" + 0.016*\"mav\"'),\n",
       " (4,\n",
       "  '0.119*\"windows\" + 0.063*\"serv\" + 0.048*\"support\" + 0.043*\"administration\" + 0.034*\"cisco\" + 0.024*\"konfiguration\" + 0.023*\"microsoft\" + 0.022*\"netzwerk\" + 0.021*\"linux\" + 0.020*\"citrix\"'),\n",
       " (5,\n",
       "  '0.037*\"oracl\" + 0.032*\"mobil\" + 0.031*\"support\" + 0.029*\"hcm\" + 0.021*\"installation\" + 0.019*\"tex\" + 0.017*\"ios\" + 0.016*\"android\" + 0.013*\"berat\" + 0.012*\"gewnscht\"'),\n",
       " (6,\n",
       "  '0.027*\"business\" + 0.026*\"data\" + 0.025*\"project\" + 0.023*\"development\" + 0.016*\"technical\" + 0.016*\"softwar\" + 0.016*\"support\" + 0.016*\"application\" + 0.014*\"requirement\" + 0.014*\"develop\"'),\n",
       " (7,\n",
       "  '0.027*\"technisch\" + 0.020*\"dokumentation\" + 0.016*\"architektur\" + 0.015*\"gren\" + 0.012*\"untersttz\" + 0.010*\"implementier\" + 0.010*\"applikation\" + 0.010*\"prsentation\" + 0.009*\"dienstleist\" + 0.008*\"analys\"'),\n",
       " (8,\n",
       "  '0.027*\"ms\" + 0.016*\"sharepoint\" + 0.016*\"projektleit\" + 0.015*\"crm\" + 0.013*\"powershell\" + 0.012*\"itil\" + 0.012*\"koordination\" + 0.011*\"serv\" + 0.011*\"softwareentwickl\" + 0.011*\"administrator\"'),\n",
       " (9,\n",
       "  '0.020*\"analys\" + 0.017*\"test\" + 0.016*\"business\" + 0.015*\"sql\" + 0.014*\"untersttz\" + 0.014*\"dokumentation\" + 0.013*\"dynamics\" + 0.012*\"technisch\" + 0.011*\"fhigkeit\" + 0.011*\"konzeption\"')]"
      ]
     },
     "execution_count": 254,
     "metadata": {},
     "output_type": "execute_result"
    }
   ],
   "source": [
    "lda_model.show_topics()"
   ]
  },
  {
   "cell_type": "code",
   "execution_count": 270,
   "metadata": {},
   "outputs": [],
   "source": [
    "te = \"\"\"\n",
    "   Hallo iOS Kollegen,   wir sind ein Team aus Entwicklern, das Software-Dienstleistungen im Bereich Web&Mobile anbietet. Unsere Kunden reichen von kleinen Start Ups bis zu den großen Konzernen. Hauptsächlich sind wir in der Automobilbranche unterwegs und dort ist auch diese Anfrage angesiedelt.   Worum geht es?  Bei einem Automobilhersteller in München möchten wir unser Team um zwei iOS-Entwickler erweitern Es geht um Apps im Umfeld von Connected Car.   Was solltest du mitbringen?  Die wichtigen Buzzwords sind: iOS, Swift, MVVM / VIPER, fastlane, Jenkins, Git, Carthage, Cocoapods, Jira, Confluence, Scrum, Kanban.   Wie sehen die Rahmenbedingungen aus?  Einsatzort: München  Auslastung: bevorzugt Vollzeit (min. 4 Tage pro Woche)  Remoteanteil: 2-3 Tage sind nach der Einarbeitung möglich!!  Start: Es kann gerne direkt morgen los gehen. Der Starttermin richtet sich nach dir, sollte aber in den nächsten 1-2 Monaten liegen.  Dauer: Aktuell werden immer gleich 6 Monate am Stück beauftragt. Das Projekt läuft schon eini anbietet. Unsere Kunden reichen von kleinen Start Ups bis zu den großen Konzernen. Hauptsächlich sind wir in der Automobilbranche unterwegs und dort ist auch diese Anfrage angesiedelt.   Worum geht es?  Bei einem Automobilhersteller in München möchten wir unser Team um zwei iOS-Entwickler erweitern Es geht um Apps im Umfeld von Connected Car.   Was solltest du mitbringen?  Die wichtigen Buzzwords sind: iOS, Swift, MVVM / VIPER, fastlane, Jenkins, Git, Carthage, Cocoapods, Jira, Confluence, Scrum, Kanban.   Wie sehen die Rahmenbedingungen aus?  Einsatzort: München  Auslastung: bevorzugt Vollzeit (min. 4 Tage pro Woche)  Remoteanteil: 2-3 Tage sind nach der Einarbeitung möglich!!  Start: Es kann gerne direkt morgen los gehen. Der Starttermin richtet sich nach dir, sollte aber in den nächsten 1-2 Monaten liegen.  Dauer: Aktuell werden immer gleich 6 Monate am Stück beauftragt. Das Projekt läuft schon eini\n",
    "\"\"\""
   ]
  },
  {
   "cell_type": "code",
   "execution_count": 262,
   "metadata": {},
   "outputs": [
    {
     "ename": "TypeError",
     "evalue": "doc2bow expects an array of unicode tokens on input, not a single string",
     "output_type": "error",
     "traceback": [
      "\u001b[0;31m---------------------------------------------------------------------------\u001b[0m",
      "\u001b[0;31mTypeError\u001b[0m                                 Traceback (most recent call last)",
      "\u001b[0;32m<ipython-input-262-b0079256c9f7>\u001b[0m in \u001b[0;36m<module>\u001b[0;34m\u001b[0m\n\u001b[0;32m----> 1\u001b[0;31m \u001b[0mbow2\u001b[0m \u001b[0;34m=\u001b[0m \u001b[0mdictionary\u001b[0m\u001b[0;34m.\u001b[0m\u001b[0mdoc2bow\u001b[0m\u001b[0;34m(\u001b[0m\u001b[0mte\u001b[0m\u001b[0;34m)\u001b[0m\u001b[0;34m\u001b[0m\u001b[0;34m\u001b[0m\u001b[0m\n\u001b[0m",
      "\u001b[0;32m/opt/anaconda3/lib/python3.7/site-packages/gensim/corpora/dictionary.py\u001b[0m in \u001b[0;36mdoc2bow\u001b[0;34m(self, document, allow_update, return_missing)\u001b[0m\n\u001b[1;32m    243\u001b[0m         \"\"\"\n\u001b[1;32m    244\u001b[0m         \u001b[0;32mif\u001b[0m \u001b[0misinstance\u001b[0m\u001b[0;34m(\u001b[0m\u001b[0mdocument\u001b[0m\u001b[0;34m,\u001b[0m \u001b[0mstring_types\u001b[0m\u001b[0;34m)\u001b[0m\u001b[0;34m:\u001b[0m\u001b[0;34m\u001b[0m\u001b[0;34m\u001b[0m\u001b[0m\n\u001b[0;32m--> 245\u001b[0;31m             \u001b[0;32mraise\u001b[0m \u001b[0mTypeError\u001b[0m\u001b[0;34m(\u001b[0m\u001b[0;34m\"doc2bow expects an array of unicode tokens on input, not a single string\"\u001b[0m\u001b[0;34m)\u001b[0m\u001b[0;34m\u001b[0m\u001b[0;34m\u001b[0m\u001b[0m\n\u001b[0m\u001b[1;32m    246\u001b[0m \u001b[0;34m\u001b[0m\u001b[0m\n\u001b[1;32m    247\u001b[0m         \u001b[0;31m# Construct (word, frequency) mapping.\u001b[0m\u001b[0;34m\u001b[0m\u001b[0;34m\u001b[0m\u001b[0;34m\u001b[0m\u001b[0m\n",
      "\u001b[0;31mTypeError\u001b[0m: doc2bow expects an array of unicode tokens on input, not a single string"
     ]
    }
   ],
   "source": [
    "bow2 = dictionary.doc2bow(te)"
   ]
  },
  {
   "cell_type": "code",
   "execution_count": 261,
   "metadata": {},
   "outputs": [
    {
     "name": "stdout",
     "output_type": "stream",
     "text": [
      "[0.1 0.1 0.1 0.1 0.1 0.1 0.1 0.1 0.1 0.1]\n"
     ]
    }
   ],
   "source": [
    "doc_distribution1 = np.array([topic[1] for topic in lda_model.get_document_topics(bow=bow2)])\n",
    "labels = np.argmax(doc_distribution1)\n",
    "print(doc_distribution1)"
   ]
  },
  {
   "cell_type": "markdown",
   "metadata": {},
   "source": [
    "# New Unseen Test Data"
   ]
  },
  {
   "cell_type": "code",
   "execution_count": 116,
   "metadata": {},
   "outputs": [],
   "source": [
    "doc_index = 21"
   ]
  },
  {
   "cell_type": "code",
   "execution_count": 117,
   "metadata": {},
   "outputs": [],
   "source": [
    "new_doc_bow = dictionary.doc2bow(test_df.iloc[doc_index,3])"
   ]
  },
  {
   "cell_type": "code",
   "execution_count": 118,
   "metadata": {},
   "outputs": [
    {
     "name": "stdout",
     "output_type": "stream",
     "text": [
      "Constaff GmbH - FT3966 -Business Analyst SAP (m/w/d)\n"
     ]
    }
   ],
   "source": [
    "print(test_df.iloc[doc_index,1])"
   ]
  },
  {
   "cell_type": "code",
   "execution_count": 119,
   "metadata": {},
   "outputs": [
    {
     "name": "stdout",
     "output_type": "stream",
     "text": [
      "Projektbeschreibung                                            Melden Sie sich jetzt an und bewerben Sie sich direkt!               Jetzt bewerben                                              Guten Tag, \r",
      "  \r",
      " für unseren Kunden im Großraum Stuttgart suchen wir einen Business Analyst SAP (m/w/d).\r",
      "  \r",
      " Aufgaben: \r",
      " • Datenanalyse von SAP Quellen\r",
      " • Quelle- Zielmapping Richtung DWH\r",
      " • Abstimmung und Koordinationsaufgaben zwischen INT, MIG und IFA \r",
      " • Hilfestellung Architekturdesign\r",
      "  \r",
      " Must Have:\r",
      " • SAP Kenntnisse (CML/BCA) \r",
      " • Bankwissen (Businessprozesse und Kenntnisse über Regulation/Gesamtbanksteuerung)\r",
      " • Projektmanagementkenntnisse in Großprojekten\r",
      " • Ausgeprägte Softskills, Teamfahigkeit, Konfliktfähigkeit und Moderationsfähigkeiten\r",
      "  \r",
      " Nice to Have:\r",
      " • Pragmatisches Denken\r",
      " • SAS-EG Skill\r",
      " • DWH Skills\r",
      " • SAP-Standardextraktoren Know-How \r",
      "  \r",
      " Start: asap\r",
      " Dauer: 9 MM++\r",
      " Ort: Großraum Stuttgart \r",
      " Projekt: #3966\r",
      " \r",
      " Haben Sie Zeit und Interesse an einem spannenden Projekt?\r",
      " Dann freuen wir uns auf Ihre Kontaktaufnahme!\r",
      " \r",
      " Florian Thome\r",
      " Recruiting Manager\r",
      " _______________________ \r",
      " Hier finden Sie unsere Projektangebote:\r",
      " Here you can find our project offers:\r",
      " https://www.constaff.com/projektangebote \r",
      " _______________________\r",
      " \r",
      " Constaff GmbH - 100%OpenBook. Ehrlich. Kompetent. Transparent.\r",
      " \r",
      " Langer Anger 3-5\r",
      " D - 69115 Heidelberg\r",
      " Tel.: \r",
      " Fax: \r",
      " E-Mail: \r",
      " www.constaff.com                                                                                 Melden Sie sich jetzt an und bewerben Sie sich direkt!               Jetzt bewerben\n"
     ]
    }
   ],
   "source": [
    "print(test_df.iloc[doc_index,2])"
   ]
  },
  {
   "cell_type": "code",
   "execution_count": 120,
   "metadata": {},
   "outputs": [],
   "source": [
    "new_doc_distr = np.array([topic[1] for topic in lda.get_document_topics(bow=new_doc_bow)])"
   ]
  },
  {
   "cell_type": "code",
   "execution_count": 121,
   "metadata": {},
   "outputs": [
    {
     "data": {
      "text/plain": [
       "array([3.8614231e-01, 3.0216895e-04, 2.6986357e-02, 3.0216895e-04,\n",
       "       3.0216895e-04, 1.2975185e-01, 8.2512960e-02, 3.0216895e-04,\n",
       "       3.0216895e-04, 3.7309566e-01], dtype=float32)"
      ]
     },
     "execution_count": 121,
     "metadata": {},
     "output_type": "execute_result"
    }
   ],
   "source": [
    "new_doc_distr"
   ]
  },
  {
   "cell_type": "code",
   "execution_count": 280,
   "metadata": {},
   "outputs": [
    {
     "data": {
      "text/plain": [
       "1.0"
      ]
     },
     "execution_count": 280,
     "metadata": {},
     "output_type": "execute_result"
    }
   ],
   "source": [
    "np.sum(new_doc_distr)"
   ]
  },
  {
   "cell_type": "code",
   "execution_count": 285,
   "metadata": {},
   "outputs": [],
   "source": [
    "def percentage(data):\n",
    "    total = np.sum(data)\n",
    "    perc_arr = np.array([(x/total)*100 for x in data])\n",
    "    return perc_arr\n",
    "        "
   ]
  },
  {
   "cell_type": "code",
   "execution_count": 290,
   "metadata": {},
   "outputs": [
    {
     "data": {
      "text/plain": [
       "0"
      ]
     },
     "execution_count": 290,
     "metadata": {},
     "output_type": "execute_result"
    }
   ],
   "source": [
    "percentage(new_doc_distr).argmax()"
   ]
  },
  {
   "cell_type": "code",
   "execution_count": 122,
   "metadata": {},
   "outputs": [
    {
     "data": {
      "image/png": "[encoded data removed]",
      "text/plain": [
       "<Figure size 864x576 with 1 Axes>"
      ]
     },
     "metadata": {},
     "output_type": "display_data"
    }
   ],
   "source": [
    "plot_topic_dist(new_doc_distr, doc_index)"
   ]
  },
  {
   "cell_type": "code",
   "execution_count": 123,
   "metadata": {},
   "outputs": [
    {
     "name": "stdout",
     "output_type": "stream",
     "text": [
      "0 [('sap', 0.2574408), ('abap', 0.034113333), ('berat', 0.027299725), ('fi', 0.01957915), ('hana', 0.017926496), ('mm', 0.015480236), ('sd', 0.014170402), ('bw', 0.0139416875), ('consultant', 0.013281571), ('pp', 0.011597025)] \n",
      "\n",
      "9 [('analys', 0.020217404), ('test', 0.016539993), ('business', 0.016052747), ('sql', 0.014643754), ('untersttz', 0.014437441), ('dokumentation', 0.01420158), ('dynamics', 0.012637164), ('technisch', 0.01158817), ('fhigkeit', 0.010902739), ('konzeption', 0.010649218)] \n",
      "\n",
      "5 [('oracl', 0.03725483), ('mobil', 0.0316945), ('support', 0.031010525), ('hcm', 0.029264012), ('installation', 0.02111873), ('tex', 0.019225743), ('ios', 0.016515732), ('android', 0.016135529), ('berat', 0.01320271), ('gewnscht', 0.012216892)] \n",
      "\n",
      "6 [('business', 0.02679307), ('data', 0.026440825), ('project', 0.024671184), ('development', 0.022986837), ('technical', 0.016004916), ('softwar', 0.015816785), ('support', 0.01577346), ('application', 0.015708894), ('requirement', 0.014066009), ('develop', 0.013784294)] \n",
      "\n",
      "2 [('untersttz', 0.01787948), ('scrum', 0.015215177), ('gren', 0.015010036), ('agil', 0.014163819), ('jira', 0.010569038), ('entwickl', 0.010216153), ('frontend', 0.009783334), ('april', 0.009464372), ('bercksicht', 0.008819838), ('java', 0.008659763)] \n",
      "\n"
     ]
    }
   ],
   "source": [
    "# print the top 5 contributing topics and their words\n",
    "for i in new_doc_distr.argsort()[-5:][::-1]:\n",
    "    print(i, lda.show_topic(topicid=i, topn=10), \"\\n\")"
   ]
  },
  {
   "cell_type": "markdown",
   "metadata": {},
   "source": [
    "# Finding similar projects"
   ]
  },
  {
   "cell_type": "code",
   "execution_count": 124,
   "metadata": {},
   "outputs": [],
   "source": [
    "#list of topics distribution in tuples among all documents\n",
    "#lda[corpus] => genism_lda bow dictionary\n",
    "all_topic_distr_list = lda[corpus]"
   ]
  },
  {
   "cell_type": "code",
   "execution_count": 125,
   "metadata": {},
   "outputs": [
    {
     "data": {
      "text/plain": [
       "array([[2.3758493e-04, 5.5455029e-01, 2.3758493e-04, 2.3758493e-04,\n",
       "        1.4340816e-01, 2.3758493e-04, 2.3758493e-04, 2.3758493e-04,\n",
       "        2.3758493e-04, 3.0037844e-01],\n",
       "       [1.0160409e-01, 3.7153450e-01, 3.0467334e-01, 1.8489028e-04,\n",
       "        1.8489028e-04, 1.8489028e-04, 1.8489028e-04, 1.8489028e-04,\n",
       "        1.8489028e-04, 2.2107874e-01],\n",
       "       [1.0860539e-04, 3.1276412e-02, 1.0860539e-04, 1.0860539e-04,\n",
       "        3.6310315e-01, 1.0860539e-04, 1.0860539e-04, 1.0860539e-04,\n",
       "        6.0486025e-01, 1.0860539e-04]], dtype=float32)"
      ]
     },
     "execution_count": 125,
     "metadata": {},
     "output_type": "execute_result"
    }
   ],
   "source": [
    "#get each topic probablity distr and convert to an array\n",
    "#simply a list each documents topic distribution\n",
    "corpus_topic_dist= np.array([[topic[1] for topic in docs] for docs in all_topic_distr_list])\n",
    "corpus_topic_dist[:3]"
   ]
  },
  {
   "cell_type": "code",
   "execution_count": 145,
   "metadata": {},
   "outputs": [],
   "source": [
    "#Jensen Shannon Distance calculates the statistical similarity between two documents. \n",
    "#The smaller the value , the closer or similare both documents are\n",
    "#Its symmetric (associative) meaning the similarity value btw A & B is the same btw B & A\n",
    "\n",
    "def js_similarity_score(doc_distr_query, corpus_distr):\n",
    "    \"\"\"\n",
    "    This function finds the similarity score of a given doc accross all docs in the corpus\n",
    "    It takes two parameters: doc_distr_query and corpus_distr\n",
    "    (1) doc_distr_query is the input document query which is an LDA topic distr: list of floats (series)\n",
    "            [1.9573441e-04,...., 2.7876711e-01]\n",
    "    (2) corpus_dist is the target corpus containing the LDA topic distr of all documents in the corpus: lists of lists of floats (vector)\n",
    "            [[1.9573441e-04, 2.7876711e-01, 1.9573441e-04]....[1.9573441e-04,...., 2.7876711e-01]]\n",
    "    It returns an array containing the similarity score of each document in the corpus_dist to the input doc_distr_query\n",
    "    The output looks like this: [0.3445, 0.35353, 0.5445,.....]\n",
    "    \n",
    "    \"\"\"\n",
    "    input_doc = doc_distr_query[None,:].T #transpose input\n",
    "    corpus_doc = corpus_distr.T # transpose corpus\n",
    "    m = 0.5*(input_doc + corpus_doc)\n",
    "    sim_score = np.sqrt(0.5*(entropy(input_doc,m) + entropy(corpus_doc,m)))\n",
    "    return sim_score"
   ]
  },
  {
   "cell_type": "code",
   "execution_count": 146,
   "metadata": {},
   "outputs": [],
   "source": [
    "def find_top_similar_docs(doc_distr_query, corpus_distr,n=10):\n",
    "    \"\"\"\n",
    "    This function returns the index lists of the top n most similar documents using the js_similarity_score\n",
    "    n can be changed to any amount desired, default is 10\n",
    "    \"\"\"\n",
    "    sim_score = js_similarity_score(doc_distr_query, corpus_distr)\n",
    "    similar_docs_index_array = sim_score.argsort()[:n] #argsort sorts from lower to higher\n",
    "    return similar_docs_index_array"
   ]
  },
  {
   "cell_type": "code",
   "execution_count": 164,
   "metadata": {},
   "outputs": [
    {
     "name": "stdout",
     "output_type": "stream",
     "text": [
      "18\n"
     ]
    }
   ],
   "source": [
    "# select and article at random from test_df\n",
    "random_article_index = np.random.randint(len(test_df))\n",
    "print(random_article_index)"
   ]
  },
  {
   "cell_type": "code",
   "execution_count": 303,
   "metadata": {},
   "outputs": [],
   "source": [
    "with open('traindata.sav', 'wb') as output:\n",
    "    pickle.dump(train_df, output)"
   ]
  },
  {
   "cell_type": "code",
   "execution_count": 321,
   "metadata": {},
   "outputs": [
    {
     "data": {
      "text/html": [
       "<div>\n",
       "<style scoped>\n",
       "    .dataframe tbody tr th:only-of-type {\n",
       "        vertical-align: middle;\n",
       "    }\n",
       "\n",
       "    .dataframe tbody tr th {\n",
       "        vertical-align: top;\n",
       "    }\n",
       "\n",
       "    .dataframe thead th {\n",
       "        text-align: right;\n",
       "    }\n",
       "</style>\n",
       "<table border=\"1\" class=\"dataframe\">\n",
       "  <thead>\n",
       "    <tr style=\"text-align: right;\">\n",
       "      <th></th>\n",
       "      <th>title</th>\n",
       "      <th>description</th>\n",
       "    </tr>\n",
       "  </thead>\n",
       "  <tbody>\n",
       "    <tr>\n",
       "      <th>0</th>\n",
       "      <td>IT Sicherheit Consultant (m/w/d)</td>\n",
       "      <td>Projektbeschreibung                           ...</td>\n",
       "    </tr>\n",
       "    <tr>\n",
       "      <th>1</th>\n",
       "      <td>Ihre Unterstützung: 1050 SAP Hybris Entwickler</td>\n",
       "      <td>Projektbeschreibung                           ...</td>\n",
       "    </tr>\n",
       "    <tr>\n",
       "      <th>2</th>\n",
       "      <td>Systemarchitekt Linux (m/w/d) - Hamburg - 4855...</td>\n",
       "      <td>Projektbeschreibung                           ...</td>\n",
       "    </tr>\n",
       "    <tr>\n",
       "      <th>3</th>\n",
       "      <td>Windows/ Office Migration m/w/d</td>\n",
       "      <td>Projektbeschreibung                           ...</td>\n",
       "    </tr>\n",
       "    <tr>\n",
       "      <th>4</th>\n",
       "      <td>Software Architekt (m/w/d) Automotive in ANÜ, ...</td>\n",
       "      <td>Projektbeschreibung                           ...</td>\n",
       "    </tr>\n",
       "  </tbody>\n",
       "</table>\n",
       "</div>"
      ],
      "text/plain": [
       "                                               title  \\\n",
       "0                   IT Sicherheit Consultant (m/w/d)   \n",
       "1     Ihre Unterstützung: 1050 SAP Hybris Entwickler   \n",
       "2  Systemarchitekt Linux (m/w/d) - Hamburg - 4855...   \n",
       "3                    Windows/ Office Migration m/w/d   \n",
       "4  Software Architekt (m/w/d) Automotive in ANÜ, ...   \n",
       "\n",
       "                                         description  \n",
       "0  Projektbeschreibung                           ...  \n",
       "1  Projektbeschreibung                           ...  \n",
       "2  Projektbeschreibung                           ...  \n",
       "3  Projektbeschreibung                           ...  \n",
       "4  Projektbeschreibung                           ...  "
      ]
     },
     "execution_count": 321,
     "metadata": {},
     "output_type": "execute_result"
    }
   ],
   "source": [
    "appdata = train_df[['title', 'description']]\n",
    "appdata.head()"
   ]
  },
  {
   "cell_type": "code",
   "execution_count": 323,
   "metadata": {},
   "outputs": [],
   "source": [
    "with open('APP_DATA.sav', 'wb') as output:\n",
    "    pickle.dump(appdata, output)"
   ]
  },
  {
   "cell_type": "code",
   "execution_count": 307,
   "metadata": {},
   "outputs": [],
   "source": [
    "def recommend(text):\n",
    "    clean = all_processing(text)\n",
    "    text_bow = dictionary.doc2bow(clean)\n",
    "    new_doc_distribution = np.array([tup[1] for tup in lda.get_document_topics(bow=text_bow)])\n",
    "    corpus_topic_dist= np.array([[topic[1] for topic in docs] for docs in all_topic_distr_list])\n",
    "    similar_docs_index = find_top_similar_docs(new_doc_distribution, corpus_topic_dist)\n",
    "    top_sim_doc = train_df[train_df.index.isin(similar_docs_index)]\n",
    "    PROJECT_DICT = top_sim_doc.to_dict() \n",
    "    return PROJECT_DICT\n",
    "    "
   ]
  },
  {
   "cell_type": "code",
   "execution_count": 308,
   "metadata": {},
   "outputs": [],
   "source": [
    "new_proj = \"\"\"\n",
    "Für unseren Kunden aus dem Bankenumfeld in Frankfurt am Main sind wir aktuell auf der Suche nach einem Full-Stack Java Entwickler (m/w/d) im Bereich CI/CD . \n",
    "\n",
    "Falls Sie die folgende Projektbeschreibung interessiert und Sie die Anforderungen ausreichend abdecken, bitten wir Sie um kurzfristige Rückmeldung unter Angabe Ihrer Kontaktdaten, Ihrer Konditionen für den genannten Einsatzort (Stunden- oder Tagessatz) sowie Ihres Profils (vorzugsweise in Word).\n",
    "Gerne können Sie uns dieses per E-Mail an schicken. Da der E-Mailversand bekanntermaßen nicht zu den sichersten Datenübertragungen zählt, möchten wir Ihnen zusätzlich eine sichere und verschlüsselte Upload-Möglichkeit für Ihre Bewerbungsunterlagen anbieten. Nutzen Sie dazu die Schaltfläche „Bewerben“ in unserem Projektportal unter https://mindheads.de.\n",
    "\n",
    "Projektstandort: Frankfurt am Main\n",
    "Dauer: \n",
    "Abgabefrist beim Kunden: zeitnah\n",
    "\n",
    "Kurzbeschreibung Projekt:\n",
    " \n",
    "Als Software Engineer / Java Fullstack Developer (m/w/d) im CI-CD & Agile QA-Cluster sind Sie an der Einrichtung, Entwicklung und Verwaltung von Softwareprozessen innerhalb der Systeme Continuous Delivery und Continuous Integration des Kunden beteiligt. Sie unterstützen die Einführung, Wartung und Betreuung neuer und bestehender Produkte im Software-Lebenszyklus. Die Zusammenarbeit basiert auf agilen Methoden und besteht aus einem Team von Business Analysten, Softwarearchitekten, Scrum Mastern und anderen Spezialisten mit unterschiedlichem Hintergrund.\n",
    "\n",
    "Wichtig: Der Kandidat muss fest angestellt sein! \n",
    " \n",
    "Aufgaben:\n",
    "Weiterentwicklung des CI/CD Clusters \n",
    "Übertragung von Konzepten, Designs und Architekturmodelle in die Micro-Service-Architektur \n",
    "Design und Implementierung von REST-APIs\n",
    "Design und Implementierung von Web-Frontends \n",
    "\n",
    "Anforderungen:\n",
    "Fundierte Erfahrung in der Full-Stack Java / Java EE-Entwicklung mit Schwerpunkt auf Micro Service Architektur,\n",
    "Fundierte Erfahrung in agilen Arbeitsmethoden.\n",
    "Expertise in Web-Frontends z.B. React, Angular\n",
    "Umfangreiche Erfahrung mit Spring Boot\n",
    "Umfangreiche Erfahrung mit RDBMS (Oracle) und SQL\n",
    "Sehr gute Kenntnisse von SSL / TLS (Kerberos, SAML, OAuth, etc.), HTTP-Protokollen, UML und Design Patterns\n",
    "Sehr gute Kenntnisse in Wort und Schrift Deutsch und Englisch\n",
    "Erfahrung in der Cloud-Entwicklung (Openshift) wünschenswert\n",
    "\n",
    " \n",
    "\n",
    "Für Fragen, Anregungen oder Wünsche stehen wir Ihnen gern zur Verfügung. Aktuelle Informationen über uns sowie weitere Vakanzen finden Sie auch auf unserer Homepage: https://mindheads.de\n",
    "\"\"\""
   ]
  },
  {
   "cell_type": "code",
   "execution_count": 310,
   "metadata": {},
   "outputs": [],
   "source": [
    "pr = recommend(new_proj)"
   ]
  },
  {
   "cell_type": "code",
   "execution_count": 320,
   "metadata": {},
   "outputs": [
    {
     "ename": "AttributeError",
     "evalue": "'dict' object has no attribute 'title'",
     "output_type": "error",
     "traceback": [
      "\u001b[0;31m---------------------------------------------------------------------------\u001b[0m",
      "\u001b[0;31mAttributeError\u001b[0m                            Traceback (most recent call last)",
      "\u001b[0;32m<ipython-input-320-9460419e0c87>\u001b[0m in \u001b[0;36m<module>\u001b[0;34m\u001b[0m\n\u001b[0;32m----> 1\u001b[0;31m \u001b[0mpr\u001b[0m\u001b[0;34m.\u001b[0m\u001b[0mtitle\u001b[0m\u001b[0;34m[\u001b[0m\u001b[0;36m595\u001b[0m\u001b[0;34m]\u001b[0m\u001b[0;34m\u001b[0m\u001b[0;34m\u001b[0m\u001b[0m\n\u001b[0m",
      "\u001b[0;31mAttributeError\u001b[0m: 'dict' object has no attribute 'title'"
     ]
    }
   ],
   "source": [
    "pr.title[595]"
   ]
  },
  {
   "cell_type": "code",
   "execution_count": null,
   "metadata": {},
   "outputs": [],
   "source": [
    "PROJECT_DICT = dict(zip(train_df['title'], train_df['description']))\n",
    "PROJECT_DICT"
   ]
  },
  {
   "cell_type": "code",
   "execution_count": 165,
   "metadata": {},
   "outputs": [],
   "source": [
    "new_bow = dictionary.doc2bow(test_df.iloc[random_article_index,3])\n",
    "new_doc_distribution = np.array([tup[1] for tup in lda.get_document_topics(bow=new_bow)])"
   ]
  },
  {
   "cell_type": "code",
   "execution_count": 218,
   "metadata": {},
   "outputs": [],
   "source": [
    "a = \"\""
   ]
  },
  {
   "cell_type": "code",
   "execution_count": 221,
   "metadata": {},
   "outputs": [],
   "source": [
    "new_doc_distribution = np.array([tup[1] for tup in lda.get_document_topics(bow=b)])"
   ]
  },
  {
   "cell_type": "code",
   "execution_count": 222,
   "metadata": {},
   "outputs": [],
   "source": [
    "# this is surprisingly fast\n",
    "similar_docs_index = find_top_similar_docs(new_doc_distribution, corpus_topic_dist)"
   ]
  },
  {
   "cell_type": "code",
   "execution_count": 223,
   "metadata": {},
   "outputs": [
    {
     "data": {
      "text/plain": [
       "array([3839,  976, 1076, 1642, 3007,  274,  349, 3546, 1856, 2956])"
      ]
     },
     "execution_count": 223,
     "metadata": {},
     "output_type": "execute_result"
    }
   ],
   "source": [
    "similar_docs_index"
   ]
  },
  {
   "cell_type": "code",
   "execution_count": 225,
   "metadata": {},
   "outputs": [
    {
     "data": {
      "text/plain": [
       "274     Ref.Nr: 224711 - Entwickler (m/w/d) für Automa...\n",
       "349     Projekt: Java Entwicklung in einer Cloud Umgebung\n",
       "976             Testautomatisierer mit SQL Know-How (m/w)\n",
       "1076                                        AWS Developer\n",
       "1642       Data Management Expert / Data Engineer (m/w/d)\n",
       "1856    Embedded Softwareentwickler C/C++ (m/w/d) im L...\n",
       "2956    Data Engineer (m/w/d) im Dev/Ops BI Team für E...\n",
       "3007    Business Analyst in der Wertpapierabwicklung f...\n",
       "3546              DevOps BI Unterstützung (m/w/d) gesucht\n",
       "3839         Data Management Expert / Data Engineer (m/w)\n",
       "Name: title, dtype: object"
      ]
     },
     "execution_count": 225,
     "metadata": {},
     "output_type": "execute_result"
    }
   ],
   "source": [
    "top_sim_docs = train_df[train_df.index.isin(similar_docs_index)]\n",
    "top_sim_docs['title']"
   ]
  },
  {
   "cell_type": "code",
   "execution_count": 278,
   "metadata": {},
   "outputs": [],
   "source": [
    "def predict_bereich(text, lda_model):\n",
    "    clean = all_processing(text)\n",
    "    text_bow = dictionary.doc2bow(clean)\n",
    "    topic_distr_array = np.array([topic[1] for topic in lda_model.get_document_topics(bow=text_bow)])\n",
    "    plot_topic_dist(topic_distr_array, 1)\n",
    "    #return topic_distr_array\n",
    "    for i in topic_distr_array.argsort()[-5:][::-1]:\n",
    "        print(i, lda_model.show_topic(topicid=i, topn=10), \"\\n\")\n",
    "    return topic_distr_array, clean, text_bow\n",
    "    "
   ]
  },
  {
   "cell_type": "code",
   "execution_count": 279,
   "metadata": {},
   "outputs": [
    {
     "data": {
      "image/png": "[encoded data removed]",
      "text/plain": [
       "<Figure size 864x576 with 1 Axes>"
      ]
     },
     "metadata": {},
     "output_type": "display_data"
    },
    {
     "name": "stdout",
     "output_type": "stream",
     "text": [
      "1 [('java', 0.06324196), ('entwickl', 0.043169603), ('javascript', 0.028309654), ('frontend', 0.02160126), ('spring', 0.01886364), ('html', 0.018796254), ('angular', 0.018596003), ('backend', 0.01668937), ('net', 0.016409265), ('css', 0.014961284)] \n",
      "\n",
      "2 [('untersttz', 0.01787948), ('scrum', 0.015215177), ('gren', 0.015010036), ('agil', 0.014163819), ('jira', 0.010569038), ('entwickl', 0.010216153), ('frontend', 0.009783334), ('april', 0.009464372), ('bercksicht', 0.008819838), ('java', 0.008659763)] \n",
      "\n",
      "0 [('sap', 0.2574408), ('abap', 0.034113333), ('berat', 0.027299725), ('fi', 0.01957915), ('hana', 0.017926496), ('mm', 0.015480236), ('sd', 0.014170402), ('bw', 0.0139416875), ('consultant', 0.013281571), ('pp', 0.011597025)] \n",
      "\n",
      "5 [('oracl', 0.03725483), ('mobil', 0.0316945), ('support', 0.031010525), ('hcm', 0.029264012), ('installation', 0.02111873), ('tex', 0.019225743), ('ios', 0.016515732), ('android', 0.016135529), ('berat', 0.01320271), ('gewnscht', 0.012216892)] \n",
      "\n",
      "3 [('java', 0.06309049), ('devops', 0.033286087), ('dock', 0.032970358), ('aws', 0.028050672), ('cloud', 0.025543053), ('spring', 0.01980795), ('jenkin', 0.01810368), ('kubernet', 0.0176177), ('data', 0.017029492), ('mav', 0.016319295)] \n",
      "\n"
     ]
    }
   ],
   "source": [
    "t, c, b = predict_bereich(te, lda_model)"
   ]
  },
  {
   "cell_type": "code",
   "execution_count": 268,
   "metadata": {},
   "outputs": [
    {
     "data": {
      "text/plain": [
       "array([1.6741897e-01, 4.4497436e-01, 2.2639994e-01, 3.9855257e-04,\n",
       "       3.9855257e-04, 1.5881538e-01, 3.9855257e-04, 3.9855257e-04,\n",
       "       3.9855257e-04, 3.9855257e-04], dtype=float32)"
      ]
     },
     "execution_count": 268,
     "metadata": {},
     "output_type": "execute_result"
    }
   ],
   "source": [
    "t"
   ]
  },
  {
   "cell_type": "code",
   "execution_count": 193,
   "metadata": {},
   "outputs": [
    {
     "data": {
      "text/plain": [
       "[(9, 1),\n",
       " (13, 1),\n",
       " (17, 6),\n",
       " (26, 1),\n",
       " (31, 1),\n",
       " (39, 2),\n",
       " (43, 2),\n",
       " (63, 1),\n",
       " (70, 3),\n",
       " (107, 1),\n",
       " (108, 1),\n",
       " (122, 1),\n",
       " (135, 3),\n",
       " (136, 1),\n",
       " (161, 1),\n",
       " (168, 1),\n",
       " (191, 2),\n",
       " (193, 1),\n",
       " (206, 1),\n",
       " (215, 1),\n",
       " (220, 1),\n",
       " (223, 1),\n",
       " (224, 1),\n",
       " (247, 5),\n",
       " (248, 2),\n",
       " (256, 1),\n",
       " (269, 2),\n",
       " (274, 1),\n",
       " (280, 1),\n",
       " (282, 2),\n",
       " (285, 1),\n",
       " (290, 1),\n",
       " (293, 1),\n",
       " (300, 1),\n",
       " (305, 1),\n",
       " (307, 1),\n",
       " (309, 1),\n",
       " (316, 2),\n",
       " (320, 3),\n",
       " (324, 1),\n",
       " (349, 2),\n",
       " (351, 1),\n",
       " (357, 1),\n",
       " (368, 1),\n",
       " (386, 1),\n",
       " (407, 1),\n",
       " (416, 2),\n",
       " (418, 1),\n",
       " (425, 1),\n",
       " (439, 1),\n",
       " (460, 1),\n",
       " (481, 2),\n",
       " (484, 1),\n",
       " (501, 1),\n",
       " (521, 1),\n",
       " (565, 1),\n",
       " (571, 1),\n",
       " (575, 2),\n",
       " (587, 1),\n",
       " (590, 1),\n",
       " (616, 1),\n",
       " (619, 1),\n",
       " (621, 2),\n",
       " (630, 1),\n",
       " (631, 1),\n",
       " (656, 1),\n",
       " (660, 1),\n",
       " (664, 1),\n",
       " (667, 1),\n",
       " (687, 1),\n",
       " (689, 3),\n",
       " (723, 5),\n",
       " (726, 1),\n",
       " (731, 1),\n",
       " (734, 1),\n",
       " (735, 1),\n",
       " (741, 1),\n",
       " (743, 1),\n",
       " (744, 1),\n",
       " (745, 1),\n",
       " (747, 1),\n",
       " (752, 1),\n",
       " (753, 1),\n",
       " (757, 2),\n",
       " (784, 1),\n",
       " (819, 1),\n",
       " (886, 1),\n",
       " (894, 1),\n",
       " (944, 2),\n",
       " (945, 1),\n",
       " (950, 1),\n",
       " (960, 1),\n",
       " (968, 1),\n",
       " (973, 2),\n",
       " (987, 1),\n",
       " (991, 1),\n",
       " (999, 1),\n",
       " (1002, 1),\n",
       " (1023, 1),\n",
       " (1042, 1),\n",
       " (1046, 1),\n",
       " (1091, 3),\n",
       " (1121, 2),\n",
       " (1133, 1),\n",
       " (1134, 1),\n",
       " (1143, 1),\n",
       " (1169, 1),\n",
       " (1188, 3),\n",
       " (1267, 1),\n",
       " (1276, 1),\n",
       " (1288, 1),\n",
       " (1320, 1),\n",
       " (1323, 1),\n",
       " (1326, 1),\n",
       " (1327, 1),\n",
       " (1330, 1),\n",
       " (1333, 1),\n",
       " (1428, 1),\n",
       " (1465, 1),\n",
       " (1555, 1),\n",
       " (1576, 1),\n",
       " (1612, 1),\n",
       " (1701, 1),\n",
       " (1728, 1),\n",
       " (1911, 1),\n",
       " (1952, 1),\n",
       " (1965, 1)]"
      ]
     },
     "execution_count": 193,
     "metadata": {},
     "output_type": "execute_result"
    }
   ],
   "source": [
    "check1 = dictionary.doc2bow(t)\n"
   ]
  },
  {
   "cell_type": "code",
   "execution_count": 179,
   "metadata": {},
   "outputs": [
    {
     "data": {
      "text/plain": [
       "['android',\n",
       " 'entwickl',\n",
       " 'ausreich',\n",
       " 'abdeck',\n",
       " 'kurzfrist',\n",
       " 'rckmeldung',\n",
       " 'kondition',\n",
       " 'stund',\n",
       " 'tagessatz',\n",
       " 'vorzugsweis',\n",
       " 'wordgern',\n",
       " 'emailversand',\n",
       " 'bekannterma',\n",
       " 'sicherst',\n",
       " 'datenbertrag',\n",
       " 'zhlt',\n",
       " 'mchten',\n",
       " 'zustzlich',\n",
       " 'sich',\n",
       " 'verschlsselt',\n",
       " 'uploadmg',\n",
       " 'anbiet',\n",
       " 'schaltflch',\n",
       " 'projektportal',\n",
       " 'projektstandort',\n",
       " 'onsitedau',\n",
       " 'volum',\n",
       " 'ptabgabefrist',\n",
       " 'durchfhr',\n",
       " 'aufwandschtz',\n",
       " 'implementier',\n",
       " 'inbetriebnahm',\n",
       " 'notwend',\n",
       " 'aufwnd',\n",
       " 'anforderungskontext',\n",
       " 'notwend',\n",
       " 'funktion',\n",
       " 'technisch',\n",
       " 'codier',\n",
       " 'erford',\n",
       " 'funktion',\n",
       " 'auftraggeb',\n",
       " 'eingesetzt',\n",
       " 'entwicklungswerkzeug',\n",
       " 'framework',\n",
       " 'bibliothek',\n",
       " 'betriebssyst',\n",
       " 'android',\n",
       " 'juniteet',\n",
       " 'untersttz',\n",
       " 'testautomatisier',\n",
       " 'jeweil',\n",
       " 'aufgabenbezug',\n",
       " 'notwend',\n",
       " 'vollstndig',\n",
       " 'dokumentation',\n",
       " 'geltend',\n",
       " 'projektspezif',\n",
       " 'werkzeug',\n",
       " 'eng',\n",
       " 'disziplin',\n",
       " 'business',\n",
       " 'user',\n",
       " 'consulting',\n",
       " 'test',\n",
       " 'beheb',\n",
       " 'fehl',\n",
       " 'testphas',\n",
       " 'applikation',\n",
       " 'entwickl',\n",
       " 'implementiert',\n",
       " 'codeteil',\n",
       " 'funktion',\n",
       " 'modul',\n",
       " 'bibliothek',\n",
       " 'vorbereit',\n",
       " 'durchfhr',\n",
       " 'dokumenti',\n",
       " 'komponentent',\n",
       " 'modult',\n",
       " 'modulgruppent',\n",
       " 'mitwirk',\n",
       " 'vorbereit',\n",
       " 'last',\n",
       " 'performancet',\n",
       " 'pfleg',\n",
       " 'wartung',\n",
       " 'entwickelt',\n",
       " 'notwend',\n",
       " 'systemdokumentation',\n",
       " 'lieferpaket',\n",
       " 'applikation',\n",
       " 'jeweil',\n",
       " 'kontext',\n",
       " 'geltend',\n",
       " 'cicd',\n",
       " 'werkzeug',\n",
       " 'regeln',\n",
       " 'einricht',\n",
       " 'pfleg',\n",
       " 'entwicklungsumgeb',\n",
       " 'platzi',\n",
       " 'entwickelt',\n",
       " 'anwend',\n",
       " 'stor',\n",
       " 'jeweil',\n",
       " 'plattform',\n",
       " 'googl',\n",
       " 'play',\n",
       " 'story',\n",
       " 'appl',\n",
       " 'stor',\n",
       " 'geltend',\n",
       " 'einhalt',\n",
       " 'vereinbart',\n",
       " 'rahmenvertrag',\n",
       " 'programmierrichtlini',\n",
       " 'library',\n",
       " 'bereich',\n",
       " 'projekthandbuch',\n",
       " 'untersttz',\n",
       " 'gat',\n",
       " 'projektkontext',\n",
       " 'untersttz',\n",
       " 'konzipiert',\n",
       " 'lsung',\n",
       " 'beteiligt',\n",
       " 'whrend',\n",
       " 'komplett',\n",
       " 'projekt',\n",
       " 'dokumentation',\n",
       " 'ergebnis',\n",
       " 'jeweil',\n",
       " 'projektkontext',\n",
       " 'genutzt',\n",
       " 'werkzeug',\n",
       " 'jeweil',\n",
       " 'projektkontext',\n",
       " 'englischanforder',\n",
       " 'praktisch',\n",
       " 'anwend',\n",
       " 'android',\n",
       " 'debugging',\n",
       " 'android',\n",
       " 'studio',\n",
       " 'berblickswiss',\n",
       " 'technolog',\n",
       " 'benachbart',\n",
       " 'gebiet',\n",
       " 'jeejsf',\n",
       " 'ios',\n",
       " 'berblickswiss',\n",
       " 'framework',\n",
       " 'cordova',\n",
       " 'xamarin',\n",
       " 'vergleichbar',\n",
       " 'webtechnologi',\n",
       " 'international',\n",
       " 'kommunikationssich',\n",
       " 'business',\n",
       " 'international',\n",
       " 'entwicklungsteam',\n",
       " 'methodenwiss',\n",
       " 'vorgehensweis',\n",
       " 'projektarbeit',\n",
       " 'vmodell',\n",
       " 'scrum',\n",
       " 'kanban',\n",
       " 'gewnscht',\n",
       " 'verstndnis',\n",
       " 'jeweil',\n",
       " 'kontext',\n",
       " 'angewandt',\n",
       " 'method',\n",
       " 'reibungslos',\n",
       " 'mitarbeit',\n",
       " 'umfangreich',\n",
       " 'konfigurationsmanagement',\n",
       " 'git',\n",
       " 'bedien',\n",
       " 'benutz',\n",
       " 'continuous',\n",
       " 'integration',\n",
       " 'continuous',\n",
       " 'delivery',\n",
       " 'cicd',\n",
       " 'pipelin',\n",
       " 'nachgewies',\n",
       " 'konzeption',\n",
       " 'dokumentation',\n",
       " 'anwend',\n",
       " 'webservic',\n",
       " 'rest',\n",
       " 'soap',\n",
       " 'verwend',\n",
       " 'json',\n",
       " 'xmlwnschenswert',\n",
       " 'cloudspezif',\n",
       " 'softwareentwickl',\n",
       " 'aws',\n",
       " 'cloud',\n",
       " 'erwnscht',\n",
       " 'testautomatisierungsframework',\n",
       " 'selenium',\n",
       " 'effizient',\n",
       " 'einbind',\n",
       " 'entwicklungsprozess',\n",
       " 'erwnscht',\n",
       " 'sicherheitsarchitektur',\n",
       " 'sicherheitsmechanism',\n",
       " 'plattform',\n",
       " 'android',\n",
       " 'erwnscht',\n",
       " 'praktisch',\n",
       " 'uxui',\n",
       " 'implementier',\n",
       " 'designvorgab',\n",
       " 'notwend',\n",
       " 'plattformspezif',\n",
       " 'erwnschtfr',\n",
       " 'anreg',\n",
       " 'wnsche',\n",
       " 'vakanz']"
      ]
     },
     "execution_count": 179,
     "metadata": {},
     "output_type": "execute_result"
    }
   ],
   "source": [
    "c"
   ]
  },
  {
   "cell_type": "code",
   "execution_count": null,
   "metadata": {},
   "outputs": [],
   "source": []
  },
  {
   "cell_type": "code",
   "execution_count": 24,
   "metadata": {
    "slideshow": {
     "slide_type": "slide"
    }
   },
   "outputs": [],
   "source": [
    "def clean_lower_tokenize(text):\n",
    "    \"\"\"\n",
    "    Function to clean, lower and tokenize texts\n",
    "    Returns a list of cleaned and tokenized text\n",
    "    \"\"\"\n",
    "    #text = re.sub(\"((\\S+)?(http(s)?)(\\S+))|((\\S+)?(www)(\\S+))|((\\S+)?(\\@)(\\S+)?)\", \" \", text)  #remove websites texts like email, https, www\n",
    "    text = re.sub(\"[^a-zA-Z ]\", \"\", text) #remove non alphbetic text\n",
    "    text = text.lower() # lower case the text\n",
    "    text = nltk.word_tokenize(text)\n",
    "    return text"
   ]
  },
  {
   "cell_type": "code",
   "execution_count": 25,
   "metadata": {
    "slideshow": {
     "slide_type": "slide"
    }
   },
   "outputs": [],
   "source": [
    "def remove_stop_words(text):\n",
    "    \"\"\"\n",
    "    Function that removes all stopwords from text\n",
    "    \"\"\"\n",
    "    return [word for word in text if word not in stopwords]"
   ]
  },
  {
   "cell_type": "code",
   "execution_count": 26,
   "metadata": {
    "slideshow": {
     "slide_type": "slide"
    }
   },
   "outputs": [],
   "source": [
    "def stem_eng_german_words(text):\n",
    "    \"\"\"\n",
    "    Function to stem words\n",
    "    \"\"\"\n",
    "    try:\n",
    "        text = [stemmer_germ.stem(word) for word in text]\n",
    "        #text = [stemmer_eng.stem(word) for word in text]\n",
    "        text = [word for word in text if len(word) > 1] \n",
    "    except IndexError:\n",
    "        pass\n",
    "    return text"
   ]
  },
  {
   "cell_type": "code",
   "execution_count": 27,
   "metadata": {
    "slideshow": {
     "slide_type": "slide"
    }
   },
   "outputs": [],
   "source": [
    "def all_processing(text):\n",
    "    \"\"\"\n",
    "    This function applies all the functions above into one\n",
    "    \"\"\"\n",
    "    return stem_eng_german_words(remove_stop_words(clean_lower_tokenize(text)))"
   ]
  }
 ],
 "metadata": {
  "kernelspec": {
   "display_name": "Python 3",
   "language": "python",
   "name": "python3"
  },
  "language_info": {
   "codemirror_mode": {
    "name": "ipython",
    "version": 3
   },
   "file_extension": ".py",
   "mimetype": "text/x-python",
   "name": "python",
   "nbconvert_exporter": "python",
   "pygments_lexer": "ipython3",
   "version": "3.7.1"
  }
 },
 "nbformat": 4,
 "nbformat_minor": 2
}
